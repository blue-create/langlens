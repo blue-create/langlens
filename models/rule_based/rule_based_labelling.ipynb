{
  "nbformat": 4,
  "nbformat_minor": 0,
  "metadata": {
    "colab": {
      "provenance": [],
      "authorship_tag": "ABX9TyOp7rgREziMtUbk8kM0GmtP",
      "include_colab_link": true
    },
    "kernelspec": {
      "name": "python3",
      "display_name": "Python 3"
    },
    "language_info": {
      "name": "python"
    }
  },
  "cells": [
    {
      "cell_type": "markdown",
      "metadata": {
        "id": "view-in-github",
        "colab_type": "text"
      },
      "source": [
        "<a href=\"https://colab.research.google.com/github/blue-create/langlens/blob/main/models/rule_based/rule_based_labelling.ipynb\" target=\"_parent\"><img src=\"https://colab.research.google.com/assets/colab-badge.svg\" alt=\"Open In Colab\"/></a>"
      ]
    },
    {
      "cell_type": "markdown",
      "source": [
        "### Imports"
      ],
      "metadata": {
        "id": "wW5IQkuI4X5t"
      }
    },
    {
      "cell_type": "code",
      "source": [
        "\n",
        "import tqdm as tqdm\n",
        "from collections import Counter\n",
        "import os\n",
        "import pandas as pd\n",
        "import re\n",
        "from ast import literal_eval\n",
        "import statistics\n",
        "import matplotlib.pyplot as plt\n",
        "import re\n",
        "import pandas as pd\n",
        "\n",
        "folder_path = \"filtered/filtered_06_15 (only kw)\""
      ],
      "metadata": {
        "id": "gsxTqExG0xhB"
      },
      "execution_count": 1,
      "outputs": []
    },
    {
      "cell_type": "markdown",
      "source": [
        "### Data"
      ],
      "metadata": {
        "id": "KAJUWCbkKtUH"
      }
    },
    {
      "cell_type": "code",
      "source": [
        "# connect with google drive\n",
        "from google.colab import drive\n",
        "drive.mount('/content/drive')"
      ],
      "metadata": {
        "colab": {
          "base_uri": "https://localhost:8080/"
        },
        "id": "3-gEE8t61TyI",
        "outputId": "634ef803-9e2b-4aab-d6c2-de8730a2700b"
      },
      "execution_count": 3,
      "outputs": [
        {
          "output_type": "stream",
          "name": "stdout",
          "text": [
            "Mounted at /content/drive\n"
          ]
        }
      ]
    },
    {
      "cell_type": "code",
      "source": [
        "# redirect the working directory of this script to the data folder\n",
        "%cd /content/drive/MyDrive/Work/Frontline/data/\n",
        "#%cd /content/drive/MyDrive/data/"
      ],
      "metadata": {
        "colab": {
          "base_uri": "https://localhost:8080/"
        },
        "id": "UG1MwJ4Y1U_h",
        "outputId": "f41495e5-e436-453e-f02b-62ad8e4e6b8e"
      },
      "execution_count": 4,
      "outputs": [
        {
          "output_type": "stream",
          "name": "stdout",
          "text": [
            "/content/drive/.shortcut-targets-by-id/1WfnZsqpG1r110J63sMbfS5TpsDOkveiV/data\n"
          ]
        }
      ]
    },
    {
      "cell_type": "code",
      "source": [
        "\n",
        "\n",
        "dfs = []\n",
        "\n",
        "# loop through files\n",
        "for filename in os.listdir(folder_path):\n",
        "    # if csv file, load and add to dfs\n",
        "    if filename.endswith(\".csv\"):\n",
        "        file_path = os.path.join(folder_path, filename)\n",
        "        # import csv with text as list object\n",
        "        df = pd.read_csv(file_path, index_col=0, converters={\"text\":literal_eval})\n",
        "        dfs.append(df)\n",
        "# combine files in df\n",
        "df_filtered = pd.concat(dfs, ignore_index=True)\n",
        ""
      ],
      "metadata": {
        "id": "zUfjoobOLBkv"
      },
      "execution_count": 5,
      "outputs": []
    },
    {
      "cell_type": "code",
      "source": [
        "df=pd.read_csv(\"filtered/filtered_06_16.csv\",converters={\"text\":literal_eval})"
      ],
      "metadata": {
        "id": "r4_Vh5skLHBQ"
      },
      "execution_count": null,
      "outputs": []
    },
    {
      "cell_type": "code",
      "source": [
        "df_test=df.iloc[:500,:]"
      ],
      "metadata": {
        "id": "vN6S9qWhOlDL"
      },
      "execution_count": 34,
      "outputs": []
    },
    {
      "cell_type": "markdown",
      "source": [
        "### 1. Sensationalism"
      ],
      "metadata": {
        "id": "3QKBwNoCLjVo"
      }
    },
    {
      "cell_type": "code",
      "source": [
        "from scripts import annotations"
      ],
      "metadata": {
        "id": "hldfHIqmQ4sT"
      },
      "execution_count": 42,
      "outputs": []
    },
    {
      "cell_type": "markdown",
      "source": [
        "Looking for \"sensationalist speech\" in previously annotated Paragraphs"
      ],
      "metadata": {
        "id": "2CFNDRIAUPnX"
      }
    },
    {
      "cell_type": "code",
      "source": [
        "ann=pd.read_csv(\"annotated/230613_all_annotations.csv\", index_col=0,converters={\"annotations\":literal_eval})\n",
        "ann.loc[:,\"annotations\"]=ann.apply(annotations.ground_truth_filter,min_coannotation=1,min_similarity=-1, similarity=\"dice\",axis=1)\n",
        "sensationalist_texts=ann[ann.annotations=={\"Sensationalist\"}][[\"text\"]]\n",
        "sensationalist_texts"
      ],
      "metadata": {
        "id": "oPXzNdj9Qlxa"
      },
      "execution_count": 45,
      "outputs": []
    },
    {
      "cell_type": "code",
      "source": [
        "sens =[\"Ehetragödie\", \"verschmähter? Liebhaber(in)?\", \"rachsüchtige Hexe\", \"Eifersuchtstat\", \"Beziehungsdramas?\", \"Rosenkrieg\",\n",
        "       ##new\n",
        "       \"Frauenschläger\",\"tödliches?m? Drama\",\"tränenerstickter? Stimme\",\"blutüberströmt\",\"tödlichen? Eskalation\"]"
      ],
      "metadata": {
        "id": "WLvrJkRKLtBb"
      },
      "execution_count": 59,
      "outputs": []
    },
    {
      "cell_type": "code",
      "source": [
        "def label_sensationalism(text):\n",
        "  for pattern in sens:\n",
        "    if len(re.findall(pattern=pattern,string=text,flags=re.IGNORECASE))>0:\n",
        "      return \"Sensationalist\"\n",
        "  return \"\""
      ],
      "metadata": {
        "id": "8mQZpptgMIm8"
      },
      "execution_count": 60,
      "outputs": []
    },
    {
      "cell_type": "code",
      "source": [
        "df_test=df_test.explode(\"text\")"
      ],
      "metadata": {
        "id": "aGrfH1yON0gv"
      },
      "execution_count": 61,
      "outputs": []
    },
    {
      "cell_type": "code",
      "source": [
        "# apply labelling to test set\n",
        "df_test[\"label\"]=df_test.text.apply(label_sensationalism)"
      ],
      "metadata": {
        "id": "C5DTn20-Ozul"
      },
      "execution_count": 62,
      "outputs": []
    },
    {
      "cell_type": "code",
      "source": [
        "df_test[df_test[\"label\"]==\"Sensationalist\"][[\"text\"]].head()"
      ],
      "metadata": {
        "colab": {
          "base_uri": "https://localhost:8080/",
          "height": 206
        },
        "id": "kURpZEGmQAhI",
        "outputId": "5c3fb399-a195-41ef-f8cf-35a559299e8c"
      },
      "execution_count": 66,
      "outputs": [
        {
          "output_type": "execute_result",
          "data": {
            "text/plain": [
              "                                                  text\n",
              "16   Wer so viel Geld für Action und Digitaleffekte...\n",
              "83   Die Darstellerin hatte keine Ahnung, was auf s...\n",
              "110  Am Sonntagmorgen kam es in Strasburg (Neubrand...\n",
              "124  Kai Schumann wurde am 28. Juli 1976 in Dresden...\n",
              "200  Nur 15 Monate hielt die Ehe. Der Rosenkrieg da..."
            ],
            "text/html": [
              "\n",
              "  <div id=\"df-fb5613dd-4150-4f92-8b29-ddf9d29f3db1\">\n",
              "    <div class=\"colab-df-container\">\n",
              "      <div>\n",
              "<style scoped>\n",
              "    .dataframe tbody tr th:only-of-type {\n",
              "        vertical-align: middle;\n",
              "    }\n",
              "\n",
              "    .dataframe tbody tr th {\n",
              "        vertical-align: top;\n",
              "    }\n",
              "\n",
              "    .dataframe thead th {\n",
              "        text-align: right;\n",
              "    }\n",
              "</style>\n",
              "<table border=\"1\" class=\"dataframe\">\n",
              "  <thead>\n",
              "    <tr style=\"text-align: right;\">\n",
              "      <th></th>\n",
              "      <th>text</th>\n",
              "    </tr>\n",
              "  </thead>\n",
              "  <tbody>\n",
              "    <tr>\n",
              "      <th>16</th>\n",
              "      <td>Wer so viel Geld für Action und Digitaleffekte...</td>\n",
              "    </tr>\n",
              "    <tr>\n",
              "      <th>83</th>\n",
              "      <td>Die Darstellerin hatte keine Ahnung, was auf s...</td>\n",
              "    </tr>\n",
              "    <tr>\n",
              "      <th>110</th>\n",
              "      <td>Am Sonntagmorgen kam es in Strasburg (Neubrand...</td>\n",
              "    </tr>\n",
              "    <tr>\n",
              "      <th>124</th>\n",
              "      <td>Kai Schumann wurde am 28. Juli 1976 in Dresden...</td>\n",
              "    </tr>\n",
              "    <tr>\n",
              "      <th>200</th>\n",
              "      <td>Nur 15 Monate hielt die Ehe. Der Rosenkrieg da...</td>\n",
              "    </tr>\n",
              "  </tbody>\n",
              "</table>\n",
              "</div>\n",
              "      <button class=\"colab-df-convert\" onclick=\"convertToInteractive('df-fb5613dd-4150-4f92-8b29-ddf9d29f3db1')\"\n",
              "              title=\"Convert this dataframe to an interactive table.\"\n",
              "              style=\"display:none;\">\n",
              "        \n",
              "  <svg xmlns=\"http://www.w3.org/2000/svg\" height=\"24px\"viewBox=\"0 0 24 24\"\n",
              "       width=\"24px\">\n",
              "    <path d=\"M0 0h24v24H0V0z\" fill=\"none\"/>\n",
              "    <path d=\"M18.56 5.44l.94 2.06.94-2.06 2.06-.94-2.06-.94-.94-2.06-.94 2.06-2.06.94zm-11 1L8.5 8.5l.94-2.06 2.06-.94-2.06-.94L8.5 2.5l-.94 2.06-2.06.94zm10 10l.94 2.06.94-2.06 2.06-.94-2.06-.94-.94-2.06-.94 2.06-2.06.94z\"/><path d=\"M17.41 7.96l-1.37-1.37c-.4-.4-.92-.59-1.43-.59-.52 0-1.04.2-1.43.59L10.3 9.45l-7.72 7.72c-.78.78-.78 2.05 0 2.83L4 21.41c.39.39.9.59 1.41.59.51 0 1.02-.2 1.41-.59l7.78-7.78 2.81-2.81c.8-.78.8-2.07 0-2.86zM5.41 20L4 18.59l7.72-7.72 1.47 1.35L5.41 20z\"/>\n",
              "  </svg>\n",
              "      </button>\n",
              "      \n",
              "  <style>\n",
              "    .colab-df-container {\n",
              "      display:flex;\n",
              "      flex-wrap:wrap;\n",
              "      gap: 12px;\n",
              "    }\n",
              "\n",
              "    .colab-df-convert {\n",
              "      background-color: #E8F0FE;\n",
              "      border: none;\n",
              "      border-radius: 50%;\n",
              "      cursor: pointer;\n",
              "      display: none;\n",
              "      fill: #1967D2;\n",
              "      height: 32px;\n",
              "      padding: 0 0 0 0;\n",
              "      width: 32px;\n",
              "    }\n",
              "\n",
              "    .colab-df-convert:hover {\n",
              "      background-color: #E2EBFA;\n",
              "      box-shadow: 0px 1px 2px rgba(60, 64, 67, 0.3), 0px 1px 3px 1px rgba(60, 64, 67, 0.15);\n",
              "      fill: #174EA6;\n",
              "    }\n",
              "\n",
              "    [theme=dark] .colab-df-convert {\n",
              "      background-color: #3B4455;\n",
              "      fill: #D2E3FC;\n",
              "    }\n",
              "\n",
              "    [theme=dark] .colab-df-convert:hover {\n",
              "      background-color: #434B5C;\n",
              "      box-shadow: 0px 1px 3px 1px rgba(0, 0, 0, 0.15);\n",
              "      filter: drop-shadow(0px 1px 2px rgba(0, 0, 0, 0.3));\n",
              "      fill: #FFFFFF;\n",
              "    }\n",
              "  </style>\n",
              "\n",
              "      <script>\n",
              "        const buttonEl =\n",
              "          document.querySelector('#df-fb5613dd-4150-4f92-8b29-ddf9d29f3db1 button.colab-df-convert');\n",
              "        buttonEl.style.display =\n",
              "          google.colab.kernel.accessAllowed ? 'block' : 'none';\n",
              "\n",
              "        async function convertToInteractive(key) {\n",
              "          const element = document.querySelector('#df-fb5613dd-4150-4f92-8b29-ddf9d29f3db1');\n",
              "          const dataTable =\n",
              "            await google.colab.kernel.invokeFunction('convertToInteractive',\n",
              "                                                     [key], {});\n",
              "          if (!dataTable) return;\n",
              "\n",
              "          const docLinkHtml = 'Like what you see? Visit the ' +\n",
              "            '<a target=\"_blank\" href=https://colab.research.google.com/notebooks/data_table.ipynb>data table notebook</a>'\n",
              "            + ' to learn more about interactive tables.';\n",
              "          element.innerHTML = '';\n",
              "          dataTable['output_type'] = 'display_data';\n",
              "          await google.colab.output.renderOutput(dataTable, element);\n",
              "          const docLink = document.createElement('div');\n",
              "          docLink.innerHTML = docLinkHtml;\n",
              "          element.appendChild(docLink);\n",
              "        }\n",
              "      </script>\n",
              "    </div>\n",
              "  </div>\n",
              "  "
            ]
          },
          "metadata": {},
          "execution_count": 66
        }
      ]
    },
    {
      "cell_type": "markdown",
      "source": [
        "### 2. Statistics"
      ],
      "metadata": {
        "id": "Oeq6Ih4qU8fJ"
      }
    },
    {
      "cell_type": "code",
      "source": [
        "stats=[\"\\d*([\\.,]\\d*)?[ ](Prozent|%)\",\"\\d+ (Fälle|Opfer|Frauen|Kinder|Personen|Betroffene|Morde|Plätze)\\W\", \"Bundeskriminalamt\",\"Kriminalstatistik\",\"statistisches Amt\",\"\\Wbka\\W\"]"
      ],
      "metadata": {
        "id": "TMG1YpPWXh2W"
      },
      "execution_count": 103,
      "outputs": []
    },
    {
      "cell_type": "code",
      "source": [
        "def label_statistics(text):\n",
        "  for pattern in stats:\n",
        "    if len(re.findall(pattern=pattern,string=text,flags=re.IGNORECASE))>0:\n",
        "      return \"Statistic\"\n",
        "  return \"\""
      ],
      "metadata": {
        "id": "Ped1USpVWcnG"
      },
      "execution_count": 67,
      "outputs": []
    },
    {
      "cell_type": "code",
      "source": [
        "# apply labelling to test set\n",
        "df_test[\"label\"]=df_test.text.apply(label_statistics)"
      ],
      "metadata": {
        "id": "O7lag9DNWgB2"
      },
      "execution_count": 104,
      "outputs": []
    },
    {
      "cell_type": "code",
      "source": [
        "df_test[df_test[\"label\"]==\"Statistic\"][[\"text\"]].head()"
      ],
      "metadata": {
        "id": "lNv7FIX9Yuc_"
      },
      "execution_count": null,
      "outputs": []
    },
    {
      "cell_type": "markdown",
      "source": [
        "### 3. Support Services"
      ],
      "metadata": {
        "id": "jvXwBUVwWghm"
      }
    },
    {
      "cell_type": "code",
      "source": [
        "support=[\"[A-Za-z0-9._%+-]+@[A-Za-z0-9.-]+\\.[A-Za-z]{2,}\",'\\(?\\d{4,5}\\)?[/\\s]*\\d{1,5}\\s*\\d{1,5}',\"(www\\.)\\S+\\.\\S+\"]"
      ],
      "metadata": {
        "id": "oso5gjMiiTC9"
      },
      "execution_count": 106,
      "outputs": []
    },
    {
      "cell_type": "code",
      "source": [
        "def label_support(text):\n",
        "  for pattern in support:\n",
        "    if len(re.findall(pattern=pattern,string=text,flags=re.IGNORECASE))>0:\n",
        "      return \"Support Service\"\n",
        "  return \"\""
      ],
      "metadata": {
        "id": "NwO83kIpidC1"
      },
      "execution_count": 107,
      "outputs": []
    },
    {
      "cell_type": "code",
      "source": [
        "# apply labelling to test set\n",
        "df_test[\"label\"]=df_test.text.apply(label_support)\n",
        "df_test[df_test[\"label\"]==\"Support Service\"][[\"text\"]].head()"
      ],
      "metadata": {
        "id": "SZzWfbuBiiIW"
      },
      "execution_count": null,
      "outputs": []
    },
    {
      "cell_type": "markdown",
      "source": [
        "### 4. Origin/ Nationality"
      ],
      "metadata": {
        "id": "Bf2dcYc5WkSB"
      }
    },
    {
      "cell_type": "code",
      "source": [
        "def label_origin(text):\n",
        "  for pattern in nationality:\n",
        "    if len(re.findall(pattern=pattern,string=text,flags=re.IGNORECASE))>0:\n",
        "      return \"Nationality\"\n",
        "  return \"\""
      ],
      "metadata": {
        "id": "yCV3RZefj-gn"
      },
      "execution_count": 117,
      "outputs": []
    },
    {
      "cell_type": "code",
      "source": [
        "nationality=[\"Afghane\", \"Afghanin\",\"Albaner\", \"Albanerin\",\"Algerier\", \"Algerierin\",\"Argentinier\", \"Argentinierin\",\"Armenier\", \"Armenierin\",\"Aserbaidschaner\", \"Aserbaidschanerin\",\"Amerikaner\", \"Amerikanerin\"]\n",
        "# apply labelling to test set\n",
        "df_test[\"label\"]=df_test.text.apply(label_origin)\n",
        "df_test[df_test[\"label\"]==\"Nationality\"][[\"text\"]].head()"
      ],
      "metadata": {
        "id": "Mmywi-fDj-gn"
      },
      "execution_count": null,
      "outputs": []
    }
  ]
}