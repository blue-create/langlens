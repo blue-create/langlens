{
  "nbformat": 4,
  "nbformat_minor": 0,
  "metadata": {
    "colab": {
      "provenance": [],
      "authorship_tag": "ABX9TyMd3t4q9DY625NWN9uIptSW"
    },
    "kernelspec": {
      "name": "python3",
      "display_name": "Python 3"
    },
    "language_info": {
      "name": "python"
    }
  },
  "cells": [
    {
      "cell_type": "markdown",
      "source": [
        "### Imports"
      ],
      "metadata": {
        "id": "wW5IQkuI4X5t"
      }
    },
    {
      "cell_type": "code",
      "source": [
        "\n",
        "import tqdm as tqdm\n",
        "from collections import Counter\n",
        "import os\n",
        "import pandas as pd\n",
        "import re\n",
        "from ast import literal_eval\n",
        "import statistics\n",
        "import matplotlib.pyplot as plt\n",
        "import re\n",
        "import pandas as pd\n",
        "\n",
        "folder_path = \"filtered/filtered_06_15 (only kw)\""
      ],
      "metadata": {
        "id": "gsxTqExG0xhB"
      },
      "execution_count": 11,
      "outputs": []
    },
    {
      "cell_type": "markdown",
      "source": [
        "### Data"
      ],
      "metadata": {
        "id": "KAJUWCbkKtUH"
      }
    },
    {
      "cell_type": "code",
      "source": [
        "# connect with google drive\n",
        "from google.colab import drive\n",
        "drive.mount('/content/drive')"
      ],
      "metadata": {
        "colab": {
          "base_uri": "https://localhost:8080/"
        },
        "id": "3-gEE8t61TyI",
        "outputId": "951718c8-a6ab-4bf8-97e8-40264c2c765c"
      },
      "execution_count": 12,
      "outputs": [
        {
          "output_type": "stream",
          "name": "stdout",
          "text": [
            "Mounted at /content/drive\n"
          ]
        }
      ]
    },
    {
      "cell_type": "code",
      "source": [
        "# redirect the working directory of this script to the data folder\n",
        "%cd /content/drive/MyDrive/Work/Frontline/data/\n",
        "#%cd /content/drive/MyDrive/data/"
      ],
      "metadata": {
        "colab": {
          "base_uri": "https://localhost:8080/"
        },
        "id": "UG1MwJ4Y1U_h",
        "outputId": "fbc975eb-7b19-412f-d51c-3377f2f0708d"
      },
      "execution_count": 13,
      "outputs": [
        {
          "output_type": "stream",
          "name": "stdout",
          "text": [
            "/content/drive/.shortcut-targets-by-id/1WfnZsqpG1r110J63sMbfS5TpsDOkveiV/data\n"
          ]
        }
      ]
    },
    {
      "cell_type": "code",
      "source": [
        "\n",
        "\n",
        "dfs = []\n",
        "\n",
        "# loop through files\n",
        "for filename in os.listdir(folder_path):\n",
        "    # if csv file, load and add to dfs\n",
        "    if filename.endswith(\".csv\"):\n",
        "        file_path = os.path.join(folder_path, filename)\n",
        "        # import csv with text as list object\n",
        "        df = pd.read_csv(file_path, index_col=0, converters={\"text\":literal_eval})\n",
        "        dfs.append(df)\n",
        "# combine files in df\n",
        "df_filtered = pd.concat(dfs, ignore_index=True)\n"
      ],
      "metadata": {
        "id": "zUfjoobOLBkv"
      },
      "execution_count": 14,
      "outputs": []
    },
    {
      "cell_type": "code",
      "source": [
        "df=pd.read_csv(\"filtered/filtered_06_16.csv\",converters={\"text\":literal_eval})"
      ],
      "metadata": {
        "id": "r4_Vh5skLHBQ"
      },
      "execution_count": 15,
      "outputs": []
    },
    {
      "cell_type": "code",
      "source": [
        "df_test=df.iloc[:5000,:]"
      ],
      "metadata": {
        "id": "vN6S9qWhOlDL"
      },
      "execution_count": 16,
      "outputs": []
    },
    {
      "cell_type": "markdown",
      "source": [
        "### 1. Sensationalism"
      ],
      "metadata": {
        "id": "3QKBwNoCLjVo"
      }
    },
    {
      "cell_type": "code",
      "source": [
        "from scripts import annotations"
      ],
      "metadata": {
        "id": "hldfHIqmQ4sT"
      },
      "execution_count": 17,
      "outputs": []
    },
    {
      "cell_type": "markdown",
      "source": [
        "Looking for \"sensationalist speech\" in previously annotated Paragraphs"
      ],
      "metadata": {
        "id": "2CFNDRIAUPnX"
      }
    },
    {
      "cell_type": "code",
      "source": [
        "ann=pd.read_csv(\"annotated/230621_all_annotationsV1.csv\", index_col=0,converters={\"annotations\":literal_eval})\n",
        "ann.loc[:,\"annotations\"]=ann.apply(annotations.ground_truth_filter,min_coannotation=1,min_similarity=-1, similarity=\"dice\",axis=1)\n",
        "sensationalist_texts=ann[ann.annotations=={\"Sensationalist\"}][[\"text\"]]\n",
        "sensationalist_texts"
      ],
      "metadata": {
        "id": "oPXzNdj9Qlxa"
      },
      "execution_count": null,
      "outputs": []
    },
    {
      "cell_type": "code",
      "source": [
        "sens =[\"Ehetragödie\",\n",
        "       \"verschmähter? Liebhaber(in)?\",\n",
        "       \"rachsüchtige Hexe\",\n",
        "       \"Eifersuchtstat\",\n",
        "       \"Beziehungsdramas?\",\n",
        "       \"Rosenkrieg\",\n",
        "       ##new\n",
        "       \"Frauenschläger\",\n",
        "       \"tödliches?m? Drama\",\n",
        "       \"tränenerstickter? Stimme\",\n",
        "       \"blutüberströmt\",\n",
        "       \"tödlichen? Eskalation\",\n",
        "\n",
        "\n",
        "       \"ehedrama\",\n",
        "       ## ??\n",
        "       \"bluttat\",\n",
        "\n",
        "       \"schicksalsgebeutelt\",\n",
        "       \"Alptraum\"]"
      ],
      "metadata": {
        "id": "WLvrJkRKLtBb"
      },
      "execution_count": 19,
      "outputs": []
    },
    {
      "cell_type": "code",
      "source": [
        "def label_sensationalism(text):\n",
        "  for pattern in sens:\n",
        "    if len(re.findall(pattern=pattern,string=text,flags=re.IGNORECASE))>0:\n",
        "      return \"Sensationalist\"\n",
        "  return \"\""
      ],
      "metadata": {
        "id": "8mQZpptgMIm8"
      },
      "execution_count": 20,
      "outputs": []
    },
    {
      "cell_type": "code",
      "source": [
        "df_test=df_test.explode(\"text\")"
      ],
      "metadata": {
        "id": "aGrfH1yON0gv"
      },
      "execution_count": 21,
      "outputs": []
    },
    {
      "cell_type": "code",
      "source": [
        "# apply labelling to test set\n",
        "df_test[\"label\"]=df_test.text.apply(label_sensationalism)"
      ],
      "metadata": {
        "id": "C5DTn20-Ozul"
      },
      "execution_count": 22,
      "outputs": []
    },
    {
      "cell_type": "markdown",
      "source": [
        "### 2. Statistics"
      ],
      "metadata": {
        "id": "Oeq6Ih4qU8fJ"
      }
    },
    {
      "cell_type": "code",
      "source": [
        "stats=[\"\\d*([\\.,]\\d*)?[ ](Prozent|%)\",\n",
        "       \"\\d+ (Fälle|Opfer|Frauen|Kinder|Personen|Betroffene|Morde|Plätze)\\W\",\n",
        "       \"Bundeskriminalamt\",\n",
        "       \"Kriminalstatistik\",\n",
        "       \"statistisches Amt\",\n",
        "       \"offizielle Zahlen\",\n",
        "       \"jeder? (zweiter?|dritter?|vierter?|fünfter?|sechster?|siebenter?) (mann|frau|kind)\",\n",
        "       \"\\Wbka\\W\"]"
      ],
      "metadata": {
        "id": "TMG1YpPWXh2W"
      },
      "execution_count": 24,
      "outputs": []
    },
    {
      "cell_type": "code",
      "source": [
        "def label_statistics(text):\n",
        "  for pattern in stats:\n",
        "    if len(re.findall(pattern=pattern,string=text,flags=re.IGNORECASE))>0:\n",
        "      return \"Statistic\"\n",
        "  return \"\""
      ],
      "metadata": {
        "id": "Ped1USpVWcnG"
      },
      "execution_count": 25,
      "outputs": []
    },
    {
      "cell_type": "code",
      "source": [
        "# apply labelling to test set\n",
        "df_test[\"label\"]=df_test.text.apply(label_statistics)"
      ],
      "metadata": {
        "id": "O7lag9DNWgB2"
      },
      "execution_count": 26,
      "outputs": []
    },
    {
      "cell_type": "code",
      "source": [
        "df_test[df_test[\"label\"]==\"Statistic\"][[\"text\"]].head()"
      ],
      "metadata": {
        "id": "lNv7FIX9Yuc_"
      },
      "execution_count": null,
      "outputs": []
    },
    {
      "cell_type": "markdown",
      "source": [
        "### 3. Support Services"
      ],
      "metadata": {
        "id": "jvXwBUVwWghm"
      }
    },
    {
      "cell_type": "code",
      "source": [
        "support=[\"[A-Za-z0-9._%+-]+@[A-Za-z0-9.-]+\\.[A-Za-z]{2,}\",\n",
        "         '\\(?\\d{4,5}\\)?[/\\s]*\\d{1,5}\\s*\\d{1,5}',\n",
        "         \"(www\\.)\\S+\\.\\S+\",\n",
        "         \"Beratungsstelle\",\n",
        "         \"Notrufdienst\",\n",
        "         \"Hotline\",\n",
        "         ]"
      ],
      "metadata": {
        "id": "oso5gjMiiTC9"
      },
      "execution_count": 28,
      "outputs": []
    },
    {
      "cell_type": "code",
      "source": [
        "def label_support(text):\n",
        "  for pattern in support:\n",
        "    if len(re.findall(pattern=pattern,string=text,flags=re.IGNORECASE))>0:\n",
        "      return \"Support Service\"\n",
        "  return \"\""
      ],
      "metadata": {
        "id": "NwO83kIpidC1"
      },
      "execution_count": 29,
      "outputs": []
    },
    {
      "cell_type": "code",
      "source": [
        "# apply labelling to test set\n",
        "df_test[\"label\"]=df_test.text.apply(label_support)\n",
        "df_test[df_test[\"label\"]==\"Support Service\"][[\"text\"]]"
      ],
      "metadata": {
        "id": "SZzWfbuBiiIW"
      },
      "execution_count": null,
      "outputs": []
    },
    {
      "cell_type": "markdown",
      "source": [
        "### 4. Origin/ Nationality"
      ],
      "metadata": {
        "id": "Bf2dcYc5WkSB"
      }
    },
    {
      "cell_type": "code",
      "source": [
        "nlp = spacy.load(\"de_core_news_lg\")"
      ],
      "metadata": {
        "id": "zZFUYZkx_Zph"
      },
      "execution_count": 32,
      "outputs": []
    },
    {
      "cell_type": "code",
      "source": [
        "nationality=[\"Afghan\",\"Albaner\",\"Algerier\",\"Argentinier\",\"Armenier\", \"Aserbaidschaner\",\"Amerikaner\",\"Argentinier\", \"Armenier\",\"Aserbaidschaner\",\"Australier\", \"Belgier\",\"Brasilianer\", \"Bulgar\",\"Chilen\", \"Chines\",\"Dän\",\"Deutsche\", \"Deutsche\",\"Engländer\", \"Franzose\", \"Französin\",\"Griech\",\n",
        "             \"Inder\",\"Iraner\",\"Iraker\",\"Israeli\",\"Italiener\",\"Japaner\",\"Kanadier\",\"Kolumbianer\",\"Koreaner\",\"Kroat\",\"Libanes\",\"Marokkaner\",\"Mexikaner\",\"Neuseeländer\", \"Niederländer\",\n",
        "             \"Norweger\",\"Österreicher\", \"Pakistaner\", \"Peruaner\",\n",
        "             #\"Pol\",\n",
        "             \"Portugies\",\"Rumän\",\"Russ\",\"Schott\",\"Schwed\",\"Schweizer\", \"Serb\",\"Singapurer\", \"Spanier\",\"Südafrikaner\",\n",
        "             \"Türk\",]\n"
      ],
      "metadata": {
        "id": "Mmywi-fDj-gn"
      },
      "execution_count": 33,
      "outputs": []
    },
    {
      "cell_type": "code",
      "source": [
        "def label_origin(text):\n",
        "  for pattern in nationality:\n",
        "    if len(re.findall(pattern=pattern,string=text,flags=re.IGNORECASE))>0:\n",
        "      return \"Nationality\"\n",
        "  return \"\""
      ],
      "metadata": {
        "id": "yCV3RZefj-gn"
      },
      "execution_count": 34,
      "outputs": []
    },
    {
      "cell_type": "code",
      "source": [
        "# apply labelling to test set\n",
        "df_test[\"label\"]=df_test.text.apply(label_origin)\n",
        "df_test[df_test[\"label\"]==\"Nationality\"][[\"text\"]]"
      ],
      "metadata": {
        "id": "q08ltns_AX_M"
      },
      "execution_count": null,
      "outputs": []
    },
    {
      "cell_type": "code",
      "source": [
        "# apply labelling to test set\n",
        "df_test[\"label\"]=df_test.text.apply(label_origin)\n",
        "df_test[df_test[\"label\"]==\"Nationality\"][[\"text\"]]"
      ],
      "metadata": {
        "id": "-K9I4PPaAiJT"
      },
      "execution_count": null,
      "outputs": []
    },
    {
      "cell_type": "markdown",
      "source": [
        "#### Testing POS instead"
      ],
      "metadata": {
        "id": "evct9zeODZta"
      }
    },
    {
      "cell_type": "code",
      "source": [
        "import spacy\n",
        "spacy.cli.download(\"de_core_news_lg\")"
      ],
      "metadata": {
        "colab": {
          "base_uri": "https://localhost:8080/"
        },
        "id": "rWXo5Da4_pYq",
        "outputId": "bcf7ad7c-cf41-4106-e495-7d7b83059bc1"
      },
      "execution_count": 31,
      "outputs": [
        {
          "output_type": "stream",
          "name": "stdout",
          "text": [
            "\u001b[38;5;2m✔ Download and installation successful\u001b[0m\n",
            "You can now load the package via spacy.load('de_core_news_lg')\n"
          ]
        }
      ]
    },
    {
      "cell_type": "code",
      "source": [
        "\n",
        "doc = nlp(df_test.iloc[0][\"text\"])\n",
        "\n",
        "for i in doc.ents:\n",
        "  print(i.text,i.label_)"
      ],
      "metadata": {
        "colab": {
          "base_uri": "https://localhost:8080/"
        },
        "id": "6wisZ3aDBkPE",
        "outputId": "5bfafd14-78fb-4d60-f984-62656e6aadf3"
      },
      "execution_count": 56,
      "outputs": [
        {
          "output_type": "stream",
          "name": "stdout",
          "text": [
            "Göttingen LOC\n",
            "Deutschen MISC\n",
            "Hannover LOC\n"
          ]
        }
      ]
    },
    {
      "cell_type": "markdown",
      "source": [
        "--> not usable to extraxt nationalities only"
      ],
      "metadata": {
        "id": "6a97IUuZDi5Y"
      }
    }
  ]
}