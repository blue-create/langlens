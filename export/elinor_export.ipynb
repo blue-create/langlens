{
  "nbformat": 4,
  "nbformat_minor": 0,
  "metadata": {
    "colab": {
      "provenance": [],
      "collapsed_sections": [
        "QYjhPHYZ1MVO",
        "Ieb0Shf71cvu",
        "7Kwdv6Uim224"
      ],
      "include_colab_link": true
    },
    "kernelspec": {
      "name": "python3",
      "display_name": "Python 3"
    },
    "language_info": {
      "name": "python"
    }
  },
  "cells": [
    {
      "cell_type": "markdown",
      "metadata": {
        "id": "view-in-github",
        "colab_type": "text"
      },
      "source": [
        "<a href=\"https://colab.research.google.com/github/blue-create/langlens/blob/main/export/elinor_export.ipynb\" target=\"_parent\"><img src=\"https://colab.research.google.com/assets/colab-badge.svg\" alt=\"Open In Colab\"/></a>"
      ]
    },
    {
      "cell_type": "markdown",
      "source": [
        "# Purpose\n",
        "\n",
        "This file shows the steps we took to sample and create the annotation dataset."
      ],
      "metadata": {
        "id": "Q1MHyZaI09-2"
      }
    },
    {
      "cell_type": "markdown",
      "source": [
        "## Connect with Google drive to access data\n",
        "\n",
        "In order to access the data, you first need to create a shortcut of the data folder to your own Gdrive. If you've been granted editing rights, you should be able to edit the content of the folder, i.e. add, move and delete data, create and rename folders, etc."
      ],
      "metadata": {
        "id": "QYjhPHYZ1MVO"
      }
    },
    {
      "cell_type": "code",
      "source": [
        "# connect with google drive\n",
        "from google.colab import drive\n",
        "drive.mount('/content/drive')"
      ],
      "metadata": {
        "colab": {
          "base_uri": "https://localhost:8080/"
        },
        "id": "3-gEE8t61TyI",
        "outputId": "4fca5183-dbd3-463c-eca5-2792a48fecbc"
      },
      "execution_count": 1,
      "outputs": [
        {
          "output_type": "stream",
          "name": "stdout",
          "text": [
            "Drive already mounted at /content/drive; to attempt to forcibly remount, call drive.mount(\"/content/drive\", force_remount=True).\n"
          ]
        }
      ]
    },
    {
      "cell_type": "code",
      "source": [
        "# redirect the working directory of this script to the data folder\n",
        "%cd /content/drive/MyDrive/Work/Frontline/data/\n",
        "#%cd /content/drive/MyDrive/data/"
      ],
      "metadata": {
        "colab": {
          "base_uri": "https://localhost:8080/"
        },
        "id": "UG1MwJ4Y1U_h",
        "outputId": "27464f23-f1f6-4d44-fd9d-425a57c072bf"
      },
      "execution_count": 2,
      "outputs": [
        {
          "output_type": "stream",
          "name": "stdout",
          "text": [
            "/content/drive/.shortcut-targets-by-id/1WfnZsqpG1r110J63sMbfS5TpsDOkveiV/data\n"
          ]
        }
      ]
    },
    {
      "cell_type": "markdown",
      "source": [
        "## Load data"
      ],
      "metadata": {
        "id": "Ej0F6zHR1Xz3"
      }
    },
    {
      "cell_type": "code",
      "source": [
        "import tqdm as tqdm\n",
        "from collections import Counter\n",
        "import os\n",
        "import pandas as pd\n",
        "import re\n",
        "from ast import literal_eval\n",
        "import statistics\n",
        "import matplotlib.pyplot as plt\n",
        "import re\n",
        "import pandas as pd\n",
        "\n",
        "folder_path = \"filtered/filtered_06_15 (only kw)\""
      ],
      "metadata": {
        "id": "Pb-1q-dqzgQH"
      },
      "execution_count": 3,
      "outputs": []
    },
    {
      "cell_type": "markdown",
      "source": [
        "### Method 1: get csv files"
      ],
      "metadata": {
        "id": "6Ny15n7AO8PV"
      }
    },
    {
      "cell_type": "code",
      "source": [
        "\n",
        "dfs = []\n",
        "\n",
        "# loop through files\n",
        "for filename in os.listdir(folder_path):\n",
        "    # if csv file, load and add to dfs\n",
        "    if filename.endswith(\".csv\"):\n",
        "        file_path = os.path.join(folder_path, filename)\n",
        "        # import csv with text as list object\n",
        "        df = pd.read_csv(file_path, index_col=0, converters={\"text\":literal_eval})\n",
        "        dfs.append(df)\n",
        "# combine files in df\n",
        "df_filtered = pd.concat(dfs, ignore_index=True)"
      ],
      "metadata": {
        "id": "ktoRDGajzoqi"
      },
      "execution_count": 4,
      "outputs": []
    },
    {
      "cell_type": "markdown",
      "source": [
        "#### Create a random subset of the data"
      ],
      "metadata": {
        "id": "Ieb0Shf71cvu"
      }
    },
    {
      "cell_type": "code",
      "source": [
        "# size of subset we want\n",
        "number = 1100"
      ],
      "metadata": {
        "id": "bGL1Cb9R8fLD"
      },
      "execution_count": 5,
      "outputs": []
    },
    {
      "cell_type": "code",
      "source": [
        "df_sample = df_filtered.sample(number,)"
      ],
      "metadata": {
        "id": "_7qzAZDi778j"
      },
      "execution_count": 6,
      "outputs": []
    },
    {
      "cell_type": "markdown",
      "source": [
        "### Method 2: get a csv file"
      ],
      "metadata": {
        "id": "pFNlGnG7PD23"
      }
    },
    {
      "cell_type": "code",
      "source": [
        "#df_sample_file = pd.read_csv('sample.csv', encoding='utf-8', index_col=0)"
      ],
      "metadata": {
        "id": "RP4BKUzjPIF5"
      },
      "execution_count": 7,
      "outputs": []
    },
    {
      "cell_type": "markdown",
      "source": [
        "### Method 3: Manually selected dataset of relevant articles\n",
        "--> ensuring that the dataset only contains relevant articles, espscially for testing"
      ],
      "metadata": {
        "id": "17Rx0STiu1nu"
      }
    },
    {
      "cell_type": "code",
      "source": [
        "subset_dv=df_filtered.loc[(11483,14044,62494,49199,11047,14948,10565,31059,58890,20347,55396,56389,5528,18532,59435,8035,27119,12788,59992,21477,10331,26314,45356,61023,31865,48960,44587,17992,14763,60043,20540,4563,13213,6751,43374,41018,38770,24654,21936,29297,1869,33163,60220,61232,57613,48979,33785,51576,8300,7675),:]"
      ],
      "metadata": {
        "id": "bbKfHRI1u7ag"
      },
      "execution_count": 8,
      "outputs": []
    },
    {
      "cell_type": "markdown",
      "source": [
        "### Select Data\n",
        "--> specify which data set of the three above methods should be used in the following analysis"
      ],
      "metadata": {
        "id": "VXVyMc5mkWGM"
      }
    },
    {
      "cell_type": "code",
      "source": [
        "# uncomment for full data set\n",
        "df_subset=df_filtered\n",
        "\n",
        "# uncomment for random data of 100 from full data set\n",
        "#df_subset=df_sample\n",
        "\n",
        "# uncomment for sample data set from csv file\n",
        "#df_subset= df_sample_file\n",
        "\n",
        "# uncomment for manually selected articles\n",
        "# df_subset = subset_dv"
      ],
      "metadata": {
        "id": "5-OJXUYwkhZ2"
      },
      "execution_count": 9,
      "outputs": []
    },
    {
      "cell_type": "markdown",
      "source": [
        "## Adjust format for export"
      ],
      "metadata": {
        "id": "5FJOlUvd1gHQ"
      }
    },
    {
      "cell_type": "markdown",
      "source": [
        "### Methods"
      ],
      "metadata": {
        "id": "7Kwdv6Uim224"
      }
    },
    {
      "cell_type": "code",
      "source": [
        "def reformat_article(art, min_words=5, max_words=125):\n",
        "  \"\"\" function to reformat an article: remove white spaces, empty paragraphs, genios styles, too long/ short paragraphs\n",
        "  Parameters:\n",
        "    - art (list of str): article as list of paragraphs\n",
        "    - min_words (int): minimum number of word length a paragraph should have, default is 5\n",
        "    - max_words (int):  maximum number of word length a paragraph should have, default is 125\n",
        "  Returns:\n",
        "    - art (list of str). artic\n",
        "  \"\"\"\n",
        "  # remove genios styles\n",
        "  art = [re.sub(r'<.*?>', '', x) for x in art]\n",
        "\n",
        "  # remove new line characters and preceeding whitespaces\n",
        "  art = [x.strip() for x in art]\n",
        "\n",
        "  #remove empty paragraphs\n",
        "  art = [x for x in art if x.strip()]\n",
        "\n",
        "  #remove paragraphs that are too long\n",
        "  art = [x for x in art if len(x.split()) < max_words]\n",
        "\n",
        "  #remove paragraphs that are too short, ie. by default 5 or fewer words\n",
        "  art = [x for x in art if len(x.split()) >= min_words]\n",
        "\n",
        "  return art"
      ],
      "metadata": {
        "id": "beTpoSVOZowg"
      },
      "execution_count": 10,
      "outputs": []
    },
    {
      "cell_type": "markdown",
      "source": [
        "## Cleaning text:\n",
        "- remove newline characters\n",
        "- remove paragraphs if too long or short\n",
        "- remove genios styles\n",
        "- remove empty paragraphs\n",
        "- remove duplicate articles"
      ],
      "metadata": {
        "id": "1IRqAQmlPjPX"
      }
    },
    {
      "cell_type": "code",
      "source": [
        "#remove duplicates\n",
        "df_subset.artikel_id=df_subset.artikel_id.astype(str)\n",
        "df_subset=df_subset.drop_duplicates(keep=\"first\", subset=[\"artikel_id\",\"datum\"])\n",
        "df_subset=df_subset.drop_duplicates(keep=\"first\", subset=[\"text\"])\n",
        "df_subset.shape"
      ],
      "metadata": {
        "colab": {
          "base_uri": "https://localhost:8080/"
        },
        "outputId": "700d6aef-2e07-4dad-a6c8-a7736a6986ec",
        "id": "FN2VwuAtOkgG"
      },
      "execution_count": 11,
      "outputs": [
        {
          "output_type": "execute_result",
          "data": {
            "text/plain": [
              "(55711, 8)"
            ]
          },
          "metadata": {},
          "execution_count": 11
        }
      ]
    },
    {
      "cell_type": "code",
      "source": [
        "# clean articles\n",
        "df_subset[\"text\"] = [ reformat_article(art) for art in df_subset[\"text\"]]\n",
        "df_subset.shape"
      ],
      "metadata": {
        "id": "uGaaq0t53tzy",
        "colab": {
          "base_uri": "https://localhost:8080/"
        },
        "outputId": "6ace26a0-ce31-4eb0-a3b1-d18c0951d91b"
      },
      "execution_count": 12,
      "outputs": [
        {
          "output_type": "execute_result",
          "data": {
            "text/plain": [
              "(55711, 8)"
            ]
          },
          "metadata": {},
          "execution_count": 12
        }
      ]
    },
    {
      "cell_type": "code",
      "source": [
        "# remove \"empty\" articles, that wereremove in the previous step\n",
        "df_subset=df_subset[df_subset['text'].notna()]\n",
        "df_subset=df_subset[df_subset['text'].apply(len)!=0]\n",
        "df_subset.shape"
      ],
      "metadata": {
        "id": "pqYcwiaMgvuw",
        "colab": {
          "base_uri": "https://localhost:8080/"
        },
        "outputId": "518dc4ab-4549-44bd-b106-31a4fb8851f1"
      },
      "execution_count": 13,
      "outputs": [
        {
          "output_type": "execute_result",
          "data": {
            "text/plain": [
              "(52498, 8)"
            ]
          },
          "metadata": {},
          "execution_count": 13
        }
      ]
    },
    {
      "cell_type": "code",
      "source": [
        "df_subset_clean=df_subset"
      ],
      "metadata": {
        "id": "fCcu3CNXtEbP"
      },
      "execution_count": 14,
      "outputs": []
    },
    {
      "cell_type": "markdown",
      "source": [
        "## Filter by content:"
      ],
      "metadata": {
        "id": "hg0VDadS_J8r"
      }
    },
    {
      "cell_type": "code",
      "source": [
        "from scripts import filtering"
      ],
      "metadata": {
        "id": "ueAC4kgyU1Od"
      },
      "execution_count": 15,
      "outputs": []
    },
    {
      "cell_type": "markdown",
      "source": [
        "### Filter Articles by Title"
      ],
      "metadata": {
        "id": "B0XvJlNRjzcu"
      }
    },
    {
      "cell_type": "code",
      "source": [
        "exclude_exact_titles=[\"Beratungsstellen\", \"Termine\",\"Hilfe\",\"Hier_finden_Sie_Hilfe_2sp\",\"was - wann - wo\",\"IN KÜRZE\",\"Kurz notiert :\",\"Was - wann -wo\",\n",
        "                \"Beratung + Hilfe\", \"Beratung\", \"Nachrichten\",\"Hilfe bei häuslicher Gewalt\",\"Termine heute\",\"kurz & bündig\",\"tipps der redaktion\",\"WAS, WANN, WO\",\"service\",\"Hier gibt es Hilfe\",\"kurZNotiert\",\n",
        "                \"CORONA-NACHRICHTEN\",\"Kalenderblatt\"\n",
        "]\n",
        "exclude_titles=[\"beratungsstelle\", \"Frauenhaus\",\"aktion gegen\", \"statistik\",\"corona-krise\",\"fallzahlen\",\"dienstbereit\",\"weißer ring\",\"weißen ring\",\"kampagne\"]"
      ],
      "metadata": {
        "id": "aZom_rZoY6wZ"
      },
      "execution_count": 16,
      "outputs": []
    },
    {
      "cell_type": "code",
      "source": [
        "# only keep articles with titles not in the exclude list:\n",
        "# exact matches\n",
        "df_subset_clean=filtering.filter_data(df_subset_clean,\"titel\",exclude_exact_titles, exact_match=True)\n",
        "# keywordsearch\n",
        "df_subset_clean=filtering.filter_data(df_subset_clean,\"titel\",exclude_titles, exact_match=False)"
      ],
      "metadata": {
        "colab": {
          "base_uri": "https://localhost:8080/"
        },
        "id": "nozOw1YOESHb",
        "outputId": "6d74b8e2-99c2-4487-a3bf-b4b3566fda7e"
      },
      "execution_count": 17,
      "outputs": [
        {
          "output_type": "stream",
          "name": "stdout",
          "text": [
            "(50193, 8)\n",
            "(48725, 8)\n"
          ]
        }
      ]
    },
    {
      "cell_type": "code",
      "source": [
        "#without title: usualla events/ hotlines\n",
        "df_subset_clean=df_subset_clean[~df_subset_clean[\"titel\"].isna()]"
      ],
      "metadata": {
        "id": "q1y-V1UHaByQ"
      },
      "execution_count": 18,
      "outputs": []
    },
    {
      "cell_type": "markdown",
      "source": [
        "### Filter by Ressort"
      ],
      "metadata": {
        "id": "T0nJY77KKKUK"
      }
    },
    {
      "cell_type": "code",
      "source": [
        "exclude_exact_ressorts=[\"Termine\",\"tv\", \"tipps und termine\", \"fernsehen\",\"gottesdienste\",\"Termine & Service\",\"service\",\"Leserbriefe\",\"Leserservice\"]"
      ],
      "metadata": {
        "id": "ar_LKJu1GvIF"
      },
      "execution_count": 19,
      "outputs": []
    },
    {
      "cell_type": "code",
      "source": [
        "# only keep articles with ressorts not in the exclude list: exact matches\n",
        "df_subset_clean=filtering.filter_data(df_subset_clean,\"ressort\",exclude_exact_ressorts, exact_match=True)"
      ],
      "metadata": {
        "colab": {
          "base_uri": "https://localhost:8080/"
        },
        "id": "J0oBrHFSKPUC",
        "outputId": "1bf8207e-d0f8-43ac-d477-ae215edb6057"
      },
      "execution_count": 20,
      "outputs": [
        {
          "output_type": "stream",
          "name": "stdout",
          "text": [
            "(35911, 8)\n"
          ]
        }
      ]
    },
    {
      "cell_type": "markdown",
      "source": [
        "### Filter by Subtitle"
      ],
      "metadata": {
        "id": "GpRXNDd-Rtuj"
      }
    },
    {
      "cell_type": "code",
      "source": [
        "exclude_exact_subtitles=[\"termine\", \"klatsch & tratsch\"]\n",
        "exclude_subtitles=[\"hotline\",\"beratungsstelle\",\"weißer ring\",\"fernsehserie\",\"hilfsangebote\",\"Kriminalitätsstatistik\",\"Kriminalstatistik\", \"in die Tüte\", \"Kampagne\"]"
      ],
      "metadata": {
        "id": "atHClJOALwrB"
      },
      "execution_count": 21,
      "outputs": []
    },
    {
      "cell_type": "code",
      "source": [
        "# only keep articles with titles not in the exclude list: exact matches\n",
        "df_subset_clean=filtering.filter_data(df_subset_clean,\"untertitel\",exclude_exact_subtitles, exact_match=True )\n",
        "# only keep articles with titles not in the exclude list: exact matches\n",
        "df_subset_clean=filtering.filter_data(df_subset_clean,\"untertitel\",exclude_subtitles, exact_match=False )"
      ],
      "metadata": {
        "colab": {
          "base_uri": "https://localhost:8080/"
        },
        "outputId": "380b60a8-174b-4711-833a-9657decf64c5",
        "id": "GymIl8kqLsxb"
      },
      "execution_count": 22,
      "outputs": [
        {
          "output_type": "stream",
          "name": "stdout",
          "text": [
            "(35893, 8)\n",
            "(35020, 8)\n"
          ]
        }
      ]
    },
    {
      "cell_type": "markdown",
      "source": [
        "### Filter by Text"
      ],
      "metadata": {
        "id": "lGyzcy6unPdT"
      }
    },
    {
      "cell_type": "code",
      "source": [
        "exclude_articles=[# Notufe, Beratungen\n",
        "                        \"Bereitschaftsdienst\", \"Hotline\", \"Notruf\", \"Hilfetelefon\",\"behindertenfahrdienst\",\"Polizeiinspektion\",\n",
        "                        \"Feuerwehr\",\"rettungsdienst\", \"Notdienst\",\"Bereitschaftspraxis\",\"Öffnungszeiten\",\"Vergiftungen\",\n",
        "                        \"Ärztehaus\",\"Selbsthilfegruppe\",\"Leitstelle\",\"Tel\",\"Aids\",\"Ambulante\",\"ACE\",\n",
        "                        \"Club\",\"Interventionsstelle\",\"Frauenberatungsstelle\",\"Rufnummer\",\"Rufnummern\", \"apotheke\", \"hilfsangebot\",\"hilfsangebote\", \"Klinikum\"\n",
        "                        \"opferhilfe\",\"Berufsbildungszentrum\",\"opferschutz\",\n",
        "                        # Kampagnen, Akitonen\n",
        "                        \"kampagne\", \"aktion\", \"ring\",\"initiative\",\"Frauen helfen Frauen\"\n",
        "                        # Events, Services\n",
        "                        \"Mo Di\",\"mi Do\",\"do fr\", \"mo do\",\"sa so\", \"sa mo\",\"di mi\",\"fr sa\", \"online\",\"Ü50 Singletreff\", \"Uhr\",\"Treffpunkt\",\n",
        "                        #corona\n",
        "                        \"Dieser Artikel wird laufend aktualisiert\"\n",
        "\n",
        "\n",
        "]"
      ],
      "metadata": {
        "id": "NLX7MQ6Fs1tg"
      },
      "execution_count": 23,
      "outputs": []
    },
    {
      "cell_type": "code",
      "source": [
        "# Filter out if keywords occur in the first 5 words of a text\n",
        "df_subset_clean=filtering.filter_data(df_subset_clean,\"text\",exclude_articles, exact_match=False ,first_words=5)"
      ],
      "metadata": {
        "id": "I6--wvlqBpYz",
        "colab": {
          "base_uri": "https://localhost:8080/"
        },
        "outputId": "85ec4bed-c675-4c51-987e-74d6b14a25b5"
      },
      "execution_count": 24,
      "outputs": [
        {
          "output_type": "stream",
          "name": "stdout",
          "text": [
            "(28004, 8)\n"
          ]
        }
      ]
    },
    {
      "cell_type": "markdown",
      "source": [
        "###Filter by Lengths"
      ],
      "metadata": {
        "id": "XR9dojoitB34"
      }
    },
    {
      "cell_type": "code",
      "source": [
        "df_subset_clean[\"lengths\"]=[len(\"\\n\".join(i).split()) for i in df_subset_clean.text]"
      ],
      "metadata": {
        "id": "TgnyCKJGtNCa"
      },
      "execution_count": 25,
      "outputs": []
    },
    {
      "cell_type": "code",
      "source": [
        "df_subset_clean[\"lengths\"].quantile([0,0.5,0.7,0.9,0.95,0.99,1])"
      ],
      "metadata": {
        "colab": {
          "base_uri": "https://localhost:8080/"
        },
        "id": "Y6zV4JEvtgXp",
        "outputId": "9316360e-8b70-44f1-c63a-0d22e17d3362"
      },
      "execution_count": 26,
      "outputs": [
        {
          "output_type": "execute_result",
          "data": {
            "text/plain": [
              "0.00        5.00\n",
              "0.50      350.00\n",
              "0.70      510.00\n",
              "0.90      786.00\n",
              "0.95     1040.00\n",
              "0.99     1813.94\n",
              "1.00    42353.00\n",
              "Name: lengths, dtype: float64"
            ]
          },
          "metadata": {},
          "execution_count": 26
        }
      ]
    },
    {
      "cell_type": "code",
      "source": [
        "df_subset_clean=df_subset_clean[df_subset_clean.lengths<1000]"
      ],
      "metadata": {
        "id": "v-8Ja6i3t2qJ"
      },
      "execution_count": 27,
      "outputs": []
    },
    {
      "cell_type": "code",
      "source": [
        "df_subset_clean.to_csv(\"filtered/filtered_06_16.csv\", index=False)"
      ],
      "metadata": {
        "id": "uBsI8QBqSwnn"
      },
      "execution_count": 28,
      "outputs": []
    },
    {
      "cell_type": "markdown",
      "source": [
        "### Filter by Paragraph"
      ],
      "metadata": {
        "id": "Aa-slP38P5KQ"
      }
    },
    {
      "cell_type": "code",
      "source": [
        "df_exploded=df_subset_clean"
      ],
      "metadata": {
        "id": "ObiRim-6IcbS"
      },
      "execution_count": 55,
      "outputs": []
    },
    {
      "cell_type": "code",
      "source": [
        "# Explode \"text\" column\n",
        "df_exploded= df_exploded.explode(\"text\")\n",
        "# Create \"artikel_order\" column\n",
        "df_exploded[\"artikel_order\"] = df_exploded.groupby(\"artikel_id\").cumcount() + 1\n",
        "df_exploded.shape"
      ],
      "metadata": {
        "id": "h22XwUD9P25d",
        "colab": {
          "base_uri": "https://localhost:8080/"
        },
        "outputId": "83aec0df-8a00-4d56-ac09-18c5afcebbba"
      },
      "execution_count": 56,
      "outputs": [
        {
          "output_type": "execute_result",
          "data": {
            "text/plain": [
              "(228753, 10)"
            ]
          },
          "metadata": {},
          "execution_count": 56
        }
      ]
    },
    {
      "cell_type": "code",
      "source": [
        "# remove duplicated paragraphs\n",
        "df_exploded=df_exploded.drop_duplicates(\"text\")\n",
        "df_exploded.shape"
      ],
      "metadata": {
        "id": "IFEFiMM1Tkq1",
        "colab": {
          "base_uri": "https://localhost:8080/"
        },
        "outputId": "c59a597b-7a83-4c0c-c496-0e09e5d8627b"
      },
      "execution_count": 57,
      "outputs": [
        {
          "output_type": "execute_result",
          "data": {
            "text/plain": [
              "(154941, 10)"
            ]
          },
          "metadata": {},
          "execution_count": 57
        }
      ]
    },
    {
      "cell_type": "code",
      "source": [
        "# remove hotlines, etc, if keywords contained in the first 5 words\n",
        "df_exploded=filtering.filter_data(df_exploded,\"text\",exclude_articles,False,5)\n",
        "# remove paragraphs by keywords if container in the first 5 words\n",
        "\n",
        "exclude_paragraphs=[\"Stadtteiltreff\",\"Plakataktion\",\"One Billion Rising\",\"Gewalt kommt nicht in die Tüte\",\"opferschutzorganisation\",\"Frauen helfen Frauen\",\"statistik\", \"kriminalstatistik\", \"landeskriminalamt\"]\n",
        "df_exploded=filtering.filter_data(df_exploded,\"text\",exclude_paragraphs,False,5)"
      ],
      "metadata": {
        "id": "OrsJ50BxEH4W",
        "colab": {
          "base_uri": "https://localhost:8080/"
        },
        "outputId": "b1a0ac8b-5482-4337-f41f-e5ac9a1d7a02"
      },
      "execution_count": 58,
      "outputs": [
        {
          "output_type": "stream",
          "name": "stdout",
          "text": [
            "(144351, 10)\n",
            "(143740, 10)\n"
          ]
        }
      ]
    },
    {
      "cell_type": "code",
      "source": [
        "# regex filter: email, links, times, streets,email, weekdays\n",
        "df_exploded=filtering.regex_filter(df_exploded,\"text\",)"
      ],
      "metadata": {
        "id": "scCTikgEI9Fd"
      },
      "execution_count": 59,
      "outputs": []
    },
    {
      "cell_type": "code",
      "source": [
        "# very short paragraphs usually are not part of the article\n",
        "df_exploded.loc[:,\"chars\"]=df_exploded[\"text\"].apply(len)\n",
        "df_exploded=df_exploded[df_exploded[\"chars\"]>60]\n",
        "df_exploded.shape"
      ],
      "metadata": {
        "id": "lkntG5OJraxM",
        "colab": {
          "base_uri": "https://localhost:8080/"
        },
        "outputId": "2f6b1f28-e035-4949-873d-59da164f9690"
      },
      "execution_count": 60,
      "outputs": [
        {
          "output_type": "stream",
          "name": "stderr",
          "text": [
            "<ipython-input-60-1e2d6bb896ec>:2: SettingWithCopyWarning: \n",
            "A value is trying to be set on a copy of a slice from a DataFrame.\n",
            "Try using .loc[row_indexer,col_indexer] = value instead\n",
            "\n",
            "See the caveats in the documentation: https://pandas.pydata.org/pandas-docs/stable/user_guide/indexing.html#returning-a-view-versus-a-copy\n",
            "  df_exploded.loc[:,\"chars\"]=df_exploded[\"text\"].apply(len)\n"
          ]
        },
        {
          "output_type": "execute_result",
          "data": {
            "text/plain": [
              "(115556, 11)"
            ]
          },
          "metadata": {},
          "execution_count": 60
        }
      ]
    },
    {
      "cell_type": "markdown",
      "source": [
        "### Excluding annotated Paragraphs"
      ],
      "metadata": {
        "id": "eqPBOuY6mqUT"
      }
    },
    {
      "cell_type": "code",
      "source": [
        "annot=pd.read_csv(\"annotated/230613_all_annotations.csv\",index_col=0)"
      ],
      "metadata": {
        "id": "v8RN9f25GrIj"
      },
      "execution_count": 61,
      "outputs": []
    },
    {
      "cell_type": "code",
      "source": [
        "annot=annot[[\"artikel_id\",\"name\",\"annotations\",\"artikel_order\"]]"
      ],
      "metadata": {
        "id": "1Tb7pT0ZN_3B"
      },
      "execution_count": 62,
      "outputs": []
    },
    {
      "cell_type": "code",
      "source": [
        "df_merged=pd.merge(annot,df_exploded,left_on=[\"artikel_id\",\"artikel_order\",\"name\"],right_on=[\"artikel_id\",\"artikel_order\",\"name\"], how=\"right\")"
      ],
      "metadata": {
        "id": "PcfEXcb7Iyzu"
      },
      "execution_count": 63,
      "outputs": []
    },
    {
      "cell_type": "code",
      "source": [
        "df_merged"
      ],
      "metadata": {
        "id": "fX2qjc02A2UV"
      },
      "execution_count": null,
      "outputs": []
    },
    {
      "cell_type": "code",
      "source": [
        "# remove paragraphs that already have annotations\n",
        "df_exploded=df_merged[df_merged.annotations.isna()]"
      ],
      "metadata": {
        "id": "hsjzAMdSQhtj"
      },
      "execution_count": 65,
      "outputs": []
    },
    {
      "cell_type": "markdown",
      "source": [
        "### Randomly select one paragraph per article"
      ],
      "metadata": {
        "id": "D_4vCxClhzl2"
      }
    },
    {
      "cell_type": "code",
      "source": [
        "df_subset_elinor1=df_exploded"
      ],
      "metadata": {
        "id": "3C_vKteF1NkG"
      },
      "execution_count": 66,
      "outputs": []
    },
    {
      "cell_type": "code",
      "source": [
        "import nltk\n",
        "nltk.download('punkt')"
      ],
      "metadata": {
        "id": "yjOtzi_H58w4",
        "colab": {
          "base_uri": "https://localhost:8080/"
        },
        "outputId": "34a9c4b2-00e0-4b37-e224-ffe99950f7d9"
      },
      "execution_count": 41,
      "outputs": [
        {
          "output_type": "stream",
          "name": "stderr",
          "text": [
            "[nltk_data] Downloading package punkt to /root/nltk_data...\n",
            "[nltk_data]   Unzipping tokenizers/punkt.zip.\n"
          ]
        },
        {
          "output_type": "execute_result",
          "data": {
            "text/plain": [
              "True"
            ]
          },
          "metadata": {},
          "execution_count": 41
        }
      ]
    },
    {
      "cell_type": "code",
      "source": [
        "def count_sentences(text):\n",
        "    return len(nltk.sent_tokenize(text))"
      ],
      "metadata": {
        "id": "M2OMY9wc5-Gl"
      },
      "execution_count": 42,
      "outputs": []
    },
    {
      "cell_type": "code",
      "source": [
        "df_subset_elinor1['num_sentences'] = df_subset_elinor1['text'].apply(count_sentences)"
      ],
      "metadata": {
        "id": "z2Pc_Efw6Aku",
        "colab": {
          "base_uri": "https://localhost:8080/"
        },
        "outputId": "13d5e765-f3b8-4d8c-905d-f7738ad0971b"
      },
      "execution_count": 67,
      "outputs": [
        {
          "output_type": "stream",
          "name": "stderr",
          "text": [
            "<ipython-input-67-229108de2b5b>:1: SettingWithCopyWarning: \n",
            "A value is trying to be set on a copy of a slice from a DataFrame.\n",
            "Try using .loc[row_indexer,col_indexer] = value instead\n",
            "\n",
            "See the caveats in the documentation: https://pandas.pydata.org/pandas-docs/stable/user_guide/indexing.html#returning-a-view-versus-a-copy\n",
            "  df_subset_elinor1['num_sentences'] = df_subset_elinor1['text'].apply(count_sentences)\n"
          ]
        }
      ]
    },
    {
      "cell_type": "code",
      "source": [
        "# Define a function to randomly select one row from each group\n",
        "def select_random_row(group):\n",
        "    if group['num_sentences'].max() > 1:\n",
        "        return group[group['num_sentences'] > 1].sample(n=1)\n",
        "    else:\n",
        "        return group.head(1)"
      ],
      "metadata": {
        "id": "iI_MlT6Y9QFU"
      },
      "execution_count": 68,
      "outputs": []
    },
    {
      "cell_type": "code",
      "source": [
        "# Apply the function to each group and combine the results\n",
        "random_rows = df_subset_elinor1.groupby('artikel_id').apply(select_random_row).reset_index(drop=True)"
      ],
      "metadata": {
        "id": "vzqDnnIR9b6T"
      },
      "execution_count": 69,
      "outputs": []
    },
    {
      "cell_type": "code",
      "source": [
        "random_rows=random_rows.loc[:,random_rows.columns!=\"annotations\"]"
      ],
      "metadata": {
        "id": "jSmWlHHbsKV8"
      },
      "execution_count": 70,
      "outputs": []
    },
    {
      "cell_type": "markdown",
      "source": [
        "## Export as csv"
      ],
      "metadata": {
        "id": "0Go0cc9U1kpE"
      }
    },
    {
      "cell_type": "code",
      "source": [
        "output_path = \"elinor\""
      ],
      "metadata": {
        "id": "ItHRtFVP9vl_"
      },
      "execution_count": null,
      "outputs": []
    },
    {
      "cell_type": "markdown",
      "source": [
        "#### Export Files in chunks of 2000 paragraphs"
      ],
      "metadata": {
        "id": "3gt7eEhvoOWm"
      }
    },
    {
      "cell_type": "code",
      "source": [
        "batches=round(random_rows.shape[0]/2000+0.5)"
      ],
      "metadata": {
        "id": "1mgrHxRxfn-U"
      },
      "execution_count": null,
      "outputs": []
    },
    {
      "cell_type": "code",
      "source": [
        "random_rows.shape"
      ],
      "metadata": {
        "colab": {
          "base_uri": "https://localhost:8080/"
        },
        "id": "jtlwmm3IxIom",
        "outputId": "24a8f04b-d6d9-47c9-d327-751fd04d3ac9"
      },
      "execution_count": 71,
      "outputs": [
        {
          "output_type": "execute_result",
          "data": {
            "text/plain": [
              "(22520, 12)"
            ]
          },
          "metadata": {},
          "execution_count": 71
        }
      ]
    },
    {
      "cell_type": "code",
      "source": [
        "# for i in range(1,batches+1):\n",
        "#   chunk=random_rows.iloc[((i-1)*2000):(i*2000),:]\n",
        "#   print(chunk.shape)\n",
        "#   chunk.to_csv(output_path+f\"/annotation_test_05_22_part{i}.csv\", index=False, header = True,encoding = 'utf-8')"
      ],
      "metadata": {
        "id": "XcienU_5nNpu"
      },
      "execution_count": null,
      "outputs": []
    },
    {
      "cell_type": "markdown",
      "source": [
        "#### Export as one File"
      ],
      "metadata": {
        "id": "bYnDvCA-ozo_"
      }
    },
    {
      "cell_type": "code",
      "source": [
        "sample=random_rows.sample(1000)"
      ],
      "metadata": {
        "id": "wn_4_0GMBbtw"
      },
      "execution_count": 73,
      "outputs": []
    },
    {
      "cell_type": "code",
      "source": [
        "sample.to_csv(\"elinor/annotation_test_06_16.csv\", index=False, header = True,encoding = 'utf-8')"
      ],
      "metadata": {
        "id": "dJO8Splt9raZ"
      },
      "execution_count": 75,
      "outputs": []
    }
  ]
}