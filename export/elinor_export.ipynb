{
  "nbformat": 4,
  "nbformat_minor": 0,
  "metadata": {
    "colab": {
      "provenance": [],
      "collapsed_sections": [
        "QYjhPHYZ1MVO",
        "Ieb0Shf71cvu",
        "7Kwdv6Uim224"
      ]
    },
    "kernelspec": {
      "name": "python3",
      "display_name": "Python 3"
    },
    "language_info": {
      "name": "python"
    }
  },
  "cells": [
    {
      "cell_type": "markdown",
      "source": [
        "# Purpose\n",
        "\n",
        "This file shows the steps we took to sample and create the annotation dataset."
      ],
      "metadata": {
        "id": "Q1MHyZaI09-2"
      }
    },
    {
      "cell_type": "markdown",
      "source": [
        "## Connect with Google drive to access data \n",
        "\n",
        "In order to access the data, you first need to create a shortcut of the data folder to your own Gdrive. If you've been granted editing rights, you should be able to edit the content of the folder, i.e. add, move and delete data, create and rename folders, etc."
      ],
      "metadata": {
        "id": "QYjhPHYZ1MVO"
      }
    },
    {
      "cell_type": "code",
      "source": [
        "# connect with google drive\n",
        "from google.colab import drive\n",
        "drive.mount('/content/drive')"
      ],
      "metadata": {
        "colab": {
          "base_uri": "https://localhost:8080/"
        },
        "id": "3-gEE8t61TyI",
        "outputId": "0691b002-4f16-4b6a-8c6e-4226a3d05e0a"
      },
      "execution_count": 1,
      "outputs": [
        {
          "output_type": "stream",
          "name": "stdout",
          "text": [
            "Drive already mounted at /content/drive; to attempt to forcibly remount, call drive.mount(\"/content/drive\", force_remount=True).\n"
          ]
        }
      ]
    },
    {
      "cell_type": "code",
      "source": [
        "# redirect the working directory of this script to the data folder\n",
        "%cd /content/drive/MyDrive/Work/Frontline/data/\n",
        "#%cd /content/drive/MyDrive/data/"
      ],
      "metadata": {
        "colab": {
          "base_uri": "https://localhost:8080/"
        },
        "id": "UG1MwJ4Y1U_h",
        "outputId": "d3234769-722f-40cc-9046-9a889c63eb83"
      },
      "execution_count": 2,
      "outputs": [
        {
          "output_type": "stream",
          "name": "stdout",
          "text": [
            "/content/drive/.shortcut-targets-by-id/1WfnZsqpG1r110J63sMbfS5TpsDOkveiV/data\n"
          ]
        }
      ]
    },
    {
      "cell_type": "markdown",
      "source": [
        "## Load data"
      ],
      "metadata": {
        "id": "Ej0F6zHR1Xz3"
      }
    },
    {
      "cell_type": "code",
      "source": [
        "import tqdm as tqdm\n",
        "from collections import Counter\n",
        "import os\n",
        "import pandas as pd\n",
        "import re \n",
        "from ast import literal_eval\n",
        "import statistics\n",
        "import matplotlib.pyplot as plt\n",
        "import re\n",
        "import pandas as pd\n",
        "\n",
        "folder_path = \"filtered/filtered_4_26\""
      ],
      "metadata": {
        "id": "Pb-1q-dqzgQH"
      },
      "execution_count": 3,
      "outputs": []
    },
    {
      "cell_type": "markdown",
      "source": [
        "### Method 1: get csv files "
      ],
      "metadata": {
        "id": "6Ny15n7AO8PV"
      }
    },
    {
      "cell_type": "code",
      "source": [
        "\n",
        "dfs = []\n",
        "\n",
        "# loop through files \n",
        "for filename in os.listdir(folder_path):\n",
        "    # if csv file, load and add to dfs  \n",
        "    if filename.endswith(\".csv\"):\n",
        "        file_path = os.path.join(folder_path, filename)\n",
        "        # import csv with text as list object \n",
        "        df = pd.read_csv(file_path, index_col=0, converters={\"text\":literal_eval})\n",
        "        dfs.append(df)\n",
        "# combine files in df\n",
        "df_filtered = pd.concat(dfs, ignore_index=True)"
      ],
      "metadata": {
        "id": "ktoRDGajzoqi"
      },
      "execution_count": 4,
      "outputs": []
    },
    {
      "cell_type": "markdown",
      "source": [
        "#### Create a random subset of the data "
      ],
      "metadata": {
        "id": "Ieb0Shf71cvu"
      }
    },
    {
      "cell_type": "code",
      "source": [
        "# size of subset we want \n",
        "number = 5000"
      ],
      "metadata": {
        "id": "bGL1Cb9R8fLD"
      },
      "execution_count": 5,
      "outputs": []
    },
    {
      "cell_type": "code",
      "source": [
        "df_sample = df_filtered.sample(number,)# random_state=42)"
      ],
      "metadata": {
        "id": "_7qzAZDi778j"
      },
      "execution_count": 6,
      "outputs": []
    },
    {
      "cell_type": "markdown",
      "source": [
        "### Method 2: get a csv file"
      ],
      "metadata": {
        "id": "pFNlGnG7PD23"
      }
    },
    {
      "cell_type": "code",
      "source": [
        "#df_sample_file = pd.read_csv('sample.csv', encoding='utf-8', index_col=0)"
      ],
      "metadata": {
        "id": "RP4BKUzjPIF5"
      },
      "execution_count": 7,
      "outputs": []
    },
    {
      "cell_type": "markdown",
      "source": [
        "### Method 3: Manually selected dataset of relevant articles\n",
        "--> ensuring that the dataset only contains relevant articles, espscially for testing"
      ],
      "metadata": {
        "id": "17Rx0STiu1nu"
      }
    },
    {
      "cell_type": "code",
      "source": [
        "subset_dv=df_filtered.loc[(11483,14044,62494,49199,11047,14948,10565,31059,58890,20347,55396,56389,5528,18532,59435,8035,27119,12788,59992,21477,10331,26314,45356,61023,31865,48960,44587,17992,14763,60043,20540,4563,13213,6751,43374,41018,38770,24654,21936,29297,1869,33163,60220,61232,57613,48979,33785,51576,8300,7675),:]"
      ],
      "metadata": {
        "id": "bbKfHRI1u7ag"
      },
      "execution_count": 8,
      "outputs": []
    },
    {
      "cell_type": "markdown",
      "source": [
        "### Select Data\n",
        "--> specify which data set of the three above methods should be used in the following analysis"
      ],
      "metadata": {
        "id": "VXVyMc5mkWGM"
      }
    },
    {
      "cell_type": "code",
      "source": [
        "# uncomment for full data set\n",
        "df_subset=df_filtered\n",
        "\n",
        "# uncomment for random data of 100 from full data set\n",
        "#df_subset=df_sample\n",
        "\n",
        "# uncomment for sample data set from csv file\n",
        "# df_subset= df_sample_file\n",
        "\n",
        "# uncomment for manually selected articles \n",
        "# df_subset = subset_dv"
      ],
      "metadata": {
        "id": "5-OJXUYwkhZ2"
      },
      "execution_count": 9,
      "outputs": []
    },
    {
      "cell_type": "markdown",
      "source": [
        "## Adjust format for export"
      ],
      "metadata": {
        "id": "5FJOlUvd1gHQ"
      }
    },
    {
      "cell_type": "markdown",
      "source": [
        "### Methods"
      ],
      "metadata": {
        "id": "7Kwdv6Uim224"
      }
    },
    {
      "cell_type": "code",
      "source": [
        "def reformat_article(art, min_words=5, max_words=125):\n",
        "  \"\"\" function to reformat an article: remove white spaces, empty paragraphs, genios styles, too long/ short paragraphs\n",
        "  Parameters:\n",
        "    - art (list of str): article as list of paragraphs\n",
        "    - min_words (int): minimum number of word length a paragraph should have, default is 5\n",
        "    - max_words (int):  maximum number of word length a paragraph should have, default is 125\n",
        "  Returns:\n",
        "    - art (list of str). artic\n",
        "  \"\"\"\n",
        "  # remove genios styles \n",
        "  art = [re.sub(r'<.*?>', '', x) for x in art]\n",
        "\n",
        "  # remove new line characters and preceeding whitespaces\n",
        "  art = [x.strip() for x in art]\n",
        "\n",
        "  #remove empty paragraphs\n",
        "  art = [x for x in art if x.strip()]\n",
        "\n",
        "  #remove paragraphs that are too long\n",
        "  art = [x for x in art if len(x.split()) < max_words]\n",
        "\n",
        "  #remove paragraphs that are too short, ie. by default 5 or fewer words\n",
        "  art = [x for x in art if len(x.split()) >= min_words]  \n",
        "\n",
        "  return art"
      ],
      "metadata": {
        "id": "beTpoSVOZowg"
      },
      "execution_count": 10,
      "outputs": []
    },
    {
      "cell_type": "markdown",
      "source": [
        "## Cleaning text:\n",
        "- remove newline characters\n",
        "- remove paragraphs if too long or short\n",
        "- remove genios styles \n",
        "- remove empty paragraphs\n",
        "- remove duplicate articles"
      ],
      "metadata": {
        "id": "1IRqAQmlPjPX"
      }
    },
    {
      "cell_type": "code",
      "source": [
        "#remove duplicates\n",
        "df_subset.artikel_id=df_subset.artikel_id.astype(str)\n",
        "df_subset=df_subset.drop_duplicates(keep=\"first\", subset=[\"artikel_id\",\"datum\"])\n",
        "df_subset=df_subset.drop_duplicates(keep=\"first\", subset=[\"text\"])\n",
        "df_subset.shape"
      ],
      "metadata": {
        "colab": {
          "base_uri": "https://localhost:8080/"
        },
        "outputId": "52b056bf-cb56-491a-9d6b-70fe2753572f",
        "id": "FN2VwuAtOkgG"
      },
      "execution_count": 11,
      "outputs": [
        {
          "output_type": "execute_result",
          "data": {
            "text/plain": [
              "(49337, 8)"
            ]
          },
          "metadata": {},
          "execution_count": 11
        }
      ]
    },
    {
      "cell_type": "code",
      "source": [
        "# clean articles\n",
        "df_subset[\"text\"] = [ reformat_article(art) for art in df_subset[\"text\"]]\n",
        "df_subset.shape"
      ],
      "metadata": {
        "id": "uGaaq0t53tzy",
        "colab": {
          "base_uri": "https://localhost:8080/"
        },
        "outputId": "1528b49c-b511-4f4d-e8cb-6e9c1e9ea577"
      },
      "execution_count": 12,
      "outputs": [
        {
          "output_type": "execute_result",
          "data": {
            "text/plain": [
              "(49337, 8)"
            ]
          },
          "metadata": {},
          "execution_count": 12
        }
      ]
    },
    {
      "cell_type": "code",
      "source": [
        "# remove \"empty\" articles, that wereremove in the previous step\n",
        "df_subset=df_subset[df_subset['text'].notna()] \n",
        "df_subset=df_subset[df_subset['text'].apply(len)!=0]\n",
        "df_subset.shape"
      ],
      "metadata": {
        "id": "pqYcwiaMgvuw",
        "colab": {
          "base_uri": "https://localhost:8080/"
        },
        "outputId": "c94ade3c-f9b9-4cb2-cd9b-6d46065c3f6f"
      },
      "execution_count": 13,
      "outputs": [
        {
          "output_type": "execute_result",
          "data": {
            "text/plain": [
              "(46542, 8)"
            ]
          },
          "metadata": {},
          "execution_count": 13
        }
      ]
    },
    {
      "cell_type": "code",
      "source": [
        "df_subset_clean=df_subset"
      ],
      "metadata": {
        "id": "fCcu3CNXtEbP"
      },
      "execution_count": 14,
      "outputs": []
    },
    {
      "cell_type": "markdown",
      "source": [
        "## Filter by content: "
      ],
      "metadata": {
        "id": "hg0VDadS_J8r"
      }
    },
    {
      "cell_type": "code",
      "source": [
        "from scripts import filtering "
      ],
      "metadata": {
        "id": "ueAC4kgyU1Od"
      },
      "execution_count": 15,
      "outputs": []
    },
    {
      "cell_type": "code",
      "source": [
        "# temporaray: step is part of format_data\n",
        "df_subset_clean=df_subset_clean[df_subset_clean[\"name\"]!=\"Falter (APA)\"]\n",
        "df_subset_clean=df_subset_clean[df_subset_clean[\"name\"]!=\"Der Rheintaler\"]\n",
        "df_subset_clean.shape"
      ],
      "metadata": {
        "id": "HAV1_48TMXfv",
        "colab": {
          "base_uri": "https://localhost:8080/"
        },
        "outputId": "0900fc5c-3958-4d72-fe4b-cdf37e119e17"
      },
      "execution_count": 16,
      "outputs": [
        {
          "output_type": "execute_result",
          "data": {
            "text/plain": [
              "(46270, 8)"
            ]
          },
          "metadata": {},
          "execution_count": 16
        }
      ]
    },
    {
      "cell_type": "markdown",
      "source": [
        "### Filter Articles by Title"
      ],
      "metadata": {
        "id": "B0XvJlNRjzcu"
      }
    },
    {
      "cell_type": "code",
      "source": [
        "exclude_exact_titles=[\"Beratungsstellen\", \"Termine\",\"Hilfe\",\"Hier_finden_Sie_Hilfe_2sp\",\"was - wann - wo\",\"IN KÜRZE\",\"Kurz notiert :\",\"Was - wann -wo\",\n",
        "                \"Beratung + Hilfe\", \"Beratung\", \"Nachrichten\",\"Hilfe bei häuslicher Gewalt\",\"Termine heute\",\"kurz & bündig\",\"tipps der redaktion\",\"WAS, WANN, WO\",\"service\",\"Hier gibt es Hilfe\",\"kurZNotiert\",\n",
        "                \"CORONA-NACHRICHTEN\",\"Kalenderblatt\"\n",
        "]\n",
        "exclude_titles=[\"beratungsstelle\", \"Frauenhaus\",\"aktion gegen\", \"statistik\",\"corona-krise\",\"fallzahlen\",\"dienstbereit\",\"weißer ring\",\"weißen ring\",\"kampagne\"]"
      ],
      "metadata": {
        "id": "aZom_rZoY6wZ"
      },
      "execution_count": 17,
      "outputs": []
    },
    {
      "cell_type": "code",
      "source": [
        "# only keep articles with titles not in the exclude list: \n",
        "# exact matches\n",
        "df_subset_clean=filtering.filter_data(df_subset_clean,\"titel\",exclude_exact_titles, exact_match=True)\n",
        "# keywordsearch\n",
        "df_subset_clean=filtering.filter_data(df_subset_clean,\"titel\",exclude_titles, exact_match=False)"
      ],
      "metadata": {
        "colab": {
          "base_uri": "https://localhost:8080/"
        },
        "id": "nozOw1YOESHb",
        "outputId": "6d80e674-6589-4d92-96df-af42d4bf9150"
      },
      "execution_count": 18,
      "outputs": [
        {
          "output_type": "stream",
          "name": "stdout",
          "text": [
            "(44111, 8)\n",
            "(42665, 8)\n"
          ]
        }
      ]
    },
    {
      "cell_type": "code",
      "source": [
        "#without title: usualla events/ hotlines\n",
        "df_subset_clean=df_subset_clean[~df_subset_clean[\"titel\"].isna()]"
      ],
      "metadata": {
        "id": "q1y-V1UHaByQ"
      },
      "execution_count": 19,
      "outputs": []
    },
    {
      "cell_type": "markdown",
      "source": [
        "### Filter by Ressort"
      ],
      "metadata": {
        "id": "T0nJY77KKKUK"
      }
    },
    {
      "cell_type": "code",
      "source": [
        "exclude_exact_ressorts=[\"Termine\",\"tv\", \"tipps und termine\", \"fernsehen\",\"gottesdienste\",\"Termine & Service\",\"service\",\"Leserbriefe\",\"Leserservice\"]"
      ],
      "metadata": {
        "id": "ar_LKJu1GvIF"
      },
      "execution_count": 20,
      "outputs": []
    },
    {
      "cell_type": "code",
      "source": [
        "# only keep articles with ressorts not in the exclude list: exact matches\n",
        "df_subset_clean=filtering.filter_data(df_subset_clean,\"ressort\",exclude_exact_ressorts, exact_match=True)"
      ],
      "metadata": {
        "colab": {
          "base_uri": "https://localhost:8080/"
        },
        "id": "J0oBrHFSKPUC",
        "outputId": "9e3e7129-1655-432e-f212-aef050d190fc"
      },
      "execution_count": 21,
      "outputs": [
        {
          "output_type": "stream",
          "name": "stdout",
          "text": [
            "(31186, 8)\n"
          ]
        }
      ]
    },
    {
      "cell_type": "markdown",
      "source": [
        "### Filter by Subtitle"
      ],
      "metadata": {
        "id": "GpRXNDd-Rtuj"
      }
    },
    {
      "cell_type": "code",
      "source": [
        "exclude_exact_subtitles=[\"termine\", \"klatsch & tratsch\"]\n",
        "exclude_subtitles=[\"hotline\",\"beratungsstelle\",\"weißer ring\",\"fernsehserie\",\"hilfsangebote\",\"Kriminalitätsstatistik\",\"Kriminalstatistik\", \"in die Tüte\", \"Kampagne\"]"
      ],
      "metadata": {
        "id": "atHClJOALwrB"
      },
      "execution_count": 22,
      "outputs": []
    },
    {
      "cell_type": "code",
      "source": [
        "# only keep articles with titles not in the exclude list: exact matches\n",
        "df_subset_clean=filtering.filter_data(df_subset_clean,\"untertitel\",exclude_exact_subtitles, exact_match=True )\n",
        "# only keep articles with titles not in the exclude list: exact matches\n",
        "df_subset_clean=filtering.filter_data(df_subset_clean,\"untertitel\",exclude_subtitles, exact_match=False )"
      ],
      "metadata": {
        "colab": {
          "base_uri": "https://localhost:8080/"
        },
        "outputId": "d4a0e229-71d8-4bee-cab3-96b877e96296",
        "id": "GymIl8kqLsxb"
      },
      "execution_count": 23,
      "outputs": [
        {
          "output_type": "stream",
          "name": "stdout",
          "text": [
            "(31172, 8)\n",
            "(30347, 8)\n"
          ]
        }
      ]
    },
    {
      "cell_type": "markdown",
      "source": [
        "### Filter by Text"
      ],
      "metadata": {
        "id": "lGyzcy6unPdT"
      }
    },
    {
      "cell_type": "code",
      "source": [
        "exclude_articles=[# Notufe, Beratungen\n",
        "                        \"Bereitschaftsdienst\", \"Hotline\", \"Notruf\", \"Hilfetelefon\",\"behindertenfahrdienst\",\"Polizeiinspektion\", \n",
        "                        \"Feuerwehr\",\"rettungsdienst\", \"Notdienst\",\"Bereitschaftspraxis\",\"Öffnungszeiten\",\"Vergiftungen\",\n",
        "                        \"Ärztehaus\",\"Selbsthilfegruppe\",\"Leitstelle\",\"Tel\",\"Aids\",\"Ambulante\",\"ACE\", \n",
        "                        \"Club\",\"Interventionsstelle\",\"Frauenberatungsstelle\",\"Rufnummer\",\"Rufnummern\", \"apotheke\", \"hilfsangebot\",\"hilfsangebote\", \"Klinikum\"\n",
        "                        \"opferhilfe\",\"Berufsbildungszentrum\",\"opferschutz\",\n",
        "                        # Kampagnen, Akitonen\n",
        "                        \"kampagne\", \"aktion\", \"ring\",\"initiative\",\"Frauen helfen Frauen\"\n",
        "                        # Events, Services\n",
        "                        \"Mo Di\",\"mi Do\",\"do fr\", \"mo do\",\"sa so\", \"sa mo\",\"di mi\",\"fr sa\", \"online\",\"Ü50 Singletreff\", \"Uhr\",\"Treffpunkt\",\n",
        "                        #corona\n",
        "                        \"Dieser Artikel wird laufend aktualisiert\"\n",
        "\n",
        "\n",
        "]"
      ],
      "metadata": {
        "id": "NLX7MQ6Fs1tg"
      },
      "execution_count": 24,
      "outputs": []
    },
    {
      "cell_type": "code",
      "source": [
        "# Filter out if keywords occur in the first 5 words of a text\n",
        "df_subset_clean=filtering.filter_data(df_subset_clean,\"text\",exclude_articles, exact_match=False ,first_words=5)"
      ],
      "metadata": {
        "id": "I6--wvlqBpYz",
        "colab": {
          "base_uri": "https://localhost:8080/"
        },
        "outputId": "9cc464cc-57aa-449d-811b-0b0a2f8378f1"
      },
      "execution_count": 25,
      "outputs": [
        {
          "output_type": "stream",
          "name": "stdout",
          "text": [
            "(25318, 8)\n"
          ]
        }
      ]
    },
    {
      "cell_type": "markdown",
      "source": [
        "###Filter by Lengths"
      ],
      "metadata": {
        "id": "XR9dojoitB34"
      }
    },
    {
      "cell_type": "code",
      "source": [
        "df_subset_clean[\"lengths\"]=[len(\"\\n\".join(i).split()) for i in df_subset_clean.text]"
      ],
      "metadata": {
        "id": "TgnyCKJGtNCa"
      },
      "execution_count": 26,
      "outputs": []
    },
    {
      "cell_type": "code",
      "source": [
        "df_subset_clean[\"lengths\"].quantile([0,0.5,0.7,0.9,0.95,0.99,1])"
      ],
      "metadata": {
        "colab": {
          "base_uri": "https://localhost:8080/"
        },
        "id": "Y6zV4JEvtgXp",
        "outputId": "8016a3d7-6ab8-436c-f29c-73fb28a78c11"
      },
      "execution_count": 27,
      "outputs": [
        {
          "output_type": "execute_result",
          "data": {
            "text/plain": [
              "0.00       5.00\n",
              "0.50     349.00\n",
              "0.70     506.00\n",
              "0.90     766.00\n",
              "0.95    1004.15\n",
              "0.99    1696.00\n",
              "1.00    6733.00\n",
              "Name: lengths, dtype: float64"
            ]
          },
          "metadata": {},
          "execution_count": 27
        }
      ]
    },
    {
      "cell_type": "code",
      "source": [
        "df_subset_clean=df_subset_clean[df_subset_clean.lengths<1000]"
      ],
      "metadata": {
        "id": "v-8Ja6i3t2qJ"
      },
      "execution_count": 28,
      "outputs": []
    },
    {
      "cell_type": "code",
      "source": [
        "df_subset_clean.to_csv(\"filtered/filtered_06_08.csv\", index=False)"
      ],
      "metadata": {
        "id": "uBsI8QBqSwnn"
      },
      "execution_count": null,
      "outputs": []
    },
    {
      "cell_type": "markdown",
      "source": [
        "### Filter by Paragraph"
      ],
      "metadata": {
        "id": "Aa-slP38P5KQ"
      }
    },
    {
      "cell_type": "code",
      "source": [
        "df_exploded=df_subset_clean"
      ],
      "metadata": {
        "id": "ObiRim-6IcbS"
      },
      "execution_count": null,
      "outputs": []
    },
    {
      "cell_type": "code",
      "source": [
        "# Explode \"text\" column\n",
        "df_exploded= df_exploded.explode(\"text\")\n",
        "# Create \"artikel_order\" column\n",
        "df_exploded[\"artikel_order\"] = df_exploded.groupby(\"artikel_id\").cumcount() + 1\n",
        "df_exploded.shape"
      ],
      "metadata": {
        "id": "h22XwUD9P25d"
      },
      "execution_count": null,
      "outputs": []
    },
    {
      "cell_type": "code",
      "source": [
        "# remove duplicated paragraphs\n",
        "df_exploded=df_exploded.drop_duplicates(\"text\")\n",
        "df_exploded.shape"
      ],
      "metadata": {
        "id": "IFEFiMM1Tkq1"
      },
      "execution_count": null,
      "outputs": []
    },
    {
      "cell_type": "code",
      "source": [
        "# remove hotlines, etc, if keywords contained in the first 5 words\n",
        "df_exploded=filtering.filter_data(df_exploded,\"text\",exclude_articles,False,5)\n",
        "# remove paragraphs by keywords if container in the first 5 words\n",
        "\n",
        "exclude_paragraphs=[\"Stadtteiltreff\",\"Plakataktion\",\"One Billion Rising\",\"Gewalt kommt nicht in die Tüte\",\"opferschutzorganisation\",\"Frauen helfen Frauen\",\"statistik\", \"kriminalstatistik\", \"landeskriminalamt\"]\n",
        "df_exploded=filtering.filter_data(df_exploded,\"text\",exclude_paragraphs,False,5)"
      ],
      "metadata": {
        "id": "OrsJ50BxEH4W"
      },
      "execution_count": null,
      "outputs": []
    },
    {
      "cell_type": "code",
      "source": [
        "# regex filter: email, links, times, streets,email, weekdays\n",
        "df_exploded=filtering.regex_filter(df_exploded,\"text\",)"
      ],
      "metadata": {
        "id": "scCTikgEI9Fd"
      },
      "execution_count": null,
      "outputs": []
    },
    {
      "cell_type": "code",
      "source": [
        "# very short paragraphs usually are not part of the article\n",
        "df_exploded.loc[:,\"chars\"]=df_exploded[\"text\"].apply(len)\n",
        "df_exploded=df_exploded[df_exploded[\"chars\"]>60]\n",
        "df_exploded.shape"
      ],
      "metadata": {
        "id": "lkntG5OJraxM"
      },
      "execution_count": null,
      "outputs": []
    },
    {
      "cell_type": "markdown",
      "source": [
        "### Excluding annotated Paragraphs"
      ],
      "metadata": {
        "id": "eqPBOuY6mqUT"
      }
    },
    {
      "cell_type": "code",
      "source": [
        "import json"
      ],
      "metadata": {
        "id": "v8RN9f25GrIj"
      },
      "execution_count": null,
      "outputs": []
    },
    {
      "cell_type": "code",
      "execution_count": null,
      "metadata": {
        "id": "Ue5Z2rnAE_yQ"
      },
      "outputs": [],
      "source": [
        "#read json data\n",
        "json_data=json.load(open(\"annotated/annotations_05_18.json\",encoding='utf-8'))"
      ]
    },
    {
      "cell_type": "code",
      "execution_count": null,
      "metadata": {
        "id": "GC3Ir-qYDqHX"
      },
      "outputs": [],
      "source": [
        "#convert to dataframe\n",
        "data=pd.DataFrame(json_data[\"documents\"])"
      ]
    },
    {
      "cell_type": "code",
      "execution_count": null,
      "metadata": {
        "id": "dfHJHZTcGoUq"
      },
      "outputs": [],
      "source": [
        "#for now: filter out paragraphs that have not been annotated \n",
        "data=data[data[\"annotations\"].apply(len)>0]\n",
        "#reset index\n",
        "data=data.reset_index(drop=True)\n",
        "data.head()"
      ]
    },
    {
      "cell_type": "code",
      "source": [
        "data[\"artikel_id\"]=[entr[1].attributes_flat[\"artikel_id\"] for entr in data.iterrows()]\n",
        "data[\"artikel_order\"]=[entr[1].attributes_flat[\"artikel_order\"] for entr in data.iterrows()]\n",
        "data[\"name\"]=[entr[1].attributes_flat[\"name\"] for entr in data.iterrows()]"
      ],
      "metadata": {
        "id": "7urpm2X5H3Ln"
      },
      "execution_count": null,
      "outputs": []
    },
    {
      "cell_type": "code",
      "source": [
        "data[\"artikel_order\"]=data[\"artikel_order\"].astype(int)"
      ],
      "metadata": {
        "id": "vsxXW_hnLCH1"
      },
      "execution_count": null,
      "outputs": []
    },
    {
      "cell_type": "code",
      "source": [
        "data=data[[\"artikel_id\",\"name\",\"annotations\",\"artikel_order\"]]"
      ],
      "metadata": {
        "id": "1Tb7pT0ZN_3B"
      },
      "execution_count": null,
      "outputs": []
    },
    {
      "cell_type": "code",
      "source": [
        "df_merged=pd.merge(data,df_exploded,left_on=[\"artikel_id\",\"artikel_order\",\"name\"],right_on=[\"artikel_id\",\"artikel_order\",\"name\"], how=\"right\")"
      ],
      "metadata": {
        "id": "PcfEXcb7Iyzu"
      },
      "execution_count": null,
      "outputs": []
    },
    {
      "cell_type": "code",
      "source": [
        "# remove paragraphs that already have annotations\n",
        "df_exploded=df_merged[df_merged.annotations.isna()]"
      ],
      "metadata": {
        "id": "hsjzAMdSQhtj"
      },
      "execution_count": null,
      "outputs": []
    },
    {
      "cell_type": "markdown",
      "source": [
        "### Randomly select one paragraph per article"
      ],
      "metadata": {
        "id": "D_4vCxClhzl2"
      }
    },
    {
      "cell_type": "code",
      "source": [
        "df_subset_elinor1=df_exploded"
      ],
      "metadata": {
        "id": "3C_vKteF1NkG"
      },
      "execution_count": null,
      "outputs": []
    },
    {
      "cell_type": "code",
      "source": [
        "import nltk\n",
        "nltk.download('punkt')"
      ],
      "metadata": {
        "id": "yjOtzi_H58w4"
      },
      "execution_count": null,
      "outputs": []
    },
    {
      "cell_type": "code",
      "source": [
        "def count_sentences(text):\n",
        "    return len(nltk.sent_tokenize(text))"
      ],
      "metadata": {
        "id": "M2OMY9wc5-Gl"
      },
      "execution_count": null,
      "outputs": []
    },
    {
      "cell_type": "code",
      "source": [
        "df_subset_elinor1['num_sentences'] = df_subset_elinor1['text'].apply(count_sentences)"
      ],
      "metadata": {
        "id": "z2Pc_Efw6Aku"
      },
      "execution_count": null,
      "outputs": []
    },
    {
      "cell_type": "code",
      "source": [
        "# Define a function to randomly select one row from each group\n",
        "def select_random_row(group):\n",
        "    if group['num_sentences'].max() > 1:\n",
        "        return group[group['num_sentences'] > 1].sample(n=1)\n",
        "    else:\n",
        "        return group.head(1)"
      ],
      "metadata": {
        "id": "iI_MlT6Y9QFU"
      },
      "execution_count": null,
      "outputs": []
    },
    {
      "cell_type": "code",
      "source": [
        "# Apply the function to each group and combine the results\n",
        "random_rows = df_subset_elinor1.groupby('artikel_id').apply(select_random_row).reset_index(drop=True)"
      ],
      "metadata": {
        "id": "vzqDnnIR9b6T"
      },
      "execution_count": null,
      "outputs": []
    },
    {
      "cell_type": "code",
      "source": [
        "random_rows=random_rows.loc[:,random_rows.columns!=\"annotations\"]"
      ],
      "metadata": {
        "id": "jSmWlHHbsKV8"
      },
      "execution_count": null,
      "outputs": []
    },
    {
      "cell_type": "markdown",
      "source": [
        "## Export as csv"
      ],
      "metadata": {
        "id": "0Go0cc9U1kpE"
      }
    },
    {
      "cell_type": "code",
      "source": [
        "output_path = \"elinor\""
      ],
      "metadata": {
        "id": "ItHRtFVP9vl_"
      },
      "execution_count": null,
      "outputs": []
    },
    {
      "cell_type": "markdown",
      "source": [
        "#### Export Files in chunks of 2000 paragraphs"
      ],
      "metadata": {
        "id": "3gt7eEhvoOWm"
      }
    },
    {
      "cell_type": "code",
      "source": [
        "batches=round(random_rows.shape[0]/2000+0.5)"
      ],
      "metadata": {
        "id": "1mgrHxRxfn-U"
      },
      "execution_count": null,
      "outputs": []
    },
    {
      "cell_type": "code",
      "source": [
        "random_rows.shape"
      ],
      "metadata": {
        "colab": {
          "base_uri": "https://localhost:8080/"
        },
        "id": "jtlwmm3IxIom",
        "outputId": "7f973d9d-0f59-4549-adcd-9cea3f356f18"
      },
      "execution_count": null,
      "outputs": [
        {
          "output_type": "execute_result",
          "data": {
            "text/plain": [
              "(24147, 11)"
            ]
          },
          "metadata": {},
          "execution_count": 121
        }
      ]
    },
    {
      "cell_type": "code",
      "source": [
        "for i in range(1,batches+1):\n",
        "  chunk=random_rows.iloc[((i-1)*2000):(i*2000),:]\n",
        "  print(chunk.shape)\n",
        "  chunk.to_csv(output_path+f\"/annotation_test_05_22_part{i}.csv\", index=False, header = True,encoding = 'utf-8')"
      ],
      "metadata": {
        "id": "XcienU_5nNpu"
      },
      "execution_count": null,
      "outputs": []
    },
    {
      "cell_type": "markdown",
      "source": [
        "#### Export as one File"
      ],
      "metadata": {
        "id": "bYnDvCA-ozo_"
      }
    },
    {
      "cell_type": "code",
      "source": [
        "#random_rows.to_csv(output_path+\"/annotation_test_05_18.csv\", index=False, header = True,encoding = 'utf-8')"
      ],
      "metadata": {
        "id": "dJO8Splt9raZ"
      },
      "execution_count": null,
      "outputs": []
    }
  ]
}