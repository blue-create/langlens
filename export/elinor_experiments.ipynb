{
  "nbformat": 4,
  "nbformat_minor": 0,
  "metadata": {
    "colab": {
      "provenance": [],
      "authorship_tag": "ABX9TyMOFjd9TyV1HvzvYdNSysZc",
      "include_colab_link": true
    },
    "kernelspec": {
      "name": "python3",
      "display_name": "Python 3"
    },
    "language_info": {
      "name": "python"
    }
  },
  "cells": [
    {
      "cell_type": "markdown",
      "metadata": {
        "id": "view-in-github",
        "colab_type": "text"
      },
      "source": [
        "<a href=\"https://colab.research.google.com/github/blue-create/langlens/blob/main/export/elinor_experiments.ipynb\" target=\"_parent\"><img src=\"https://colab.research.google.com/assets/colab-badge.svg\" alt=\"Open In Colab\"/></a>"
      ]
    },
    {
      "cell_type": "markdown",
      "source": [
        "### Purpose:\n",
        "- exporting csvs to be uploaded as experiment to elinor"
      ],
      "metadata": {
        "id": "lgvXKVKtjN_s"
      }
    },
    {
      "cell_type": "markdown",
      "source": [
        "### Imports"
      ],
      "metadata": {
        "id": "416lpZJ0jdD_"
      }
    },
    {
      "cell_type": "code",
      "source": [
        "import pandas as pd\n",
        "import os\n",
        "import numpy as np\n",
        "import json\n",
        "from ast import literal_eval"
      ],
      "metadata": {
        "id": "ZStqCSJBjeJ1"
      },
      "execution_count": 1,
      "outputs": []
    },
    {
      "cell_type": "markdown",
      "source": [
        "### Constants & Methods"
      ],
      "metadata": {
        "id": "SXxnk1JAkrzs"
      }
    },
    {
      "cell_type": "code",
      "source": [
        "exclude_articles=[# Notufe, Beratungen\n",
        "                        \"Bereitschaftsdienst\", \"Hotline\", \"Notruf\", \"Hilfetelefon\",\"behindertenfahrdienst\",\"Polizeiinspektion\",\n",
        "                        \"Feuerwehr\",\"rettungsdienst\", \"Notdienst\",\"Bereitschaftspraxis\",\"Öffnungszeiten\",\"Vergiftungen\",\n",
        "                        \"Ärztehaus\",\"Selbsthilfegruppe\",\"Leitstelle\",\"Tel\",\"Aids\",\"Ambulante\",\"ACE\",\n",
        "                        \"Club\",\"Interventionsstelle\",\"Frauenberatungsstelle\",\"Rufnummer\",\"Rufnummern\", \"apotheke\", \"hilfsangebot\",\"hilfsangebote\", \"Klinikum\"\n",
        "                        \"opferhilfe\",\"Berufsbildungszentrum\",\"opferschutz\",\n",
        "                        # Kampagnen, Akitonen\n",
        "                        \"kampagne\", \"aktion\", \"ring\",\"initiative\",\"Frauen helfen Frauen\"\n",
        "                        # Events, Services\n",
        "                        \"Mo Di\",\"mi Do\",\"do fr\", \"mo do\",\"sa so\", \"sa mo\",\"di mi\",\"fr sa\", \"online\",\"Ü50 Singletreff\", \"Uhr\",\"Treffpunkt\",\n",
        "                        #corona\n",
        "                        \"Dieser Artikel wird laufend aktualisiert\"\n",
        "]"
      ],
      "metadata": {
        "id": "dtqR8MXpktoF"
      },
      "execution_count": 2,
      "outputs": []
    },
    {
      "cell_type": "markdown",
      "source": [
        "### Connect with Google drive to access data\n"
      ],
      "metadata": {
        "id": "QYjhPHYZ1MVO"
      }
    },
    {
      "cell_type": "code",
      "source": [
        "# connect with google drive\n",
        "from google.colab import drive\n",
        "drive.mount('/content/drive')"
      ],
      "metadata": {
        "id": "3-gEE8t61TyI",
        "colab": {
          "base_uri": "https://localhost:8080/"
        },
        "outputId": "3f6e42b2-9b49-4441-caa6-ef0d944abe91"
      },
      "execution_count": 3,
      "outputs": [
        {
          "output_type": "stream",
          "name": "stdout",
          "text": [
            "Mounted at /content/drive\n"
          ]
        }
      ]
    },
    {
      "cell_type": "code",
      "source": [
        "# redirect the working directory of this script to the data folder\n",
        "%cd /content/drive/MyDrive/Work/Frontline/data/\n",
        "#%cd /content/drive/MyDrive/data/"
      ],
      "metadata": {
        "id": "UG1MwJ4Y1U_h",
        "colab": {
          "base_uri": "https://localhost:8080/"
        },
        "outputId": "f0b77a67-f0a3-41d4-974e-eb0d96bc9bfc"
      },
      "execution_count": 4,
      "outputs": [
        {
          "output_type": "stream",
          "name": "stdout",
          "text": [
            "/content/drive/.shortcut-targets-by-id/1WfnZsqpG1r110J63sMbfS5TpsDOkveiV/data\n"
          ]
        }
      ]
    },
    {
      "cell_type": "code",
      "source": [
        "from scripts import filtering"
      ],
      "metadata": {
        "id": "4qfsB1RvkoMW"
      },
      "execution_count": 5,
      "outputs": []
    },
    {
      "cell_type": "markdown",
      "source": [
        "Import filtered articles"
      ],
      "metadata": {
        "id": "LCdSNARXjnZT"
      }
    },
    {
      "cell_type": "code",
      "execution_count": 6,
      "metadata": {
        "id": "RBXiA8WhjMOH"
      },
      "outputs": [],
      "source": [
        "df=pd.read_csv(\"filtered/filtered_06_16.csv\",converters={\"text\":literal_eval})"
      ]
    },
    {
      "cell_type": "code",
      "source": [
        "# Explode \"text\" column\n",
        "df_exploded= df.explode(\"text\")\n",
        "# Create \"artikel_order\" column\n",
        "df_exploded[\"artikel_order\"] = df_exploded.groupby(\"artikel_id\").cumcount() + 1\n",
        "df_exploded.shape"
      ],
      "metadata": {
        "id": "h22XwUD9P25d",
        "colab": {
          "base_uri": "https://localhost:8080/"
        },
        "outputId": "778fd613-e7a2-4b79-e9a8-802af3c5ad9d"
      },
      "execution_count": 7,
      "outputs": [
        {
          "output_type": "execute_result",
          "data": {
            "text/plain": [
              "(228753, 10)"
            ]
          },
          "metadata": {},
          "execution_count": 7
        }
      ]
    },
    {
      "cell_type": "code",
      "source": [
        "# remove duplicated paragraphs\n",
        "df_exploded=df_exploded.drop_duplicates(\"text\")\n",
        "df_exploded.shape"
      ],
      "metadata": {
        "id": "IFEFiMM1Tkq1",
        "colab": {
          "base_uri": "https://localhost:8080/"
        },
        "outputId": "1de664a2-9bd2-42a0-afc4-3b2e6ec065de"
      },
      "execution_count": 8,
      "outputs": [
        {
          "output_type": "execute_result",
          "data": {
            "text/plain": [
              "(154941, 10)"
            ]
          },
          "metadata": {},
          "execution_count": 8
        }
      ]
    },
    {
      "cell_type": "code",
      "source": [
        "# remove hotlines, etc, if keywords contained in the first 5 words\n",
        "df_exploded=filtering.filter_data(df_exploded,\"text\",exclude_articles,False,5)\n",
        "# remove paragraphs by keywords if container in the first 5 words\n",
        "\n",
        "exclude_paragraphs=[\"Stadtteiltreff\",\"Plakataktion\",\"One Billion Rising\",\"Gewalt kommt nicht in die Tüte\",\"opferschutzorganisation\",\"Frauen helfen Frauen\",\"statistik\", \"kriminalstatistik\", \"landeskriminalamt\"]\n",
        "df_exploded=filtering.filter_data(df_exploded,\"text\",exclude_paragraphs,False,5)"
      ],
      "metadata": {
        "id": "OrsJ50BxEH4W",
        "colab": {
          "base_uri": "https://localhost:8080/"
        },
        "outputId": "6a6e3177-a671-455a-ff91-31ea61bccd7d"
      },
      "execution_count": 9,
      "outputs": [
        {
          "output_type": "stream",
          "name": "stdout",
          "text": [
            "(144351, 10)\n",
            "(143740, 10)\n"
          ]
        }
      ]
    },
    {
      "cell_type": "code",
      "source": [
        "# regex filter: email, links, times, streets,email, weekdays\n",
        "df_exploded=filtering.regex_filter(df_exploded,\"text\",)"
      ],
      "metadata": {
        "id": "scCTikgEI9Fd"
      },
      "execution_count": 10,
      "outputs": []
    },
    {
      "cell_type": "code",
      "source": [
        "# very short paragraphs usually are not part of the article\n",
        "df_exploded.loc[:,\"chars\"]=df_exploded[\"text\"].apply(len)\n",
        "df_exploded=df_exploded[df_exploded[\"chars\"]>60]\n",
        "df_exploded.shape"
      ],
      "metadata": {
        "id": "lkntG5OJraxM",
        "colab": {
          "base_uri": "https://localhost:8080/"
        },
        "outputId": "c7a8ccba-235c-4c3b-9374-58a4a4aac469"
      },
      "execution_count": 11,
      "outputs": [
        {
          "output_type": "stream",
          "name": "stderr",
          "text": [
            "<ipython-input-11-1e2d6bb896ec>:2: SettingWithCopyWarning: \n",
            "A value is trying to be set on a copy of a slice from a DataFrame.\n",
            "Try using .loc[row_indexer,col_indexer] = value instead\n",
            "\n",
            "See the caveats in the documentation: https://pandas.pydata.org/pandas-docs/stable/user_guide/indexing.html#returning-a-view-versus-a-copy\n",
            "  df_exploded.loc[:,\"chars\"]=df_exploded[\"text\"].apply(len)\n"
          ]
        },
        {
          "output_type": "execute_result",
          "data": {
            "text/plain": [
              "(115556, 11)"
            ]
          },
          "metadata": {},
          "execution_count": 11
        }
      ]
    },
    {
      "cell_type": "markdown",
      "source": [
        "### Exclude Paragraphs\n",
        "- that are annotated already, or\n",
        "- are currently part of an experiment in elinor"
      ],
      "metadata": {
        "id": "DeU85ue9lLiR"
      }
    },
    {
      "cell_type": "markdown",
      "source": [
        "Extracting JSON files"
      ],
      "metadata": {
        "id": "R-dP_s1smLqM"
      }
    },
    {
      "cell_type": "code",
      "source": [
        "dfs_json={}\n",
        "for doc in os.listdir(\"annotated\"):\n",
        "  if doc.endswith(\".json\"):\n",
        "    #read json data\n",
        "    json_data=json.load(open(\"annotated/\"+doc, encoding=\"utf-8\"))\n",
        "    #convert to dataframe\n",
        "    data=pd.DataFrame(json_data[\"documents\"],)\n",
        "    #for now: filter out paragraphs that have not been annotated\n",
        "    data=data[data[\"annotations\"].apply(len)>0]\n",
        "    data.loc[:,\"file\"]=doc\n",
        "    dfs_json[doc]=data\n",
        "dfs_json=pd.concat(dfs_json)"
      ],
      "metadata": {
        "id": "OnHRxL19hjbW"
      },
      "execution_count": 37,
      "outputs": []
    },
    {
      "cell_type": "code",
      "source": [
        "dfs_json[\"artikel_id\"]=dfs_json.attributes_flat.apply(lambda x: x[\"artikel_id\"])\n",
        "dfs_json[\"artikel_order\"]=dfs_json.attributes_flat.apply(lambda x: x[\"artikel_order\"])\n",
        "dfs_json.artikel_order=dfs_json.artikel_order.astype(float)"
      ],
      "metadata": {
        "id": "aHG5Fk8cl27p"
      },
      "execution_count": 38,
      "outputs": []
    },
    {
      "cell_type": "code",
      "source": [
        "\n",
        "dfs_csv = []\n",
        "\n",
        "# loop through files\n",
        "for filename in os.listdir(\"annotated\"):\n",
        "    # if csv file, load and add to dfs\n",
        "    if filename.endswith(\".csv\"):\n",
        "        file_path = os.path.join(\"annotated\", filename)\n",
        "        # import csv with text as list object\n",
        "        df = pd.read_csv(file_path, index_col=0, converters={\"annotations\":literal_eval,})\n",
        "        df.loc[:,\"file\"]=filename\n",
        "        dfs_csv.append(df)\n",
        "# combine files in df\n",
        "dfs_csv = pd.concat(dfs_csv, ignore_index=True)\n",
        "dfs_csv.artikel_order=dfs_csv.artikel_order.astype(float)"
      ],
      "metadata": {
        "id": "M7Sb3SORmJP4"
      },
      "execution_count": 39,
      "outputs": []
    },
    {
      "cell_type": "code",
      "source": [
        "dfs_all=pd.concat([dfs_csv,dfs_json])"
      ],
      "metadata": {
        "id": "lDqSSk5dmdkh"
      },
      "execution_count": 40,
      "outputs": []
    },
    {
      "cell_type": "code",
      "source": [
        "dfs_all_i=dfs_all[[\"artikel_id\",\"artikel_order\"]].dropna()\n",
        "dfs_all_i[\"valid\"]=False"
      ],
      "metadata": {
        "id": "fFYho-tIoPwQ"
      },
      "execution_count": 45,
      "outputs": []
    },
    {
      "cell_type": "code",
      "source": [
        "df_merged=pd.merge(dfs_all_i,df_exploded,left_on=[\"artikel_id\",\"artikel_order\"],right_on=[\"artikel_id\",\"artikel_order\"], how=\"right\")"
      ],
      "metadata": {
        "colab": {
          "base_uri": "https://localhost:8080/"
        },
        "id": "SbT5-r0QoYLp",
        "outputId": "8e3fae69-e8cf-4229-e661-960587f43c26"
      },
      "execution_count": 50,
      "outputs": [
        {
          "output_type": "execute_result",
          "data": {
            "text/plain": [
              "(2134, 3)"
            ]
          },
          "metadata": {},
          "execution_count": 50
        }
      ]
    },
    {
      "cell_type": "code",
      "source": [
        "df_valid=df_merged[df_merged.valid!=False]"
      ],
      "metadata": {
        "id": "mbRY5TWu-ra0"
      },
      "execution_count": 52,
      "outputs": []
    },
    {
      "cell_type": "markdown",
      "source": [
        "### Randomly select one paragraph per article"
      ],
      "metadata": {
        "id": "D_4vCxClhzl2"
      }
    },
    {
      "cell_type": "code",
      "source": [
        "import nltk\n",
        "nltk.download('punkt')"
      ],
      "metadata": {
        "id": "yjOtzi_H58w4",
        "colab": {
          "base_uri": "https://localhost:8080/"
        },
        "outputId": "14f37735-1246-4a41-e1d1-bd11c34d12d4"
      },
      "execution_count": 53,
      "outputs": [
        {
          "output_type": "stream",
          "name": "stderr",
          "text": [
            "[nltk_data] Downloading package punkt to /root/nltk_data...\n",
            "[nltk_data]   Unzipping tokenizers/punkt.zip.\n"
          ]
        },
        {
          "output_type": "execute_result",
          "data": {
            "text/plain": [
              "True"
            ]
          },
          "metadata": {},
          "execution_count": 53
        }
      ]
    },
    {
      "cell_type": "code",
      "source": [
        "def count_sentences(text):\n",
        "    return len(nltk.sent_tokenize(text))"
      ],
      "metadata": {
        "id": "M2OMY9wc5-Gl"
      },
      "execution_count": 54,
      "outputs": []
    },
    {
      "cell_type": "code",
      "source": [
        "df_valid['num_sentences'] = df_valid['text'].apply(count_sentences)"
      ],
      "metadata": {
        "id": "z2Pc_Efw6Aku",
        "colab": {
          "base_uri": "https://localhost:8080/"
        },
        "outputId": "f4ac21e5-f169-4d3e-cbc9-8ca5e4681056"
      },
      "execution_count": 55,
      "outputs": [
        {
          "output_type": "stream",
          "name": "stderr",
          "text": [
            "<ipython-input-55-80e29b902b3a>:1: SettingWithCopyWarning: \n",
            "A value is trying to be set on a copy of a slice from a DataFrame.\n",
            "Try using .loc[row_indexer,col_indexer] = value instead\n",
            "\n",
            "See the caveats in the documentation: https://pandas.pydata.org/pandas-docs/stable/user_guide/indexing.html#returning-a-view-versus-a-copy\n",
            "  df_valid['num_sentences'] = df_valid['text'].apply(count_sentences)\n"
          ]
        }
      ]
    },
    {
      "cell_type": "code",
      "source": [
        "# Define a function to randomly select one row from each group\n",
        "def select_random_row(group):\n",
        "    if group['num_sentences'].max() > 1:\n",
        "        return group[group['num_sentences'] > 1].sample(n=1)\n",
        "    else:\n",
        "        return group.head(1)"
      ],
      "metadata": {
        "id": "iI_MlT6Y9QFU"
      },
      "execution_count": 56,
      "outputs": []
    },
    {
      "cell_type": "code",
      "source": [
        "# Apply the function to each group and combine the results\n",
        "random_rows = df_valid.groupby('artikel_id').apply(select_random_row).reset_index(drop=True)"
      ],
      "metadata": {
        "id": "vzqDnnIR9b6T"
      },
      "execution_count": 57,
      "outputs": []
    },
    {
      "cell_type": "code",
      "source": [
        "random_rows=random_rows.drop(\"valid\",axis=1)"
      ],
      "metadata": {
        "id": "jSmWlHHbsKV8"
      },
      "execution_count": 81,
      "outputs": []
    },
    {
      "cell_type": "markdown",
      "source": [
        "### Export batches of 500"
      ],
      "metadata": {
        "id": "zxbjh0FV_j4b"
      }
    },
    {
      "cell_type": "markdown",
      "source": [
        "### Randomly select one paragraph per article"
      ],
      "metadata": {
        "id": "mlA2YG3d_pW_"
      }
    },
    {
      "cell_type": "code",
      "source": [
        "from datetime import datetime"
      ],
      "metadata": {
        "id": "qzFzoVhv__tr"
      },
      "execution_count": 62,
      "outputs": []
    },
    {
      "cell_type": "code",
      "source": [
        "date=datetime.now().strftime(\"%Y%m%d\")\n",
        "n_batches=8\n",
        "size=500"
      ],
      "metadata": {
        "id": "0xEqRmB1ABND"
      },
      "execution_count": 83,
      "outputs": []
    },
    {
      "cell_type": "code",
      "source": [
        "for i in range(1,n_batches+1):\n",
        "  chunk=random_rows.iloc[((i-1)*size):(i*size),:]\n",
        "  chunk.to_csv(f\"elinor/elinor_{date}_part{i}.csv\", index=False, header = True,encoding = 'utf-8')"
      ],
      "metadata": {
        "id": "XcienU_5nNpu"
      },
      "execution_count": 84,
      "outputs": []
    }
  ]
}