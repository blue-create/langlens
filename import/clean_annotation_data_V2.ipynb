{
  "nbformat": 4,
  "nbformat_minor": 0,
  "metadata": {
    "colab": {
      "provenance": [],
      "authorship_tag": "ABX9TyPJkHdKudXriej/fcqr1ZiH",
      "include_colab_link": true
    },
    "kernelspec": {
      "name": "python3",
      "display_name": "Python 3"
    },
    "language_info": {
      "name": "python"
    }
  },
  "cells": [
    {
      "cell_type": "markdown",
      "metadata": {
        "id": "view-in-github",
        "colab_type": "text"
      },
      "source": [
        "<a href=\"https://colab.research.google.com/github/blue-create/langlens/blob/main/import/clean_annotation_data_V2.ipynb\" target=\"_parent\"><img src=\"https://colab.research.google.com/assets/colab-badge.svg\" alt=\"Open In Colab\"/></a>"
      ]
    },
    {
      "cell_type": "markdown",
      "source": [
        "## Purpose\n",
        "This notebook cleans and merges the annotation data (V2 - after June 20th) from elinor so that it can be analysed further.\n",
        "\n",
        "For all files:\n",
        "- extract annotations, columns\n",
        "- calculate similarity\n",
        "\n",
        "### Output:\n",
        "- one file containing all annotations of the first annotation data set (v2)\n"
      ],
      "metadata": {
        "id": "GkFVBVzp5-PB"
      }
    },
    {
      "cell_type": "markdown",
      "source": [
        "### Imports & Data"
      ],
      "metadata": {
        "id": "V-1pZ_GH5yQm"
      }
    },
    {
      "cell_type": "code",
      "source": [
        "import os\n",
        "import re\n",
        "import pandas as pd\n",
        "import numpy as np\n",
        "from collections import Counter\n",
        "import matplotlib.pyplot as plt\n",
        "from tqdm import tqdm\n",
        "from datetime import datetime\n",
        "from ast import literal_eval\n",
        "import plotly.graph_objects as go\n",
        "import plotly.express as px\n",
        "import json"
      ],
      "metadata": {
        "id": "YMPQQZu17TwN"
      },
      "execution_count": 191,
      "outputs": []
    },
    {
      "cell_type": "code",
      "execution_count": 192,
      "metadata": {
        "colab": {
          "base_uri": "https://localhost:8080/"
        },
        "id": "kYY7WTMqWNC2",
        "outputId": "d3d0db7e-1a61-485c-903b-939a5f3e4417"
      },
      "outputs": [
        {
          "output_type": "stream",
          "name": "stdout",
          "text": [
            "Drive already mounted at /content/drive; to attempt to forcibly remount, call drive.mount(\"/content/drive\", force_remount=True).\n"
          ]
        }
      ],
      "source": [
        "# connect with google drive\n",
        "from google.colab import drive\n",
        "drive.mount('/content/drive')"
      ]
    },
    {
      "cell_type": "code",
      "execution_count": 193,
      "metadata": {
        "id": "7CJBN3WwWQCF",
        "colab": {
          "base_uri": "https://localhost:8080/"
        },
        "outputId": "0f310734-8057-40a8-bff9-85585697cd1e"
      },
      "outputs": [
        {
          "output_type": "stream",
          "name": "stdout",
          "text": [
            "[Errno 2] No such file or directory: 'drive/MyDrive/Work/Frontline/data'\n",
            "/content/drive/.shortcut-targets-by-id/1WfnZsqpG1r110J63sMbfS5TpsDOkveiV/data\n"
          ]
        }
      ],
      "source": [
        "# change cwd\n",
        "%cd drive/MyDrive/Work/Frontline/data\n",
        "#%cd /content/drive/MyDrive/data/"
      ]
    },
    {
      "cell_type": "code",
      "source": [
        "from scripts import annotations"
      ],
      "metadata": {
        "id": "0Yqc67vVG4M5"
      },
      "execution_count": 194,
      "outputs": []
    },
    {
      "cell_type": "code",
      "execution_count": 195,
      "metadata": {
        "id": "7G780mG6WQrX",
        "colab": {
          "base_uri": "https://localhost:8080/"
        },
        "outputId": "5e5d1b23-1eb2-4078-98e8-e4103cd40caf"
      },
      "outputs": [
        {
          "output_type": "execute_result",
          "data": {
            "text/plain": [
              "1"
            ]
          },
          "metadata": {},
          "execution_count": 195
        }
      ],
      "source": [
        "# list of dfs with all annotated datasets\n",
        "dfs={}\n",
        "for doc in os.listdir(\"annotated\"):\n",
        "  if doc.endswith(\".json\"):\n",
        "    #read json data\n",
        "    json_data=json.load(open(\"annotated/\"+doc, encoding=\"utf-8\"))\n",
        "    #convert to dataframe\n",
        "    data=pd.DataFrame(json_data[\"documents\"])\n",
        "    #for now: filter out paragraphs that have not been annotated\n",
        "    data=data[data[\"annotations\"].apply(len)>0]\n",
        "    data.loc[:,\"file\"]=doc\n",
        "    dfs[doc]=data\n",
        "\n",
        "len(dfs)"
      ]
    },
    {
      "cell_type": "code",
      "source": [
        "final_data=pd.DataFrame(columns=[\"artikel_id\",\"text\",\"name\", \"datum\",\"ressort\",\"annotations\",\"attributes_flat\",\"file\",\"artikel_order\" ])"
      ],
      "metadata": {
        "id": "CUWWBd6O-Zao"
      },
      "execution_count": 196,
      "outputs": []
    },
    {
      "cell_type": "markdown",
      "source": [
        "### 230609_annotations_part3\n",
        "\n",
        "Task:\n",
        "- extract datum, artikel_id, ressort, name, artikel_order\n",
        "- all of J's annotations belong to V2 of annotations, all of K's annotations belong to V1 of the annotation data -> remove K's data\n"
      ],
      "metadata": {
        "id": "zoodSMK91npI"
      }
    },
    {
      "cell_type": "code",
      "source": [
        "data=dfs[\"230609_annotations_part3.json\"]"
      ],
      "metadata": {
        "id": "y3UpyJpf1npJ"
      },
      "execution_count": 197,
      "outputs": []
    },
    {
      "cell_type": "code",
      "source": [
        "data[\"ressort\"]=data.apply(lambda x: x.attributes_flat[\"ressort\"],axis=1)\n",
        "data[\"datum\"]=data.apply(lambda x: x.attributes_flat[\"datum\"],axis=1)\n",
        "data[\"name\"]=data.apply(lambda x: x.attributes_flat[\"name\"],axis=1)\n",
        "data[\"artikel_id\"]=data.apply(lambda x: x.attributes_flat[\"artikel_id\"],axis=1)\n",
        "data[\"artikel_order\"]=data.apply(lambda x: x.attributes_flat[\"artikel_order\"],axis=1)"
      ],
      "metadata": {
        "id": "u-P9vTAG1npJ"
      },
      "execution_count": 198,
      "outputs": []
    },
    {
      "cell_type": "code",
      "source": [
        "# extract annotations\n",
        "data.loc[:,\"annotations\"]=data.loc[:,\"annotations\"].apply(annotations.extract_annotations)"
      ],
      "metadata": {
        "id": "ywYQTKGP1npK"
      },
      "execution_count": 199,
      "outputs": []
    },
    {
      "cell_type": "code",
      "source": [
        "# remove K's annotations\n",
        "data=data[data.loc[:,\"annotations\"].apply(lambda x: \"K\" not in x.keys())]"
      ],
      "metadata": {
        "id": "_VqPq9q1OXv1"
      },
      "execution_count": 200,
      "outputs": []
    },
    {
      "cell_type": "code",
      "source": [
        "# calculate similarity\n",
        "data.loc[:,\"jaccard\"]=data.loc[:,\"annotations\"].apply(annotations.calculate_similarity)\n",
        "data.loc[:,\"dice\"]=data.loc[:,\"annotations\"].apply(annotations.calculate_similarity,args=[\"dice\"])"
      ],
      "metadata": {
        "id": "giOzXcLU1npN",
        "colab": {
          "base_uri": "https://localhost:8080/"
        },
        "outputId": "5b938409-e7a9-4c8e-f88a-c9497cb8a012"
      },
      "execution_count": 201,
      "outputs": [
        {
          "output_type": "stream",
          "name": "stderr",
          "text": [
            "<ipython-input-201-3de09ff32f13>:2: SettingWithCopyWarning: \n",
            "A value is trying to be set on a copy of a slice from a DataFrame.\n",
            "Try using .loc[row_indexer,col_indexer] = value instead\n",
            "\n",
            "See the caveats in the documentation: https://pandas.pydata.org/pandas-docs/stable/user_guide/indexing.html#returning-a-view-versus-a-copy\n",
            "  data.loc[:,\"jaccard\"]=data.loc[:,\"annotations\"].apply(annotations.calculate_similarity)\n",
            "<ipython-input-201-3de09ff32f13>:3: SettingWithCopyWarning: \n",
            "A value is trying to be set on a copy of a slice from a DataFrame.\n",
            "Try using .loc[row_indexer,col_indexer] = value instead\n",
            "\n",
            "See the caveats in the documentation: https://pandas.pydata.org/pandas-docs/stable/user_guide/indexing.html#returning-a-view-versus-a-copy\n",
            "  data.loc[:,\"dice\"]=data.loc[:,\"annotations\"].apply(annotations.calculate_similarity,args=[\"dice\"])\n"
          ]
        }
      ]
    },
    {
      "cell_type": "code",
      "source": [
        "data=data.drop(\"id\",axis=1)"
      ],
      "metadata": {
        "id": "qmOREg011npN"
      },
      "execution_count": 202,
      "outputs": []
    },
    {
      "cell_type": "code",
      "source": [
        "final_data=pd.concat([final_data,data])"
      ],
      "metadata": {
        "id": "n5UtWRQr1npO"
      },
      "execution_count": 203,
      "outputs": []
    },
    {
      "cell_type": "markdown",
      "source": [
        "### Export merged data"
      ],
      "metadata": {
        "id": "G5MQUS4W5RNy"
      }
    },
    {
      "cell_type": "code",
      "source": [
        "from datetime import datetime"
      ],
      "metadata": {
        "id": "eAORtaAbLIS4"
      },
      "execution_count": 204,
      "outputs": []
    },
    {
      "cell_type": "code",
      "source": [
        "date=datetime.today().strftime('%y%m%d')"
      ],
      "metadata": {
        "id": "ExY2608ALavl"
      },
      "execution_count": 205,
      "outputs": []
    },
    {
      "cell_type": "code",
      "source": [
        "final_data.to_csv(f\"annotated/{date}_all_annotationsV2.csv\")"
      ],
      "metadata": {
        "id": "ZoeFUYVNMTiI"
      },
      "execution_count": 206,
      "outputs": []
    }
  ]
}