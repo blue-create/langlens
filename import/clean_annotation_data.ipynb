{
  "nbformat": 4,
  "nbformat_minor": 0,
  "metadata": {
    "colab": {
      "provenance": [],
      "authorship_tag": "ABX9TyOHMCSlODwt1ze6VC0OmjMS"
    },
    "kernelspec": {
      "name": "python3",
      "display_name": "Python 3"
    },
    "language_info": {
      "name": "python"
    }
  },
  "cells": [
    {
      "cell_type": "markdown",
      "source": [
        "## Purpose\n",
        "This notebook cleans the annotation data from elinor so that it can be analysed further.\n",
        "Observed problems in the annotations data:\n",
        "- some fields were not imported to elinor in the first place but should be part of the analysis\n",
        "- id field was exported wrongly\n",
        "- some paragraphs were annotated multiple times -> merge\n",
        "- some annotations contain the old labels\n",
        "- some specific labels were used in combination with the generic \"domestic violence label\n",
        "\n",
        "For all files:\n",
        "- extract annotations, columns\n",
        "- calculate similarity\n",
        "\n",
        "### Output:\n",
        "- one file containing all annotations\n"
      ],
      "metadata": {
        "id": "GkFVBVzp5-PB"
      }
    },
    {
      "cell_type": "markdown",
      "source": [
        "### Imports & Data"
      ],
      "metadata": {
        "id": "V-1pZ_GH5yQm"
      }
    },
    {
      "cell_type": "code",
      "source": [
        "import os\n",
        "import re\n",
        "import pandas as pd\n",
        "import numpy as np\n",
        "from collections import Counter\n",
        "import matplotlib.pyplot as plt\n",
        "from tqdm import tqdm\n",
        "from datetime import datetime\n",
        "from ast import literal_eval\n",
        "import plotly.graph_objects as go\n",
        "import plotly.express as px\n",
        "import json"
      ],
      "metadata": {
        "id": "YMPQQZu17TwN"
      },
      "execution_count": 54,
      "outputs": []
    },
    {
      "cell_type": "code",
      "execution_count": 55,
      "metadata": {
        "colab": {
          "base_uri": "https://localhost:8080/"
        },
        "id": "kYY7WTMqWNC2",
        "outputId": "abf71a46-48c8-43d7-b14a-c29da5fb0666"
      },
      "outputs": [
        {
          "output_type": "stream",
          "name": "stdout",
          "text": [
            "Drive already mounted at /content/drive; to attempt to forcibly remount, call drive.mount(\"/content/drive\", force_remount=True).\n"
          ]
        }
      ],
      "source": [
        "# connect with google drive\n",
        "from google.colab import drive\n",
        "drive.mount('/content/drive')"
      ]
    },
    {
      "cell_type": "code",
      "execution_count": null,
      "metadata": {
        "id": "7CJBN3WwWQCF"
      },
      "outputs": [],
      "source": [
        "# change cwd\n",
        "%cd drive/MyDrive/Work/Frontline/data\n",
        "#%cd /content/drive/MyDrive/data/"
      ]
    },
    {
      "cell_type": "code",
      "source": [
        "from scripts import annotations"
      ],
      "metadata": {
        "id": "0Yqc67vVG4M5"
      },
      "execution_count": 57,
      "outputs": []
    },
    {
      "cell_type": "code",
      "source": [
        "# dataset containing all relevant articles (but only one paragraph each!)\n",
        "data_all=pd.read_csv(\"elinor/annotation_test_05_18.csv\")"
      ],
      "metadata": {
        "id": "GtyXK0OgMJau"
      },
      "execution_count": 58,
      "outputs": []
    },
    {
      "cell_type": "code",
      "execution_count": 59,
      "metadata": {
        "id": "7G780mG6WQrX",
        "colab": {
          "base_uri": "https://localhost:8080/"
        },
        "outputId": "04e1b8e7-c5c9-4ca4-e516-a43ba33960d4"
      },
      "outputs": [
        {
          "output_type": "execute_result",
          "data": {
            "text/plain": [
              "5"
            ]
          },
          "metadata": {},
          "execution_count": 59
        }
      ],
      "source": [
        "# list of dfs with all annotated datasets\n",
        "dfs={}\n",
        "for doc in os.listdir(\"annotated\"):\n",
        "  if doc.startswith(\"annotations\"):\n",
        "    #read json data\n",
        "    json_data=json.load(open(\"annotated/\"+doc, encoding=\"utf-8\"))\n",
        "    #convert to dataframe\n",
        "    data=pd.DataFrame(json_data[\"documents\"])\n",
        "    #for now: filter out paragraphs that have not been annotated\n",
        "    data=data[data[\"annotations\"].apply(len)>0]\n",
        "    data.loc[:,\"file\"]=doc\n",
        "    dfs[doc]=data\n",
        "\n",
        "len(dfs)"
      ]
    },
    {
      "cell_type": "code",
      "source": [
        "final_data=pd.DataFrame(columns=[\"artikel_id\",\"text\",\"name\", \"datum\",\"ressort\",\"annotations\",\"attributes_flat\",\"file\",\"artikel_order\" ])"
      ],
      "metadata": {
        "id": "CUWWBd6O-Zao"
      },
      "execution_count": 60,
      "outputs": []
    },
    {
      "cell_type": "markdown",
      "source": [
        "### annotations_05_18\n",
        "Task:\n",
        "- extract ressort, datum, name\n",
        "- extract annotations\n",
        "- extract artikel id\n",
        "\n",
        "Note:\n",
        "- doesnt have article order"
      ],
      "metadata": {
        "id": "Mu15B4mw97Q5"
      }
    },
    {
      "cell_type": "code",
      "source": [
        "data=dfs[\"annotations_05_18.json\"]"
      ],
      "metadata": {
        "id": "NcrDHxmwH0tN"
      },
      "execution_count": 62,
      "outputs": []
    },
    {
      "cell_type": "code",
      "source": [
        "data[\"ressort\"]=data.apply(lambda x: x.attributes_flat[\"ressort\"],axis=1)\n",
        "data[\"datum\"]=data.apply(lambda x: x.attributes_flat[\"datum\"],axis=1)\n",
        "data[\"name\"]=data.apply(lambda x: x.attributes_flat[\"name\"],axis=1)\n",
        "data[\"artikel_id\"]=data.apply(lambda x: x.attributes_flat[\"artikel_id\"],axis=1)"
      ],
      "metadata": {
        "id": "0n2Ha5YK-Cw6"
      },
      "execution_count": 63,
      "outputs": []
    },
    {
      "cell_type": "code",
      "source": [
        "# extract annotations\n",
        "data.loc[:,\"annotations\"]=data.loc[:,\"annotations\"].apply(annotations.extract_annotations)"
      ],
      "metadata": {
        "id": "cC1hO6NCCVRa"
      },
      "execution_count": 64,
      "outputs": []
    },
    {
      "cell_type": "code",
      "source": [
        "# calculate similarity\n",
        "data.loc[:,\"jaccard\"]=data.loc[:,\"annotations\"].apply(annotations.calculate_similarity)\n",
        "data.loc[:,\"dice\"]=data.loc[:,\"annotations\"].apply(annotations.calculate_similarity,args=[\"dice\"])"
      ],
      "metadata": {
        "id": "RCHVGjSKCmMh"
      },
      "execution_count": 65,
      "outputs": []
    },
    {
      "cell_type": "code",
      "source": [
        "data=data.drop(\"id\",axis=1)"
      ],
      "metadata": {
        "id": "Os74KMjFDjrP"
      },
      "execution_count": 66,
      "outputs": []
    },
    {
      "cell_type": "code",
      "source": [
        "final_data=pd.concat([final_data,data])"
      ],
      "metadata": {
        "id": "yIQryyjjC-5o"
      },
      "execution_count": 67,
      "outputs": []
    },
    {
      "cell_type": "markdown",
      "source": [
        "### annotations_06_09_part1\n",
        "\n",
        "Task:\n",
        "- extract datum, artikel_id, ressort, name, artikel_order\n",
        "\n",
        "Note:\n",
        "- 1/3 without ressort"
      ],
      "metadata": {
        "id": "UJOVZTucIWyz"
      }
    },
    {
      "cell_type": "code",
      "source": [
        "data=dfs[\"annotations_06_09_part1.json\"]"
      ],
      "metadata": {
        "id": "eHnVvko3IZc3"
      },
      "execution_count": 68,
      "outputs": []
    },
    {
      "cell_type": "code",
      "source": [
        "data[\"ressort\"]=data.apply(lambda x: x.attributes_flat[\"ressort\"],axis=1)\n",
        "data[\"datum\"]=data.apply(lambda x: x.attributes_flat[\"datum\"],axis=1)\n",
        "data[\"name\"]=data.apply(lambda x: x.attributes_flat[\"name\"],axis=1)\n",
        "data[\"artikel_id\"]=data.apply(lambda x: x.attributes_flat[\"artikel_id\"],axis=1)\n",
        "data[\"artikel_order\"]=data.apply(lambda x: x.attributes_flat[\"artikel_order\"],axis=1)"
      ],
      "metadata": {
        "id": "JpX6iSQ2JBCQ"
      },
      "execution_count": 69,
      "outputs": []
    },
    {
      "cell_type": "code",
      "source": [
        "# extract annotations\n",
        "data.loc[:,\"annotations\"]=data.loc[:,\"annotations\"].apply(annotations.extract_annotations)"
      ],
      "metadata": {
        "id": "p8tQqUWIJBCQ"
      },
      "execution_count": 70,
      "outputs": []
    },
    {
      "cell_type": "code",
      "source": [
        "# calculate similarity\n",
        "data.loc[:,\"jaccard\"]=data.loc[:,\"annotations\"].apply(annotations.calculate_similarity)\n",
        "data.loc[:,\"dice\"]=data.loc[:,\"annotations\"].apply(annotations.calculate_similarity,args=[\"dice\"])"
      ],
      "metadata": {
        "id": "GN-6oj78JBCR"
      },
      "execution_count": 71,
      "outputs": []
    },
    {
      "cell_type": "code",
      "source": [
        "data=data.drop(\"id\",axis=1)"
      ],
      "metadata": {
        "id": "30nzAhJlJBCS"
      },
      "execution_count": 72,
      "outputs": []
    },
    {
      "cell_type": "code",
      "source": [
        "final_data=pd.concat([final_data,data])"
      ],
      "metadata": {
        "id": "TDKlS_1UK0L8"
      },
      "execution_count": 73,
      "outputs": []
    },
    {
      "cell_type": "markdown",
      "source": [
        "### annotations_06_09_part2\n",
        "\n",
        "Task:\n",
        "- extract datum, artikel_id, ressort, name, artikel_order\n",
        "\n"
      ],
      "metadata": {
        "id": "q7pkn9UC1Pp-"
      }
    },
    {
      "cell_type": "code",
      "source": [
        "data=dfs[\"annotations_06_09_part2.json\"]"
      ],
      "metadata": {
        "id": "rBaN7bm_1Pp-"
      },
      "execution_count": 74,
      "outputs": []
    },
    {
      "cell_type": "code",
      "source": [
        "data[\"ressort\"]=data.apply(lambda x: x.attributes_flat[\"ressort\"],axis=1)\n",
        "data[\"datum\"]=data.apply(lambda x: x.attributes_flat[\"datum\"],axis=1)\n",
        "data[\"name\"]=data.apply(lambda x: x.attributes_flat[\"name\"],axis=1)\n",
        "data[\"artikel_id\"]=data.apply(lambda x: x.attributes_flat[\"artikel_id\"],axis=1)\n",
        "data[\"artikel_order\"]=data.apply(lambda x: x.attributes_flat[\"artikel_order\"],axis=1)"
      ],
      "metadata": {
        "id": "6RLegp3B1Pp_"
      },
      "execution_count": 75,
      "outputs": []
    },
    {
      "cell_type": "code",
      "source": [
        "# extract annotations\n",
        "data.loc[:,\"annotations\"]=data.loc[:,\"annotations\"].apply(annotations.extract_annotations)"
      ],
      "metadata": {
        "id": "KTr61a5C1Pp_"
      },
      "execution_count": 76,
      "outputs": []
    },
    {
      "cell_type": "code",
      "source": [
        "# calculate similarity\n",
        "data.loc[:,\"jaccard\"]=data.loc[:,\"annotations\"].apply(annotations.calculate_similarity)\n",
        "data.loc[:,\"dice\"]=data.loc[:,\"annotations\"].apply(annotations.calculate_similarity,args=[\"dice\"])"
      ],
      "metadata": {
        "id": "MVNDuqOc1PqA"
      },
      "execution_count": 77,
      "outputs": []
    },
    {
      "cell_type": "code",
      "source": [
        "data=data.drop(\"id\",axis=1)"
      ],
      "metadata": {
        "id": "7dbv7yfL1PqA"
      },
      "execution_count": 78,
      "outputs": []
    },
    {
      "cell_type": "code",
      "source": [
        "final_data=pd.concat([final_data,data])"
      ],
      "metadata": {
        "id": "pwHPySiB1PqA"
      },
      "execution_count": 79,
      "outputs": []
    },
    {
      "cell_type": "markdown",
      "source": [
        "### annotations_06_09_part3\n",
        "\n",
        "Task:\n",
        "- extract datum, artikel_id, ressort, name, artikel_order\n"
      ],
      "metadata": {
        "id": "zoodSMK91npI"
      }
    },
    {
      "cell_type": "code",
      "source": [
        "data=dfs[\"annotations_06_09_part3.json\"]"
      ],
      "metadata": {
        "id": "y3UpyJpf1npJ"
      },
      "execution_count": 80,
      "outputs": []
    },
    {
      "cell_type": "code",
      "source": [
        "data[\"ressort\"]=data.apply(lambda x: x.attributes_flat[\"ressort\"],axis=1)\n",
        "data[\"datum\"]=data.apply(lambda x: x.attributes_flat[\"datum\"],axis=1)\n",
        "data[\"name\"]=data.apply(lambda x: x.attributes_flat[\"name\"],axis=1)\n",
        "data[\"artikel_id\"]=data.apply(lambda x: x.attributes_flat[\"artikel_id\"],axis=1)\n",
        "data[\"artikel_order\"]=data.apply(lambda x: x.attributes_flat[\"artikel_order\"],axis=1)"
      ],
      "metadata": {
        "id": "u-P9vTAG1npJ"
      },
      "execution_count": 81,
      "outputs": []
    },
    {
      "cell_type": "code",
      "source": [
        "# extract annotations\n",
        "data.loc[:,\"annotations\"]=data.loc[:,\"annotations\"].apply(annotations.extract_annotations)"
      ],
      "metadata": {
        "id": "ywYQTKGP1npK"
      },
      "execution_count": 82,
      "outputs": []
    },
    {
      "cell_type": "code",
      "source": [
        "# calculate similarity\n",
        "data.loc[:,\"jaccard\"]=data.loc[:,\"annotations\"].apply(annotations.calculate_similarity)\n",
        "data.loc[:,\"dice\"]=data.loc[:,\"annotations\"].apply(annotations.calculate_similarity,args=[\"dice\"])"
      ],
      "metadata": {
        "id": "giOzXcLU1npN"
      },
      "execution_count": 83,
      "outputs": []
    },
    {
      "cell_type": "code",
      "source": [
        "data=data.drop(\"id\",axis=1)"
      ],
      "metadata": {
        "id": "qmOREg011npN"
      },
      "execution_count": 84,
      "outputs": []
    },
    {
      "cell_type": "code",
      "source": [
        "final_data=pd.concat([final_data,data])"
      ],
      "metadata": {
        "id": "n5UtWRQr1npO"
      },
      "execution_count": 85,
      "outputs": []
    },
    {
      "cell_type": "markdown",
      "source": [
        "### annotations_50sample_06_09\n",
        "Task:\n",
        "- get ressort, name, datum, artikel_id\n",
        "- the column id is NOT artikel_id\n",
        "\n",
        "Note:\n",
        "- all annotationsof this sample are duplicates, so a subset of the others , annotated by 3 annotators"
      ],
      "metadata": {
        "id": "MNao7uAXDsYE"
      }
    },
    {
      "cell_type": "code",
      "source": [
        "data=dfs[\"annotations_50sample_06_09.json\"]"
      ],
      "metadata": {
        "id": "y02ptGnJGoCR"
      },
      "execution_count": null,
      "outputs": []
    },
    {
      "cell_type": "code",
      "source": [
        "data=data[[\"text\",\"annotations\",\"file\"]].merge(final_data[[\"datum\",\"ressort\",\"name\",\"text\",\"artikel_id\"]], on=\"text\")"
      ],
      "metadata": {
        "id": "4xMzXy274GcF"
      },
      "execution_count": 110,
      "outputs": []
    },
    {
      "cell_type": "code",
      "source": [
        "# extract annotations\n",
        "data.loc[:,\"annotations\"]=data.loc[:,\"annotations\"].apply(annotations.extract_annotations)"
      ],
      "metadata": {
        "id": "NIImF96L5Jrj"
      },
      "execution_count": 112,
      "outputs": []
    },
    {
      "cell_type": "code",
      "source": [
        "# calculate similarity\n",
        "data.loc[:,\"jaccard\"]=data.loc[:,\"annotations\"].apply(annotations.calculate_similarity)\n",
        "data.loc[:,\"dice\"]=data.loc[:,\"annotations\"].apply(annotations.calculate_similarity,args=[\"dice\"])"
      ],
      "metadata": {
        "id": "_Q-zCFKU5Jrj"
      },
      "execution_count": 113,
      "outputs": []
    },
    {
      "cell_type": "code",
      "source": [
        "final_data=pd.concat([final_data,data])"
      ],
      "metadata": {
        "id": "DbeZKXz45Jrl"
      },
      "execution_count": 116,
      "outputs": []
    },
    {
      "cell_type": "markdown",
      "source": [
        "### Export merged data"
      ],
      "metadata": {
        "id": "G5MQUS4W5RNy"
      }
    },
    {
      "cell_type": "code",
      "source": [
        "final_data.to_csv(\"annotated/all_annotations_06_13.csv\")"
      ],
      "metadata": {
        "id": "VaZVA0K95XhA"
      },
      "execution_count": 117,
      "outputs": []
    }
  ]
}