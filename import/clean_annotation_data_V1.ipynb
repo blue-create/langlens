{
  "nbformat": 4,
  "nbformat_minor": 0,
  "metadata": {
    "colab": {
      "provenance": [],
      "authorship_tag": "ABX9TyNpmlmVQloV7A3mp9twxoK6",
      "include_colab_link": true
    },
    "kernelspec": {
      "name": "python3",
      "display_name": "Python 3"
    },
    "language_info": {
      "name": "python"
    }
  },
  "cells": [
    {
      "cell_type": "markdown",
      "metadata": {
        "id": "view-in-github",
        "colab_type": "text"
      },
      "source": [
        "<a href=\"https://colab.research.google.com/github/blue-create/langlens/blob/main/import/clean_annotation_data_V1.ipynb\" target=\"_parent\"><img src=\"https://colab.research.google.com/assets/colab-badge.svg\" alt=\"Open In Colab\"/></a>"
      ]
    },
    {
      "cell_type": "markdown",
      "source": [
        "## Purpose\n",
        "This notebook cleans the annotation data from elinor so that it can be analysed further.\n",
        "Observed problems in the annotations data:\n",
        "- some fields were not imported to elinor in the first place but should be part of the analysis\n",
        "- id field was exported wrongly\n",
        "- some paragraphs were annotated multiple times -> merge\n",
        "- some annotations contain the old labels\n",
        "- some specific labels were used in combination with the generic \"domestic violence label\n",
        "\n",
        "For all files:\n",
        "- extract annotations, columns\n",
        "- calculate similarity\n",
        "\n",
        "### Output:\n",
        "- one file containing all annotations of the first annotation data set (v1)\n"
      ],
      "metadata": {
        "id": "GkFVBVzp5-PB"
      }
    },
    {
      "cell_type": "markdown",
      "source": [
        "### Imports & Data"
      ],
      "metadata": {
        "id": "V-1pZ_GH5yQm"
      }
    },
    {
      "cell_type": "code",
      "source": [
        "import os\n",
        "import re\n",
        "import pandas as pd\n",
        "import numpy as np\n",
        "from collections import Counter\n",
        "import matplotlib.pyplot as plt\n",
        "from tqdm import tqdm\n",
        "from datetime import datetime\n",
        "from ast import literal_eval\n",
        "import plotly.graph_objects as go\n",
        "import plotly.express as px\n",
        "import json"
      ],
      "metadata": {
        "id": "YMPQQZu17TwN"
      },
      "execution_count": 135,
      "outputs": []
    },
    {
      "cell_type": "code",
      "execution_count": 136,
      "metadata": {
        "colab": {
          "base_uri": "https://localhost:8080/"
        },
        "id": "kYY7WTMqWNC2",
        "outputId": "fb68786e-d928-46b9-ba12-2f4b9ccb804b"
      },
      "outputs": [
        {
          "output_type": "stream",
          "name": "stdout",
          "text": [
            "Drive already mounted at /content/drive; to attempt to forcibly remount, call drive.mount(\"/content/drive\", force_remount=True).\n"
          ]
        }
      ],
      "source": [
        "# connect with google drive\n",
        "from google.colab import drive\n",
        "drive.mount('/content/drive')"
      ]
    },
    {
      "cell_type": "code",
      "execution_count": 137,
      "metadata": {
        "id": "7CJBN3WwWQCF",
        "colab": {
          "base_uri": "https://localhost:8080/"
        },
        "outputId": "97a63994-eae6-4ceb-9b49-4a6c0cc220e7"
      },
      "outputs": [
        {
          "output_type": "stream",
          "name": "stdout",
          "text": [
            "[Errno 2] No such file or directory: 'drive/MyDrive/Work/Frontline/data'\n",
            "/content/drive/.shortcut-targets-by-id/1WfnZsqpG1r110J63sMbfS5TpsDOkveiV/data\n"
          ]
        }
      ],
      "source": [
        "# change cwd\n",
        "%cd drive/MyDrive/Work/Frontline/data\n",
        "#%cd /content/drive/MyDrive/data/"
      ]
    },
    {
      "cell_type": "code",
      "source": [
        "from scripts import annotations"
      ],
      "metadata": {
        "id": "0Yqc67vVG4M5"
      },
      "execution_count": 138,
      "outputs": []
    },
    {
      "cell_type": "code",
      "source": [
        "# dataset containing all relevant articles (but only one paragraph each!)\n",
        "data_all=pd.read_csv(\"elinor/annotation_test_05_18.csv\")"
      ],
      "metadata": {
        "id": "GtyXK0OgMJau"
      },
      "execution_count": 139,
      "outputs": []
    },
    {
      "cell_type": "code",
      "execution_count": 140,
      "metadata": {
        "id": "7G780mG6WQrX",
        "colab": {
          "base_uri": "https://localhost:8080/"
        },
        "outputId": "d37efc7d-95d8-4ced-d4ff-3be26a9aa243"
      },
      "outputs": [
        {
          "output_type": "execute_result",
          "data": {
            "text/plain": [
              "5"
            ]
          },
          "metadata": {},
          "execution_count": 140
        }
      ],
      "source": [
        "# list of dfs with all annotated datasets\n",
        "dfs={}\n",
        "for doc in os.listdir(\"annotated\"):\n",
        "  if doc.endswith(\".json\"):\n",
        "    #read json data\n",
        "    json_data=json.load(open(\"annotated/\"+doc, encoding=\"utf-8\"))\n",
        "    #convert to dataframe\n",
        "    data=pd.DataFrame(json_data[\"documents\"])\n",
        "    #for now: filter out paragraphs that have not been annotated\n",
        "    data=data[data[\"annotations\"].apply(len)>0]\n",
        "    data.loc[:,\"file\"]=doc\n",
        "    dfs[doc]=data\n",
        "\n",
        "len(dfs)"
      ]
    },
    {
      "cell_type": "code",
      "source": [
        "final_data=pd.DataFrame(columns=[\"artikel_id\",\"text\",\"name\", \"datum\",\"ressort\",\"annotations\",\"attributes_flat\",\"file\",\"artikel_order\" ])"
      ],
      "metadata": {
        "id": "CUWWBd6O-Zao"
      },
      "execution_count": 141,
      "outputs": []
    },
    {
      "cell_type": "markdown",
      "source": [
        "### annotations_05_18\n",
        "Task:\n",
        "- extract ressort, datum, name\n",
        "- extract annotations\n",
        "- extract artikel id\n",
        "\n",
        "Note:\n",
        "- doesnt have article order"
      ],
      "metadata": {
        "id": "Mu15B4mw97Q5"
      }
    },
    {
      "cell_type": "code",
      "source": [
        "data=dfs[\"230518_annotations.json\"]"
      ],
      "metadata": {
        "id": "NcrDHxmwH0tN"
      },
      "execution_count": 142,
      "outputs": []
    },
    {
      "cell_type": "code",
      "source": [
        "data[\"ressort\"]=data.apply(lambda x: x.attributes_flat[\"ressort\"],axis=1)\n",
        "data[\"datum\"]=data.apply(lambda x: x.attributes_flat[\"datum\"],axis=1)\n",
        "data[\"name\"]=data.apply(lambda x: x.attributes_flat[\"name\"],axis=1)\n",
        "data[\"artikel_id\"]=data.apply(lambda x: x.attributes_flat[\"artikel_id\"],axis=1)"
      ],
      "metadata": {
        "id": "0n2Ha5YK-Cw6"
      },
      "execution_count": 143,
      "outputs": []
    },
    {
      "cell_type": "code",
      "source": [
        "# extract annotations\n",
        "data.loc[:,\"annotations\"]=data.loc[:,\"annotations\"].apply(annotations.extract_annotations)"
      ],
      "metadata": {
        "id": "cC1hO6NCCVRa"
      },
      "execution_count": 144,
      "outputs": []
    },
    {
      "cell_type": "code",
      "source": [
        "# calculate similarity\n",
        "data.loc[:,\"jaccard\"]=data.loc[:,\"annotations\"].apply(annotations.calculate_similarity)\n",
        "data.loc[:,\"dice\"]=data.loc[:,\"annotations\"].apply(annotations.calculate_similarity,args=[\"dice\"])"
      ],
      "metadata": {
        "id": "RCHVGjSKCmMh"
      },
      "execution_count": 145,
      "outputs": []
    },
    {
      "cell_type": "code",
      "source": [
        "data=data.drop(\"id\",axis=1)"
      ],
      "metadata": {
        "id": "Os74KMjFDjrP"
      },
      "execution_count": 146,
      "outputs": []
    },
    {
      "cell_type": "code",
      "source": [
        "final_data=pd.concat([final_data,data])"
      ],
      "metadata": {
        "id": "yIQryyjjC-5o"
      },
      "execution_count": 147,
      "outputs": []
    },
    {
      "cell_type": "markdown",
      "source": [
        "### 230609_annotations_part1\n",
        "\n",
        "Task:\n",
        "- extract datum, artikel_id, ressort, name, artikel_order\n",
        "\n",
        "Note:\n",
        "- 1/3 without ressort"
      ],
      "metadata": {
        "id": "UJOVZTucIWyz"
      }
    },
    {
      "cell_type": "code",
      "source": [
        "data=dfs[\"230609_annotations_part1.json\"]"
      ],
      "metadata": {
        "id": "eHnVvko3IZc3"
      },
      "execution_count": 148,
      "outputs": []
    },
    {
      "cell_type": "code",
      "source": [
        "data[\"ressort\"]=data.apply(lambda x: x.attributes_flat[\"ressort\"],axis=1)\n",
        "data[\"datum\"]=data.apply(lambda x: x.attributes_flat[\"datum\"],axis=1)\n",
        "data[\"name\"]=data.apply(lambda x: x.attributes_flat[\"name\"],axis=1)\n",
        "data[\"artikel_id\"]=data.apply(lambda x: x.attributes_flat[\"artikel_id\"],axis=1)\n",
        "data[\"artikel_order\"]=data.apply(lambda x: x.attributes_flat[\"artikel_order\"],axis=1)"
      ],
      "metadata": {
        "id": "JpX6iSQ2JBCQ"
      },
      "execution_count": 149,
      "outputs": []
    },
    {
      "cell_type": "code",
      "source": [
        "# extract annotations\n",
        "data.loc[:,\"annotations\"]=data.loc[:,\"annotations\"].apply(annotations.extract_annotations)"
      ],
      "metadata": {
        "id": "p8tQqUWIJBCQ"
      },
      "execution_count": 152,
      "outputs": []
    },
    {
      "cell_type": "code",
      "source": [
        "# calculate similarity\n",
        "data.loc[:,\"jaccard\"]=data.loc[:,\"annotations\"].apply(annotations.calculate_similarity)\n",
        "data.loc[:,\"dice\"]=data.loc[:,\"annotations\"].apply(annotations.calculate_similarity,args=[\"dice\"])"
      ],
      "metadata": {
        "id": "GN-6oj78JBCR"
      },
      "execution_count": 153,
      "outputs": []
    },
    {
      "cell_type": "code",
      "source": [
        "data=data.drop(\"id\",axis=1)"
      ],
      "metadata": {
        "id": "30nzAhJlJBCS"
      },
      "execution_count": 154,
      "outputs": []
    },
    {
      "cell_type": "code",
      "source": [
        "final_data=pd.concat([final_data,data])"
      ],
      "metadata": {
        "id": "TDKlS_1UK0L8"
      },
      "execution_count": 155,
      "outputs": []
    },
    {
      "cell_type": "markdown",
      "source": [
        "### 230609_annotations_part2\n",
        "\n",
        "Task:\n",
        "- extract datum, artikel_id, ressort, name, artikel_order\n",
        "\n"
      ],
      "metadata": {
        "id": "q7pkn9UC1Pp-"
      }
    },
    {
      "cell_type": "code",
      "source": [
        "data=dfs[\"230609_annotations_part2.json\"]"
      ],
      "metadata": {
        "id": "rBaN7bm_1Pp-"
      },
      "execution_count": 156,
      "outputs": []
    },
    {
      "cell_type": "code",
      "source": [
        "data[\"ressort\"]=data.apply(lambda x: x.attributes_flat[\"ressort\"],axis=1)\n",
        "data[\"datum\"]=data.apply(lambda x: x.attributes_flat[\"datum\"],axis=1)\n",
        "data[\"name\"]=data.apply(lambda x: x.attributes_flat[\"name\"],axis=1)\n",
        "data[\"artikel_id\"]=data.apply(lambda x: x.attributes_flat[\"artikel_id\"],axis=1)\n",
        "data[\"artikel_order\"]=data.apply(lambda x: x.attributes_flat[\"artikel_order\"],axis=1)"
      ],
      "metadata": {
        "id": "6RLegp3B1Pp_"
      },
      "execution_count": 157,
      "outputs": []
    },
    {
      "cell_type": "code",
      "source": [
        "# extract annotations\n",
        "data.loc[:,\"annotations\"]=data.loc[:,\"annotations\"].apply(annotations.extract_annotations)"
      ],
      "metadata": {
        "id": "KTr61a5C1Pp_"
      },
      "execution_count": 158,
      "outputs": []
    },
    {
      "cell_type": "code",
      "source": [
        "# calculate similarity\n",
        "data.loc[:,\"jaccard\"]=data.loc[:,\"annotations\"].apply(annotations.calculate_similarity)\n",
        "data.loc[:,\"dice\"]=data.loc[:,\"annotations\"].apply(annotations.calculate_similarity,args=[\"dice\"])"
      ],
      "metadata": {
        "id": "MVNDuqOc1PqA"
      },
      "execution_count": 159,
      "outputs": []
    },
    {
      "cell_type": "code",
      "source": [
        "data=data.drop(\"id\",axis=1)"
      ],
      "metadata": {
        "id": "7dbv7yfL1PqA"
      },
      "execution_count": 160,
      "outputs": []
    },
    {
      "cell_type": "code",
      "source": [
        "final_data=pd.concat([final_data,data])"
      ],
      "metadata": {
        "id": "pwHPySiB1PqA"
      },
      "execution_count": 161,
      "outputs": []
    },
    {
      "cell_type": "markdown",
      "source": [
        "### 230609_annotations_part3\n",
        "\n",
        "Task:\n",
        "- extract datum, artikel_id, ressort, name, artikel_order\n",
        "- all of J's annotations belong to V2 of annotations, hence remove from this data\n"
      ],
      "metadata": {
        "id": "zoodSMK91npI"
      }
    },
    {
      "cell_type": "code",
      "source": [
        "data=dfs[\"230609_annotations_part3.json\"]"
      ],
      "metadata": {
        "id": "y3UpyJpf1npJ"
      },
      "execution_count": 162,
      "outputs": []
    },
    {
      "cell_type": "code",
      "source": [
        "data[\"ressort\"]=data.apply(lambda x: x.attributes_flat[\"ressort\"],axis=1)\n",
        "data[\"datum\"]=data.apply(lambda x: x.attributes_flat[\"datum\"],axis=1)\n",
        "data[\"name\"]=data.apply(lambda x: x.attributes_flat[\"name\"],axis=1)\n",
        "data[\"artikel_id\"]=data.apply(lambda x: x.attributes_flat[\"artikel_id\"],axis=1)\n",
        "data[\"artikel_order\"]=data.apply(lambda x: x.attributes_flat[\"artikel_order\"],axis=1)"
      ],
      "metadata": {
        "id": "u-P9vTAG1npJ"
      },
      "execution_count": 163,
      "outputs": []
    },
    {
      "cell_type": "code",
      "source": [
        "# extract annotations\n",
        "data.loc[:,\"annotations\"]=data.loc[:,\"annotations\"].apply(annotations.extract_annotations)"
      ],
      "metadata": {
        "id": "ywYQTKGP1npK"
      },
      "execution_count": 164,
      "outputs": []
    },
    {
      "cell_type": "code",
      "source": [
        "# remove J's annotations\n",
        "data=data[data.loc[:,\"annotations\"].apply(lambda x: \"J\" not in x.keys())]"
      ],
      "metadata": {
        "id": "_VqPq9q1OXv1"
      },
      "execution_count": 165,
      "outputs": []
    },
    {
      "cell_type": "code",
      "source": [
        "# calculate similarity\n",
        "data.loc[:,\"jaccard\"]=data.loc[:,\"annotations\"].apply(annotations.calculate_similarity)\n",
        "data.loc[:,\"dice\"]=data.loc[:,\"annotations\"].apply(annotations.calculate_similarity,args=[\"dice\"])"
      ],
      "metadata": {
        "id": "giOzXcLU1npN",
        "colab": {
          "base_uri": "https://localhost:8080/"
        },
        "outputId": "d4a55392-f892-41fe-ac84-5f44ee90d100"
      },
      "execution_count": 166,
      "outputs": [
        {
          "output_type": "stream",
          "name": "stderr",
          "text": [
            "<ipython-input-166-3de09ff32f13>:2: SettingWithCopyWarning: \n",
            "A value is trying to be set on a copy of a slice from a DataFrame.\n",
            "Try using .loc[row_indexer,col_indexer] = value instead\n",
            "\n",
            "See the caveats in the documentation: https://pandas.pydata.org/pandas-docs/stable/user_guide/indexing.html#returning-a-view-versus-a-copy\n",
            "  data.loc[:,\"jaccard\"]=data.loc[:,\"annotations\"].apply(annotations.calculate_similarity)\n",
            "<ipython-input-166-3de09ff32f13>:3: SettingWithCopyWarning: \n",
            "A value is trying to be set on a copy of a slice from a DataFrame.\n",
            "Try using .loc[row_indexer,col_indexer] = value instead\n",
            "\n",
            "See the caveats in the documentation: https://pandas.pydata.org/pandas-docs/stable/user_guide/indexing.html#returning-a-view-versus-a-copy\n",
            "  data.loc[:,\"dice\"]=data.loc[:,\"annotations\"].apply(annotations.calculate_similarity,args=[\"dice\"])\n"
          ]
        }
      ]
    },
    {
      "cell_type": "code",
      "source": [
        "data=data.drop(\"id\",axis=1)"
      ],
      "metadata": {
        "id": "qmOREg011npN"
      },
      "execution_count": 167,
      "outputs": []
    },
    {
      "cell_type": "code",
      "source": [
        "final_data=pd.concat([final_data,data])"
      ],
      "metadata": {
        "id": "n5UtWRQr1npO"
      },
      "execution_count": 168,
      "outputs": []
    },
    {
      "cell_type": "markdown",
      "source": [
        "### 230609_annotations_50sample\n",
        "Task:\n",
        "- get ressort, name, datum, artikel_id\n",
        "- the column id is NOT artikel_id\n",
        "\n",
        "Note:\n",
        "- all annotationsof this sample are duplicates, so a subset of the others , annotated by 3 annotators"
      ],
      "metadata": {
        "id": "MNao7uAXDsYE"
      }
    },
    {
      "cell_type": "code",
      "source": [
        "data=dfs[\"230609_annotations_50sample.json\"]"
      ],
      "metadata": {
        "id": "y02ptGnJGoCR"
      },
      "execution_count": 169,
      "outputs": []
    },
    {
      "cell_type": "code",
      "source": [
        "data=data[[\"text\",\"annotations\",\"file\"]].merge(final_data[[\"datum\",\"ressort\",\"name\",\"text\",\"artikel_id\"]], on=\"text\")"
      ],
      "metadata": {
        "id": "4xMzXy274GcF"
      },
      "execution_count": 170,
      "outputs": []
    },
    {
      "cell_type": "code",
      "source": [
        "# extract annotations\n",
        "data.loc[:,\"annotations\"]=data.loc[:,\"annotations\"].apply(annotations.extract_annotations)"
      ],
      "metadata": {
        "id": "NIImF96L5Jrj"
      },
      "execution_count": 171,
      "outputs": []
    },
    {
      "cell_type": "code",
      "source": [
        "# calculate similarity\n",
        "data.loc[:,\"jaccard\"]=data.loc[:,\"annotations\"].apply(annotations.calculate_similarity)\n",
        "data.loc[:,\"dice\"]=data.loc[:,\"annotations\"].apply(annotations.calculate_similarity,args=[\"dice\"])"
      ],
      "metadata": {
        "id": "_Q-zCFKU5Jrj"
      },
      "execution_count": 172,
      "outputs": []
    },
    {
      "cell_type": "code",
      "source": [
        "final_data=pd.concat([final_data,data])"
      ],
      "metadata": {
        "id": "DbeZKXz45Jrl"
      },
      "execution_count": 173,
      "outputs": []
    },
    {
      "cell_type": "markdown",
      "source": [
        "### Export merged data"
      ],
      "metadata": {
        "id": "G5MQUS4W5RNy"
      }
    },
    {
      "cell_type": "code",
      "source": [
        "from datetime import datetime"
      ],
      "metadata": {
        "id": "eAORtaAbLIS4"
      },
      "execution_count": 174,
      "outputs": []
    },
    {
      "cell_type": "code",
      "source": [
        "date=datetime.today().strftime('%y%m%d')"
      ],
      "metadata": {
        "id": "ExY2608ALavl"
      },
      "execution_count": 175,
      "outputs": []
    },
    {
      "cell_type": "code",
      "source": [
        "final_data.to_csv(f\"annotated/{date}_all_annotationsV1.csv\")"
      ],
      "metadata": {
        "id": "ZoeFUYVNMTiI"
      },
      "execution_count": 177,
      "outputs": []
    }
  ]
}