{
  "cells": [
    {
      "cell_type": "code",
      "execution_count": 2,
      "id": "679ec6b6",
      "metadata": {
        "id": "679ec6b6"
      },
      "outputs": [],
      "source": [
        "# import usual packages\n",
        "import json\n",
        "import nltk\n",
        "from nltk.collocations import *\n",
        "import datetime as dt\n",
        "import locale\n",
        "import spacy\n",
        "from tqdm import tqdm\n",
        "import pprint\n",
        "import pandas as pd"
      ]
    },
    {
      "cell_type": "code",
      "execution_count": 3,
      "id": "cb4f3e4b",
      "metadata": {
        "id": "cb4f3e4b"
      },
      "outputs": [],
      "source": [
        "# from IPython.display import display, HTML\n",
        "# import os\n",
        "# display(HTML(\"<style>.container { width:90% !important; }</style>\"))"
      ]
    },
    {
      "cell_type": "code",
      "source": [
        "# connect with google drive\n",
        "from google.colab import drive\n",
        "drive.mount('/content/drive')"
      ],
      "metadata": {
        "colab": {
          "base_uri": "https://localhost:8080/"
        },
        "id": "60SY2bNAow3M",
        "outputId": "3131d20f-3381-44f3-8a6d-1657f5b88efd"
      },
      "id": "60SY2bNAow3M",
      "execution_count": 4,
      "outputs": [
        {
          "output_type": "stream",
          "name": "stdout",
          "text": [
            "Drive already mounted at /content/drive; to attempt to forcibly remount, call drive.mount(\"/content/drive\", force_remount=True).\n"
          ]
        }
      ]
    },
    {
      "cell_type": "code",
      "source": [
        "#change cwd\n",
        "%cd drive/MyDrive/Work/Frontline/data"
      ],
      "metadata": {
        "colab": {
          "base_uri": "https://localhost:8080/"
        },
        "id": "JZo05nte48yW",
        "outputId": "7a2abca2-bc1b-4a21-9775-0356c62f0f1a"
      },
      "id": "JZo05nte48yW",
      "execution_count": 5,
      "outputs": [
        {
          "output_type": "stream",
          "name": "stdout",
          "text": [
            "/content/drive/.shortcut-targets-by-id/1WfnZsqpG1r110J63sMbfS5TpsDOkveiV/data\n"
          ]
        }
      ]
    },
    {
      "cell_type": "code",
      "source": [
        "# paths\n",
        "FILTERED_PATH=\"filtered_4_25\""
      ],
      "metadata": {
        "id": "bI87iJZopQK8"
      },
      "id": "bI87iJZopQK8",
      "execution_count": 6,
      "outputs": []
    },
    {
      "cell_type": "code",
      "source": [
        "# import spacy package\n",
        "#!python -m spacy download de_core_news_lg"
      ],
      "metadata": {
        "id": "_bN_h2mgrfJO"
      },
      "id": "_bN_h2mgrfJO",
      "execution_count": 7,
      "outputs": []
    },
    {
      "cell_type": "markdown",
      "source": [
        "#### Read Data"
      ],
      "metadata": {
        "id": "cMSn_8mMpHjV"
      },
      "id": "cMSn_8mMpHjV"
    },
    {
      "cell_type": "code",
      "source": [
        "from ast import literal_eval\n",
        "import os"
      ],
      "metadata": {
        "id": "LUVsQxXIzVGS"
      },
      "id": "LUVsQxXIzVGS",
      "execution_count": 8,
      "outputs": []
    },
    {
      "cell_type": "code",
      "source": [
        "df=pd.read_csv(\"sample.csv\")"
      ],
      "metadata": {
        "id": "wrTFgvgU5wxc"
      },
      "id": "wrTFgvgU5wxc",
      "execution_count": 9,
      "outputs": []
    },
    {
      "cell_type": "code",
      "source": [
        "# dfs = []\n",
        "\n",
        "# # loop through files \n",
        "# for filename in os.listdir(FILTERED_PATH):\n",
        "#     # if csv file, load and add to dfs  \n",
        "#     if filename.endswith(\".csv\"):\n",
        "#         file_path = os.path.join(FILTERED_PATH, filename)\n",
        "#         df = pd.read_csv(file_path, index_col=0, converters={\"text\":literal_eval})\n",
        "#         dfs.append(df)\n",
        "\n",
        "# # combine files in df\n",
        "# df = pd.concat(dfs, ignore_index=True)"
      ],
      "metadata": {
        "id": "O1livpKtpHNc"
      },
      "id": "O1livpKtpHNc",
      "execution_count": 10,
      "outputs": []
    },
    {
      "cell_type": "markdown",
      "id": "7420d4e8",
      "metadata": {
        "id": "7420d4e8"
      },
      "source": [
        "# Preprocessing \n",
        "\n",
        "### Main steps:\n",
        "\n",
        "- load (german) spacy model \n",
        "- convert corpus to spacy language object\n",
        "- run preprocessing function to clean corpus\n",
        "\n",
        "- review stopwords to keep causal language/verbs/pronouns\n",
        "\n",
        "- create two versions of corpus for comparison: \n",
        "    - fully cleaned w/o entities/stopwords/proper nouns\n",
        "    - partially cleaned w/o entities/proper nouns but w/causal stopwords\n"
      ]
    },
    {
      "cell_type": "code",
      "source": [
        "# custom module\n",
        "import preprocessing"
      ],
      "metadata": {
        "id": "leF9X5e2rjdg"
      },
      "id": "leF9X5e2rjdg",
      "execution_count": 11,
      "outputs": []
    },
    {
      "cell_type": "code",
      "execution_count": 12,
      "id": "a91da867",
      "metadata": {
        "id": "a91da867"
      },
      "outputs": [],
      "source": [
        "# Load model\n",
        "spacy_mod = spacy.load(\"de_core_news_lg\", disable=['ner', 'parser', 'tagger'])"
      ]
    },
    {
      "cell_type": "code",
      "execution_count": 13,
      "id": "dcda90a1",
      "metadata": {
        "id": "dcda90a1"
      },
      "outputs": [],
      "source": [
        "# read custom stopwords\n",
        "\n",
        "# open list of custom stopwords\n",
        "custom_stop_words= open(\"custom_stopwords.txt\").read().split()\n",
        "\n",
        "# add custom stopwords to model\n",
        "for word in custom_stop_words:\n",
        "  spacy_mod.Defaults.stop_words.add(word)"
      ]
    },
    {
      "cell_type": "code",
      "execution_count": 14,
      "id": "d94fbf75",
      "metadata": {
        "id": "d94fbf75",
        "outputId": "a289f515-7159-4801-acba-22b63a24cc41",
        "colab": {
          "base_uri": "https://localhost:8080/"
        }
      },
      "outputs": [
        {
          "output_type": "stream",
          "name": "stderr",
          "text": [
            "50it [00:01, 26.39it/s]\n"
          ]
        }
      ],
      "source": [
        "# convert corpus to language object\n",
        "spacy = []\n",
        "for i, doc in tqdm(df.iterrows()): \n",
        "  spacy.append(spacy_mod(\"\".join(doc['text'])))"
      ]
    },
    {
      "cell_type": "code",
      "execution_count": 15,
      "id": "7542c1d7",
      "metadata": {
        "id": "7542c1d7",
        "outputId": "b1d7b29c-4d83-43d0-f603-f57352011246",
        "colab": {
          "base_uri": "https://localhost:8080/"
        }
      },
      "outputs": [
        {
          "output_type": "stream",
          "name": "stderr",
          "text": [
            "100%|██████████| 50/50 [00:00<00:00, 1907.73it/s]\n"
          ]
        }
      ],
      "source": [
        "# preprocess: remove stopwords\n",
        "spacy_cleaned = []\n",
        "for doc in tqdm(spacy): \n",
        "    spacy_cleaned.append(preprocessing.preprocess(doc, remove_ent=True))"
      ]
    },
    {
      "cell_type": "code",
      "execution_count": 16,
      "id": "30460041",
      "metadata": {
        "id": "30460041",
        "colab": {
          "base_uri": "https://localhost:8080/"
        },
        "outputId": "9e028f66-36bd-40c0-ea1a-0da7bdae624b"
      },
      "outputs": [
        {
          "output_type": "stream",
          "name": "stdout",
          "text": [
            "['(lnw). Eine 36-jährige Frau, die am Dienstag in Krefeld niedergestochen wurde, ist am selben Abend im Krankenhaus gestorben. Das teilte die Polizei\n",
            "94\n",
            "['lnw', 'frau', 'dienstag', 'niedergestochen', 'selben', 'abend', 'krankenhaus', 'gestorben', 'teilte', 'polizei']\n",
            "31\n"
          ]
        }
      ],
      "source": [
        "# compare dirty and cleaned corpus\n",
        "print(spacy[0][0:30], len(spacy[0]), sep='\\n')\n",
        "print(spacy_cleaned[0][0:10], len(spacy_cleaned[0]), sep='\\n')"
      ]
    },
    {
      "cell_type": "markdown",
      "id": "aa8c727b",
      "metadata": {
        "id": "aa8c727b"
      },
      "source": [
        "# Collocation Analysis\n",
        "\n",
        "## Main steps:\n",
        "\n",
        "- Create bi/tri/quad- ngrams\n",
        "- Rank order ngrams by raw frequency (print to txt files)\n",
        "\n",
        "- Examine association measures for top 50 ngrams\n",
        "- Analyse differences in ngrams across documents\n",
        "- Check for collocation strength/significance testing\n",
        "\n",
        "- plot comparisons: association strength (dot chart) / network graphs / biplots (using semantic similarity)"
      ]
    },
    {
      "cell_type": "markdown",
      "source": [
        "## Methods:\n",
        "- rank_bigrams: ranks bigrams by given metric \n",
        "- rank_trigrams: ranks trigrams by given metric \n",
        "- rank_quadgrams: ranks quadgrams by given metric \n",
        "- ngram_comparison: compares ngram by different metrics"
      ],
      "metadata": {
        "id": "UVm0SgGV72sJ"
      },
      "id": "UVm0SgGV72sJ"
    },
    {
      "cell_type": "code",
      "source": [
        "from nltk.collocations import BigramCollocationFinder\n",
        "from nltk.metrics.association import BigramAssocMeasures\n",
        "\n",
        "from nltk.collocations import TrigramCollocationFinder\n",
        "from nltk.metrics.association import TrigramAssocMeasures\n",
        "\n",
        "from nltk.collocations import QuadgramCollocationFinder\n",
        "from nltk.metrics.association import QuadgramAssocMeasures\n"
      ],
      "metadata": {
        "id": "-oMft48T71aM"
      },
      "id": "-oMft48T71aM",
      "execution_count": null,
      "outputs": []
    },
    {
      "cell_type": "code",
      "execution_count": 17,
      "id": "c183d229",
      "metadata": {
        "id": "c183d229"
      },
      "outputs": [],
      "source": [
        "# rank bigrams by given metric \n",
        "def rank_bigrams(corpus, metric, from_words=False, threshold=int, path=None):\n",
        "    \"\"\"\n",
        "    Find and rank ngrams from the supplied corpus using the given\n",
        "    association metric. Write the trigrams out to the given path if\n",
        "    supplied otherwise return the list in memory.\n",
        "    \n",
        "    Args:\n",
        "    from_words (bool, optional): If True, unlist all documents and create ngrams from words.\n",
        "    threshold (int): ignore all ngrams which occur less than n times in the corpus\n",
        "    path (str): path to save ngram list as .txt file\n",
        "    \n",
        "    \"\"\"\n",
        "    \n",
        "    if from_words == True:\n",
        "        #turn all doc tokens into one single list\n",
        "        unlist_corpus = [item for items in corpus for item in items]\n",
        "        # Create a collocation ranking utility from corpus\n",
        "        finder = BigramCollocationFinder.from_words(unlist_corpus)\n",
        "        # Apply frequency filter = at least 3 times\n",
        "        finder.apply_freq_filter(threshold)\n",
        "        # Rank collocations by an association metric\n",
        "        scored = finder.score_ngrams(metric)\n",
        "            \n",
        "    else: \n",
        "        finder = BigramCollocationFinder.from_documents(corpus)\n",
        "        finder.apply_freq_filter(threshold)\n",
        "        scored = finder.score_ngrams(metric)\n",
        "\n",
        "    if path:\n",
        "    # Write to disk as tab-delimited file\n",
        "        with open(path, 'w') as f:\n",
        "            f.write(\"Collocation\\tScore ({})\\n\".format(metric.__name__))\n",
        "            for ngram, score in scored:\n",
        "                f.write(\"{}\\t{}\\n\".format(repr(ngram), score))\n",
        "    else:\n",
        "        return scored"
      ]
    },
    {
      "cell_type": "code",
      "source": [
        "#ranks trigrams by given metric\n",
        "def rank_trigrams(corpus, metric, from_words=False, threshold=int, path=None):\n",
        "    \"\"\"\n",
        "    Find and rank ngrams from the supplied corpus using the given\n",
        "    association metric. Write the trigrams out to the given path if\n",
        "    supplied otherwise return the list in memory.\n",
        "    \n",
        "    Args:\n",
        "    from_words (bool, optional): If True, unlist all documents and create ngrams from words.\n",
        "    threshold (int): ignore all ngrams which occur less than n times in the corpus\n",
        "    path (str): path to save ngram list as .txt file\n",
        "    \n",
        "    \"\"\"\n",
        "    \n",
        "    if from_words == True:\n",
        "        #turn all doc tokens into one single list\n",
        "        unlist_corpus = [item for items in corpus for item in items]\n",
        "        # Create a collocation ranking utility from corpus\n",
        "        finder = TrigramCollocationFinder.from_words(unlist_corpus)\n",
        "        # Apply frequency filter = at least 3 times\n",
        "        finder.apply_freq_filter(threshold)\n",
        "        # Rank collocations by an association metric\n",
        "        scored = finder.score_ngrams(metric)\n",
        "            \n",
        "    else: \n",
        "        finder = TrigramCollocationFinder.from_documents(corpus)\n",
        "        finder.apply_freq_filter(threshold)\n",
        "        scored = finder.score_ngrams(metric)\n",
        "\n",
        "    if path:\n",
        "    # Write to disk as tab-delimited file\n",
        "        with open(path, 'w') as f:\n",
        "            f.write(\"Collocation\\tScore ({})\\n\".format(metric.__name__))\n",
        "            for ngram, score in scored:\n",
        "                f.write(\"{}\\t{}\\n\".format(repr(ngram), score))\n",
        "    else:\n",
        "        return scored\n",
        "    "
      ],
      "metadata": {
        "id": "947I8aMw8O9T"
      },
      "id": "947I8aMw8O9T",
      "execution_count": null,
      "outputs": []
    },
    {
      "cell_type": "code",
      "execution_count": 22,
      "id": "be315071",
      "metadata": {
        "id": "be315071"
      },
      "outputs": [],
      "source": [
        "# rank quadgrams by given metric \n",
        "def rank_quadgrams(corpus, metric, from_words=False, threshold=int, path=None):\n",
        "    \"\"\"\n",
        "    Find and rank ngrams from the supplied corpus using the given\n",
        "    association metric. Write the trigrams out to the given path if\n",
        "    supplied otherwise return the list in memory.\n",
        "    \n",
        "    Args:\n",
        "    from_words (bool, optional): If True, unlist all documents and create ngrams from words.\n",
        "    threshold (int): ignore all ngrams which occur less than n times in the corpus\n",
        "    path (str): path to save ngram list as .txt file\n",
        "    \n",
        "    \"\"\"\n",
        "    \n",
        "    if from_words == True:\n",
        "        #turn all doc tokens into one single list\n",
        "        unlist_corpus = [item for items in corpus for item in items]\n",
        "        # Create a collocation ranking utility from corpus\n",
        "        finder = QuadgramCollocationFinder.from_words(unlist_corpus)\n",
        "        # Apply frequency filter = at least 3 times\n",
        "        finder.apply_freq_filter(threshold)\n",
        "        # Rank collocations by an association metric\n",
        "        scored = finder.score_ngrams(metric)\n",
        "            \n",
        "    else: \n",
        "        finder = QuadgramCollocationFinder.from_documents(corpus)\n",
        "        finder.apply_freq_filter(threshold)\n",
        "        scored = finder.score_ngrams(metric)\n",
        "\n",
        "    if path:\n",
        "    # Write to disk as tab-delimited file\n",
        "        with open(path, 'w') as f:\n",
        "            f.write(\"Collocation\\tScore ({})\\n\".format(metric.__name__))\n",
        "            for ngram, score in scored:\n",
        "                f.write(\"{}\\t{}\\n\".format(repr(ngram), score))\n",
        "    else:\n",
        "        return scored\n",
        "    "
      ]
    },
    {
      "cell_type": "code",
      "execution_count": 24,
      "id": "6e18e4c1",
      "metadata": {
        "id": "6e18e4c1"
      },
      "outputs": [],
      "source": [
        "def ngram_comparison(corpus, ngram=['bigram', 'trigram', 'quadgram'], threshold=int, top=int, path=None):\n",
        "    \n",
        "    \"\"\"\n",
        "    Create comparison table for given ngram-type for \n",
        "    NLTK association measures based on supplied corpus.\n",
        "    \n",
        "    Specify how many top ranking ngrams should be compared. \n",
        "    \n",
        "    Write the ngram table out to the given path if \n",
        "    supplied otherwise return the table in memory.\n",
        "    \n",
        "    Args:\n",
        "    corpus (str): corpus that you want to examine\n",
        "    ngram (str): type of ngram (only one option per function run)\n",
        "    threshold (int): ignore all ngrams which occur less than n times in the corpus\n",
        "    top (int): number of top ngrams to be displayed\n",
        "    path (str): path to save ngram list as .txt file\n",
        "    \n",
        "    \"\"\"\n",
        "    \n",
        "    unlist_corpus = [item for items in corpus for item in items]    \n",
        "    \n",
        "    if ngram == 'bigram':\n",
        "        Finder = nltk.collocations.BigramCollocationFinder.from_words(unlist_corpus)\n",
        "        metric = nltk.collocations.BigramAssocMeasures()\n",
        "        Finder.apply_freq_filter(threshold)\n",
        "    \n",
        "    if ngram == 'trigram':\n",
        "        Finder = nltk.collocations.TrigramCollocationFinder.from_words(unlist_corpus)\n",
        "        metric = nltk.collocations.TrigramAssocMeasures()\n",
        "        Finder.apply_freq_filter(threshold)\n",
        "        \n",
        "    if ngram == 'quadgram':\n",
        "        Finder = nltk.collocations.QuadgramCollocationFinder.from_words(unlist_corpus)\n",
        "        metric = nltk.collocations.QuadgramAssocMeasures()\n",
        "        Finder.apply_freq_filter(threshold)\n",
        "\n",
        "    try:        \n",
        "        freq_top = pd.DataFrame(list(Finder.score_ngrams(metric.raw_freq)), \n",
        "                              columns=['ngram','freq']).sort_values(by='freq', ascending=False)[:top].ngram.values\n",
        "        \n",
        "        pmi_top = pd.DataFrame(list(Finder.score_ngrams(metric.pmi)), \n",
        "                             columns=['ngram','pmi']).sort_values(by='pmi', ascending=False)[:top].ngram.values\n",
        "       \n",
        "        ttest_top = pd.DataFrame(list(Finder.score_ngrams(metric.student_t)), \n",
        "                             columns=['ngram','t-test']).sort_values(by='t-test', ascending=False)[:top].ngram.values\n",
        "       \n",
        "        chisq_top = pd.DataFrame(list(Finder.score_ngrams(metric.chi_sq)), \n",
        "                             columns=['ngram','chisq']).sort_values(by='chisq', ascending=False)[:top].ngram.values\n",
        "       \n",
        "        lrt_top = pd.DataFrame(list(Finder.score_ngrams(metric.likelihood_ratio)), \n",
        "                             columns=['ngram','lrt']).sort_values(by='lrt', ascending=False)[:top].ngram.values\n",
        "        \n",
        "    finally: \n",
        "        ngram_comparison = pd.DataFrame([freq_top, pmi_top, ttest_top, chisq_top, lrt_top]).T\n",
        "        ngram_comparison.columns = ['Frequency', 'PMI', 'T-Test', 'Chi-Square', 'Likelihood Ratio']\n",
        "    \n",
        "    if path:\n",
        "        with open(path, 'w') as f:\n",
        "            ngram_comparison.to_csv(f, sep='\\t', index = False)\n",
        "            \n",
        "    else: \n",
        "        return ngram_comparison"
      ]
    },
    {
      "cell_type": "markdown",
      "id": "8fba52c3",
      "metadata": {
        "id": "8fba52c3"
      },
      "source": [
        "## 1) Creating & Ranking Ngrams"
      ]
    },
    {
      "cell_type": "markdown",
      "id": "36c16f7d",
      "metadata": {
        "id": "36c16f7d"
      },
      "source": [
        "- Bigrams from cleaned and unprocessed corpus"
      ]
    },
    {
      "cell_type": "code",
      "execution_count": 18,
      "id": "3c4072f7",
      "metadata": {
        "id": "3c4072f7",
        "colab": {
          "base_uri": "https://localhost:8080/"
        },
        "outputId": "8e86a08e-9960-4939-eb37-842b723c2ed0"
      },
      "outputs": [
        {
          "output_type": "execute_result",
          "data": {
            "text/plain": [
              "[(('häuslicher', 'gewalt'), 0.006795979045731275),\n",
              " (('gewalt', 'frauen'), 0.0032564066260795696),\n",
              " (('häusliche', 'gewalt'), 0.002831657935721365),\n",
              " (('frauen', 'opfer'), 0.0014158289678606825),\n",
              " (('opfer', 'häuslicher'), 0.0012742460710746142),\n",
              " (('weißen', 'rings'), 0.001132663174288546),\n",
              " (('fälle', 'häuslicher'), 0.0009910802775024777),\n",
              " (('männer', 'frauen'), 0.0009910802775024777),\n",
              " (('weißen', 'ring'), 0.0009910802775024777),\n",
              " (('frauen', 'kinder'), 0.0008494973807164094),\n",
              " (('mord', 'totschlag'), 0.0008494973807164094),\n",
              " (('frauen', 'helfen'), 0.0007079144839303412),\n",
              " (('frauen', 'männer'), 0.0007079144839303412),\n",
              " (('gefährlicher', 'körperverletzung'), 0.0007079144839303412),\n",
              " (('weiße', 'ring'), 0.0007079144839303412),\n",
              " (('anzeige', 'erstatten'), 0.000566331587144273),\n",
              " (('forensische', 'ambulanz'), 0.000566331587144273),\n",
              " (('frau', 'mann'), 0.000566331587144273),\n",
              " (('frau', 'opfer'), 0.000566331587144273),\n",
              " (('frauenfeindliche', 'straftaten'), 0.000566331587144273),\n",
              " (('helfen', 'frauen'), 0.000566331587144273),\n",
              " (('mann', 'frau'), 0.000566331587144273),\n",
              " (('schutz', 'häuslicher'), 0.000566331587144273),\n",
              " (('sexuellen', 'übergriffen'), 0.000566331587144273),\n",
              " (('alten', 'leben'), 0.0004247486903582047),\n",
              " (('bedrohung', 'nötigung'), 0.0004247486903582047),\n",
              " (('entsprechenden', 'antrag'), 0.0004247486903582047),\n",
              " (('flucht', 'alten'), 0.0004247486903582047),\n",
              " (('frauen', 'gewalt'), 0.0004247486903582047),\n",
              " (('frauen', 'mädchen'), 0.0004247486903582047),\n",
              " (('genios', 'style'), 0.0004247486903582047),\n",
              " (('geschlechtsspezifischer', 'gewalt'), 0.0004247486903582047),\n",
              " (('gewalt', 'betroffen'), 0.0004247486903582047),\n",
              " (('gewalt', 'frau'), 0.0004247486903582047),\n",
              " (('gewalt', 'partnerschaft'), 0.0004247486903582047),\n",
              " (('hilfe', 'weißen'), 0.0004247486903582047),\n",
              " (('kinder', 'betroffen'), 0.0004247486903582047),\n",
              " (('körperverletzung', 'frauen'), 0.0004247486903582047),\n",
              " (('menschen', 'opfer'), 0.0004247486903582047),\n",
              " (('partner', 'getötet'), 0.0004247486903582047),\n",
              " (('prozent', 'frauen'), 0.0004247486903582047),\n",
              " (('prozent', 'männer'), 0.0004247486903582047),\n",
              " (('prozent', 'opfer'), 0.0004247486903582047),\n",
              " (('schutz', 'frauen'), 0.0004247486903582047),\n",
              " (('schwer', 'verletzt'), 0.0004247486903582047),\n",
              " (('stier', 'heblich'), 0.0004247486903582047),\n",
              " (('teilte', 'polizei'), 0.0004247486903582047)]"
            ]
          },
          "metadata": {},
          "execution_count": 18
        }
      ],
      "source": [
        "# raw_freq + minimum 3 occurences + from_words\n",
        "rank_bigrams(spacy_cleaned, BigramAssocMeasures.raw_freq, from_words=True, threshold=3)"
      ]
    },
    {
      "cell_type": "markdown",
      "id": "5e78d753",
      "metadata": {
        "id": "5e78d753"
      },
      "source": [
        "- Trigrams from cleaned and unprocessed corpus"
      ]
    },
    {
      "cell_type": "code",
      "execution_count": 21,
      "id": "1ecc6826",
      "metadata": {
        "id": "1ecc6826",
        "colab": {
          "base_uri": "https://localhost:8080/"
        },
        "outputId": "19da2331-199b-44fb-977b-ebe4455583c8"
      },
      "outputs": [
        {
          "output_type": "execute_result",
          "data": {
            "text/plain": [
              "[(('opfer', 'häuslicher', 'gewalt'), 0.0012742460710746142),\n",
              " (('fälle', 'häuslicher', 'gewalt'), 0.0009910802775024777),\n",
              " (('frauen', 'helfen', 'frauen'), 0.000566331587144273),\n",
              " (('schutz', 'häuslicher', 'gewalt'), 0.000566331587144273),\n",
              " (('häuslicher', 'gewalt', 'frau'), 0.0004247486903582047)]"
            ]
          },
          "metadata": {},
          "execution_count": 21
        }
      ],
      "source": [
        "# for cleaned factiva corpus\n",
        "rank_trigrams(spacy_cleaned, TrigramAssocMeasures.raw_freq, from_words=True, threshold=3,)"
      ]
    },
    {
      "cell_type": "markdown",
      "id": "342d7763",
      "metadata": {
        "id": "342d7763"
      },
      "source": [
        "- Quadgrams from cleaned and unprocessed corpus"
      ]
    },
    {
      "cell_type": "code",
      "execution_count": 29,
      "id": "2e2d5e24",
      "metadata": {
        "id": "2e2d5e24",
        "colab": {
          "base_uri": "https://localhost:8080/"
        },
        "outputId": "9d5f0eb8-db2b-4736-edc3-6411afecefac"
      },
      "outputs": [
        {
          "output_type": "execute_result",
          "data": {
            "text/plain": [
              "[(('absolut', 'kontakt', 'alte', 'umfeld'), 0.0002831657935721365),\n",
              " (('alternative', 'flucht', 'alten', 'leben'), 0.0002831657935721365),\n",
              " (('bemächtigt', 'all', 'daten', 'passwörter'), 0.0002831657935721365),\n",
              " (('defizite', 'schutz', 'frauen', 'mädchen'), 0.0002831657935721365),\n",
              " (('frauen', 'mädchen', 'geschlechtsspezifischer', 'gewalt'),\n",
              "  0.0002831657935721365),\n",
              " (('gravierende', 'defizite', 'schutz', 'frauen'), 0.0002831657935721365),\n",
              " (('kämpfen', 'machthungrige', 'menschen', 'geld'), 0.0002831657935721365),\n",
              " (('lautet', 'absolut', 'kontakt', 'alte'), 0.0002831657935721365),\n",
              " (('leben', 'neues', 'soziales', 'umfeld'), 0.0002831657935721365),\n",
              " (('männer', 'opfer', 'häuslicher', 'gewalt'), 0.0002831657935721365),\n",
              " (('neuer', 'job', 'freunde', 'vereine'), 0.0002831657935721365),\n",
              " (('neues', 'soziales', 'umfeld', 'neuer'), 0.0002831657935721365),\n",
              " (('raus', 'wichtigste', 'regel', 'lautet'), 0.0002831657935721365),\n",
              " (('regel', 'lautet', 'absolut', 'kontakt'), 0.0002831657935721365),\n",
              " (('schutz', 'frauen', 'mädchen', 'geschlechtsspezifischer'),\n",
              "  0.0002831657935721365),\n",
              " (('schutz', 'häuslicher', 'gewalt', 'landkreis'), 0.0002831657935721365),\n",
              " (('soziales', 'umfeld', 'neuer', 'job'), 0.0002831657935721365),\n",
              " (('umfeld', 'neuer', 'job', 'freunde'), 0.0002831657935721365),\n",
              " (('verein', 'frauen', 'helfen', 'frauen'), 0.0002831657935721365),\n",
              " (('wichtigste', 'regel', 'lautet', 'absolut'), 0.0002831657935721365),\n",
              " (('zweckgemeinschaft', 'unterm', 'strich', 'tragisch'),\n",
              "  0.0002831657935721365)]"
            ]
          },
          "metadata": {},
          "execution_count": 29
        }
      ],
      "source": [
        "# for cleaned factiva corpus\n",
        "rank_quadgrams(spacy_cleaned, QuadgramAssocMeasures.raw_freq, from_words=True, threshold=2,)"
      ]
    },
    {
      "cell_type": "markdown",
      "id": "496a529f",
      "metadata": {
        "id": "496a529f"
      },
      "source": [
        "## Comparison of association measures for ngrams\n",
        "\n",
        "- Create bigrams, trigrams and quadgram association measures: top frequency, pmi, t-test, chi-square, likelihood ratio test"
      ]
    },
    {
      "cell_type": "code",
      "execution_count": 35,
      "id": "d18233c2",
      "metadata": {
        "id": "d18233c2",
        "colab": {
          "base_uri": "https://localhost:8080/",
          "height": 363
        },
        "outputId": "1bc4dbcb-a1e3-4820-fd26-1ded18498e00"
      },
      "outputs": [
        {
          "output_type": "execute_result",
          "data": {
            "text/plain": [
              "              Frequency                               PMI  \\\n",
              "0  (häuslicher, gewalt)          (entsprechenden, antrag)   \n",
              "1      (gewalt, frauen)           (forensische, ambulanz)   \n",
              "2   (häusliche, gewalt)             (bedrohung, nötigung)   \n",
              "3       (frauen, opfer)                 (mord, totschlag)   \n",
              "4   (opfer, häuslicher)          (sexuellen, übergriffen)   \n",
              "5       (weißen, rings)              (anzeige, erstatten)   \n",
              "6   (fälle, häuslicher)                   (flucht, alten)   \n",
              "7      (männer, frauen)                  (stier, heblich)   \n",
              "8        (weißen, ring)  (gefährlicher, körperverletzung)   \n",
              "9     (mord, totschlag)                   (genios, style)   \n",
              "\n",
              "                 T-Test                        Chi-Square  \\\n",
              "0  (häuslicher, gewalt)           (forensische, ambulanz)   \n",
              "1   (häusliche, gewalt)                 (mord, totschlag)   \n",
              "2      (gewalt, frauen)          (entsprechenden, antrag)   \n",
              "3   (opfer, häuslicher)             (bedrohung, nötigung)   \n",
              "4       (weißen, rings)          (sexuellen, übergriffen)   \n",
              "5       (frauen, opfer)                   (weißen, rings)   \n",
              "6        (weißen, ring)  (gefährlicher, körperverletzung)   \n",
              "7   (fälle, häuslicher)              (anzeige, erstatten)   \n",
              "8     (mord, totschlag)                     (weiße, ring)   \n",
              "9      (männer, frauen)              (häuslicher, gewalt)   \n",
              "\n",
              "                   Likelihood Ratio  \n",
              "0              (häuslicher, gewalt)  \n",
              "1               (häusliche, gewalt)  \n",
              "2                   (weißen, rings)  \n",
              "3                 (mord, totschlag)  \n",
              "4                  (gewalt, frauen)  \n",
              "5                    (weißen, ring)  \n",
              "6           (forensische, ambulanz)  \n",
              "7  (gefährlicher, körperverletzung)  \n",
              "8                     (weiße, ring)  \n",
              "9              (anzeige, erstatten)  "
            ],
            "text/html": [
              "\n",
              "  <div id=\"df-60833212-90d9-4cf3-b81b-10d6ab81c5af\">\n",
              "    <div class=\"colab-df-container\">\n",
              "      <div>\n",
              "<style scoped>\n",
              "    .dataframe tbody tr th:only-of-type {\n",
              "        vertical-align: middle;\n",
              "    }\n",
              "\n",
              "    .dataframe tbody tr th {\n",
              "        vertical-align: top;\n",
              "    }\n",
              "\n",
              "    .dataframe thead th {\n",
              "        text-align: right;\n",
              "    }\n",
              "</style>\n",
              "<table border=\"1\" class=\"dataframe\">\n",
              "  <thead>\n",
              "    <tr style=\"text-align: right;\">\n",
              "      <th></th>\n",
              "      <th>Frequency</th>\n",
              "      <th>PMI</th>\n",
              "      <th>T-Test</th>\n",
              "      <th>Chi-Square</th>\n",
              "      <th>Likelihood Ratio</th>\n",
              "    </tr>\n",
              "  </thead>\n",
              "  <tbody>\n",
              "    <tr>\n",
              "      <th>0</th>\n",
              "      <td>(häuslicher, gewalt)</td>\n",
              "      <td>(entsprechenden, antrag)</td>\n",
              "      <td>(häuslicher, gewalt)</td>\n",
              "      <td>(forensische, ambulanz)</td>\n",
              "      <td>(häuslicher, gewalt)</td>\n",
              "    </tr>\n",
              "    <tr>\n",
              "      <th>1</th>\n",
              "      <td>(gewalt, frauen)</td>\n",
              "      <td>(forensische, ambulanz)</td>\n",
              "      <td>(häusliche, gewalt)</td>\n",
              "      <td>(mord, totschlag)</td>\n",
              "      <td>(häusliche, gewalt)</td>\n",
              "    </tr>\n",
              "    <tr>\n",
              "      <th>2</th>\n",
              "      <td>(häusliche, gewalt)</td>\n",
              "      <td>(bedrohung, nötigung)</td>\n",
              "      <td>(gewalt, frauen)</td>\n",
              "      <td>(entsprechenden, antrag)</td>\n",
              "      <td>(weißen, rings)</td>\n",
              "    </tr>\n",
              "    <tr>\n",
              "      <th>3</th>\n",
              "      <td>(frauen, opfer)</td>\n",
              "      <td>(mord, totschlag)</td>\n",
              "      <td>(opfer, häuslicher)</td>\n",
              "      <td>(bedrohung, nötigung)</td>\n",
              "      <td>(mord, totschlag)</td>\n",
              "    </tr>\n",
              "    <tr>\n",
              "      <th>4</th>\n",
              "      <td>(opfer, häuslicher)</td>\n",
              "      <td>(sexuellen, übergriffen)</td>\n",
              "      <td>(weißen, rings)</td>\n",
              "      <td>(sexuellen, übergriffen)</td>\n",
              "      <td>(gewalt, frauen)</td>\n",
              "    </tr>\n",
              "    <tr>\n",
              "      <th>5</th>\n",
              "      <td>(weißen, rings)</td>\n",
              "      <td>(anzeige, erstatten)</td>\n",
              "      <td>(frauen, opfer)</td>\n",
              "      <td>(weißen, rings)</td>\n",
              "      <td>(weißen, ring)</td>\n",
              "    </tr>\n",
              "    <tr>\n",
              "      <th>6</th>\n",
              "      <td>(fälle, häuslicher)</td>\n",
              "      <td>(flucht, alten)</td>\n",
              "      <td>(weißen, ring)</td>\n",
              "      <td>(gefährlicher, körperverletzung)</td>\n",
              "      <td>(forensische, ambulanz)</td>\n",
              "    </tr>\n",
              "    <tr>\n",
              "      <th>7</th>\n",
              "      <td>(männer, frauen)</td>\n",
              "      <td>(stier, heblich)</td>\n",
              "      <td>(fälle, häuslicher)</td>\n",
              "      <td>(anzeige, erstatten)</td>\n",
              "      <td>(gefährlicher, körperverletzung)</td>\n",
              "    </tr>\n",
              "    <tr>\n",
              "      <th>8</th>\n",
              "      <td>(weißen, ring)</td>\n",
              "      <td>(gefährlicher, körperverletzung)</td>\n",
              "      <td>(mord, totschlag)</td>\n",
              "      <td>(weiße, ring)</td>\n",
              "      <td>(weiße, ring)</td>\n",
              "    </tr>\n",
              "    <tr>\n",
              "      <th>9</th>\n",
              "      <td>(mord, totschlag)</td>\n",
              "      <td>(genios, style)</td>\n",
              "      <td>(männer, frauen)</td>\n",
              "      <td>(häuslicher, gewalt)</td>\n",
              "      <td>(anzeige, erstatten)</td>\n",
              "    </tr>\n",
              "  </tbody>\n",
              "</table>\n",
              "</div>\n",
              "      <button class=\"colab-df-convert\" onclick=\"convertToInteractive('df-60833212-90d9-4cf3-b81b-10d6ab81c5af')\"\n",
              "              title=\"Convert this dataframe to an interactive table.\"\n",
              "              style=\"display:none;\">\n",
              "        \n",
              "  <svg xmlns=\"http://www.w3.org/2000/svg\" height=\"24px\"viewBox=\"0 0 24 24\"\n",
              "       width=\"24px\">\n",
              "    <path d=\"M0 0h24v24H0V0z\" fill=\"none\"/>\n",
              "    <path d=\"M18.56 5.44l.94 2.06.94-2.06 2.06-.94-2.06-.94-.94-2.06-.94 2.06-2.06.94zm-11 1L8.5 8.5l.94-2.06 2.06-.94-2.06-.94L8.5 2.5l-.94 2.06-2.06.94zm10 10l.94 2.06.94-2.06 2.06-.94-2.06-.94-.94-2.06-.94 2.06-2.06.94z\"/><path d=\"M17.41 7.96l-1.37-1.37c-.4-.4-.92-.59-1.43-.59-.52 0-1.04.2-1.43.59L10.3 9.45l-7.72 7.72c-.78.78-.78 2.05 0 2.83L4 21.41c.39.39.9.59 1.41.59.51 0 1.02-.2 1.41-.59l7.78-7.78 2.81-2.81c.8-.78.8-2.07 0-2.86zM5.41 20L4 18.59l7.72-7.72 1.47 1.35L5.41 20z\"/>\n",
              "  </svg>\n",
              "      </button>\n",
              "      \n",
              "  <style>\n",
              "    .colab-df-container {\n",
              "      display:flex;\n",
              "      flex-wrap:wrap;\n",
              "      gap: 12px;\n",
              "    }\n",
              "\n",
              "    .colab-df-convert {\n",
              "      background-color: #E8F0FE;\n",
              "      border: none;\n",
              "      border-radius: 50%;\n",
              "      cursor: pointer;\n",
              "      display: none;\n",
              "      fill: #1967D2;\n",
              "      height: 32px;\n",
              "      padding: 0 0 0 0;\n",
              "      width: 32px;\n",
              "    }\n",
              "\n",
              "    .colab-df-convert:hover {\n",
              "      background-color: #E2EBFA;\n",
              "      box-shadow: 0px 1px 2px rgba(60, 64, 67, 0.3), 0px 1px 3px 1px rgba(60, 64, 67, 0.15);\n",
              "      fill: #174EA6;\n",
              "    }\n",
              "\n",
              "    [theme=dark] .colab-df-convert {\n",
              "      background-color: #3B4455;\n",
              "      fill: #D2E3FC;\n",
              "    }\n",
              "\n",
              "    [theme=dark] .colab-df-convert:hover {\n",
              "      background-color: #434B5C;\n",
              "      box-shadow: 0px 1px 3px 1px rgba(0, 0, 0, 0.15);\n",
              "      filter: drop-shadow(0px 1px 2px rgba(0, 0, 0, 0.3));\n",
              "      fill: #FFFFFF;\n",
              "    }\n",
              "  </style>\n",
              "\n",
              "      <script>\n",
              "        const buttonEl =\n",
              "          document.querySelector('#df-60833212-90d9-4cf3-b81b-10d6ab81c5af button.colab-df-convert');\n",
              "        buttonEl.style.display =\n",
              "          google.colab.kernel.accessAllowed ? 'block' : 'none';\n",
              "\n",
              "        async function convertToInteractive(key) {\n",
              "          const element = document.querySelector('#df-60833212-90d9-4cf3-b81b-10d6ab81c5af');\n",
              "          const dataTable =\n",
              "            await google.colab.kernel.invokeFunction('convertToInteractive',\n",
              "                                                     [key], {});\n",
              "          if (!dataTable) return;\n",
              "\n",
              "          const docLinkHtml = 'Like what you see? Visit the ' +\n",
              "            '<a target=\"_blank\" href=https://colab.research.google.com/notebooks/data_table.ipynb>data table notebook</a>'\n",
              "            + ' to learn more about interactive tables.';\n",
              "          element.innerHTML = '';\n",
              "          dataTable['output_type'] = 'display_data';\n",
              "          await google.colab.output.renderOutput(dataTable, element);\n",
              "          const docLink = document.createElement('div');\n",
              "          docLink.innerHTML = docLinkHtml;\n",
              "          element.appendChild(docLink);\n",
              "        }\n",
              "      </script>\n",
              "    </div>\n",
              "  </div>\n",
              "  "
            ]
          },
          "metadata": {},
          "execution_count": 35
        }
      ],
      "source": [
        "# compare assoc measures for bigrams\n",
        "ngram_comparison(spacy_cleaned, ngram = 'bigram', threshold=3, top=10,)# path='outputs/cleaned_bigrams_assoc_measures.csv')"
      ]
    },
    {
      "cell_type": "code",
      "execution_count": 31,
      "id": "fb36ba31",
      "metadata": {
        "id": "fb36ba31",
        "colab": {
          "base_uri": "https://localhost:8080/",
          "height": 363
        },
        "outputId": "451f627a-f220-4bdb-c74a-cdc0a9b12fc7"
      },
      "outputs": [
        {
          "output_type": "execute_result",
          "data": {
            "text/plain": [
              "                                 Frequency  \\\n",
              "0              (opfer, häuslicher, gewalt)   \n",
              "1              (fälle, häuslicher, gewalt)   \n",
              "2                 (frauen, helfen, frauen)   \n",
              "3             (schutz, häuslicher, gewalt)   \n",
              "4               (häuslicher, gewalt, frau)   \n",
              "5              (männer, opfer, häuslicher)   \n",
              "6                 (quasi, letzte, instanz)   \n",
              "7  (opfer, gefährlicher, körperverletzung)   \n",
              "8                (neues, soziales, umfeld)   \n",
              "9                    (neuer, job, freunde)   \n",
              "\n",
              "                                             PMI  \\\n",
              "0          (rassistisch, motivierte, aggression)   \n",
              "1            (zweckgemeinschaft, unterm, strich)   \n",
              "2                     (unterm, strich, tragisch)   \n",
              "3              (angriff, offenheit, hochschulen)   \n",
              "4                        (job, freunde, vereine)   \n",
              "5               (versuchte, vollendete, delikte)   \n",
              "6                          (neuer, job, freunde)   \n",
              "7                      (raus, wichtigste, regel)   \n",
              "8  (kinderschutzeinrichtung, vereins, wegweiser)   \n",
              "9                       (quasi, letzte, instanz)   \n",
              "\n",
              "                                  T-Test  \\\n",
              "0            (opfer, häuslicher, gewalt)   \n",
              "1            (fälle, häuslicher, gewalt)   \n",
              "2           (schutz, häuslicher, gewalt)   \n",
              "3               (frauen, helfen, frauen)   \n",
              "4             (häuslicher, gewalt, frau)   \n",
              "5  (rassistisch, motivierte, aggression)   \n",
              "6             (unterm, strich, tragisch)   \n",
              "7    (zweckgemeinschaft, unterm, strich)   \n",
              "8      (angriff, offenheit, hochschulen)   \n",
              "9                (job, freunde, vereine)   \n",
              "\n",
              "                                      Chi-Square  \\\n",
              "0          (rassistisch, motivierte, aggression)   \n",
              "1            (zweckgemeinschaft, unterm, strich)   \n",
              "2                     (unterm, strich, tragisch)   \n",
              "3              (angriff, offenheit, hochschulen)   \n",
              "4                        (job, freunde, vereine)   \n",
              "5               (versuchte, vollendete, delikte)   \n",
              "6                          (neuer, job, freunde)   \n",
              "7                      (raus, wichtigste, regel)   \n",
              "8  (kinderschutzeinrichtung, vereins, wegweiser)   \n",
              "9                       (quasi, letzte, instanz)   \n",
              "\n",
              "                  Likelihood Ratio  \n",
              "0     (häuslicher, gewalt, frauen)  \n",
              "1      (fälle, häuslicher, gewalt)  \n",
              "2      (opfer, häuslicher, gewalt)  \n",
              "3     (schutz, häuslicher, gewalt)  \n",
              "4   (anzeigen, häuslicher, gewalt)  \n",
              "5       (fall, häuslicher, gewalt)  \n",
              "6  (häuslicher, gewalt, landkreis)  \n",
              "7       (häuslicher, gewalt, frau)  \n",
              "8    (häuslicher, gewalt, prozent)  \n",
              "9    (häusliche, gewalt, erlitten)  "
            ],
            "text/html": [
              "\n",
              "  <div id=\"df-c32dd5b1-5e88-4df9-87a5-38bedc2ec7c5\">\n",
              "    <div class=\"colab-df-container\">\n",
              "      <div>\n",
              "<style scoped>\n",
              "    .dataframe tbody tr th:only-of-type {\n",
              "        vertical-align: middle;\n",
              "    }\n",
              "\n",
              "    .dataframe tbody tr th {\n",
              "        vertical-align: top;\n",
              "    }\n",
              "\n",
              "    .dataframe thead th {\n",
              "        text-align: right;\n",
              "    }\n",
              "</style>\n",
              "<table border=\"1\" class=\"dataframe\">\n",
              "  <thead>\n",
              "    <tr style=\"text-align: right;\">\n",
              "      <th></th>\n",
              "      <th>Frequency</th>\n",
              "      <th>PMI</th>\n",
              "      <th>T-Test</th>\n",
              "      <th>Chi-Square</th>\n",
              "      <th>Likelihood Ratio</th>\n",
              "    </tr>\n",
              "  </thead>\n",
              "  <tbody>\n",
              "    <tr>\n",
              "      <th>0</th>\n",
              "      <td>(opfer, häuslicher, gewalt)</td>\n",
              "      <td>(rassistisch, motivierte, aggression)</td>\n",
              "      <td>(opfer, häuslicher, gewalt)</td>\n",
              "      <td>(rassistisch, motivierte, aggression)</td>\n",
              "      <td>(häuslicher, gewalt, frauen)</td>\n",
              "    </tr>\n",
              "    <tr>\n",
              "      <th>1</th>\n",
              "      <td>(fälle, häuslicher, gewalt)</td>\n",
              "      <td>(zweckgemeinschaft, unterm, strich)</td>\n",
              "      <td>(fälle, häuslicher, gewalt)</td>\n",
              "      <td>(zweckgemeinschaft, unterm, strich)</td>\n",
              "      <td>(fälle, häuslicher, gewalt)</td>\n",
              "    </tr>\n",
              "    <tr>\n",
              "      <th>2</th>\n",
              "      <td>(frauen, helfen, frauen)</td>\n",
              "      <td>(unterm, strich, tragisch)</td>\n",
              "      <td>(schutz, häuslicher, gewalt)</td>\n",
              "      <td>(unterm, strich, tragisch)</td>\n",
              "      <td>(opfer, häuslicher, gewalt)</td>\n",
              "    </tr>\n",
              "    <tr>\n",
              "      <th>3</th>\n",
              "      <td>(schutz, häuslicher, gewalt)</td>\n",
              "      <td>(angriff, offenheit, hochschulen)</td>\n",
              "      <td>(frauen, helfen, frauen)</td>\n",
              "      <td>(angriff, offenheit, hochschulen)</td>\n",
              "      <td>(schutz, häuslicher, gewalt)</td>\n",
              "    </tr>\n",
              "    <tr>\n",
              "      <th>4</th>\n",
              "      <td>(häuslicher, gewalt, frau)</td>\n",
              "      <td>(job, freunde, vereine)</td>\n",
              "      <td>(häuslicher, gewalt, frau)</td>\n",
              "      <td>(job, freunde, vereine)</td>\n",
              "      <td>(anzeigen, häuslicher, gewalt)</td>\n",
              "    </tr>\n",
              "    <tr>\n",
              "      <th>5</th>\n",
              "      <td>(männer, opfer, häuslicher)</td>\n",
              "      <td>(versuchte, vollendete, delikte)</td>\n",
              "      <td>(rassistisch, motivierte, aggression)</td>\n",
              "      <td>(versuchte, vollendete, delikte)</td>\n",
              "      <td>(fall, häuslicher, gewalt)</td>\n",
              "    </tr>\n",
              "    <tr>\n",
              "      <th>6</th>\n",
              "      <td>(quasi, letzte, instanz)</td>\n",
              "      <td>(neuer, job, freunde)</td>\n",
              "      <td>(unterm, strich, tragisch)</td>\n",
              "      <td>(neuer, job, freunde)</td>\n",
              "      <td>(häuslicher, gewalt, landkreis)</td>\n",
              "    </tr>\n",
              "    <tr>\n",
              "      <th>7</th>\n",
              "      <td>(opfer, gefährlicher, körperverletzung)</td>\n",
              "      <td>(raus, wichtigste, regel)</td>\n",
              "      <td>(zweckgemeinschaft, unterm, strich)</td>\n",
              "      <td>(raus, wichtigste, regel)</td>\n",
              "      <td>(häuslicher, gewalt, frau)</td>\n",
              "    </tr>\n",
              "    <tr>\n",
              "      <th>8</th>\n",
              "      <td>(neues, soziales, umfeld)</td>\n",
              "      <td>(kinderschutzeinrichtung, vereins, wegweiser)</td>\n",
              "      <td>(angriff, offenheit, hochschulen)</td>\n",
              "      <td>(kinderschutzeinrichtung, vereins, wegweiser)</td>\n",
              "      <td>(häuslicher, gewalt, prozent)</td>\n",
              "    </tr>\n",
              "    <tr>\n",
              "      <th>9</th>\n",
              "      <td>(neuer, job, freunde)</td>\n",
              "      <td>(quasi, letzte, instanz)</td>\n",
              "      <td>(job, freunde, vereine)</td>\n",
              "      <td>(quasi, letzte, instanz)</td>\n",
              "      <td>(häusliche, gewalt, erlitten)</td>\n",
              "    </tr>\n",
              "  </tbody>\n",
              "</table>\n",
              "</div>\n",
              "      <button class=\"colab-df-convert\" onclick=\"convertToInteractive('df-c32dd5b1-5e88-4df9-87a5-38bedc2ec7c5')\"\n",
              "              title=\"Convert this dataframe to an interactive table.\"\n",
              "              style=\"display:none;\">\n",
              "        \n",
              "  <svg xmlns=\"http://www.w3.org/2000/svg\" height=\"24px\"viewBox=\"0 0 24 24\"\n",
              "       width=\"24px\">\n",
              "    <path d=\"M0 0h24v24H0V0z\" fill=\"none\"/>\n",
              "    <path d=\"M18.56 5.44l.94 2.06.94-2.06 2.06-.94-2.06-.94-.94-2.06-.94 2.06-2.06.94zm-11 1L8.5 8.5l.94-2.06 2.06-.94-2.06-.94L8.5 2.5l-.94 2.06-2.06.94zm10 10l.94 2.06.94-2.06 2.06-.94-2.06-.94-.94-2.06-.94 2.06-2.06.94z\"/><path d=\"M17.41 7.96l-1.37-1.37c-.4-.4-.92-.59-1.43-.59-.52 0-1.04.2-1.43.59L10.3 9.45l-7.72 7.72c-.78.78-.78 2.05 0 2.83L4 21.41c.39.39.9.59 1.41.59.51 0 1.02-.2 1.41-.59l7.78-7.78 2.81-2.81c.8-.78.8-2.07 0-2.86zM5.41 20L4 18.59l7.72-7.72 1.47 1.35L5.41 20z\"/>\n",
              "  </svg>\n",
              "      </button>\n",
              "      \n",
              "  <style>\n",
              "    .colab-df-container {\n",
              "      display:flex;\n",
              "      flex-wrap:wrap;\n",
              "      gap: 12px;\n",
              "    }\n",
              "\n",
              "    .colab-df-convert {\n",
              "      background-color: #E8F0FE;\n",
              "      border: none;\n",
              "      border-radius: 50%;\n",
              "      cursor: pointer;\n",
              "      display: none;\n",
              "      fill: #1967D2;\n",
              "      height: 32px;\n",
              "      padding: 0 0 0 0;\n",
              "      width: 32px;\n",
              "    }\n",
              "\n",
              "    .colab-df-convert:hover {\n",
              "      background-color: #E2EBFA;\n",
              "      box-shadow: 0px 1px 2px rgba(60, 64, 67, 0.3), 0px 1px 3px 1px rgba(60, 64, 67, 0.15);\n",
              "      fill: #174EA6;\n",
              "    }\n",
              "\n",
              "    [theme=dark] .colab-df-convert {\n",
              "      background-color: #3B4455;\n",
              "      fill: #D2E3FC;\n",
              "    }\n",
              "\n",
              "    [theme=dark] .colab-df-convert:hover {\n",
              "      background-color: #434B5C;\n",
              "      box-shadow: 0px 1px 3px 1px rgba(0, 0, 0, 0.15);\n",
              "      filter: drop-shadow(0px 1px 2px rgba(0, 0, 0, 0.3));\n",
              "      fill: #FFFFFF;\n",
              "    }\n",
              "  </style>\n",
              "\n",
              "      <script>\n",
              "        const buttonEl =\n",
              "          document.querySelector('#df-c32dd5b1-5e88-4df9-87a5-38bedc2ec7c5 button.colab-df-convert');\n",
              "        buttonEl.style.display =\n",
              "          google.colab.kernel.accessAllowed ? 'block' : 'none';\n",
              "\n",
              "        async function convertToInteractive(key) {\n",
              "          const element = document.querySelector('#df-c32dd5b1-5e88-4df9-87a5-38bedc2ec7c5');\n",
              "          const dataTable =\n",
              "            await google.colab.kernel.invokeFunction('convertToInteractive',\n",
              "                                                     [key], {});\n",
              "          if (!dataTable) return;\n",
              "\n",
              "          const docLinkHtml = 'Like what you see? Visit the ' +\n",
              "            '<a target=\"_blank\" href=https://colab.research.google.com/notebooks/data_table.ipynb>data table notebook</a>'\n",
              "            + ' to learn more about interactive tables.';\n",
              "          element.innerHTML = '';\n",
              "          dataTable['output_type'] = 'display_data';\n",
              "          await google.colab.output.renderOutput(dataTable, element);\n",
              "          const docLink = document.createElement('div');\n",
              "          docLink.innerHTML = docLinkHtml;\n",
              "          element.appendChild(docLink);\n",
              "        }\n",
              "      </script>\n",
              "    </div>\n",
              "  </div>\n",
              "  "
            ]
          },
          "metadata": {},
          "execution_count": 31
        }
      ],
      "source": [
        "# compare assoc measures for trigrams\n",
        "ngram_comparison(spacy_cleaned, ngram = 'trigram', threshold=2, top = 10,)# path='outputs/cleaned_trigrams_assoc_measures.csv')"
      ]
    },
    {
      "cell_type": "code",
      "execution_count": 32,
      "id": "f9979cf1",
      "metadata": {
        "id": "f9979cf1",
        "colab": {
          "base_uri": "https://localhost:8080/",
          "height": 459
        },
        "outputId": "33dac858-0296-45f3-ad9e-a11a8b159f87"
      },
      "outputs": [
        {
          "output_type": "execute_result",
          "data": {
            "text/plain": [
              "                                           Frequency  \\\n",
              "0                   (absolut, kontakt, alte, umfeld)   \n",
              "1                   (neues, soziales, umfeld, neuer)   \n",
              "2               (wichtigste, regel, lautet, absolut)   \n",
              "3                   (verein, frauen, helfen, frauen)   \n",
              "4                      (umfeld, neuer, job, freunde)   \n",
              "5                     (soziales, umfeld, neuer, job)   \n",
              "6            (schutz, häuslicher, gewalt, landkreis)   \n",
              "7  (schutz, frauen, mädchen, geschlechtsspezifisc...   \n",
              "8                  (regel, lautet, absolut, kontakt)   \n",
              "9                  (raus, wichtigste, regel, lautet)   \n",
              "\n",
              "                                             PMI  \\\n",
              "0  (zweckgemeinschaft, unterm, strich, tragisch)   \n",
              "1                 (neuer, job, freunde, vereine)   \n",
              "2           (wichtigste, regel, lautet, absolut)   \n",
              "3              (raus, wichtigste, regel, lautet)   \n",
              "4           (bemächtigt, all, daten, passwörter)   \n",
              "5                 (soziales, umfeld, neuer, job)   \n",
              "6              (regel, lautet, absolut, kontakt)   \n",
              "7                  (umfeld, neuer, job, freunde)   \n",
              "8               (neues, soziales, umfeld, neuer)   \n",
              "9               (lautet, absolut, kontakt, alte)   \n",
              "\n",
              "                                          T-Test  \\\n",
              "0  (zweckgemeinschaft, unterm, strich, tragisch)   \n",
              "1                 (neuer, job, freunde, vereine)   \n",
              "2           (wichtigste, regel, lautet, absolut)   \n",
              "3              (raus, wichtigste, regel, lautet)   \n",
              "4           (bemächtigt, all, daten, passwörter)   \n",
              "5                 (soziales, umfeld, neuer, job)   \n",
              "6              (regel, lautet, absolut, kontakt)   \n",
              "7                  (umfeld, neuer, job, freunde)   \n",
              "8               (neues, soziales, umfeld, neuer)   \n",
              "9               (lautet, absolut, kontakt, alte)   \n",
              "\n",
              "                                      Chi-Square  \\\n",
              "0  (zweckgemeinschaft, unterm, strich, tragisch)   \n",
              "1                 (neuer, job, freunde, vereine)   \n",
              "2           (wichtigste, regel, lautet, absolut)   \n",
              "3              (raus, wichtigste, regel, lautet)   \n",
              "4           (bemächtigt, all, daten, passwörter)   \n",
              "5                 (soziales, umfeld, neuer, job)   \n",
              "6              (regel, lautet, absolut, kontakt)   \n",
              "7                  (umfeld, neuer, job, freunde)   \n",
              "8               (neues, soziales, umfeld, neuer)   \n",
              "9               (lautet, absolut, kontakt, alte)   \n",
              "\n",
              "                                Likelihood Ratio  \n",
              "0            (männer, opfer, häuslicher, gewalt)  \n",
              "1        (schutz, häuslicher, gewalt, landkreis)  \n",
              "2  (zweckgemeinschaft, unterm, strich, tragisch)  \n",
              "3                 (neuer, job, freunde, vereine)  \n",
              "4            (alternative, flucht, alten, leben)  \n",
              "5           (wichtigste, regel, lautet, absolut)  \n",
              "6           (bemächtigt, all, daten, passwörter)  \n",
              "7              (raus, wichtigste, regel, lautet)  \n",
              "8                 (soziales, umfeld, neuer, job)  \n",
              "9              (regel, lautet, absolut, kontakt)  "
            ],
            "text/html": [
              "\n",
              "  <div id=\"df-40231c2a-499d-4b43-ac6e-3381e895f932\">\n",
              "    <div class=\"colab-df-container\">\n",
              "      <div>\n",
              "<style scoped>\n",
              "    .dataframe tbody tr th:only-of-type {\n",
              "        vertical-align: middle;\n",
              "    }\n",
              "\n",
              "    .dataframe tbody tr th {\n",
              "        vertical-align: top;\n",
              "    }\n",
              "\n",
              "    .dataframe thead th {\n",
              "        text-align: right;\n",
              "    }\n",
              "</style>\n",
              "<table border=\"1\" class=\"dataframe\">\n",
              "  <thead>\n",
              "    <tr style=\"text-align: right;\">\n",
              "      <th></th>\n",
              "      <th>Frequency</th>\n",
              "      <th>PMI</th>\n",
              "      <th>T-Test</th>\n",
              "      <th>Chi-Square</th>\n",
              "      <th>Likelihood Ratio</th>\n",
              "    </tr>\n",
              "  </thead>\n",
              "  <tbody>\n",
              "    <tr>\n",
              "      <th>0</th>\n",
              "      <td>(absolut, kontakt, alte, umfeld)</td>\n",
              "      <td>(zweckgemeinschaft, unterm, strich, tragisch)</td>\n",
              "      <td>(zweckgemeinschaft, unterm, strich, tragisch)</td>\n",
              "      <td>(zweckgemeinschaft, unterm, strich, tragisch)</td>\n",
              "      <td>(männer, opfer, häuslicher, gewalt)</td>\n",
              "    </tr>\n",
              "    <tr>\n",
              "      <th>1</th>\n",
              "      <td>(neues, soziales, umfeld, neuer)</td>\n",
              "      <td>(neuer, job, freunde, vereine)</td>\n",
              "      <td>(neuer, job, freunde, vereine)</td>\n",
              "      <td>(neuer, job, freunde, vereine)</td>\n",
              "      <td>(schutz, häuslicher, gewalt, landkreis)</td>\n",
              "    </tr>\n",
              "    <tr>\n",
              "      <th>2</th>\n",
              "      <td>(wichtigste, regel, lautet, absolut)</td>\n",
              "      <td>(wichtigste, regel, lautet, absolut)</td>\n",
              "      <td>(wichtigste, regel, lautet, absolut)</td>\n",
              "      <td>(wichtigste, regel, lautet, absolut)</td>\n",
              "      <td>(zweckgemeinschaft, unterm, strich, tragisch)</td>\n",
              "    </tr>\n",
              "    <tr>\n",
              "      <th>3</th>\n",
              "      <td>(verein, frauen, helfen, frauen)</td>\n",
              "      <td>(raus, wichtigste, regel, lautet)</td>\n",
              "      <td>(raus, wichtigste, regel, lautet)</td>\n",
              "      <td>(raus, wichtigste, regel, lautet)</td>\n",
              "      <td>(neuer, job, freunde, vereine)</td>\n",
              "    </tr>\n",
              "    <tr>\n",
              "      <th>4</th>\n",
              "      <td>(umfeld, neuer, job, freunde)</td>\n",
              "      <td>(bemächtigt, all, daten, passwörter)</td>\n",
              "      <td>(bemächtigt, all, daten, passwörter)</td>\n",
              "      <td>(bemächtigt, all, daten, passwörter)</td>\n",
              "      <td>(alternative, flucht, alten, leben)</td>\n",
              "    </tr>\n",
              "    <tr>\n",
              "      <th>5</th>\n",
              "      <td>(soziales, umfeld, neuer, job)</td>\n",
              "      <td>(soziales, umfeld, neuer, job)</td>\n",
              "      <td>(soziales, umfeld, neuer, job)</td>\n",
              "      <td>(soziales, umfeld, neuer, job)</td>\n",
              "      <td>(wichtigste, regel, lautet, absolut)</td>\n",
              "    </tr>\n",
              "    <tr>\n",
              "      <th>6</th>\n",
              "      <td>(schutz, häuslicher, gewalt, landkreis)</td>\n",
              "      <td>(regel, lautet, absolut, kontakt)</td>\n",
              "      <td>(regel, lautet, absolut, kontakt)</td>\n",
              "      <td>(regel, lautet, absolut, kontakt)</td>\n",
              "      <td>(bemächtigt, all, daten, passwörter)</td>\n",
              "    </tr>\n",
              "    <tr>\n",
              "      <th>7</th>\n",
              "      <td>(schutz, frauen, mädchen, geschlechtsspezifisc...</td>\n",
              "      <td>(umfeld, neuer, job, freunde)</td>\n",
              "      <td>(umfeld, neuer, job, freunde)</td>\n",
              "      <td>(umfeld, neuer, job, freunde)</td>\n",
              "      <td>(raus, wichtigste, regel, lautet)</td>\n",
              "    </tr>\n",
              "    <tr>\n",
              "      <th>8</th>\n",
              "      <td>(regel, lautet, absolut, kontakt)</td>\n",
              "      <td>(neues, soziales, umfeld, neuer)</td>\n",
              "      <td>(neues, soziales, umfeld, neuer)</td>\n",
              "      <td>(neues, soziales, umfeld, neuer)</td>\n",
              "      <td>(soziales, umfeld, neuer, job)</td>\n",
              "    </tr>\n",
              "    <tr>\n",
              "      <th>9</th>\n",
              "      <td>(raus, wichtigste, regel, lautet)</td>\n",
              "      <td>(lautet, absolut, kontakt, alte)</td>\n",
              "      <td>(lautet, absolut, kontakt, alte)</td>\n",
              "      <td>(lautet, absolut, kontakt, alte)</td>\n",
              "      <td>(regel, lautet, absolut, kontakt)</td>\n",
              "    </tr>\n",
              "  </tbody>\n",
              "</table>\n",
              "</div>\n",
              "      <button class=\"colab-df-convert\" onclick=\"convertToInteractive('df-40231c2a-499d-4b43-ac6e-3381e895f932')\"\n",
              "              title=\"Convert this dataframe to an interactive table.\"\n",
              "              style=\"display:none;\">\n",
              "        \n",
              "  <svg xmlns=\"http://www.w3.org/2000/svg\" height=\"24px\"viewBox=\"0 0 24 24\"\n",
              "       width=\"24px\">\n",
              "    <path d=\"M0 0h24v24H0V0z\" fill=\"none\"/>\n",
              "    <path d=\"M18.56 5.44l.94 2.06.94-2.06 2.06-.94-2.06-.94-.94-2.06-.94 2.06-2.06.94zm-11 1L8.5 8.5l.94-2.06 2.06-.94-2.06-.94L8.5 2.5l-.94 2.06-2.06.94zm10 10l.94 2.06.94-2.06 2.06-.94-2.06-.94-.94-2.06-.94 2.06-2.06.94z\"/><path d=\"M17.41 7.96l-1.37-1.37c-.4-.4-.92-.59-1.43-.59-.52 0-1.04.2-1.43.59L10.3 9.45l-7.72 7.72c-.78.78-.78 2.05 0 2.83L4 21.41c.39.39.9.59 1.41.59.51 0 1.02-.2 1.41-.59l7.78-7.78 2.81-2.81c.8-.78.8-2.07 0-2.86zM5.41 20L4 18.59l7.72-7.72 1.47 1.35L5.41 20z\"/>\n",
              "  </svg>\n",
              "      </button>\n",
              "      \n",
              "  <style>\n",
              "    .colab-df-container {\n",
              "      display:flex;\n",
              "      flex-wrap:wrap;\n",
              "      gap: 12px;\n",
              "    }\n",
              "\n",
              "    .colab-df-convert {\n",
              "      background-color: #E8F0FE;\n",
              "      border: none;\n",
              "      border-radius: 50%;\n",
              "      cursor: pointer;\n",
              "      display: none;\n",
              "      fill: #1967D2;\n",
              "      height: 32px;\n",
              "      padding: 0 0 0 0;\n",
              "      width: 32px;\n",
              "    }\n",
              "\n",
              "    .colab-df-convert:hover {\n",
              "      background-color: #E2EBFA;\n",
              "      box-shadow: 0px 1px 2px rgba(60, 64, 67, 0.3), 0px 1px 3px 1px rgba(60, 64, 67, 0.15);\n",
              "      fill: #174EA6;\n",
              "    }\n",
              "\n",
              "    [theme=dark] .colab-df-convert {\n",
              "      background-color: #3B4455;\n",
              "      fill: #D2E3FC;\n",
              "    }\n",
              "\n",
              "    [theme=dark] .colab-df-convert:hover {\n",
              "      background-color: #434B5C;\n",
              "      box-shadow: 0px 1px 3px 1px rgba(0, 0, 0, 0.15);\n",
              "      filter: drop-shadow(0px 1px 2px rgba(0, 0, 0, 0.3));\n",
              "      fill: #FFFFFF;\n",
              "    }\n",
              "  </style>\n",
              "\n",
              "      <script>\n",
              "        const buttonEl =\n",
              "          document.querySelector('#df-40231c2a-499d-4b43-ac6e-3381e895f932 button.colab-df-convert');\n",
              "        buttonEl.style.display =\n",
              "          google.colab.kernel.accessAllowed ? 'block' : 'none';\n",
              "\n",
              "        async function convertToInteractive(key) {\n",
              "          const element = document.querySelector('#df-40231c2a-499d-4b43-ac6e-3381e895f932');\n",
              "          const dataTable =\n",
              "            await google.colab.kernel.invokeFunction('convertToInteractive',\n",
              "                                                     [key], {});\n",
              "          if (!dataTable) return;\n",
              "\n",
              "          const docLinkHtml = 'Like what you see? Visit the ' +\n",
              "            '<a target=\"_blank\" href=https://colab.research.google.com/notebooks/data_table.ipynb>data table notebook</a>'\n",
              "            + ' to learn more about interactive tables.';\n",
              "          element.innerHTML = '';\n",
              "          dataTable['output_type'] = 'display_data';\n",
              "          await google.colab.output.renderOutput(dataTable, element);\n",
              "          const docLink = document.createElement('div');\n",
              "          docLink.innerHTML = docLinkHtml;\n",
              "          element.appendChild(docLink);\n",
              "        }\n",
              "      </script>\n",
              "    </div>\n",
              "  </div>\n",
              "  "
            ]
          },
          "metadata": {},
          "execution_count": 32
        }
      ],
      "source": [
        "# compare assoc measures for quadgrams\n",
        "ngram_comparison(spacy_cleaned, ngram = 'quadgram', threshold=2, top = 10,)# path='outputs/cleaned_quadgrams_assoc_measures.csv')"
      ]
    },
    {
      "cell_type": "markdown",
      "id": "38e324a0",
      "metadata": {
        "id": "38e324a0"
      },
      "source": [
        "#### END OF CODE "
      ]
    }
  ],
  "metadata": {
    "kernelspec": {
      "display_name": "frontline",
      "language": "python",
      "name": "frontline"
    },
    "language_info": {
      "codemirror_mode": {
        "name": "ipython",
        "version": 3
      },
      "file_extension": ".py",
      "mimetype": "text/x-python",
      "name": "python",
      "nbconvert_exporter": "python",
      "pygments_lexer": "ipython3",
      "version": "3.10.4"
    },
    "colab": {
      "provenance": [],
      "collapsed_sections": [
        "496a529f"
      ]
    }
  },
  "nbformat": 4,
  "nbformat_minor": 5
}