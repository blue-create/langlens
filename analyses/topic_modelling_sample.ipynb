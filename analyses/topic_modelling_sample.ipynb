{
  "nbformat": 4,
  "nbformat_minor": 0,
  "metadata": {
    "colab": {
      "provenance": [],
      "authorship_tag": "ABX9TyNUCyuvurKmd4vB0//gTIXg"
    },
    "kernelspec": {
      "name": "python3",
      "display_name": "Python 3"
    },
    "language_info": {
      "name": "python"
    }
  },
  "cells": [
    {
      "cell_type": "markdown",
      "source": [
        "#### Imports"
      ],
      "metadata": {
        "id": "CYallZU4Vmiz"
      }
    },
    {
      "cell_type": "code",
      "source": [
        "import json\n",
        "import nltk\n",
        "from nltk.collocations import *\n",
        "import datetime as dt\n",
        "import locale\n",
        "import spacy\n",
        "from tqdm import tqdm\n",
        "import pprint\n",
        "import pandas as pd\n",
        "from ast import literal_eval\n",
        "import os\n",
        "import gensim\n",
        "import gensim.corpora as corpora\n",
        "from pprint import pprint\n"
      ],
      "metadata": {
        "id": "XVDupKhjVzJw"
      },
      "execution_count": 1,
      "outputs": []
    },
    {
      "cell_type": "code",
      "source": [
        "!python -m spacy download de_core_news_lg"
      ],
      "metadata": {
        "id": "pxxX3cKAWJsY"
      },
      "execution_count": null,
      "outputs": []
    },
    {
      "cell_type": "code",
      "source": [
        "#NOTE: default version doesntwork in colab\n",
        "!pip install pyLDAvis==2.1.2"
      ],
      "metadata": {
        "id": "h9-XJP_U-NOd"
      },
      "execution_count": null,
      "outputs": []
    },
    {
      "cell_type": "markdown",
      "source": [
        "#### Read Data"
      ],
      "metadata": {
        "id": "Vwr8p0YQVpe4"
      }
    },
    {
      "cell_type": "code",
      "source": [
        "# connect with google drive\n",
        "from google.colab import drive\n",
        "drive.mount('/content/drive')"
      ],
      "metadata": {
        "colab": {
          "base_uri": "https://localhost:8080/"
        },
        "id": "Sq-tfVoNV9Vn",
        "outputId": "480696f4-8ea5-4966-b390-cd22ba59a895"
      },
      "execution_count": 4,
      "outputs": [
        {
          "output_type": "stream",
          "name": "stdout",
          "text": [
            "Drive already mounted at /content/drive; to attempt to forcibly remount, call drive.mount(\"/content/drive\", force_remount=True).\n"
          ]
        }
      ]
    },
    {
      "cell_type": "code",
      "source": [
        "#change cwd\n",
        "%cd drive/MyDrive/Work/Frontline/data"
      ],
      "metadata": {
        "id": "JZo05nte48yW",
        "colab": {
          "base_uri": "https://localhost:8080/"
        },
        "outputId": "71f26955-985d-4953-fb4b-f339ad6a6fc9"
      },
      "execution_count": 5,
      "outputs": [
        {
          "output_type": "stream",
          "name": "stdout",
          "text": [
            "/content/drive/.shortcut-targets-by-id/1WfnZsqpG1r110J63sMbfS5TpsDOkveiV/data\n"
          ]
        }
      ]
    },
    {
      "cell_type": "code",
      "source": [
        "# paths\n",
        "FILTERED_PATH=\"filtered_4_26\""
      ],
      "metadata": {
        "id": "bI87iJZopQK8"
      },
      "execution_count": 6,
      "outputs": []
    },
    {
      "cell_type": "code",
      "source": [
        "## FOR NOW: USE SMALL DATA SET\n",
        "df=pd.read_csv(\"sample.csv\")"
      ],
      "metadata": {
        "id": "R0Bims7CWA4H"
      },
      "execution_count": 7,
      "outputs": []
    },
    {
      "cell_type": "markdown",
      "source": [
        "### Topic Modelling\n"
      ],
      "metadata": {
        "id": "gnp6TO19XUOC"
      }
    },
    {
      "cell_type": "markdown",
      "source": [
        "#### Prepare Data\n"
      ],
      "metadata": {
        "id": "x5W-YSNIWWeT"
      }
    },
    {
      "cell_type": "code",
      "source": [
        "# custom module\n",
        "import preprocessing"
      ],
      "metadata": {
        "id": "AWIDwI00zTLF"
      },
      "execution_count": 8,
      "outputs": []
    },
    {
      "cell_type": "code",
      "execution_count": 9,
      "metadata": {
        "id": "a91da867"
      },
      "outputs": [],
      "source": [
        "# Load model\n",
        "spacy_mod = spacy.load(\"de_core_news_lg\", disable=['ner', 'parser', 'tagger'])"
      ]
    },
    {
      "cell_type": "code",
      "source": [
        "# read custom stopwords\n",
        "\n",
        "# open list of custom stopwords\n",
        "custom_stop_words= open(\"custom_stopwords.txt\").read().split()\n",
        "\n",
        "# add custom stopwords to model\n",
        "for word in custom_stop_words:\n",
        "  spacy_mod.Defaults.stop_words.add(word)"
      ],
      "metadata": {
        "id": "JB_UeUu-t269"
      },
      "execution_count": 10,
      "outputs": []
    },
    {
      "cell_type": "code",
      "execution_count": 11,
      "metadata": {
        "colab": {
          "base_uri": "https://localhost:8080/"
        },
        "id": "IZhcGtp_VdhH",
        "outputId": "461aa605-8747-4bc4-a54a-68731b9acf8f"
      },
      "outputs": [
        {
          "output_type": "stream",
          "name": "stderr",
          "text": [
            "50it [00:02, 22.20it/s]\n"
          ]
        }
      ],
      "source": [
        "# convert corpus to language object\n",
        "spacy_lang = []\n",
        "for i, doc in tqdm(df.iterrows()): \n",
        "  spacy_lang.append(spacy_mod(\"\".join(doc['text'])))"
      ]
    },
    {
      "cell_type": "code",
      "source": [
        "# preprocess: remove stopwords\n",
        "spacy_cleaned = []\n",
        "for doc in tqdm(spacy_lang): \n",
        "    spacy_cleaned.append(preprocessing.preprocess(doc, remove_ent=True))"
      ],
      "metadata": {
        "colab": {
          "base_uri": "https://localhost:8080/"
        },
        "id": "VSbsu2D3XJDI",
        "outputId": "82bd8801-5aa3-4f4a-b673-fc24905e5333"
      },
      "execution_count": 12,
      "outputs": [
        {
          "output_type": "stream",
          "name": "stderr",
          "text": [
            "100%|██████████| 50/50 [00:00<00:00, 1732.73it/s]\n"
          ]
        }
      ]
    },
    {
      "cell_type": "markdown",
      "source": [
        "#### Topic Analysis"
      ],
      "metadata": {
        "id": "mPPO8L1BXgDR"
      }
    },
    {
      "cell_type": "code",
      "source": [
        "import pyLDAvis\n",
        "import pyLDAvis.gensim\n",
        "import pickle "
      ],
      "metadata": {
        "id": "Y7bdqLQfClMu"
      },
      "execution_count": 13,
      "outputs": []
    },
    {
      "cell_type": "markdown",
      "source": [
        "#### Creating the model"
      ],
      "metadata": {
        "id": "SVtOxtRYpoeH"
      }
    },
    {
      "cell_type": "code",
      "source": [
        "# Create Dictionary\n",
        "id2word = corpora.Dictionary(spacy_cleaned)\n",
        "\n",
        "# Create Corpus\n",
        "texts = spacy_cleaned\n",
        "\n",
        "# Term Document Frequency\n",
        "corpus = [id2word.doc2bow(text) for text in texts]"
      ],
      "metadata": {
        "id": "YimmnX9DXj05",
        "colab": {
          "base_uri": "https://localhost:8080/"
        },
        "outputId": "c133a8db-d1ce-4b15-ac90-13232ee09dcf"
      },
      "execution_count": 30,
      "outputs": [
        {
          "output_type": "stream",
          "name": "stderr",
          "text": [
            "/usr/local/lib/python3.10/dist-packages/ipykernel/ipkernel.py:283: DeprecationWarning: `should_run_async` will not call `transform_cell` automatically in the future. Please pass the result to `transformed_cell` argument and any exception that happen during thetransform in `preprocessing_exc_tuple` in IPython 7.17 and above.\n",
            "  and should_run_async(code)\n"
          ]
        }
      ]
    },
    {
      "cell_type": "code",
      "source": [
        "# number of topics\n",
        "num_topics = 5\n",
        "# Build LDA model\n",
        "lda_model = gensim.models.LdaMulticore(corpus=corpus,id2word=id2word, num_topics=num_topics)\n",
        "# Print the key words for each topic\n",
        "pprint(lda_model.print_topics())\n",
        "doc_lda = lda_model[corpus]"
      ],
      "metadata": {
        "colab": {
          "base_uri": "https://localhost:8080/"
        },
        "id": "H_QskpU6XzBa",
        "outputId": "80021620-0ac2-4fd0-fc3e-f203830db73f"
      },
      "execution_count": 29,
      "outputs": [
        {
          "output_type": "stream",
          "name": "stderr",
          "text": [
            "/usr/local/lib/python3.10/dist-packages/ipykernel/ipkernel.py:283: DeprecationWarning: `should_run_async` will not call `transform_cell` automatically in the future. Please pass the result to `transformed_cell` argument and any exception that happen during thetransform in `preprocessing_exc_tuple` in IPython 7.17 and above.\n",
            "  and should_run_async(code)\n",
            "WARNING:gensim.models.ldamulticore:too few updates, training might not converge; consider increasing the number of passes or iterations to improve accuracy\n"
          ]
        },
        {
          "output_type": "stream",
          "name": "stdout",
          "text": [
            "[(0,\n",
            "  '0.009*\"frauen\" + 0.009*\"frau\" + 0.007*\"gewalt\" + 0.004*\"häuslicher\" + '\n",
            "  '0.004*\"opfer\" + 0.004*\"mann\" + 0.003*\"polizei\" + 0.003*\"männer\" + '\n",
            "  '0.002*\"kinder\" + 0.002*\"menschen\"'),\n",
            " (1,\n",
            "  '0.010*\"frauen\" + 0.008*\"gewalt\" + 0.006*\"opfer\" + 0.006*\"frau\" + '\n",
            "  '0.005*\"mann\" + 0.004*\"häuslicher\" + 0.003*\"männer\" + 0.003*\"leben\" + '\n",
            "  '0.003*\"landkreis\" + 0.002*\"menschen\"'),\n",
            " (2,\n",
            "  '0.011*\"frau\" + 0.009*\"gewalt\" + 0.007*\"mann\" + 0.007*\"frauen\" + '\n",
            "  '0.006*\"opfer\" + 0.005*\"polizei\" + 0.003*\"häuslicher\" + 0.003*\"männer\" + '\n",
            "  '0.003*\"leben\" + 0.002*\"fälle\"'),\n",
            " (3,\n",
            "  '0.016*\"gewalt\" + 0.011*\"frauen\" + 0.008*\"opfer\" + 0.006*\"frau\" + '\n",
            "  '0.005*\"häuslicher\" + 0.004*\"mann\" + 0.003*\"männer\" + 0.003*\"prozent\" + '\n",
            "  '0.003*\"polizei\" + 0.003*\"leben\"'),\n",
            " (4,\n",
            "  '0.019*\"gewalt\" + 0.018*\"frauen\" + 0.007*\"opfer\" + 0.007*\"frau\" + '\n",
            "  '0.005*\"häuslicher\" + 0.005*\"mann\" + 0.004*\"männer\" + 0.004*\"polizei\" + '\n",
            "  '0.004*\"prozent\" + 0.003*\"fälle\"')]\n"
          ]
        }
      ]
    },
    {
      "cell_type": "code",
      "source": [
        "# saving model\n",
        "lda_model.save(\"models/tmodel_sample\")"
      ],
      "metadata": {
        "colab": {
          "base_uri": "https://localhost:8080/"
        },
        "id": "ze8nYPRZqnA7",
        "outputId": "c3b6eb72-72b9-4113-933e-ad4f285c990e"
      },
      "execution_count": 34,
      "outputs": [
        {
          "output_type": "stream",
          "name": "stderr",
          "text": [
            "/usr/local/lib/python3.10/dist-packages/ipykernel/ipkernel.py:283: DeprecationWarning: `should_run_async` will not call `transform_cell` automatically in the future. Please pass the result to `transformed_cell` argument and any exception that happen during thetransform in `preprocessing_exc_tuple` in IPython 7.17 and above.\n",
            "  and should_run_async(code)\n"
          ]
        }
      ]
    },
    {
      "cell_type": "markdown",
      "source": [
        "#### Loading a previously saved model"
      ],
      "metadata": {
        "id": "7EFIVEOOpvfL"
      }
    },
    {
      "cell_type": "code",
      "source": [
        "lda_model=gensim.models.LdaMulticore.load(\"models/tmodel_sample\", mmap=\"r\")\n",
        "lda_model.print_topics()"
      ],
      "metadata": {
        "colab": {
          "base_uri": "https://localhost:8080/"
        },
        "id": "nIfQLcQKmpvI",
        "outputId": "96426c3b-47df-4575-c210-94bf7efe144c"
      },
      "execution_count": 36,
      "outputs": [
        {
          "output_type": "stream",
          "name": "stderr",
          "text": [
            "/usr/local/lib/python3.10/dist-packages/ipykernel/ipkernel.py:283: DeprecationWarning: `should_run_async` will not call `transform_cell` automatically in the future. Please pass the result to `transformed_cell` argument and any exception that happen during thetransform in `preprocessing_exc_tuple` in IPython 7.17 and above.\n",
            "  and should_run_async(code)\n"
          ]
        },
        {
          "output_type": "execute_result",
          "data": {
            "text/plain": [
              "[(0,\n",
              "  '0.009*\"frauen\" + 0.009*\"frau\" + 0.007*\"gewalt\" + 0.004*\"häuslicher\" + 0.004*\"opfer\" + 0.004*\"mann\" + 0.003*\"polizei\" + 0.003*\"männer\" + 0.002*\"kinder\" + 0.002*\"menschen\"'),\n",
              " (1,\n",
              "  '0.010*\"frauen\" + 0.008*\"gewalt\" + 0.006*\"opfer\" + 0.006*\"frau\" + 0.005*\"mann\" + 0.004*\"häuslicher\" + 0.003*\"männer\" + 0.003*\"leben\" + 0.003*\"landkreis\" + 0.002*\"menschen\"'),\n",
              " (2,\n",
              "  '0.011*\"frau\" + 0.009*\"gewalt\" + 0.007*\"mann\" + 0.007*\"frauen\" + 0.006*\"opfer\" + 0.005*\"polizei\" + 0.003*\"häuslicher\" + 0.003*\"männer\" + 0.003*\"leben\" + 0.002*\"fälle\"'),\n",
              " (3,\n",
              "  '0.016*\"gewalt\" + 0.011*\"frauen\" + 0.008*\"opfer\" + 0.006*\"frau\" + 0.005*\"häuslicher\" + 0.004*\"mann\" + 0.003*\"männer\" + 0.003*\"prozent\" + 0.003*\"polizei\" + 0.003*\"leben\"'),\n",
              " (4,\n",
              "  '0.019*\"gewalt\" + 0.018*\"frauen\" + 0.007*\"opfer\" + 0.007*\"frau\" + 0.005*\"häuslicher\" + 0.005*\"mann\" + 0.004*\"männer\" + 0.004*\"polizei\" + 0.004*\"prozent\" + 0.003*\"fälle\"')]"
            ]
          },
          "metadata": {},
          "execution_count": 36
        }
      ]
    },
    {
      "cell_type": "code",
      "source": [
        "# Create Corpus\n",
        "texts = spacy_cleaned\n",
        "\n",
        "# Term Document Frequency\n",
        "corpus = [id2word.doc2bow(text) for text in texts]\n",
        "\n",
        "# Saving dictionary of imported model\n",
        "id2word=lda_model.id2word"
      ],
      "metadata": {
        "colab": {
          "base_uri": "https://localhost:8080/"
        },
        "id": "p-D_Mr0CrQBG",
        "outputId": "0189cea5-eee1-4988-82f1-92c3d6bdb4cf"
      },
      "execution_count": 40,
      "outputs": [
        {
          "output_type": "stream",
          "name": "stderr",
          "text": [
            "/usr/local/lib/python3.10/dist-packages/ipykernel/ipkernel.py:283: DeprecationWarning: `should_run_async` will not call `transform_cell` automatically in the future. Please pass the result to `transformed_cell` argument and any exception that happen during thetransform in `preprocessing_exc_tuple` in IPython 7.17 and above.\n",
            "  and should_run_async(code)\n"
          ]
        }
      ]
    },
    {
      "cell_type": "markdown",
      "source": [
        "### Vizualizing models"
      ],
      "metadata": {
        "id": "9FkqhKu5rHNQ"
      }
    },
    {
      "cell_type": "code",
      "source": [
        "pyLDAvis.enable_notebook()\n",
        "pyLDAvis.gensim.prepare(lda_model, corpus, id2word)"
      ],
      "metadata": {
        "colab": {
          "base_uri": "https://localhost:8080/",
          "height": 951
        },
        "id": "aQiV-CSa-5TU",
        "outputId": "af359a9c-89cb-4b4b-8745-828c829f678e"
      },
      "execution_count": 41,
      "outputs": [
        {
          "output_type": "stream",
          "name": "stderr",
          "text": [
            "/usr/local/lib/python3.10/dist-packages/ipykernel/ipkernel.py:283: DeprecationWarning: `should_run_async` will not call `transform_cell` automatically in the future. Please pass the result to `transformed_cell` argument and any exception that happen during thetransform in `preprocessing_exc_tuple` in IPython 7.17 and above.\n",
            "  and should_run_async(code)\n",
            "/usr/local/lib/python3.10/dist-packages/pyLDAvis/_prepare.py:232: FutureWarning: In a future version of pandas all arguments of DataFrame.drop except for the argument 'labels' will be keyword-only.\n",
            "  head(R).drop('saliency', 1)\n"
          ]
        },
        {
          "output_type": "execute_result",
          "data": {
            "text/plain": [
              "PreparedData(topic_coordinates=              x         y  topics  cluster       Freq\n",
              "topic                                                \n",
              "4     -0.021167  0.000943       1        1  46.117990\n",
              "2      0.018841 -0.010127       2        1  16.663563\n",
              "1     -0.000267 -0.001187       3        1  13.905158\n",
              "3     -0.008362 -0.005013       4        1  11.945833\n",
              "0      0.010956  0.015383       5        1  11.367456, topic_info=          Term       Freq      Total Category  logprob  loglift\n",
              "8         frau  53.000000  53.000000  Default  30.0000  30.0000\n",
              "114     gewalt  99.000000  99.000000  Default  29.0000  29.0000\n",
              "176      opfer  47.000000  47.000000  Default  28.0000  28.0000\n",
              "332     frauen  92.000000  92.000000  Default  27.0000  27.0000\n",
              "15        mann  34.000000  34.000000  Default  26.0000  26.0000\n",
              "..         ...        ...        ...      ...      ...      ...\n",
              "819    partner   1.123978  11.212850   Topic5  -6.5713  -0.1258\n",
              "191       ring   1.073520  10.099886   Topic5  -6.6173  -0.0672\n",
              "844     zahlen   1.057799  10.117484   Topic5  -6.6320  -0.0837\n",
              "771    getötet   1.058789  12.861991   Topic5  -6.6311  -0.3227\n",
              "663  landkreis   1.036384  14.814065   Topic5  -6.6525  -0.4854\n",
              "\n",
              "[381 rows x 6 columns], token_table=      Topic      Freq         Term\n",
              "term                              \n",
              "0         1  0.343510        abend\n",
              "0         2  0.343510        abend\n",
              "0         4  0.343510        abend\n",
              "1792      2  0.832285  absichtlich\n",
              "32        1  0.415919         alte\n",
              "...     ...       ...          ...\n",
              "923       1  0.397636   übergriffe\n",
              "923       2  0.198818   übergriffe\n",
              "923       3  0.198818   übergriffe\n",
              "923       5  0.198818   übergriffe\n",
              "924       5  0.951270  überlebende\n",
              "\n",
              "[500 rows x 3 columns], R=30, lambda_step=0.01, plot_opts={'xlab': 'PC1', 'ylab': 'PC2'}, topic_order=[5, 3, 2, 4, 1])"
            ],
            "text/html": [
              "\n",
              "<link rel=\"stylesheet\" type=\"text/css\" href=\"https://cdn.rawgit.com/bmabey/pyLDAvis/files/ldavis.v1.0.0.css\">\n",
              "\n",
              "\n",
              "<div id=\"ldavis_el58761406441042222246712164143\"></div>\n",
              "<script type=\"text/javascript\">\n",
              "\n",
              "var ldavis_el58761406441042222246712164143_data = {\"mdsDat\": {\"x\": [-0.021167390431915335, 0.0188410586068868, -0.00026736056413950466, -0.008362036792285883, 0.010955729181453929], \"y\": [0.0009432228448390976, -0.010126697815539982, -0.001186794130287769, -0.00501259367320432, 0.015382862774192962], \"topics\": [1, 2, 3, 4, 5], \"cluster\": [1, 1, 1, 1, 1], \"Freq\": [46.117990272282746, 16.663562964218492, 13.905157799007794, 11.945833460387702, 11.367455504103265]}, \"tinfo\": {\"Term\": [\"frau\", \"gewalt\", \"opfer\", \"frauen\", \"mann\", \"h\\u00e4uslicher\", \"polizei\", \"leben\", \"m\\u00e4nner\", \"style\", \"kind\", \"prozent\", \"kinder\", \"fall\", \"wei\\u00dfen\", \"mutter\", \"menschen\", \"auto\", \"mal\", \"landkreis\", \"alte\", \"tochter\", \"anzeige\", \"juni\", \"montag\", \"verletzt\", \"beamten\", \"gesprochen\", \"donnerstag\", \"hilfe\", \"schauspieler\", \"schauspielerin\", \"depp\", \"verleumdung\", \"verhalten\", \"europarat\", \"missbr\\u00e4uchliches\", \"therapeutin\", \"provoziert\", \"streitereien\", \"flecken\", \"klagte\", \"werfen\", \"zivilprozess\", \"dollar\", \"femizide\", \"wort\", \"blaue\", \"eheberaterin\", \"schadenersatz\", \"besuch\", \"gegenseitig\", \"geschiedenen\", \"seiten\", \"geschlechtsspezifischer\", \"bericht\", \"schuhe\", \"woraufhin\", \"entwicklungen\", \"gravierende\", \"gebe\", \"frauen\", \"gewalt\", \"heblich\", \"f\\u00e4lle\", \"verbrechen\", \"n\\u00f6tigung\", \"prozent\", \"interventionsstelle\", \"t\\u00e4ter\", \"opfer\", \"erkennen\", \"mord\", \"h\\u00e4uslicher\", \"get\\u00f6tet\", \"h\\u00e4usliche\", \"menschen\", \"meisten\", \"thema\", \"m\\u00e4dchen\", \"m\\u00e4nner\", \"frau\", \"zahlen\", \"polizei\", \"mann\", \"landkreis\", \"hilfe\", \"schutz\", \"kinder\", \"betroffen\", \"zahl\", \"insgesamt\", \"laut\", \"partner\", \"straftaten\", \"zudem\", \"staatsanwaltschaft\", \"opfern\", \"berichtet\", \"ring\", \"leben\", \"style\", \"baum\", \"moderatorin\", \"erinnerungen\", \"geschmissen\", \"interview\", \"fernsehsender\", \"motorhaube\", \"pr\\u00e4sent\", \"annahme\", \"verkehrsunfall\", \"polizeibeamten\", \"samstagmorgen\", \"aufwachte\", \"informierte\", \"vermutlich\", \"zeitgleich\", \"polizeiangaben\", \"offenbar\", \"absichtlich\", \"bewusstlosigkeit\", \"hintergr\\u00fcnden\", \"frontal\", \"gefahren\", \"erinnern\", \"autos\", \"auto\", \"gew\\u00fcrgt\", \"kabarettistin\", \"filiale\", \"fanden\", \"nachbarin\", \"juni\", \"verletzt\", \"frau\", \"mann\", \"polizei\", \"montag\", \"genios\", \"opfer\", \"leben\", \"lebensgef\\u00e4hrtin\", \"gewalt\", \"tochter\", \"schwer\", \"frauen\", \"gestorben\", \"laut\", \"m\\u00e4nner\", \"wagen\", \"wohnung\", \"gewaltt\\u00e4tigen\", \"mutter\", \"h\\u00e4uslicher\", \"staatsanwaltschaft\", \"finden\", \"f\\u00e4lle\", \"wei\\u00dfen\", \"kinder\", \"fall\", \"t\\u00e4ter\", \"h\\u00e4usliche\", \"menschen\", \"prozent\", \"partner\", \"landkreis\", \"pl\\u00e4dierte\", \"einstige\", \"t\\u00e4tlichen\", \"metropole\", \"gerichtstermin\", \"komplett\", \"orange\", \"erschienen\", \"opferschutz\", \"klinik\", \"dezernat\", \"bestehen\", \"vorfalls\", \"risiko\", \"kaution\", \"zeugenschutz\", \"identit\\u00e4t\", \"\\u00e4hnliche\", \"versicherungen\", \"gedenktag\", \"bedruckten\", \"genannt\", \"spiel\", \"lokalgericht\", \"bauen\", \"beschuldigt\", \"ungehinderten\", \"gestanden\", \"amerikanischen\", \"sp\\u00fcrbar\", \"f\\u00e4llt\", \"pers\\u00f6nlich\", \"job\", \"zust\\u00e4ndigen\", \"flucht\", \"infos\", \"blieb\", \"verantwortlich\", \"h\\u00fcllen\", \"november\", \"sozialen\", \"club\", \"regel\", \"landkreis\", \"fall\", \"leben\", \"umfeld\", \"spuren\", \"frauen\", \"mann\", \"opfer\", \"aufmerksam\", \"f\\u00e4llen\", \"lassen\", \"h\\u00e4uslicher\", \"alte\", \"frau\", \"m\\u00e4nner\", \"gewalt\", \"schutz\", \"h\\u00e4usliche\", \"menschen\", \"insgesamt\", \"kinder\", \"zahl\", \"dezember\", \"zeugen\", \"familie\", \"ring\", \"polizei\", \"mutter\", \"prozent\", \"f\\u00e4lle\", \"hilfe\", \"t\\u00e4ter\", \"l\\u00e4rms\", \"glas\", \"gerufen\", \"feiernden\", \"stimmung\", \"stie\\u00dfen\", \"aggressive\", \"angeblich\", \"verfehlte\", \"betrunkener\", \"r\\u00fcckte\", \"geschoss\", \"ecr\", \"polizeistreife\", \"betretungsverbot\", \"aufgenommen\", \"beziehungsdrama\", \"montagnachmittag\", \"staatsanwalts\", \"zusammengelebt\", \"ziel\", \"gleichen\", \"mitternacht\", \"sprachen\", \"altes\", \"lebensfreude\", \"versuchter\", \"traumtyp\", \"erfahrungsaustausch\", \"wege\", \"polizisten\", \"lebensgef\\u00e4hrten\", \"kind\", \"anzeige\", \"gewalt\", \"opfer\", \"abend\", \"h\\u00e4uslicher\", \"leben\", \"frauen\", \"prozent\", \"beamten\", \"frau\", \"m\\u00e4nner\", \"polizei\", \"geschlagen\", \"straftaten\", \"menschen\", \"angst\", \"mann\", \"f\\u00e4lle\", \"kinder\", \"statistik\", \"get\\u00f6tet\", \"hilfe\", \"schlie\\u00dflich\", \"deutsche\", \"t\\u00e4ter\", \"h\\u00e4usliche\", \"l\\u00e4sst\", \"daten\", \"m\\u00e4nnern\", \"wei\\u00dfen\", \"opfern\", \"alte\", \"betroffen\", \"landkreis\", \"zahl\", \"ring\", \"zudem\", \"autorin\", \"\\u00fcberlebende\", \"britische\", \"schrieb\", \"erfahrungen\", \"zulassen\", \"essay\", \"umstrittenen\", \"sch\\u00e4me\", \"geschlechter\", \"transaktivisten\", \"stellung\", \"radikale\", \"transmenschen\", \"beziehen\", \"gesprochen\", \"differenzierung\", \"erl\\u00e4uterte\", \"ausgesetzt\", \"verurteilt\", \"gef\\u00e4ngnis\", \"stattgegeben\", \"gerichts\", \"justiz\", \"rekordeinkauf\", \"viereinhalb\", \"spielte\", \"fc\", \"abgelaufen\", \"heutigen\", \"haftstrafe\", \"dinge\", \"frau\", \"bew\\u00e4hrung\", \"donnerstag\", \"verhandlungstag\", \"frauen\", \"ehe\", \"\\u00e4u\\u00dferungen\", \"h\\u00e4uslicher\", \"polizei\", \"m\\u00e4nner\", \"gewalt\", \"mann\", \"mal\", \"opfer\", \"kinder\", \"wei\\u00dfen\", \"mutter\", \"\\u00fcbergriffe\", \"hilfe\", \"menschen\", \"schnell\", \"laut\", \"fr\\u00fcheren\", \"demnach\", \"t\\u00e4ter\", \"opfern\", \"staatsanwaltschaft\", \"kind\", \"fall\", \"finden\", \"prozent\", \"leben\", \"partner\", \"ring\", \"zahlen\", \"get\\u00f6tet\", \"landkreis\"], \"Freq\": [53.0, 99.0, 47.0, 92.0, 34.0, 33.0, 26.0, 15.0, 25.0, 3.0, 6.0, 19.0, 16.0, 10.0, 10.0, 10.0, 18.0, 4.0, 7.0, 14.0, 9.0, 6.0, 6.0, 4.0, 6.0, 5.0, 6.0, 2.0, 4.0, 12.0, 3.44213116676942, 2.354845053572526, 2.3317181401732405, 2.3279062199432574, 2.269449508393533, 2.662712643720215, 1.299687332254832, 1.2885348348736914, 1.2860758097842726, 1.28032806734349, 1.276106514999263, 1.2730211443003068, 1.2722280449557646, 1.2693044983759973, 1.2670726148153284, 3.818771637564738, 1.2639351987493925, 1.2621301061580195, 1.2611598250450158, 1.2588711561021597, 1.254494794861251, 1.2522549480750333, 1.2511751726107334, 1.2490422605676001, 2.502339158785577, 1.8119119564518793, 2.902550018803007, 1.7248259322492339, 1.7322175119640255, 1.6998796114126482, 4.306419472510787, 58.292315687884674, 60.930555064286025, 3.293846806220952, 11.255249534805648, 3.260477099159176, 3.2040936702612726, 11.456231488426559, 3.1324411355746986, 9.655457240508373, 24.15655846274972, 3.591096951904138, 3.559971736843483, 17.285769148437076, 7.456164507602491, 9.212170259887571, 10.316341255257116, 2.2079758719644507, 4.853543880678636, 3.7727411602827505, 12.436660784389138, 22.729392213497615, 5.774602021357634, 12.248602008230334, 14.918773919082504, 7.790080756523454, 6.789906453211935, 6.373888590480071, 8.40216612510895, 5.664405389408016, 5.833319812944994, 5.3172375747713625, 6.436422663111407, 5.937785197706751, 5.552122013163389, 5.366049113775976, 5.399391139148939, 5.171162819712087, 4.7682448422092705, 4.97659088345677, 5.331289255054103, 2.5991414894384084, 1.2713940793757703, 1.0621498632876656, 0.7005304166827618, 0.700416283424163, 0.7003930594297663, 0.7002434393596703, 0.7002266550569352, 0.7000144877688915, 0.6962484327719195, 0.6957187338790706, 0.6956520077122786, 0.6956627633675008, 0.6953190619519002, 0.6950580489175294, 0.6948455390926953, 0.6943395437457498, 0.6942875466609499, 0.6940105714121413, 0.6941471065768398, 0.6937435297302575, 0.6932336979712583, 0.6928445076698777, 1.4099828206406524, 1.2295395089430121, 0.908427641095854, 2.0948218324720975, 1.704132727110893, 0.5330830535782141, 0.5194541312499329, 0.8364937504630795, 1.216434325367425, 1.8736496632500401, 1.9681914616081657, 12.993354356455935, 8.204868144218139, 6.0471527205958395, 2.2884778842975457, 1.9258167833126927, 7.575148508539419, 3.490343571905597, 1.3804630000342597, 10.739384450522945, 2.0230239289451566, 1.3983452016903384, 8.029117175506377, 1.1120438407011173, 2.6017620329005475, 3.759535288716062, 1.3135050043425485, 2.1494979660178983, 1.1763916375417631, 2.201773327706353, 4.04435353390972, 2.161589103678851, 2.081628137389842, 2.807264103059658, 2.0971788966349743, 2.5752861312293676, 2.0419085302649918, 2.4196116548537074, 2.3072119064442718, 2.2843989561961195, 2.2603502702225136, 1.922755052464373, 1.9216783908244333, 0.3897313349271112, 0.3762841455423832, 0.36750078156839583, 0.3677966492901902, 0.3607367841106221, 1.1024570398709643, 1.142573856030513, 0.34927626172769055, 0.551240753669897, 0.32577231381715044, 0.7236289349906022, 0.3498253506017771, 0.34717903378029463, 0.730443639562516, 0.3406820633012672, 0.5388576419278354, 0.7315123763143169, 0.35734772525930425, 0.3519137462502614, 0.7340985534694235, 0.3433516185014395, 0.3295714028558067, 0.7101114587999723, 0.33018123164959307, 0.3455086716968033, 0.32748520813617743, 0.3461830134311838, 0.30402545030368716, 0.3339344156007021, 0.3403778206164272, 0.6470320946447232, 0.5174168218591844, 0.5111839056757743, 0.5170990305993148, 0.8008130517553768, 0.5035640613118112, 0.6273911198766178, 0.6546608570580729, 0.9200344523148964, 1.019229229637327, 0.9033717630399882, 0.6682192648087076, 0.6518105112733822, 2.68445497401786, 1.951276980479661, 2.6987188223417613, 1.2972614243284792, 1.1331169506599106, 10.23337569188556, 4.78437205630573, 6.039543145879011, 1.4268892738503325, 1.6233414394329562, 1.558034220773592, 4.122841214202944, 1.7030837786980297, 5.552955620580134, 3.1846912309009023, 7.848035295642544, 1.8483903593791453, 2.346661672714025, 2.429748623500942, 1.555714727595332, 2.175784529094502, 1.6400402582412765, 1.2843774726461914, 1.2104031676567641, 1.2160254261251306, 1.4560715324563127, 2.2184731734963625, 1.424305211873606, 1.7958018798204856, 1.6221782056578482, 1.3939974497014607, 1.4088162750987232, 0.44610556696834264, 0.44322520929481385, 0.4429229753074842, 0.4416804960020808, 0.4411658535007439, 0.4408476090681966, 0.439489176814453, 0.4393522531295854, 0.43901038592357283, 0.4367523729181365, 0.4366279727410312, 0.43528407757865095, 0.4349759010641086, 0.43422164211425346, 0.4325591587367598, 0.43045579877423884, 0.39135001621523735, 0.3901430447377246, 0.384878505857029, 0.38469878124269147, 0.5624931546955371, 0.705508863080224, 0.45310689537258814, 0.4963477191916157, 0.47754138858808093, 0.350991195314876, 0.5006802635358221, 0.4436248319719184, 0.34034248122050853, 0.3393957531454755, 1.033103248299251, 0.6884506177131227, 1.6270476457182024, 1.4107735423149812, 13.812741889554982, 6.701739774649576, 0.7391595284374651, 4.538354197417867, 2.550635421561475, 8.913635232866163, 2.9188428548884375, 1.2511441976446513, 5.1601126671235, 2.9470888163016355, 2.8502491963964784, 1.1263644845864667, 1.618851672897026, 2.2834674524133907, 1.2855769683395954, 3.098023310535694, 2.045966936477216, 1.9227949471449368, 1.1775472259103794, 1.6500182145439775, 1.6067100584538045, 0.830847321031787, 1.030456318988052, 1.7403208580679963, 1.7029900003414757, 1.088543884038748, 0.8041221063552906, 1.1260657866483874, 1.3150762627649244, 1.2819756004015255, 1.2554746792934617, 1.2678361181317572, 1.3814674536917575, 1.235603752306543, 1.201968557164773, 1.1803910935201145, 0.5005135063392037, 0.5002199703138628, 0.49957658383704895, 0.4992472495955943, 0.49867368366039155, 0.49807731155095447, 0.4977824202406693, 0.4977557351474565, 0.49754758207360394, 0.4972494193858672, 0.4968447032611336, 0.49676413390789564, 0.4963606328662155, 0.4960778923864651, 0.4956161608261455, 0.9823144532511461, 0.4954173078110483, 0.4927988038308147, 0.4097893301516647, 0.40959314097249244, 0.8020351042414362, 0.40525127535072575, 0.40211967918418146, 0.4008093990468655, 0.3985880870232267, 0.3977744487170359, 0.3936840118194109, 0.3927899443618729, 0.39041712082825875, 0.3892575810905188, 0.74996500994908, 0.874974016307368, 7.040227851248264, 0.5227580317991283, 0.9666083831698853, 0.7961498962059048, 7.05613534471262, 0.885805920921514, 0.5597519363715584, 3.309165786876844, 2.7992589875248424, 2.6838507729777143, 5.705577260468474, 3.0705133806386695, 1.2545525962986503, 3.254440689378686, 1.8455464677373172, 1.415329675364269, 1.3909912813994294, 0.9930899967051964, 1.3664379112020522, 1.5983462326217441, 0.8162130671810645, 1.3420671773344048, 0.7631270699880778, 1.107923663903886, 1.430835724081343, 1.1773413587487813, 1.1723968119324921, 0.9980108026679793, 1.1511881915096165, 1.1309706115187388, 1.414067671411347, 1.2330788073663361, 1.1239781824177122, 1.073520176199569, 1.0577994316537391, 1.0587892570026836, 1.0363837797721374], \"Total\": [53.0, 99.0, 47.0, 92.0, 34.0, 33.0, 26.0, 15.0, 25.0, 3.0, 6.0, 19.0, 16.0, 10.0, 10.0, 10.0, 18.0, 4.0, 7.0, 14.0, 9.0, 6.0, 6.0, 4.0, 6.0, 5.0, 6.0, 2.0, 4.0, 12.0, 3.90012144697765, 2.795728605822813, 2.7804547975226868, 2.7780869399206183, 2.739628539898505, 3.4623244296511366, 1.7124570305552145, 1.7051386126892882, 1.7035232530317397, 1.699752621890587, 1.696982464817727, 1.694946002089131, 1.6944622990522433, 1.692514862753921, 1.6910105787210745, 5.098760415953586, 1.6890227648551936, 1.6878554796542329, 1.687150163258512, 1.685685731077268, 1.682750616019593, 1.6813022564976203, 1.6805987236226012, 1.6792037149363976, 3.37347564912033, 2.5004063939143775, 4.074748240466112, 2.4252815013504523, 2.4471907110025275, 2.4249402335509638, 6.266376565279052, 92.52457913285538, 99.03629396047498, 4.7853862726111585, 18.627747214413017, 4.790705055156545, 4.720210152531343, 19.845294164769342, 4.675854857355401, 16.655041752610142, 47.72743058119641, 5.4883431644150384, 5.436263819441987, 33.30048388084445, 12.86199073761054, 16.554916430758976, 18.91230251998931, 3.196514426701285, 8.09014397959082, 6.027433402017911, 25.011826893285452, 53.476042708905446, 10.117484103544271, 26.16373608624386, 34.07655081078074, 14.814065354829642, 12.430810277887858, 11.544176520805763, 16.92157820031507, 10.037791075945059, 10.631314527416224, 9.390110401538688, 12.570715326398352, 11.2128501589549, 10.27516344863955, 9.818900895255279, 10.036265625092232, 10.134239486918506, 8.652809358103976, 10.099886350013879, 15.304065878229272, 3.4720559246943736, 1.7849046253204117, 1.7488430707453448, 1.202585472326833, 1.2025471968105623, 1.2025284347456424, 1.2024438596118519, 1.2024732216828502, 1.202418073183257, 1.2020540428658504, 1.2016675147062152, 1.2017883653703065, 1.2018574142131273, 1.2016212236366786, 1.2015078529325556, 1.2015475158814921, 1.2014397861874857, 1.2016037240573982, 1.2011508146743004, 1.2015114978957344, 1.2010362622328625, 1.2012036316955141, 1.2011236307207205, 2.445730947438192, 2.3326101972626807, 1.774715304916063, 4.17571224612534, 3.477918682776548, 1.1801952631580621, 1.1823143261600984, 1.9479308136203752, 2.935006483091623, 4.7873231802774425, 5.194184169125509, 53.476042708905446, 34.07655081078074, 26.16373608624386, 6.733514869897299, 5.386391108026948, 47.72743058119641, 15.304065878229272, 3.5403704478220943, 99.03629396047498, 6.733865722675326, 3.770875759887755, 92.52457913285538, 2.7369627182695715, 12.570715326398352, 25.011826893285452, 3.762904874299108, 9.354000866961318, 3.114797596092977, 10.203469513079867, 33.30048388084445, 10.036265625092232, 9.877981149788289, 18.627747214413017, 10.1267474390975, 16.92157820031507, 10.105716845863126, 16.655041752610142, 16.554916430758976, 18.91230251998931, 19.845294164769342, 11.2128501589549, 14.814065354829642, 1.1673928939819778, 1.1662497224517296, 1.1637726390860894, 1.1687494023476759, 1.1671634904502475, 3.568329665717211, 3.7479781506338683, 1.1624974298335404, 1.8359771302519872, 1.0898975109066933, 2.4246543929867252, 1.1728319123094697, 1.1656094985050136, 2.484302505571101, 1.1605900672424925, 1.8388876861901866, 2.5071124178847595, 1.2374040824004917, 1.223223036643139, 2.5792916286227765, 1.2119041570172342, 1.1636728157963023, 2.507497853496769, 1.168874861436451, 1.2266341186335863, 1.1660925945553589, 1.2339796861598837, 1.0856336459852418, 1.1955392730130256, 1.2224258723120307, 2.323800540966567, 1.8678453133846569, 1.8523078111702715, 1.8895778897009154, 3.087871960694015, 1.8661676926042539, 2.383746855647762, 2.503415998043785, 3.6956231369010495, 4.204586607666983, 3.6782746623660914, 2.585522760116653, 2.5120369819834694, 14.814065354829642, 10.105716845863126, 15.304065878229272, 6.056023900093912, 5.181903204492797, 92.52457913285538, 34.07655081078074, 47.72743058119641, 7.220740098374791, 8.625377304034927, 8.16245023399878, 33.30048388084445, 9.617263208050115, 53.476042708905446, 25.011826893285452, 99.03629396047498, 11.544176520805763, 16.554916430758976, 18.91230251998931, 9.390110401538688, 16.92157820031507, 10.631314527416224, 7.007186642949343, 6.365410865248447, 6.444673799549423, 10.099886350013879, 26.16373608624386, 10.203469513079867, 19.845294164769342, 18.627747214413017, 12.430810277887858, 16.655041752610142, 1.0183382716022522, 1.0194286051568213, 1.0193542989113662, 1.0197739999179958, 1.0207458859291032, 1.0201659838555326, 1.0209498562123818, 1.0209843509139906, 1.0210339650695428, 1.022549755155208, 1.0223116646464045, 1.0227527273885864, 1.0227888386688948, 1.0237150018099266, 1.0238132576639323, 1.0247388497116436, 1.0396066889176123, 1.0400690813708904, 1.042168064321241, 1.0422097369028995, 1.644208314304877, 2.202469678915243, 1.50442406810671, 1.6821409788276176, 1.6451192447202114, 1.2328157458837, 1.7695906926493612, 1.5977556068042125, 1.253121091853964, 1.2547663796440676, 3.9191680276950325, 2.6548252900709275, 6.792729597413262, 6.066230708859543, 99.03629396047498, 47.72743058119641, 2.911126490909551, 33.30048388084445, 15.304065878229272, 92.52457913285538, 19.845294164769342, 6.050020347241557, 53.476042708905446, 25.011826893285452, 26.16373608624386, 5.434930874917227, 10.27516344863955, 18.91230251998931, 6.9391489988373225, 34.07655081078074, 18.627747214413017, 16.92157820031507, 6.665994605543447, 12.86199073761054, 12.430810277887858, 3.613777835255261, 5.678657226338241, 16.655041752610142, 16.554916430758976, 6.530266153889717, 3.4781818181921293, 7.139207969133596, 10.1267474390975, 10.134239486918506, 9.617263208050115, 10.037791075945059, 14.814065354829642, 10.631314527416224, 10.099886350013879, 9.818900895255279, 1.0511065873997982, 1.0512262046189722, 1.0513582492237503, 1.0515008774058483, 1.0516523492804333, 1.0517930657372538, 1.0518626940491138, 1.0519149906160683, 1.0519448377957787, 1.0520130803844985, 1.0520736858783208, 1.052157252440479, 1.0522479014828923, 1.052356270094333, 1.0524786557503447, 2.086764416591213, 1.0524703859657463, 1.053205703761641, 1.0948039017505076, 1.0968182032890956, 2.174915339556023, 1.1013580420141642, 1.1025860849313645, 1.1020054753827324, 1.1010344213525387, 1.0993609563501836, 1.1031367223346007, 1.1049342919094325, 1.103888913481846, 1.1071545109282481, 2.3381696042984945, 3.0207841139653473, 53.476042708905446, 1.6366376582829079, 4.0245402251386295, 3.1095935730902653, 92.52457913285538, 3.8151471287471015, 1.8514157536464213, 33.30048388084445, 26.16373608624386, 25.011826893285452, 99.03629396047498, 34.07655081078074, 7.294132554733562, 47.72743058119641, 16.92157820031507, 10.1267474390975, 10.203469513079867, 5.029722567459234, 12.430810277887858, 18.91230251998931, 3.5611683398359237, 12.570715326398352, 3.1233460931706225, 8.185309025971893, 16.655041752610142, 10.134239486918506, 10.036265625092232, 6.792729597413262, 10.105716845863126, 9.877981149788289, 19.845294164769342, 15.304065878229272, 11.2128501589549, 10.099886350013879, 10.117484103544271, 12.86199073761054, 14.814065354829642], \"Category\": [\"Default\", \"Default\", \"Default\", \"Default\", \"Default\", \"Default\", \"Default\", \"Default\", \"Default\", \"Default\", \"Default\", \"Default\", \"Default\", \"Default\", \"Default\", \"Default\", \"Default\", \"Default\", \"Default\", \"Default\", \"Default\", \"Default\", \"Default\", \"Default\", \"Default\", \"Default\", \"Default\", \"Default\", \"Default\", \"Default\", \"Topic1\", \"Topic1\", \"Topic1\", \"Topic1\", \"Topic1\", \"Topic1\", \"Topic1\", \"Topic1\", \"Topic1\", \"Topic1\", \"Topic1\", \"Topic1\", \"Topic1\", \"Topic1\", \"Topic1\", \"Topic1\", \"Topic1\", \"Topic1\", \"Topic1\", \"Topic1\", \"Topic1\", \"Topic1\", \"Topic1\", \"Topic1\", \"Topic1\", \"Topic1\", \"Topic1\", \"Topic1\", \"Topic1\", \"Topic1\", \"Topic1\", \"Topic1\", \"Topic1\", \"Topic1\", \"Topic1\", \"Topic1\", \"Topic1\", \"Topic1\", \"Topic1\", \"Topic1\", \"Topic1\", \"Topic1\", \"Topic1\", \"Topic1\", \"Topic1\", \"Topic1\", \"Topic1\", \"Topic1\", \"Topic1\", \"Topic1\", \"Topic1\", \"Topic1\", \"Topic1\", \"Topic1\", \"Topic1\", \"Topic1\", \"Topic1\", \"Topic1\", \"Topic1\", \"Topic1\", \"Topic1\", \"Topic1\", \"Topic1\", \"Topic1\", \"Topic1\", \"Topic1\", \"Topic1\", \"Topic1\", \"Topic1\", \"Topic1\", \"Topic1\", \"Topic2\", \"Topic2\", \"Topic2\", \"Topic2\", \"Topic2\", \"Topic2\", \"Topic2\", \"Topic2\", \"Topic2\", \"Topic2\", \"Topic2\", \"Topic2\", \"Topic2\", \"Topic2\", \"Topic2\", \"Topic2\", \"Topic2\", \"Topic2\", \"Topic2\", \"Topic2\", \"Topic2\", \"Topic2\", \"Topic2\", \"Topic2\", \"Topic2\", \"Topic2\", \"Topic2\", \"Topic2\", \"Topic2\", \"Topic2\", \"Topic2\", \"Topic2\", \"Topic2\", \"Topic2\", \"Topic2\", \"Topic2\", \"Topic2\", \"Topic2\", \"Topic2\", \"Topic2\", \"Topic2\", \"Topic2\", \"Topic2\", \"Topic2\", \"Topic2\", \"Topic2\", \"Topic2\", \"Topic2\", \"Topic2\", \"Topic2\", \"Topic2\", \"Topic2\", \"Topic2\", \"Topic2\", \"Topic2\", \"Topic2\", \"Topic2\", \"Topic2\", \"Topic2\", \"Topic2\", \"Topic2\", \"Topic2\", \"Topic2\", \"Topic2\", \"Topic2\", \"Topic2\", \"Topic3\", \"Topic3\", \"Topic3\", \"Topic3\", \"Topic3\", \"Topic3\", \"Topic3\", \"Topic3\", \"Topic3\", \"Topic3\", \"Topic3\", \"Topic3\", \"Topic3\", \"Topic3\", \"Topic3\", \"Topic3\", \"Topic3\", \"Topic3\", \"Topic3\", \"Topic3\", \"Topic3\", \"Topic3\", \"Topic3\", \"Topic3\", \"Topic3\", \"Topic3\", \"Topic3\", \"Topic3\", \"Topic3\", \"Topic3\", \"Topic3\", \"Topic3\", \"Topic3\", \"Topic3\", \"Topic3\", \"Topic3\", \"Topic3\", \"Topic3\", \"Topic3\", \"Topic3\", \"Topic3\", \"Topic3\", \"Topic3\", \"Topic3\", \"Topic3\", \"Topic3\", \"Topic3\", \"Topic3\", \"Topic3\", \"Topic3\", \"Topic3\", \"Topic3\", \"Topic3\", \"Topic3\", \"Topic3\", \"Topic3\", \"Topic3\", \"Topic3\", \"Topic3\", \"Topic3\", \"Topic3\", \"Topic3\", \"Topic3\", \"Topic3\", \"Topic3\", \"Topic3\", \"Topic3\", \"Topic3\", \"Topic3\", \"Topic3\", \"Topic3\", \"Topic3\", \"Topic3\", \"Topic3\", \"Topic3\", \"Topic4\", \"Topic4\", \"Topic4\", \"Topic4\", \"Topic4\", \"Topic4\", \"Topic4\", \"Topic4\", \"Topic4\", \"Topic4\", \"Topic4\", \"Topic4\", \"Topic4\", \"Topic4\", \"Topic4\", \"Topic4\", \"Topic4\", \"Topic4\", \"Topic4\", \"Topic4\", \"Topic4\", \"Topic4\", \"Topic4\", \"Topic4\", \"Topic4\", \"Topic4\", \"Topic4\", \"Topic4\", \"Topic4\", \"Topic4\", \"Topic4\", \"Topic4\", \"Topic4\", \"Topic4\", \"Topic4\", \"Topic4\", \"Topic4\", \"Topic4\", \"Topic4\", \"Topic4\", \"Topic4\", \"Topic4\", \"Topic4\", \"Topic4\", \"Topic4\", \"Topic4\", \"Topic4\", \"Topic4\", \"Topic4\", \"Topic4\", \"Topic4\", \"Topic4\", \"Topic4\", \"Topic4\", \"Topic4\", \"Topic4\", \"Topic4\", \"Topic4\", \"Topic4\", \"Topic4\", \"Topic4\", \"Topic4\", \"Topic4\", \"Topic4\", \"Topic4\", \"Topic4\", \"Topic4\", \"Topic4\", \"Topic4\", \"Topic4\", \"Topic5\", \"Topic5\", \"Topic5\", \"Topic5\", \"Topic5\", \"Topic5\", \"Topic5\", \"Topic5\", \"Topic5\", \"Topic5\", \"Topic5\", \"Topic5\", \"Topic5\", \"Topic5\", \"Topic5\", \"Topic5\", \"Topic5\", \"Topic5\", \"Topic5\", \"Topic5\", \"Topic5\", \"Topic5\", \"Topic5\", \"Topic5\", \"Topic5\", \"Topic5\", \"Topic5\", \"Topic5\", \"Topic5\", \"Topic5\", \"Topic5\", \"Topic5\", \"Topic5\", \"Topic5\", \"Topic5\", \"Topic5\", \"Topic5\", \"Topic5\", \"Topic5\", \"Topic5\", \"Topic5\", \"Topic5\", \"Topic5\", \"Topic5\", \"Topic5\", \"Topic5\", \"Topic5\", \"Topic5\", \"Topic5\", \"Topic5\", \"Topic5\", \"Topic5\", \"Topic5\", \"Topic5\", \"Topic5\", \"Topic5\", \"Topic5\", \"Topic5\", \"Topic5\", \"Topic5\", \"Topic5\", \"Topic5\", \"Topic5\", \"Topic5\", \"Topic5\", \"Topic5\", \"Topic5\", \"Topic5\", \"Topic5\"], \"logprob\": [30.0, 29.0, 28.0, 27.0, 26.0, 25.0, 24.0, 23.0, 22.0, 21.0, 20.0, 19.0, 18.0, 17.0, 16.0, 15.0, 14.0, 13.0, 12.0, 11.0, 10.0, 9.0, 8.0, 7.0, 6.0, 5.0, 4.0, 3.0, 2.0, 1.0, -6.85260009765625, -7.2322001457214355, -7.242099761962891, -7.24370002746582, -7.269100189208984, -7.109300136566162, -7.826499938964844, -7.83519983291626, -7.837100028991699, -7.8414998054504395, -7.844799995422363, -7.847300052642822, -7.847899913787842, -7.850200176239014, -7.851900100708008, -6.748700141906738, -7.854400157928467, -7.855899810791016, -7.856599807739258, -7.858399868011475, -7.8618998527526855, -7.863699913024902, -7.86460018157959, -7.866300106048584, -7.17140007019043, -7.49429988861084, -7.023099899291992, -7.543499946594238, -7.539299964904785, -7.55810022354126, -6.628600120544434, -4.023200035095215, -3.9788999557495117, -6.896599769592285, -5.667799949645996, -6.906799793243408, -6.924200057983398, -5.650100231170654, -6.946800231933594, -5.821100234985352, -4.904099941253662, -6.810200214385986, -6.818900108337402, -5.238800048828125, -6.079599857330322, -5.868100166320801, -5.754899978637695, -7.296599864959717, -6.508900165557861, -6.760900020599365, -5.567999839782715, -4.965000152587891, -6.33519983291626, -5.583199977874756, -5.386000156402588, -6.035799980163574, -6.1732001304626465, -6.236400127410889, -5.96019983291626, -6.354499816894531, -6.325099945068359, -6.417699813842773, -6.2266998291015625, -6.307300090789795, -6.374499797821045, -6.408599853515625, -6.402400016784668, -6.4456000328063965, -6.526700019836426, -6.48390007019043, -6.41510009765625, -6.115499973297119, -6.830599784851074, -7.01039981842041, -7.426599979400635, -7.426799774169922, -7.426799774169922, -7.427000045776367, -7.427000045776367, -7.427299976348877, -7.432700157165527, -7.433499813079834, -7.433599948883057, -7.433599948883057, -7.434100151062012, -7.4344000816345215, -7.434700012207031, -7.435500144958496, -7.435500144958496, -7.4359002113342285, -7.435800075531006, -7.436299800872803, -7.437099933624268, -7.437600135803223, -6.727099895477295, -6.863999843597412, -7.1666998863220215, -6.331200122833252, -6.537600040435791, -7.69980001449585, -7.7256999015808105, -7.249199867248535, -6.874800205230713, -6.442800045013428, -6.393599987030029, -4.506199836730957, -4.966000080108643, -5.271100044250488, -6.242800235748291, -6.415299892425537, -5.04580020904541, -5.820700168609619, -6.748300075531006, -4.696800231933594, -6.366099834442139, -6.735400199890137, -4.987599849700928, -6.9644999504089355, -6.114500045776367, -5.746399879455566, -6.797999858856201, -6.3053998947143555, -6.908199787139893, -6.281400203704834, -5.673399925231934, -6.299799919128418, -6.337500095367432, -6.03849983215332, -6.330100059509277, -6.12470006942749, -6.356800079345703, -6.187099933624268, -6.234600067138672, -6.24459981918335, -6.255199909210205, -6.416900157928467, -6.417500019073486, -7.831999778747559, -7.867099761962891, -7.890699863433838, -7.889900207519531, -7.909299850463867, -6.792200088500977, -6.756400108337402, -7.9415998458862305, -7.485300064086914, -8.011300086975098, -7.213200092315674, -7.940000057220459, -7.9475998878479, -7.203800201416016, -7.9664998054504395, -7.507999897003174, -7.202400207519531, -7.918799877166748, -7.934100151062012, -7.198800086975098, -7.958700180053711, -7.99970006942749, -7.23199987411499, -7.997799873352051, -7.952499866485596, -8.005999565124512, -7.950500011444092, -8.080400466918945, -7.986499786376953, -7.967400074005127, -7.325099945068359, -7.548600196838379, -7.560699939727783, -7.549200057983398, -7.111800193786621, -7.575799942016602, -7.355899810791016, -7.313399791717529, -6.973100185394287, -6.870699882507324, -6.991300106048584, -7.292900085449219, -7.317699909210205, -5.902200222015381, -6.221199989318848, -5.896900177001953, -6.629499912261963, -6.764699935913086, -4.5640997886657715, -5.324399948120117, -5.091400146484375, -6.534200191497803, -6.405200004577637, -6.446300029754639, -5.473199844360352, -6.3572998046875, -5.1753997802734375, -5.731400012969971, -4.829500198364258, -6.275400161743164, -6.0366997718811035, -6.0019001960754395, -6.447800159454346, -6.112299919128418, -6.394999980926514, -6.639400005340576, -6.698800086975098, -6.6940999031066895, -6.513999938964844, -6.092899799346924, -6.535999774932861, -6.304299831390381, -6.405900001525879, -6.557499885559082, -6.546999931335449, -7.545000076293945, -7.551499843597412, -7.552199840545654, -7.554999828338623, -7.55620002746582, -7.5569000244140625, -7.559999942779541, -7.560299873352051, -7.561100006103516, -7.566199779510498, -7.566500186920166, -7.5696001052856445, -7.570300102233887, -7.572000026702881, -7.575900077819824, -7.580699920654297, -7.676000118255615, -7.679100036621094, -7.692699909210205, -7.6930999755859375, -7.313199996948242, -7.086699962615967, -7.5295000076293945, -7.438300132751465, -7.476900100708008, -7.784800052642822, -7.429599761962891, -7.550600051879883, -7.8155999183654785, -7.818399906158447, -6.7052998542785645, -7.111100196838379, -6.251100063323975, -6.393700122833252, -4.112199783325195, -4.8354997634887695, -7.04010009765625, -5.225299835205078, -5.801499843597412, -4.550300121307373, -5.6666998863220215, -6.513800144195557, -5.09689998626709, -5.6570000648498535, -5.690400123596191, -6.618800163269043, -6.256100177764893, -5.912099838256836, -6.486599922180176, -5.607100009918213, -6.021999835968018, -6.084099769592285, -6.574399948120117, -6.237100124359131, -6.263599872589111, -6.923099994659424, -6.707799911499023, -6.183800220489502, -6.20550012588501, -6.6529998779296875, -6.9558000564575195, -6.619100093841553, -6.463900089263916, -6.4893999099731445, -6.510300159454346, -6.500500202178955, -6.414700031280518, -6.526299953460693, -6.553899765014648, -6.572000026702881, -7.380300045013428, -7.380899906158447, -7.382199764251709, -7.382900238037109, -7.383999824523926, -7.385200023651123, -7.385799884796143, -7.385900020599365, -7.386300086975098, -7.386899948120117, -7.387700080871582, -7.387800216674805, -7.388700008392334, -7.389200210571289, -7.390200138092041, -6.706099987030029, -7.390600204467773, -7.395899772644043, -7.5802998542785645, -7.5808000564575195, -6.90880012512207, -7.5914998054504395, -7.5991997718811035, -7.602499961853027, -7.607999801635742, -7.610099792480469, -7.6203999519348145, -7.622700214385986, -7.628699779510498, -7.631700038909912, -6.975900173187256, -6.821800231933594, -4.736599922180176, -7.3368000984191895, -6.7221999168396, -6.916200160980225, -4.734300136566162, -6.809500217437744, -7.268499851226807, -5.491499900817871, -5.658899784088135, -5.701000213623047, -4.946800231933594, -5.566400051116943, -6.461400032043457, -5.508200168609619, -6.075399875640869, -6.340799808502197, -6.3582000732421875, -6.695099830627441, -6.375999927520752, -6.219200134277344, -6.891300201416016, -6.394000053405762, -6.958499908447266, -6.585700035095215, -6.329999923706055, -6.525000095367432, -6.529200077056885, -6.690199851989746, -6.547399997711182, -6.565100193023682, -6.341700077056885, -6.478700160980225, -6.571300029754639, -6.617300033569336, -6.631999969482422, -6.631100177764893, -6.652500152587891], \"loglift\": [30.0, 29.0, 28.0, 27.0, 26.0, 25.0, 24.0, 23.0, 22.0, 21.0, 20.0, 19.0, 18.0, 17.0, 16.0, 15.0, 14.0, 13.0, 12.0, 11.0, 10.0, 9.0, 8.0, 7.0, 6.0, 5.0, 4.0, 3.0, 2.0, 1.0, 0.6491, 0.6023, 0.598, 0.5972, 0.5857, 0.5114, 0.4982, 0.4938, 0.4929, 0.4906, 0.4889, 0.4877, 0.4874, 0.4862, 0.4853, 0.4849, 0.484, 0.4833, 0.483, 0.482, 0.4803, 0.4793, 0.4789, 0.478, 0.4752, 0.4519, 0.4347, 0.4331, 0.4284, 0.4187, 0.3989, 0.312, 0.2882, 0.4005, 0.2701, 0.3892, 0.3865, 0.2245, 0.3734, 0.2288, 0.093, 0.3498, 0.3506, 0.1183, 0.2287, 0.1878, 0.1679, 0.404, 0.263, 0.3054, 0.0753, -0.0816, 0.2132, 0.015, -0.052, 0.1312, 0.1692, 0.18, 0.0739, 0.2018, 0.1737, 0.2053, 0.1046, 0.1382, 0.1584, 0.1697, 0.154, 0.1011, 0.1781, 0.0662, -0.2806, 1.5024, 1.4527, 1.2933, 1.2516, 1.2514, 1.2514, 1.2513, 1.2512, 1.251, 1.2459, 1.2454, 1.2452, 1.2452, 1.2449, 1.2446, 1.2443, 1.2436, 1.2434, 1.2434, 1.2433, 1.2431, 1.2422, 1.2417, 1.2412, 1.1516, 1.1223, 1.1021, 1.0786, 0.9972, 0.9695, 0.9466, 0.9112, 0.8539, 0.8215, 0.3771, 0.3681, 0.3272, 0.7127, 0.7634, -0.0487, 0.3138, 0.8501, -0.4296, 0.5894, 0.7999, -0.6525, 0.8913, 0.2168, -0.1031, 0.7395, 0.3214, 0.8182, 0.2585, -0.3163, 0.2566, 0.2348, -0.1005, 0.2174, -0.0907, 0.1927, -0.1372, -0.1787, -0.3218, -0.3805, 0.0286, -0.2504, 0.8758, 0.8417, 0.8202, 0.8168, 0.7987, 0.7984, 0.785, 0.7704, 0.7697, 0.7653, 0.7637, 0.7632, 0.7618, 0.7488, 0.7472, 0.7454, 0.7411, 0.7308, 0.7271, 0.7163, 0.7117, 0.7114, 0.7113, 0.7088, 0.7059, 0.7029, 0.7019, 0.7001, 0.6975, 0.6944, 0.6943, 0.6892, 0.6855, 0.677, 0.6233, 0.663, 0.6381, 0.6316, 0.5824, 0.5558, 0.5688, 0.6198, 0.6238, 0.2648, 0.3283, 0.2376, 0.4321, 0.4527, -0.2289, 0.0097, -0.0943, 0.3514, 0.3027, 0.3168, -0.1161, 0.2418, -0.292, -0.0881, -0.5623, 0.141, 0.0192, -0.0791, 0.1752, -0.0783, 0.1038, 0.2762, 0.313, 0.3052, 0.0361, -0.4946, 0.0039, -0.4296, -0.468, -0.2151, -0.4971, 1.2994, 1.2919, 1.2913, 1.288, 1.2859, 1.2858, 1.2819, 1.2816, 1.2807, 1.2741, 1.274, 1.2705, 1.2698, 1.2671, 1.2632, 1.2574, 1.1478, 1.1443, 1.1287, 1.1281, 1.0522, 0.9864, 0.9248, 0.9042, 0.8879, 0.8685, 0.8623, 0.8434, 0.8213, 0.8172, 0.7915, 0.7751, 0.6957, 0.6662, 0.1549, 0.1616, 0.754, 0.1318, 0.333, -0.2151, 0.208, 0.5488, -0.2135, -0.0137, -0.0922, 0.5509, 0.2768, 0.0107, 0.4388, -0.2731, -0.084, -0.05, 0.3912, 0.0713, 0.0788, 0.6547, 0.4181, -0.1339, -0.1495, 0.3332, 0.6603, 0.2779, 0.0835, 0.0573, 0.0887, 0.0557, -0.2476, -0.0275, -0.0038, 0.0063, 1.4325, 1.4318, 1.4303, 1.4295, 1.4282, 1.4269, 1.4263, 1.4262, 1.4257, 1.425, 1.4242, 1.4239, 1.423, 1.4224, 1.4213, 1.421, 1.4209, 1.4149, 1.1917, 1.1894, 1.1768, 1.1746, 1.1658, 1.163, 1.1583, 1.1578, 1.1441, 1.1401, 1.135, 1.1291, 1.0373, 0.9353, 0.1468, 1.0331, 0.748, 0.812, -0.3992, 0.7142, 0.9782, -0.1345, -0.0606, -0.0577, -0.6796, -0.2323, 0.4141, -0.5111, -0.0414, 0.2066, 0.1817, 0.5521, -0.0336, -0.2964, 0.7012, -0.0627, 0.7652, 0.1746, -0.28, 0.0218, 0.0273, 0.2566, 0.0021, 0.0072, -0.4671, -0.3442, -0.1258, -0.0672, -0.0837, -0.3227, -0.4854]}, \"token.table\": {\"Topic\": [1, 2, 4, 2, 1, 2, 3, 4, 5, 1, 2, 3, 4, 5, 2, 1, 2, 3, 4, 5, 1, 2, 3, 4, 2, 1, 2, 5, 2, 2, 1, 2, 3, 4, 1, 1, 2, 3, 4, 5, 1, 1, 2, 3, 4, 5, 2, 5, 1, 1, 2, 3, 1, 3, 1, 2, 4, 1, 2, 3, 4, 5, 1, 1, 2, 3, 4, 5, 1, 2, 3, 4, 1, 3, 1, 5, 1, 1, 2, 3, 5, 1, 5, 1, 1, 1, 2, 2, 1, 3, 1, 1, 2, 3, 4, 5, 1, 2, 3, 4, 5, 1, 2, 1, 2, 2, 1, 2, 3, 4, 5, 1, 1, 2, 3, 1, 2, 3, 4, 5, 1, 2, 3, 4, 5, 2, 1, 5, 1, 2, 3, 4, 5, 1, 2, 3, 4, 5, 1, 3, 1, 3, 4, 1, 3, 1, 2, 1, 5, 1, 1, 2, 1, 1, 2, 3, 4, 5, 1, 2, 5, 1, 2, 1, 2, 3, 4, 5, 1, 2, 3, 4, 5, 1, 2, 1, 2, 1, 4, 1, 1, 5, 1, 1, 2, 3, 4, 5, 2, 1, 2, 3, 4, 5, 1, 2, 3, 4, 5, 1, 2, 3, 1, 3, 2, 1, 3, 1, 2, 3, 4, 5, 1, 2, 1, 3, 1, 2, 3, 5, 2, 1, 2, 3, 4, 5, 1, 2, 3, 4, 5, 1, 1, 2, 3, 1, 2, 3, 4, 5, 1, 2, 3, 4, 5, 1, 2, 3, 4, 5, 1, 2, 3, 4, 5, 1, 1, 2, 4, 1, 2, 3, 1, 2, 3, 4, 5, 1, 2, 3, 4, 5, 1, 2, 3, 4, 5, 1, 1, 2, 3, 4, 5, 1, 2, 1, 2, 4, 1, 2, 3, 2, 1, 2, 3, 4, 5, 1, 2, 3, 4, 1, 2, 3, 4, 5, 1, 2, 3, 4, 5, 1, 2, 1, 2, 3, 4, 1, 2, 1, 2, 3, 4, 5, 1, 2, 3, 4, 5, 1, 3, 1, 3, 4, 1, 2, 3, 4, 5, 1, 3, 1, 2, 3, 4, 5, 2, 2, 1, 2, 4, 1, 1, 2, 3, 4, 5, 2, 1, 3, 1, 2, 3, 4, 5, 1, 3, 2, 1, 1, 1, 1, 2, 3, 4, 1, 2, 5, 1, 1, 2, 3, 4, 5, 1, 2, 1, 1, 3, 4, 1, 3, 1, 1, 2, 3, 4, 5, 1, 2, 3, 4, 5, 1, 2, 4, 5, 1, 2, 3, 4, 5, 1, 2, 1, 2, 3, 4, 5, 1, 1, 2, 3, 4, 5, 1, 2, 3, 4, 5, 1, 2, 3, 4, 5, 1, 3, 1, 2, 1, 1, 5, 2, 1, 2, 5, 1, 2, 1, 4, 1, 2, 1, 1, 2, 3, 4, 5, 1, 1, 2, 3, 4, 5, 1, 1, 1, 2, 3, 4, 5, 1, 2, 3, 4, 5, 2, 1, 2, 3, 4, 5, 1, 3, 4, 1, 1, 2, 3, 4, 5, 1, 3, 1, 5, 1, 2, 3, 5, 5], \"Freq\": [0.3435096355732589, 0.3435096355732589, 0.3435096355732589, 0.8322850024750896, 0.41591874044289506, 0.20795937022144753, 0.20795937022144753, 0.10397968511072377, 0.10397968511072377, 0.43232967046862086, 0.14410989015620695, 0.14410989015620695, 0.14410989015620695, 0.14410989015620695, 0.831909352108556, 0.32969402187079067, 0.16484701093539533, 0.16484701093539533, 0.16484701093539533, 0.16484701093539533, 0.4154698769278824, 0.1384899589759608, 0.1384899589759608, 0.1384899589759608, 0.8322090025786357, 0.23948010328726646, 0.4789602065745329, 0.9513783016751665, 0.5634706576485494, 0.560254024676802, 0.3305774006052523, 0.16528870030262616, 0.16528870030262616, 0.16528870030262616, 0.7998699750839331, 0.5778470081878253, 0.23113880327513014, 0.11556940163756507, 0.11556940163756507, 0.11556940163756507, 0.5942651219260385, 0.5977410721745969, 0.09962351202909948, 0.09962351202909948, 0.09962351202909948, 0.09962351202909948, 0.832614327681403, 0.6110087928987034, 0.592467786522135, 0.4195076325452599, 0.4195076325452599, 0.4195076325452599, 0.3867689797303824, 0.3867689797303824, 0.2875065342385622, 0.2875065342385622, 0.2875065342385622, 0.48868038913473455, 0.12217009728368364, 0.12217009728368364, 0.12217009728368364, 0.12217009728368364, 0.719306784552638, 0.5282939047783458, 0.1760979682594486, 0.1760979682594486, 0.1760979682594486, 0.1760979682594486, 0.5708425083874161, 0.14271062709685403, 0.14271062709685403, 0.14271062709685403, 0.4124299128537594, 0.4124299128537594, 0.3310398764932963, 0.3310398764932963, 0.591362356086683, 0.24847558828053556, 0.24847558828053556, 0.24847558828053556, 0.24847558828053556, 0.5242261785738266, 0.2621130892869133, 0.5927154688285894, 0.8172636448021947, 0.7980074762930716, 0.4287042906583794, 0.8315417265644672, 0.7288174008387338, 0.18220435020968345, 0.8664699282101301, 0.3958155627166062, 0.1979077813583031, 0.1979077813583031, 0.09895389067915154, 0.09895389067915154, 0.4655006744033723, 0.15516689146779075, 0.15516689146779075, 0.15516689146779075, 0.15516689146779075, 0.5133652555869914, 0.5133652555869914, 0.7845044037535754, 0.8316396578571239, 0.8457987676151942, 0.4049410440599728, 0.2024705220299864, 0.1012352610149932, 0.1012352610149932, 0.1012352610149932, 0.5892812805861315, 0.32384762474906664, 0.32384762474906664, 0.32384762474906664, 0.4300991403795437, 0.2430995141275682, 0.11219977575118532, 0.09349981312598778, 0.13089973837638288, 0.6268604574436185, 0.08646351137153359, 0.10807938921441698, 0.09727145029297528, 0.07565557245009188, 0.8325537641782649, 0.3201694497406349, 0.3201694497406349, 0.5905169247459441, 0.16105007038525745, 0.10736671359017165, 0.10736671359017165, 0.053683356795085825, 0.4637478291099001, 0.11593695727747502, 0.23187391455495004, 0.11593695727747502, 0.11593695727747502, 0.43032953232038484, 0.43032953232038484, 0.6383274222879188, 0.1595818555719797, 0.1595818555719797, 0.38770334804442186, 0.38770334804442186, 0.40887571915768617, 0.40887571915768617, 0.45978801188837787, 0.45978801188837787, 0.5947770522137614, 0.3713061231330835, 0.3713061231330835, 0.5950260380089174, 0.367989960871482, 0.183994980435741, 0.183994980435741, 0.183994980435741, 0.183994980435741, 0.8892905454296912, 0.8315681934582151, 0.4792107782025186, 0.36536851354418304, 0.36536851354418304, 0.5442392350299917, 0.15549692429428336, 0.07774846214714168, 0.15549692429428336, 0.07774846214714168, 0.6159358106064113, 0.111070392076566, 0.08077846696477527, 0.1413623171883567, 0.06058385022358145, 0.321048148121837, 0.321048148121837, 0.2875282866595558, 0.5750565733191116, 0.45403576247756494, 0.45403576247756494, 0.8247625951058175, 0.4276849712534106, 0.4276849712534106, 0.626908639992199, 0.5631169524364572, 0.08044527891949388, 0.08044527891949388, 0.16089055783898776, 0.08044527891949388, 0.8324983155341341, 0.5436451484151278, 0.1208100329811395, 0.1208100329811395, 0.1208100329811395, 0.06040501649056975, 0.5105030924123888, 0.12011837468526795, 0.12011837468526795, 0.15014796835658495, 0.09008878101395097, 0.2705903613425654, 0.2705903613425654, 0.2705903613425654, 0.39886524148912955, 0.39886524148912955, 0.8322875273426391, 0.535857524467424, 0.535857524467424, 0.5324751026548833, 0.10649502053097665, 0.2129900410619533, 0.10649502053097665, 0.10649502053097665, 0.641593909888118, 0.8315811677347313, 0.5398670749912828, 0.5398670749912828, 0.2088849994752279, 0.4177699989504558, 0.2088849994752279, 0.2088849994752279, 0.8473174153606743, 0.29443244741578106, 0.14721622370789053, 0.14721622370789053, 0.29443244741578106, 0.14721622370789053, 0.4727691415834395, 0.17728842809378983, 0.11819228539585988, 0.11819228539585988, 0.11819228539585988, 0.5899892968669416, 0.28024316520065884, 0.28024316520065884, 0.28024316520065884, 0.5400273191984981, 0.13500682979962453, 0.2025102446994368, 0.06750341489981226, 0.06750341489981226, 0.4900489295896635, 0.12251223239741588, 0.24502446479483175, 0.12251223239741588, 0.12251223239741588, 0.4772998070682638, 0.2386499035341319, 0.07954996784471063, 0.07954996784471063, 0.07954996784471063, 0.3267105643548442, 0.19602633861290653, 0.19602633861290653, 0.19602633861290653, 0.06534211287096885, 0.8111512229941432, 0.3766726208839466, 0.3766726208839466, 0.3766726208839466, 0.282456317704031, 0.282456317704031, 0.282456317704031, 0.45939934595362036, 0.15313311531787346, 0.15313311531787346, 0.15313311531787346, 0.15313311531787346, 0.41128948198962134, 0.13709649399654045, 0.13709649399654045, 0.13709649399654045, 0.13709649399654045, 0.44018539561974906, 0.23476554433053284, 0.14672846520658303, 0.08803707912394981, 0.08803707912394981, 0.6256815183731065, 0.528756347326325, 0.105751269465265, 0.105751269465265, 0.105751269465265, 0.105751269465265, 0.5839562582634725, 0.5718065941581636, 0.4455325425078859, 0.29702169500525727, 0.14851084750262863, 0.7357994631707527, 0.18394986579268818, 0.18394986579268818, 0.8316193508247187, 0.3920235165962308, 0.1960117582981154, 0.0980058791490577, 0.0980058791490577, 0.0980058791490577, 0.66363238433474, 0.165908096083685, 0.165908096083685, 0.165908096083685, 0.4797730310224344, 0.1599243436741448, 0.1199432577556086, 0.1199432577556086, 0.1199432577556086, 0.4202146810921486, 0.14007156036404952, 0.14007156036404952, 0.14007156036404952, 0.14007156036404952, 0.3407147499540234, 0.3407147499540234, 0.2378355099587006, 0.2378355099587006, 0.2378355099587006, 0.2378355099587006, 0.6355649225471809, 0.8325349221622568, 0.502855479705113, 0.16761849323503766, 0.12571386992627825, 0.14666618158065794, 0.06285693496313913, 0.4933769333608217, 0.09867538667216434, 0.09867538667216434, 0.09867538667216434, 0.09867538667216434, 0.544669093924253, 0.544669093924253, 0.5336210403632567, 0.2668105201816284, 0.2668105201816284, 0.5351003460264944, 0.17836678200883146, 0.08918339100441573, 0.08918339100441573, 0.08918339100441573, 0.5353762395816039, 0.5353762395816039, 0.4586500934134271, 0.22932504670671355, 0.07644168223557118, 0.11466252335335678, 0.11466252335335678, 0.8322211224706824, 0.8320932610226015, 0.2551561946141224, 0.2551561946141224, 0.2551561946141224, 0.587018696821609, 0.5542875761210895, 0.10077955929474354, 0.10077955929474354, 0.15116933894211532, 0.05038977964737177, 0.8316574927659067, 0.3980833113413856, 0.3980833113413856, 0.4950550755447985, 0.0990110151089597, 0.0990110151089597, 0.0990110151089597, 0.0990110151089597, 0.40252746908135334, 0.40252746908135334, 0.8320454557870443, 0.5932303878261649, 0.7692068159376966, 0.7153770204427188, 0.2767187263821835, 0.2767187263821835, 0.2767187263821835, 0.2767187263821835, 0.2808067197536845, 0.2808067197536845, 0.2808067197536845, 0.7362418051272852, 0.5197425722992333, 0.17324752409974442, 0.17324752409974442, 0.08662376204987221, 0.08662376204987221, 0.2651903864448099, 0.2651903864448099, 0.5955203595043717, 0.27186659284348785, 0.27186659284348785, 0.27186659284348785, 0.3988039306217051, 0.3988039306217051, 0.5944804939577409, 0.38595857951687834, 0.19297928975843917, 0.19297928975843917, 0.19297928975843917, 0.19297928975843917, 0.4981932709611849, 0.19927730838447394, 0.09963865419223697, 0.09963865419223697, 0.09963865419223697, 0.4500453686993982, 0.1500151228997994, 0.1500151228997994, 0.1500151228997994, 0.5839323169885352, 0.09732205283142253, 0.09732205283142253, 0.19464410566284507, 0.09732205283142253, 0.5883209045371133, 0.8640413821283923, 0.6180359722414839, 0.12360719444829678, 0.12360719444829678, 0.12360719444829678, 0.12360719444829678, 0.5864625858321472, 0.2970062193645007, 0.2970062193645007, 0.14850310968225036, 0.14850310968225036, 0.14850310968225036, 0.6004187890092093, 0.12008375780184186, 0.06004187890092093, 0.12008375780184186, 0.06004187890092093, 0.33024968741767774, 0.16512484370883887, 0.16512484370883887, 0.16512484370883887, 0.16512484370883887, 0.399454186112663, 0.399454186112663, 0.6262126274651173, 0.20873754248837245, 0.7300259764683623, 0.3215854343968867, 0.3215854343968867, 0.8321769439231956, 0.3850460312686062, 0.3850460312686062, 0.1925230156343031, 0.719919874090459, 0.8322600536245705, 0.5651024297052781, 0.5651024297052781, 0.26575213389795393, 0.26575213389795393, 0.7969611046509425, 0.39499355780877277, 0.19749677890438638, 0.09874838945219319, 0.09874838945219319, 0.09874838945219319, 0.5901577158484588, 0.4276245060151908, 0.2138122530075954, 0.1069061265037977, 0.1069061265037977, 0.1069061265037977, 0.8246465405712097, 0.5920583314847943, 0.5643704722052096, 0.09406174536753495, 0.1881234907350699, 0.09406174536753495, 0.09406174536753495, 0.5930328072270586, 0.09883880120450977, 0.09883880120450977, 0.09883880120450977, 0.09883880120450977, 0.8323346800202845, 0.4712971500988739, 0.15709905003295796, 0.15709905003295796, 0.15709905003295796, 0.15709905003295796, 0.5438070021947905, 0.5438070021947905, 0.6081954405046119, 0.590836761322664, 0.5092219641829888, 0.10184439283659776, 0.10184439283659776, 0.10184439283659776, 0.10184439283659776, 0.5292187241661053, 0.5292187241661053, 0.54012719619052, 0.54012719619052, 0.39763624597097824, 0.19881812298548912, 0.19881812298548912, 0.19881812298548912, 0.9512700459768888], \"Term\": [\"abend\", \"abend\", \"abend\", \"absichtlich\", \"alte\", \"alte\", \"alte\", \"alte\", \"alte\", \"angst\", \"angst\", \"angst\", \"angst\", \"angst\", \"annahme\", \"anzeige\", \"anzeige\", \"anzeige\", \"anzeige\", \"anzeige\", \"aufmerksam\", \"aufmerksam\", \"aufmerksam\", \"aufmerksam\", \"aufwachte\", \"auto\", \"auto\", \"autorin\", \"autos\", \"baum\", \"beamten\", \"beamten\", \"beamten\", \"beamten\", \"bericht\", \"berichtet\", \"berichtet\", \"berichtet\", \"berichtet\", \"berichtet\", \"besuch\", \"betroffen\", \"betroffen\", \"betroffen\", \"betroffen\", \"betroffen\", \"bewusstlosigkeit\", \"bew\\u00e4hrung\", \"blaue\", \"blieb\", \"blieb\", \"blieb\", \"club\", \"club\", \"daten\", \"daten\", \"daten\", \"demnach\", \"demnach\", \"demnach\", \"demnach\", \"demnach\", \"depp\", \"deutsche\", \"deutsche\", \"deutsche\", \"deutsche\", \"deutsche\", \"dezember\", \"dezember\", \"dezember\", \"dezember\", \"dezernat\", \"dezernat\", \"dinge\", \"dinge\", \"dollar\", \"donnerstag\", \"donnerstag\", \"donnerstag\", \"donnerstag\", \"ehe\", \"ehe\", \"eheberaterin\", \"entwicklungen\", \"erfahrungsaustausch\", \"erinnern\", \"erinnerungen\", \"erkennen\", \"erkennen\", \"europarat\", \"fall\", \"fall\", \"fall\", \"fall\", \"fall\", \"familie\", \"familie\", \"familie\", \"familie\", \"familie\", \"fanden\", \"fanden\", \"femizide\", \"fernsehsender\", \"filiale\", \"finden\", \"finden\", \"finden\", \"finden\", \"finden\", \"flecken\", \"flucht\", \"flucht\", \"flucht\", \"frau\", \"frau\", \"frau\", \"frau\", \"frau\", \"frauen\", \"frauen\", \"frauen\", \"frauen\", \"frauen\", \"frontal\", \"fr\\u00fcheren\", \"fr\\u00fcheren\", \"f\\u00e4lle\", \"f\\u00e4lle\", \"f\\u00e4lle\", \"f\\u00e4lle\", \"f\\u00e4lle\", \"f\\u00e4llen\", \"f\\u00e4llen\", \"f\\u00e4llen\", \"f\\u00e4llen\", \"f\\u00e4llen\", \"f\\u00e4llt\", \"f\\u00e4llt\", \"gebe\", \"gebe\", \"gebe\", \"gedenktag\", \"gedenktag\", \"gefahren\", \"gefahren\", \"gef\\u00e4ngnis\", \"gef\\u00e4ngnis\", \"gegenseitig\", \"genios\", \"genios\", \"geschiedenen\", \"geschlagen\", \"geschlagen\", \"geschlagen\", \"geschlagen\", \"geschlagen\", \"geschlechtsspezifischer\", \"geschmissen\", \"gesprochen\", \"gestorben\", \"gestorben\", \"get\\u00f6tet\", \"get\\u00f6tet\", \"get\\u00f6tet\", \"get\\u00f6tet\", \"get\\u00f6tet\", \"gewalt\", \"gewalt\", \"gewalt\", \"gewalt\", \"gewalt\", \"gewaltt\\u00e4tigen\", \"gewaltt\\u00e4tigen\", \"gew\\u00fcrgt\", \"gew\\u00fcrgt\", \"gleichen\", \"gleichen\", \"gravierende\", \"haftstrafe\", \"haftstrafe\", \"heblich\", \"hilfe\", \"hilfe\", \"hilfe\", \"hilfe\", \"hilfe\", \"hintergr\\u00fcnden\", \"h\\u00e4usliche\", \"h\\u00e4usliche\", \"h\\u00e4usliche\", \"h\\u00e4usliche\", \"h\\u00e4usliche\", \"h\\u00e4uslicher\", \"h\\u00e4uslicher\", \"h\\u00e4uslicher\", \"h\\u00e4uslicher\", \"h\\u00e4uslicher\", \"h\\u00fcllen\", \"h\\u00fcllen\", \"h\\u00fcllen\", \"identit\\u00e4t\", \"identit\\u00e4t\", \"informierte\", \"infos\", \"infos\", \"insgesamt\", \"insgesamt\", \"insgesamt\", \"insgesamt\", \"insgesamt\", \"interventionsstelle\", \"interview\", \"job\", \"job\", \"juni\", \"juni\", \"juni\", \"juni\", \"kabarettistin\", \"kind\", \"kind\", \"kind\", \"kind\", \"kind\", \"kinder\", \"kinder\", \"kinder\", \"kinder\", \"kinder\", \"klagte\", \"komplett\", \"komplett\", \"komplett\", \"landkreis\", \"landkreis\", \"landkreis\", \"landkreis\", \"landkreis\", \"lassen\", \"lassen\", \"lassen\", \"lassen\", \"lassen\", \"laut\", \"laut\", \"laut\", \"laut\", \"laut\", \"leben\", \"leben\", \"leben\", \"leben\", \"leben\", \"lebensfreude\", \"lebensgef\\u00e4hrten\", \"lebensgef\\u00e4hrten\", \"lebensgef\\u00e4hrten\", \"lebensgef\\u00e4hrtin\", \"lebensgef\\u00e4hrtin\", \"lebensgef\\u00e4hrtin\", \"l\\u00e4sst\", \"l\\u00e4sst\", \"l\\u00e4sst\", \"l\\u00e4sst\", \"l\\u00e4sst\", \"mal\", \"mal\", \"mal\", \"mal\", \"mal\", \"mann\", \"mann\", \"mann\", \"mann\", \"mann\", \"meisten\", \"menschen\", \"menschen\", \"menschen\", \"menschen\", \"menschen\", \"missbr\\u00e4uchliches\", \"moderatorin\", \"montag\", \"montag\", \"montag\", \"mord\", \"mord\", \"mord\", \"motorhaube\", \"mutter\", \"mutter\", \"mutter\", \"mutter\", \"mutter\", \"m\\u00e4dchen\", \"m\\u00e4dchen\", \"m\\u00e4dchen\", \"m\\u00e4dchen\", \"m\\u00e4nner\", \"m\\u00e4nner\", \"m\\u00e4nner\", \"m\\u00e4nner\", \"m\\u00e4nner\", \"m\\u00e4nnern\", \"m\\u00e4nnern\", \"m\\u00e4nnern\", \"m\\u00e4nnern\", \"m\\u00e4nnern\", \"nachbarin\", \"nachbarin\", \"november\", \"november\", \"november\", \"november\", \"n\\u00f6tigung\", \"offenbar\", \"opfer\", \"opfer\", \"opfer\", \"opfer\", \"opfer\", \"opfern\", \"opfern\", \"opfern\", \"opfern\", \"opfern\", \"opferschutz\", \"opferschutz\", \"orange\", \"orange\", \"orange\", \"partner\", \"partner\", \"partner\", \"partner\", \"partner\", \"pers\\u00f6nlich\", \"pers\\u00f6nlich\", \"polizei\", \"polizei\", \"polizei\", \"polizei\", \"polizei\", \"polizeiangaben\", \"polizeibeamten\", \"polizisten\", \"polizisten\", \"polizisten\", \"provoziert\", \"prozent\", \"prozent\", \"prozent\", \"prozent\", \"prozent\", \"pr\\u00e4sent\", \"regel\", \"regel\", \"ring\", \"ring\", \"ring\", \"ring\", \"ring\", \"risiko\", \"risiko\", \"samstagmorgen\", \"schadenersatz\", \"schauspieler\", \"schauspielerin\", \"schlie\\u00dflich\", \"schlie\\u00dflich\", \"schlie\\u00dflich\", \"schlie\\u00dflich\", \"schnell\", \"schnell\", \"schnell\", \"schuhe\", \"schutz\", \"schutz\", \"schutz\", \"schutz\", \"schutz\", \"schwer\", \"schwer\", \"seiten\", \"sozialen\", \"sozialen\", \"sozialen\", \"spiel\", \"spiel\", \"sprachen\", \"spuren\", \"spuren\", \"spuren\", \"spuren\", \"spuren\", \"staatsanwaltschaft\", \"staatsanwaltschaft\", \"staatsanwaltschaft\", \"staatsanwaltschaft\", \"staatsanwaltschaft\", \"statistik\", \"statistik\", \"statistik\", \"statistik\", \"straftaten\", \"straftaten\", \"straftaten\", \"straftaten\", \"straftaten\", \"streitereien\", \"style\", \"thema\", \"thema\", \"thema\", \"thema\", \"thema\", \"therapeutin\", \"tochter\", \"tochter\", \"tochter\", \"tochter\", \"tochter\", \"t\\u00e4ter\", \"t\\u00e4ter\", \"t\\u00e4ter\", \"t\\u00e4ter\", \"t\\u00e4ter\", \"umfeld\", \"umfeld\", \"umfeld\", \"umfeld\", \"umfeld\", \"verantwortlich\", \"verantwortlich\", \"verbrechen\", \"verbrechen\", \"verhalten\", \"verhandlungstag\", \"verhandlungstag\", \"verkehrsunfall\", \"verletzt\", \"verletzt\", \"verletzt\", \"verleumdung\", \"vermutlich\", \"versuchter\", \"versuchter\", \"wagen\", \"wagen\", \"wege\", \"wei\\u00dfen\", \"wei\\u00dfen\", \"wei\\u00dfen\", \"wei\\u00dfen\", \"wei\\u00dfen\", \"werfen\", \"wohnung\", \"wohnung\", \"wohnung\", \"wohnung\", \"wohnung\", \"woraufhin\", \"wort\", \"zahl\", \"zahl\", \"zahl\", \"zahl\", \"zahl\", \"zahlen\", \"zahlen\", \"zahlen\", \"zahlen\", \"zahlen\", \"zeitgleich\", \"zeugen\", \"zeugen\", \"zeugen\", \"zeugen\", \"zeugen\", \"zeugenschutz\", \"zeugenschutz\", \"ziel\", \"zivilprozess\", \"zudem\", \"zudem\", \"zudem\", \"zudem\", \"zudem\", \"zust\\u00e4ndigen\", \"zust\\u00e4ndigen\", \"\\u00e4u\\u00dferungen\", \"\\u00e4u\\u00dferungen\", \"\\u00fcbergriffe\", \"\\u00fcbergriffe\", \"\\u00fcbergriffe\", \"\\u00fcbergriffe\", \"\\u00fcberlebende\"]}, \"R\": 30, \"lambda.step\": 0.01, \"plot.opts\": {\"xlab\": \"PC1\", \"ylab\": \"PC2\"}, \"topic.order\": [5, 3, 2, 4, 1]};\n",
              "\n",
              "function LDAvis_load_lib(url, callback){\n",
              "  var s = document.createElement('script');\n",
              "  s.src = url;\n",
              "  s.async = true;\n",
              "  s.onreadystatechange = s.onload = callback;\n",
              "  s.onerror = function(){console.warn(\"failed to load library \" + url);};\n",
              "  document.getElementsByTagName(\"head\")[0].appendChild(s);\n",
              "}\n",
              "\n",
              "if(typeof(LDAvis) !== \"undefined\"){\n",
              "   // already loaded: just create the visualization\n",
              "   !function(LDAvis){\n",
              "       new LDAvis(\"#\" + \"ldavis_el58761406441042222246712164143\", ldavis_el58761406441042222246712164143_data);\n",
              "   }(LDAvis);\n",
              "}else if(typeof define === \"function\" && define.amd){\n",
              "   // require.js is available: use it to load d3/LDAvis\n",
              "   require.config({paths: {d3: \"https://cdnjs.cloudflare.com/ajax/libs/d3/3.5.5/d3.min\"}});\n",
              "   require([\"d3\"], function(d3){\n",
              "      window.d3 = d3;\n",
              "      LDAvis_load_lib(\"https://cdn.rawgit.com/bmabey/pyLDAvis/files/ldavis.v1.0.0.js\", function(){\n",
              "        new LDAvis(\"#\" + \"ldavis_el58761406441042222246712164143\", ldavis_el58761406441042222246712164143_data);\n",
              "      });\n",
              "    });\n",
              "}else{\n",
              "    // require.js not available: dynamically load d3 & LDAvis\n",
              "    LDAvis_load_lib(\"https://cdnjs.cloudflare.com/ajax/libs/d3/3.5.5/d3.min.js\", function(){\n",
              "         LDAvis_load_lib(\"https://cdn.rawgit.com/bmabey/pyLDAvis/files/ldavis.v1.0.0.js\", function(){\n",
              "                 new LDAvis(\"#\" + \"ldavis_el58761406441042222246712164143\", ldavis_el58761406441042222246712164143_data);\n",
              "            })\n",
              "         });\n",
              "}\n",
              "</script>"
            ]
          },
          "metadata": {},
          "execution_count": 41
        }
      ]
    },
    {
      "cell_type": "markdown",
      "source": [
        "END OF CODE"
      ],
      "metadata": {
        "id": "_gpYl56fBjCO"
      }
    }
  ]
}
