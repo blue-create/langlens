{
  "nbformat": 4,
  "nbformat_minor": 0,
  "metadata": {
    "colab": {
      "provenance": [],
      "collapsed_sections": [
        "jfKRiyr4WMEM"
      ],
      "toc_visible": true,
      "authorship_tag": "ABX9TyOFfoyq1ANK8YAQxaNS+ywL"
    },
    "kernelspec": {
      "name": "python3",
      "display_name": "Python 3"
    },
    "language_info": {
      "name": "python"
    }
  },
  "cells": [
    {
      "cell_type": "markdown",
      "source": [
        "### Imports"
      ],
      "metadata": {
        "id": "jfKRiyr4WMEM"
      }
    },
    {
      "cell_type": "code",
      "execution_count": 280,
      "metadata": {
        "id": "DjwlSYh0VqWt"
      },
      "outputs": [],
      "source": [
        "import pandas as pd\n",
        "import os\n",
        "import json\n",
        "from tqdm import tqdm \n",
        "import numpy as np"
      ]
    },
    {
      "cell_type": "code",
      "source": [
        "# connect with google drive\n",
        "from google.colab import drive\n",
        "drive.mount('/content/drive')"
      ],
      "metadata": {
        "colab": {
          "base_uri": "https://localhost:8080/"
        },
        "id": "3-gEE8t61TyI",
        "outputId": "87138102-677f-4879-bce6-c5e6e0e0cd71"
      },
      "execution_count": 281,
      "outputs": [
        {
          "output_type": "stream",
          "name": "stdout",
          "text": [
            "Drive already mounted at /content/drive; to attempt to forcibly remount, call drive.mount(\"/content/drive\", force_remount=True).\n"
          ]
        }
      ]
    },
    {
      "cell_type": "code",
      "source": [
        "# redirect the working directory of this script to the data folder\n",
        "%cd /content/drive/MyDrive/Work/Frontline/data/"
      ],
      "metadata": {
        "colab": {
          "base_uri": "https://localhost:8080/"
        },
        "id": "UG1MwJ4Y1U_h",
        "outputId": "604512cf-4591-4d38-a48b-4fb4759705e9"
      },
      "execution_count": 282,
      "outputs": [
        {
          "output_type": "stream",
          "name": "stdout",
          "text": [
            "/content/drive/.shortcut-targets-by-id/1WfnZsqpG1r110J63sMbfS5TpsDOkveiV/data\n"
          ]
        }
      ]
    },
    {
      "cell_type": "markdown",
      "source": [
        "### Import Annotations"
      ],
      "metadata": {
        "id": "4tZmmwiAnSNm"
      }
    },
    {
      "cell_type": "markdown",
      "source": [
        "Merge all annotation files"
      ],
      "metadata": {
        "id": "ugdSIME9mH1y"
      }
    },
    {
      "cell_type": "code",
      "source": [
        "dfs=[]\n",
        "for doc in os.listdir(\"annotated\"):\n",
        "  if doc.startswith(\"annotations\"):\n",
        "    #read json data\n",
        "    json_data=json.load(open(\"annotated/\"+doc, encoding=\"utf-8\"))\n",
        "    #convert to dataframe\n",
        "    data=pd.DataFrame(json_data[\"documents\"])\n",
        "    #for now: filter out paragraphs that have not been annotated \n",
        "    data=data[data[\"annotations\"].apply(len)>0]   \n",
        "    data[\"file\"]=doc \n",
        "    dfs.append(data)\n"
      ],
      "metadata": {
        "id": "SxbQ1IyAYVI0"
      },
      "execution_count": 283,
      "outputs": []
    },
    {
      "cell_type": "code",
      "execution_count": 284,
      "metadata": {
        "id": "Ue5Z2rnAE_yQ"
      },
      "outputs": [],
      "source": [
        "# merge jsons\n",
        "data=pd.concat(dfs)\n",
        "data=data.reset_index(drop=True)"
      ]
    },
    {
      "cell_type": "markdown",
      "source": [
        "### Extract Labels by Annotator\n",
        "Extract each label by annotator to compare the intraclass correlation coefficient of our own annotations"
      ],
      "metadata": {
        "id": "TUnq71EGpBFn"
      }
    },
    {
      "cell_type": "code",
      "source": [
        "def extract_annotations(test):\n",
        "  ann_dict=dict()\n",
        "  for ann in test:\n",
        "    ### FOR NOW: later change to id\n",
        "    name=ann[\"annotator\"][\"name\"][0]\n",
        "    # Remane old label names\n",
        "    label=update_label(ann[\"concept\"][\"preferred_label\"][\"name\"])\n",
        "    if name in ann_dict.keys():\n",
        "      ann_dict[name].append(label)\n",
        "    else:\n",
        "      ann_dict[name]=[label]\n",
        "  #remove duplicates\n",
        "  for key in ann_dict.keys():\n",
        "    ann_dict[key]=set(ann_dict[key])\n",
        "  return ann_dict"
      ],
      "metadata": {
        "id": "n5Wpsepw-zka"
      },
      "execution_count": 285,
      "outputs": []
    },
    {
      "cell_type": "code",
      "source": [
        "def update_label(label):\n",
        "  if label==\"NA\":\n",
        "    return \"Domestic Violence\"\n",
        "  elif label==\"Victim blaming\":\n",
        "    return 'Statement of responsibility'\n",
        "  else:\n",
        "    return label"
      ],
      "metadata": {
        "id": "LgUL_WVnRLlF"
      },
      "execution_count": 286,
      "outputs": []
    },
    {
      "cell_type": "code",
      "source": [
        "data[\"annotations\"]=data[\"annotations\"].apply(extract_annotations)"
      ],
      "metadata": {
        "id": "e4qbX-SQ8V2V"
      },
      "execution_count": 287,
      "outputs": []
    },
    {
      "cell_type": "code",
      "source": [
        "data.head()"
      ],
      "metadata": {
        "colab": {
          "base_uri": "https://localhost:8080/",
          "height": 337
        },
        "id": "O07P_FD-jkdR",
        "outputId": "9497cd4c-c487-4165-a9c2-8f90f1cd65d4"
      },
      "execution_count": 288,
      "outputs": [
        {
          "output_type": "execute_result",
          "data": {
            "text/plain": [
              "                                     id  \\\n",
              "0  4572dea4-6a08-4f1e-b312-5821112bb5f5   \n",
              "1  0bcada32-8dc5-41cf-b83b-67d2e742bada   \n",
              "2  a30791b9-522e-45c1-8b33-79d4165282af   \n",
              "3  043e3909-bcdd-4c6b-a54f-f947d46ad18e   \n",
              "4  08cef91c-6d73-472c-8349-07a5b72009d1   \n",
              "\n",
              "                                                text  \\\n",
              "0  Ein Mann (25) ist jetzt vom Schöffengericht am...   \n",
              "1  Als Zeugin trat die Ex-Lebensgefährtin des Syr...   \n",
              "2  Zunächst leugnete der Angeklagte, dass es über...   \n",
              "3  Das Schöffengericht hatte es in diesem Fall of...   \n",
              "4  \"Gewalt in der Familie ist weder Privatsache n...   \n",
              "\n",
              "                                         annotations  \\\n",
              "0                       {'J': {'Domestic Violence'}}   \n",
              "1             {'J': {'Statement of responsibility'}}   \n",
              "2             {'J': {'Statement of responsibility'}}   \n",
              "3  {'J': {'Statement of responsibility', 'Sensati...   \n",
              "4                       {'J': {'Domestic Violence'}}   \n",
              "\n",
              "                                     attributes_flat                    file  \n",
              "0  {'artikel_id': 'F3A4578D33A8603DF0573D3DE3CB26...  annotations_05_18.json  \n",
              "1  {'artikel_id': 'F3A4578D33A8603DF0573D3DE3CB26...  annotations_05_18.json  \n",
              "2  {'artikel_id': 'F3A4578D33A8603DF0573D3DE3CB26...  annotations_05_18.json  \n",
              "3  {'artikel_id': 'F3A4578D33A8603DF0573D3DE3CB26...  annotations_05_18.json  \n",
              "4  {'artikel_id': 'IRA-82182598', 'name': 'SÜDWES...  annotations_05_18.json  "
            ],
            "text/html": [
              "\n",
              "  <div id=\"df-708333dd-7791-4ff8-ae98-d23526e60128\">\n",
              "    <div class=\"colab-df-container\">\n",
              "      <div>\n",
              "<style scoped>\n",
              "    .dataframe tbody tr th:only-of-type {\n",
              "        vertical-align: middle;\n",
              "    }\n",
              "\n",
              "    .dataframe tbody tr th {\n",
              "        vertical-align: top;\n",
              "    }\n",
              "\n",
              "    .dataframe thead th {\n",
              "        text-align: right;\n",
              "    }\n",
              "</style>\n",
              "<table border=\"1\" class=\"dataframe\">\n",
              "  <thead>\n",
              "    <tr style=\"text-align: right;\">\n",
              "      <th></th>\n",
              "      <th>id</th>\n",
              "      <th>text</th>\n",
              "      <th>annotations</th>\n",
              "      <th>attributes_flat</th>\n",
              "      <th>file</th>\n",
              "    </tr>\n",
              "  </thead>\n",
              "  <tbody>\n",
              "    <tr>\n",
              "      <th>0</th>\n",
              "      <td>4572dea4-6a08-4f1e-b312-5821112bb5f5</td>\n",
              "      <td>Ein Mann (25) ist jetzt vom Schöffengericht am...</td>\n",
              "      <td>{'J': {'Domestic Violence'}}</td>\n",
              "      <td>{'artikel_id': 'F3A4578D33A8603DF0573D3DE3CB26...</td>\n",
              "      <td>annotations_05_18.json</td>\n",
              "    </tr>\n",
              "    <tr>\n",
              "      <th>1</th>\n",
              "      <td>0bcada32-8dc5-41cf-b83b-67d2e742bada</td>\n",
              "      <td>Als Zeugin trat die Ex-Lebensgefährtin des Syr...</td>\n",
              "      <td>{'J': {'Statement of responsibility'}}</td>\n",
              "      <td>{'artikel_id': 'F3A4578D33A8603DF0573D3DE3CB26...</td>\n",
              "      <td>annotations_05_18.json</td>\n",
              "    </tr>\n",
              "    <tr>\n",
              "      <th>2</th>\n",
              "      <td>a30791b9-522e-45c1-8b33-79d4165282af</td>\n",
              "      <td>Zunächst leugnete der Angeklagte, dass es über...</td>\n",
              "      <td>{'J': {'Statement of responsibility'}}</td>\n",
              "      <td>{'artikel_id': 'F3A4578D33A8603DF0573D3DE3CB26...</td>\n",
              "      <td>annotations_05_18.json</td>\n",
              "    </tr>\n",
              "    <tr>\n",
              "      <th>3</th>\n",
              "      <td>043e3909-bcdd-4c6b-a54f-f947d46ad18e</td>\n",
              "      <td>Das Schöffengericht hatte es in diesem Fall of...</td>\n",
              "      <td>{'J': {'Statement of responsibility', 'Sensati...</td>\n",
              "      <td>{'artikel_id': 'F3A4578D33A8603DF0573D3DE3CB26...</td>\n",
              "      <td>annotations_05_18.json</td>\n",
              "    </tr>\n",
              "    <tr>\n",
              "      <th>4</th>\n",
              "      <td>08cef91c-6d73-472c-8349-07a5b72009d1</td>\n",
              "      <td>\"Gewalt in der Familie ist weder Privatsache n...</td>\n",
              "      <td>{'J': {'Domestic Violence'}}</td>\n",
              "      <td>{'artikel_id': 'IRA-82182598', 'name': 'SÜDWES...</td>\n",
              "      <td>annotations_05_18.json</td>\n",
              "    </tr>\n",
              "  </tbody>\n",
              "</table>\n",
              "</div>\n",
              "      <button class=\"colab-df-convert\" onclick=\"convertToInteractive('df-708333dd-7791-4ff8-ae98-d23526e60128')\"\n",
              "              title=\"Convert this dataframe to an interactive table.\"\n",
              "              style=\"display:none;\">\n",
              "        \n",
              "  <svg xmlns=\"http://www.w3.org/2000/svg\" height=\"24px\"viewBox=\"0 0 24 24\"\n",
              "       width=\"24px\">\n",
              "    <path d=\"M0 0h24v24H0V0z\" fill=\"none\"/>\n",
              "    <path d=\"M18.56 5.44l.94 2.06.94-2.06 2.06-.94-2.06-.94-.94-2.06-.94 2.06-2.06.94zm-11 1L8.5 8.5l.94-2.06 2.06-.94-2.06-.94L8.5 2.5l-.94 2.06-2.06.94zm10 10l.94 2.06.94-2.06 2.06-.94-2.06-.94-.94-2.06-.94 2.06-2.06.94z\"/><path d=\"M17.41 7.96l-1.37-1.37c-.4-.4-.92-.59-1.43-.59-.52 0-1.04.2-1.43.59L10.3 9.45l-7.72 7.72c-.78.78-.78 2.05 0 2.83L4 21.41c.39.39.9.59 1.41.59.51 0 1.02-.2 1.41-.59l7.78-7.78 2.81-2.81c.8-.78.8-2.07 0-2.86zM5.41 20L4 18.59l7.72-7.72 1.47 1.35L5.41 20z\"/>\n",
              "  </svg>\n",
              "      </button>\n",
              "      \n",
              "  <style>\n",
              "    .colab-df-container {\n",
              "      display:flex;\n",
              "      flex-wrap:wrap;\n",
              "      gap: 12px;\n",
              "    }\n",
              "\n",
              "    .colab-df-convert {\n",
              "      background-color: #E8F0FE;\n",
              "      border: none;\n",
              "      border-radius: 50%;\n",
              "      cursor: pointer;\n",
              "      display: none;\n",
              "      fill: #1967D2;\n",
              "      height: 32px;\n",
              "      padding: 0 0 0 0;\n",
              "      width: 32px;\n",
              "    }\n",
              "\n",
              "    .colab-df-convert:hover {\n",
              "      background-color: #E2EBFA;\n",
              "      box-shadow: 0px 1px 2px rgba(60, 64, 67, 0.3), 0px 1px 3px 1px rgba(60, 64, 67, 0.15);\n",
              "      fill: #174EA6;\n",
              "    }\n",
              "\n",
              "    [theme=dark] .colab-df-convert {\n",
              "      background-color: #3B4455;\n",
              "      fill: #D2E3FC;\n",
              "    }\n",
              "\n",
              "    [theme=dark] .colab-df-convert:hover {\n",
              "      background-color: #434B5C;\n",
              "      box-shadow: 0px 1px 3px 1px rgba(0, 0, 0, 0.15);\n",
              "      filter: drop-shadow(0px 1px 2px rgba(0, 0, 0, 0.3));\n",
              "      fill: #FFFFFF;\n",
              "    }\n",
              "  </style>\n",
              "\n",
              "      <script>\n",
              "        const buttonEl =\n",
              "          document.querySelector('#df-708333dd-7791-4ff8-ae98-d23526e60128 button.colab-df-convert');\n",
              "        buttonEl.style.display =\n",
              "          google.colab.kernel.accessAllowed ? 'block' : 'none';\n",
              "\n",
              "        async function convertToInteractive(key) {\n",
              "          const element = document.querySelector('#df-708333dd-7791-4ff8-ae98-d23526e60128');\n",
              "          const dataTable =\n",
              "            await google.colab.kernel.invokeFunction('convertToInteractive',\n",
              "                                                     [key], {});\n",
              "          if (!dataTable) return;\n",
              "\n",
              "          const docLinkHtml = 'Like what you see? Visit the ' +\n",
              "            '<a target=\"_blank\" href=https://colab.research.google.com/notebooks/data_table.ipynb>data table notebook</a>'\n",
              "            + ' to learn more about interactive tables.';\n",
              "          element.innerHTML = '';\n",
              "          dataTable['output_type'] = 'display_data';\n",
              "          await google.colab.output.renderOutput(dataTable, element);\n",
              "          const docLink = document.createElement('div');\n",
              "          docLink.innerHTML = docLinkHtml;\n",
              "          element.appendChild(docLink);\n",
              "        }\n",
              "      </script>\n",
              "    </div>\n",
              "  </div>\n",
              "  "
            ]
          },
          "metadata": {},
          "execution_count": 288
        }
      ]
    },
    {
      "cell_type": "markdown",
      "source": [
        "### Similarity of (own) annotations\n",
        "Compare all co-assigned paragraphs using three different measures:\n",
        "1. jaccard similarity: is the fraction of labels that were given by all annotators divided by all given annotations, ie. the intersection of given annotations divided by the union of the given annotations\n",
        "2. dice: is the averaged, pairwise similarity of annotations, considering the number of labels given "
      ],
      "metadata": {
        "id": "rZiKztH2pD1X"
      }
    },
    {
      "cell_type": "code",
      "source": [
        "def jaccard_similarity(sets):\n",
        "    # Calculate the intersection\n",
        "    intersection = set.intersection(*sets)\n",
        "    \n",
        "    # Calculate the union\n",
        "    union = set.union(*sets)\n",
        "    \n",
        "    # Compute the Jaccard similarity\n",
        "    similarity = len(intersection) / len(union)\n",
        "    \n",
        "    return similarity"
      ],
      "metadata": {
        "id": "dQlBYt6gBZHn"
      },
      "execution_count": 289,
      "outputs": []
    },
    {
      "cell_type": "code",
      "source": [
        "def calculate_similarity(annotations: dict, sim=\"jaccard\"):\n",
        "  #if no co-annotation\n",
        "  if len(annotations)==1:\n",
        "    return np.nan\n",
        "  else:\n",
        "    if sim==\"jaccard\":\n",
        "      return jaccard_similarity(list(annotations.values()))\n",
        "    elif sim==\"dice\":\n",
        "      return dice_similarity_multiple(list(annotations.values()))"
      ],
      "metadata": {
        "id": "8lhjS3_mAp_A"
      },
      "execution_count": 290,
      "outputs": []
    },
    {
      "cell_type": "code",
      "source": [
        "def dice_similarity_multiple(sets):\n",
        "    num_sets = len(sets)\n",
        "    similarity_sum = 0\n",
        "\n",
        "    # Pairwise comparisons\n",
        "    for i in range(num_sets - 1):\n",
        "        for j in range(i + 1, num_sets):\n",
        "            set1 = sets[i]\n",
        "            set2 = sets[j]\n",
        "            \n",
        "            # Calculate the intersection\n",
        "            intersection = set1.intersection(set2)\n",
        "            \n",
        "            # Calculate the sum of set sizes\n",
        "            set_sum = len(set1) + len(set2)\n",
        "            \n",
        "            # Compute the Dice similarity coefficient\n",
        "            similarity = 2 * len(intersection) / set_sum\n",
        "            \n",
        "            similarity_sum += similarity\n",
        "\n",
        "    # Calculate the average similarity\n",
        "    average_similarity = similarity_sum / (num_sets * (num_sets - 1) / 2)\n",
        "    \n",
        "    return average_similarity"
      ],
      "metadata": {
        "id": "djS2QtWRGFae"
      },
      "execution_count": 291,
      "outputs": []
    },
    {
      "cell_type": "code",
      "source": [
        "data[\"jaccard\"]=data[\"annotations\"].apply(calculate_similarity)\n",
        "data[\"dice\"]=data[\"annotations\"].apply(calculate_similarity,args=[\"dice\"])"
      ],
      "metadata": {
        "id": "yrjyv7lY32Fi"
      },
      "execution_count": 292,
      "outputs": []
    },
    {
      "cell_type": "code",
      "source": [
        "data[~data[\"jaccard\"].isnull()]"
      ],
      "metadata": {
        "id": "RVCDyVAvSnzt"
      },
      "execution_count": null,
      "outputs": []
    },
    {
      "cell_type": "code",
      "source": [
        "print(\"Average jaccard similarity: \", round(data[\"jaccard\"].mean(),2))\n",
        "print(\"Average dice similarity: \", round(data[\"dice\"].mean(),2))"
      ],
      "metadata": {
        "id": "RBt3SkNuTp5-",
        "colab": {
          "base_uri": "https://localhost:8080/"
        },
        "outputId": "cedff1a0-1404-4f4f-b72a-e51b2ca5dd8f"
      },
      "execution_count": 294,
      "outputs": [
        {
          "output_type": "stream",
          "name": "stdout",
          "text": [
            "Average jaccard similarity:  0.35\n",
            "Average dice similarity:  0.51\n"
          ]
        }
      ]
    },
    {
      "cell_type": "code",
      "source": [
        "data.groupby(\"file\").mean()[[\"jaccard\",\"dice\"]]"
      ],
      "metadata": {
        "colab": {
          "base_uri": "https://localhost:8080/",
          "height": 237
        },
        "id": "intwtaiy2GSG",
        "outputId": "15b96f43-1862-437c-8a2d-0c48acb80831"
      },
      "execution_count": 295,
      "outputs": [
        {
          "output_type": "execute_result",
          "data": {
            "text/plain": [
              "                                  jaccard      dice\n",
              "file                                               \n",
              "annotations_05_18.json           0.700000  0.777778\n",
              "annotations_06_09_part1.json          NaN       NaN\n",
              "annotations_06_09_part2.json          NaN       NaN\n",
              "annotations_06_09_part3.json          NaN       NaN\n",
              "annotations_50sample_06_09.json  0.276596  0.449173"
            ],
            "text/html": [
              "\n",
              "  <div id=\"df-e7672d33-70f7-4b9f-878d-1e542d927bd4\">\n",
              "    <div class=\"colab-df-container\">\n",
              "      <div>\n",
              "<style scoped>\n",
              "    .dataframe tbody tr th:only-of-type {\n",
              "        vertical-align: middle;\n",
              "    }\n",
              "\n",
              "    .dataframe tbody tr th {\n",
              "        vertical-align: top;\n",
              "    }\n",
              "\n",
              "    .dataframe thead th {\n",
              "        text-align: right;\n",
              "    }\n",
              "</style>\n",
              "<table border=\"1\" class=\"dataframe\">\n",
              "  <thead>\n",
              "    <tr style=\"text-align: right;\">\n",
              "      <th></th>\n",
              "      <th>jaccard</th>\n",
              "      <th>dice</th>\n",
              "    </tr>\n",
              "    <tr>\n",
              "      <th>file</th>\n",
              "      <th></th>\n",
              "      <th></th>\n",
              "    </tr>\n",
              "  </thead>\n",
              "  <tbody>\n",
              "    <tr>\n",
              "      <th>annotations_05_18.json</th>\n",
              "      <td>0.700000</td>\n",
              "      <td>0.777778</td>\n",
              "    </tr>\n",
              "    <tr>\n",
              "      <th>annotations_06_09_part1.json</th>\n",
              "      <td>NaN</td>\n",
              "      <td>NaN</td>\n",
              "    </tr>\n",
              "    <tr>\n",
              "      <th>annotations_06_09_part2.json</th>\n",
              "      <td>NaN</td>\n",
              "      <td>NaN</td>\n",
              "    </tr>\n",
              "    <tr>\n",
              "      <th>annotations_06_09_part3.json</th>\n",
              "      <td>NaN</td>\n",
              "      <td>NaN</td>\n",
              "    </tr>\n",
              "    <tr>\n",
              "      <th>annotations_50sample_06_09.json</th>\n",
              "      <td>0.276596</td>\n",
              "      <td>0.449173</td>\n",
              "    </tr>\n",
              "  </tbody>\n",
              "</table>\n",
              "</div>\n",
              "      <button class=\"colab-df-convert\" onclick=\"convertToInteractive('df-e7672d33-70f7-4b9f-878d-1e542d927bd4')\"\n",
              "              title=\"Convert this dataframe to an interactive table.\"\n",
              "              style=\"display:none;\">\n",
              "        \n",
              "  <svg xmlns=\"http://www.w3.org/2000/svg\" height=\"24px\"viewBox=\"0 0 24 24\"\n",
              "       width=\"24px\">\n",
              "    <path d=\"M0 0h24v24H0V0z\" fill=\"none\"/>\n",
              "    <path d=\"M18.56 5.44l.94 2.06.94-2.06 2.06-.94-2.06-.94-.94-2.06-.94 2.06-2.06.94zm-11 1L8.5 8.5l.94-2.06 2.06-.94-2.06-.94L8.5 2.5l-.94 2.06-2.06.94zm10 10l.94 2.06.94-2.06 2.06-.94-2.06-.94-.94-2.06-.94 2.06-2.06.94z\"/><path d=\"M17.41 7.96l-1.37-1.37c-.4-.4-.92-.59-1.43-.59-.52 0-1.04.2-1.43.59L10.3 9.45l-7.72 7.72c-.78.78-.78 2.05 0 2.83L4 21.41c.39.39.9.59 1.41.59.51 0 1.02-.2 1.41-.59l7.78-7.78 2.81-2.81c.8-.78.8-2.07 0-2.86zM5.41 20L4 18.59l7.72-7.72 1.47 1.35L5.41 20z\"/>\n",
              "  </svg>\n",
              "      </button>\n",
              "      \n",
              "  <style>\n",
              "    .colab-df-container {\n",
              "      display:flex;\n",
              "      flex-wrap:wrap;\n",
              "      gap: 12px;\n",
              "    }\n",
              "\n",
              "    .colab-df-convert {\n",
              "      background-color: #E8F0FE;\n",
              "      border: none;\n",
              "      border-radius: 50%;\n",
              "      cursor: pointer;\n",
              "      display: none;\n",
              "      fill: #1967D2;\n",
              "      height: 32px;\n",
              "      padding: 0 0 0 0;\n",
              "      width: 32px;\n",
              "    }\n",
              "\n",
              "    .colab-df-convert:hover {\n",
              "      background-color: #E2EBFA;\n",
              "      box-shadow: 0px 1px 2px rgba(60, 64, 67, 0.3), 0px 1px 3px 1px rgba(60, 64, 67, 0.15);\n",
              "      fill: #174EA6;\n",
              "    }\n",
              "\n",
              "    [theme=dark] .colab-df-convert {\n",
              "      background-color: #3B4455;\n",
              "      fill: #D2E3FC;\n",
              "    }\n",
              "\n",
              "    [theme=dark] .colab-df-convert:hover {\n",
              "      background-color: #434B5C;\n",
              "      box-shadow: 0px 1px 3px 1px rgba(0, 0, 0, 0.15);\n",
              "      filter: drop-shadow(0px 1px 2px rgba(0, 0, 0, 0.3));\n",
              "      fill: #FFFFFF;\n",
              "    }\n",
              "  </style>\n",
              "\n",
              "      <script>\n",
              "        const buttonEl =\n",
              "          document.querySelector('#df-e7672d33-70f7-4b9f-878d-1e542d927bd4 button.colab-df-convert');\n",
              "        buttonEl.style.display =\n",
              "          google.colab.kernel.accessAllowed ? 'block' : 'none';\n",
              "\n",
              "        async function convertToInteractive(key) {\n",
              "          const element = document.querySelector('#df-e7672d33-70f7-4b9f-878d-1e542d927bd4');\n",
              "          const dataTable =\n",
              "            await google.colab.kernel.invokeFunction('convertToInteractive',\n",
              "                                                     [key], {});\n",
              "          if (!dataTable) return;\n",
              "\n",
              "          const docLinkHtml = 'Like what you see? Visit the ' +\n",
              "            '<a target=\"_blank\" href=https://colab.research.google.com/notebooks/data_table.ipynb>data table notebook</a>'\n",
              "            + ' to learn more about interactive tables.';\n",
              "          element.innerHTML = '';\n",
              "          dataTable['output_type'] = 'display_data';\n",
              "          await google.colab.output.renderOutput(dataTable, element);\n",
              "          const docLink = document.createElement('div');\n",
              "          docLink.innerHTML = docLinkHtml;\n",
              "          element.appendChild(docLink);\n",
              "        }\n",
              "      </script>\n",
              "    </div>\n",
              "  </div>\n",
              "  "
            ]
          },
          "metadata": {},
          "execution_count": 295
        }
      ]
    },
    {
      "cell_type": "markdown",
      "source": [
        "###ICC for whole dataframe\n",
        "Note:\n",
        "- ICC is not suited for categorical data -->  work-around: turn categories into dummies variables\n",
        "- ICC expects the same number of raters and measures for each object, ie. only annotations with 3 annotators are considered"
      ],
      "metadata": {
        "id": "_mNV73wK5WHM"
      }
    },
    {
      "cell_type": "code",
      "source": [
        "def calculate_icc(labels):\n",
        "    \"\"\"\n",
        "    Berechnet den ICC für mehrere Messungen pro Objekt.\n",
        "    \n",
        "    :param labels: Eine numpy.ndarray oder eine ähnliche Datenstruktur, die die Bewertungen enthält.\n",
        "                   Die Dimensionen sollten die Form (Objekte, Messungen, Beobachter) haben.\n",
        "    :return: Der berechnete ICC-Wert.\n",
        "    \"\"\"\n",
        "    \n",
        "    # objects (n), labels (m) und annotator (k)\n",
        "    n, m, k = labels.shape\n",
        "    \n",
        "    # calculate total variance\n",
        "    mean_ratings = np.mean(labels, axis=2)\n",
        "    \n",
        "    # Berechnung der Gesamtvarianzanteile (Variance Total)\n",
        "    variance_total = np.var(labels.flatten(), ddof=1)\n",
        "    \n",
        "    # calculate variance between classes\n",
        "    variance_between = np.mean(np.var(mean_ratings, axis=1, ddof=1))\n",
        "    \n",
        "    # calculate variance within classes\n",
        "    variance_within = np.mean(np.var(labels, axis=2, ddof=1))\n",
        "    \n",
        "    # calculating ICC\n",
        "    icc = (variance_between - variance_within) / (variance_total + variance_within)\n",
        "    \n",
        "    return icc"
      ],
      "metadata": {
        "id": "7FW5wJqb5oJR"
      },
      "execution_count": 296,
      "outputs": []
    },
    {
      "cell_type": "code",
      "source": [
        "# filtering paragraphs that were labelled by all annotators\n",
        "data_sample=data[data.file==\"annotations_50sample_06_09.json\"]\n",
        "mask=[len(i)==3 for i in data_sample.annotations]"
      ],
      "metadata": {
        "id": "ereLVUBj6rds"
      },
      "execution_count": 297,
      "outputs": []
    },
    {
      "cell_type": "code",
      "source": [
        "# creating a np.array of shape (n,m,k) where objects (n), labels (m) und annotator (k)\n",
        "\n",
        "dummies=pd.DataFrame(columns=[\"Sensationalist\",\t\"Statement of responsibility\",\t\"Graphic\",\t\"Domestic Violence\"])\n",
        "ann_dummies_list=[]\n",
        "for i in data_sample[mask].annotations:\n",
        "  temp_df=pd.DataFrame.from_dict(i,orient='index')\n",
        "  temp_df=pd.get_dummies(temp_df, prefix='', prefix_sep='').max(level=0, axis=1)\n",
        "  temp_df=pd.concat([temp_df,dummies])\n",
        "  temp_df=temp_df.fillna(0)\n",
        "  ann_dummies_list.append(np.array(temp_df))\n"
      ],
      "metadata": {
        "id": "vdkM1f197GKT"
      },
      "execution_count": 298,
      "outputs": []
    },
    {
      "cell_type": "code",
      "source": [
        "ann_dummies_list=np.array(ann_dummies_list)"
      ],
      "metadata": {
        "id": "gaXFzr5f9og1"
      },
      "execution_count": 299,
      "outputs": []
    },
    {
      "cell_type": "code",
      "source": [
        "calculate_icc(ann_dummies_list)"
      ],
      "metadata": {
        "colab": {
          "base_uri": "https://localhost:8080/"
        },
        "id": "tgpaSHA45ZD0",
        "outputId": "edad0bf5-6b18-48ea-8323-65fe68d231ef"
      },
      "execution_count": 300,
      "outputs": [
        {
          "output_type": "execute_result",
          "data": {
            "text/plain": [
              "-0.5672298029734648"
            ]
          },
          "metadata": {},
          "execution_count": 300
        }
      ]
    },
    {
      "cell_type": "markdown",
      "source": [
        "### Export Paragraphs that were differently annotated\n",
        "-> based on dice similarity"
      ],
      "metadata": {
        "id": "VM7Z2gqh29nP"
      }
    },
    {
      "cell_type": "code",
      "source": [
        "sample=data[data.file==\"annotations_50sample_06_09.json\"]"
      ],
      "metadata": {
        "id": "o7_zIoan28Zb"
      },
      "execution_count": 301,
      "outputs": []
    },
    {
      "cell_type": "code",
      "source": [
        "sample[sample.dice<0.8][[\"id\",\"text\",\"annotations\",\"dice\",\"jaccard\"]].to_csv(\"annotated/differently_annotated/amazon_sample_differently_annotated.csv\")"
      ],
      "metadata": {
        "id": "k6DjZYkw3PQY"
      },
      "execution_count": 302,
      "outputs": []
    },
    {
      "cell_type": "markdown",
      "source": [
        "### Evaluating Amazons Annotations"
      ],
      "metadata": {
        "id": "p_kmQ-FgpOWu"
      }
    },
    {
      "cell_type": "markdown",
      "source": [
        "Extracting Ground Truth"
      ],
      "metadata": {
        "id": "1lrEqcgGks2K"
      }
    },
    {
      "cell_type": "code",
      "source": [
        "def ground_truth_filter(entry, min_coannotation=1, min_similarity=0.5, similarity=\"jaccard\"):\n",
        "  \"\"\"\n",
        "      Extracts ground truth value of the annotated sample based on two filters:\n",
        "      - a minimum number of people that annotated a text\n",
        "      - a minimum of similarity between all annotations of a text\n",
        "\n",
        "      Args:\n",
        "      - annotations (dict): a dictionary containing all annotations of a text with the annotator initial as key\n",
        "      - min_coannotation (int): minimum number of co-annotations of a text, by default 1, so all annotations are considered\n",
        "      - min_similarity (int): if more than one annotator, the value minimum value of similarity so that a value is considered ground truth\n",
        "\n",
        "      Returns:\n",
        "      - either:\n",
        "        - all_values (set): containing a set of values that are considered ground truth\n",
        "        - NaN: if the annotation does not fulfill the conditions set for ground truth\n",
        "  \"\"\"\n",
        "  if len(entry[\"annotations\"])<min_coannotation or entry[similarity]<min_similarity:\n",
        "    return np.nan\n",
        "  else:\n",
        "    all_values = [value for s in entry[\"annotations\"].values() for value in s]\n",
        "    return set(all_values)"
      ],
      "metadata": {
        "id": "whMNWT2pYbr4"
      },
      "execution_count": 303,
      "outputs": []
    },
    {
      "cell_type": "code",
      "source": [
        "ground_truth=data\n",
        "ground_truth[\"annotations\"]=ground_truth.apply(ground_truth_filter, 1, min_coannotation=2,min_similarity=0.6, similarity=\"dice\")\n",
        "ground_truth=ground_truth[~ground_truth[\"annotations\"].isnull()][[\"id\",\"annotations\"]]\n"
      ],
      "metadata": {
        "id": "04yo_bncdhQ5"
      },
      "execution_count": 304,
      "outputs": []
    },
    {
      "cell_type": "code",
      "source": [
        "# this variable contains all values that are considered ground truth based on the previous filter\n",
        "ground_truth=ground_truth.rename(columns={\"annotations\":\"ground truth\"})\n",
        "ground_truth.head()"
      ],
      "metadata": {
        "id": "ea8PitJtioTH",
        "colab": {
          "base_uri": "https://localhost:8080/",
          "height": 206
        },
        "outputId": "4abaf44f-bbff-4f85-9798-0d6984e274e9"
      },
      "execution_count": 305,
      "outputs": [
        {
          "output_type": "execute_result",
          "data": {
            "text/plain": [
              "                                      id  \\\n",
              "20  4dfd6faf-e631-4f0e-83cc-cee4b69a9632   \n",
              "23  0cb62255-3781-4466-b9ac-e29c29714d9f   \n",
              "44  0964c70c-687f-4d9b-9c9d-555b3853a456   \n",
              "50  0b701b26-4e70-4514-8c9b-355bf042acbc   \n",
              "82  1c2f201d-b408-4c6f-a455-f45a947b41f6   \n",
              "\n",
              "                                     ground truth  \n",
              "20  {Statement of responsibility, Sensationalist}  \n",
              "23  {Sensationalist, Statement of responsibility}  \n",
              "44                            {Domestic Violence}  \n",
              "50                            {Domestic Violence}  \n",
              "82                               {Sensationalist}  "
            ],
            "text/html": [
              "\n",
              "  <div id=\"df-0d2e2eb3-c54b-40ed-a738-1344b9e20457\">\n",
              "    <div class=\"colab-df-container\">\n",
              "      <div>\n",
              "<style scoped>\n",
              "    .dataframe tbody tr th:only-of-type {\n",
              "        vertical-align: middle;\n",
              "    }\n",
              "\n",
              "    .dataframe tbody tr th {\n",
              "        vertical-align: top;\n",
              "    }\n",
              "\n",
              "    .dataframe thead th {\n",
              "        text-align: right;\n",
              "    }\n",
              "</style>\n",
              "<table border=\"1\" class=\"dataframe\">\n",
              "  <thead>\n",
              "    <tr style=\"text-align: right;\">\n",
              "      <th></th>\n",
              "      <th>id</th>\n",
              "      <th>ground truth</th>\n",
              "    </tr>\n",
              "  </thead>\n",
              "  <tbody>\n",
              "    <tr>\n",
              "      <th>20</th>\n",
              "      <td>4dfd6faf-e631-4f0e-83cc-cee4b69a9632</td>\n",
              "      <td>{Statement of responsibility, Sensationalist}</td>\n",
              "    </tr>\n",
              "    <tr>\n",
              "      <th>23</th>\n",
              "      <td>0cb62255-3781-4466-b9ac-e29c29714d9f</td>\n",
              "      <td>{Sensationalist, Statement of responsibility}</td>\n",
              "    </tr>\n",
              "    <tr>\n",
              "      <th>44</th>\n",
              "      <td>0964c70c-687f-4d9b-9c9d-555b3853a456</td>\n",
              "      <td>{Domestic Violence}</td>\n",
              "    </tr>\n",
              "    <tr>\n",
              "      <th>50</th>\n",
              "      <td>0b701b26-4e70-4514-8c9b-355bf042acbc</td>\n",
              "      <td>{Domestic Violence}</td>\n",
              "    </tr>\n",
              "    <tr>\n",
              "      <th>82</th>\n",
              "      <td>1c2f201d-b408-4c6f-a455-f45a947b41f6</td>\n",
              "      <td>{Sensationalist}</td>\n",
              "    </tr>\n",
              "  </tbody>\n",
              "</table>\n",
              "</div>\n",
              "      <button class=\"colab-df-convert\" onclick=\"convertToInteractive('df-0d2e2eb3-c54b-40ed-a738-1344b9e20457')\"\n",
              "              title=\"Convert this dataframe to an interactive table.\"\n",
              "              style=\"display:none;\">\n",
              "        \n",
              "  <svg xmlns=\"http://www.w3.org/2000/svg\" height=\"24px\"viewBox=\"0 0 24 24\"\n",
              "       width=\"24px\">\n",
              "    <path d=\"M0 0h24v24H0V0z\" fill=\"none\"/>\n",
              "    <path d=\"M18.56 5.44l.94 2.06.94-2.06 2.06-.94-2.06-.94-.94-2.06-.94 2.06-2.06.94zm-11 1L8.5 8.5l.94-2.06 2.06-.94-2.06-.94L8.5 2.5l-.94 2.06-2.06.94zm10 10l.94 2.06.94-2.06 2.06-.94-2.06-.94-.94-2.06-.94 2.06-2.06.94z\"/><path d=\"M17.41 7.96l-1.37-1.37c-.4-.4-.92-.59-1.43-.59-.52 0-1.04.2-1.43.59L10.3 9.45l-7.72 7.72c-.78.78-.78 2.05 0 2.83L4 21.41c.39.39.9.59 1.41.59.51 0 1.02-.2 1.41-.59l7.78-7.78 2.81-2.81c.8-.78.8-2.07 0-2.86zM5.41 20L4 18.59l7.72-7.72 1.47 1.35L5.41 20z\"/>\n",
              "  </svg>\n",
              "      </button>\n",
              "      \n",
              "  <style>\n",
              "    .colab-df-container {\n",
              "      display:flex;\n",
              "      flex-wrap:wrap;\n",
              "      gap: 12px;\n",
              "    }\n",
              "\n",
              "    .colab-df-convert {\n",
              "      background-color: #E8F0FE;\n",
              "      border: none;\n",
              "      border-radius: 50%;\n",
              "      cursor: pointer;\n",
              "      display: none;\n",
              "      fill: #1967D2;\n",
              "      height: 32px;\n",
              "      padding: 0 0 0 0;\n",
              "      width: 32px;\n",
              "    }\n",
              "\n",
              "    .colab-df-convert:hover {\n",
              "      background-color: #E2EBFA;\n",
              "      box-shadow: 0px 1px 2px rgba(60, 64, 67, 0.3), 0px 1px 3px 1px rgba(60, 64, 67, 0.15);\n",
              "      fill: #174EA6;\n",
              "    }\n",
              "\n",
              "    [theme=dark] .colab-df-convert {\n",
              "      background-color: #3B4455;\n",
              "      fill: #D2E3FC;\n",
              "    }\n",
              "\n",
              "    [theme=dark] .colab-df-convert:hover {\n",
              "      background-color: #434B5C;\n",
              "      box-shadow: 0px 1px 3px 1px rgba(0, 0, 0, 0.15);\n",
              "      filter: drop-shadow(0px 1px 2px rgba(0, 0, 0, 0.3));\n",
              "      fill: #FFFFFF;\n",
              "    }\n",
              "  </style>\n",
              "\n",
              "      <script>\n",
              "        const buttonEl =\n",
              "          document.querySelector('#df-0d2e2eb3-c54b-40ed-a738-1344b9e20457 button.colab-df-convert');\n",
              "        buttonEl.style.display =\n",
              "          google.colab.kernel.accessAllowed ? 'block' : 'none';\n",
              "\n",
              "        async function convertToInteractive(key) {\n",
              "          const element = document.querySelector('#df-0d2e2eb3-c54b-40ed-a738-1344b9e20457');\n",
              "          const dataTable =\n",
              "            await google.colab.kernel.invokeFunction('convertToInteractive',\n",
              "                                                     [key], {});\n",
              "          if (!dataTable) return;\n",
              "\n",
              "          const docLinkHtml = 'Like what you see? Visit the ' +\n",
              "            '<a target=\"_blank\" href=https://colab.research.google.com/notebooks/data_table.ipynb>data table notebook</a>'\n",
              "            + ' to learn more about interactive tables.';\n",
              "          element.innerHTML = '';\n",
              "          dataTable['output_type'] = 'display_data';\n",
              "          await google.colab.output.renderOutput(dataTable, element);\n",
              "          const docLink = document.createElement('div');\n",
              "          docLink.innerHTML = docLinkHtml;\n",
              "          element.appendChild(docLink);\n",
              "        }\n",
              "      </script>\n",
              "    </div>\n",
              "  </div>\n",
              "  "
            ]
          },
          "metadata": {},
          "execution_count": 305
        }
      ]
    },
    {
      "cell_type": "markdown",
      "source": [
        "Importing Annotations"
      ],
      "metadata": {
        "id": "vaSE84FpkqAZ"
      }
    },
    {
      "cell_type": "code",
      "source": [
        "# import amazon data\n",
        "# pd.read_csv()\n",
        "#for testing\n",
        "\n",
        "amazon_data_all=pd.concat(dfs)\n",
        "amazon_data_all[\"annotations\"]=amazon_data_all[\"annotations\"].apply(extract_annotations)\n",
        "amazon_data=amazon_data_all[[\"id\",\"annotations\"]]"
      ],
      "metadata": {
        "id": "t2YQEC7iWOqY"
      },
      "execution_count": 306,
      "outputs": []
    },
    {
      "cell_type": "code",
      "source": [
        "all_annotators=set([y for x in amazon_data[\"annotations\"]for y in list(x.keys())])\n"
      ],
      "metadata": {
        "id": "cnycruLBlJ2x"
      },
      "execution_count": 307,
      "outputs": []
    },
    {
      "cell_type": "code",
      "source": [
        "for annotator in all_annotators:\n",
        "  by_annotator=amazon_data.explode(\"annotations\")[amazon_data.explode(\"annotations\").annotations==annotator]\n",
        "  by_annotator=by_annotator[[\"id\"]].merge(amazon_data,left_on=\"id\", right_on=\"id\")\n",
        "  by_annotator[\"annotations\"]=[x[annotator]for x in by_annotator[\"annotations\"]]\n",
        "  common_ann=by_annotator.merge(ground_truth, left_on=\"id\", right_on=\"id\")\n",
        "  common_ann[\"similarity\"]=common_ann[[\"annotations\",\"ground truth\"]].apply(jaccard_similarity,axis=1)\n",
        "  print(annotator,common_ann[\"similarity\"].mean())"
      ],
      "metadata": {
        "id": "rEWtZXxppMOD",
        "colab": {
          "base_uri": "https://localhost:8080/"
        },
        "outputId": "7daf329e-5f10-4c2e-d7be-c9dcc290f061"
      },
      "execution_count": 308,
      "outputs": [
        {
          "output_type": "stream",
          "name": "stdout",
          "text": [
            "B 1.0\n",
            "J 0.975\n",
            "K 0.9705882352941176\n"
          ]
        }
      ]
    },
    {
      "cell_type": "markdown",
      "source": [
        "### Amazons Annotations"
      ],
      "metadata": {
        "id": "ZI41ZoHtqTzy"
      }
    },
    {
      "cell_type": "markdown",
      "source": [
        "Check annotations that do not have a ground truth value"
      ],
      "metadata": {
        "id": "p_3Wjay-yg9X"
      }
    },
    {
      "cell_type": "code",
      "source": [
        "mask=[ x not in list(ground_truth.id) for x in amazon_data_all.id]\n",
        "amazon_no_gtruth=amazon_data_all[mask]\n",
        "amazon_no_gtruth[[\"id\",\"text\",\"annotations\"]].sample(5)"
      ],
      "metadata": {
        "id": "nasPfAO9iJBf",
        "colab": {
          "base_uri": "https://localhost:8080/",
          "height": 206
        },
        "outputId": "10961086-d568-4756-e953-2fa2df3df0fa"
      },
      "execution_count": 309,
      "outputs": [
        {
          "output_type": "execute_result",
          "data": {
            "text/plain": [
              "                                        id  \\\n",
              "237   13b74bf9-3155-4c40-b3e9-9a52ca033ae0   \n",
              "34    accfde2f-22ac-4d67-a19c-629047dcf8b6   \n",
              "1382  37da3a63-abc8-413e-95cd-a7607e08364c   \n",
              "405   23b73213-12ea-4f20-a063-f150e9856ebb   \n",
              "1951  becced3c-9109-4923-88ef-6a35b8177a0c   \n",
              "\n",
              "                                                   text  \\\n",
              "237   Bornheim. Zu einem Fall häuslicher Gewalt ist ...   \n",
              "34    Ein 34-Jähriger soll im hessischen Limburg sei...   \n",
              "1382  .] so treffend: ,Vor ziemlich genau einem Jahr...   \n",
              "405   Anlässlich des Internationalen Frauentags biet...   \n",
              "1951  Mit der Lösung namens Werner Martinato sollen ...   \n",
              "\n",
              "                                            annotations  \n",
              "237                        {'K': {'Domestic Violence'}}  \n",
              "34    {'K': {'Graphic'}, 'J': {'Domestic Violence'},...  \n",
              "1382                       {'K': {'Domestic Violence'}}  \n",
              "405                        {'K': {'Domestic Violence'}}  \n",
              "1951                       {'K': {'Domestic Violence'}}  "
            ],
            "text/html": [
              "\n",
              "  <div id=\"df-377739d2-6f1c-40e0-a225-af529d9532cd\">\n",
              "    <div class=\"colab-df-container\">\n",
              "      <div>\n",
              "<style scoped>\n",
              "    .dataframe tbody tr th:only-of-type {\n",
              "        vertical-align: middle;\n",
              "    }\n",
              "\n",
              "    .dataframe tbody tr th {\n",
              "        vertical-align: top;\n",
              "    }\n",
              "\n",
              "    .dataframe thead th {\n",
              "        text-align: right;\n",
              "    }\n",
              "</style>\n",
              "<table border=\"1\" class=\"dataframe\">\n",
              "  <thead>\n",
              "    <tr style=\"text-align: right;\">\n",
              "      <th></th>\n",
              "      <th>id</th>\n",
              "      <th>text</th>\n",
              "      <th>annotations</th>\n",
              "    </tr>\n",
              "  </thead>\n",
              "  <tbody>\n",
              "    <tr>\n",
              "      <th>237</th>\n",
              "      <td>13b74bf9-3155-4c40-b3e9-9a52ca033ae0</td>\n",
              "      <td>Bornheim. Zu einem Fall häuslicher Gewalt ist ...</td>\n",
              "      <td>{'K': {'Domestic Violence'}}</td>\n",
              "    </tr>\n",
              "    <tr>\n",
              "      <th>34</th>\n",
              "      <td>accfde2f-22ac-4d67-a19c-629047dcf8b6</td>\n",
              "      <td>Ein 34-Jähriger soll im hessischen Limburg sei...</td>\n",
              "      <td>{'K': {'Graphic'}, 'J': {'Domestic Violence'},...</td>\n",
              "    </tr>\n",
              "    <tr>\n",
              "      <th>1382</th>\n",
              "      <td>37da3a63-abc8-413e-95cd-a7607e08364c</td>\n",
              "      <td>.] so treffend: ,Vor ziemlich genau einem Jahr...</td>\n",
              "      <td>{'K': {'Domestic Violence'}}</td>\n",
              "    </tr>\n",
              "    <tr>\n",
              "      <th>405</th>\n",
              "      <td>23b73213-12ea-4f20-a063-f150e9856ebb</td>\n",
              "      <td>Anlässlich des Internationalen Frauentags biet...</td>\n",
              "      <td>{'K': {'Domestic Violence'}}</td>\n",
              "    </tr>\n",
              "    <tr>\n",
              "      <th>1951</th>\n",
              "      <td>becced3c-9109-4923-88ef-6a35b8177a0c</td>\n",
              "      <td>Mit der Lösung namens Werner Martinato sollen ...</td>\n",
              "      <td>{'K': {'Domestic Violence'}}</td>\n",
              "    </tr>\n",
              "  </tbody>\n",
              "</table>\n",
              "</div>\n",
              "      <button class=\"colab-df-convert\" onclick=\"convertToInteractive('df-377739d2-6f1c-40e0-a225-af529d9532cd')\"\n",
              "              title=\"Convert this dataframe to an interactive table.\"\n",
              "              style=\"display:none;\">\n",
              "        \n",
              "  <svg xmlns=\"http://www.w3.org/2000/svg\" height=\"24px\"viewBox=\"0 0 24 24\"\n",
              "       width=\"24px\">\n",
              "    <path d=\"M0 0h24v24H0V0z\" fill=\"none\"/>\n",
              "    <path d=\"M18.56 5.44l.94 2.06.94-2.06 2.06-.94-2.06-.94-.94-2.06-.94 2.06-2.06.94zm-11 1L8.5 8.5l.94-2.06 2.06-.94-2.06-.94L8.5 2.5l-.94 2.06-2.06.94zm10 10l.94 2.06.94-2.06 2.06-.94-2.06-.94-.94-2.06-.94 2.06-2.06.94z\"/><path d=\"M17.41 7.96l-1.37-1.37c-.4-.4-.92-.59-1.43-.59-.52 0-1.04.2-1.43.59L10.3 9.45l-7.72 7.72c-.78.78-.78 2.05 0 2.83L4 21.41c.39.39.9.59 1.41.59.51 0 1.02-.2 1.41-.59l7.78-7.78 2.81-2.81c.8-.78.8-2.07 0-2.86zM5.41 20L4 18.59l7.72-7.72 1.47 1.35L5.41 20z\"/>\n",
              "  </svg>\n",
              "      </button>\n",
              "      \n",
              "  <style>\n",
              "    .colab-df-container {\n",
              "      display:flex;\n",
              "      flex-wrap:wrap;\n",
              "      gap: 12px;\n",
              "    }\n",
              "\n",
              "    .colab-df-convert {\n",
              "      background-color: #E8F0FE;\n",
              "      border: none;\n",
              "      border-radius: 50%;\n",
              "      cursor: pointer;\n",
              "      display: none;\n",
              "      fill: #1967D2;\n",
              "      height: 32px;\n",
              "      padding: 0 0 0 0;\n",
              "      width: 32px;\n",
              "    }\n",
              "\n",
              "    .colab-df-convert:hover {\n",
              "      background-color: #E2EBFA;\n",
              "      box-shadow: 0px 1px 2px rgba(60, 64, 67, 0.3), 0px 1px 3px 1px rgba(60, 64, 67, 0.15);\n",
              "      fill: #174EA6;\n",
              "    }\n",
              "\n",
              "    [theme=dark] .colab-df-convert {\n",
              "      background-color: #3B4455;\n",
              "      fill: #D2E3FC;\n",
              "    }\n",
              "\n",
              "    [theme=dark] .colab-df-convert:hover {\n",
              "      background-color: #434B5C;\n",
              "      box-shadow: 0px 1px 3px 1px rgba(0, 0, 0, 0.15);\n",
              "      filter: drop-shadow(0px 1px 2px rgba(0, 0, 0, 0.3));\n",
              "      fill: #FFFFFF;\n",
              "    }\n",
              "  </style>\n",
              "\n",
              "      <script>\n",
              "        const buttonEl =\n",
              "          document.querySelector('#df-377739d2-6f1c-40e0-a225-af529d9532cd button.colab-df-convert');\n",
              "        buttonEl.style.display =\n",
              "          google.colab.kernel.accessAllowed ? 'block' : 'none';\n",
              "\n",
              "        async function convertToInteractive(key) {\n",
              "          const element = document.querySelector('#df-377739d2-6f1c-40e0-a225-af529d9532cd');\n",
              "          const dataTable =\n",
              "            await google.colab.kernel.invokeFunction('convertToInteractive',\n",
              "                                                     [key], {});\n",
              "          if (!dataTable) return;\n",
              "\n",
              "          const docLinkHtml = 'Like what you see? Visit the ' +\n",
              "            '<a target=\"_blank\" href=https://colab.research.google.com/notebooks/data_table.ipynb>data table notebook</a>'\n",
              "            + ' to learn more about interactive tables.';\n",
              "          element.innerHTML = '';\n",
              "          dataTable['output_type'] = 'display_data';\n",
              "          await google.colab.output.renderOutput(dataTable, element);\n",
              "          const docLink = document.createElement('div');\n",
              "          docLink.innerHTML = docLinkHtml;\n",
              "          element.appendChild(docLink);\n",
              "        }\n",
              "      </script>\n",
              "    </div>\n",
              "  </div>\n",
              "  "
            ]
          },
          "metadata": {},
          "execution_count": 309
        }
      ]
    }
  ]
}