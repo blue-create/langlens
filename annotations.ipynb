{
  "nbformat": 4,
  "nbformat_minor": 0,
  "metadata": {
    "colab": {
      "provenance": [],
      "toc_visible": true,
      "authorship_tag": "ABX9TyO49GbziOsh3UJo4VcAsxcd"
    },
    "kernelspec": {
      "name": "python3",
      "display_name": "Python 3"
    },
    "language_info": {
      "name": "python"
    }
  },
  "cells": [
    {
      "cell_type": "markdown",
      "source": [
        "### Imports"
      ],
      "metadata": {
        "id": "jfKRiyr4WMEM"
      }
    },
    {
      "cell_type": "code",
      "execution_count": 223,
      "metadata": {
        "id": "DjwlSYh0VqWt"
      },
      "outputs": [],
      "source": [
        "import pandas as pd\n",
        "import os\n",
        "import json\n",
        "from tqdm import tqdm \n",
        "import numpy as np"
      ]
    },
    {
      "cell_type": "code",
      "source": [
        "# connect with google drive\n",
        "from google.colab import drive\n",
        "drive.mount('/content/drive')"
      ],
      "metadata": {
        "colab": {
          "base_uri": "https://localhost:8080/"
        },
        "id": "3-gEE8t61TyI",
        "outputId": "abe7e6d8-9bee-44be-83b0-77f95ad43942"
      },
      "execution_count": 224,
      "outputs": [
        {
          "output_type": "stream",
          "name": "stdout",
          "text": [
            "Drive already mounted at /content/drive; to attempt to forcibly remount, call drive.mount(\"/content/drive\", force_remount=True).\n"
          ]
        }
      ]
    },
    {
      "cell_type": "code",
      "source": [
        "# redirect the working directory of this script to the data folder\n",
        "%cd /content/drive/MyDrive/Work/Frontline/data/"
      ],
      "metadata": {
        "colab": {
          "base_uri": "https://localhost:8080/"
        },
        "id": "UG1MwJ4Y1U_h",
        "outputId": "4dce479b-e07b-423a-fa9f-bb30e2f4a9a6"
      },
      "execution_count": 225,
      "outputs": [
        {
          "output_type": "stream",
          "name": "stdout",
          "text": [
            "/content/drive/.shortcut-targets-by-id/1WfnZsqpG1r110J63sMbfS5TpsDOkveiV/data\n"
          ]
        }
      ]
    },
    {
      "cell_type": "markdown",
      "source": [
        "### Import Annotations"
      ],
      "metadata": {
        "id": "4tZmmwiAnSNm"
      }
    },
    {
      "cell_type": "markdown",
      "source": [
        "Merge all annotation files"
      ],
      "metadata": {
        "id": "ugdSIME9mH1y"
      }
    },
    {
      "cell_type": "code",
      "source": [
        "dfs=[]\n",
        "for doc in os.listdir(\"annotated\"):\n",
        "  if doc.startswith(\"annotations\"):\n",
        "    #read json data\n",
        "    json_data=json.load(open(\"annotated/\"+doc, encoding=\"utf-8\"))\n",
        "    #convert to dataframe\n",
        "    data=pd.DataFrame(json_data[\"documents\"])\n",
        "    #for now: filter out paragraphs that have not been annotated \n",
        "    data=data[data[\"annotations\"].apply(len)>0]    \n",
        "    dfs.append(data)\n"
      ],
      "metadata": {
        "id": "SxbQ1IyAYVI0"
      },
      "execution_count": 226,
      "outputs": []
    },
    {
      "cell_type": "code",
      "execution_count": 227,
      "metadata": {
        "id": "Ue5Z2rnAE_yQ"
      },
      "outputs": [],
      "source": [
        "# merge jsons\n",
        "data=pd.concat(dfs)\n",
        "data=data.reset_index(drop=True)"
      ]
    },
    {
      "cell_type": "markdown",
      "source": [
        "### Extract Labels by Annotator\n",
        "Extract each label by annotator to compare the intraclass correlation coefficient of our own annotations"
      ],
      "metadata": {
        "id": "TUnq71EGpBFn"
      }
    },
    {
      "cell_type": "code",
      "source": [
        "def extract_annotations(test):\n",
        "  ann_dict=dict()\n",
        "  for ann in test:\n",
        "    ### FOR NOW: later change to id\n",
        "    name=ann[\"annotator\"][\"name\"][0]\n",
        "    # Remane old label names\n",
        "    label=update_label(ann[\"concept\"][\"preferred_label\"][\"name\"])\n",
        "    if name in ann_dict.keys():\n",
        "      ann_dict[name].append(label)\n",
        "    else:\n",
        "      ann_dict[name]=[label]\n",
        "  #remove duplicates\n",
        "  for key in ann_dict.keys():\n",
        "    ann_dict[key]=set(ann_dict[key])\n",
        "  return ann_dict"
      ],
      "metadata": {
        "id": "n5Wpsepw-zka"
      },
      "execution_count": 228,
      "outputs": []
    },
    {
      "cell_type": "code",
      "source": [
        "def update_label(label):\n",
        "  if label==\"NA\":\n",
        "    return \"Domestic Violence\"\n",
        "  elif label==\"Victim blaming\":\n",
        "    return 'Statement of responsibility'\n",
        "  else:\n",
        "    return label"
      ],
      "metadata": {
        "id": "LgUL_WVnRLlF"
      },
      "execution_count": 229,
      "outputs": []
    },
    {
      "cell_type": "code",
      "source": [
        "data[\"annotations\"]=data[\"annotations\"].apply(extract_annotations)"
      ],
      "metadata": {
        "id": "e4qbX-SQ8V2V"
      },
      "execution_count": 230,
      "outputs": []
    },
    {
      "cell_type": "code",
      "source": [
        "data.head()"
      ],
      "metadata": {
        "colab": {
          "base_uri": "https://localhost:8080/",
          "height": 337
        },
        "id": "O07P_FD-jkdR",
        "outputId": "b5d79486-70c8-4f96-f67d-9f832bb30438"
      },
      "execution_count": 231,
      "outputs": [
        {
          "output_type": "execute_result",
          "data": {
            "text/plain": [
              "                                     id  \\\n",
              "0  4572dea4-6a08-4f1e-b312-5821112bb5f5   \n",
              "1  0bcada32-8dc5-41cf-b83b-67d2e742bada   \n",
              "2  a30791b9-522e-45c1-8b33-79d4165282af   \n",
              "3  043e3909-bcdd-4c6b-a54f-f947d46ad18e   \n",
              "4  08cef91c-6d73-472c-8349-07a5b72009d1   \n",
              "\n",
              "                                                text  \\\n",
              "0  Ein Mann (25) ist jetzt vom Schöffengericht am...   \n",
              "1  Als Zeugin trat die Ex-Lebensgefährtin des Syr...   \n",
              "2  Zunächst leugnete der Angeklagte, dass es über...   \n",
              "3  Das Schöffengericht hatte es in diesem Fall of...   \n",
              "4  \"Gewalt in der Familie ist weder Privatsache n...   \n",
              "\n",
              "                                         annotations  \\\n",
              "0                       {'J': {'Domestic Violence'}}   \n",
              "1             {'J': {'Statement of responsibility'}}   \n",
              "2             {'J': {'Statement of responsibility'}}   \n",
              "3  {'J': {'Sensationalist', 'Statement of respons...   \n",
              "4                       {'J': {'Domestic Violence'}}   \n",
              "\n",
              "                                     attributes_flat  \n",
              "0  {'artikel_id': 'F3A4578D33A8603DF0573D3DE3CB26...  \n",
              "1  {'artikel_id': 'F3A4578D33A8603DF0573D3DE3CB26...  \n",
              "2  {'artikel_id': 'F3A4578D33A8603DF0573D3DE3CB26...  \n",
              "3  {'artikel_id': 'F3A4578D33A8603DF0573D3DE3CB26...  \n",
              "4  {'artikel_id': 'IRA-82182598', 'name': 'SÜDWES...  "
            ],
            "text/html": [
              "\n",
              "  <div id=\"df-e2bed25a-cbea-4109-a7da-e0aec5e96e46\">\n",
              "    <div class=\"colab-df-container\">\n",
              "      <div>\n",
              "<style scoped>\n",
              "    .dataframe tbody tr th:only-of-type {\n",
              "        vertical-align: middle;\n",
              "    }\n",
              "\n",
              "    .dataframe tbody tr th {\n",
              "        vertical-align: top;\n",
              "    }\n",
              "\n",
              "    .dataframe thead th {\n",
              "        text-align: right;\n",
              "    }\n",
              "</style>\n",
              "<table border=\"1\" class=\"dataframe\">\n",
              "  <thead>\n",
              "    <tr style=\"text-align: right;\">\n",
              "      <th></th>\n",
              "      <th>id</th>\n",
              "      <th>text</th>\n",
              "      <th>annotations</th>\n",
              "      <th>attributes_flat</th>\n",
              "    </tr>\n",
              "  </thead>\n",
              "  <tbody>\n",
              "    <tr>\n",
              "      <th>0</th>\n",
              "      <td>4572dea4-6a08-4f1e-b312-5821112bb5f5</td>\n",
              "      <td>Ein Mann (25) ist jetzt vom Schöffengericht am...</td>\n",
              "      <td>{'J': {'Domestic Violence'}}</td>\n",
              "      <td>{'artikel_id': 'F3A4578D33A8603DF0573D3DE3CB26...</td>\n",
              "    </tr>\n",
              "    <tr>\n",
              "      <th>1</th>\n",
              "      <td>0bcada32-8dc5-41cf-b83b-67d2e742bada</td>\n",
              "      <td>Als Zeugin trat die Ex-Lebensgefährtin des Syr...</td>\n",
              "      <td>{'J': {'Statement of responsibility'}}</td>\n",
              "      <td>{'artikel_id': 'F3A4578D33A8603DF0573D3DE3CB26...</td>\n",
              "    </tr>\n",
              "    <tr>\n",
              "      <th>2</th>\n",
              "      <td>a30791b9-522e-45c1-8b33-79d4165282af</td>\n",
              "      <td>Zunächst leugnete der Angeklagte, dass es über...</td>\n",
              "      <td>{'J': {'Statement of responsibility'}}</td>\n",
              "      <td>{'artikel_id': 'F3A4578D33A8603DF0573D3DE3CB26...</td>\n",
              "    </tr>\n",
              "    <tr>\n",
              "      <th>3</th>\n",
              "      <td>043e3909-bcdd-4c6b-a54f-f947d46ad18e</td>\n",
              "      <td>Das Schöffengericht hatte es in diesem Fall of...</td>\n",
              "      <td>{'J': {'Sensationalist', 'Statement of respons...</td>\n",
              "      <td>{'artikel_id': 'F3A4578D33A8603DF0573D3DE3CB26...</td>\n",
              "    </tr>\n",
              "    <tr>\n",
              "      <th>4</th>\n",
              "      <td>08cef91c-6d73-472c-8349-07a5b72009d1</td>\n",
              "      <td>\"Gewalt in der Familie ist weder Privatsache n...</td>\n",
              "      <td>{'J': {'Domestic Violence'}}</td>\n",
              "      <td>{'artikel_id': 'IRA-82182598', 'name': 'SÜDWES...</td>\n",
              "    </tr>\n",
              "  </tbody>\n",
              "</table>\n",
              "</div>\n",
              "      <button class=\"colab-df-convert\" onclick=\"convertToInteractive('df-e2bed25a-cbea-4109-a7da-e0aec5e96e46')\"\n",
              "              title=\"Convert this dataframe to an interactive table.\"\n",
              "              style=\"display:none;\">\n",
              "        \n",
              "  <svg xmlns=\"http://www.w3.org/2000/svg\" height=\"24px\"viewBox=\"0 0 24 24\"\n",
              "       width=\"24px\">\n",
              "    <path d=\"M0 0h24v24H0V0z\" fill=\"none\"/>\n",
              "    <path d=\"M18.56 5.44l.94 2.06.94-2.06 2.06-.94-2.06-.94-.94-2.06-.94 2.06-2.06.94zm-11 1L8.5 8.5l.94-2.06 2.06-.94-2.06-.94L8.5 2.5l-.94 2.06-2.06.94zm10 10l.94 2.06.94-2.06 2.06-.94-2.06-.94-.94-2.06-.94 2.06-2.06.94z\"/><path d=\"M17.41 7.96l-1.37-1.37c-.4-.4-.92-.59-1.43-.59-.52 0-1.04.2-1.43.59L10.3 9.45l-7.72 7.72c-.78.78-.78 2.05 0 2.83L4 21.41c.39.39.9.59 1.41.59.51 0 1.02-.2 1.41-.59l7.78-7.78 2.81-2.81c.8-.78.8-2.07 0-2.86zM5.41 20L4 18.59l7.72-7.72 1.47 1.35L5.41 20z\"/>\n",
              "  </svg>\n",
              "      </button>\n",
              "      \n",
              "  <style>\n",
              "    .colab-df-container {\n",
              "      display:flex;\n",
              "      flex-wrap:wrap;\n",
              "      gap: 12px;\n",
              "    }\n",
              "\n",
              "    .colab-df-convert {\n",
              "      background-color: #E8F0FE;\n",
              "      border: none;\n",
              "      border-radius: 50%;\n",
              "      cursor: pointer;\n",
              "      display: none;\n",
              "      fill: #1967D2;\n",
              "      height: 32px;\n",
              "      padding: 0 0 0 0;\n",
              "      width: 32px;\n",
              "    }\n",
              "\n",
              "    .colab-df-convert:hover {\n",
              "      background-color: #E2EBFA;\n",
              "      box-shadow: 0px 1px 2px rgba(60, 64, 67, 0.3), 0px 1px 3px 1px rgba(60, 64, 67, 0.15);\n",
              "      fill: #174EA6;\n",
              "    }\n",
              "\n",
              "    [theme=dark] .colab-df-convert {\n",
              "      background-color: #3B4455;\n",
              "      fill: #D2E3FC;\n",
              "    }\n",
              "\n",
              "    [theme=dark] .colab-df-convert:hover {\n",
              "      background-color: #434B5C;\n",
              "      box-shadow: 0px 1px 3px 1px rgba(0, 0, 0, 0.15);\n",
              "      filter: drop-shadow(0px 1px 2px rgba(0, 0, 0, 0.3));\n",
              "      fill: #FFFFFF;\n",
              "    }\n",
              "  </style>\n",
              "\n",
              "      <script>\n",
              "        const buttonEl =\n",
              "          document.querySelector('#df-e2bed25a-cbea-4109-a7da-e0aec5e96e46 button.colab-df-convert');\n",
              "        buttonEl.style.display =\n",
              "          google.colab.kernel.accessAllowed ? 'block' : 'none';\n",
              "\n",
              "        async function convertToInteractive(key) {\n",
              "          const element = document.querySelector('#df-e2bed25a-cbea-4109-a7da-e0aec5e96e46');\n",
              "          const dataTable =\n",
              "            await google.colab.kernel.invokeFunction('convertToInteractive',\n",
              "                                                     [key], {});\n",
              "          if (!dataTable) return;\n",
              "\n",
              "          const docLinkHtml = 'Like what you see? Visit the ' +\n",
              "            '<a target=\"_blank\" href=https://colab.research.google.com/notebooks/data_table.ipynb>data table notebook</a>'\n",
              "            + ' to learn more about interactive tables.';\n",
              "          element.innerHTML = '';\n",
              "          dataTable['output_type'] = 'display_data';\n",
              "          await google.colab.output.renderOutput(dataTable, element);\n",
              "          const docLink = document.createElement('div');\n",
              "          docLink.innerHTML = docLinkHtml;\n",
              "          element.appendChild(docLink);\n",
              "        }\n",
              "      </script>\n",
              "    </div>\n",
              "  </div>\n",
              "  "
            ]
          },
          "metadata": {},
          "execution_count": 231
        }
      ]
    },
    {
      "cell_type": "markdown",
      "source": [
        "### Intraclass Correlation Coefficient (own annotations)\n",
        "Compare all co-assigned paragraphs "
      ],
      "metadata": {
        "id": "rZiKztH2pD1X"
      }
    },
    {
      "cell_type": "code",
      "source": [
        "def jaccard_similarity(sets):\n",
        "    # Calculate the intersection\n",
        "    intersection = set.intersection(*sets)\n",
        "    \n",
        "    # Calculate the union\n",
        "    union = set.union(*sets)\n",
        "    \n",
        "    # Compute the Jaccard similarity\n",
        "    similarity = len(intersection) / len(union)\n",
        "    \n",
        "    return similarity"
      ],
      "metadata": {
        "id": "dQlBYt6gBZHn"
      },
      "execution_count": 212,
      "outputs": []
    },
    {
      "cell_type": "code",
      "source": [
        "def calculate_similarity(annotations: dict, sim=\"jaccard\"):\n",
        "  #if no co-annotation\n",
        "  if len(annotations)==1:\n",
        "    return np.nan\n",
        "  else:\n",
        "    if sim==\"jaccard\":\n",
        "      return jaccard_similarity(list(annotations.values()))\n",
        "    elif sim==\"dice\":\n",
        "      return dice_similarity_multiple(list(annotations.values()))"
      ],
      "metadata": {
        "id": "8lhjS3_mAp_A"
      },
      "execution_count": 213,
      "outputs": []
    },
    {
      "cell_type": "code",
      "source": [
        "def dice_similarity_multiple(sets):\n",
        "    num_sets = len(sets)\n",
        "    similarity_sum = 0\n",
        "\n",
        "    # Pairwise comparisons\n",
        "    for i in range(num_sets - 1):\n",
        "        for j in range(i + 1, num_sets):\n",
        "            set1 = sets[i]\n",
        "            set2 = sets[j]\n",
        "            \n",
        "            # Calculate the intersection\n",
        "            intersection = set1.intersection(set2)\n",
        "            \n",
        "            # Calculate the sum of set sizes\n",
        "            set_sum = len(set1) + len(set2)\n",
        "            \n",
        "            # Compute the Dice similarity coefficient\n",
        "            similarity = 2 * len(intersection) / set_sum\n",
        "            \n",
        "            similarity_sum += similarity\n",
        "\n",
        "    # Calculate the average similarity\n",
        "    average_similarity = similarity_sum / (num_sets * (num_sets - 1) / 2)\n",
        "    \n",
        "    return average_similarity"
      ],
      "metadata": {
        "id": "djS2QtWRGFae"
      },
      "execution_count": 214,
      "outputs": []
    },
    {
      "cell_type": "code",
      "source": [
        "data[\"jaccard\"]=data[\"annotations\"].apply(calculate_similarity)\n",
        "data[\"dice\"]=data[\"annotations\"].apply(calculate_similarity,args=[\"dice\"])"
      ],
      "metadata": {
        "id": "yrjyv7lY32Fi"
      },
      "execution_count": 215,
      "outputs": []
    },
    {
      "cell_type": "code",
      "source": [
        "data[~data[\"jaccard\"].isnull()].head()"
      ],
      "metadata": {
        "colab": {
          "base_uri": "https://localhost:8080/",
          "height": 337
        },
        "id": "RVCDyVAvSnzt",
        "outputId": "ead9998d-87f9-40d0-bbae-5fa69a1b8bb3"
      },
      "execution_count": 216,
      "outputs": [
        {
          "output_type": "execute_result",
          "data": {
            "text/plain": [
              "                                      id  \\\n",
              "3   043e3909-bcdd-4c6b-a54f-f947d46ad18e   \n",
              "20  4dfd6faf-e631-4f0e-83cc-cee4b69a9632   \n",
              "23  0cb62255-3781-4466-b9ac-e29c29714d9f   \n",
              "44  0964c70c-687f-4d9b-9c9d-555b3853a456   \n",
              "50  0b701b26-4e70-4514-8c9b-355bf042acbc   \n",
              "\n",
              "                                                 text  \\\n",
              "3   Das Schöffengericht hatte es in diesem Fall of...   \n",
              "20  Berlin -  Sie war jung, hübsch und intelligent...   \n",
              "23  Möglicherweise war ihr Job in Kiel auch der Gr...   \n",
              "44  Das Frauenhaus Osterode sei durchgängig voll b...   \n",
              "50  Frankfurt. Von der 43-Jährigen fehlt noch imme...   \n",
              "\n",
              "                                          annotations  \\\n",
              "3   {'J': {'Sensationalist', 'Statement of respons...   \n",
              "20  {'K': {'Sensationalist'}, 'J': {'Sensationalis...   \n",
              "23  {'K': {'Sensationalist', 'Statement of respons...   \n",
              "44  {'J': {'Domestic Violence'}, 'B': {'Domestic V...   \n",
              "50  {'J': {'Domestic Violence'}, 'B': {'Domestic V...   \n",
              "\n",
              "                                      attributes_flat  jaccard      dice  \n",
              "3   {'artikel_id': 'F3A4578D33A8603DF0573D3DE3CB26...      0.0  0.444444  \n",
              "20  {'artikel_id': 'MDS-A-A696462F-F0DB-42E7-BADD-...      0.5  0.666667  \n",
              "23  {'artikel_id': 'MDS-A-A696462F-F0DB-42E7-BADD-...      0.5  0.666667  \n",
              "44  {'artikel_id': '721580E0DCDD055C72CE05C3135E41...      1.0  1.000000  \n",
              "50  {'artikel_id': '20271339FA53F1033000', 'name':...      1.0  1.000000  "
            ],
            "text/html": [
              "\n",
              "  <div id=\"df-50b308e6-34bb-4fc8-97a0-1c01e1ae5304\">\n",
              "    <div class=\"colab-df-container\">\n",
              "      <div>\n",
              "<style scoped>\n",
              "    .dataframe tbody tr th:only-of-type {\n",
              "        vertical-align: middle;\n",
              "    }\n",
              "\n",
              "    .dataframe tbody tr th {\n",
              "        vertical-align: top;\n",
              "    }\n",
              "\n",
              "    .dataframe thead th {\n",
              "        text-align: right;\n",
              "    }\n",
              "</style>\n",
              "<table border=\"1\" class=\"dataframe\">\n",
              "  <thead>\n",
              "    <tr style=\"text-align: right;\">\n",
              "      <th></th>\n",
              "      <th>id</th>\n",
              "      <th>text</th>\n",
              "      <th>annotations</th>\n",
              "      <th>attributes_flat</th>\n",
              "      <th>jaccard</th>\n",
              "      <th>dice</th>\n",
              "    </tr>\n",
              "  </thead>\n",
              "  <tbody>\n",
              "    <tr>\n",
              "      <th>3</th>\n",
              "      <td>043e3909-bcdd-4c6b-a54f-f947d46ad18e</td>\n",
              "      <td>Das Schöffengericht hatte es in diesem Fall of...</td>\n",
              "      <td>{'J': {'Sensationalist', 'Statement of respons...</td>\n",
              "      <td>{'artikel_id': 'F3A4578D33A8603DF0573D3DE3CB26...</td>\n",
              "      <td>0.0</td>\n",
              "      <td>0.444444</td>\n",
              "    </tr>\n",
              "    <tr>\n",
              "      <th>20</th>\n",
              "      <td>4dfd6faf-e631-4f0e-83cc-cee4b69a9632</td>\n",
              "      <td>Berlin -  Sie war jung, hübsch und intelligent...</td>\n",
              "      <td>{'K': {'Sensationalist'}, 'J': {'Sensationalis...</td>\n",
              "      <td>{'artikel_id': 'MDS-A-A696462F-F0DB-42E7-BADD-...</td>\n",
              "      <td>0.5</td>\n",
              "      <td>0.666667</td>\n",
              "    </tr>\n",
              "    <tr>\n",
              "      <th>23</th>\n",
              "      <td>0cb62255-3781-4466-b9ac-e29c29714d9f</td>\n",
              "      <td>Möglicherweise war ihr Job in Kiel auch der Gr...</td>\n",
              "      <td>{'K': {'Sensationalist', 'Statement of respons...</td>\n",
              "      <td>{'artikel_id': 'MDS-A-A696462F-F0DB-42E7-BADD-...</td>\n",
              "      <td>0.5</td>\n",
              "      <td>0.666667</td>\n",
              "    </tr>\n",
              "    <tr>\n",
              "      <th>44</th>\n",
              "      <td>0964c70c-687f-4d9b-9c9d-555b3853a456</td>\n",
              "      <td>Das Frauenhaus Osterode sei durchgängig voll b...</td>\n",
              "      <td>{'J': {'Domestic Violence'}, 'B': {'Domestic V...</td>\n",
              "      <td>{'artikel_id': '721580E0DCDD055C72CE05C3135E41...</td>\n",
              "      <td>1.0</td>\n",
              "      <td>1.000000</td>\n",
              "    </tr>\n",
              "    <tr>\n",
              "      <th>50</th>\n",
              "      <td>0b701b26-4e70-4514-8c9b-355bf042acbc</td>\n",
              "      <td>Frankfurt. Von der 43-Jährigen fehlt noch imme...</td>\n",
              "      <td>{'J': {'Domestic Violence'}, 'B': {'Domestic V...</td>\n",
              "      <td>{'artikel_id': '20271339FA53F1033000', 'name':...</td>\n",
              "      <td>1.0</td>\n",
              "      <td>1.000000</td>\n",
              "    </tr>\n",
              "  </tbody>\n",
              "</table>\n",
              "</div>\n",
              "      <button class=\"colab-df-convert\" onclick=\"convertToInteractive('df-50b308e6-34bb-4fc8-97a0-1c01e1ae5304')\"\n",
              "              title=\"Convert this dataframe to an interactive table.\"\n",
              "              style=\"display:none;\">\n",
              "        \n",
              "  <svg xmlns=\"http://www.w3.org/2000/svg\" height=\"24px\"viewBox=\"0 0 24 24\"\n",
              "       width=\"24px\">\n",
              "    <path d=\"M0 0h24v24H0V0z\" fill=\"none\"/>\n",
              "    <path d=\"M18.56 5.44l.94 2.06.94-2.06 2.06-.94-2.06-.94-.94-2.06-.94 2.06-2.06.94zm-11 1L8.5 8.5l.94-2.06 2.06-.94-2.06-.94L8.5 2.5l-.94 2.06-2.06.94zm10 10l.94 2.06.94-2.06 2.06-.94-2.06-.94-.94-2.06-.94 2.06-2.06.94z\"/><path d=\"M17.41 7.96l-1.37-1.37c-.4-.4-.92-.59-1.43-.59-.52 0-1.04.2-1.43.59L10.3 9.45l-7.72 7.72c-.78.78-.78 2.05 0 2.83L4 21.41c.39.39.9.59 1.41.59.51 0 1.02-.2 1.41-.59l7.78-7.78 2.81-2.81c.8-.78.8-2.07 0-2.86zM5.41 20L4 18.59l7.72-7.72 1.47 1.35L5.41 20z\"/>\n",
              "  </svg>\n",
              "      </button>\n",
              "      \n",
              "  <style>\n",
              "    .colab-df-container {\n",
              "      display:flex;\n",
              "      flex-wrap:wrap;\n",
              "      gap: 12px;\n",
              "    }\n",
              "\n",
              "    .colab-df-convert {\n",
              "      background-color: #E8F0FE;\n",
              "      border: none;\n",
              "      border-radius: 50%;\n",
              "      cursor: pointer;\n",
              "      display: none;\n",
              "      fill: #1967D2;\n",
              "      height: 32px;\n",
              "      padding: 0 0 0 0;\n",
              "      width: 32px;\n",
              "    }\n",
              "\n",
              "    .colab-df-convert:hover {\n",
              "      background-color: #E2EBFA;\n",
              "      box-shadow: 0px 1px 2px rgba(60, 64, 67, 0.3), 0px 1px 3px 1px rgba(60, 64, 67, 0.15);\n",
              "      fill: #174EA6;\n",
              "    }\n",
              "\n",
              "    [theme=dark] .colab-df-convert {\n",
              "      background-color: #3B4455;\n",
              "      fill: #D2E3FC;\n",
              "    }\n",
              "\n",
              "    [theme=dark] .colab-df-convert:hover {\n",
              "      background-color: #434B5C;\n",
              "      box-shadow: 0px 1px 3px 1px rgba(0, 0, 0, 0.15);\n",
              "      filter: drop-shadow(0px 1px 2px rgba(0, 0, 0, 0.3));\n",
              "      fill: #FFFFFF;\n",
              "    }\n",
              "  </style>\n",
              "\n",
              "      <script>\n",
              "        const buttonEl =\n",
              "          document.querySelector('#df-50b308e6-34bb-4fc8-97a0-1c01e1ae5304 button.colab-df-convert');\n",
              "        buttonEl.style.display =\n",
              "          google.colab.kernel.accessAllowed ? 'block' : 'none';\n",
              "\n",
              "        async function convertToInteractive(key) {\n",
              "          const element = document.querySelector('#df-50b308e6-34bb-4fc8-97a0-1c01e1ae5304');\n",
              "          const dataTable =\n",
              "            await google.colab.kernel.invokeFunction('convertToInteractive',\n",
              "                                                     [key], {});\n",
              "          if (!dataTable) return;\n",
              "\n",
              "          const docLinkHtml = 'Like what you see? Visit the ' +\n",
              "            '<a target=\"_blank\" href=https://colab.research.google.com/notebooks/data_table.ipynb>data table notebook</a>'\n",
              "            + ' to learn more about interactive tables.';\n",
              "          element.innerHTML = '';\n",
              "          dataTable['output_type'] = 'display_data';\n",
              "          await google.colab.output.renderOutput(dataTable, element);\n",
              "          const docLink = document.createElement('div');\n",
              "          docLink.innerHTML = docLinkHtml;\n",
              "          element.appendChild(docLink);\n",
              "        }\n",
              "      </script>\n",
              "    </div>\n",
              "  </div>\n",
              "  "
            ]
          },
          "metadata": {},
          "execution_count": 216
        }
      ]
    },
    {
      "cell_type": "code",
      "source": [
        "print(\"Average jaccard similarity: \", round(data[\"jaccard\"].mean(),2))\n",
        "print(\"Average dice similarity: \", round(data[\"dice\"].mean(),2))"
      ],
      "metadata": {
        "colab": {
          "base_uri": "https://localhost:8080/"
        },
        "id": "RBt3SkNuTp5-",
        "outputId": "6adc6cb9-233f-471e-da93-c5a14f326638"
      },
      "execution_count": 217,
      "outputs": [
        {
          "output_type": "stream",
          "name": "stdout",
          "text": [
            "Average jaccard similarity:  0.7\n",
            "Average dice similarity:  0.78\n"
          ]
        }
      ]
    },
    {
      "cell_type": "markdown",
      "source": [
        "### Evaluating Amazons Annotations"
      ],
      "metadata": {
        "id": "p_kmQ-FgpOWu"
      }
    },
    {
      "cell_type": "markdown",
      "source": [
        "Extracting Ground Truth"
      ],
      "metadata": {
        "id": "1lrEqcgGks2K"
      }
    },
    {
      "cell_type": "code",
      "source": [
        "def ground_truth_filter(entry, min_coannotation=1, min_similarity=0.5, similarity=\"jaccard\"):\n",
        "  \"\"\"\n",
        "      Extracts ground truth value of the annotated sample based on two filters:\n",
        "      - a minimum number of people that annotated a text\n",
        "      - a minimum of similarity between all annotations of a text\n",
        "\n",
        "      Args:\n",
        "      - annotations (dict): a dictionary containing all annotations of a text with the annotator initial as key\n",
        "      - min_coannotation (int): minimum number of co-annotations of a text, by default 1, so all annotations are considered\n",
        "      - min_similarity (int): if more than one annotator, the value minimum value of similarity so that a value is considered ground truth\n",
        "\n",
        "      Returns:\n",
        "      - either:\n",
        "        - all_values (set): containing a set of values that are considered ground truth\n",
        "        - NaN: if the annotation does not fulfill the conditions set for ground truth\n",
        "  \"\"\"\n",
        "  if len(entry[\"annotations\"])<min_coannotation or entry[similarity]<min_similarity:\n",
        "    return np.nan\n",
        "  else:\n",
        "    all_values = [value for s in entry[\"annotations\"].values() for value in s]\n",
        "    return set(all_values)"
      ],
      "metadata": {
        "id": "whMNWT2pYbr4"
      },
      "execution_count": 219,
      "outputs": []
    },
    {
      "cell_type": "code",
      "source": [
        "ground_truth=data\n",
        "ground_truth[\"annotations\"]=ground_truth.apply(ground_truth_filter, 1, min_coannotation=2,min_similarity=0.6, similarity=\"dice\")\n",
        "ground_truth=ground_truth[~ground_truth[\"annotations\"].isnull()][[\"id\",\"annotations\"]]\n"
      ],
      "metadata": {
        "id": "04yo_bncdhQ5"
      },
      "execution_count": 220,
      "outputs": []
    },
    {
      "cell_type": "code",
      "source": [
        "# this variable contains all values that are considered ground truth based on the previous filter\n",
        "ground_truth=ground_truth.rename(columns={\"annotations\":\"ground truth\"})\n",
        "ground_truth.head()"
      ],
      "metadata": {
        "colab": {
          "base_uri": "https://localhost:8080/",
          "height": 206
        },
        "id": "ea8PitJtioTH",
        "outputId": "4bde2894-d726-436d-a3d3-c07feb788b1f"
      },
      "execution_count": 371,
      "outputs": [
        {
          "output_type": "execute_result",
          "data": {
            "text/plain": [
              "                                      id  \\\n",
              "20  4dfd6faf-e631-4f0e-83cc-cee4b69a9632   \n",
              "23  0cb62255-3781-4466-b9ac-e29c29714d9f   \n",
              "44  0964c70c-687f-4d9b-9c9d-555b3853a456   \n",
              "50  0b701b26-4e70-4514-8c9b-355bf042acbc   \n",
              "82  1c2f201d-b408-4c6f-a455-f45a947b41f6   \n",
              "\n",
              "                                     ground truth  \n",
              "20  {Sensationalist, Statement of responsibility}  \n",
              "23  {Sensationalist, Statement of responsibility}  \n",
              "44                            {Domestic Violence}  \n",
              "50                            {Domestic Violence}  \n",
              "82                               {Sensationalist}  "
            ],
            "text/html": [
              "\n",
              "  <div id=\"df-03ad9b63-6e91-40f9-9285-f66b7fefc083\">\n",
              "    <div class=\"colab-df-container\">\n",
              "      <div>\n",
              "<style scoped>\n",
              "    .dataframe tbody tr th:only-of-type {\n",
              "        vertical-align: middle;\n",
              "    }\n",
              "\n",
              "    .dataframe tbody tr th {\n",
              "        vertical-align: top;\n",
              "    }\n",
              "\n",
              "    .dataframe thead th {\n",
              "        text-align: right;\n",
              "    }\n",
              "</style>\n",
              "<table border=\"1\" class=\"dataframe\">\n",
              "  <thead>\n",
              "    <tr style=\"text-align: right;\">\n",
              "      <th></th>\n",
              "      <th>id</th>\n",
              "      <th>ground truth</th>\n",
              "    </tr>\n",
              "  </thead>\n",
              "  <tbody>\n",
              "    <tr>\n",
              "      <th>20</th>\n",
              "      <td>4dfd6faf-e631-4f0e-83cc-cee4b69a9632</td>\n",
              "      <td>{Sensationalist, Statement of responsibility}</td>\n",
              "    </tr>\n",
              "    <tr>\n",
              "      <th>23</th>\n",
              "      <td>0cb62255-3781-4466-b9ac-e29c29714d9f</td>\n",
              "      <td>{Sensationalist, Statement of responsibility}</td>\n",
              "    </tr>\n",
              "    <tr>\n",
              "      <th>44</th>\n",
              "      <td>0964c70c-687f-4d9b-9c9d-555b3853a456</td>\n",
              "      <td>{Domestic Violence}</td>\n",
              "    </tr>\n",
              "    <tr>\n",
              "      <th>50</th>\n",
              "      <td>0b701b26-4e70-4514-8c9b-355bf042acbc</td>\n",
              "      <td>{Domestic Violence}</td>\n",
              "    </tr>\n",
              "    <tr>\n",
              "      <th>82</th>\n",
              "      <td>1c2f201d-b408-4c6f-a455-f45a947b41f6</td>\n",
              "      <td>{Sensationalist}</td>\n",
              "    </tr>\n",
              "  </tbody>\n",
              "</table>\n",
              "</div>\n",
              "      <button class=\"colab-df-convert\" onclick=\"convertToInteractive('df-03ad9b63-6e91-40f9-9285-f66b7fefc083')\"\n",
              "              title=\"Convert this dataframe to an interactive table.\"\n",
              "              style=\"display:none;\">\n",
              "        \n",
              "  <svg xmlns=\"http://www.w3.org/2000/svg\" height=\"24px\"viewBox=\"0 0 24 24\"\n",
              "       width=\"24px\">\n",
              "    <path d=\"M0 0h24v24H0V0z\" fill=\"none\"/>\n",
              "    <path d=\"M18.56 5.44l.94 2.06.94-2.06 2.06-.94-2.06-.94-.94-2.06-.94 2.06-2.06.94zm-11 1L8.5 8.5l.94-2.06 2.06-.94-2.06-.94L8.5 2.5l-.94 2.06-2.06.94zm10 10l.94 2.06.94-2.06 2.06-.94-2.06-.94-.94-2.06-.94 2.06-2.06.94z\"/><path d=\"M17.41 7.96l-1.37-1.37c-.4-.4-.92-.59-1.43-.59-.52 0-1.04.2-1.43.59L10.3 9.45l-7.72 7.72c-.78.78-.78 2.05 0 2.83L4 21.41c.39.39.9.59 1.41.59.51 0 1.02-.2 1.41-.59l7.78-7.78 2.81-2.81c.8-.78.8-2.07 0-2.86zM5.41 20L4 18.59l7.72-7.72 1.47 1.35L5.41 20z\"/>\n",
              "  </svg>\n",
              "      </button>\n",
              "      \n",
              "  <style>\n",
              "    .colab-df-container {\n",
              "      display:flex;\n",
              "      flex-wrap:wrap;\n",
              "      gap: 12px;\n",
              "    }\n",
              "\n",
              "    .colab-df-convert {\n",
              "      background-color: #E8F0FE;\n",
              "      border: none;\n",
              "      border-radius: 50%;\n",
              "      cursor: pointer;\n",
              "      display: none;\n",
              "      fill: #1967D2;\n",
              "      height: 32px;\n",
              "      padding: 0 0 0 0;\n",
              "      width: 32px;\n",
              "    }\n",
              "\n",
              "    .colab-df-convert:hover {\n",
              "      background-color: #E2EBFA;\n",
              "      box-shadow: 0px 1px 2px rgba(60, 64, 67, 0.3), 0px 1px 3px 1px rgba(60, 64, 67, 0.15);\n",
              "      fill: #174EA6;\n",
              "    }\n",
              "\n",
              "    [theme=dark] .colab-df-convert {\n",
              "      background-color: #3B4455;\n",
              "      fill: #D2E3FC;\n",
              "    }\n",
              "\n",
              "    [theme=dark] .colab-df-convert:hover {\n",
              "      background-color: #434B5C;\n",
              "      box-shadow: 0px 1px 3px 1px rgba(0, 0, 0, 0.15);\n",
              "      filter: drop-shadow(0px 1px 2px rgba(0, 0, 0, 0.3));\n",
              "      fill: #FFFFFF;\n",
              "    }\n",
              "  </style>\n",
              "\n",
              "      <script>\n",
              "        const buttonEl =\n",
              "          document.querySelector('#df-03ad9b63-6e91-40f9-9285-f66b7fefc083 button.colab-df-convert');\n",
              "        buttonEl.style.display =\n",
              "          google.colab.kernel.accessAllowed ? 'block' : 'none';\n",
              "\n",
              "        async function convertToInteractive(key) {\n",
              "          const element = document.querySelector('#df-03ad9b63-6e91-40f9-9285-f66b7fefc083');\n",
              "          const dataTable =\n",
              "            await google.colab.kernel.invokeFunction('convertToInteractive',\n",
              "                                                     [key], {});\n",
              "          if (!dataTable) return;\n",
              "\n",
              "          const docLinkHtml = 'Like what you see? Visit the ' +\n",
              "            '<a target=\"_blank\" href=https://colab.research.google.com/notebooks/data_table.ipynb>data table notebook</a>'\n",
              "            + ' to learn more about interactive tables.';\n",
              "          element.innerHTML = '';\n",
              "          dataTable['output_type'] = 'display_data';\n",
              "          await google.colab.output.renderOutput(dataTable, element);\n",
              "          const docLink = document.createElement('div');\n",
              "          docLink.innerHTML = docLinkHtml;\n",
              "          element.appendChild(docLink);\n",
              "        }\n",
              "      </script>\n",
              "    </div>\n",
              "  </div>\n",
              "  "
            ]
          },
          "metadata": {},
          "execution_count": 371
        }
      ]
    },
    {
      "cell_type": "markdown",
      "source": [
        "Importing Annotations"
      ],
      "metadata": {
        "id": "vaSE84FpkqAZ"
      }
    },
    {
      "cell_type": "code",
      "source": [
        "# import amazon data\n",
        "# pd.read_csv()\n",
        "#for testing\n",
        "\n",
        "amazon_data_all=pd.concat(dfs)\n",
        "amazon_data_all[\"annotations\"]=amazon_data_all[\"annotations\"].apply(extract_annotations)\n",
        "amazon_data=amazon_data_all[[\"id\",\"annotations\"]]"
      ],
      "metadata": {
        "id": "t2YQEC7iWOqY"
      },
      "execution_count": 373,
      "outputs": []
    },
    {
      "cell_type": "code",
      "source": [
        "all_annotators=set([y for x in amazon_data[\"annotations\"]for y in list(x.keys())])\n"
      ],
      "metadata": {
        "id": "cnycruLBlJ2x"
      },
      "execution_count": 363,
      "outputs": []
    },
    {
      "cell_type": "code",
      "source": [
        "for annotator in all_annotators:\n",
        "  by_annotator=amazon_data.explode(\"annotations\")[amazon_data.explode(\"annotations\").annotations==annotator]\n",
        "  by_annotator=by_annotator[[\"id\"]].merge(amazon_data,left_on=\"id\", right_on=\"id\")\n",
        "  by_annotator[\"annotations\"]=[x[annotator]for x in by_annotator[\"annotations\"]]\n",
        "  common_ann=by_annotator.merge(ground_truth, left_on=\"id\", right_on=\"id\")\n",
        "  common_ann[\"similarity\"]=common_ann[[\"annotations\",\"ground truth\"]].apply(jaccard_similarity,axis=1)\n",
        "  print(annotator,common_ann[\"similarity\"].mean())"
      ],
      "metadata": {
        "colab": {
          "base_uri": "https://localhost:8080/"
        },
        "id": "rEWtZXxppMOD",
        "outputId": "6373bc3a-e855-403b-8163-e5d38a9dc3cd"
      },
      "execution_count": 368,
      "outputs": [
        {
          "output_type": "stream",
          "name": "stdout",
          "text": [
            "B 1.0\n",
            "J 0.9375\n",
            "K 0.9\n"
          ]
        }
      ]
    },
    {
      "cell_type": "markdown",
      "source": [
        "### Amazons Annotations"
      ],
      "metadata": {
        "id": "ZI41ZoHtqTzy"
      }
    },
    {
      "cell_type": "markdown",
      "source": [
        "Check annotations that do not have a ground truth value"
      ],
      "metadata": {
        "id": "p_3Wjay-yg9X"
      }
    },
    {
      "cell_type": "code",
      "source": [
        "mask=[ x not in list(ground_truth.id) for x in amazon_data_all.id]\n",
        "amazon_no_gtruth=amazon_data_all[mask]\n",
        "amazon_no_gtruth[[\"id\",\"text\",\"annotations\"]].sample(5)"
      ],
      "metadata": {
        "colab": {
          "base_uri": "https://localhost:8080/",
          "height": 206
        },
        "id": "nasPfAO9iJBf",
        "outputId": "f1d28725-6249-49c2-e132-a0ce24d53810"
      },
      "execution_count": 404,
      "outputs": [
        {
          "output_type": "execute_result",
          "data": {
            "text/plain": [
              "                                        id  \\\n",
              "1931  9f62e5f6-d76a-4b61-a130-f64f4ee8b52b   \n",
              "1883  1e8bddf1-2df2-4e38-9b65-4b73c5e07d2b   \n",
              "623   c3276b88-01c4-47bb-93a2-9eeef5912f13   \n",
              "1914  3118f15b-b2d2-45f9-940f-67a50cd079c5   \n",
              "1181  3f865052-1050-417b-afae-23589286270c   \n",
              "\n",
              "                                                   text  \\\n",
              "1931  Die Beleuchtung des Rathauses ist eine gemeins...   \n",
              "1883  Der Jüngere zog eine Schreckschusswaffe und be...   \n",
              "623   Hagen-Mitte Eine Frau wurde am Montagmorgen im...   \n",
              "1914  Auch die Eigensicherung für Berater und deren ...   \n",
              "1181  Der 50-Jährige hat die Tat bislang nicht zugeg...   \n",
              "\n",
              "                       annotations  \n",
              "1931  {'K': {'Domestic Violence'}}  \n",
              "1883  {'K': {'Domestic Violence'}}  \n",
              "623             {'K': {'Graphic'}}  \n",
              "1914  {'K': {'Domestic Violence'}}  \n",
              "1181  {'K': {'Domestic Violence'}}  "
            ],
            "text/html": [
              "\n",
              "  <div id=\"df-5f1bd3b6-3104-4f13-b718-9bcd4a64d90a\">\n",
              "    <div class=\"colab-df-container\">\n",
              "      <div>\n",
              "<style scoped>\n",
              "    .dataframe tbody tr th:only-of-type {\n",
              "        vertical-align: middle;\n",
              "    }\n",
              "\n",
              "    .dataframe tbody tr th {\n",
              "        vertical-align: top;\n",
              "    }\n",
              "\n",
              "    .dataframe thead th {\n",
              "        text-align: right;\n",
              "    }\n",
              "</style>\n",
              "<table border=\"1\" class=\"dataframe\">\n",
              "  <thead>\n",
              "    <tr style=\"text-align: right;\">\n",
              "      <th></th>\n",
              "      <th>id</th>\n",
              "      <th>text</th>\n",
              "      <th>annotations</th>\n",
              "    </tr>\n",
              "  </thead>\n",
              "  <tbody>\n",
              "    <tr>\n",
              "      <th>1931</th>\n",
              "      <td>9f62e5f6-d76a-4b61-a130-f64f4ee8b52b</td>\n",
              "      <td>Die Beleuchtung des Rathauses ist eine gemeins...</td>\n",
              "      <td>{'K': {'Domestic Violence'}}</td>\n",
              "    </tr>\n",
              "    <tr>\n",
              "      <th>1883</th>\n",
              "      <td>1e8bddf1-2df2-4e38-9b65-4b73c5e07d2b</td>\n",
              "      <td>Der Jüngere zog eine Schreckschusswaffe und be...</td>\n",
              "      <td>{'K': {'Domestic Violence'}}</td>\n",
              "    </tr>\n",
              "    <tr>\n",
              "      <th>623</th>\n",
              "      <td>c3276b88-01c4-47bb-93a2-9eeef5912f13</td>\n",
              "      <td>Hagen-Mitte Eine Frau wurde am Montagmorgen im...</td>\n",
              "      <td>{'K': {'Graphic'}}</td>\n",
              "    </tr>\n",
              "    <tr>\n",
              "      <th>1914</th>\n",
              "      <td>3118f15b-b2d2-45f9-940f-67a50cd079c5</td>\n",
              "      <td>Auch die Eigensicherung für Berater und deren ...</td>\n",
              "      <td>{'K': {'Domestic Violence'}}</td>\n",
              "    </tr>\n",
              "    <tr>\n",
              "      <th>1181</th>\n",
              "      <td>3f865052-1050-417b-afae-23589286270c</td>\n",
              "      <td>Der 50-Jährige hat die Tat bislang nicht zugeg...</td>\n",
              "      <td>{'K': {'Domestic Violence'}}</td>\n",
              "    </tr>\n",
              "  </tbody>\n",
              "</table>\n",
              "</div>\n",
              "      <button class=\"colab-df-convert\" onclick=\"convertToInteractive('df-5f1bd3b6-3104-4f13-b718-9bcd4a64d90a')\"\n",
              "              title=\"Convert this dataframe to an interactive table.\"\n",
              "              style=\"display:none;\">\n",
              "        \n",
              "  <svg xmlns=\"http://www.w3.org/2000/svg\" height=\"24px\"viewBox=\"0 0 24 24\"\n",
              "       width=\"24px\">\n",
              "    <path d=\"M0 0h24v24H0V0z\" fill=\"none\"/>\n",
              "    <path d=\"M18.56 5.44l.94 2.06.94-2.06 2.06-.94-2.06-.94-.94-2.06-.94 2.06-2.06.94zm-11 1L8.5 8.5l.94-2.06 2.06-.94-2.06-.94L8.5 2.5l-.94 2.06-2.06.94zm10 10l.94 2.06.94-2.06 2.06-.94-2.06-.94-.94-2.06-.94 2.06-2.06.94z\"/><path d=\"M17.41 7.96l-1.37-1.37c-.4-.4-.92-.59-1.43-.59-.52 0-1.04.2-1.43.59L10.3 9.45l-7.72 7.72c-.78.78-.78 2.05 0 2.83L4 21.41c.39.39.9.59 1.41.59.51 0 1.02-.2 1.41-.59l7.78-7.78 2.81-2.81c.8-.78.8-2.07 0-2.86zM5.41 20L4 18.59l7.72-7.72 1.47 1.35L5.41 20z\"/>\n",
              "  </svg>\n",
              "      </button>\n",
              "      \n",
              "  <style>\n",
              "    .colab-df-container {\n",
              "      display:flex;\n",
              "      flex-wrap:wrap;\n",
              "      gap: 12px;\n",
              "    }\n",
              "\n",
              "    .colab-df-convert {\n",
              "      background-color: #E8F0FE;\n",
              "      border: none;\n",
              "      border-radius: 50%;\n",
              "      cursor: pointer;\n",
              "      display: none;\n",
              "      fill: #1967D2;\n",
              "      height: 32px;\n",
              "      padding: 0 0 0 0;\n",
              "      width: 32px;\n",
              "    }\n",
              "\n",
              "    .colab-df-convert:hover {\n",
              "      background-color: #E2EBFA;\n",
              "      box-shadow: 0px 1px 2px rgba(60, 64, 67, 0.3), 0px 1px 3px 1px rgba(60, 64, 67, 0.15);\n",
              "      fill: #174EA6;\n",
              "    }\n",
              "\n",
              "    [theme=dark] .colab-df-convert {\n",
              "      background-color: #3B4455;\n",
              "      fill: #D2E3FC;\n",
              "    }\n",
              "\n",
              "    [theme=dark] .colab-df-convert:hover {\n",
              "      background-color: #434B5C;\n",
              "      box-shadow: 0px 1px 3px 1px rgba(0, 0, 0, 0.15);\n",
              "      filter: drop-shadow(0px 1px 2px rgba(0, 0, 0, 0.3));\n",
              "      fill: #FFFFFF;\n",
              "    }\n",
              "  </style>\n",
              "\n",
              "      <script>\n",
              "        const buttonEl =\n",
              "          document.querySelector('#df-5f1bd3b6-3104-4f13-b718-9bcd4a64d90a button.colab-df-convert');\n",
              "        buttonEl.style.display =\n",
              "          google.colab.kernel.accessAllowed ? 'block' : 'none';\n",
              "\n",
              "        async function convertToInteractive(key) {\n",
              "          const element = document.querySelector('#df-5f1bd3b6-3104-4f13-b718-9bcd4a64d90a');\n",
              "          const dataTable =\n",
              "            await google.colab.kernel.invokeFunction('convertToInteractive',\n",
              "                                                     [key], {});\n",
              "          if (!dataTable) return;\n",
              "\n",
              "          const docLinkHtml = 'Like what you see? Visit the ' +\n",
              "            '<a target=\"_blank\" href=https://colab.research.google.com/notebooks/data_table.ipynb>data table notebook</a>'\n",
              "            + ' to learn more about interactive tables.';\n",
              "          element.innerHTML = '';\n",
              "          dataTable['output_type'] = 'display_data';\n",
              "          await google.colab.output.renderOutput(dataTable, element);\n",
              "          const docLink = document.createElement('div');\n",
              "          docLink.innerHTML = docLinkHtml;\n",
              "          element.appendChild(docLink);\n",
              "        }\n",
              "      </script>\n",
              "    </div>\n",
              "  </div>\n",
              "  "
            ]
          },
          "metadata": {},
          "execution_count": 404
        }
      ]
    }
  ]
}