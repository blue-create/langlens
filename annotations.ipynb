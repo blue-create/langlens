{
  "nbformat": 4,
  "nbformat_minor": 0,
  "metadata": {
    "colab": {
      "provenance": [],
      "collapsed_sections": [
        "jfKRiyr4WMEM"
      ],
      "authorship_tag": "ABX9TyPydZBPPfp8/I2VcL/xgVU6"
    },
    "kernelspec": {
      "name": "python3",
      "display_name": "Python 3"
    },
    "language_info": {
      "name": "python"
    }
  },
  "cells": [
    {
      "cell_type": "markdown",
      "source": [
        "### Imports"
      ],
      "metadata": {
        "id": "jfKRiyr4WMEM"
      }
    },
    {
      "cell_type": "code",
      "execution_count": 78,
      "metadata": {
        "id": "DjwlSYh0VqWt"
      },
      "outputs": [],
      "source": [
        "import pandas as pd\n",
        "import os\n",
        "import json\n",
        "from tqdm import tqdm "
      ]
    },
    {
      "cell_type": "code",
      "source": [
        "# connect with google drive\n",
        "from google.colab import drive\n",
        "drive.mount('/content/drive')"
      ],
      "metadata": {
        "colab": {
          "base_uri": "https://localhost:8080/"
        },
        "id": "3-gEE8t61TyI",
        "outputId": "c37204ac-884b-4549-f648-6ef16e1223ec"
      },
      "execution_count": 79,
      "outputs": [
        {
          "output_type": "stream",
          "name": "stdout",
          "text": [
            "Drive already mounted at /content/drive; to attempt to forcibly remount, call drive.mount(\"/content/drive\", force_remount=True).\n"
          ]
        }
      ]
    },
    {
      "cell_type": "code",
      "source": [
        "# redirect the working directory of this script to the data folder\n",
        "%cd /content/drive/MyDrive/Work/Frontline/data/"
      ],
      "metadata": {
        "colab": {
          "base_uri": "https://localhost:8080/"
        },
        "id": "UG1MwJ4Y1U_h",
        "outputId": "b133e543-eae4-4e29-a1e3-e8715ef43385"
      },
      "execution_count": 80,
      "outputs": [
        {
          "output_type": "stream",
          "name": "stdout",
          "text": [
            "/content/drive/.shortcut-targets-by-id/1WfnZsqpG1r110J63sMbfS5TpsDOkveiV/data\n"
          ]
        }
      ]
    },
    {
      "cell_type": "markdown",
      "source": [
        "### Import Annotations"
      ],
      "metadata": {
        "id": "4tZmmwiAnSNm"
      }
    },
    {
      "cell_type": "markdown",
      "source": [
        "Merge all annotation files"
      ],
      "metadata": {
        "id": "ugdSIME9mH1y"
      }
    },
    {
      "cell_type": "code",
      "source": [
        "dfs=[]\n",
        "for doc in os.listdir(\"annotated\"):\n",
        "  if doc.startswith(\"annotations\"):\n",
        "    #read json data\n",
        "    json_data=json.load(open(\"annotated/\"+doc, encoding=\"utf-8\"))\n",
        "    #convert to dataframe\n",
        "    data=pd.DataFrame(json_data[\"documents\"])\n",
        "    #for now: filter out paragraphs that have not been annotated \n",
        "    data=data[data[\"annotations\"].apply(len)>0]    \n",
        "    dfs.append(data)\n"
      ],
      "metadata": {
        "id": "SxbQ1IyAYVI0"
      },
      "execution_count": 81,
      "outputs": []
    },
    {
      "cell_type": "code",
      "execution_count": 153,
      "metadata": {
        "id": "Ue5Z2rnAE_yQ"
      },
      "outputs": [],
      "source": [
        "# merge jsons\n",
        "data=pd.concat(dfs)\n",
        "data=data.reset_index(drop=True)"
      ]
    },
    {
      "cell_type": "markdown",
      "source": [
        "### Extract Labels by Annotator\n",
        "Extract each label by annotator to compare the intraclass correlation coefficient of our own annotations"
      ],
      "metadata": {
        "id": "TUnq71EGpBFn"
      }
    },
    {
      "cell_type": "code",
      "source": [
        "import numpy as np"
      ],
      "metadata": {
        "id": "M4L_RV45ALuB"
      },
      "execution_count": 83,
      "outputs": []
    },
    {
      "cell_type": "code",
      "source": [
        "def extract_annotations(test):\n",
        "  ann_dict=dict()\n",
        "  for ann in test:\n",
        "    name=ann[\"annotator\"][\"name\"][0]\n",
        "    # Remane old label names\n",
        "    label=update_label(ann[\"concept\"][\"preferred_label\"][\"name\"])\n",
        "    if name in ann_dict.keys():\n",
        "      ann_dict[name].append(label)\n",
        "    else:\n",
        "      ann_dict[name]=[label]\n",
        "  #remove duplicates\n",
        "  for key in ann_dict.keys():\n",
        "    ann_dict[key]=set(ann_dict[key])\n",
        "  return ann_dict"
      ],
      "metadata": {
        "id": "n5Wpsepw-zka"
      },
      "execution_count": 154,
      "outputs": []
    },
    {
      "cell_type": "code",
      "source": [
        "def update_label(label):\n",
        "  if label==\"NA\":\n",
        "    return \"Domestic Violence\"\n",
        "  elif label==\"Victim blaming\":\n",
        "    return 'Statement of responsibility'\n",
        "  else:\n",
        "    return label"
      ],
      "metadata": {
        "id": "LgUL_WVnRLlF"
      },
      "execution_count": 155,
      "outputs": []
    },
    {
      "cell_type": "code",
      "source": [
        "data[\"annotations\"]=data[\"annotations\"].apply(extract_annotations)"
      ],
      "metadata": {
        "id": "e4qbX-SQ8V2V"
      },
      "execution_count": 156,
      "outputs": []
    },
    {
      "cell_type": "markdown",
      "source": [
        "### Intraclass Correlation Coefficient (own annotations)\n",
        "Compare all co-assigned paragraphs "
      ],
      "metadata": {
        "id": "rZiKztH2pD1X"
      }
    },
    {
      "cell_type": "code",
      "source": [
        "def jaccard_similarity(sets):\n",
        "    # Calculate the intersection\n",
        "    intersection = set.intersection(*sets)\n",
        "    \n",
        "    # Calculate the union\n",
        "    union = set.union(*sets)\n",
        "    \n",
        "    # Compute the Jaccard similarity\n",
        "    similarity = len(intersection) / len(union)\n",
        "    \n",
        "    return similarity"
      ],
      "metadata": {
        "id": "dQlBYt6gBZHn"
      },
      "execution_count": 94,
      "outputs": []
    },
    {
      "cell_type": "code",
      "source": [
        "def calculate_similarity(annotations: dict, sim=\"jaccard\"):\n",
        "  #if no co-annotation\n",
        "  if len(annotations)==1:\n",
        "    return np.nan\n",
        "  else:\n",
        "    if sim==\"jaccard\":\n",
        "      return jaccard_similarity(list(annotations.values()))\n",
        "    elif sim==\"dice\":\n",
        "      return dice_similarity_multiple(list(annotations.values()))"
      ],
      "metadata": {
        "id": "8lhjS3_mAp_A"
      },
      "execution_count": 162,
      "outputs": []
    },
    {
      "cell_type": "code",
      "source": [
        "def dice_similarity_multiple(sets):\n",
        "    num_sets = len(sets)\n",
        "    similarity_sum = 0\n",
        "\n",
        "    # Pairwise comparisons\n",
        "    for i in range(num_sets - 1):\n",
        "        for j in range(i + 1, num_sets):\n",
        "            set1 = sets[i]\n",
        "            set2 = sets[j]\n",
        "            \n",
        "            # Calculate the intersection\n",
        "            intersection = set1.intersection(set2)\n",
        "            \n",
        "            # Calculate the sum of set sizes\n",
        "            set_sum = len(set1) + len(set2)\n",
        "            \n",
        "            # Compute the Dice similarity coefficient\n",
        "            similarity = 2 * len(intersection) / set_sum\n",
        "            \n",
        "            similarity_sum += similarity\n",
        "\n",
        "    # Calculate the average similarity\n",
        "    average_similarity = similarity_sum / (num_sets * (num_sets - 1) / 2)\n",
        "    \n",
        "    return average_similarity"
      ],
      "metadata": {
        "id": "djS2QtWRGFae"
      },
      "execution_count": 104,
      "outputs": []
    },
    {
      "cell_type": "code",
      "source": [
        "data[\"jaccard\"]=data[\"annotations\"].apply(calculate_similarity)\n",
        "data[\"dice\"]=data[\"annotations\"].apply(calculate_similarity,args=[\"dice\"])"
      ],
      "metadata": {
        "id": "yrjyv7lY32Fi"
      },
      "execution_count": 163,
      "outputs": []
    },
    {
      "cell_type": "code",
      "source": [
        "data[~data[\"jaccard\"].isnull()].head()"
      ],
      "metadata": {
        "colab": {
          "base_uri": "https://localhost:8080/",
          "height": 319
        },
        "id": "RVCDyVAvSnzt",
        "outputId": "c4797d8f-b525-4530-e982-67df9ca13dc1"
      },
      "execution_count": 170,
      "outputs": [
        {
          "output_type": "execute_result",
          "data": {
            "text/plain": [
              "                                      id  \\\n",
              "3   043e3909-bcdd-4c6b-a54f-f947d46ad18e   \n",
              "20  4dfd6faf-e631-4f0e-83cc-cee4b69a9632   \n",
              "23  0cb62255-3781-4466-b9ac-e29c29714d9f   \n",
              "44  0964c70c-687f-4d9b-9c9d-555b3853a456   \n",
              "50  0b701b26-4e70-4514-8c9b-355bf042acbc   \n",
              "\n",
              "                                                 text  \\\n",
              "3   Das Schöffengericht hatte es in diesem Fall of...   \n",
              "20  Berlin -  Sie war jung, hübsch und intelligent...   \n",
              "23  Möglicherweise war ihr Job in Kiel auch der Gr...   \n",
              "44  Das Frauenhaus Osterode sei durchgängig voll b...   \n",
              "50  Frankfurt. Von der 43-Jährigen fehlt noch imme...   \n",
              "\n",
              "                                          annotations  \\\n",
              "3   {'J': {'Sensationalist', 'Statement of respons...   \n",
              "20  {'K': {'Sensationalist'}, 'J': {'Sensationalis...   \n",
              "23  {'K': {'Sensationalist', 'Statement of respons...   \n",
              "44  {'J': {'Domestic Violence'}, 'B': {'Domestic V...   \n",
              "50  {'J': {'Domestic Violence'}, 'B': {'Domestic V...   \n",
              "\n",
              "                                      attributes_flat  jaccard      dice  \n",
              "3   {'artikel_id': 'F3A4578D33A8603DF0573D3DE3CB26...      0.0  0.444444  \n",
              "20  {'artikel_id': 'MDS-A-A696462F-F0DB-42E7-BADD-...      0.5  0.666667  \n",
              "23  {'artikel_id': 'MDS-A-A696462F-F0DB-42E7-BADD-...      0.5  0.666667  \n",
              "44  {'artikel_id': '721580E0DCDD055C72CE05C3135E41...      1.0  1.000000  \n",
              "50  {'artikel_id': '20271339FA53F1033000', 'name':...      1.0  1.000000  "
            ],
            "text/html": [
              "\n",
              "  <div id=\"df-fad18dd7-e6c3-4b99-a702-3f48a3ba8b99\">\n",
              "    <div class=\"colab-df-container\">\n",
              "      <div>\n",
              "<style scoped>\n",
              "    .dataframe tbody tr th:only-of-type {\n",
              "        vertical-align: middle;\n",
              "    }\n",
              "\n",
              "    .dataframe tbody tr th {\n",
              "        vertical-align: top;\n",
              "    }\n",
              "\n",
              "    .dataframe thead th {\n",
              "        text-align: right;\n",
              "    }\n",
              "</style>\n",
              "<table border=\"1\" class=\"dataframe\">\n",
              "  <thead>\n",
              "    <tr style=\"text-align: right;\">\n",
              "      <th></th>\n",
              "      <th>id</th>\n",
              "      <th>text</th>\n",
              "      <th>annotations</th>\n",
              "      <th>attributes_flat</th>\n",
              "      <th>jaccard</th>\n",
              "      <th>dice</th>\n",
              "    </tr>\n",
              "  </thead>\n",
              "  <tbody>\n",
              "    <tr>\n",
              "      <th>3</th>\n",
              "      <td>043e3909-bcdd-4c6b-a54f-f947d46ad18e</td>\n",
              "      <td>Das Schöffengericht hatte es in diesem Fall of...</td>\n",
              "      <td>{'J': {'Sensationalist', 'Statement of respons...</td>\n",
              "      <td>{'artikel_id': 'F3A4578D33A8603DF0573D3DE3CB26...</td>\n",
              "      <td>0.0</td>\n",
              "      <td>0.444444</td>\n",
              "    </tr>\n",
              "    <tr>\n",
              "      <th>20</th>\n",
              "      <td>4dfd6faf-e631-4f0e-83cc-cee4b69a9632</td>\n",
              "      <td>Berlin -  Sie war jung, hübsch und intelligent...</td>\n",
              "      <td>{'K': {'Sensationalist'}, 'J': {'Sensationalis...</td>\n",
              "      <td>{'artikel_id': 'MDS-A-A696462F-F0DB-42E7-BADD-...</td>\n",
              "      <td>0.5</td>\n",
              "      <td>0.666667</td>\n",
              "    </tr>\n",
              "    <tr>\n",
              "      <th>23</th>\n",
              "      <td>0cb62255-3781-4466-b9ac-e29c29714d9f</td>\n",
              "      <td>Möglicherweise war ihr Job in Kiel auch der Gr...</td>\n",
              "      <td>{'K': {'Sensationalist', 'Statement of respons...</td>\n",
              "      <td>{'artikel_id': 'MDS-A-A696462F-F0DB-42E7-BADD-...</td>\n",
              "      <td>0.5</td>\n",
              "      <td>0.666667</td>\n",
              "    </tr>\n",
              "    <tr>\n",
              "      <th>44</th>\n",
              "      <td>0964c70c-687f-4d9b-9c9d-555b3853a456</td>\n",
              "      <td>Das Frauenhaus Osterode sei durchgängig voll b...</td>\n",
              "      <td>{'J': {'Domestic Violence'}, 'B': {'Domestic V...</td>\n",
              "      <td>{'artikel_id': '721580E0DCDD055C72CE05C3135E41...</td>\n",
              "      <td>1.0</td>\n",
              "      <td>1.000000</td>\n",
              "    </tr>\n",
              "    <tr>\n",
              "      <th>50</th>\n",
              "      <td>0b701b26-4e70-4514-8c9b-355bf042acbc</td>\n",
              "      <td>Frankfurt. Von der 43-Jährigen fehlt noch imme...</td>\n",
              "      <td>{'J': {'Domestic Violence'}, 'B': {'Domestic V...</td>\n",
              "      <td>{'artikel_id': '20271339FA53F1033000', 'name':...</td>\n",
              "      <td>1.0</td>\n",
              "      <td>1.000000</td>\n",
              "    </tr>\n",
              "  </tbody>\n",
              "</table>\n",
              "</div>\n",
              "      <button class=\"colab-df-convert\" onclick=\"convertToInteractive('df-fad18dd7-e6c3-4b99-a702-3f48a3ba8b99')\"\n",
              "              title=\"Convert this dataframe to an interactive table.\"\n",
              "              style=\"display:none;\">\n",
              "        \n",
              "  <svg xmlns=\"http://www.w3.org/2000/svg\" height=\"24px\"viewBox=\"0 0 24 24\"\n",
              "       width=\"24px\">\n",
              "    <path d=\"M0 0h24v24H0V0z\" fill=\"none\"/>\n",
              "    <path d=\"M18.56 5.44l.94 2.06.94-2.06 2.06-.94-2.06-.94-.94-2.06-.94 2.06-2.06.94zm-11 1L8.5 8.5l.94-2.06 2.06-.94-2.06-.94L8.5 2.5l-.94 2.06-2.06.94zm10 10l.94 2.06.94-2.06 2.06-.94-2.06-.94-.94-2.06-.94 2.06-2.06.94z\"/><path d=\"M17.41 7.96l-1.37-1.37c-.4-.4-.92-.59-1.43-.59-.52 0-1.04.2-1.43.59L10.3 9.45l-7.72 7.72c-.78.78-.78 2.05 0 2.83L4 21.41c.39.39.9.59 1.41.59.51 0 1.02-.2 1.41-.59l7.78-7.78 2.81-2.81c.8-.78.8-2.07 0-2.86zM5.41 20L4 18.59l7.72-7.72 1.47 1.35L5.41 20z\"/>\n",
              "  </svg>\n",
              "      </button>\n",
              "      \n",
              "  <style>\n",
              "    .colab-df-container {\n",
              "      display:flex;\n",
              "      flex-wrap:wrap;\n",
              "      gap: 12px;\n",
              "    }\n",
              "\n",
              "    .colab-df-convert {\n",
              "      background-color: #E8F0FE;\n",
              "      border: none;\n",
              "      border-radius: 50%;\n",
              "      cursor: pointer;\n",
              "      display: none;\n",
              "      fill: #1967D2;\n",
              "      height: 32px;\n",
              "      padding: 0 0 0 0;\n",
              "      width: 32px;\n",
              "    }\n",
              "\n",
              "    .colab-df-convert:hover {\n",
              "      background-color: #E2EBFA;\n",
              "      box-shadow: 0px 1px 2px rgba(60, 64, 67, 0.3), 0px 1px 3px 1px rgba(60, 64, 67, 0.15);\n",
              "      fill: #174EA6;\n",
              "    }\n",
              "\n",
              "    [theme=dark] .colab-df-convert {\n",
              "      background-color: #3B4455;\n",
              "      fill: #D2E3FC;\n",
              "    }\n",
              "\n",
              "    [theme=dark] .colab-df-convert:hover {\n",
              "      background-color: #434B5C;\n",
              "      box-shadow: 0px 1px 3px 1px rgba(0, 0, 0, 0.15);\n",
              "      filter: drop-shadow(0px 1px 2px rgba(0, 0, 0, 0.3));\n",
              "      fill: #FFFFFF;\n",
              "    }\n",
              "  </style>\n",
              "\n",
              "      <script>\n",
              "        const buttonEl =\n",
              "          document.querySelector('#df-fad18dd7-e6c3-4b99-a702-3f48a3ba8b99 button.colab-df-convert');\n",
              "        buttonEl.style.display =\n",
              "          google.colab.kernel.accessAllowed ? 'block' : 'none';\n",
              "\n",
              "        async function convertToInteractive(key) {\n",
              "          const element = document.querySelector('#df-fad18dd7-e6c3-4b99-a702-3f48a3ba8b99');\n",
              "          const dataTable =\n",
              "            await google.colab.kernel.invokeFunction('convertToInteractive',\n",
              "                                                     [key], {});\n",
              "          if (!dataTable) return;\n",
              "\n",
              "          const docLinkHtml = 'Like what you see? Visit the ' +\n",
              "            '<a target=\"_blank\" href=https://colab.research.google.com/notebooks/data_table.ipynb>data table notebook</a>'\n",
              "            + ' to learn more about interactive tables.';\n",
              "          element.innerHTML = '';\n",
              "          dataTable['output_type'] = 'display_data';\n",
              "          await google.colab.output.renderOutput(dataTable, element);\n",
              "          const docLink = document.createElement('div');\n",
              "          docLink.innerHTML = docLinkHtml;\n",
              "          element.appendChild(docLink);\n",
              "        }\n",
              "      </script>\n",
              "    </div>\n",
              "  </div>\n",
              "  "
            ]
          },
          "metadata": {},
          "execution_count": 170
        }
      ]
    },
    {
      "cell_type": "code",
      "source": [
        "print(\"Average jaccard similarity: \", round(data[\"jaccard\"].mean(),2))\n",
        "print(\"Average dice similarity: \", round(data[\"dice\"].mean(),2))"
      ],
      "metadata": {
        "colab": {
          "base_uri": "https://localhost:8080/"
        },
        "id": "RBt3SkNuTp5-",
        "outputId": "9cd1666b-dce6-4953-9d4d-8d1c1f9b9f49"
      },
      "execution_count": 177,
      "outputs": [
        {
          "output_type": "stream",
          "name": "stdout",
          "text": [
            "Average jaccard similarity:  0.7\n",
            "Average dice similarity:  0.78\n"
          ]
        }
      ]
    },
    {
      "cell_type": "markdown",
      "source": [
        "### Own Annotations and Amazons Annotations"
      ],
      "metadata": {
        "id": "p_kmQ-FgpOWu"
      }
    },
    {
      "cell_type": "code",
      "source": [
        "# import amazon"
      ],
      "metadata": {
        "id": "t2YQEC7iWOqY"
      },
      "execution_count": null,
      "outputs": []
    },
    {
      "cell_type": "markdown",
      "source": [
        "### Amazons Annotations"
      ],
      "metadata": {
        "id": "ZI41ZoHtqTzy"
      }
    }
  ]
}