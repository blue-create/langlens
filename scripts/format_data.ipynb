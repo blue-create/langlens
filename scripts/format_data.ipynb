{
  "nbformat": 4,
  "nbformat_minor": 0,
  "metadata": {
    "colab": {
      "provenance": [],
      "collapsed_sections": [
        "Q6_9R-mYpNwM"
      ]
    },
    "kernelspec": {
      "name": "python3",
      "display_name": "Python 3"
    },
    "language_info": {
      "name": "python"
    }
  },
  "cells": [
    {
      "cell_type": "code",
      "source": [
        "import os \n",
        "import shutil\n",
        "import pandas as pd"
      ],
      "metadata": {
        "id": "ua5jYVF5d7-m"
      },
      "execution_count": null,
      "outputs": []
    },
    {
      "cell_type": "code",
      "source": [
        "from google.colab import drive\n",
        "drive.mount('/content/drive')"
      ],
      "metadata": {
        "colab": {
          "base_uri": "https://localhost:8080/"
        },
        "id": "2dFma4Jfcf8l",
        "outputId": "52db2fb8-a552-45c2-9b0d-5c3b4309a1f7"
      },
      "execution_count": 29,
      "outputs": [
        {
          "output_type": "stream",
          "name": "stdout",
          "text": [
            "Drive already mounted at /content/drive; to attempt to forcibly remount, call drive.mount(\"/content/drive\", force_remount=True).\n"
          ]
        }
      ]
    },
    {
      "cell_type": "code",
      "source": [
        "# access data \n",
        "# %cd content/drive/MyDrive/data/raw/ # test\n",
        "%cd /content/drive/MyDrive/Work/Frontline/Unzipped"
      ],
      "metadata": {
        "id": "mdHvzLHiXTk4",
        "colab": {
          "base_uri": "https://localhost:8080/"
        },
        "outputId": "fdef6e56-830b-4084-f482-4109b7d11b35"
      },
      "execution_count": 32,
      "outputs": [
        {
          "output_type": "stream",
          "name": "stdout",
          "text": [
            "/content/drive/MyDrive/Work/Frontline/Unzipped\n"
          ]
        }
      ]
    },
    {
      "cell_type": "code",
      "source": [
        "# check number of files \n",
        "num_files = len(os.listdir(\".\"))\n",
        "print(\"Number of files in the folder: \", num_files)"
      ],
      "metadata": {
        "colab": {
          "base_uri": "https://localhost:8080/"
        },
        "id": "nDLAdk9nWvNY",
        "outputId": "50c97a1e-0613-43e0-9f3a-25df6adaebf0"
      },
      "execution_count": 31,
      "outputs": [
        {
          "output_type": "stream",
          "name": "stdout",
          "text": [
            "Number of files in the folder:  257\n"
          ]
        }
      ]
    },
    {
      "cell_type": "markdown",
      "source": [
        "## Extract Zip Files"
      ],
      "metadata": {
        "id": "Q6_9R-mYpNwM"
      }
    },
    {
      "cell_type": "code",
      "source": [
        "#check number of zip files\n",
        "assert len([name for name in os.listdir('.') if name.split(\".\")[-1]==\"zip\"])==253, \"Number of zip files incorrect\""
      ],
      "metadata": {
        "id": "WQ6SacDLgAhR"
      },
      "execution_count": 17,
      "outputs": []
    },
    {
      "cell_type": "code",
      "source": [
        "extracted=[name for name in os.listdir('.') if name.split(\".\")[-1]!=\"zip\"]\n",
        "zip_files=[name for name in os.listdir('.') if name.split(\".\")[-1]==\"zip\"]\n",
        "for i in extracted:\n",
        "  print(i)\n",
        "  zip_files.remove(i+\".zip\")"
      ],
      "metadata": {
        "id": "5KKnPHS9jH4k",
        "colab": {
          "base_uri": "https://localhost:8080/",
          "height": 217
        },
        "outputId": "4e218e50-69ad-4834-efb2-fa305f94e425"
      },
      "execution_count": 45,
      "outputs": [
        {
          "output_type": "stream",
          "name": "stdout",
          "text": [
            "OSZ\n"
          ]
        },
        {
          "output_type": "error",
          "ename": "ValueError",
          "evalue": "ignored",
          "traceback": [
            "\u001b[0;31m---------------------------------------------------------------------------\u001b[0m",
            "\u001b[0;31mValueError\u001b[0m                                Traceback (most recent call last)",
            "\u001b[0;32m<ipython-input-45-cf6543179293>\u001b[0m in \u001b[0;36m<cell line: 3>\u001b[0;34m()\u001b[0m\n\u001b[1;32m      3\u001b[0m \u001b[0;32mfor\u001b[0m \u001b[0mi\u001b[0m \u001b[0;32min\u001b[0m \u001b[0mextracted\u001b[0m\u001b[0;34m:\u001b[0m\u001b[0;34m\u001b[0m\u001b[0;34m\u001b[0m\u001b[0m\n\u001b[1;32m      4\u001b[0m   \u001b[0mprint\u001b[0m\u001b[0;34m(\u001b[0m\u001b[0mi\u001b[0m\u001b[0;34m)\u001b[0m\u001b[0;34m\u001b[0m\u001b[0;34m\u001b[0m\u001b[0m\n\u001b[0;32m----> 5\u001b[0;31m   \u001b[0mzip_files\u001b[0m\u001b[0;34m.\u001b[0m\u001b[0mremove\u001b[0m\u001b[0;34m(\u001b[0m\u001b[0mi\u001b[0m\u001b[0;34m+\u001b[0m\u001b[0;34m\".zip\"\u001b[0m\u001b[0;34m)\u001b[0m\u001b[0;34m\u001b[0m\u001b[0;34m\u001b[0m\u001b[0m\n\u001b[0m",
            "\u001b[0;31mValueError\u001b[0m: list.remove(x): x not in list"
          ]
        }
      ]
    },
    {
      "cell_type": "code",
      "source": [
        "#unzip folders\n",
        "for file in zip_files:\n",
        "  if file.split(\".\")[-1]==\"zip\":   \n",
        "    shutil.unpack_archive(file,file.split(\".\")[0])\n",
        "    print(\"Unzipped {} sucessfully\".format(file))\n",
        "    zip_files.remove(file)"
      ],
      "metadata": {
        "colab": {
          "base_uri": "https://localhost:8080/"
        },
        "id": "AU4Ivm9mdU4i",
        "outputId": "861ee9e7-8129-4757-e041-97a87f167c5c"
      },
      "execution_count": null,
      "outputs": [
        {
          "output_type": "stream",
          "name": "stdout",
          "text": [
            "Unzipped SBIL.zip sucessfully\n",
            "Unzipped STAG.zip sucessfully\n",
            "Unzipped ZEIO.zip sucessfully\n",
            "Unzipped LR.zip sucessfully\n",
            "Unzipped DAZ.zip sucessfully\n",
            "Unzipped NRU.zip sucessfully\n",
            "Unzipped BDF.zip sucessfully\n",
            "Unzipped PNP.zip sucessfully\n",
            "Unzipped AWP.zip sucessfully\n",
            "Unzipped CBIL.zip sucessfully\n",
            "Unzipped HBTO.zip sucessfully\n",
            "Unzipped WORZ.zip sucessfully\n",
            "Unzipped ABGW.zip sucessfully\n",
            "Unzipped RN.zip sucessfully\n",
            "Unzipped ABMS.zip sucessfully\n",
            "Unzipped KLEI.zip sucessfully\n",
            "Unzipped NOW.zip sucessfully\n",
            "Unzipped GAZ.zip sucessfully\n",
            "Unzipped ABRM.zip sucessfully\n",
            "Unzipped BKR.zip sucessfully\n",
            "Unzipped RVZ.zip sucessfully\n",
            "Unzipped PAZ.zip sucessfully\n",
            "Unzipped LUXT.zip sucessfully\n",
            "Unzipped ABKL.zip sucessfully\n",
            "Unzipped BEOB.zip sucessfully\n",
            "Unzipped OVZ.zip sucessfully\n",
            "Unzipped SWT.zip sucessfully\n",
            "Unzipped HK.zip sucessfully\n",
            "Unzipped MUAZ.zip sucessfully\n",
            "Unzipped NPHA.zip sucessfully\n",
            "Unzipped HOZE.zip sucessfully\n",
            "Unzipped KIRZ.zip sucessfully\n",
            "Unzipped WOAZ.zip sucessfully\n",
            "Unzipped MBVS.zip sucessfully\n",
            "Unzipped ABC.zip sucessfully\n",
            "Unzipped ZSAS.zip sucessfully\n",
            "Unzipped AARB.zip sucessfully\n",
            "Unzipped NZZS.zip sucessfully\n",
            "Unzipped DIEW.zip sucessfully\n",
            "Unzipped TLZ.zip sucessfully\n",
            "Unzipped CUW.zip sucessfully\n",
            "Unzipped FEPR.zip sucessfully\n",
            "Unzipped WKR.zip sucessfully\n",
            "Unzipped STA.zip sucessfully\n",
            "Unzipped PBN.zip sucessfully\n",
            "Unzipped BAZ.zip sucessfully\n",
            "Unzipped SAZE.zip sucessfully\n",
            "Unzipped LIN.zip sucessfully\n",
            "Unzipped ANEW.zip sucessfully\n",
            "Unzipped DMP.zip sucessfully\n",
            "Unzipped HB.zip sucessfully\n",
            "Unzipped VZS.zip sucessfully\n",
            "Unzipped BZ.zip sucessfully\n",
            "Unzipped MEP.zip sucessfully\n",
            "Unzipped NVT.zip sucessfully\n",
            "Unzipped MASP.zip sucessfully\n",
            "Unzipped DAW.zip sucessfully\n",
            "Unzipped DIKI.zip sucessfully\n",
            "Unzipped KR.zip sucessfully\n",
            "Unzipped MAER.zip sucessfully\n",
            "Unzipped BLDI.zip sucessfully\n",
            "Unzipped NWZ.zip sucessfully\n",
            "Unzipped BDFS.zip sucessfully\n",
            "Unzipped STER.zip sucessfully\n",
            "Unzipped FAZW.zip sucessfully\n",
            "Unzipped BILD.zip sucessfully\n",
            "Unzipped RLNR.zip sucessfully\n",
            "Unzipped HZO.zip sucessfully\n",
            "Unzipped NRZ.zip sucessfully\n",
            "Unzipped LAZE.zip sucessfully\n",
            "Unzipped MPW.zip sucessfully\n",
            "Unzipped ZTGS.zip sucessfully\n",
            "Unzipped MUVB.zip sucessfully\n",
            "Unzipped STG.zip sucessfully\n",
            "Unzipped WAZ.zip sucessfully\n",
            "Unzipped SBLI.zip sucessfully\n",
            "Unzipped TAS.zip sucessfully\n",
            "Unzipped ABTR.zip sucessfully\n",
            "Unzipped DFT.zip sucessfully\n"
          ]
        },
        {
          "output_type": "error",
          "ename": "ReadError",
          "evalue": "ignored",
          "traceback": [
            "\u001b[0;31m---------------------------------------------------------------------------\u001b[0m",
            "\u001b[0;31mReadError\u001b[0m                                 Traceback (most recent call last)",
            "\u001b[0;32m<ipython-input-17-da1aa6925eea>\u001b[0m in \u001b[0;36m<cell line: 2>\u001b[0;34m()\u001b[0m\n\u001b[1;32m      2\u001b[0m \u001b[0;32mfor\u001b[0m \u001b[0mfile\u001b[0m \u001b[0;32min\u001b[0m \u001b[0mzip_files\u001b[0m\u001b[0;34m:\u001b[0m\u001b[0;34m\u001b[0m\u001b[0;34m\u001b[0m\u001b[0m\n\u001b[1;32m      3\u001b[0m   \u001b[0;32mif\u001b[0m \u001b[0mfile\u001b[0m\u001b[0;34m.\u001b[0m\u001b[0msplit\u001b[0m\u001b[0;34m(\u001b[0m\u001b[0;34m\".\"\u001b[0m\u001b[0;34m)\u001b[0m\u001b[0;34m[\u001b[0m\u001b[0;34m-\u001b[0m\u001b[0;36m1\u001b[0m\u001b[0;34m]\u001b[0m\u001b[0;34m==\u001b[0m\u001b[0;34m\"zip\"\u001b[0m\u001b[0;34m:\u001b[0m\u001b[0;34m\u001b[0m\u001b[0;34m\u001b[0m\u001b[0m\n\u001b[0;32m----> 4\u001b[0;31m     \u001b[0mshutil\u001b[0m\u001b[0;34m.\u001b[0m\u001b[0munpack_archive\u001b[0m\u001b[0;34m(\u001b[0m\u001b[0mfile\u001b[0m\u001b[0;34m,\u001b[0m\u001b[0mfile\u001b[0m\u001b[0;34m.\u001b[0m\u001b[0msplit\u001b[0m\u001b[0;34m(\u001b[0m\u001b[0;34m\".\"\u001b[0m\u001b[0;34m)\u001b[0m\u001b[0;34m[\u001b[0m\u001b[0;36m0\u001b[0m\u001b[0;34m]\u001b[0m\u001b[0;34m)\u001b[0m\u001b[0;34m\u001b[0m\u001b[0;34m\u001b[0m\u001b[0m\n\u001b[0m\u001b[1;32m      5\u001b[0m     \u001b[0mprint\u001b[0m\u001b[0;34m(\u001b[0m\u001b[0;34m\"Unzipped {} sucessfully\"\u001b[0m\u001b[0;34m.\u001b[0m\u001b[0mformat\u001b[0m\u001b[0;34m(\u001b[0m\u001b[0mfile\u001b[0m\u001b[0;34m)\u001b[0m\u001b[0;34m)\u001b[0m\u001b[0;34m\u001b[0m\u001b[0;34m\u001b[0m\u001b[0m\n\u001b[1;32m      6\u001b[0m     \u001b[0mzip_files\u001b[0m\u001b[0;34m.\u001b[0m\u001b[0mremove\u001b[0m\u001b[0;34m(\u001b[0m\u001b[0mfile\u001b[0m\u001b[0;34m)\u001b[0m\u001b[0;34m\u001b[0m\u001b[0;34m\u001b[0m\u001b[0m\n",
            "\u001b[0;32m/usr/lib/python3.9/shutil.py\u001b[0m in \u001b[0;36munpack_archive\u001b[0;34m(filename, extract_dir, format)\u001b[0m\n\u001b[1;32m   1269\u001b[0m         \u001b[0mfunc\u001b[0m \u001b[0;34m=\u001b[0m \u001b[0m_UNPACK_FORMATS\u001b[0m\u001b[0;34m[\u001b[0m\u001b[0mformat\u001b[0m\u001b[0;34m]\u001b[0m\u001b[0;34m[\u001b[0m\u001b[0;36m1\u001b[0m\u001b[0;34m]\u001b[0m\u001b[0;34m\u001b[0m\u001b[0;34m\u001b[0m\u001b[0m\n\u001b[1;32m   1270\u001b[0m         \u001b[0mkwargs\u001b[0m \u001b[0;34m=\u001b[0m \u001b[0mdict\u001b[0m\u001b[0;34m(\u001b[0m\u001b[0m_UNPACK_FORMATS\u001b[0m\u001b[0;34m[\u001b[0m\u001b[0mformat\u001b[0m\u001b[0;34m]\u001b[0m\u001b[0;34m[\u001b[0m\u001b[0;36m2\u001b[0m\u001b[0;34m]\u001b[0m\u001b[0;34m)\u001b[0m\u001b[0;34m\u001b[0m\u001b[0;34m\u001b[0m\u001b[0m\n\u001b[0;32m-> 1271\u001b[0;31m         \u001b[0mfunc\u001b[0m\u001b[0;34m(\u001b[0m\u001b[0mfilename\u001b[0m\u001b[0;34m,\u001b[0m \u001b[0mextract_dir\u001b[0m\u001b[0;34m,\u001b[0m \u001b[0;34m**\u001b[0m\u001b[0mkwargs\u001b[0m\u001b[0;34m)\u001b[0m\u001b[0;34m\u001b[0m\u001b[0;34m\u001b[0m\u001b[0m\n\u001b[0m\u001b[1;32m   1272\u001b[0m \u001b[0;34m\u001b[0m\u001b[0m\n\u001b[1;32m   1273\u001b[0m \u001b[0;34m\u001b[0m\u001b[0m\n",
            "\u001b[0;32m/usr/lib/python3.9/shutil.py\u001b[0m in \u001b[0;36m_unpack_zipfile\u001b[0;34m(filename, extract_dir)\u001b[0m\n\u001b[1;32m   1168\u001b[0m \u001b[0;34m\u001b[0m\u001b[0m\n\u001b[1;32m   1169\u001b[0m     \u001b[0;32mif\u001b[0m \u001b[0;32mnot\u001b[0m \u001b[0mzipfile\u001b[0m\u001b[0;34m.\u001b[0m\u001b[0mis_zipfile\u001b[0m\u001b[0;34m(\u001b[0m\u001b[0mfilename\u001b[0m\u001b[0;34m)\u001b[0m\u001b[0;34m:\u001b[0m\u001b[0;34m\u001b[0m\u001b[0;34m\u001b[0m\u001b[0m\n\u001b[0;32m-> 1170\u001b[0;31m         \u001b[0;32mraise\u001b[0m \u001b[0mReadError\u001b[0m\u001b[0;34m(\u001b[0m\u001b[0;34m\"%s is not a zip file\"\u001b[0m \u001b[0;34m%\u001b[0m \u001b[0mfilename\u001b[0m\u001b[0;34m)\u001b[0m\u001b[0;34m\u001b[0m\u001b[0;34m\u001b[0m\u001b[0m\n\u001b[0m\u001b[1;32m   1171\u001b[0m \u001b[0;34m\u001b[0m\u001b[0m\n\u001b[1;32m   1172\u001b[0m     \u001b[0mzip\u001b[0m \u001b[0;34m=\u001b[0m \u001b[0mzipfile\u001b[0m\u001b[0;34m.\u001b[0m\u001b[0mZipFile\u001b[0m\u001b[0;34m(\u001b[0m\u001b[0mfilename\u001b[0m\u001b[0;34m)\u001b[0m\u001b[0;34m\u001b[0m\u001b[0;34m\u001b[0m\u001b[0m\n",
            "\u001b[0;31mReadError\u001b[0m: NBPC.zip is not a zip file"
          ]
        }
      ]
    },
    {
      "cell_type": "code",
      "source": [
        "print(str(len(zip_files)) +\" files were not unzipped\")"
      ],
      "metadata": {
        "colab": {
          "base_uri": "https://localhost:8080/"
        },
        "id": "4_pYUt2Cd51Q",
        "outputId": "335742fb-aa15-4b2f-8f91-4b06250480b7"
      },
      "execution_count": null,
      "outputs": [
        {
          "output_type": "stream",
          "name": "stdout",
          "text": [
            "165 files were not unzipped\n"
          ]
        }
      ]
    },
    {
      "cell_type": "code",
      "source": [
        "# check if any folder is empty\n",
        "empty_folders = []\n",
        "\n",
        "for root, dirs, files in os.walk('.'):\n",
        "    if not dirs and not files:\n",
        "        empty_folders.append(root)\n",
        "\n",
        "print(\"Empty folders:\")\n",
        "for folder in empty_folders:\n",
        "    print(folder)\n"
      ],
      "metadata": {
        "colab": {
          "base_uri": "https://localhost:8080/"
        },
        "id": "_sjKhfS0Yklw",
        "outputId": "ef7d47a2-723b-4a14-a552-d1e99b21f0e3"
      },
      "execution_count": null,
      "outputs": [
        {
          "output_type": "stream",
          "name": "stdout",
          "text": [
            "Empty folders:\n"
          ]
        }
      ]
    },
    {
      "cell_type": "markdown",
      "source": [
        "## Read Data"
      ],
      "metadata": {
        "id": "iwzl9eCjpaU-"
      }
    },
    {
      "cell_type": "code",
      "source": [
        "import pandas_read_xml as pdx\n",
        "import pandas as pd"
      ],
      "metadata": {
        "id": "qhTzosoG121m"
      },
      "execution_count": 13,
      "outputs": []
    },
    {
      "cell_type": "code",
      "source": [
        "dataset = pd.DataFrame(columns=['Filename', 'Type', 'Content'])\n",
        "\n",
        "for entry in sorted(os.listdir('.')):\n",
        "    entry_path = os.path.join('.', entry)\n",
        "    if os.path.isdir(entry_path):\n",
        "        # Entry is a folder, add XML files in the folder to the dataset\n",
        "        for file in sorted(os.listdir(entry_path)):\n",
        "            if file.endswith('.xml'):\n",
        "                file_path = os.path.join(entry_path, file)\n",
        "                with open(file_path, 'r') as f:\n",
        "                    content = f.read()\n",
        "                dataset = dataset.append({'Filename': file, 'Type': 'XML', 'Content': content}, ignore_index=True)\n",
        "    elif os.path.isfile(entry_path) and entry.endswith('.xml'):\n",
        "        # Entry is an XML file, add it to the dataset\n",
        "        with open(entry_path, 'r') as f:\n",
        "            content = f.read()\n",
        "        dataset = dataset.append({'Filename': entry, 'Type': 'XML', 'Content': content}, ignore_index=True)\n",
        "\n",
        "print(dataset.head())\n"
      ],
      "metadata": {
        "id": "eNt4KPaHcpqE"
      },
      "execution_count": null,
      "outputs": []
    },
    {
      "cell_type": "code",
      "source": [
        "def extract_content(df):\n",
        "  # ressort, author, title not always an attribute in article\n",
        "  df_all=pd.DataFrame(columns=[\"quelle\",\"jahrgang\",\"datum\", \"autor\",\"ressort\",\"titel\",\"text\" ])\n",
        "  for art in df:\n",
        "    quelle=art[\"metadaten\"][\"quelle\"][\"name\"]\n",
        "    jahrgang=art[\"metadaten\"][\"quelle\"][\"jahrgang\"]\n",
        "    datum=art[\"metadaten\"][\"quelle\"][\"datum\"]\n",
        "    try: \n",
        "      autor=art[\"metadaten\"][\"autor\"][\"autor-name\"]\n",
        "    except:\n",
        "      autor=\"\"\n",
        "    try: \n",
        "      ressort=art[\"inhalt\"][\"titel-liste\"][\"ressort\"]\n",
        "    except:\n",
        "      ressort=\"\"\n",
        "    try:\n",
        "      titel=art[\"inhalt\"][\"titel-liste\"][\"titel\"]\n",
        "    except:\n",
        "      titel=\"\"\n",
        "    text=art[\"inhalt\"][\"text\"]\n",
        "    df_all.loc[len(df_all),:]=[quelle, jahrgang,datum, autor, ressort, titel, text]\n",
        "  return df_all\n"
      ],
      "metadata": {
        "id": "fjcPn2Zrvsj-"
      },
      "execution_count": 37,
      "outputs": []
    },
    {
      "cell_type": "code",
      "source": [
        "review=[]\n",
        "for extr_file in extracted[6:]:\n",
        "  print(extr_file)\n",
        "  df_all=pd.DataFrame(columns=[\"quelle\",\"jahrgang\",\"datum\", \"autor\",\"ressort\",\"titel\",\"text\" ])\n",
        "  try:\n",
        "    for xml in [i for i in os.listdir(extr_file) if i.split(\".\")[-1]==\"xml\"]:\n",
        "      df= pdx.read_xml(extr_file+\"/\"+xml, ['artikel-liste',\"artikel\"]).iloc[0]\n",
        "      df=extract_content(df)\n",
        "      df_all=pd.concat([df_all,df])\n",
        "    shutil.rmtree(extr_file)\n",
        "    df_all.to_csv(extr_file+\".csv\",encoding=\"UTF8\")\n",
        "  except:\n",
        "    review.append(extr_file)"
      ],
      "metadata": {
        "id": "OgaRTvzogVoC"
      },
      "execution_count": null,
      "outputs": []
    },
    {
      "cell_type": "markdown",
      "source": [
        "things to do: \n",
        "- connect to github \n",
        "- create and store dataset \n",
        "- do some descriptive analysis: number of articles per newspaper, number of newspapers, number of topics per newspaper, etc. \n",
        "- do filtering: german newspapers only, DA related topics only \n",
        "- topic analysis: run the filtered dataset through a generic topic model "
      ],
      "metadata": {
        "id": "LownCWdKdW9g"
      }
    }
  ]
}