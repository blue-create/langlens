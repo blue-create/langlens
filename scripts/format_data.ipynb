{
  "nbformat": 4,
  "nbformat_minor": 0,
  "metadata": {
    "colab": {
      "provenance": [],
      "collapsed_sections": [
        "Sqh8TaqvAayx",
        "Hwq9XxA3QdN8"
      ],
      "machine_shape": "hm"
    },
    "kernelspec": {
      "name": "python3",
      "display_name": "Python 3"
    },
    "language_info": {
      "name": "python"
    },
    "gpuClass": "standard"
  },
  "cells": [
    {
      "cell_type": "markdown",
      "source": [
        "# Purpose\n",
        "\n",
        "This file shows the steps we took to process the raw data files, zipped xml files."
      ],
      "metadata": {
        "id": "8BbjDacn_sZj"
      }
    },
    {
      "cell_type": "markdown",
      "source": [
        "## Connect with Google drive to access data\n",
        "\n",
        "In order to access the data, you first need to create a shortcut of the data folder to your own Gdrive. If you've been granted editing rights, you should be able to edit the content of the folder, i.e. add, move and delete data, create and rename folders, etc."
      ],
      "metadata": {
        "id": "tSBVVOc8_6DR"
      }
    },
    {
      "cell_type": "code",
      "execution_count": 1,
      "metadata": {
        "id": "EiZS90YvWYBt",
        "colab": {
          "base_uri": "https://localhost:8080/"
        },
        "outputId": "c7e4c8d6-f48e-4b3a-f2a6-39799ea79427"
      },
      "outputs": [
        {
          "output_type": "stream",
          "name": "stdout",
          "text": [
            "Mounted at /content/drive\n"
          ]
        }
      ],
      "source": [
        "# connect with google drive\n",
        "from google.colab import drive\n",
        "drive.mount('/content/drive')"
      ]
    },
    {
      "cell_type": "code",
      "source": [
        "# redirect the working directory of this script to the data folder\n",
        "%cd /content/drive/MyDrive/data/\n",
        "#%cd /content/drive/MyDrive/Work/Frontline/data"
      ],
      "metadata": {
        "colab": {
          "base_uri": "https://localhost:8080/"
        },
        "id": "mdHvzLHiXTk4",
        "outputId": "a7cbad14-21ba-4272-f754-e3ea6cb3f17d"
      },
      "execution_count": 2,
      "outputs": [
        {
          "output_type": "stream",
          "name": "stdout",
          "text": [
            "/content/drive/MyDrive/data\n"
          ]
        }
      ]
    },
    {
      "cell_type": "code",
      "source": [
        "import os\n",
        "# check number of files \n",
        "num_files = len(os.listdir(\".\"))\n",
        "print(\"Number of files in the folder: \", num_files)"
      ],
      "metadata": {
        "colab": {
          "base_uri": "https://localhost:8080/"
        },
        "id": "nDLAdk9nWvNY",
        "outputId": "a421654a-6189-4cb5-bba5-65aa52fcd0b3"
      },
      "execution_count": 3,
      "outputs": [
        {
          "output_type": "stream",
          "name": "stdout",
          "text": [
            "Number of files in the folder:  6\n"
          ]
        }
      ]
    },
    {
      "cell_type": "markdown",
      "source": [
        "## Unzip the files \n",
        "\n",
        "The first step was to unzip the files and to move the unzipped xml files to another folder called \"unzipped\". Next, we check whether any zip file in the \"raw\" data folder is missing a corresponding xml file in the \"unzipped\" folder. "
      ],
      "metadata": {
        "id": "Sqh8TaqvAayx"
      }
    },
    {
      "cell_type": "code",
      "source": [
        "# unzip all files \n",
        "\n",
        "import zipfile\n",
        "import shutil\n",
        "\n",
        "# Path to the raw folder\n",
        "raw_folder = \"./Raw\"\n",
        "\n",
        "# Path to the unzipped folder\n",
        "unzipped_folder = \"./unzipped\"\n",
        "\n",
        "# Loop through all the files in the raw folder\n",
        "for filename in os.listdir(raw_folder):\n",
        "    if filename.endswith(\".zip\"):\n",
        "        # Check if the file is a valid zip file\n",
        "        if zipfile.is_zipfile(os.path.join(raw_folder, filename)):\n",
        "            # Create a ZipFile object for the current zip file\n",
        "            with zipfile.ZipFile(os.path.join(raw_folder, filename), \"r\") as zip_ref:\n",
        "                # Extract all the contents of the zip file to the unzipped folder\n",
        "                zip_ref.extractall(unzipped_folder)\n",
        "        else:\n",
        "            print(f\"File {filename} is not a valid zip file and will not be extracted.\")"
      ],
      "metadata": {
        "id": "E6QhI0PoVFUk"
      },
      "execution_count": null,
      "outputs": []
    },
    {
      "cell_type": "code",
      "source": [
        "# check whether a zip file is missing a xml file \n",
        "\n",
        "# Loop through all the files in the Raw folder\n",
        "for filename in os.listdir(raw_folder):\n",
        "    if filename.endswith(\".zip\"):\n",
        "        # Get the first part of the filename before the .zip extension\n",
        "        name = filename.split(\".\")[0]\n",
        "\n",
        "        # Loop through all the files in the unzipped folder\n",
        "        for xml_filename in os.listdir(unzipped_folder):\n",
        "            if xml_filename.startswith(name) and xml_filename.endswith(\".xml\"):\n",
        "                break\n",
        "        else:\n",
        "            # A corresponding XML file doesn't exist\n",
        "            print(f\"No corresponding XML file exists for {filename}\")"
      ],
      "metadata": {
        "id": "LS_uVeg2pl1G"
      },
      "execution_count": null,
      "outputs": []
    },
    {
      "cell_type": "markdown",
      "source": [
        "## Convert xml files to json files \n",
        "\n",
        "For further analysis, we decided to convert the xml files to json files for the following reasons: \n",
        "\n",
        "- we are dealing with big datasets \n",
        "- CSVs are slow to query and difficult to store efficiently \n",
        "- JSON supports more complex data structures"
      ],
      "metadata": {
        "id": "rAVGMAatBEUW"
      }
    },
    {
      "cell_type": "code",
      "source": [
        "# load packages and set directories \n",
        "import os \n",
        "import pandas as pd\n",
        "import xml.etree.ElementTree as ET \n",
        "from tqdm import tqdm # for progress bar \n",
        "import json\n",
        "\n",
        "# Set up paths for input and output directories \n",
        "input_dir = \"unzipped\"\n",
        "output_dir = \"json2\"\n"
      ],
      "metadata": {
        "id": "8QqNHp-uCmEm"
      },
      "execution_count": 5,
      "outputs": []
    },
    {
      "cell_type": "code",
      "source": [
        "# Iterate over all the xml files in the directory\n",
        "for xml_file in tqdm(sorted(os.listdir(input_dir)[695:])): \n",
        "  # Check if the file is an XML file\n",
        "  if xml_file.endswith(\".xml\"):\n",
        "    # Parse the xml file\n",
        "    tree = ET.parse(os.path.join(input_dir, xml_file))\n",
        "    # Get the root \n",
        "    root = tree.getroot()\n",
        "    # Create list for converted output \n",
        "    json_file = []\n",
        "    # Loop through each article, get the data and append it to the output file json_file\n",
        "    for artikel in root.findall('artikel'):\n",
        "\n",
        "      # Access static data by their xpath\n",
        "      artikel_id_elem = artikel.find('metadaten/artikel-id')\n",
        "      artikel_id = artikel_id_elem.text if artikel_id_elem is not None else None\n",
        "      name_elem = artikel.find('metadaten/quelle/name')\n",
        "      name = name_elem.text if name_elem is not None else None \n",
        "      jahrgang_elem = artikel.find('metadaten/quelle/jahrgang')\n",
        "      jahrgang = jahrgang_elem.text if jahrgang_elem is not None else None\n",
        "      datum_elem = artikel.find('metadaten/quelle/datum')\n",
        "      datum = datum_elem.text if datum_elem is not None else None\n",
        "\n",
        "      # Access variable data by their xpath \n",
        "      ressort_elem = artikel.find('inhalt/titel-liste/ressort')\n",
        "      # Store data unless data is not available and None, then store as None \n",
        "      ressort = ressort_elem.text if ressort_elem is not None else None \n",
        "\n",
        "      titel_elem = artikel.find('inhalt/titel-liste/titel')\n",
        "      titel = titel_elem.text if titel_elem is not None else None \n",
        "\n",
        "      untertitel_elem = artikel.find('inhalt/titel-liste/untertitel')\n",
        "      untertitel = untertitel_elem.text if untertitel_elem is not None else None\n",
        "\n",
        "      # Create list for text inputs \n",
        "      text = []\n",
        "      # Find the 'text' element\n",
        "      text_elem = artikel.find('inhalt/text')\n",
        "      try: \n",
        "          # Extract all the 'p' elements inside the 'text' element\n",
        "          p_elems = text_elem.findall('p')\n",
        "          # Loop over the 'p' elements and extract their text content\n",
        "          for p_elem in p_elems:\n",
        "              p_text = p_elem.text\n",
        "              # Only add text if text is not empty \n",
        "              if p_text is not None: \n",
        "                text.append(p_text)\n",
        "\n",
        "      # If no text element exists, pass \n",
        "      except: \n",
        "          pass \n",
        "\n",
        "      # Create temporary dict to store all information \n",
        "      temp_dict = {}\n",
        "      temp_dict['artikel_id'] = artikel_id\n",
        "      temp_dict['name'] = name\n",
        "      temp_dict['jahrgang'] = jahrgang\n",
        "      temp_dict['datum'] = datum\n",
        "      temp_dict['ressort'] = ressort\n",
        "      temp_dict['titel'] = titel\n",
        "      temp_dict['untertitel'] = untertitel\n",
        "      temp_dict['text'] = text\n",
        "\n",
        "      # Add the article dict to the output list \n",
        "      json_file.append(temp_dict)\n",
        "\n",
        "    # Extract the prefix of the file name\n",
        "    prefix = xml_file.split(\"_\")[0]\n",
        "  \n",
        "    # Create the output file name\n",
        "    output_file = os.path.join(output_dir, f\"{prefix}.json\")\n",
        "        \n",
        "    # Check if the output file already exists\n",
        "    if os.path.exists(output_file):\n",
        "        # Read the existing JSON data from the output file\n",
        "        with open(output_file, \"r\") as f:\n",
        "            json_data = json.load(f)\n",
        "    else:\n",
        "        # Create a new empty JSON data list\n",
        "        json_data = []\n",
        "        \n",
        "    # Append the XML data to the JSON data\n",
        "    for i in json_file:\n",
        "      json_data.append(i)\n",
        "        \n",
        "    # Write the updated JSON data to the output file\n",
        "    with open(output_file, \"w\") as f:\n",
        "        json.dump(json_data, f)\n",
        "  \n"
      ],
      "metadata": {
        "colab": {
          "base_uri": "https://localhost:8080/"
        },
        "id": "Gq8baZ6f4tpR",
        "outputId": "36c5d66b-a265-4d66-9959-e763e97dcfc0"
      },
      "execution_count": null,
      "outputs": [
        {
          "output_type": "stream",
          "name": "stderr",
          "text": [
            "  0%|          | 1/5239 [01:20<117:31:27, 80.77s/it]"
          ]
        }
      ]
    },
    {
      "cell_type": "markdown",
      "source": [
        "### Testing Data Extraction"
      ],
      "metadata": {
        "id": "Lcf3UAKTQqHO"
      }
    },
    {
      "cell_type": "code",
      "source": [
        "import re"
      ],
      "metadata": {
        "id": "7lrfCP3fTEN4"
      },
      "execution_count": null,
      "outputs": []
    },
    {
      "cell_type": "code",
      "source": [
        "art_per_src={}"
      ],
      "metadata": {
        "id": "pp2fhTxZUzqD"
      },
      "execution_count": null,
      "outputs": []
    },
    {
      "cell_type": "code",
      "source": [
        "# create a dictionary saving the number of articles per prefix usingthe xml names eg. MIB_250001_260000.xml\n",
        "\n",
        "# list of all prefixes\n",
        "prefixes= sorted([i.split(\".\")[0] for i in os.listdir(\"Raw\")])\n",
        "# list of all xml files\n",
        "xmls=os.listdir(input_dir)\n",
        "for prefix in prefixes:\n",
        "  # list of number of articles of prefix by title name\n",
        "  n_art=sorted([int(re.split(\"_|\\.\",xml)[-2]) for xml in xmls if xml.startswith(prefix)])\n",
        "  # save the largest number (total number of articles pf that prefix) or 0 if no xml of that prefix present\n",
        "  n_art = n_art[-1] if len(n_art)>0 else 0\n",
        "  art_per_src[prefix]=n_art\n",
        "# eg. prefix ANN has 352'684 articles\n",
        "art_per_src[\"AAN\"]"
      ],
      "metadata": {
        "id": "mUjev1bbR18H",
        "colab": {
          "base_uri": "https://localhost:8080/"
        },
        "outputId": "47209cdf-3c2f-4e22-8688-d13b6c20e32c"
      },
      "execution_count": null,
      "outputs": [
        {
          "output_type": "execute_result",
          "data": {
            "text/plain": [
              "352684"
            ]
          },
          "metadata": {},
          "execution_count": 17
        }
      ]
    },
    {
      "cell_type": "code",
      "source": [
        "# open every json file and check if it contains all articles\n",
        "for json_file in tqdm(os.listdir(\"json\")):\n",
        "  if json_file.endswith(\"json\"):\n",
        "    prefix=json_file.split(\".\")[0]\n",
        "    # open json file\n",
        "    df=pd.read_json(os.path.join(output_dir,json_file))\n",
        "    # compare size of dataframe to number of articles\n",
        "    if len(df)!=art_per_src[prefix]:\n",
        "      print(f\"Number of articles in {prefix} json should be {art_per_src[prefix]} but is {len(df)}.\")"
      ],
      "metadata": {
        "id": "_cgyd6DtaKD0",
        "colab": {
          "base_uri": "https://localhost:8080/"
        },
        "outputId": "8a84c0f8-5185-474b-9894-b5f070480e74"
      },
      "execution_count": null,
      "outputs": [
        {
          "output_type": "stream",
          "name": "stderr",
          "text": [
            "100%|██████████| 2/2 [00:08<00:00,  4.13s/it]\n"
          ]
        }
      ]
    },
    {
      "cell_type": "markdown",
      "source": [
        "things to do: \n",
        "- convert xml to json file\n",
        "- do some descriptive analysis: number of articles per newspaper, number of newspapers, number of topics per newspaper, etc. \n",
        "- do filtering: german newspapers only, DA related topics only \n",
        "- topic analysis: run the filtered dataset through a generic topic model "
      ],
      "metadata": {
        "id": "LownCWdKdW9g"
      }
    }
  ]
}