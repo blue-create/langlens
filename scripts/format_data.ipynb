{
  "nbformat": 4,
  "nbformat_minor": 0,
  "metadata": {
    "colab": {
      "provenance": []
    },
    "kernelspec": {
      "name": "python3",
      "display_name": "Python 3"
    },
    "language_info": {
      "name": "python"
    }
  },
  "cells": [
    {
      "cell_type": "code",
      "execution_count": 14,
      "metadata": {
        "colab": {
          "base_uri": "https://localhost:8080/"
        },
        "id": "EiZS90YvWYBt",
        "outputId": "3b9927a0-f343-4844-92a9-d5404a52ccaa"
      },
      "outputs": [
        {
          "output_type": "stream",
          "name": "stdout",
          "text": [
            "Drive already mounted at /content/drive; to attempt to forcibly remount, call drive.mount(\"/content/drive\", force_remount=True).\n"
          ]
        }
      ],
      "source": [
        "# connect with google drive\n",
        "from google.colab import drive\n",
        "drive.mount('/content/drive')"
      ]
    },
    {
      "cell_type": "code",
      "source": [
        "# access data \n",
        "%cd content/drive/MyDrive/data/raw/ # test"
      ],
      "metadata": {
        "id": "mdHvzLHiXTk4"
      },
      "execution_count": null,
      "outputs": []
    },
    {
      "cell_type": "code",
      "source": [
        "# check number of files \n",
        "import os \n",
        "\n",
        "num_files = len(os.listdir(\".\"))\n",
        "print(\"Number of files in the folder: \", num_files)"
      ],
      "metadata": {
        "colab": {
          "base_uri": "https://localhost:8080/"
        },
        "id": "nDLAdk9nWvNY",
        "outputId": "581a8f93-ac88-40f0-d5fd-f9ea21d3a22c"
      },
      "execution_count": null,
      "outputs": [
        {
          "output_type": "stream",
          "name": "stdout",
          "text": [
            "Number of files in the folder:  253\n"
          ]
        }
      ]
    },
    {
      "cell_type": "code",
      "source": [
        "# check if any folder is empty\n",
        "empty_folders = []\n",
        "\n",
        "for root, dirs, files in os.walk('.'):\n",
        "    if not dirs and not files:\n",
        "        empty_folders.append(root)\n",
        "\n",
        "print(\"Empty folders:\")\n",
        "for folder in empty_folders:\n",
        "    print(folder)\n"
      ],
      "metadata": {
        "colab": {
          "base_uri": "https://localhost:8080/"
        },
        "id": "_sjKhfS0Yklw",
        "outputId": "1a4ee76a-40cf-4778-8a71-2a1331e60ec5"
      },
      "execution_count": null,
      "outputs": [
        {
          "output_type": "stream",
          "name": "stdout",
          "text": [
            "Empty folders:\n"
          ]
        }
      ]
    },
    {
      "cell_type": "code",
      "source": [
        "import pandas as pd\n",
        "\n",
        "dataset = pd.DataFrame(columns=['Filename', 'Type', 'Content'])\n",
        "\n",
        "for entry in sorted(os.listdir('.')):\n",
        "    entry_path = os.path.join('.', entry)\n",
        "    if os.path.isdir(entry_path):\n",
        "        # Entry is a folder, add XML files in the folder to the dataset\n",
        "        for file in sorted(os.listdir(entry_path)):\n",
        "            if file.endswith('.xml'):\n",
        "                file_path = os.path.join(entry_path, file)\n",
        "                with open(file_path, 'r') as f:\n",
        "                    content = f.read()\n",
        "                dataset = dataset.append({'Filename': file, 'Type': 'XML', 'Content': content}, ignore_index=True)\n",
        "    elif os.path.isfile(entry_path) and entry.endswith('.xml'):\n",
        "        # Entry is an XML file, add it to the dataset\n",
        "        with open(entry_path, 'r') as f:\n",
        "            content = f.read()\n",
        "        dataset = dataset.append({'Filename': entry, 'Type': 'XML', 'Content': content}, ignore_index=True)\n",
        "\n",
        "print(dataset.head())\n"
      ],
      "metadata": {
        "id": "eNt4KPaHcpqE"
      },
      "execution_count": null,
      "outputs": []
    },
    {
      "cell_type": "code",
      "source": [],
      "metadata": {
        "id": "QhwqTQQHZ1nW"
      },
      "execution_count": null,
      "outputs": []
    },
    {
      "cell_type": "markdown",
      "source": [
        "things to do: \n",
        "- connect to github \n",
        "- create and store dataset \n",
        "- do some descriptive analysis: number of articles per newspaper, number of newspapers, number of topics per newspaper, etc. \n",
        "- do filtering: german newspapers only, DA related topics only \n",
        "- topic analysis: run the filtered dataset through a generic topic model "
      ],
      "metadata": {
        "id": "LownCWdKdW9g"
      }
    }
  ]
}