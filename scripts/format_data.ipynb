{
  "nbformat": 4,
  "nbformat_minor": 0,
  "metadata": {
    "colab": {
      "provenance": [],
      "collapsed_sections": [
        "Sqh8TaqvAayx"
      ]
    },
    "kernelspec": {
      "name": "python3",
      "display_name": "Python 3"
    },
    "language_info": {
      "name": "python"
    },
    "gpuClass": "standard"
  },
  "cells": [
    {
      "cell_type": "markdown",
      "source": [
        "# Purpose\n",
        "\n",
        "This file shows the steps we took to process the raw data files, zipped xml files."
      ],
      "metadata": {
        "id": "8BbjDacn_sZj"
      }
    },
    {
      "cell_type": "markdown",
      "source": [
        "### Connect with Google drive to access data\n",
        "\n",
        "In order to access the data, you first need to create a shortcut of the data folder to your own Gdrive. If you've been granted editing rights, you should be able to edit the content of the folder, i.e. add, move and delete data, create and rename folders, etc."
      ],
      "metadata": {
        "id": "tSBVVOc8_6DR"
      }
    },
    {
      "cell_type": "code",
      "source": [
        "# connect with google drive\n",
        "from google.colab import drive\n",
        "drive.mount('/content/drive')"
      ],
      "metadata": {
        "colab": {
          "base_uri": "https://localhost:8080/"
        },
        "id": "55fsThdDRuDs",
        "outputId": "1a2534e9-6413-4821-db43-bd09d23840df"
      },
      "execution_count": 11,
      "outputs": [
        {
          "output_type": "stream",
          "name": "stdout",
          "text": [
            "Mounted at /content/drive\n"
          ]
        }
      ]
    },
    {
      "cell_type": "code",
      "source": [
        "# redirect the working directory of this script to the data folder\n",
        "#%cd /content/drive/MyDrive/data/\n",
        "%cd /content/drive/MyDrive/Work/Frontline/data"
      ],
      "metadata": {
        "id": "mdHvzLHiXTk4",
        "colab": {
          "base_uri": "https://localhost:8080/"
        },
        "outputId": "44153356-6adc-4365-d32f-d8d7ea3edf7f"
      },
      "execution_count": 12,
      "outputs": [
        {
          "output_type": "stream",
          "name": "stdout",
          "text": [
            "/content/drive/.shortcut-targets-by-id/1WfnZsqpG1r110J63sMbfS5TpsDOkveiV/data\n"
          ]
        }
      ]
    },
    {
      "cell_type": "code",
      "source": [
        "import os\n",
        "# check number of files \n",
        "num_files = len(os.listdir(\"Raw\"))\n",
        "print(\"Number of files in the folder: \", num_files)"
      ],
      "metadata": {
        "id": "nDLAdk9nWvNY",
        "colab": {
          "base_uri": "https://localhost:8080/"
        },
        "outputId": "3dbb2513-af74-4490-e75d-cde52163c035"
      },
      "execution_count": 6,
      "outputs": [
        {
          "output_type": "stream",
          "name": "stdout",
          "text": [
            "Number of files in the folder:  257\n"
          ]
        }
      ]
    },
    {
      "cell_type": "markdown",
      "source": [
        "## Unzip the files \n",
        "\n",
        "The first step was to unzip the files and to move the unzipped xml files to another folder called \"unzipped\". Next, we check whether any zip file in the \"raw\" data folder is missing a corresponding xml file in the \"unzipped\" folder. "
      ],
      "metadata": {
        "id": "Sqh8TaqvAayx"
      }
    },
    {
      "cell_type": "code",
      "source": [
        "# unzip all files \n",
        "\n",
        "import zipfile\n",
        "import shutil\n",
        "\n",
        "# Path to the raw folder\n",
        "raw_folder = \"./Raw\"\n",
        "\n",
        "# Path to the unzipped folder\n",
        "unzipped_folder = \"./unzipped\"\n",
        "\n",
        "# Loop through all the files in the raw folder\n",
        "for filename in os.listdir(\"./Raw\")[-4:]:#os.listdir(raw_folder):\n",
        "    if filename.endswith(\".zip\"):\n",
        "        # Check if the file is a valid zip file\n",
        "        if zipfile.is_zipfile(os.path.join(raw_folder, filename)):\n",
        "            # Create a ZipFile object for the current zip file\n",
        "            with zipfile.ZipFile(os.path.join(raw_folder, filename), \"r\") as zip_ref:\n",
        "                # Extract all the contents of the zip file to the unzipped folder\n",
        "                zip_ref.extractall(unzipped_folder)\n",
        "        else:\n",
        "            print(f\"File {filename} is not a valid zip file and will not be extracted.\")"
      ],
      "metadata": {
        "id": "E6QhI0PoVFUk"
      },
      "execution_count": null,
      "outputs": []
    },
    {
      "cell_type": "code",
      "source": [
        "# check whether a zip file is missing a xml file \n",
        "\n",
        "# Loop through all the files in the Raw folder\n",
        "for filename in os.listdir(raw_folder):\n",
        "    if filename.endswith(\".zip\"):\n",
        "        # Get the first part of the filename before the .zip extension\n",
        "        name = filename.split(\".\")[0]\n",
        "\n",
        "        # Loop through all the files in the unzipped folder\n",
        "        for xml_filename in os.listdir(unzipped_folder):\n",
        "            if xml_filename.startswith(name) and xml_filename.endswith(\".xml\"):\n",
        "                break\n",
        "        else:\n",
        "            # A corresponding XML file doesn't exist\n",
        "            print(f\"No corresponding XML file exists for {filename}\")"
      ],
      "metadata": {
        "id": "LS_uVeg2pl1G"
      },
      "execution_count": null,
      "outputs": []
    },
    {
      "cell_type": "markdown",
      "source": [
        "## Reading XMLS and filtering\n",
        "In this step all prefixes are looped through. Before parsing the xmls files, it is checked if a csv file for that prefix already exists. If not, all the XMls with that prefix are read and filtered. If they contain words/ phrases associated with domestic violence, they are exported as csv, using their prefix as name. "
      ],
      "metadata": {
        "id": "EWH914I31Vhg"
      }
    },
    {
      "cell_type": "markdown",
      "source": [
        "#### Constants"
      ],
      "metadata": {
        "id": "x8A0YlHZF2Bt"
      }
    },
    {
      "cell_type": "code",
      "source": [
        "#FILTERED_PATH=\"filtered2\"\n",
        "FILTERED_PATH=\"filtered_4_20\""
      ],
      "metadata": {
        "id": "4W6P7pHlGBPY"
      },
      "execution_count": 1,
      "outputs": []
    },
    {
      "cell_type": "code",
      "source": [
        "comb2=['häuslicher? gewalt',\n",
        "        'partnerschaftsgewalt',\n",
        "        'partnergewalt',\n",
        "        'femizid',\n",
        "        'beziehungstat',\n",
        "        'liebesdrama',\n",
        "        'ehedrama',\n",
        "        'liebestragödie',\n",
        "        'eheliche gewalt',\n",
        "        'ehekrieg',\n",
        "        'innerfamiliäre gewalt',\n",
        "        'innerhäusliche gewalt',\n",
        "        '\\bgewalt\\b und \\behe\\b',\n",
        "        '\\behe\\b und hölle',\n",
        "       \"vergewaltigt und (freund(in)?|partner(in)?|mann|frau)\\s\",\n",
        "       \"missbraucht und (freund(in)?|partner(in)?|mann|frau)\\s\",\n",
        "       \"übergriffig und (freund(in)?|partner(in)?|mann|frau)\\s\",\n",
        "       \"gewalttätig und (freund(in)?|partner(in)?|mann|frau)\\s\",\n",
        "      # \"verletzt und (freund(in)?|partner(in)?|mann|frau)\\s\", \n",
        "       \"\\b(ge)?schlagen\\b und (freund(in)?|partner(in)?|mann|frau)\\s\", \n",
        "       \"missbrauchen und (freund(in)?|partner(in)?|mann|frau)\\s\",\n",
        "       \"missbrauch und (freund(in)?|partner(in)?|mann|frau)\\s\", \n",
        "       \"verletzung und (freund(in)?|partner(in)?|mann|frau)\\s\",\n",
        "       \"gedroht und (freund(in)?|partner(in)?|mann|frau)\\s\",\n",
        "       \"gezwungen und (freund(in)?|partner(in)?|mann|frau)\\s\",\n",
        "       \"bedroht und (freund(in)?|partner(in)?|mann|frau)\\s\",\n",
        "       \"beleidigt und (freund(in)?|partner(in)?|mann|frau)\\s\",\n",
        "       \"beleidigung und (freund(in)?|partner(in)?|mann|frau)\\s\",\n",
        "       \"gaslighting und (freund(in)?|partner(in)?|mann|frau)\\s\",\n",
        "       \"manipuliert und (freund(in)?|partner(in)?|mann|frau)\\s\",\n",
        "       \"manipulieren und (freund(in)?|partner(in)?|mann|frau)\\s\",\n",
        "       \"gezwungen und (freund(in)?|partner(in)?|mann|frau)\\s\",\n",
        "       \"eingesperrt und (freund(in)?|partner(in)?|mann|frau)\\s\",\n",
        "       \"gestalkt und (freund(in)?|partner(in)?|mann|frau)\\s\",\n",
        "       \"einsperren und (freund(in)?|partner(in)?|mann|frau)\\s\",\n",
        "        'stalken und (freund(in)?|partner(in)?|mann|frau)\\s',\n",
        "        'kontrollieren und (freund(in)?|partner(in)?|mann|frau)\\s',\n",
        "        'kontrolliert und (freund(in)?|partner(in)?|mann|frau)\\s',\n",
        "        'isolieren und (freund(in)?|partner(in)?|mann|frau)\\s',\n",
        "        'isoliert und (freund(in)?|partner(in)?|mann|frau)\\s',\n",
        "        '\\bhauen\\b und (freund(in)?|partner(in)?|mann|frau)\\s',\n",
        "        'ohrfeige und (freund(in)?|partner(in)?|mann|frau)\\s'\n",
        "]"
      ],
      "metadata": {
        "id": "SpPex4jIbqP_"
      },
      "execution_count": 20,
      "outputs": []
    },
    {
      "cell_type": "code",
      "source": [
        "comb1 = ['häuslicher? gewalt',\n",
        "        'partnerschaftsgewalt',\n",
        "        'partnergewalt',\n",
        "        'femizid',\n",
        "        'beziehungstat',\n",
        "        'liebesdrama',\n",
        "        'ehedrama',\n",
        "        'liebestragödie',\n",
        "        'eheliche gewalt',\n",
        "        'ehekrieg',\n",
        "        'innerfamiliäre gewalt',\n",
        "        'innerhäusliche gewalt',\n",
        "        'gewalt und \\behe\\b',\n",
        "        '\\behe\\b und hölle'\n",
        "        'gewalt und (freund(in)?|partner(in)?|mann|frau)\\s',\n",
        "        'vergewaltigen und (freund(in)?|partner(in)?|mann|frau)\\s',\n",
        "        'vergewaltigung und (freund(in)?|partner(in)?|mann|frau)\\s',\n",
        "        'missbrauch und (freund(in)?|partner(in)?|mann|frau)\\s',\n",
        "        'missbräuchlich und (freund(in)?|partner(in)?|mann|frau)\\s',\n",
        "        'gewalttätig und (freund(in)?|partner(in)?|mann|frau)\\s',\n",
        "        'verletzung und (freund(in)?|partner(in)?|mann|frau)\\s',\n",
        "        'verletzen und (freund(in)?|partner(in)?|mann|frau)\\s',\n",
        "        'übergriffig und (freund(in)?|partner(in)?|mann|frau)\\s',\n",
        "        'drohung und (freund(in)?|partner(in)?|mann|frau)\\s',\n",
        "        'drohen und (freund(in)?|partner(in)?|mann|frau)\\s',\n",
        "        'manipulation und (freund(in)?|partner(in)?|mann|frau)\\s',\n",
        "        'manipulieren und (freund(in)?|partner(in)?|mann|frau)\\s',\n",
        "        'beleidigen und (freund(in)?|partner(in)?|mann|frau)\\s',\n",
        "        'beleidigung und (freund(in)?|partner(in)?|mann|frau)\\s',\n",
        "        'gaslighting und (freund(in)?|partner(in)?|mann|frau)\\s',\n",
        "        '\\b(ge)?schlagen\\b und (freund(in)?|partner(in)?|mann|frau)\\s',\n",
        "        'zwingen und (freund(in)?|partner(in)?|mann|frau)\\s', \n",
        "        'gezwungen und (freund(in)?|partner(in)?|mann|frau)\\s',\n",
        "        'zwang und (freund(in)?|partner(in)?|mann|frau)\\s',\n",
        "        'einsperren und (freund(in)?|partner(in)?|mann|frau)\\s',\n",
        "        'stalking und (freund(in)?|partner(in)?|mann|frau)\\s',\n",
        "        'stalken und (freund(in)?|partner(in)?|mann|frau)\\s',\n",
        "        'kontrollieren und (freund(in)?|partner(in)?|mann|frau)\\s',\n",
        "        'kontrolle und (freund(in)?|partner(in)?|mann|frau)\\s',\n",
        "        'isolieren und (freund(in)?|partner(in)?|mann|frau)\\s',\n",
        "        'isolation und (freund(in)?|partner(in)?|mann|frau)\\s',\n",
        "        '\\bhauen\\b und (freund(in)?|partner(in)?|mann|frau)\\s',\n",
        "        'ohrfeige und (freund(in)?|partner(in)?|mann|frau)\\s'\n",
        "        ]"
      ],
      "metadata": {
        "id": "xRyLzbCkXa6M"
      },
      "execution_count": 21,
      "outputs": []
    },
    {
      "cell_type": "code",
      "source": [
        "comb3=[\n",
        "    \"häuslicher? gewalt\",\n",
        "    \"ehedrama\",\n",
        "    \"familienstreit und partner(in)?\",\n",
        "    \"gewalttätige[rn]? (ex-)?partner(in)?\",\n",
        "    \"gewalttätige[rn]? Ehe(partner|mann|frau)?(in)?\", #  -> ok\n",
        "    \"partnerschaftsgewalt\",# -> good\n",
        "    \"femizid\",# -> ok\n",
        "    \"gewalt in (der )?(\\(ex-\\))?(ex)?partnerschaft(en)?\",\n",
        "    \"beziehungsgewalt\",# -> good\n",
        "    \"beziehungstat\",\n",
        "    \"gewalttätige[rn]? (ex(-)?)?freund(in)?\",\n",
        "    \"beziehungsdrama\",# -> good\n",
        "# gewalt gegen (männer|frauen) -> not good, politics\n",
        "# partnergewalt c häusliche gewalt\n",
        "# bluttat und partner(in)? -> not\n",
        "# frauenhaus -> ok\n",
        "# liebesdrama, tragödie -> not good, books\n",
        "# eheliche gewalt -> no hits\n",
        "# familiäre gewalt -> not good\n",
        "# ehekrieg -> not good\n",
        "# beziehungskrieg -> not good\n",
        "]\n",
        "\n",
        "comb_no_match=[\"filme?\",\"putin\",\"schauspielbühnen?\"]"
      ],
      "metadata": {
        "id": "lGsImkzwk_bF"
      },
      "execution_count": 32,
      "outputs": []
    },
    {
      "cell_type": "markdown",
      "source": [
        "### Filtering and Exporting"
      ],
      "metadata": {
        "id": "5vDNYSPFcobQ"
      }
    },
    {
      "cell_type": "markdown",
      "source": [
        "#### Methods\n",
        "For this step, the following methods are defined:\n",
        "* parsing xml files\n",
        "* testing if csv was exported already\n",
        "* checking if text contains DV relatedwords\n"
      ],
      "metadata": {
        "id": "CbSGEA1tG5RR"
      }
    },
    {
      "cell_type": "code",
      "source": [
        "def parse_xml_file(xml_file):\n",
        "  \"\"\" function to combine all xml files of a prefix and returns it as json\n",
        "  Parameters:\n",
        "    - prefix (str): prefix of the journal \n",
        "  Returns:\n",
        "    - json: containing the combined xml files of a prefix as list\n",
        "  \"\"\"\n",
        "  tree = ET.parse(os.path.join(input_dir, xml_file))\n",
        "  # Get the root \n",
        "  root = tree.getroot()\n",
        "  # Create list for converted output \n",
        "  json_file = []\n",
        "  # Loop through each article, get the data and append it to the output file json_file\n",
        "  for artikel in root.findall('artikel'):\n",
        "    # Access static data by their xpath\n",
        "    # Store data unless data is not available and None, then store as None \n",
        "    artikel_id = artikel.find('metadaten/artikel-id')\n",
        "    artikel_id = artikel_id.text if artikel_id is not None else None \n",
        "\n",
        "    name = artikel.find('metadaten/quelle/name').text\n",
        "\n",
        "    jahrgang = artikel.find('metadaten/quelle/jahrgang')\n",
        "    jahrgang = jahrgang.text if jahrgang is not None else None\n",
        "\n",
        "    datum = artikel.find('metadaten/quelle/datum')\n",
        "    datum = datum.text if datum is not None else None\n",
        "\n",
        "\n",
        "    # Access variable data by their xpath \n",
        "    ressort_elem = artikel.find('inhalt/titel-liste/ressort')\n",
        "    # Store data unless data is not available and None, then store as None \n",
        "    ressort = ressort_elem.text if ressort_elem is not None else None \n",
        "\n",
        "    titel_elem = artikel.find('inhalt/titel-liste/titel')\n",
        "    titel = titel_elem.text if titel_elem is not None else None \n",
        "\n",
        "    untertitel_elem = artikel.find('inhalt/titel-liste/untertitel')\n",
        "    untertitel = untertitel_elem.text if untertitel_elem is not None else None\n",
        "\n",
        "    # Create list for text inputs \n",
        "    text = []\n",
        "    # Find the 'text' element\n",
        "    text_elem = artikel.find('inhalt/text')\n",
        "    try: \n",
        "        # Extract all the 'p' elements inside the 'text' element\n",
        "        p_elems = text_elem.findall('p')\n",
        "        # Loop over the 'p' elements and extract their text content\n",
        "        for p_elem in p_elems:\n",
        "            p_text = p_elem.text\n",
        "            # Only add text if text is not empty \n",
        "            if p_text is not None: \n",
        "              text.append(p_text)\n",
        "\n",
        "    # If no text element exists, pass \n",
        "    except: \n",
        "        pass \n",
        "\n",
        "    # Create temporary dict to store all information \n",
        "    temp_dict = {}\n",
        "    temp_dict['artikel_id'] = str(artikel_id)\n",
        "    temp_dict['name'] = name\n",
        "    temp_dict['jahrgang'] = jahrgang\n",
        "    temp_dict['datum'] = datum\n",
        "    temp_dict['ressort'] = ressort\n",
        "    temp_dict['titel'] = titel\n",
        "    temp_dict['untertitel'] = untertitel\n",
        "    temp_dict['text'] = text\n",
        "\n",
        "    # Add the article dict to the output list \n",
        "    json_file.append(temp_dict)\n",
        "  return json_file\n"
      ],
      "metadata": {
        "id": "B7NRwFGc6Bsh"
      },
      "execution_count": 3,
      "outputs": []
    },
    {
      "cell_type": "code",
      "source": [
        "def filter_strings(text, list_occur, list_not_occur):\n",
        "  \"\"\" function to compare if any of a list of words occur in a text or or list of texts \n",
        "  Parameters:\n",
        "    - text (str or list of str): text which is checked \n",
        "    - list_occur (list of str): list of words which are checked if they occur in text \n",
        "    - list_not_occur: list of words that should not occur in the text\n",
        "  Returns:\n",
        "    - boolean: True or False depending on if any of the words in list_occur occurs in text\n",
        "  \"\"\"\n",
        "  text=\" \".join(text).lower()\n",
        "\n",
        "  for comb in list_occur:\n",
        "    if all(occurs(word,text)  for word in comb.split(\" und \")):\n",
        "        for comb_not in list_not_occur:\n",
        "          if occurs(comb_not, text):\n",
        "            return False\n",
        "        print(comb)\n",
        "        return True\n",
        "  return False"
      ],
      "metadata": {
        "id": "ugnHlDF1Z0VO"
      },
      "execution_count": 37,
      "outputs": []
    },
    {
      "cell_type": "code",
      "source": [
        "def check_if_exported(prefix):\n",
        "  \"\"\" function to check if the relevant articles of a journal have been exported already\n",
        "  Parameters:\n",
        "    - prefix (str): prefix of the journal that is checked\n",
        "  Returns:\n",
        "    - boolean: returns True if the relevant articles of a journal have been exported already, False otherwise\n",
        "  \"\"\"\n",
        "  filtered=os.listdir(FILTERED_PATH)\n",
        "  filtered = [file.split(\".\")[0]for file in filtered if file.endswith(\".csv\")]\n",
        "  if prefix in filtered:\n",
        "    print(f\"{prefix} csv already exported\")\n",
        "    return True\n",
        "  else: \n",
        "    return False"
      ],
      "metadata": {
        "id": "OJBbe6OeW5SQ"
      },
      "execution_count": 5,
      "outputs": []
    },
    {
      "cell_type": "code",
      "source": [
        "def occurs( comb, text):\n",
        "  if len(re.findall(comb,text))>0:\n",
        "    return True\n",
        "  else:\n",
        "    return False\n"
      ],
      "metadata": {
        "id": "U5cECPQsPLLn"
      },
      "execution_count": 6,
      "outputs": []
    },
    {
      "cell_type": "code",
      "source": [
        "# load packages and set directories \n",
        "import os \n",
        "import pandas as pd\n",
        "import xml.etree.ElementTree as ET \n",
        "from tqdm import tqdm # for progress bar \n",
        "import json\n",
        "import re\n",
        "\n",
        "# Set up paths for input and output directories \n",
        "input_dir = \"unzipped\"\n",
        "output_dir = \"json\"\n"
      ],
      "metadata": {
        "id": "8QqNHp-uCmEm"
      },
      "execution_count": 7,
      "outputs": []
    },
    {
      "cell_type": "markdown",
      "source": [
        "#### Filtering on Country\n",
        "In this step all journals that are not Germany-based are excluded."
      ],
      "metadata": {
        "id": "ptRgTeZL_4vm"
      }
    },
    {
      "cell_type": "code",
      "source": [
        "all_prefixes= sorted([i.split(\".\")[0] for i in os.listdir(\"Raw\")])\n",
        "all_journals={}"
      ],
      "metadata": {
        "id": "M-d_qn9M_2yR"
      },
      "execution_count": 21,
      "outputs": []
    },
    {
      "cell_type": "code",
      "source": [
        "# creating a dictionary with all prefixes and their corresponding journal names\n",
        "for prefix in all_prefixes:\n",
        "  # list all xmls of a prefix\n",
        "  for xml in os.listdir(input_dir):\n",
        "    if xml.startswith(prefix+\"_\"):\n",
        "      name=parse_xml_file(xml)[0][\"name\"]\n",
        "      all_journals[prefix]=name\n",
        "      break"
      ],
      "metadata": {
        "id": "QMwwgkXqAOyl"
      },
      "execution_count": null,
      "outputs": []
    },
    {
      "cell_type": "markdown",
      "source": [
        "#### Filtering based on key-words"
      ],
      "metadata": {
        "id": "WsaZupmYAHl9"
      }
    },
    {
      "cell_type": "code",
      "source": [
        "# prefixes of journals from Switzerland, Austria, etc.\n",
        "prefixes_to_exclude=['AGZ', \"ANEW\", \"APZT\",\"AWP\", \"AWPO\", \"AWPU\", \"BAZ\", \"BERN\", \"BEOB\", \"BLI\", \"BUND\", \"BWAI\", \"DIEW\", \"DOL\", \"ELNA\",\"HZ\", \"HZO\", \"KLEI\", \"KRON\", \"KUR\", \"LUXT\", \"LZLZ\", \"NECH\",\"NLZ\", \"NVB\",\"NVT\",\"NZZ\", \"NZZS\", \"OOEN\", \"PBN\", \"PRE\", \"PROF\", \"RVZ\",\"SBLI\",\"SN\",\"STA\",\"STG\",\"TAG\",\"TAS\",\"THTA\",\"TITA\",\"VN\",\"WEWO\",\"WZ\",\"ZSAS\"]"
      ],
      "metadata": {
        "id": "pCcdaiOWE7FN"
      },
      "execution_count": 38,
      "outputs": []
    },
    {
      "cell_type": "code",
      "source": [
        "# list with all prefixes\n",
        "prefixes= sorted([i.split(\".\")[0] for i in os.listdir(\"Raw\")])\n",
        "# remove the non-German journals\n",
        "prefixes=list(set(prefixes) - set(prefixes_to_exclude))"
      ],
      "metadata": {
        "id": "soKTh8Rn2w5I"
      },
      "execution_count": 39,
      "outputs": []
    },
    {
      "cell_type": "code",
      "source": [
        "# looping through all prefixes\n",
        "for prefix in tqdm(prefixes[:5]):\n",
        "  if not check_if_exported(prefix):\n",
        "    # list all xmls of a prefix\n",
        "    xmls=[i for i in os.listdir(input_dir) if i.startswith(prefix+\"_\")]\n",
        "    # create an empty list for the json files\n",
        "    DV_art=[]\n",
        "\n",
        "    # loop through all xmlfile\n",
        "    for xml in xmls:\n",
        "      # parse each xml\n",
        "      parsed_xml=parse_xml_file(xml)\n",
        "      #loop through all articles  \n",
        "      for row_j in range(len(parsed_xml)):\n",
        "        #check if articles are associated with DV\n",
        "        if filter_strings(parsed_xml[row_j][\"text\"],comb3, comb_no_match):\n",
        "            # DV articles are added to a list\n",
        "            DV_art.append(parsed_xml[row_j])  \n",
        "    pd.DataFrame(DV_art).to_csv(FILTERED_PATH+\"/\"+prefix+\".csv\")"
      ],
      "metadata": {
        "id": "my9Pn_kC66bV"
      },
      "execution_count": null,
      "outputs": []
    },
    {
      "cell_type": "markdown",
      "source": [
        "#### Testing combinations"
      ],
      "metadata": {
        "id": "1zUrg5NTFAop"
      }
    },
    {
      "cell_type": "code",
      "source": [
        "xmls=[i for i in os.listdir(input_dir) if i.startswith(\"BADZ_\")]\n",
        "    # create an empty list for the json files\n",
        "\n",
        "DV_art=[]\n",
        "\n",
        "# loop through all xmlfile\n",
        "for xml in xmls:\n",
        "  # parse each xml\n",
        "  parsed_xml=parse_xml_file(xml)\n",
        "  #loop through all articles  \n",
        "  for row_j in range(len(parsed_xml)):\n",
        "    #check if articles are associated with DV\n",
        "    if filter_strings(parsed_xml[row_j][\"text\"],comb3, comb_no_match):\n",
        "        # DV articles are added to a list\n",
        "        DV_art.append(parsed_xml[row_j])  "
      ],
      "metadata": {
        "id": "dSzGtexKMxIP"
      },
      "execution_count": null,
      "outputs": []
    },
    {
      "cell_type": "code",
      "source": [
        "print(len(DV_art))\n",
        "DV_art"
      ],
      "metadata": {
        "id": "jVxlvaaZYC0u"
      },
      "execution_count": null,
      "outputs": []
    },
    {
      "cell_type": "markdown",
      "source": [
        "## to do list:\n",
        "\n",
        "* **do filtering: DA related topics only**\n",
        "\n",
        "* do descriptive analysis: number of articles per newspaper, number of newspapers, number of topics per newspaper, etc.\n",
        "\n",
        "* do a collocation analysis: see gitub repo \"newspaper\" under scripts\n",
        "\n",
        "* topic analysis: run the filtered dataset through a generic topic model\n"
      ],
      "metadata": {
        "id": "DBwDGU-Jy-sC"
      }
    }
  ]
}