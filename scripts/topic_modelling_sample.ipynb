{
  "nbformat": 4,
  "nbformat_minor": 0,
  "metadata": {
    "colab": {
      "provenance": [],
      "collapsed_sections": [
        "do5VAushVvBB"
      ],
      "authorship_tag": "ABX9TyP7YPaDw4e2wIgqZ8lUUyJ/"
    },
    "kernelspec": {
      "name": "python3",
      "display_name": "Python 3"
    },
    "language_info": {
      "name": "python"
    }
  },
  "cells": [
    {
      "cell_type": "markdown",
      "source": [
        "#### Imports"
      ],
      "metadata": {
        "id": "CYallZU4Vmiz"
      }
    },
    {
      "cell_type": "code",
      "source": [
        "import json\n",
        "import nltk\n",
        "from nltk.collocations import *\n",
        "import datetime as dt\n",
        "import locale\n",
        "import spacy\n",
        "from tqdm import tqdm\n",
        "import pprint\n",
        "import pandas as pd\n",
        "from ast import literal_eval\n",
        "import os\n",
        "import gensim\n",
        "import gensim.corpora as corpora\n",
        "from pprint import pprint\n"
      ],
      "metadata": {
        "id": "XVDupKhjVzJw"
      },
      "execution_count": 1,
      "outputs": []
    },
    {
      "cell_type": "code",
      "source": [
        "#!python -m spacy download de_core_news_lg"
      ],
      "metadata": {
        "id": "pxxX3cKAWJsY",
        "colab": {
          "base_uri": "https://localhost:8080/"
        },
        "outputId": "2e0adcd4-107d-4006-adb3-560672aaccfe"
      },
      "execution_count": 19,
      "outputs": [
        {
          "output_type": "stream",
          "name": "stderr",
          "text": [
            "/usr/local/lib/python3.10/dist-packages/ipykernel/ipkernel.py:283: DeprecationWarning: `should_run_async` will not call `transform_cell` automatically in the future. Please pass the result to `transformed_cell` argument and any exception that happen during thetransform in `preprocessing_exc_tuple` in IPython 7.17 and above.\n",
            "  and should_run_async(code)\n"
          ]
        }
      ]
    },
    {
      "cell_type": "code",
      "source": [
        "#NOTE: default version doesntwork in colab\n",
        "#!pip install pyLDAvis==2.1.2"
      ],
      "metadata": {
        "colab": {
          "base_uri": "https://localhost:8080/"
        },
        "id": "h9-XJP_U-NOd",
        "outputId": "a847a4da-1a40-406a-8897-de663e7b75b8"
      },
      "execution_count": 20,
      "outputs": [
        {
          "output_type": "stream",
          "name": "stderr",
          "text": [
            "/usr/local/lib/python3.10/dist-packages/ipykernel/ipkernel.py:283: DeprecationWarning: `should_run_async` will not call `transform_cell` automatically in the future. Please pass the result to `transformed_cell` argument and any exception that happen during thetransform in `preprocessing_exc_tuple` in IPython 7.17 and above.\n",
            "  and should_run_async(code)\n"
          ]
        }
      ]
    },
    {
      "cell_type": "markdown",
      "source": [
        "#### Read Data"
      ],
      "metadata": {
        "id": "Vwr8p0YQVpe4"
      }
    },
    {
      "cell_type": "code",
      "source": [
        "# connect with google drive\n",
        "from google.colab import drive\n",
        "drive.mount('/content/drive')"
      ],
      "metadata": {
        "colab": {
          "base_uri": "https://localhost:8080/"
        },
        "id": "Sq-tfVoNV9Vn",
        "outputId": "43c0c763-4449-4422-f19f-a8b335cdf71b"
      },
      "execution_count": 5,
      "outputs": [
        {
          "output_type": "stream",
          "name": "stdout",
          "text": [
            "Mounted at /content/drive\n"
          ]
        }
      ]
    },
    {
      "cell_type": "code",
      "source": [
        "#change cwd\n",
        "%cd drive/MyDrive/Work/Frontline/data"
      ],
      "metadata": {
        "id": "JZo05nte48yW",
        "colab": {
          "base_uri": "https://localhost:8080/"
        },
        "outputId": "f05cf6c9-d2a1-4df9-b559-04560e391c49"
      },
      "execution_count": 6,
      "outputs": [
        {
          "output_type": "stream",
          "name": "stdout",
          "text": [
            "/content/drive/.shortcut-targets-by-id/1WfnZsqpG1r110J63sMbfS5TpsDOkveiV/data\n"
          ]
        }
      ]
    },
    {
      "cell_type": "code",
      "source": [
        "# paths\n",
        "FILTERED_PATH=\"filtered_4_26\""
      ],
      "metadata": {
        "id": "bI87iJZopQK8"
      },
      "execution_count": 7,
      "outputs": []
    },
    {
      "cell_type": "code",
      "source": [
        "## FOR NOW: USE SMALL DATA SET\n",
        "df=pd.read_csv(\"sample.csv\")"
      ],
      "metadata": {
        "id": "R0Bims7CWA4H"
      },
      "execution_count": 8,
      "outputs": []
    },
    {
      "cell_type": "markdown",
      "source": [
        "### Topic Modelling\n"
      ],
      "metadata": {
        "id": "gnp6TO19XUOC"
      }
    },
    {
      "cell_type": "markdown",
      "source": [
        "#### Prepare Data\n"
      ],
      "metadata": {
        "id": "x5W-YSNIWWeT"
      }
    },
    {
      "cell_type": "code",
      "source": [
        "# custom module\n",
        "import preprocessing"
      ],
      "metadata": {
        "id": "AWIDwI00zTLF"
      },
      "execution_count": 9,
      "outputs": []
    },
    {
      "cell_type": "code",
      "execution_count": 10,
      "metadata": {
        "id": "a91da867"
      },
      "outputs": [],
      "source": [
        "# Load model\n",
        "spacy_mod = spacy.load(\"de_core_news_lg\", disable=['ner', 'parser', 'tagger'])"
      ]
    },
    {
      "cell_type": "code",
      "source": [
        "# read custom stopwords\n",
        "\n",
        "# open list of custom stopwords\n",
        "custom_stop_words= open(\"custom_stopwords.txt\").read().split()\n",
        "\n",
        "# add custom stopwords to model\n",
        "for word in custom_stop_words:\n",
        "  spacy_mod.Defaults.stop_words.add(word)"
      ],
      "metadata": {
        "id": "JB_UeUu-t269"
      },
      "execution_count": 11,
      "outputs": []
    },
    {
      "cell_type": "code",
      "execution_count": 12,
      "metadata": {
        "colab": {
          "base_uri": "https://localhost:8080/"
        },
        "id": "IZhcGtp_VdhH",
        "outputId": "42aaa4a4-96f4-4702-dbfd-9d88d9bef385"
      },
      "outputs": [
        {
          "output_type": "stream",
          "name": "stderr",
          "text": [
            "50it [00:02, 20.37it/s]\n"
          ]
        }
      ],
      "source": [
        "# convert corpus to language object\n",
        "spacy_lang = []\n",
        "for i, doc in tqdm(df.iterrows()): \n",
        "  spacy_lang.append(spacy_mod(\"\".join(doc['text'])))"
      ]
    },
    {
      "cell_type": "code",
      "source": [
        "# preprocess: remove stopwords\n",
        "spacy_cleaned = []\n",
        "for doc in tqdm(spacy_lang): \n",
        "    spacy_cleaned.append(preprocessing.preprocess(doc, remove_ent=True))"
      ],
      "metadata": {
        "colab": {
          "base_uri": "https://localhost:8080/"
        },
        "id": "VSbsu2D3XJDI",
        "outputId": "ee67309d-b72c-46c8-9cec-1e5238baa4ef"
      },
      "execution_count": 13,
      "outputs": [
        {
          "output_type": "stream",
          "name": "stderr",
          "text": [
            "100%|██████████| 50/50 [00:00<00:00, 1150.44it/s]\n"
          ]
        }
      ]
    },
    {
      "cell_type": "markdown",
      "source": [
        "#### Topic Analysis"
      ],
      "metadata": {
        "id": "mPPO8L1BXgDR"
      }
    },
    {
      "cell_type": "code",
      "source": [
        "# Create Dictionary\n",
        "id2word = corpora.Dictionary(spacy_cleaned)\n",
        "\n",
        "# Create Corpus\n",
        "texts = spacy_cleaned\n",
        "\n",
        "# Term Document Frequency\n",
        "corpus = [id2word.doc2bow(text) for text in texts]"
      ],
      "metadata": {
        "id": "YimmnX9DXj05"
      },
      "execution_count": 14,
      "outputs": []
    },
    {
      "cell_type": "code",
      "source": [
        "# number of topics\n",
        "num_topics = 5\n",
        "# Build LDA model\n",
        "lda_model = gensim.models.LdaMulticore(corpus=corpus,id2word=id2word, num_topics=num_topics)\n",
        "# Print the key words for each topic\n",
        "pprint(lda_model.print_topics())\n",
        "doc_lda = lda_model[corpus]"
      ],
      "metadata": {
        "colab": {
          "base_uri": "https://localhost:8080/"
        },
        "id": "H_QskpU6XzBa",
        "outputId": "b97cffd2-6356-402b-c0b7-b9e519d51735"
      },
      "execution_count": 15,
      "outputs": [
        {
          "output_type": "stream",
          "name": "stderr",
          "text": [
            "WARNING:gensim.models.ldamulticore:too few updates, training might not converge; consider increasing the number of passes or iterations to improve accuracy\n"
          ]
        },
        {
          "output_type": "stream",
          "name": "stdout",
          "text": [
            "[(0,\n",
            "  '0.015*\"gewalt\" + 0.007*\"frauen\" + 0.006*\"häuslicher\" + 0.006*\"frau\" + '\n",
            "  '0.004*\"mann\" + 0.004*\"polizei\" + 0.004*\"opfer\" + 0.003*\"fälle\" + '\n",
            "  '0.003*\"prozent\" + 0.003*\"männer\"'),\n",
            " (1,\n",
            "  '0.011*\"frauen\" + 0.011*\"gewalt\" + 0.010*\"frau\" + 0.009*\"opfer\" + '\n",
            "  '0.005*\"mann\" + 0.004*\"häuslicher\" + 0.004*\"männer\" + 0.004*\"polizei\" + '\n",
            "  '0.003*\"prozent\" + 0.003*\"menschen\"'),\n",
            " (2,\n",
            "  '0.020*\"frauen\" + 0.019*\"gewalt\" + 0.006*\"opfer\" + 0.006*\"frau\" + '\n",
            "  '0.006*\"häuslicher\" + 0.004*\"männer\" + 0.003*\"fälle\" + 0.003*\"landkreis\" + '\n",
            "  '0.003*\"mann\" + 0.003*\"prozent\"'),\n",
            " (3,\n",
            "  '0.010*\"frau\" + 0.008*\"mann\" + 0.008*\"frauen\" + 0.007*\"gewalt\" + '\n",
            "  '0.006*\"opfer\" + 0.006*\"polizei\" + 0.004*\"männer\" + 0.004*\"kinder\" + '\n",
            "  '0.003*\"häuslicher\" + 0.003*\"mutter\"'),\n",
            " (4,\n",
            "  '0.011*\"gewalt\" + 0.007*\"opfer\" + 0.007*\"frauen\" + 0.007*\"frau\" + '\n",
            "  '0.004*\"mann\" + 0.003*\"häuslicher\" + 0.003*\"polizei\" + 0.002*\"weißen\" + '\n",
            "  '0.002*\"prozent\" + 0.002*\"leben\"')]\n"
          ]
        }
      ]
    },
    {
      "cell_type": "code",
      "source": [
        "import pyLDAvis\n",
        "import pyLDAvis.gensim\n",
        "import pickle \n",
        "pyLDAvis.enable_notebook()\n",
        "pyLDAvis.gensim.prepare(lda_model, corpus, id2word)"
      ],
      "metadata": {
        "colab": {
          "base_uri": "https://localhost:8080/",
          "height": 954
        },
        "id": "aQiV-CSa-5TU",
        "outputId": "40830ecc-b50c-4193-9fc7-e78b0a233eec"
      },
      "execution_count": 18,
      "outputs": [
        {
          "output_type": "stream",
          "name": "stderr",
          "text": [
            "/usr/local/lib/python3.10/dist-packages/ipykernel/ipkernel.py:283: DeprecationWarning: `should_run_async` will not call `transform_cell` automatically in the future. Please pass the result to `transformed_cell` argument and any exception that happen during thetransform in `preprocessing_exc_tuple` in IPython 7.17 and above.\n",
            "  and should_run_async(code)\n",
            "/usr/local/lib/python3.10/dist-packages/pyLDAvis/_prepare.py:232: FutureWarning: In a future version of pandas all arguments of DataFrame.drop except for the argument 'labels' will be keyword-only.\n",
            "  head(R).drop('saliency', 1)\n"
          ]
        },
        {
          "output_type": "execute_result",
          "data": {
            "text/plain": [
              "PreparedData(topic_coordinates=              x         y  topics  cluster       Freq\n",
              "topic                                                \n",
              "2      0.035536 -0.001159       1        1  33.440230\n",
              "3     -0.018311 -0.013384       2        1  21.298935\n",
              "1     -0.001418 -0.006741       3        1  18.706762\n",
              "0     -0.009873  0.022117       4        1  18.438835\n",
              "4     -0.005934 -0.000832       5        1   8.115238, topic_info=           Term       Freq      Total Category  logprob  loglift\n",
              "176       opfer  44.000000  44.000000  Default  30.0000  30.0000\n",
              "114      gewalt  93.000000  93.000000  Default  29.0000  29.0000\n",
              "8          frau  53.000000  53.000000  Default  28.0000  28.0000\n",
              "15         mann  33.000000  33.000000  Default  27.0000  27.0000\n",
              "20      polizei  25.000000  25.000000  Default  26.0000  26.0000\n",
              "...         ...        ...        ...      ...      ...      ...\n",
              "357      kinder   0.874393  16.888477   Topic5  -6.4854  -0.4494\n",
              "1616       laut   0.793276  11.663339   Topic5  -6.5828  -0.1766\n",
              "353   häusliche   0.836966  15.844063   Topic5  -6.5292  -0.4293\n",
              "678      männer   0.924232  25.708311   Topic5  -6.4300  -0.8142\n",
              "476       fälle   0.803103  17.668614   Topic5  -6.5705  -0.5796\n",
              "\n",
              "[375 rows x 6 columns], token_table=      Topic      Freq         Term\n",
              "term                              \n",
              "463       1  0.657788       aktion\n",
              "463       2  0.131558       aktion\n",
              "463       3  0.131558       aktion\n",
              "266       1  0.551774  akzeptieren\n",
              "1658      2  0.758885    alarmiert\n",
              "...     ...       ...          ...\n",
              "781       2  0.260214        zuvor\n",
              "781       3  0.260214        zuvor\n",
              "781       4  0.260214        zuvor\n",
              "2121      4  0.758289       zählte\n",
              "2000      4  0.758083      übersah\n",
              "\n",
              "[550 rows x 3 columns], R=30, lambda_step=0.01, plot_opts={'xlab': 'PC1', 'ylab': 'PC2'}, topic_order=[3, 4, 2, 1, 5])"
            ],
            "text/html": [
              "\n",
              "<link rel=\"stylesheet\" type=\"text/css\" href=\"https://cdn.rawgit.com/bmabey/pyLDAvis/files/ldavis.v1.0.0.css\">\n",
              "\n",
              "\n",
              "<div id=\"ldavis_el5121405197592127522810409245\"></div>\n",
              "<script type=\"text/javascript\">\n",
              "\n",
              "var ldavis_el5121405197592127522810409245_data = {\"mdsDat\": {\"x\": [0.03553591422528323, -0.018311273433085938, -0.0014176465131640814, -0.009873451072710163, -0.005933543206323036], \"y\": [-0.001159388436989944, -0.013383755397099654, -0.006741303415045243, 0.022116830506534638, -0.0008323832573998027], \"topics\": [1, 2, 3, 4, 5], \"cluster\": [1, 1, 1, 1, 1], \"Freq\": [33.44023029832138, 21.2989349459411, 18.706761574528446, 18.438835304638182, 8.115237876570891]}, \"tinfo\": {\"Term\": [\"opfer\", \"gewalt\", \"frau\", \"mann\", \"polizei\", \"frauen\", \"m\\u00e4rz\", \"wei\\u00dfen\", \"kind\", \"h\\u00e4uslicher\", \"mutter\", \"staatsanwaltschaft\", \"straftaten\", \"ring\", \"laut\", \"demnach\", \"messer\", \"prozent\", \"umfeld\", \"hilfe\", \"tochter\", \"schauspieler\", \"leben\", \"europarat\", \"auto\", \"erkennen\", \"gekommen\", \"zahl\", \"sprecherin\", \"beziehungstat\", \"orange\", \"club\", \"gedenktag\", \"november\", \"infos\", \"mitglieder\", \"verteilen\", \"schwestern\", \"beseitigung\", \"aktion\", \"ziel\", \"clubs\", \"gespendet\", \"start\", \"kaution\", \"zuversicht\", \"australischen\", \"pl\\u00e4dierte\", \"vorfalls\", \"gef\\u00fchlen\", \"erfahrungsaustausch\", \"vertagt\", \"beschuldigt\", \"interessenten\", \"mut\", \"metropole\", \"informationsstelle\", \"t\\u00e4tlichen\", \"bestehen\", \"mitternacht\", \"frauen\", \"telefon\", \"gewalt\", \"dezember\", \"gesellschaft\", \"aufmerksam\", \"betroffen\", \"euro\", \"weltweit\", \"heblich\", \"landkreis\", \"femizide\", \"interventionsstelle\", \"zahlen\", \"vereinten\", \"straftaten\", \"h\\u00e4uslicher\", \"schutz\", \"f\\u00e4lle\", \"opfer\", \"m\\u00e4nner\", \"h\\u00e4usliche\", \"insgesamt\", \"thema\", \"statistik\", \"prozent\", \"beamten\", \"f\\u00e4llen\", \"frau\", \"k\\u00f6rperverletzung\", \"leben\", \"menschen\", \"zudem\", \"mann\", \"t\\u00e4ter\", \"kinder\", \"get\\u00f6tet\", \"polizei\", \"opfern\", \"hilferufe\", \"stirbt\", \"stichverletzungen\", \"lauter\", \"hals\", \"schwere\", \"os\", \"furchtbarer\", \"feuerwehr\", \"alarmiert\", \"anblick\", \"zugef\\u00fcgt\", \"aufbrechen\", \"gelitten\", \"zeitweise\", \"betreuerin\", \"verhandlungstag\", \"mehrfamilienhaus\", \"messer\", \"regierungspr\\u00e4sidium\", \"letztendlich\", \"verstorbene\", \"urteil\", \"krankenhaus\", \"regierungspr\\u00e4sidiums\", \"oktober\", \"mehrere\", \"rechtsmediziner\", \"irre\", \"j\\u00fcngere\", \"verletzt\", \"mutter\", \"beziehungstat\", \"mann\", \"wohnung\", \"polizei\", \"frau\", \"demnach\", \"laut\", \"kinder\", \"staatsanwaltschaft\", \"zeugen\", \"vater\", \"alte\", \"schwer\", \"m\\u00e4nner\", \"t\\u00e4ter\", \"opfer\", \"angeklagte\", \"frauen\", \"menschen\", \"tochter\", \"gewalt\", \"leben\", \"motiv\", \"h\\u00e4uslicher\", \"get\\u00f6tet\", \"hilfe\", \"fall\", \"prozent\", \"f\\u00e4lle\", \"landkreis\", \"schauspieler\", \"verleumdung\", \"schauspielerin\", \"depp\", \"verhalten\", \"pr\\u00e4sent\", \"erinnerungen\", \"interview\", \"fernsehsender\", \"motorhaube\", \"geschmissen\", \"beziehungsdrama\", \"montagnachmittag\", \"staatsanwalts\", \"zusammengelebt\", \"verd\\u00e4chtigen\", \"geschiedenen\", \"wort\", \"dollar\", \"streitereien\", \"schadenersatz\", \"besuch\", \"provoziert\", \"klagte\", \"missbr\\u00e4uchliches\", \"gegenseitig\", \"werfen\", \"stra\\u00dfe\", \"stunde\", \"zivilprozess\", \"tatorts\", \"taxifahrer\", \"gekommen\", \"stock\", \"moderatorin\", \"opfer\", \"frau\", \"h\\u00fcllen\", \"tatwaffe\", \"foto\", \"woraufhin\", \"frauen\", \"gewalt\", \"zuvor\", \"prozent\", \"m\\u00e4nner\", \"mann\", \"leben\", \"menschen\", \"partner\", \"polizei\", \"h\\u00e4uslicher\", \"ring\", \"verletzungen\", \"stehen\", \"h\\u00e4usliche\", \"kinder\", \"angaben\", \"helfer\", \"get\\u00f6tet\", \"fall\", \"opfern\", \"wei\\u00dfen\", \"anzeige\", \"landkreis\", \"t\\u00e4ter\", \"kind\", \"finden\", \"laut\", \"f\\u00e4lle\", \"f\\u00e4llen\", \"zudem\", \"hilfe\", \"schutz\", \"europarat\", \"z\\u00e4hlte\", \"zur\\u00fcckgegangen\", \"quartal\", \"geldautomatensprengungen\", \"m\\u00e4rz\", \"entwicklungen\", \"bericht\", \"schwebe\", \"wochenlang\", \"defizite\", \"aufgefundenen\", \"verlobter\", \"\\u00fcbersah\", \"landesweit\", \"gravierende\", \"verklagen\", \"auswertung\", \"umgebauten\", \"ausgearbeitet\", \"beamte\", \"weiterreisen\", \"touristenstadt\", \"unterk\\u00fcnften\", \"verlobtem\", \"verh\\u00e4ngnisvolles\", \"mitteilung\", \"begr\\u00fc\\u00dfenswerte\", \"lie\\u00dfen\", \"nacht\", \"erkennen\", \"massiv\", \"gewalt\", \"h\\u00e4uslicher\", \"gebe\", \"vorliegt\", \"l\\u00e4ndlichen\", \"f\\u00e4lle\", \"gleichstellungsbeauftragte\", \"redaktion\", \"demnach\", \"polizei\", \"geschlechtsspezifischer\", \"blick\", \"familie\", \"tochter\", \"mann\", \"frau\", \"frauen\", \"h\\u00e4usliche\", \"prozent\", \"zahl\", \"laut\", \"opfer\", \"menschen\", \"kreis\", \"m\\u00e4nner\", \"hilfe\", \"gleichstellung\", \"t\\u00e4ter\", \"schutz\", \"missbrauch\", \"opfern\", \"wei\\u00dfen\", \"kinder\", \"leben\", \"landkreis\", \"alt\", \"psychotherapien\", \"meistens\", \"trauma\", \"freundeskreis\", \"eintr\\u00e4ge\", \"app\", \"nachstellende\", \"laden\", \"k\\u00fcmmert\", \"stalker\", \"beweismaterial\", \"alkoholiker\", \"vorangegangenen\", \"resultiert\", \"sch\\u00f6nsten\", \"erg\\u00e4nzt\", \"platzierte\", \"akzeptieren\", \"\\u00fcberwacht\", \"schizophren\", \"anrechnung\", \"einziges\", \"nachgestellt\", \"sexualdelikten\", \"\\u00f6ffentlicher\", \"setzte\", \"zugestanden\", \"hinterbliebenen\", \"verunglimpfungen\", \"angetan\", \"firma\", \"auto\", \"umfeld\", \"kind\", \"wei\\u00dfen\", \"ausschreibung\", \"erlitten\", \"ehrenamtlern\", \"h\\u00e4ufig\", \"sprecherin\", \"opfer\", \"folgten\", \"frauenfeindliche\", \"ring\", \"straftaten\", \"studie\", \"frau\", \"gewalt\", \"hilfe\", \"staatsanwaltschaft\", \"frauen\", \"beziehung\", \"mann\", \"zahl\", \"prozent\", \"leben\", \"polizei\", \"anzeige\", \"h\\u00e4uslicher\", \"gericht\", \"t\\u00e4ter\", \"partner\", \"finden\", \"fall\", \"landkreis\", \"mutter\", \"menschen\", \"kinder\", \"laut\", \"h\\u00e4usliche\", \"m\\u00e4nner\", \"f\\u00e4lle\"], \"Freq\": [44.0, 93.0, 53.0, 33.0, 25.0, 88.0, 5.0, 9.0, 7.0, 33.0, 10.0, 8.0, 9.0, 9.0, 11.0, 7.0, 5.0, 18.0, 6.0, 11.0, 6.0, 2.0, 16.0, 2.0, 4.0, 4.0, 4.0, 9.0, 4.0, 7.0, 3.952360521315414, 2.415358513196014, 2.357364071492158, 3.9868907506559004, 1.6619221235365214, 1.6633380270902574, 1.6445994048669565, 1.6415928610455512, 1.6370877883635067, 5.3920582387235925, 1.6284306908997956, 1.6107462631079976, 1.5689445943208997, 1.5643819176395335, 1.0089842969563712, 0.9916660463774457, 1.0078173691610404, 1.0054793204391632, 1.0019669200175083, 0.9835322654374067, 0.9834571327748067, 1.0024373068520658, 1.0008028105562732, 0.9812408223378926, 0.9810924817286605, 0.9956124702498382, 0.9766536742677928, 0.997813314219154, 0.9931553640973819, 1.5136381559457794, 47.63396180994632, 3.4468335974150435, 44.08292024060301, 4.206922630337502, 2.647563121536214, 4.335205774469207, 5.403520197271226, 4.2164299023401295, 2.1662667219138187, 2.4562048354645265, 7.239902150601057, 2.476754202974385, 2.4833667021614514, 5.032952432316564, 1.3991307539144204, 4.9730184268360205, 13.28172690264858, 5.4485964953181005, 7.707900137683119, 14.543158251998003, 9.504578500110458, 6.582778822929372, 4.352863118757744, 3.8964917909182737, 3.5723437757560057, 7.007450903657555, 3.62196707779708, 4.155302847918978, 13.663458570135292, 3.9964755612160876, 5.6990020427280275, 6.004069523623287, 4.102037158388566, 7.056081877137521, 5.026924771824283, 5.190747796301293, 4.528407663478617, 4.986766398034545, 4.045846175546533, 0.7668175837676692, 0.7656895800374668, 0.7576418049379702, 0.7564534693827322, 0.7549182915067882, 0.7495271306885067, 0.7490121648495592, 0.747187674419308, 0.7462636080193059, 0.7422323212834684, 0.7344325283733782, 1.0839006407153586, 0.7337426089982606, 1.3635136939209394, 1.3343270133325307, 1.3278567972458681, 1.6142477676022267, 0.9940692677315542, 2.9015170081789257, 1.2725087837540756, 0.9383042728887896, 0.9069814604110555, 0.8896033554351431, 1.5062490723144308, 0.880444126264271, 0.8768635331473864, 1.7519362005681698, 1.7413395153163318, 0.5804488109661976, 1.4530526895988016, 2.259322996287509, 4.354720308429485, 3.0132137203533778, 12.18561641965165, 3.665705297737094, 8.467663586305003, 15.387285045462015, 3.064267578983415, 4.0814257223224875, 5.334135072180642, 3.196007416590907, 2.5439237138675916, 2.214532964612626, 3.331513221007011, 1.7084436971710495, 6.501999137271509, 4.268299215936014, 8.8770317439595, 2.1021073669351305, 11.6347106761068, 4.263937111152303, 2.347822515775243, 10.585117653268291, 3.8260961849115964, 2.1011128112475324, 4.7974781470640995, 2.8125029606739065, 2.716785163007667, 2.1914103767371276, 2.470595065228522, 2.344356719498158, 2.1235000338593886, 1.4282850842483785, 1.0526547956243713, 0.9901547901710798, 0.9766313980777637, 0.9718222263626861, 0.6960760778189966, 0.6960683101745391, 0.6959230321509706, 0.695902497882949, 0.6958162847202067, 0.6958275901037242, 0.6955699504113185, 0.6953790663168258, 0.6953830655001109, 0.6949823011905211, 1.295927652800399, 0.5862580049121696, 0.5810132298484993, 0.5794966164949951, 0.5779396267717855, 0.5750200307052334, 0.5743131366059061, 0.5739104880657301, 0.5735210675933432, 0.5702030528920128, 0.5639351790736941, 0.563734604650472, 0.8655178589623614, 0.9090118996679448, 0.5535231515761878, 0.8544758831900807, 0.8488189615259323, 2.0569305481604063, 1.0931280686170266, 0.9028908420206119, 12.119174247892161, 12.68162676821659, 1.5825763440529865, 1.0448690010272434, 0.8346813871688695, 0.7920209454561175, 15.159951412942995, 14.169299570434, 1.3960884286937263, 4.331358217428533, 5.377181254391386, 6.375344793627738, 3.8172315202918012, 4.039421836799331, 2.7113647454864185, 4.757072508645635, 5.599537075561023, 2.514620770777771, 1.7953153599398852, 1.7842128580667318, 3.241160857993149, 3.340541485516398, 1.8502221468527007, 1.4198266577856449, 2.6028238348339, 2.359704869306978, 2.2203311784147695, 2.1362592706921513, 1.7380501315920511, 2.4810107115613187, 2.514487413396687, 1.8085229703684198, 2.032845159196393, 2.142455082303967, 2.3730844446167723, 1.9204130432074697, 1.938567181915451, 1.9376499846104869, 1.830424959073509, 1.7058006781966615, 0.8170815346524826, 0.8170913136097754, 0.8170027723530474, 0.8169779080275279, 3.0834134851797765, 1.155119848094624, 1.079558754764171, 0.6725734101915017, 0.6729344735526278, 1.0344842809495627, 0.6685288637775783, 0.6681154185599462, 0.664275472190465, 0.9993888161198945, 1.0236344899303473, 0.6596829251387963, 1.0481703486130214, 0.6582467829224343, 0.6587023003981862, 0.6508455525633794, 0.6442866012312973, 0.6424563442942772, 0.6459083162186098, 0.6407659491883042, 0.6387408711641345, 0.6387278325544109, 0.641666522929681, 0.6307411913605259, 0.6314194643867016, 2.024143641010158, 0.9111133347738753, 19.07292681949123, 8.309896528717696, 1.9126971856795698, 0.9082462051403443, 0.8630756094819595, 4.44016997462775, 1.459161578605666, 1.236257069646305, 2.4122504432086718, 5.618874241924575, 1.1146374664964618, 2.1161706032748007, 1.946218844832073, 2.0637003571238126, 5.6661552730172975, 7.301703315576046, 9.70448014753831, 3.2277605979718444, 3.4967956323275575, 2.29261255712508, 2.501252751240913, 5.047998727925, 2.971571626428732, 1.888471448813055, 3.4003202299710407, 2.31852436816295, 1.6310909605976394, 2.4929557987161926, 2.118409757077224, 1.4665615960707932, 1.9204631938874044, 1.8763679803077378, 2.148659180024317, 1.9238600549438936, 1.7790646262337697, 0.3411265257397413, 0.22800226661222514, 0.556181515314411, 0.33572075031748544, 0.32285554730178284, 0.3339392435919261, 0.32907992768346195, 0.21777067215871657, 0.21723437180738592, 0.21641067892587626, 0.2155770937892937, 0.21404788127237306, 0.21490165128018368, 0.21155713488968061, 0.21319819828394337, 0.20463080475890688, 0.31403682710738967, 0.21224432132386878, 0.31798198521147675, 0.21046294805200352, 0.20808023243466045, 0.2092846687053508, 0.20894773149124846, 0.20788433909347795, 0.20727098591553383, 0.19906845479008378, 0.20599078131003543, 0.20658114708917605, 0.204073018362831, 0.2037741154515385, 0.3015098291158831, 0.2972495534766741, 0.6398377308007133, 0.9198003600160749, 1.0191872628737197, 1.3464133852928601, 0.3811745113394091, 0.38391561685217623, 0.29454084384814233, 0.7752573979645523, 0.6232866034816539, 4.242767315269243, 0.45088451552462105, 0.4656682822096925, 1.0878928278305164, 1.1179755591866152, 0.6538687185609613, 4.022017022483034, 6.040725411511287, 1.1535059370614842, 0.9044120147334445, 4.220651902902797, 0.6951171868656326, 2.10216659259598, 0.9344475702086896, 1.3432068933854486, 1.246377964208884, 1.6076157614643807, 0.6873877490856595, 1.8047559605105639, 0.6321102280993041, 1.0870954420084504, 0.8716977767108333, 0.8457363623349936, 0.8574680096732685, 0.9906876926903694, 0.8125204051495275, 0.947394847246245, 0.8743930742431111, 0.7932763157378366, 0.8369659190144301, 0.9242320235618929, 0.8031029115932674], \"Total\": [44.0, 93.0, 53.0, 33.0, 25.0, 88.0, 5.0, 9.0, 7.0, 33.0, 10.0, 8.0, 9.0, 9.0, 11.0, 7.0, 5.0, 18.0, 6.0, 11.0, 6.0, 2.0, 16.0, 2.0, 4.0, 4.0, 4.0, 9.0, 4.0, 7.0, 4.855368266668704, 3.1585056421599673, 3.1376222423646376, 5.457592608754374, 2.307121529470754, 2.3121880748742765, 2.304510275232155, 2.30971902823247, 2.307667593660915, 7.601234609809423, 2.3024357209173587, 2.2966406079418054, 2.2816541950295766, 2.2794894912483743, 1.5057597086060057, 1.4808615389821944, 1.5055895228492318, 1.5057915633610996, 1.5029836423063705, 1.4757773165102228, 1.4757479553819244, 1.5051875030186272, 1.5027809255271707, 1.474310279693468, 1.474224945479584, 1.499232987369905, 1.4714816787720364, 1.5037473330004962, 1.5020273818104446, 2.289576488371284, 88.35375594943721, 5.783804212702105, 93.95098969530783, 7.27257985049545, 4.409038720589927, 7.7315455546107295, 9.952747298711284, 7.769829294069472, 3.6295995590299333, 4.215922365139544, 14.614165214945903, 4.259955509760678, 4.301155402364023, 9.86555175392692, 2.210240341648595, 9.957535317869489, 33.79339461450196, 11.37181995422934, 17.668614188019067, 44.8301302870439, 25.708311145306286, 15.844062853323011, 9.101039129417913, 7.8474278410762865, 7.030112902467641, 18.649406712027616, 7.19240720326839, 8.956508192098168, 53.05609072187298, 8.500723704787049, 16.512567767084203, 18.226394945249897, 9.453113335999106, 33.38536495603018, 15.389762641881626, 16.888476608265762, 12.219426368246442, 25.43799249637414, 10.160361236509686, 1.3218710427919123, 1.3215983033944843, 1.3202840380871157, 1.3200971490196964, 1.319852116503724, 1.3188957030952349, 1.3188869914985781, 1.3184987110024062, 1.3184227017288865, 1.317722342660111, 1.3163169858271229, 1.9443912941252433, 1.3162699047063908, 2.568945294585241, 2.5334376983350544, 2.5757831776362234, 3.163558178505954, 1.9503708514717881, 5.699761716355889, 2.527315851281045, 1.9223386785971972, 1.9277402535387689, 1.894521821445556, 3.216532847023602, 1.915807046872322, 1.9253066776387477, 3.848642705601768, 3.8585303742468122, 1.288511015242311, 3.2342326155888372, 5.069615504314101, 10.336619236312364, 7.149415584214361, 33.38536495603018, 9.43408427213691, 25.43799249637414, 53.05609072187298, 7.917474570120836, 11.663338642381218, 16.888476608265762, 8.762941135677465, 6.552610194276516, 5.664490360072065, 9.869384267316569, 4.026927752726465, 25.708311145306286, 15.389762641881626, 44.8301302870439, 5.718557931615894, 88.35375594943721, 18.226394945249897, 6.989570520644152, 93.95098969530783, 16.512567767084203, 5.891513025609907, 33.79339461450196, 12.219426368246442, 11.618078117167196, 10.510428357490376, 18.649406712027616, 17.668614188019067, 14.614165214945903, 2.206233753092446, 1.7073963253821045, 1.6809209831621863, 1.6753118012676191, 1.67401691990563, 1.2183679656016368, 1.218411445570488, 1.218313572474693, 1.2183367425087617, 1.218337689195954, 1.2183812138300318, 1.2184666246871516, 1.2184720814589363, 1.2184917135864695, 1.2184057005917295, 2.427840852770653, 1.1730599004936317, 1.1711070669226071, 1.170893300455515, 1.1700043648798288, 1.1687554223152332, 1.168528273720782, 1.1683876738948964, 1.168687493615417, 1.16690137846672, 1.164298852706583, 1.1642607790992303, 1.8005098732654459, 1.9020804110351224, 1.1599528877493133, 1.802843059975189, 1.8126925951983421, 4.863261049996783, 2.4504576629288026, 2.0003191136002054, 44.8301302870439, 53.05609072187298, 4.0900405986558335, 2.504187784174249, 1.8843201053823302, 1.7595830067344496, 88.35375594943721, 93.95098969530783, 3.842986483032356, 18.649406712027616, 25.708311145306286, 33.38536495603018, 16.512567767084203, 18.226394945249897, 10.453752678792966, 25.43799249637414, 33.79339461450196, 9.43735899868506, 5.717107278569568, 5.773486341705529, 15.844062853323011, 16.888476608265762, 6.327471330053314, 4.157240794019315, 12.219426368246442, 10.510428357490376, 10.160361236509686, 9.869154132601079, 6.328057133237036, 14.614165214945903, 15.389762641881626, 7.080733838136897, 9.877164364338228, 11.663338642381218, 17.668614188019067, 8.956508192098168, 9.453113335999106, 11.618078117167196, 11.37181995422934, 2.7228470332204675, 1.3187584750750592, 1.3188169976473425, 1.3188062976343662, 1.3187672043821765, 5.180337702404405, 2.0279213030070484, 2.040373149018453, 1.3181248385562696, 1.3190963656509875, 2.037663153808699, 1.3191973272772326, 1.3194905830410957, 1.3191160949208114, 1.9847712480348103, 2.0460506373813687, 1.3189911270768087, 2.0958242896207797, 1.3202222967467856, 1.3318512893648156, 1.3179842425271329, 1.3181224959632567, 1.3187987455453998, 1.3280798484408312, 1.3187088484192957, 1.3181068784026158, 1.31921381561091, 1.3345535572238965, 1.3183276364123397, 1.3200576033849325, 4.563343333218399, 1.9811113178304853, 93.95098969530783, 33.79339461450196, 5.351354512681117, 2.0645681994508363, 1.940937268114164, 17.668614188019067, 3.949557121322935, 3.167137733035714, 7.917474570120836, 25.43799249637414, 2.752760556298156, 6.822219375795896, 6.312540586686152, 6.989570520644152, 33.38536495603018, 53.05609072187298, 88.35375594943721, 15.844062853323011, 18.649406712027616, 9.812727838369018, 11.663338642381218, 44.8301302870439, 18.226394945249897, 7.508078262751435, 25.708311145306286, 11.618078117167196, 5.6829338123176765, 15.389762641881626, 11.37181995422934, 4.7691914945716505, 10.160361236509686, 9.869154132601079, 16.888476608265762, 16.512567767084203, 14.614165214945903, 1.7132678976171944, 1.1810508258365635, 2.901447766924484, 1.774036988340769, 1.732462275250007, 1.8019740437201086, 1.792173589736349, 1.1908364365347648, 1.1916599795644767, 1.1944594359994611, 1.1935156751762055, 1.1854324327841206, 1.193050811350905, 1.1900426313663255, 1.2013037346806206, 1.1545491469276776, 1.7802837585515576, 1.206789695401111, 1.812335884685121, 1.200021515868063, 1.1935041051046102, 1.2006701020298307, 1.2032923621333542, 1.197207526549048, 1.209153541935077, 1.1657248800325437, 1.2063484505110529, 1.2124589987217271, 1.2031153204434464, 1.2053867185747478, 1.7844612743790063, 1.7817062735736422, 4.056572077664417, 6.235750714967461, 7.080733838136897, 9.869154132601079, 2.4274794048157653, 2.4490909481101566, 1.795910857104032, 5.645835703086435, 4.3652908276132445, 44.8301302870439, 3.0349689234681, 3.1677606906337865, 9.43735899868506, 9.957535317869489, 5.008716904570821, 53.05609072187298, 93.95098969530783, 11.618078117167196, 8.762941135677465, 88.35375594943721, 6.254220812694341, 33.38536495603018, 9.812727838369018, 18.649406712027616, 16.512567767084203, 25.43799249637414, 6.328057133237036, 33.79339461450196, 5.656814190475451, 15.389762641881626, 10.453752678792966, 9.877164364338228, 10.510428357490376, 14.614165214945903, 10.336619236312364, 18.226394945249897, 16.888476608265762, 11.663338642381218, 15.844062853323011, 25.708311145306286, 17.668614188019067], \"Category\": [\"Default\", \"Default\", \"Default\", \"Default\", \"Default\", \"Default\", \"Default\", \"Default\", \"Default\", \"Default\", \"Default\", \"Default\", \"Default\", \"Default\", \"Default\", \"Default\", \"Default\", \"Default\", \"Default\", \"Default\", \"Default\", \"Default\", \"Default\", \"Default\", \"Default\", \"Default\", \"Default\", \"Default\", \"Default\", \"Default\", \"Topic1\", \"Topic1\", \"Topic1\", \"Topic1\", \"Topic1\", \"Topic1\", \"Topic1\", \"Topic1\", \"Topic1\", \"Topic1\", \"Topic1\", \"Topic1\", \"Topic1\", \"Topic1\", \"Topic1\", \"Topic1\", \"Topic1\", \"Topic1\", \"Topic1\", \"Topic1\", \"Topic1\", \"Topic1\", \"Topic1\", \"Topic1\", \"Topic1\", \"Topic1\", \"Topic1\", \"Topic1\", \"Topic1\", \"Topic1\", \"Topic1\", \"Topic1\", \"Topic1\", \"Topic1\", \"Topic1\", \"Topic1\", \"Topic1\", \"Topic1\", \"Topic1\", \"Topic1\", \"Topic1\", \"Topic1\", \"Topic1\", \"Topic1\", \"Topic1\", \"Topic1\", \"Topic1\", \"Topic1\", \"Topic1\", \"Topic1\", \"Topic1\", \"Topic1\", \"Topic1\", \"Topic1\", \"Topic1\", \"Topic1\", \"Topic1\", \"Topic1\", \"Topic1\", \"Topic1\", \"Topic1\", \"Topic1\", \"Topic1\", \"Topic1\", \"Topic1\", \"Topic1\", \"Topic1\", \"Topic1\", \"Topic1\", \"Topic2\", \"Topic2\", \"Topic2\", \"Topic2\", \"Topic2\", \"Topic2\", \"Topic2\", \"Topic2\", \"Topic2\", \"Topic2\", \"Topic2\", \"Topic2\", \"Topic2\", \"Topic2\", \"Topic2\", \"Topic2\", \"Topic2\", \"Topic2\", \"Topic2\", \"Topic2\", \"Topic2\", \"Topic2\", \"Topic2\", \"Topic2\", \"Topic2\", \"Topic2\", \"Topic2\", \"Topic2\", \"Topic2\", \"Topic2\", \"Topic2\", \"Topic2\", \"Topic2\", \"Topic2\", \"Topic2\", \"Topic2\", \"Topic2\", \"Topic2\", \"Topic2\", \"Topic2\", \"Topic2\", \"Topic2\", \"Topic2\", \"Topic2\", \"Topic2\", \"Topic2\", \"Topic2\", \"Topic2\", \"Topic2\", \"Topic2\", \"Topic2\", \"Topic2\", \"Topic2\", \"Topic2\", \"Topic2\", \"Topic2\", \"Topic2\", \"Topic2\", \"Topic2\", \"Topic2\", \"Topic2\", \"Topic2\", \"Topic3\", \"Topic3\", \"Topic3\", \"Topic3\", \"Topic3\", \"Topic3\", \"Topic3\", \"Topic3\", \"Topic3\", \"Topic3\", \"Topic3\", \"Topic3\", \"Topic3\", \"Topic3\", \"Topic3\", \"Topic3\", \"Topic3\", \"Topic3\", \"Topic3\", \"Topic3\", \"Topic3\", \"Topic3\", \"Topic3\", \"Topic3\", \"Topic3\", \"Topic3\", \"Topic3\", \"Topic3\", \"Topic3\", \"Topic3\", \"Topic3\", \"Topic3\", \"Topic3\", \"Topic3\", \"Topic3\", \"Topic3\", \"Topic3\", \"Topic3\", \"Topic3\", \"Topic3\", \"Topic3\", \"Topic3\", \"Topic3\", \"Topic3\", \"Topic3\", \"Topic3\", \"Topic3\", \"Topic3\", \"Topic3\", \"Topic3\", \"Topic3\", \"Topic3\", \"Topic3\", \"Topic3\", \"Topic3\", \"Topic3\", \"Topic3\", \"Topic3\", \"Topic3\", \"Topic3\", \"Topic3\", \"Topic3\", \"Topic3\", \"Topic3\", \"Topic3\", \"Topic3\", \"Topic3\", \"Topic3\", \"Topic3\", \"Topic3\", \"Topic3\", \"Topic3\", \"Topic3\", \"Topic3\", \"Topic4\", \"Topic4\", \"Topic4\", \"Topic4\", \"Topic4\", \"Topic4\", \"Topic4\", \"Topic4\", \"Topic4\", \"Topic4\", \"Topic4\", \"Topic4\", \"Topic4\", \"Topic4\", \"Topic4\", \"Topic4\", \"Topic4\", \"Topic4\", \"Topic4\", \"Topic4\", \"Topic4\", \"Topic4\", \"Topic4\", \"Topic4\", \"Topic4\", \"Topic4\", \"Topic4\", \"Topic4\", \"Topic4\", \"Topic4\", \"Topic4\", \"Topic4\", \"Topic4\", \"Topic4\", \"Topic4\", \"Topic4\", \"Topic4\", \"Topic4\", \"Topic4\", \"Topic4\", \"Topic4\", \"Topic4\", \"Topic4\", \"Topic4\", \"Topic4\", \"Topic4\", \"Topic4\", \"Topic4\", \"Topic4\", \"Topic4\", \"Topic4\", \"Topic4\", \"Topic4\", \"Topic4\", \"Topic4\", \"Topic4\", \"Topic4\", \"Topic4\", \"Topic4\", \"Topic4\", \"Topic4\", \"Topic4\", \"Topic4\", \"Topic4\", \"Topic4\", \"Topic4\", \"Topic4\", \"Topic5\", \"Topic5\", \"Topic5\", \"Topic5\", \"Topic5\", \"Topic5\", \"Topic5\", \"Topic5\", \"Topic5\", \"Topic5\", \"Topic5\", \"Topic5\", \"Topic5\", \"Topic5\", \"Topic5\", \"Topic5\", \"Topic5\", \"Topic5\", \"Topic5\", \"Topic5\", \"Topic5\", \"Topic5\", \"Topic5\", \"Topic5\", \"Topic5\", \"Topic5\", \"Topic5\", \"Topic5\", \"Topic5\", \"Topic5\", \"Topic5\", \"Topic5\", \"Topic5\", \"Topic5\", \"Topic5\", \"Topic5\", \"Topic5\", \"Topic5\", \"Topic5\", \"Topic5\", \"Topic5\", \"Topic5\", \"Topic5\", \"Topic5\", \"Topic5\", \"Topic5\", \"Topic5\", \"Topic5\", \"Topic5\", \"Topic5\", \"Topic5\", \"Topic5\", \"Topic5\", \"Topic5\", \"Topic5\", \"Topic5\", \"Topic5\", \"Topic5\", \"Topic5\", \"Topic5\", \"Topic5\", \"Topic5\", \"Topic5\", \"Topic5\", \"Topic5\", \"Topic5\", \"Topic5\", \"Topic5\", \"Topic5\", \"Topic5\", \"Topic5\", \"Topic5\", \"Topic5\"], \"logprob\": [30.0, 29.0, 28.0, 27.0, 26.0, 25.0, 24.0, 23.0, 22.0, 21.0, 20.0, 19.0, 18.0, 17.0, 16.0, 15.0, 14.0, 13.0, 12.0, 11.0, 10.0, 9.0, 8.0, 7.0, 6.0, 5.0, 4.0, 3.0, 2.0, 1.0, -6.392899990081787, -6.88539981842041, -6.9096999168396, -6.384200096130371, -7.259200096130371, -7.258399963378906, -7.269700050354004, -7.271500110626221, -7.2743000984191895, -6.082300186157227, -7.279600143432617, -7.290500164031982, -7.316800117492676, -7.319699764251709, -7.758299827575684, -7.775599956512451, -7.759399890899658, -7.7617998123168945, -7.765200138092041, -7.78380012512207, -7.783899784088135, -7.764800071716309, -7.76639986038208, -7.786200046539307, -7.786300182342529, -7.771599769592285, -7.790800094604492, -7.769400119781494, -7.774099826812744, -7.352700233459473, -3.903700113296509, -6.529799938201904, -3.981100082397461, -6.33050012588501, -6.793600082397461, -6.3003997802734375, -6.0802001953125, -6.328199863433838, -6.994200229644775, -6.868599891662598, -5.787600040435791, -6.860300064086914, -6.857600212097168, -6.151199817657471, -7.431399822235107, -6.1631999015808105, -5.180799961090088, -6.071899890899658, -5.724999904632568, -5.090099811553955, -5.515399932861328, -5.882800102233887, -6.29640007019043, -6.407100200653076, -6.49399995803833, -5.820199966430664, -6.480199813842773, -6.342800140380859, -5.152500152587891, -6.381800174713135, -6.026899814605713, -5.974800109863281, -6.3557000160217285, -5.813300132751465, -6.152400016784668, -6.120299816131592, -6.256800174713135, -6.160399913787842, -6.369500160217285, -7.581600189208984, -7.583099842071533, -7.593699932098389, -7.595200061798096, -7.597300052642822, -7.604400157928467, -7.605100154876709, -7.607600212097168, -7.608799934387207, -7.614200115203857, -7.624800205230713, -7.235499858856201, -7.625699996948242, -7.00600004196167, -7.027699947357178, -7.03249979019165, -6.837200164794922, -7.3221001625061035, -6.250899791717529, -7.075099945068359, -7.379799842834473, -7.413700103759766, -7.43310022354126, -6.906499862670898, -7.443399906158447, -7.447500228881836, -6.75540018081665, -6.761499881744385, -7.860099792480469, -6.942399978637695, -6.500999927520752, -5.844900131225586, -6.213099956512451, -4.815899848937988, -6.017099857330322, -5.179900169372559, -4.582600116729736, -6.196300029754639, -5.9096999168396, -5.642000198364258, -6.154200077056885, -6.382400035858154, -6.521100044250488, -6.11269998550415, -6.7804999351501465, -5.443999767303467, -5.8649001121521, -5.132599830627441, -6.573200225830078, -4.862100124359131, -5.865900039672852, -6.462600231170654, -4.956699848175049, -5.974299907684326, -6.573599815368652, -5.748000144958496, -6.2820000648498535, -6.316699981689453, -6.531599998474121, -6.4116997718811035, -6.464099884033203, -6.563000202178955, -6.829899787902832, -7.135000228881836, -7.196199893951416, -7.210000038146973, -7.214900016784668, -7.548600196838379, -7.548600196838379, -7.548900127410889, -7.548900127410889, -7.548999786376953, -7.548999786376953, -7.5493998527526855, -7.549600124359131, -7.549600124359131, -7.55019998550415, -6.92710018157959, -7.720300197601318, -7.729300022125244, -7.731900215148926, -7.734600067138672, -7.739699840545654, -7.740900039672852, -7.741600036621094, -7.742300033569336, -7.7480998039245605, -7.759200096130371, -7.759500026702881, -7.3308000564575195, -7.281700134277344, -7.7778000831604, -7.343599796295166, -7.350200176239014, -6.465099811553955, -7.097300052642822, -7.28849983215332, -4.6915998458862305, -4.646200180053711, -6.72730016708374, -7.142399787902832, -7.367000102996826, -7.41949987411499, -4.467700004577637, -4.535299777984619, -6.852700233459473, -5.7204999923706055, -5.504199981689453, -5.333899974822998, -5.846799850463867, -5.790200233459473, -6.188899993896484, -5.626699924468994, -5.463699817657471, -6.264200210571289, -6.601200103759766, -6.607399940490723, -6.01039981842041, -5.980199813842773, -6.571000099182129, -6.8358001708984375, -6.229700088500977, -6.3277997970581055, -6.388700008392334, -6.427299976348877, -6.633600234985352, -6.277699947357178, -6.2642998695373535, -6.593800067901611, -6.476900100708008, -6.4243998527526855, -6.3221001625061035, -6.53380012512207, -6.524400234222412, -6.524899959564209, -6.5817999839782715, -6.637899875640869, -7.373899936676025, -7.373899936676025, -7.374000072479248, -7.374100208282471, -6.045899868011475, -7.027699947357178, -7.095399856567383, -7.568600177764893, -7.567999839782715, -7.138000011444092, -7.5746002197265625, -7.575200080871582, -7.580999851226807, -7.172500133514404, -7.148600101470947, -7.587900161743164, -7.124899864196777, -7.590099811553955, -7.589399814605713, -7.601399898529053, -7.611499786376953, -7.6143999099731445, -7.609000205993652, -7.617000102996826, -7.620200157165527, -7.620200157165527, -7.615600109100342, -7.632800102233887, -7.631700038909912, -6.466800212860107, -7.264999866485596, -4.223599910736084, -5.054500102996826, -6.523399829864502, -7.268199920654297, -7.319200038909912, -5.68120002746582, -6.794099807739258, -6.959799766540527, -6.291399955749512, -5.445799827575684, -7.063399791717529, -6.422299861907959, -6.50600004196167, -6.447400093078613, -5.437399864196777, -5.183800220489502, -4.8993000984191895, -6.000100135803223, -5.920100212097168, -6.342199802398682, -6.255099773406982, -5.5528998374938965, -6.082799911499023, -6.536099910736084, -5.947999954223633, -6.330999851226807, -6.682700157165527, -6.258399963378906, -6.421199798583984, -6.789000034332275, -6.5192999839782715, -6.542600154876709, -6.407100200653076, -6.517600059509277, -6.595799922943115, -7.426700115203857, -7.829599857330322, -6.937900066375732, -7.442699909210205, -7.4816999435424805, -7.447999954223633, -7.462699890136719, -7.875500202178955, -7.877999782562256, -7.881800174713135, -7.8856000900268555, -7.8927998542785645, -7.888800144195557, -7.9045000076293945, -7.896699905395508, -7.937699794769287, -7.509399890899658, -7.901199817657471, -7.497000217437744, -7.909599781036377, -7.921000003814697, -7.915299892425537, -7.916900157928467, -7.921999931335449, -7.924900054931641, -7.9653000831604, -7.931099891662598, -7.928299903869629, -7.940499782562256, -7.94189977645874, -7.55019998550415, -7.5644001960754395, -6.797699928283691, -6.434800148010254, -6.332200050354004, -6.053800106048584, -7.315700054168701, -7.308499813079834, -7.573500156402588, -6.605800151824951, -6.82390022277832, -4.906000137329102, -7.14769983291626, -7.115499973297119, -6.267000198364258, -6.239699840545654, -6.776000022888184, -4.959400177001953, -4.552700042724609, -6.208399772644043, -6.451700210571289, -4.911200046539307, -6.714900016784668, -5.6082000732421875, -6.419000148773193, -6.056099891662598, -6.13100004196167, -5.876399993896484, -6.726099967956543, -5.760799884796143, -6.809899806976318, -6.2677001953125, -6.488500118255615, -6.518700122833252, -6.505000114440918, -6.360599994659424, -6.558800220489502, -6.405200004577637, -6.485400199890137, -6.582799911499023, -6.529200077056885, -6.429999828338623, -6.570499897003174], \"loglift\": [30.0, 29.0, 28.0, 27.0, 26.0, 25.0, 24.0, 23.0, 22.0, 21.0, 20.0, 19.0, 18.0, 17.0, 16.0, 15.0, 14.0, 13.0, 12.0, 11.0, 10.0, 9.0, 8.0, 7.0, 6.0, 5.0, 4.0, 3.0, 2.0, 1.0, 0.8896, 0.8272, 0.8095, 0.7814, 0.7674, 0.766, 0.758, 0.754, 0.7521, 0.752, 0.7491, 0.7407, 0.7209, 0.7189, 0.6951, 0.6944, 0.694, 0.6916, 0.6899, 0.6896, 0.6896, 0.6889, 0.6889, 0.6883, 0.6882, 0.6861, 0.6855, 0.6853, 0.6817, 0.6816, 0.4776, 0.5778, 0.3387, 0.548, 0.5854, 0.5169, 0.4846, 0.4842, 0.5793, 0.5552, 0.393, 0.5531, 0.5461, 0.4224, 0.6382, 0.4011, 0.1615, 0.3596, 0.2659, -0.0303, 0.1004, 0.2171, 0.3579, 0.3953, 0.4184, 0.1166, 0.4094, 0.3274, -0.2612, 0.3407, 0.0316, -0.015, 0.2606, -0.4588, -0.0235, -0.0843, 0.1028, -0.534, 0.1746, 1.002, 1.0007, 0.9911, 0.9897, 0.9878, 0.9814, 0.9807, 0.9786, 0.9774, 0.9725, 0.963, 0.9621, 0.9621, 0.9131, 0.9054, 0.8839, 0.8737, 0.8725, 0.8713, 0.8603, 0.8293, 0.7925, 0.7906, 0.7878, 0.769, 0.76, 0.7595, 0.7509, 0.7491, 0.7464, 0.7383, 0.6821, 0.6825, 0.5387, 0.6012, 0.4465, 0.3087, 0.5972, 0.4965, 0.394, 0.5379, 0.6004, 0.6073, 0.4605, 0.6891, 0.1718, 0.264, -0.0729, 0.5457, -0.4808, 0.0938, 0.4556, -0.6368, 0.0842, 0.5155, -0.4057, 0.0776, 0.0934, -0.0213, -0.4748, -0.4733, -0.3824, 1.2415, 1.1926, 1.147, 1.1366, 1.1325, 1.1165, 1.1164, 1.1163, 1.1163, 1.1161, 1.1161, 1.1157, 1.1154, 1.1154, 1.1149, 1.0485, 0.9827, 0.9754, 0.9729, 0.971, 0.967, 0.966, 0.9654, 0.9644, 0.9602, 0.9514, 0.951, 0.9438, 0.9379, 0.9365, 0.9297, 0.9176, 0.8158, 0.8691, 0.8808, 0.3682, 0.2451, 0.7268, 0.8022, 0.862, 0.878, -0.0864, -0.2154, 0.6637, 0.2164, 0.1116, 0.0206, 0.2117, 0.1695, 0.3268, -0.0003, -0.1213, 0.3537, 0.518, 0.502, 0.0894, 0.0558, 0.4467, 0.602, 0.1299, 0.1825, 0.1554, 0.1459, 0.3841, -0.097, -0.1353, 0.3114, 0.0955, -0.0182, -0.3313, 0.1364, 0.0919, -0.1148, -0.1503, 1.2231, 1.212, 1.212, 1.2119, 1.2119, 1.1719, 1.1279, 1.0541, 1.0179, 1.0177, 1.0128, 1.011, 1.0102, 1.0047, 1.0046, 0.9982, 0.9978, 0.9978, 0.9947, 0.9867, 0.9851, 0.9749, 0.9715, 0.9699, 0.969, 0.9663, 0.9654, 0.9584, 0.9535, 0.9533, 0.8778, 0.914, 0.0962, 0.2879, 0.6619, 0.8696, 0.8803, 0.3096, 0.695, 0.75, 0.5022, 0.1806, 0.7866, 0.5201, 0.5141, 0.4708, -0.0829, -0.2925, -0.518, 0.0997, 0.0167, 0.2367, 0.1511, -0.4932, -0.1231, 0.3105, -0.3322, 0.0791, 0.4425, -0.1295, 0.0102, 0.5115, 0.0248, 0.0306, -0.3711, -0.4591, -0.4152, 0.8975, 0.8666, 0.8596, 0.8467, 0.8313, 0.8257, 0.8165, 0.8125, 0.8093, 0.8032, 0.8001, 0.7998, 0.7973, 0.7842, 0.7825, 0.7812, 0.7764, 0.7734, 0.771, 0.7706, 0.7647, 0.7645, 0.7607, 0.7607, 0.7478, 0.744, 0.7439, 0.7417, 0.7372, 0.7339, 0.7334, 0.7207, 0.6645, 0.5975, 0.5731, 0.5195, 0.6601, 0.6584, 0.7036, 0.5259, 0.565, 0.1538, 0.6047, 0.5941, 0.351, 0.3246, 0.4754, -0.0681, -0.2328, 0.2017, 0.2404, -0.5299, 0.3145, -0.2537, 0.1599, -0.1193, -0.0725, -0.2501, 0.2916, -0.4184, 0.3199, -0.1388, 0.0272, 0.0537, 0.0053, -0.1799, -0.0319, -0.4455, -0.4494, -0.1766, -0.4293, -0.8142, -0.5796]}, \"token.table\": {\"Topic\": [1, 2, 3, 1, 2, 1, 2, 3, 4, 5, 2, 1, 2, 3, 4, 5, 1, 2, 3, 4, 1, 2, 3, 4, 5, 1, 2, 4, 1, 2, 3, 4, 5, 4, 2, 1, 1, 4, 2, 3, 4, 5, 4, 1, 2, 3, 4, 4, 1, 4, 1, 1, 1, 3, 2, 1, 2, 3, 4, 5, 1, 2, 3, 4, 5, 3, 1, 2, 3, 4, 1, 2, 3, 4, 1, 1, 1, 4, 1, 2, 3, 4, 3, 1, 2, 3, 3, 1, 4, 1, 3, 1, 2, 4, 1, 1, 2, 3, 4, 5, 1, 4, 1, 2, 3, 4, 5, 1, 2, 3, 4, 5, 1, 2, 3, 3, 2, 1, 2, 3, 4, 5, 1, 3, 4, 1, 3, 1, 2, 3, 4, 5, 1, 2, 3, 4, 5, 1, 3, 2, 1, 2, 3, 4, 5, 1, 2, 3, 4, 5, 1, 2, 3, 4, 1, 1, 3, 1, 2, 3, 4, 4, 2, 1, 2, 3, 4, 5, 3, 1, 4, 3, 1, 2, 3, 1, 1, 2, 3, 4, 5, 1, 2, 3, 4, 5, 1, 2, 3, 4, 1, 2, 3, 4, 1, 4, 2, 1, 2, 3, 1, 2, 3, 1, 2, 3, 4, 5, 2, 1, 2, 3, 4, 5, 1, 2, 3, 4, 5, 1, 2, 3, 4, 5, 1, 2, 3, 1, 1, 1, 2, 3, 4, 5, 1, 1, 2, 3, 3, 2, 2, 3, 1, 1, 2, 3, 4, 5, 1, 2, 3, 4, 5, 3, 2, 3, 1, 2, 3, 4, 1, 2, 3, 4, 4, 1, 2, 3, 4, 5, 1, 2, 3, 4, 5, 2, 1, 2, 3, 4, 5, 2, 4, 4, 1, 2, 3, 4, 5, 4, 1, 2, 4, 2, 1, 2, 3, 5, 1, 2, 3, 4, 5, 1, 2, 3, 4, 1, 1, 2, 3, 4, 3, 1, 4, 1, 1, 3, 3, 1, 2, 3, 4, 5, 3, 1, 1, 2, 3, 4, 5, 1, 2, 3, 4, 5, 1, 2, 3, 4, 4, 1, 2, 2, 1, 2, 3, 4, 5, 1, 2, 3, 4, 5, 1, 2, 1, 2, 3, 4, 5, 1, 1, 2, 3, 4, 5, 3, 1, 2, 3, 4, 5, 3, 4, 2, 3, 4, 1, 3, 4, 2, 2, 1, 2, 3, 4, 5, 3, 3, 3, 1, 2, 3, 4, 5, 4, 1, 2, 3, 4, 2, 1, 1, 2, 4, 5, 3, 1, 2, 3, 4, 5, 1, 1, 2, 3, 4, 1, 2, 3, 4, 2, 2, 3, 1, 2, 3, 4, 5, 3, 3, 1, 2, 3, 4, 5, 3, 3, 2, 3, 2, 3, 1, 2, 3, 4, 1, 2, 3, 4, 1, 2, 3, 4, 5, 4, 1, 1, 2, 3, 4, 5, 1, 1, 2, 3, 4, 5, 4, 4, 2, 1, 2, 3, 4, 2, 3, 1, 3, 2, 4, 4, 4, 1, 2, 3, 4, 1, 2, 3, 4, 3, 4, 4, 2, 1, 1, 1, 1, 4, 4, 1, 2, 3, 4, 5, 1, 2, 3, 4, 1, 2, 3, 4, 5, 3, 3, 1, 2, 3, 4, 5, 1, 2, 3, 4, 5, 2, 1, 2, 3, 4, 1, 3, 1, 2, 3, 4, 5, 2, 4, 3, 1, 1, 2, 3, 4, 4, 4], \"Freq\": [0.6577878800829907, 0.13155757601659815, 0.13155757601659815, 0.5517740990786275, 0.7588852124805603, 0.3039703307464472, 0.3039703307464472, 0.20264688716429813, 0.20264688716429813, 0.10132344358214906, 0.7596954310907403, 0.3160820327230386, 0.1580410163615193, 0.3160820327230386, 0.1580410163615193, 0.1580410163615193, 0.17486926108964498, 0.34973852217928997, 0.17486926108964498, 0.17486926108964498, 0.31605277226328166, 0.15802638613164083, 0.31605277226328166, 0.15802638613164083, 0.15802638613164083, 0.5579816630079413, 0.7597226043263988, 0.7580367086279334, 0.5173609819338888, 0.1293402454834722, 0.1293402454834722, 0.1293402454834722, 0.1293402454834722, 0.7508345773925844, 0.4119499419917408, 0.664191657037812, 0.47713923583781964, 0.47713923583781964, 0.24651355401917394, 0.24651355401917394, 0.24651355401917394, 0.24651355401917394, 0.7587344125469796, 0.5561420379789274, 0.13903550949473184, 0.13903550949473184, 0.13903550949473184, 0.7493142516364604, 0.49010643003269405, 0.49010643003269405, 0.6654329869466524, 0.8666759482578568, 0.6657668243002774, 0.8557773247675378, 0.38823143527076387, 0.5023738521571243, 0.2009495408628497, 0.10047477043142485, 0.10047477043142485, 0.10047477043142485, 0.15989202011708256, 0.3197840402341651, 0.15989202011708256, 0.15989202011708256, 0.15989202011708256, 0.8207036448427595, 0.13987157246921864, 0.4196147174076559, 0.13987157246921864, 0.13987157246921864, 0.2931597314351498, 0.1465798657175749, 0.1465798657175749, 0.2931597314351498, 0.633210836575326, 0.8708371667225515, 0.49075824830558945, 0.49075824830558945, 0.1263029001411416, 0.3789087004234248, 0.1263029001411416, 0.2526058002822832, 0.5969038117223034, 0.5500111490322787, 0.13750278725806966, 0.13750278725806966, 0.8540487844716234, 0.554946950254365, 0.4931157824108741, 0.6776224871957891, 0.8207408126667566, 0.21913757676758627, 0.21913757676758627, 0.43827515353517255, 0.40831476706557224, 0.5148118251520797, 0.12870295628801992, 0.12870295628801992, 0.12870295628801992, 0.12870295628801992, 0.3672626437693206, 0.7345252875386412, 0.3805744032448834, 0.1902872016224417, 0.1902872016224417, 0.09514360081122085, 0.09514360081122085, 0.158414823044324, 0.158414823044324, 0.158414823044324, 0.316829646088648, 0.158414823044324, 0.46948847128038645, 0.23474423564019323, 0.23474423564019323, 0.820791136891128, 0.7584820852133921, 0.4049745303866876, 0.2024872651933438, 0.2024872651933438, 0.1012436325966719, 0.1012436325966719, 0.3294926654001078, 0.3294926654001078, 0.3294926654001078, 0.5306953936030413, 0.5306953936030413, 0.2638716839012856, 0.28271966132280607, 0.24502370647976524, 0.1319358419506428, 0.07539190968608162, 0.5432706225581319, 0.13581765563953296, 0.1697720695494162, 0.1131813796996108, 0.04527255187984432, 0.3156804120199894, 0.3156804120199894, 0.7584383599736223, 0.4527802755138957, 0.11319506887847393, 0.11319506887847393, 0.22639013775694786, 0.056597534439236964, 0.4466026172486482, 0.11165065431216205, 0.2233013086243241, 0.11165065431216205, 0.11165065431216205, 0.1868685764754134, 0.1868685764754134, 0.1868685764754134, 0.3737371529508268, 0.6374253640211066, 0.6776090056491073, 0.8588860133936864, 0.20562334403181204, 0.20562334403181204, 0.4112466880636241, 0.20562334403181204, 0.7582839463076317, 0.3892648092225923, 0.3535558942995618, 0.1767779471497809, 0.1767779471497809, 0.1767779471497809, 0.1767779471497809, 0.8524713866522869, 0.3632716974645899, 0.3632716974645899, 0.8207611777404697, 0.6804204249761275, 0.22680680832537586, 0.22680680832537586, 0.8765570191823369, 0.40918451073882356, 0.24551070644329415, 0.24551070644329415, 0.16367380429552944, 0.08183690214776472, 0.46832928681960956, 0.11708232170490239, 0.14901386398805758, 0.20223310112664958, 0.06386308456631039, 0.35193089802753447, 0.17596544901376723, 0.17596544901376723, 0.35193089802753447, 0.25319294525484476, 0.25319294525484476, 0.25319294525484476, 0.25319294525484476, 0.4887464570670874, 0.4887464570670874, 0.7576606405337218, 0.4743920373243878, 0.2371960186621939, 0.2371960186621939, 0.4810883225424993, 0.24054416127124964, 0.24054416127124964, 0.2582182672336414, 0.2582182672336414, 0.17214551148909427, 0.17214551148909427, 0.08607275574454713, 0.756503446726474, 0.35424339374712066, 0.17712169687356033, 0.17712169687356033, 0.17712169687356033, 0.17712169687356033, 0.44180587168851543, 0.12623024905386154, 0.18934537358079231, 0.18934537358079231, 0.06311512452693077, 0.38469056300195514, 0.14795790884690582, 0.177549490616287, 0.23673265415504932, 0.05918316353876233, 0.48899270111335513, 0.24449635055667757, 0.48899270111335513, 0.6795871225760067, 0.8668810786308224, 0.43951025186459486, 0.10987756296614871, 0.10987756296614871, 0.21975512593229743, 0.10987756296614871, 0.6782832716922489, 0.46499133672332554, 0.23249566836166277, 0.23249566836166277, 0.8208067467957, 0.7760896012301028, 0.30919235529938405, 0.30919235529938405, 0.6641165879818731, 0.1412282996169113, 0.2824565992338226, 0.2824565992338226, 0.2824565992338226, 0.1412282996169113, 0.29605985880057645, 0.29605985880057645, 0.1776359152803459, 0.11842394352023058, 0.05921197176011529, 0.8556607351948549, 0.6217875256118361, 0.3108937628059181, 0.3995696228798513, 0.13318987429328377, 0.13318987429328377, 0.26637974858656754, 0.47054817200416277, 0.23527408600208138, 0.11763704300104069, 0.11763704300104069, 0.5038363997816545, 0.4789873316089996, 0.13685352331685702, 0.13685352331685702, 0.13685352331685702, 0.06842676165842851, 0.1714774869635162, 0.3429549739270324, 0.1714774869635162, 0.2572162304452743, 0.0857387434817581, 0.7575200058136627, 0.3633595988602252, 0.24223973257348344, 0.24223973257348344, 0.12111986628674172, 0.06055993314337086, 0.5201996979687978, 0.75853677976544, 0.5152150027865718, 0.20967271165731666, 0.3594389342696857, 0.17971946713484285, 0.17971946713484285, 0.059906489044947615, 0.5047671935442274, 0.25983186190406354, 0.5196637238081271, 0.25983186190406354, 0.5127230030357459, 0.3446555238387054, 0.3446555238387054, 0.3446555238387054, 0.3446555238387054, 0.3291929105027816, 0.21946194033518773, 0.21946194033518773, 0.1645964552513908, 0.05486548508379693, 0.17544593085890342, 0.5263377925767103, 0.17544593085890342, 0.17544593085890342, 0.667007735571703, 0.4193582921290586, 0.2096791460645293, 0.2096791460645293, 0.2096791460645293, 0.8569704505054023, 0.864981539232594, 0.7580272342257981, 0.8735239945719054, 0.4999202343271042, 0.4999202343271042, 0.8206999694261776, 0.3394713703094892, 0.3394713703094892, 0.1697356851547446, 0.1697356851547446, 0.1697356851547446, 0.8207904991102699, 0.6783225335226487, 0.19348686009193747, 0.38697372018387494, 0.19348686009193747, 0.09674343004596873, 0.09674343004596873, 0.38897926602330535, 0.27228548621631377, 0.19448963301165267, 0.11669377980699161, 0.03889792660233054, 0.19303760825010685, 0.19303760825010685, 0.19303760825010685, 0.5791128247503206, 0.7575426992244649, 0.73292388911252, 0.18323097227813, 0.519397772632477, 0.33459639541433733, 0.20075783724860238, 0.26767711633146984, 0.11153213180477911, 0.08922570544382329, 0.3936867899565046, 0.09842169748912614, 0.1968433949782523, 0.1968433949782523, 0.09842169748912614, 0.8238304038561471, 0.7582150756250583, 0.3826377113469128, 0.1913188556734564, 0.2869782835101846, 0.0956594278367282, 0.0956594278367282, 0.6641025387125196, 0.19655639102467248, 0.314490225639476, 0.19655639102467248, 0.23586766922960697, 0.078622556409869, 0.8558803061200011, 0.37534706106685256, 0.10724201744767216, 0.21448403489534432, 0.16086302617150824, 0.05362100872383608, 0.8207701024921437, 0.758261468567271, 0.5183320606593388, 0.2591660303296694, 0.2591660303296694, 0.3157425045236337, 0.3157425045236337, 0.3157425045236337, 0.3956767016252125, 0.521973234012561, 0.31788554408261893, 0.10596184802753965, 0.31788554408261893, 0.10596184802753965, 0.10596184802753965, 0.8556110037282745, 0.4532611282001803, 0.5949119619643141, 0.439683359402857, 0.08793667188057142, 0.17587334376114283, 0.17587334376114283, 0.08793667188057142, 0.7586534831520898, 0.24832826944137293, 0.49665653888274586, 0.24832826944137293, 0.24832826944137293, 0.7582100674474576, 0.8659061883949214, 0.22907981151550388, 0.45815962303100777, 0.22907981151550388, 0.22907981151550388, 0.8206867464503571, 0.1141169368271341, 0.34235081048140226, 0.1141169368271341, 0.2282338736542682, 0.1141169368271341, 0.8773894363973092, 0.568980904786886, 0.1422452261967215, 0.1422452261967215, 0.1422452261967215, 0.3464111425279974, 0.1732055712639987, 0.3464111425279974, 0.1732055712639987, 0.7574127772148507, 0.7566595670042334, 0.40808703416030195, 0.5021322888031492, 0.10042645776062983, 0.20085291552125967, 0.10042645776062983, 0.10042645776062983, 0.5553982318277306, 0.8546976661088868, 0.39930386126931106, 0.19965193063465553, 0.19965193063465553, 0.19965193063465553, 0.19965193063465553, 0.5257401286498685, 0.5546794516954583, 0.3993310750574354, 0.3993310750574354, 0.5516655182731529, 0.5516655182731529, 0.5186897567195564, 0.17289658557318546, 0.17289658557318546, 0.17289658557318546, 0.5097211571749086, 0.12743028929372716, 0.12743028929372716, 0.12743028929372716, 0.14307030697328751, 0.28614061394657503, 0.14307030697328751, 0.28614061394657503, 0.14307030697328751, 0.7582658107446425, 0.5636861049527978, 0.3248913005580102, 0.2599130404464081, 0.1949347803348061, 0.12995652022320406, 0.06497826011160203, 0.6650053357066669, 0.3207312305155926, 0.1603656152577963, 0.1603656152577963, 0.1603656152577963, 0.1603656152577963, 0.7574481982800483, 0.7529667746815091, 0.5278376784475257, 0.17653838852808598, 0.35307677705617196, 0.17653838852808598, 0.17653838852808598, 0.4118886124099937, 0.4118886124099937, 0.45243948413958934, 0.5973655272590515, 0.6321995320296385, 0.31609976601481926, 0.7586638203511066, 0.7581552138384985, 0.1972536179812903, 0.3945072359625806, 0.1972536179812903, 0.1972536179812903, 0.17491363223993972, 0.34982726447987944, 0.34982726447987944, 0.17491363223993972, 0.5856870986156107, 0.7583175021527123, 0.7578682355543988, 0.5187420857993144, 0.6643690556787891, 0.8678633467140958, 0.6653432358488426, 0.48436278359125867, 0.48436278359125867, 0.7586548314458594, 0.3039774189046261, 0.20265161260308406, 0.20265161260308406, 0.20265161260308406, 0.10132580630154203, 0.5510249732713024, 0.2755124866356512, 0.8589141006482103, 0.7580947276027781, 0.31799588740799656, 0.4239945165439954, 0.2119972582719977, 0.10599862913599885, 0.10599862913599885, 0.5683164682613445, 0.8538928918154033, 0.4076338471713737, 0.10190846179284342, 0.20381692358568684, 0.20381692358568684, 0.10190846179284342, 0.5068140256838429, 0.10136280513676858, 0.10136280513676858, 0.10136280513676858, 0.10136280513676858, 0.39472058091548423, 0.15261093981654306, 0.4578328194496292, 0.3052218796330861, 0.15261093981654306, 0.8686453141037703, 0.8621039790161874, 0.4231410179720687, 0.10578525449301718, 0.21157050898603436, 0.21157050898603436, 0.10578525449301718, 0.5142997723870633, 0.7582553165328586, 0.8207446825916369, 0.6752825795498115, 0.2602142902180956, 0.2602142902180956, 0.2602142902180956, 0.2602142902180956, 0.7582889656448148, 0.7580833892107363], \"Term\": [\"aktion\", \"aktion\", \"aktion\", \"akzeptieren\", \"alarmiert\", \"alte\", \"alte\", \"alte\", \"alte\", \"alte\", \"anblick\", \"angaben\", \"angaben\", \"angaben\", \"angaben\", \"angaben\", \"angeklagte\", \"angeklagte\", \"angeklagte\", \"angeklagte\", \"anzeige\", \"anzeige\", \"anzeige\", \"anzeige\", \"anzeige\", \"app\", \"aufbrechen\", \"aufgefundenen\", \"aufmerksam\", \"aufmerksam\", \"aufmerksam\", \"aufmerksam\", \"aufmerksam\", \"ausgearbeitet\", \"ausschreibung\", \"australischen\", \"auswertung\", \"auswertung\", \"auto\", \"auto\", \"auto\", \"auto\", \"beamte\", \"beamten\", \"beamten\", \"beamten\", \"beamten\", \"begr\\u00fc\\u00dfenswerte\", \"bericht\", \"bericht\", \"beschuldigt\", \"beseitigung\", \"bestehen\", \"besuch\", \"betreuerin\", \"betroffen\", \"betroffen\", \"betroffen\", \"betroffen\", \"betroffen\", \"beziehung\", \"beziehung\", \"beziehung\", \"beziehung\", \"beziehung\", \"beziehungsdrama\", \"beziehungstat\", \"beziehungstat\", \"beziehungstat\", \"beziehungstat\", \"blick\", \"blick\", \"blick\", \"blick\", \"club\", \"clubs\", \"defizite\", \"defizite\", \"demnach\", \"demnach\", \"demnach\", \"demnach\", \"depp\", \"dezember\", \"dezember\", \"dezember\", \"dollar\", \"eintr\\u00e4ge\", \"entwicklungen\", \"erfahrungsaustausch\", \"erinnerungen\", \"erkennen\", \"erkennen\", \"erkennen\", \"erlitten\", \"euro\", \"euro\", \"euro\", \"euro\", \"euro\", \"europarat\", \"europarat\", \"fall\", \"fall\", \"fall\", \"fall\", \"fall\", \"familie\", \"familie\", \"familie\", \"familie\", \"familie\", \"femizide\", \"femizide\", \"femizide\", \"fernsehsender\", \"feuerwehr\", \"finden\", \"finden\", \"finden\", \"finden\", \"finden\", \"folgten\", \"folgten\", \"folgten\", \"foto\", \"foto\", \"frau\", \"frau\", \"frau\", \"frau\", \"frau\", \"frauen\", \"frauen\", \"frauen\", \"frauen\", \"frauen\", \"frauenfeindliche\", \"frauenfeindliche\", \"furchtbarer\", \"f\\u00e4lle\", \"f\\u00e4lle\", \"f\\u00e4lle\", \"f\\u00e4lle\", \"f\\u00e4lle\", \"f\\u00e4llen\", \"f\\u00e4llen\", \"f\\u00e4llen\", \"f\\u00e4llen\", \"f\\u00e4llen\", \"gebe\", \"gebe\", \"gebe\", \"gebe\", \"gedenktag\", \"gef\\u00fchlen\", \"gegenseitig\", \"gekommen\", \"gekommen\", \"gekommen\", \"gekommen\", \"geldautomatensprengungen\", \"gelitten\", \"gericht\", \"gericht\", \"gericht\", \"gericht\", \"gericht\", \"geschiedenen\", \"geschlechtsspezifischer\", \"geschlechtsspezifischer\", \"geschmissen\", \"gesellschaft\", \"gesellschaft\", \"gesellschaft\", \"gespendet\", \"get\\u00f6tet\", \"get\\u00f6tet\", \"get\\u00f6tet\", \"get\\u00f6tet\", \"get\\u00f6tet\", \"gewalt\", \"gewalt\", \"gewalt\", \"gewalt\", \"gewalt\", \"gleichstellung\", \"gleichstellung\", \"gleichstellung\", \"gleichstellung\", \"gleichstellungsbeauftragte\", \"gleichstellungsbeauftragte\", \"gleichstellungsbeauftragte\", \"gleichstellungsbeauftragte\", \"gravierende\", \"gravierende\", \"hals\", \"heblich\", \"heblich\", \"heblich\", \"helfer\", \"helfer\", \"helfer\", \"hilfe\", \"hilfe\", \"hilfe\", \"hilfe\", \"hilfe\", \"hilferufe\", \"h\\u00e4ufig\", \"h\\u00e4ufig\", \"h\\u00e4ufig\", \"h\\u00e4ufig\", \"h\\u00e4ufig\", \"h\\u00e4usliche\", \"h\\u00e4usliche\", \"h\\u00e4usliche\", \"h\\u00e4usliche\", \"h\\u00e4usliche\", \"h\\u00e4uslicher\", \"h\\u00e4uslicher\", \"h\\u00e4uslicher\", \"h\\u00e4uslicher\", \"h\\u00e4uslicher\", \"h\\u00fcllen\", \"h\\u00fcllen\", \"h\\u00fcllen\", \"informationsstelle\", \"infos\", \"insgesamt\", \"insgesamt\", \"insgesamt\", \"insgesamt\", \"insgesamt\", \"interessenten\", \"interventionsstelle\", \"interventionsstelle\", \"interventionsstelle\", \"interview\", \"irre\", \"j\\u00fcngere\", \"j\\u00fcngere\", \"kaution\", \"kind\", \"kind\", \"kind\", \"kind\", \"kind\", \"kinder\", \"kinder\", \"kinder\", \"kinder\", \"kinder\", \"klagte\", \"krankenhaus\", \"krankenhaus\", \"kreis\", \"kreis\", \"kreis\", \"kreis\", \"k\\u00f6rperverletzung\", \"k\\u00f6rperverletzung\", \"k\\u00f6rperverletzung\", \"k\\u00f6rperverletzung\", \"landesweit\", \"landkreis\", \"landkreis\", \"landkreis\", \"landkreis\", \"landkreis\", \"laut\", \"laut\", \"laut\", \"laut\", \"laut\", \"lauter\", \"leben\", \"leben\", \"leben\", \"leben\", \"leben\", \"letztendlich\", \"lie\\u00dfen\", \"l\\u00e4ndlichen\", \"mann\", \"mann\", \"mann\", \"mann\", \"mann\", \"massiv\", \"mehrere\", \"mehrere\", \"mehrere\", \"mehrfamilienhaus\", \"meistens\", \"meistens\", \"meistens\", \"meistens\", \"menschen\", \"menschen\", \"menschen\", \"menschen\", \"menschen\", \"messer\", \"messer\", \"messer\", \"messer\", \"metropole\", \"missbrauch\", \"missbrauch\", \"missbrauch\", \"missbrauch\", \"missbr\\u00e4uchliches\", \"mitglieder\", \"mitteilung\", \"mitternacht\", \"moderatorin\", \"moderatorin\", \"montagnachmittag\", \"motiv\", \"motiv\", \"motiv\", \"motiv\", \"motiv\", \"motorhaube\", \"mut\", \"mutter\", \"mutter\", \"mutter\", \"mutter\", \"mutter\", \"m\\u00e4nner\", \"m\\u00e4nner\", \"m\\u00e4nner\", \"m\\u00e4nner\", \"m\\u00e4nner\", \"m\\u00e4rz\", \"m\\u00e4rz\", \"m\\u00e4rz\", \"m\\u00e4rz\", \"nacht\", \"november\", \"november\", \"oktober\", \"opfer\", \"opfer\", \"opfer\", \"opfer\", \"opfer\", \"opfern\", \"opfern\", \"opfern\", \"opfern\", \"opfern\", \"orange\", \"os\", \"partner\", \"partner\", \"partner\", \"partner\", \"partner\", \"pl\\u00e4dierte\", \"polizei\", \"polizei\", \"polizei\", \"polizei\", \"polizei\", \"provoziert\", \"prozent\", \"prozent\", \"prozent\", \"prozent\", \"prozent\", \"pr\\u00e4sent\", \"quartal\", \"rechtsmediziner\", \"rechtsmediziner\", \"rechtsmediziner\", \"redaktion\", \"redaktion\", \"redaktion\", \"regierungspr\\u00e4sidium\", \"regierungspr\\u00e4sidiums\", \"ring\", \"ring\", \"ring\", \"ring\", \"ring\", \"schadenersatz\", \"schauspieler\", \"schauspielerin\", \"schutz\", \"schutz\", \"schutz\", \"schutz\", \"schutz\", \"schwebe\", \"schwer\", \"schwer\", \"schwer\", \"schwer\", \"schwere\", \"schwestern\", \"sprecherin\", \"sprecherin\", \"sprecherin\", \"sprecherin\", \"staatsanwalts\", \"staatsanwaltschaft\", \"staatsanwaltschaft\", \"staatsanwaltschaft\", \"staatsanwaltschaft\", \"staatsanwaltschaft\", \"start\", \"statistik\", \"statistik\", \"statistik\", \"statistik\", \"stehen\", \"stehen\", \"stehen\", \"stehen\", \"stichverletzungen\", \"stirbt\", \"stock\", \"straftaten\", \"straftaten\", \"straftaten\", \"straftaten\", \"straftaten\", \"stra\\u00dfe\", \"streitereien\", \"studie\", \"studie\", \"studie\", \"studie\", \"studie\", \"stunde\", \"tatorts\", \"tatwaffe\", \"tatwaffe\", \"taxifahrer\", \"taxifahrer\", \"telefon\", \"telefon\", \"telefon\", \"telefon\", \"thema\", \"thema\", \"thema\", \"thema\", \"tochter\", \"tochter\", \"tochter\", \"tochter\", \"tochter\", \"touristenstadt\", \"trauma\", \"t\\u00e4ter\", \"t\\u00e4ter\", \"t\\u00e4ter\", \"t\\u00e4ter\", \"t\\u00e4ter\", \"t\\u00e4tlichen\", \"umfeld\", \"umfeld\", \"umfeld\", \"umfeld\", \"umfeld\", \"umgebauten\", \"unterk\\u00fcnften\", \"urteil\", \"vater\", \"vater\", \"vater\", \"vater\", \"verd\\u00e4chtigen\", \"verd\\u00e4chtigen\", \"vereinten\", \"verhalten\", \"verhandlungstag\", \"verhandlungstag\", \"verh\\u00e4ngnisvolles\", \"verklagen\", \"verletzt\", \"verletzt\", \"verletzt\", \"verletzt\", \"verletzungen\", \"verletzungen\", \"verletzungen\", \"verletzungen\", \"verleumdung\", \"verlobtem\", \"verlobter\", \"verstorbene\", \"vertagt\", \"verteilen\", \"vorfalls\", \"vorliegt\", \"vorliegt\", \"weiterreisen\", \"wei\\u00dfen\", \"wei\\u00dfen\", \"wei\\u00dfen\", \"wei\\u00dfen\", \"wei\\u00dfen\", \"weltweit\", \"weltweit\", \"werfen\", \"wochenlang\", \"wohnung\", \"wohnung\", \"wohnung\", \"wohnung\", \"wohnung\", \"woraufhin\", \"wort\", \"zahl\", \"zahl\", \"zahl\", \"zahl\", \"zahl\", \"zahlen\", \"zahlen\", \"zahlen\", \"zahlen\", \"zahlen\", \"zeitweise\", \"zeugen\", \"zeugen\", \"zeugen\", \"zeugen\", \"ziel\", \"zivilprozess\", \"zudem\", \"zudem\", \"zudem\", \"zudem\", \"zudem\", \"zugef\\u00fcgt\", \"zur\\u00fcckgegangen\", \"zusammengelebt\", \"zuversicht\", \"zuvor\", \"zuvor\", \"zuvor\", \"zuvor\", \"z\\u00e4hlte\", \"\\u00fcbersah\"]}, \"R\": 30, \"lambda.step\": 0.01, \"plot.opts\": {\"xlab\": \"PC1\", \"ylab\": \"PC2\"}, \"topic.order\": [3, 4, 2, 1, 5]};\n",
              "\n",
              "function LDAvis_load_lib(url, callback){\n",
              "  var s = document.createElement('script');\n",
              "  s.src = url;\n",
              "  s.async = true;\n",
              "  s.onreadystatechange = s.onload = callback;\n",
              "  s.onerror = function(){console.warn(\"failed to load library \" + url);};\n",
              "  document.getElementsByTagName(\"head\")[0].appendChild(s);\n",
              "}\n",
              "\n",
              "if(typeof(LDAvis) !== \"undefined\"){\n",
              "   // already loaded: just create the visualization\n",
              "   !function(LDAvis){\n",
              "       new LDAvis(\"#\" + \"ldavis_el5121405197592127522810409245\", ldavis_el5121405197592127522810409245_data);\n",
              "   }(LDAvis);\n",
              "}else if(typeof define === \"function\" && define.amd){\n",
              "   // require.js is available: use it to load d3/LDAvis\n",
              "   require.config({paths: {d3: \"https://cdnjs.cloudflare.com/ajax/libs/d3/3.5.5/d3.min\"}});\n",
              "   require([\"d3\"], function(d3){\n",
              "      window.d3 = d3;\n",
              "      LDAvis_load_lib(\"https://cdn.rawgit.com/bmabey/pyLDAvis/files/ldavis.v1.0.0.js\", function(){\n",
              "        new LDAvis(\"#\" + \"ldavis_el5121405197592127522810409245\", ldavis_el5121405197592127522810409245_data);\n",
              "      });\n",
              "    });\n",
              "}else{\n",
              "    // require.js not available: dynamically load d3 & LDAvis\n",
              "    LDAvis_load_lib(\"https://cdnjs.cloudflare.com/ajax/libs/d3/3.5.5/d3.min.js\", function(){\n",
              "         LDAvis_load_lib(\"https://cdn.rawgit.com/bmabey/pyLDAvis/files/ldavis.v1.0.0.js\", function(){\n",
              "                 new LDAvis(\"#\" + \"ldavis_el5121405197592127522810409245\", ldavis_el5121405197592127522810409245_data);\n",
              "            })\n",
              "         });\n",
              "}\n",
              "</script>"
            ]
          },
          "metadata": {},
          "execution_count": 18
        }
      ]
    },
    {
      "cell_type": "markdown",
      "source": [
        "END OF CODE"
      ],
      "metadata": {
        "id": "_gpYl56fBjCO"
      }
    }
  ]
}