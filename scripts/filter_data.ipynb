{
  "nbformat": 4,
  "nbformat_minor": 0,
  "metadata": {
    "colab": {
      "provenance": [],
      "mount_file_id": "15peYFDZQ3M4xQuunmDC-RArgCanftjyQ",
      "authorship_tag": "ABX9TyOROCyPhaTQtpEUNzQKmQfC",
      "include_colab_link": true
    },
    "kernelspec": {
      "name": "python3",
      "display_name": "Python 3"
    },
    "language_info": {
      "name": "python"
    }
  },
  "cells": [
    {
      "cell_type": "markdown",
      "metadata": {
        "id": "view-in-github",
        "colab_type": "text"
      },
      "source": [
        "<a href=\"https://colab.research.google.com/github/blue-create/langlens/blob/main/scripts/filter_data.ipynb\" target=\"_parent\"><img src=\"https://colab.research.google.com/assets/colab-badge.svg\" alt=\"Open In Colab\"/></a>"
      ]
    },
    {
      "cell_type": "markdown",
      "source": [
        "### Imports and Paths"
      ],
      "metadata": {
        "id": "v-WYH-pGXIba"
      }
    },
    {
      "cell_type": "code",
      "source": [
        "# imports\n",
        "import os\n",
        "import pandas as pd\n",
        "import numpy as np\n",
        "from collections import Counter\n",
        "import matplotlib.pyplot as plt\n",
        "from tqdm import tqdm \n"
      ],
      "metadata": {
        "id": "EQ5jnX8vJY1N"
      },
      "execution_count": 1,
      "outputs": []
    },
    {
      "cell_type": "code",
      "source": [
        "# set paths\n",
        "data_path=\"drive/MyDrive/Work/Frontline/data/\"\n",
        "unzipped_path = data_path+\"unzipped\"\n",
        "json_path = data_path+\"json/\"\n"
      ],
      "metadata": {
        "id": "StpYX7PXJRqv"
      },
      "execution_count": 2,
      "outputs": []
    },
    {
      "cell_type": "markdown",
      "source": [
        "### Methods and Constants"
      ],
      "metadata": {
        "id": "nLR9xXsihJL4"
      }
    },
    {
      "cell_type": "code",
      "source": [
        "# methods\n",
        "\n",
        "def filter_strings(text, combination_list):\n",
        "  \"\"\" function to compare if any of a list of words occur in a text or or list of texts \n",
        "  Parameters:\n",
        "    - text (str or list of str): text which is checked \n",
        "    - combination_list (list of str): list of words which are checked if they occur in text \n",
        "  Returns:\n",
        "    - boolean: True or False depending on if any of the words in combination_list occurs in text\n",
        "  \"\"\"\n",
        "\n",
        "  text=\"\".join(text)\n",
        "  combinations = combination_list\n",
        "  for comb in combinations:\n",
        "    \n",
        "    if all(word in text for word in comb.split(\" und \")):\n",
        "        return True\n",
        "  return False"
      ],
      "metadata": {
        "id": "ugnHlDF1Z0VO"
      },
      "execution_count": 4,
      "outputs": []
    },
    {
      "cell_type": "code",
      "source": [
        "comb1 = ['häuslich gewalt',\n",
        "        'partnerschaftsgewalt',\n",
        "        'partnergewalt',\n",
        "        'femizid',\n",
        "        'beziehungstat',\n",
        "        'liebesdrama',\n",
        "        'ehedrama',\n",
        "        'liebestragödie',\n",
        "        'ehelich gewalt',\n",
        "        'ehekrieg',\n",
        "        'innerfamiliär gewalt',\n",
        "        'innerhäuslich gewalt',\n",
        "        'gewalt und \\sehe',\n",
        "        'ehe und hölle'\n",
        "        'gewalt und (freund(in)?|partner(in)?|mann|frau)\\s',\n",
        "        'vergewaltigen und (freund(in)?|partner(in)?|mann|frau)\\s',\n",
        "        'vergewaltigung und (freund(in)?|partner(in)?|mann|frau)\\s',\n",
        "        'missbrauch und (freund(in)?|partner(in)?|mann|frau)\\s',\n",
        "        'missbräuchlich und (freund(in)?|partner(in)?|mann|frau)\\s',\n",
        "        'gewalttätig und (freund(in)?|partner(in)?|mann|frau)\\s',\n",
        "        'verletzung und (freund(in)?|partner(in)?|mann|frau)\\s',\n",
        "        'verletzen und (freund(in)?|partner(in)?|mann|frau)\\s',\n",
        "        'übergriffig und (freund(in)?|partner(in)?|mann|frau)\\s',\n",
        "        'drohung und (freund(in)?|partner(in)?|mann|frau)\\s',\n",
        "        'drohen und (freund(in)?|partner(in)?|mann|frau)\\s',\n",
        "        'manipulation und (freund(in)?|partner(in)?|mann|frau)\\s',\n",
        "        'manipulieren und (freund(in)?|partner(in)?|mann|frau)\\s',\n",
        "        'beleidigen und (freund(in)?|partner(in)?|mann|frau)\\s',\n",
        "        'beleidigung und (freund(in)?|partner(in)?|mann|frau)\\s',\n",
        "        'gaslighting und (freund(in)?|partner(in)?|mann|frau)\\s',\n",
        "        'schlagen und (freund(in)?|partner(in)?|mann|frau)\\s',\n",
        "        'zwingen und (freund(in)?|partner(in)?|mann|frau)\\s', \n",
        "        'gezwungen und (freund(in)?|partner(in)?|mann|frau)\\s',\n",
        "        'zwang und (freund(in)?|partner(in)?|mann|frau)\\s',\n",
        "        'einsperren und (freund(in)?|partner(in)?|mann|frau)\\s',\n",
        "        'stalking und (freund(in)?|partner(in)?|mann|frau)\\s',\n",
        "        'stalken und (freund(in)?|partner(in)?|mann|frau)\\s',\n",
        "        'kontrollieren und (freund(in)?|partner(in)?|mann|frau)\\s',\n",
        "        'kontrolle und (freund(in)?|partner(in)?|mann|frau)\\s',\n",
        "        'isolieren und (freund(in)?|partner(in)?|mann|frau)\\s',\n",
        "        'isolation und (freund(in)?|partner(in)?|mann|frau)\\s',\n",
        "        'hauen und (freund(in)?|partner(in)?|mann|frau)\\s',\n",
        "        'ohrfeige und (freund(in)?|partner(in)?|mann|frau)\\s'\n",
        "\n",
        "        ]"
      ],
      "metadata": {
        "id": "xRyLzbCkXa6M"
      },
      "execution_count": 5,
      "outputs": []
    },
    {
      "cell_type": "markdown",
      "source": [
        "### Filter based on key words"
      ],
      "metadata": {
        "id": "scwGO75nXejG"
      }
    },
    {
      "cell_type": "code",
      "source": [
        "DV_art=[]"
      ],
      "metadata": {
        "id": "ohJnYzrEf8Sj"
      },
      "execution_count": 6,
      "outputs": []
    },
    {
      "cell_type": "code",
      "source": [
        "for json in tqdm(os.listdir(json_path)):\n",
        "  df_temp=pd.read_json(json_path+\"/\"+json)\n",
        "  for row_j in tqdm(range(len(df_temp))):\n",
        "    for art_i in range(len(df_temp.loc[row_j,:][0])):\n",
        "      if filter_strings(df_temp.loc[row_j,:][0][art_i][\"text\"],comb1):\n",
        "        DV_art.append(df_temp.loc[row_j,:][0][art_i])"
      ],
      "metadata": {
        "id": "GAld8LC_YqJC"
      },
      "execution_count": null,
      "outputs": []
    },
    {
      "cell_type": "code",
      "source": [],
      "metadata": {
        "id": "76uKjUYahtJW"
      },
      "execution_count": null,
      "outputs": []
    }
  ]
}