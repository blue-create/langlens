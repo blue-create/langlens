{
  "nbformat": 4,
  "nbformat_minor": 0,
  "metadata": {
    "colab": {
      "provenance": [],
      "authorship_tag": "ABX9TyN1caf2dGPByprI90WL/w3O"
    },
    "kernelspec": {
      "name": "python3",
      "display_name": "Python 3"
    },
    "language_info": {
      "name": "python"
    }
  },
  "cells": [
    {
      "cell_type": "markdown",
      "source": [
        "# Purpose\n",
        "This file shows the steps taken to load the pre-trained model distilbert and train it with a sample data set"
      ],
      "metadata": {
        "id": "RTtTCYpt91mR"
      }
    },
    {
      "cell_type": "markdown",
      "source": [
        "### Imports"
      ],
      "metadata": {
        "id": "DLdndpKk905i"
      }
    },
    {
      "cell_type": "code",
      "execution_count": 9,
      "metadata": {
        "id": "BS-Yai1i7JvU"
      },
      "outputs": [],
      "source": [
        "%%capture\n",
        "!pip install transformers\n",
        "\n",
        "import warnings\n",
        "warnings.filterwarnings('ignore')\n",
        "\n",
        "import numpy as np\n",
        "import pandas as pd\n",
        "import seaborn as sns\n",
        "import matplotlib.pyplot as plt\n",
        "from tqdm import tqdm\n",
        "import os\n",
        "import json\n",
        "\n"
      ]
    },
    {
      "cell_type": "markdown",
      "source": [
        "### Constants"
      ],
      "metadata": {
        "id": "lZ7shOvVBIY8"
      }
    },
    {
      "cell_type": "code",
      "source": [
        "# paths\n",
        "FILTERED_PATH=\"filtered_4_26\"\n",
        "ANNOTATED_PATH=\"annotated\""
      ],
      "metadata": {
        "id": "bn_Wyf8WB1SC"
      },
      "execution_count": 2,
      "outputs": []
    },
    {
      "cell_type": "markdown",
      "source": [
        "### Data"
      ],
      "metadata": {
        "id": "1bHuCysV-ZFp"
      }
    },
    {
      "cell_type": "code",
      "source": [
        "# connect with google drive\n",
        "from google.colab import drive\n",
        "drive.mount('/content/drive')\n"
      ],
      "metadata": {
        "colab": {
          "base_uri": "https://localhost:8080/"
        },
        "id": "zAJbkWx2-blT",
        "outputId": "6833c1a2-d350-4898-93b9-f6a90e44929f"
      },
      "execution_count": 5,
      "outputs": [
        {
          "output_type": "stream",
          "name": "stdout",
          "text": [
            "Mounted at /content/drive\n"
          ]
        }
      ]
    },
    {
      "cell_type": "code",
      "source": [
        "# change cwd\n",
        "%cd drive/MyDrive/Work/Frontline/data"
      ],
      "metadata": {
        "colab": {
          "base_uri": "https://localhost:8080/"
        },
        "id": "H1Hk1qNmCArJ",
        "outputId": "bfb74a97-45c6-41a4-f0d9-55ccb229b4dd"
      },
      "execution_count": 6,
      "outputs": [
        {
          "output_type": "stream",
          "name": "stdout",
          "text": [
            "/content/drive/.shortcut-targets-by-id/1WfnZsqpG1r110J63sMbfS5TpsDOkveiV/data\n"
          ]
        }
      ]
    },
    {
      "cell_type": "code",
      "source": [
        "#read json data\n",
        "json_data=json.load(open(ANNOTATED_PATH+\"/annotations_05_03.json\"))"
      ],
      "metadata": {
        "id": "Ue5Z2rnAE_yQ"
      },
      "execution_count": 30,
      "outputs": []
    },
    {
      "cell_type": "markdown",
      "source": [
        "### Prepare data"
      ],
      "metadata": {
        "id": "Q4cXA2_nGkhv"
      }
    },
    {
      "cell_type": "code",
      "source": [
        "#convert to dataframe\n",
        "data=pd.DataFrame(json_data[\"documents\"])"
      ],
      "metadata": {
        "id": "GC3Ir-qYDqHX"
      },
      "execution_count": 34,
      "outputs": []
    },
    {
      "cell_type": "code",
      "source": [
        "#for now: filter out paragraphs that have not been annotated \n",
        "data=data[data[\"annotations\"].apply(len)>0]\n",
        "\n",
        "#reset index\n",
        "data=data.reset_index(drop=True)\n",
        "data.shape"
      ],
      "metadata": {
        "id": "dfHJHZTcGoUq"
      },
      "execution_count": 61,
      "outputs": []
    },
    {
      "cell_type": "code",
      "source": [
        "#extract document labels\n",
        "# ASSUMPTION: all annotations are document labels, ie. do not have start and end as those are ignored\n",
        "data[\"annotations\"]=[i[0][\"concept\"][\"preferred_label\"][\"name\"] for i in data[\"annotations\"]]"
      ],
      "metadata": {
        "id": "_iyaglnCJU_3"
      },
      "execution_count": 85,
      "outputs": []
    }
  ]
}