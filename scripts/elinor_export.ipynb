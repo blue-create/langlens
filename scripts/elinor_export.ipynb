{
  "nbformat": 4,
  "nbformat_minor": 0,
  "metadata": {
    "colab": {
      "provenance": [],
      "collapsed_sections": [
        "IgSUylz2sAbY"
      ],
      "include_colab_link": true
    },
    "kernelspec": {
      "name": "python3",
      "display_name": "Python 3"
    },
    "language_info": {
      "name": "python"
    }
  },
  "cells": [
    {
      "cell_type": "markdown",
      "metadata": {
        "id": "view-in-github",
        "colab_type": "text"
      },
      "source": [
        "<a href=\"https://colab.research.google.com/github/blue-create/langlens/blob/main/scripts/elinor_export.ipynb\" target=\"_parent\"><img src=\"https://colab.research.google.com/assets/colab-badge.svg\" alt=\"Open In Colab\"/></a>"
      ]
    },
    {
      "cell_type": "markdown",
      "source": [
        "# Purpose\n",
        "\n",
        "This file shows the steps we took to sample and create the annotation dataset."
      ],
      "metadata": {
        "id": "Q1MHyZaI09-2"
      }
    },
    {
      "cell_type": "markdown",
      "source": [
        "## Connect with Google drive to access data \n",
        "\n",
        "In order to access the data, you first need to create a shortcut of the data folder to your own Gdrive. If you've been granted editing rights, you should be able to edit the content of the folder, i.e. add, move and delete data, create and rename folders, etc."
      ],
      "metadata": {
        "id": "QYjhPHYZ1MVO"
      }
    },
    {
      "cell_type": "code",
      "source": [
        "# connect with google drive\n",
        "from google.colab import drive\n",
        "drive.mount('/content/drive')"
      ],
      "metadata": {
        "colab": {
          "base_uri": "https://localhost:8080/"
        },
        "id": "3-gEE8t61TyI",
        "outputId": "2ee8daf6-fbf8-4310-9c29-dfaf0f1417b2"
      },
      "execution_count": 1,
      "outputs": [
        {
          "output_type": "stream",
          "name": "stdout",
          "text": [
            "Mounted at /content/drive\n"
          ]
        }
      ]
    },
    {
      "cell_type": "code",
      "source": [
        "# redirect the working directory of this script to the data folder\n",
        "#%cd /content/drive/MyDrive/Work/Frontline/data/\n",
        "%cd /content/drive/MyDrive/data/"
      ],
      "metadata": {
        "colab": {
          "base_uri": "https://localhost:8080/"
        },
        "id": "UG1MwJ4Y1U_h",
        "outputId": "5edb7c4b-225f-4b67-c294-a037412f917c"
      },
      "execution_count": 2,
      "outputs": [
        {
          "output_type": "stream",
          "name": "stdout",
          "text": [
            "/content/drive/MyDrive/data\n"
          ]
        }
      ]
    },
    {
      "cell_type": "markdown",
      "source": [
        "## Load data"
      ],
      "metadata": {
        "id": "Ej0F6zHR1Xz3"
      }
    },
    {
      "cell_type": "code",
      "source": [
        "import tqdm as tqdm\n",
        "from collections import Counter\n",
        "import os\n",
        "import pandas as pd\n",
        "import re \n",
        "from ast import literal_eval\n",
        "import statistics\n",
        "import matplotlib.pyplot as plt\n",
        "\n",
        "folder_path = \"filtered_4_26\""
      ],
      "metadata": {
        "id": "Pb-1q-dqzgQH"
      },
      "execution_count": 3,
      "outputs": []
    },
    {
      "cell_type": "markdown",
      "source": [
        "### Method 1: get csv files "
      ],
      "metadata": {
        "id": "6Ny15n7AO8PV"
      }
    },
    {
      "cell_type": "code",
      "source": [
        "\n",
        "dfs = []\n",
        "\n",
        "# loop through files \n",
        "for filename in os.listdir(folder_path):\n",
        "    # if csv file, load and add to dfs  \n",
        "    if filename.endswith(\".csv\"):\n",
        "        file_path = os.path.join(folder_path, filename)\n",
        "        # import csv with text as list object \n",
        "        df = pd.read_csv(file_path, index_col=0, converters={\"text\":literal_eval})\n",
        "        dfs.append(df)\n",
        "# combine files in df\n",
        "df_filtered = pd.concat(dfs, ignore_index=True)"
      ],
      "metadata": {
        "id": "ktoRDGajzoqi"
      },
      "execution_count": 4,
      "outputs": []
    },
    {
      "cell_type": "markdown",
      "source": [
        "### Method 2: get a csv file"
      ],
      "metadata": {
        "id": "pFNlGnG7PD23"
      }
    },
    {
      "cell_type": "code",
      "source": [
        "df_subset = pd.read_csv('sample.csv', encoding='utf-8', index_col=0)"
      ],
      "metadata": {
        "id": "RP4BKUzjPIF5"
      },
      "execution_count": null,
      "outputs": []
    },
    {
      "cell_type": "markdown",
      "source": [
        "### Method 3: Manually selected dataset of relevant articles\n",
        "--> ensuring that the dataset only contains relevant articles, espscially for testing"
      ],
      "metadata": {
        "id": "17Rx0STiu1nu"
      }
    },
    {
      "cell_type": "code",
      "source": [
        "subset_dv=df_filtered.loc[(11483,14044,62494,49199,11047,14948,10565,31059,58890,20347,55396,56389,5528,18532,59435,8035,27119,12788,59992,21477,10331,26314,45356,61023,31865,48960,44587,17992,14763,60043,20540,4563,13213,6751,43374,41018,38770,24654,21936,29297,1869,33163,60220,61232,57613,48979,33785,51576,8300,7675),:]"
      ],
      "metadata": {
        "id": "bbKfHRI1u7ag"
      },
      "execution_count": null,
      "outputs": []
    },
    {
      "cell_type": "markdown",
      "source": [
        "## Create a random subset of the data "
      ],
      "metadata": {
        "id": "Ieb0Shf71cvu"
      }
    },
    {
      "cell_type": "code",
      "source": [
        "# size of subset we want \n",
        "number = 50"
      ],
      "metadata": {
        "id": "bGL1Cb9R8fLD"
      },
      "execution_count": 14,
      "outputs": []
    },
    {
      "cell_type": "code",
      "source": [
        "df_subset = df_filtered.sample(number, random_state=42)"
      ],
      "metadata": {
        "id": "_7qzAZDi778j"
      },
      "execution_count": 15,
      "outputs": []
    },
    {
      "cell_type": "markdown",
      "source": [
        "## Adjust format for export"
      ],
      "metadata": {
        "id": "5FJOlUvd1gHQ"
      }
    },
    {
      "cell_type": "markdown",
      "source": [
        "### Methods"
      ],
      "metadata": {
        "id": "IgSUylz2sAbY"
      }
    },
    {
      "cell_type": "code",
      "source": [
        "# function to count sentences and get summary statistics\n",
        "def count_sentences(arts):\n",
        "  sentence_counts=[]\n",
        "  for art in arts:\n",
        "    # split on full stop, not when number proceeding, eg. 30. November\n",
        "    # counting sentences\n",
        "    sentence_counts=sentence_counts+[len(re.split(\"(?<!\\d)\\.\", paragraph)) for paragraph in art]\n",
        "  return {'mean': statistics.mean(sentence_counts),\n",
        "          'max': max(sentence_counts),\n",
        "          'min': min(sentence_counts),\n",
        "          'mode': statistics.mode(sentence_counts)},sentence_counts"
      ],
      "metadata": {
        "id": "V1o4qe36uQmL"
      },
      "execution_count": 7,
      "outputs": []
    },
    {
      "cell_type": "code",
      "source": [
        "def count_words(arts):\n",
        "  word_counts=[]\n",
        "  for art in arts:\n",
        "    # counting words in paragraph\n",
        "    word_counts=word_counts+[len(paragraph.split()) for paragraph in art]\n",
        "  return {'mean': statistics.mean(word_counts),\n",
        "          'max': max(word_counts),\n",
        "          'min': min(word_counts),\n",
        "          'mode': statistics.mode(word_counts)},word_counts"
      ],
      "metadata": {
        "id": "iayXVXYT4Eyu"
      },
      "execution_count": 8,
      "outputs": []
    },
    {
      "cell_type": "code",
      "source": [
        "def reformat_article(art, min_words=3, max_words=125):\n",
        "  # remove genios styles \n",
        "  art = [re.sub(r'<.*?>', '', x) for x in art]\n",
        "\n",
        "  # remove new line characters and preceeding whitespaces\n",
        "  art = [x.strip() for x in art]\n",
        "\n",
        "  #remove empty paragraphs\n",
        "  art = [x for x in art if x.strip()]\n",
        "\n",
        "  #remove paragraphs that are too long\n",
        "  art = [x for x in art if len(x.split()) < max_words]\n",
        "\n",
        "  #remove paragraphs that are too short, ie. by default 3 or fewer words\n",
        "  art = [x for x in art if len(x.split()) >= min_words]  \n",
        "\n",
        "  return art"
      ],
      "metadata": {
        "id": "beTpoSVOZowg"
      },
      "execution_count": 9,
      "outputs": []
    },
    {
      "cell_type": "markdown",
      "source": [
        "### Length of paragraphs before cleaning\n"
      ],
      "metadata": {
        "id": "FyGZx5r1tgLt"
      }
    },
    {
      "cell_type": "markdown",
      "source": [
        "#### Using the manually selected dataset"
      ],
      "metadata": {
        "id": "HA72LodovRod"
      }
    },
    {
      "cell_type": "code",
      "source": [
        "summary,sentence_count = count_sentences(df_subset[\"text\"])\n",
        "print(\"Sentence length before cleaning:\", summary)"
      ],
      "metadata": {
        "colab": {
          "base_uri": "https://localhost:8080/"
        },
        "id": "N_1jeoW_qd4K",
        "outputId": "fce19ff0-5b51-455c-f694-7fec9d105a36"
      },
      "execution_count": null,
      "outputs": [
        {
          "output_type": "stream",
          "name": "stdout",
          "text": [
            "Sentence length before cleaning: {'mean': 2.0776984460310794, 'max': 34, 'min': 1, 'mode': 1}\n"
          ]
        }
      ]
    },
    {
      "cell_type": "code",
      "source": [
        "plt.bar(dict(Counter(sentence_count)).keys(),dict(Counter(sentence_count)).values());\n",
        "plt.xlabel('Number of Sentences')\n",
        "plt.ylabel('Count')\n",
        "plt.title('Distribution of Sentences in Paragraphs');"
      ],
      "metadata": {
        "colab": {
          "base_uri": "https://localhost:8080/",
          "height": 472
        },
        "id": "kHT4I20dtoJq",
        "outputId": "3e5f02d7-a73c-4b80-f908-1bf793732c31"
      },
      "execution_count": null,
      "outputs": [
        {
          "output_type": "display_data",
          "data": {
            "text/plain": [
              "<Figure size 640x480 with 1 Axes>"
            ],
            "image/png": "[encoded data removed]"
          },
          "metadata": {}
        }
      ]
    },
    {
      "cell_type": "markdown",
      "source": [
        "Observation:\n",
        "- most paragraphs are rather short\n",
        "- only few paragraphs exceed 15 sentences\n"
      ],
      "metadata": {
        "id": "TNrjANMXub0X"
      }
    },
    {
      "cell_type": "markdown",
      "source": [
        "#### Using the entire filtered data set"
      ],
      "metadata": {
        "id": "NT_t2SX_vXA8"
      }
    },
    {
      "cell_type": "code",
      "source": [
        "summary,sentence_count = count_sentences(df_subset[\"text\"])\n",
        "print(\"Sentence length before cleaning:\", summary)"
      ],
      "metadata": {
        "colab": {
          "base_uri": "https://localhost:8080/"
        },
        "id": "_i0gSba6vZrV",
        "outputId": "b8022499-f4b8-4cbb-beb0-007eea718f50"
      },
      "execution_count": null,
      "outputs": [
        {
          "output_type": "stream",
          "name": "stdout",
          "text": [
            "Sentence length before cleaning: {'mean': 2.0776984460310794, 'max': 34, 'min': 1, 'mode': 1}\n"
          ]
        }
      ]
    },
    {
      "cell_type": "code",
      "source": [
        "plt.bar(dict(Counter(sentence_count)).keys(),dict(Counter(sentence_count)).values());\n",
        "plt.xlabel('Number of Sentences')\n",
        "plt.ylabel('Count')\n",
        "plt.title('Distribution of Sentences in Paragraphs');"
      ],
      "metadata": {
        "colab": {
          "base_uri": "https://localhost:8080/",
          "height": 472
        },
        "id": "eCuzOhZ1vci-",
        "outputId": "335b041b-f6cb-4ccd-f32f-1caaa9008da1"
      },
      "execution_count": null,
      "outputs": [
        {
          "output_type": "display_data",
          "data": {
            "text/plain": [
              "<Figure size 640x480 with 1 Axes>"
            ],
            "image/png": "[encoded data removed]"
          },
          "metadata": {}
        }
      ]
    },
    {
      "cell_type": "markdown",
      "source": [
        "Checking quantiles"
      ],
      "metadata": {
        "id": "9kjV6-bKyHlY"
      }
    },
    {
      "cell_type": "code",
      "source": [
        "pd.DataFrame(sentence_count).quantile([0.5,0.9,0.95,0.99])"
      ],
      "metadata": {
        "colab": {
          "base_uri": "https://localhost:8080/",
          "height": 174
        },
        "id": "FgDu2zl4xte-",
        "outputId": "b01ca754-b0c3-4f87-a5c2-afbba09802b6"
      },
      "execution_count": null,
      "outputs": [
        {
          "output_type": "execute_result",
          "data": {
            "text/plain": [
              "         0\n",
              "0.50   1.0\n",
              "0.90   4.0\n",
              "0.95   6.0\n",
              "0.99  10.0"
            ],
            "text/html": [
              "\n",
              "  <div id=\"df-e7357df6-e639-4b0d-9e66-c239e629d1e1\">\n",
              "    <div class=\"colab-df-container\">\n",
              "      <div>\n",
              "<style scoped>\n",
              "    .dataframe tbody tr th:only-of-type {\n",
              "        vertical-align: middle;\n",
              "    }\n",
              "\n",
              "    .dataframe tbody tr th {\n",
              "        vertical-align: top;\n",
              "    }\n",
              "\n",
              "    .dataframe thead th {\n",
              "        text-align: right;\n",
              "    }\n",
              "</style>\n",
              "<table border=\"1\" class=\"dataframe\">\n",
              "  <thead>\n",
              "    <tr style=\"text-align: right;\">\n",
              "      <th></th>\n",
              "      <th>0</th>\n",
              "    </tr>\n",
              "  </thead>\n",
              "  <tbody>\n",
              "    <tr>\n",
              "      <th>0.50</th>\n",
              "      <td>1.0</td>\n",
              "    </tr>\n",
              "    <tr>\n",
              "      <th>0.90</th>\n",
              "      <td>4.0</td>\n",
              "    </tr>\n",
              "    <tr>\n",
              "      <th>0.95</th>\n",
              "      <td>6.0</td>\n",
              "    </tr>\n",
              "    <tr>\n",
              "      <th>0.99</th>\n",
              "      <td>10.0</td>\n",
              "    </tr>\n",
              "  </tbody>\n",
              "</table>\n",
              "</div>\n",
              "      <button class=\"colab-df-convert\" onclick=\"convertToInteractive('df-e7357df6-e639-4b0d-9e66-c239e629d1e1')\"\n",
              "              title=\"Convert this dataframe to an interactive table.\"\n",
              "              style=\"display:none;\">\n",
              "        \n",
              "  <svg xmlns=\"http://www.w3.org/2000/svg\" height=\"24px\"viewBox=\"0 0 24 24\"\n",
              "       width=\"24px\">\n",
              "    <path d=\"M0 0h24v24H0V0z\" fill=\"none\"/>\n",
              "    <path d=\"M18.56 5.44l.94 2.06.94-2.06 2.06-.94-2.06-.94-.94-2.06-.94 2.06-2.06.94zm-11 1L8.5 8.5l.94-2.06 2.06-.94-2.06-.94L8.5 2.5l-.94 2.06-2.06.94zm10 10l.94 2.06.94-2.06 2.06-.94-2.06-.94-.94-2.06-.94 2.06-2.06.94z\"/><path d=\"M17.41 7.96l-1.37-1.37c-.4-.4-.92-.59-1.43-.59-.52 0-1.04.2-1.43.59L10.3 9.45l-7.72 7.72c-.78.78-.78 2.05 0 2.83L4 21.41c.39.39.9.59 1.41.59.51 0 1.02-.2 1.41-.59l7.78-7.78 2.81-2.81c.8-.78.8-2.07 0-2.86zM5.41 20L4 18.59l7.72-7.72 1.47 1.35L5.41 20z\"/>\n",
              "  </svg>\n",
              "      </button>\n",
              "      \n",
              "  <style>\n",
              "    .colab-df-container {\n",
              "      display:flex;\n",
              "      flex-wrap:wrap;\n",
              "      gap: 12px;\n",
              "    }\n",
              "\n",
              "    .colab-df-convert {\n",
              "      background-color: #E8F0FE;\n",
              "      border: none;\n",
              "      border-radius: 50%;\n",
              "      cursor: pointer;\n",
              "      display: none;\n",
              "      fill: #1967D2;\n",
              "      height: 32px;\n",
              "      padding: 0 0 0 0;\n",
              "      width: 32px;\n",
              "    }\n",
              "\n",
              "    .colab-df-convert:hover {\n",
              "      background-color: #E2EBFA;\n",
              "      box-shadow: 0px 1px 2px rgba(60, 64, 67, 0.3), 0px 1px 3px 1px rgba(60, 64, 67, 0.15);\n",
              "      fill: #174EA6;\n",
              "    }\n",
              "\n",
              "    [theme=dark] .colab-df-convert {\n",
              "      background-color: #3B4455;\n",
              "      fill: #D2E3FC;\n",
              "    }\n",
              "\n",
              "    [theme=dark] .colab-df-convert:hover {\n",
              "      background-color: #434B5C;\n",
              "      box-shadow: 0px 1px 3px 1px rgba(0, 0, 0, 0.15);\n",
              "      filter: drop-shadow(0px 1px 2px rgba(0, 0, 0, 0.3));\n",
              "      fill: #FFFFFF;\n",
              "    }\n",
              "  </style>\n",
              "\n",
              "      <script>\n",
              "        const buttonEl =\n",
              "          document.querySelector('#df-e7357df6-e639-4b0d-9e66-c239e629d1e1 button.colab-df-convert');\n",
              "        buttonEl.style.display =\n",
              "          google.colab.kernel.accessAllowed ? 'block' : 'none';\n",
              "\n",
              "        async function convertToInteractive(key) {\n",
              "          const element = document.querySelector('#df-e7357df6-e639-4b0d-9e66-c239e629d1e1');\n",
              "          const dataTable =\n",
              "            await google.colab.kernel.invokeFunction('convertToInteractive',\n",
              "                                                     [key], {});\n",
              "          if (!dataTable) return;\n",
              "\n",
              "          const docLinkHtml = 'Like what you see? Visit the ' +\n",
              "            '<a target=\"_blank\" href=https://colab.research.google.com/notebooks/data_table.ipynb>data table notebook</a>'\n",
              "            + ' to learn more about interactive tables.';\n",
              "          element.innerHTML = '';\n",
              "          dataTable['output_type'] = 'display_data';\n",
              "          await google.colab.output.renderOutput(dataTable, element);\n",
              "          const docLink = document.createElement('div');\n",
              "          docLink.innerHTML = docLinkHtml;\n",
              "          element.appendChild(docLink);\n",
              "        }\n",
              "      </script>\n",
              "    </div>\n",
              "  </div>\n",
              "  "
            ]
          },
          "metadata": {},
          "execution_count": 16
        }
      ]
    },
    {
      "cell_type": "markdown",
      "source": [
        "Observations:\n",
        "- max number fo sentences in paragraph is ~230 \n",
        "- 90% of all paragraphs have 5 or fewer sentences\n",
        "- 99% of paragraphs have 10 or fewer sentences"
      ],
      "metadata": {
        "id": "h7Sfqm5MwHPC"
      }
    },
    {
      "cell_type": "markdown",
      "source": [
        "Let's look at articles above the 95%- quantile"
      ],
      "metadata": {
        "id": "Y6ppFQ6zzFhT"
      }
    },
    {
      "cell_type": "code",
      "source": [
        "for art in df_filtered[\"text\"].iloc[:10]:\n",
        "  for paragraph in art:\n",
        "    # split on full stop, not when number proceeding, eg. 30. November\n",
        "    if len(re.split(\"(?<!\\d)\\.\", paragraph))>6:\n",
        "      print(paragraph)"
      ],
      "metadata": {
        "id": "ZugHzXwTzfyn"
      },
      "execution_count": null,
      "outputs": []
    },
    {
      "cell_type": "markdown",
      "source": [
        "Onservations:\n",
        "- long sentence paragraphs are either\n",
        "  - very short sentences, graphic language, sensational language --> relevant\n",
        "  - long sentences, descriptive --> too long\n",
        "--> use number of words instead"
      ],
      "metadata": {
        "id": "R5FHgoq93JiL"
      }
    },
    {
      "cell_type": "markdown",
      "source": [
        "### Number of words in articles"
      ],
      "metadata": {
        "id": "jBWJ4iX84TE7"
      }
    },
    {
      "cell_type": "markdown",
      "source": [
        "#### Using manually selected dataset\n"
      ],
      "metadata": {
        "id": "9lfV0p6a-Cll"
      }
    },
    {
      "cell_type": "code",
      "source": [
        "summary,word_count = count_words(df_subset[\"text\"])\n",
        "print(\"Sentence length before cleaning:\", summary)"
      ],
      "metadata": {
        "colab": {
          "base_uri": "https://localhost:8080/"
        },
        "outputId": "930b3373-b358-4adc-b5b4-a27e8e31e58d",
        "id": "uzc5nkZ4-NTi"
      },
      "execution_count": null,
      "outputs": [
        {
          "output_type": "stream",
          "name": "stdout",
          "text": [
            "Sentence length before cleaning: {'mean': 16.66862662746745, 'max': 610, 'min': 0, 'mode': 1}\n"
          ]
        }
      ]
    },
    {
      "cell_type": "code",
      "source": [
        "plt.bar(dict(Counter(word_count)).keys(),dict(Counter(word_count)).values());\n",
        "plt.xlabel('Number of Words')\n",
        "plt.ylabel('Count')\n",
        "plt.title('Distribution of Words in Paragraphs');"
      ],
      "metadata": {
        "colab": {
          "base_uri": "https://localhost:8080/",
          "height": 472
        },
        "outputId": "7f704fe9-f763-4ad5-e64d-43de1834a885",
        "id": "TzTRwtFi-NTk"
      },
      "execution_count": null,
      "outputs": [
        {
          "output_type": "display_data",
          "data": {
            "text/plain": [
              "<Figure size 640x480 with 1 Axes>"
            ],
            "image/png": "[encoded data removed]"
          },
          "metadata": {}
        }
      ]
    },
    {
      "cell_type": "markdown",
      "source": [
        "#### Using entire filtered dataset"
      ],
      "metadata": {
        "id": "NKwnDs18-Ggk"
      }
    },
    {
      "cell_type": "code",
      "source": [
        "summary,word_count = count_words(df_filtered[\"text\"])\n",
        "print(\"Sentence length before cleaning:\", summary)"
      ],
      "metadata": {
        "id": "zDx-wRNR4WR0"
      },
      "execution_count": null,
      "outputs": []
    },
    {
      "cell_type": "code",
      "source": [
        "plt.bar(dict(Counter(word_count)).keys(),dict(Counter(word_count)).values());\n",
        "plt.xlabel('Number of Words')\n",
        "plt.ylabel('Count')\n",
        "plt.ylim([0, 32000])\n",
        "plt.title('Distribution of Words in Paragraphs');"
      ],
      "metadata": {
        "colab": {
          "base_uri": "https://localhost:8080/",
          "height": 472
        },
        "id": "_rwYJfwj5g9D",
        "outputId": "9bdd7b44-beab-470b-deef-1d1d9b75a4f7"
      },
      "execution_count": null,
      "outputs": [
        {
          "output_type": "display_data",
          "data": {
            "text/plain": [
              "<Figure size 640x480 with 1 Axes>"
            ],
            "image/png": "[encoded data removed]"
          },
          "metadata": {}
        }
      ]
    },
    {
      "cell_type": "markdown",
      "source": [
        "Checking quantiles"
      ],
      "metadata": {
        "id": "2mJuyKA868HZ"
      }
    },
    {
      "cell_type": "code",
      "source": [
        "pd.DataFrame(word_count).quantile([0.5,0.9,0.95,0.99])"
      ],
      "metadata": {
        "colab": {
          "base_uri": "https://localhost:8080/",
          "height": 175
        },
        "id": "AzdrBqJa66RV",
        "outputId": "03559464-10fa-4a56-ecfd-4562918acdc1"
      },
      "execution_count": null,
      "outputs": [
        {
          "output_type": "execute_result",
          "data": {
            "text/plain": [
              "          0\n",
              "0.50    7.0\n",
              "0.90   53.0\n",
              "0.95   76.0\n",
              "0.99  127.0"
            ],
            "text/html": [
              "\n",
              "  <div id=\"df-d9f991c6-247c-4381-a86b-ec419b7897b6\">\n",
              "    <div class=\"colab-df-container\">\n",
              "      <div>\n",
              "<style scoped>\n",
              "    .dataframe tbody tr th:only-of-type {\n",
              "        vertical-align: middle;\n",
              "    }\n",
              "\n",
              "    .dataframe tbody tr th {\n",
              "        vertical-align: top;\n",
              "    }\n",
              "\n",
              "    .dataframe thead th {\n",
              "        text-align: right;\n",
              "    }\n",
              "</style>\n",
              "<table border=\"1\" class=\"dataframe\">\n",
              "  <thead>\n",
              "    <tr style=\"text-align: right;\">\n",
              "      <th></th>\n",
              "      <th>0</th>\n",
              "    </tr>\n",
              "  </thead>\n",
              "  <tbody>\n",
              "    <tr>\n",
              "      <th>0.50</th>\n",
              "      <td>7.0</td>\n",
              "    </tr>\n",
              "    <tr>\n",
              "      <th>0.90</th>\n",
              "      <td>53.0</td>\n",
              "    </tr>\n",
              "    <tr>\n",
              "      <th>0.95</th>\n",
              "      <td>76.0</td>\n",
              "    </tr>\n",
              "    <tr>\n",
              "      <th>0.99</th>\n",
              "      <td>127.0</td>\n",
              "    </tr>\n",
              "  </tbody>\n",
              "</table>\n",
              "</div>\n",
              "      <button class=\"colab-df-convert\" onclick=\"convertToInteractive('df-d9f991c6-247c-4381-a86b-ec419b7897b6')\"\n",
              "              title=\"Convert this dataframe to an interactive table.\"\n",
              "              style=\"display:none;\">\n",
              "        \n",
              "  <svg xmlns=\"http://www.w3.org/2000/svg\" height=\"24px\"viewBox=\"0 0 24 24\"\n",
              "       width=\"24px\">\n",
              "    <path d=\"M0 0h24v24H0V0z\" fill=\"none\"/>\n",
              "    <path d=\"M18.56 5.44l.94 2.06.94-2.06 2.06-.94-2.06-.94-.94-2.06-.94 2.06-2.06.94zm-11 1L8.5 8.5l.94-2.06 2.06-.94-2.06-.94L8.5 2.5l-.94 2.06-2.06.94zm10 10l.94 2.06.94-2.06 2.06-.94-2.06-.94-.94-2.06-.94 2.06-2.06.94z\"/><path d=\"M17.41 7.96l-1.37-1.37c-.4-.4-.92-.59-1.43-.59-.52 0-1.04.2-1.43.59L10.3 9.45l-7.72 7.72c-.78.78-.78 2.05 0 2.83L4 21.41c.39.39.9.59 1.41.59.51 0 1.02-.2 1.41-.59l7.78-7.78 2.81-2.81c.8-.78.8-2.07 0-2.86zM5.41 20L4 18.59l7.72-7.72 1.47 1.35L5.41 20z\"/>\n",
              "  </svg>\n",
              "      </button>\n",
              "      \n",
              "  <style>\n",
              "    .colab-df-container {\n",
              "      display:flex;\n",
              "      flex-wrap:wrap;\n",
              "      gap: 12px;\n",
              "    }\n",
              "\n",
              "    .colab-df-convert {\n",
              "      background-color: #E8F0FE;\n",
              "      border: none;\n",
              "      border-radius: 50%;\n",
              "      cursor: pointer;\n",
              "      display: none;\n",
              "      fill: #1967D2;\n",
              "      height: 32px;\n",
              "      padding: 0 0 0 0;\n",
              "      width: 32px;\n",
              "    }\n",
              "\n",
              "    .colab-df-convert:hover {\n",
              "      background-color: #E2EBFA;\n",
              "      box-shadow: 0px 1px 2px rgba(60, 64, 67, 0.3), 0px 1px 3px 1px rgba(60, 64, 67, 0.15);\n",
              "      fill: #174EA6;\n",
              "    }\n",
              "\n",
              "    [theme=dark] .colab-df-convert {\n",
              "      background-color: #3B4455;\n",
              "      fill: #D2E3FC;\n",
              "    }\n",
              "\n",
              "    [theme=dark] .colab-df-convert:hover {\n",
              "      background-color: #434B5C;\n",
              "      box-shadow: 0px 1px 3px 1px rgba(0, 0, 0, 0.15);\n",
              "      filter: drop-shadow(0px 1px 2px rgba(0, 0, 0, 0.3));\n",
              "      fill: #FFFFFF;\n",
              "    }\n",
              "  </style>\n",
              "\n",
              "      <script>\n",
              "        const buttonEl =\n",
              "          document.querySelector('#df-d9f991c6-247c-4381-a86b-ec419b7897b6 button.colab-df-convert');\n",
              "        buttonEl.style.display =\n",
              "          google.colab.kernel.accessAllowed ? 'block' : 'none';\n",
              "\n",
              "        async function convertToInteractive(key) {\n",
              "          const element = document.querySelector('#df-d9f991c6-247c-4381-a86b-ec419b7897b6');\n",
              "          const dataTable =\n",
              "            await google.colab.kernel.invokeFunction('convertToInteractive',\n",
              "                                                     [key], {});\n",
              "          if (!dataTable) return;\n",
              "\n",
              "          const docLinkHtml = 'Like what you see? Visit the ' +\n",
              "            '<a target=\"_blank\" href=https://colab.research.google.com/notebooks/data_table.ipynb>data table notebook</a>'\n",
              "            + ' to learn more about interactive tables.';\n",
              "          element.innerHTML = '';\n",
              "          dataTable['output_type'] = 'display_data';\n",
              "          await google.colab.output.renderOutput(dataTable, element);\n",
              "          const docLink = document.createElement('div');\n",
              "          docLink.innerHTML = docLinkHtml;\n",
              "          element.appendChild(docLink);\n",
              "        }\n",
              "      </script>\n",
              "    </div>\n",
              "  </div>\n",
              "  "
            ]
          },
          "metadata": {},
          "execution_count": 22
        }
      ]
    },
    {
      "cell_type": "markdown",
      "source": [
        "Observations:\n",
        "- most paragraphs contain less than 50 words\n",
        "- half of the paragraphs contain <=7 words\n"
      ],
      "metadata": {
        "id": "zC5PnZHw6-qH"
      }
    },
    {
      "cell_type": "markdown",
      "source": [
        "Let's look at the 95% quantile paragraphs:"
      ],
      "metadata": {
        "id": "ieyNkkGT7Mh2"
      }
    },
    {
      "cell_type": "code",
      "source": [
        "for art in df_filtered[\"text\"].iloc[:10]:\n",
        "  for paragraph in art:\n",
        "    # split on full stop, not when number proceeding, eg. 30. November\n",
        "    if len(paragraph.split())>75:\n",
        "      print(paragraph)"
      ],
      "metadata": {
        "id": "6Pt9OSlQ7L_l"
      },
      "execution_count": null,
      "outputs": []
    },
    {
      "cell_type": "markdown",
      "source": [
        "Let's look at the 99% quantile paragraphs:"
      ],
      "metadata": {
        "id": "tJZWhhO_71xE"
      }
    },
    {
      "cell_type": "code",
      "source": [
        "for art in df_filtered[\"text\"].iloc[:10]:\n",
        "  for paragraph in art:\n",
        "    # split on full stop, not when number proceeding, eg. 30. November\n",
        "    if len(paragraph.split())>127:\n",
        "      print(paragraph)"
      ],
      "metadata": {
        "id": "8ODtIHWu71xE"
      },
      "execution_count": null,
      "outputs": []
    },
    {
      "cell_type": "markdown",
      "source": [
        "Observations:\n",
        "- 75 words paragraphs are ususlly not too long\n",
        "- 127+ words are fairly long\n",
        "\n",
        "--> exclude paragraph if exceeds 125 words"
      ],
      "metadata": {
        "id": "FujYzACF7puj"
      }
    },
    {
      "cell_type": "markdown",
      "source": [
        "### Cleaning text:\n",
        "- remove newline characters\n",
        "- remove paragraphs if too long or short\n",
        "- remove genios styles \n",
        "- remove empty paragraphs"
      ],
      "metadata": {
        "id": "1IRqAQmlPjPX"
      }
    },
    {
      "cell_type": "markdown",
      "source": [
        "####Using manually created dataset"
      ],
      "metadata": {
        "id": "MVOiWjuP9kX3"
      }
    },
    {
      "cell_type": "code",
      "source": [
        "subset_dv_clean=subset_dv"
      ],
      "metadata": {
        "id": "zbfI1m7R894X"
      },
      "execution_count": null,
      "outputs": []
    },
    {
      "cell_type": "code",
      "source": [
        "subset_dv_clean[\"text\"] = [ reformat_article(art) for art in subset_dv[\"text\"]]"
      ],
      "metadata": {
        "id": "nIkYs9S1XS-Q"
      },
      "execution_count": null,
      "outputs": []
    },
    {
      "cell_type": "code",
      "source": [
        "summary,word_count = count_words(subset_dv_clean[\"text\"])\n",
        "print(\"Sentence length after cleaning:\", summary)"
      ],
      "metadata": {
        "colab": {
          "base_uri": "https://localhost:8080/"
        },
        "outputId": "d9e182ae-18e6-4b1b-9296-802ac0064fac",
        "id": "K0k0ANkD9JPs"
      },
      "execution_count": null,
      "outputs": [
        {
          "output_type": "stream",
          "name": "stdout",
          "text": [
            "Sentence length after cleaning: {'mean': 52.41237113402062, 'max': 122, 'min': 3, 'mode': 3}\n"
          ]
        }
      ]
    },
    {
      "cell_type": "code",
      "source": [
        "plt.bar(dict(Counter(word_count)).keys(),dict(Counter(word_count)).values());\n",
        "plt.xlabel('Number of Words')\n",
        "plt.ylabel('Count')\n",
        "plt.title('Distribution of Words in Paragraphs');"
      ],
      "metadata": {
        "colab": {
          "base_uri": "https://localhost:8080/",
          "height": 472
        },
        "outputId": "a8384b24-1ae2-475e-d65b-91d1c20dcfe0",
        "id": "uPx7_CWv9JPt"
      },
      "execution_count": null,
      "outputs": [
        {
          "output_type": "display_data",
          "data": {
            "text/plain": [
              "<Figure size 640x480 with 1 Axes>"
            ],
            "image/png": "[encoded data removed]"
          },
          "metadata": {}
        }
      ]
    },
    {
      "cell_type": "markdown",
      "source": [
        "####Using full dataset"
      ],
      "metadata": {
        "id": "nEBNtl8x3ndv"
      }
    },
    {
      "cell_type": "code",
      "source": [
        "df_subset[\"text\"] = [ reformat_article(art) for art in df_subset[\"text\"]]"
      ],
      "metadata": {
        "id": "uGaaq0t53tzy"
      },
      "execution_count": 16,
      "outputs": []
    },
    {
      "cell_type": "code",
      "source": [
        "summary,word_count = count_words(df_subset[\"text\"])\n",
        "print(\"Sentence length after cleaning:\", summary)"
      ],
      "metadata": {
        "colab": {
          "base_uri": "https://localhost:8080/"
        },
        "id": "MiLltk8f3xPV",
        "outputId": "a87b0e09-843d-4374-8fe3-d37dfb983d78"
      },
      "execution_count": 17,
      "outputs": [
        {
          "output_type": "stream",
          "name": "stdout",
          "text": [
            "Sentence length after cleaning: {'mean': 18.800834202294055, 'max': 124, 'min': 3, 'mode': 3}\n"
          ]
        }
      ]
    },
    {
      "cell_type": "code",
      "source": [
        "plt.bar(dict(Counter(word_count)).keys(),dict(Counter(word_count)).values());\n",
        "plt.xlabel('Number of Words')\n",
        "plt.ylabel('Count')\n",
        "plt.title('Distribution of Words in Paragraphs');"
      ],
      "metadata": {
        "colab": {
          "base_uri": "https://localhost:8080/",
          "height": 472
        },
        "id": "7UyJ7eCl3y8P",
        "outputId": "54a55cc7-e9d1-46a1-e8d6-2f85f2c46fdd"
      },
      "execution_count": 18,
      "outputs": [
        {
          "output_type": "display_data",
          "data": {
            "text/plain": [
              "<Figure size 640x480 with 1 Axes>"
            ],
            "image/png": "[encoded data removed]"
          },
          "metadata": {}
        }
      ]
    },
    {
      "cell_type": "markdown",
      "source": [
        "### Explode by paragraphs"
      ],
      "metadata": {
        "id": "Aa-slP38P5KQ"
      }
    },
    {
      "cell_type": "code",
      "source": [
        "# Explode \"text\" column\n",
        "df_subset_elinor = df_subset.explode(\"text\")\n",
        "# Create \"artikel_order\" column\n",
        "df_subset_elinor[\"artikel_order\"] = df_subset_elinor.groupby(\"artikel_id\").cumcount() + 1\n"
      ],
      "metadata": {
        "id": "h22XwUD9P25d"
      },
      "execution_count": 19,
      "outputs": []
    },
    {
      "cell_type": "code",
      "source": [
        "# remove \"empty\" articles, that wereremove in the previous step\n",
        "df_subset_elinor1=df_subset_elinor[df_subset_elinor['text'].notna()] "
      ],
      "metadata": {
        "id": "e2iF8SG1ENMk"
      },
      "execution_count": 20,
      "outputs": []
    },
    {
      "cell_type": "markdown",
      "source": [
        "### Inspect paragraphs by length"
      ],
      "metadata": {
        "id": "6Q9urAFbwJJ4"
      }
    },
    {
      "cell_type": "code",
      "source": [
        "# Get number of sentences\n",
        "df_subset_elinor1['num_sentences']=[len(re.split(\"(?<!\\d)\\.\", paragraph)) for paragraph in df_subset_elinor1['text']]\n",
        "\n",
        "# # # Create a bar chart\n",
        "plt.bar(df_subset_elinor1['num_sentences'].unique(), df_subset_elinor1['num_sentences'].value_counts())\n",
        "\n",
        "# # Set axis labels and title\n",
        "plt.xlabel('Number of Sentences')\n",
        "plt.ylabel('Count')\n",
        "plt.title('Distribution of Sentences in Paragraphs');\n"
      ],
      "metadata": {
        "id": "q_fUvZ9ZvkT0",
        "outputId": "1b6920a5-6a6e-4c84-8380-c6370fc5afd7",
        "colab": {
          "base_uri": "https://localhost:8080/",
          "height": 576
        }
      },
      "execution_count": 21,
      "outputs": [
        {
          "output_type": "stream",
          "name": "stderr",
          "text": [
            "<ipython-input-21-662cd10cfb79>:2: SettingWithCopyWarning: \n",
            "A value is trying to be set on a copy of a slice from a DataFrame.\n",
            "Try using .loc[row_indexer,col_indexer] = value instead\n",
            "\n",
            "See the caveats in the documentation: https://pandas.pydata.org/pandas-docs/stable/user_guide/indexing.html#returning-a-view-versus-a-copy\n",
            "  df_subset_elinor1['num_sentences']=[len(re.split(\"(?<!\\d)\\.\", paragraph)) for paragraph in df_subset_elinor1['text']]\n"
          ]
        },
        {
          "output_type": "display_data",
          "data": {
            "text/plain": [
              "<Figure size 640x480 with 1 Axes>"
            ],
            "image/png": "[encoded data removed]"
          },
          "metadata": {}
        }
      ]
    },
    {
      "cell_type": "code",
      "source": [
        "# Get number of Words\n",
        "df_subset_elinor1['num_words']=[len(paragraph.split()) for paragraph in df_subset_elinor1['text']]\n",
        "\n",
        "# # # Create a bar chart\n",
        "plt.bar(df_subset_elinor1['num_words'].unique(), df_subset_elinor1['num_words'].value_counts())\n",
        "\n",
        "# # Set axis labels and title\n",
        "plt.xlabel('Number of Words')\n",
        "plt.ylabel('Count')\n",
        "plt.title('Distribution of Sentences in Article');"
      ],
      "metadata": {
        "id": "7JH8-KqMwIfK",
        "outputId": "30cee1d6-499b-443e-f1f2-1efe25de8767",
        "colab": {
          "base_uri": "https://localhost:8080/",
          "height": 576
        }
      },
      "execution_count": 22,
      "outputs": [
        {
          "output_type": "stream",
          "name": "stderr",
          "text": [
            "<ipython-input-22-677a3e46a9d1>:2: SettingWithCopyWarning: \n",
            "A value is trying to be set on a copy of a slice from a DataFrame.\n",
            "Try using .loc[row_indexer,col_indexer] = value instead\n",
            "\n",
            "See the caveats in the documentation: https://pandas.pydata.org/pandas-docs/stable/user_guide/indexing.html#returning-a-view-versus-a-copy\n",
            "  df_subset_elinor1['num_words']=[len(paragraph.split()) for paragraph in df_subset_elinor1['text']]\n"
          ]
        },
        {
          "output_type": "display_data",
          "data": {
            "text/plain": [
              "<Figure size 640x480 with 1 Axes>"
            ],
            "image/png": "[encoded data removed]"
          },
          "metadata": {}
        }
      ]
    },
    {
      "cell_type": "markdown",
      "source": [
        "### Filter by content"
      ],
      "metadata": {
        "id": "hg0VDadS_J8r"
      }
    },
    {
      "cell_type": "code",
      "source": [
        "import re\n",
        "import pandas as pd"
      ],
      "metadata": {
        "id": "VyjiCbxMANe4"
      },
      "execution_count": 102,
      "outputs": []
    },
    {
      "cell_type": "code",
      "source": [
        "# Define regular expressions for weekdays, times, telephone numbers, and street names\n",
        "weekday_regex = re.compile(r'(Mo|Di|Mi|Do|Fr|Sa|So)\\s*[-–]\\s*(Mo|Di|Mi|Do|Fr|Sa|So)')\n",
        "time_regex = re.compile(r'\\d{1,2}[:\\.]\\d{2}\\s*bis\\s*\\d{1,2}[:\\.]\\d{2}\\s*,\\s*(Mo|Di|Mi|Do|Fr|Sa|So)\\s*,\\s*\\d{1,2}\\.\\w+')\n",
        "phone_regex = re.compile(r'\\(?\\d{5}\\)?[/\\s]*\\d{1,5}\\s*\\d{1,5}')\n",
        "street_regex = re.compile(r'[A-Z][a-z]*-?[A-Za-z]+-?[A-Za-z]*\\s*\\d+\\w*')\n"
      ],
      "metadata": {
        "id": "hmjHrVxg_Mai"
      },
      "execution_count": 103,
      "outputs": []
    },
    {
      "cell_type": "code",
      "source": [
        "# Define a function to remove the unwanted text snippets from a string\n",
        "def clean_text(text):\n",
        "    text = weekday_regex.sub('', text)\n",
        "    text = time_regex.sub('', text)\n",
        "    text = phone_regex.sub('', text)\n",
        "    text = street_regex.sub('', text)\n",
        "    return text.strip()"
      ],
      "metadata": {
        "id": "jm4xFHiPAQGR"
      },
      "execution_count": 104,
      "outputs": []
    },
    {
      "cell_type": "code",
      "source": [
        "# Apply the clean_text function to the \"text\" column of the DataFrame\n",
        "df_subset_elinor1['clean_text'] = df_subset_elinor1['text'].apply(clean_text)"
      ],
      "metadata": {
        "id": "gcu43QMwATeF"
      },
      "execution_count": 105,
      "outputs": []
    },
    {
      "cell_type": "markdown",
      "source": [
        "### Randomly select one paragraph per article"
      ],
      "metadata": {
        "id": "D_4vCxClhzl2"
      }
    },
    {
      "cell_type": "code",
      "source": [
        "import nltk\n",
        "nltk.download('punkt')"
      ],
      "metadata": {
        "id": "yjOtzi_H58w4",
        "outputId": "40dba839-008e-4f5a-fb2c-3a83c34630ca",
        "colab": {
          "base_uri": "https://localhost:8080/"
        }
      },
      "execution_count": 23,
      "outputs": [
        {
          "output_type": "stream",
          "name": "stderr",
          "text": [
            "[nltk_data] Downloading package punkt to /root/nltk_data...\n",
            "[nltk_data]   Unzipping tokenizers/punkt.zip.\n"
          ]
        },
        {
          "output_type": "execute_result",
          "data": {
            "text/plain": [
              "True"
            ]
          },
          "metadata": {},
          "execution_count": 23
        }
      ]
    },
    {
      "cell_type": "code",
      "source": [
        "def count_sentences(text):\n",
        "    return len(nltk.sent_tokenize(text))"
      ],
      "metadata": {
        "id": "M2OMY9wc5-Gl"
      },
      "execution_count": 24,
      "outputs": []
    },
    {
      "cell_type": "code",
      "source": [
        "df_subset_elinor1['num_sentences'] = df_subset_elinor1['text'].apply(count_sentences)"
      ],
      "metadata": {
        "id": "z2Pc_Efw6Aku",
        "outputId": "9530e2d8-a783-45ad-8a83-977b43c4ed89",
        "colab": {
          "base_uri": "https://localhost:8080/"
        }
      },
      "execution_count": 25,
      "outputs": [
        {
          "output_type": "stream",
          "name": "stderr",
          "text": [
            "<ipython-input-25-229108de2b5b>:1: SettingWithCopyWarning: \n",
            "A value is trying to be set on a copy of a slice from a DataFrame.\n",
            "Try using .loc[row_indexer,col_indexer] = value instead\n",
            "\n",
            "See the caveats in the documentation: https://pandas.pydata.org/pandas-docs/stable/user_guide/indexing.html#returning-a-view-versus-a-copy\n",
            "  df_subset_elinor1['num_sentences'] = df_subset_elinor1['text'].apply(count_sentences)\n"
          ]
        }
      ]
    },
    {
      "cell_type": "code",
      "source": [
        "# Define a function to randomly select one row from each group\n",
        "def select_random_row(group):\n",
        "    if group['num_sentences'].max() > 1:\n",
        "        return group[group['num_sentences'] > 1].sample(n=1)\n",
        "    else:\n",
        "        return group.head(1)"
      ],
      "metadata": {
        "id": "iI_MlT6Y9QFU"
      },
      "execution_count": 26,
      "outputs": []
    },
    {
      "cell_type": "code",
      "source": [
        "# Apply the function to each group and combine the results\n",
        "random_rows = df_subset_elinor1.groupby('artikel_id').apply(select_random_row).reset_index(drop=True)"
      ],
      "metadata": {
        "id": "vzqDnnIR9b6T"
      },
      "execution_count": 27,
      "outputs": []
    },
    {
      "cell_type": "code",
      "source": [
        "final = random_rows[['text']]"
      ],
      "metadata": {
        "id": "OXP8Y8Ur-COG"
      },
      "execution_count": 32,
      "outputs": []
    },
    {
      "cell_type": "markdown",
      "source": [
        "## Export as csv"
      ],
      "metadata": {
        "id": "0Go0cc9U1kpE"
      }
    },
    {
      "cell_type": "code",
      "source": [
        "output_path = \"elinor\""
      ],
      "metadata": {
        "id": "ItHRtFVP9vl_"
      },
      "execution_count": 33,
      "outputs": []
    },
    {
      "cell_type": "code",
      "source": [
        "final.to_csv(output_path+\"/annotation_test_05_14.csv\", index=False, header = True,\n",
        "                  encoding = 'utf-8')"
      ],
      "metadata": {
        "id": "dJO8Splt9raZ"
      },
      "execution_count": 34,
      "outputs": []
    }
  ]
}