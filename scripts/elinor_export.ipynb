{
  "nbformat": 4,
  "nbformat_minor": 0,
  "metadata": {
    "colab": {
      "provenance": [],
      "collapsed_sections": [
        "IgSUylz2sAbY"
      ]
    },
    "kernelspec": {
      "name": "python3",
      "display_name": "Python 3"
    },
    "language_info": {
      "name": "python"
    }
  },
  "cells": [
    {
      "cell_type": "markdown",
      "source": [
        "# Purpose\n",
        "\n",
        "This file shows the steps we took to sample and create the annotation dataset."
      ],
      "metadata": {
        "id": "Q1MHyZaI09-2"
      }
    },
    {
      "cell_type": "markdown",
      "source": [
        "## Connect with Google drive to access data \n",
        "\n",
        "In order to access the data, you first need to create a shortcut of the data folder to your own Gdrive. If you've been granted editing rights, you should be able to edit the content of the folder, i.e. add, move and delete data, create and rename folders, etc."
      ],
      "metadata": {
        "id": "QYjhPHYZ1MVO"
      }
    },
    {
      "cell_type": "code",
      "source": [
        "# connect with google drive\n",
        "from google.colab import drive\n",
        "drive.mount('/content/drive')"
      ],
      "metadata": {
        "colab": {
          "base_uri": "https://localhost:8080/"
        },
        "id": "3-gEE8t61TyI",
        "outputId": "6a0c9611-3db0-4271-fd6e-5f6c1d18a20c"
      },
      "execution_count": 2,
      "outputs": [
        {
          "output_type": "stream",
          "name": "stdout",
          "text": [
            "Mounted at /content/drive\n"
          ]
        }
      ]
    },
    {
      "cell_type": "code",
      "source": [
        "# redirect the working directory of this script to the data folder\n",
        "%cd /content/drive/MyDrive/Work/Frontline/data/"
      ],
      "metadata": {
        "colab": {
          "base_uri": "https://localhost:8080/"
        },
        "id": "UG1MwJ4Y1U_h",
        "outputId": "e9159b78-d11c-4bed-9493-08f572c8e37b"
      },
      "execution_count": 3,
      "outputs": [
        {
          "output_type": "stream",
          "name": "stdout",
          "text": [
            "/content/drive/.shortcut-targets-by-id/1WfnZsqpG1r110J63sMbfS5TpsDOkveiV/data\n"
          ]
        }
      ]
    },
    {
      "cell_type": "markdown",
      "source": [
        "## Load data"
      ],
      "metadata": {
        "id": "Ej0F6zHR1Xz3"
      }
    },
    {
      "cell_type": "code",
      "source": [
        "import tqdm as tqdm\n",
        "from collections import Counter\n",
        "import os\n",
        "import pandas as pd\n",
        "import re \n",
        "from ast import literal_eval\n",
        "import statistics\n",
        "import matplotlib.pyplot as plt\n",
        "\n",
        "folder_path = \"filtered_4_26\""
      ],
      "metadata": {
        "id": "Pb-1q-dqzgQH"
      },
      "execution_count": 4,
      "outputs": []
    },
    {
      "cell_type": "markdown",
      "source": [
        "### Method 1: get csv files "
      ],
      "metadata": {
        "id": "6Ny15n7AO8PV"
      }
    },
    {
      "cell_type": "code",
      "source": [
        "\n",
        "dfs = []\n",
        "\n",
        "# loop through files \n",
        "for filename in os.listdir(folder_path):\n",
        "    # if csv file, load and add to dfs  \n",
        "    if filename.endswith(\".csv\"):\n",
        "        file_path = os.path.join(folder_path, filename)\n",
        "        # import csv with text as list object \n",
        "        df = pd.read_csv(file_path, index_col=0, converters={\"text\":literal_eval})\n",
        "        dfs.append(df)\n",
        "# combine files in df\n",
        "df_filtered = pd.concat(dfs, ignore_index=True)"
      ],
      "metadata": {
        "id": "ktoRDGajzoqi"
      },
      "execution_count": 5,
      "outputs": []
    },
    {
      "cell_type": "markdown",
      "source": [
        "### Method 2: get a csv file"
      ],
      "metadata": {
        "id": "pFNlGnG7PD23"
      }
    },
    {
      "cell_type": "code",
      "source": [
        "df_subset = pd.read_csv('sample.csv', encoding='utf-8', index_col=0)"
      ],
      "metadata": {
        "id": "RP4BKUzjPIF5"
      },
      "execution_count": null,
      "outputs": []
    },
    {
      "cell_type": "markdown",
      "source": [
        "### Method 3: Manually selected dataset of relevant articles\n",
        "--> ensuring that the dataset only contains relevant articles, espscially for testing"
      ],
      "metadata": {
        "id": "17Rx0STiu1nu"
      }
    },
    {
      "cell_type": "code",
      "source": [
        "subset_dv=df_filtered.loc[(11483,14044,62494,49199,11047,14948,10565,31059,58890,20347,55396,56389,5528,18532,59435,8035,27119,12788,59992,21477,10331,26314,45356,61023,31865,48960,44587,17992,14763,60043,20540,4563,13213,6751,43374,41018,38770,24654,21936,29297,1869,33163,60220,61232,57613,48979,33785,51576,8300,7675),:]"
      ],
      "metadata": {
        "id": "bbKfHRI1u7ag"
      },
      "execution_count": 57,
      "outputs": []
    },
    {
      "cell_type": "markdown",
      "source": [
        "## Create a random subset of the data "
      ],
      "metadata": {
        "id": "Ieb0Shf71cvu"
      }
    },
    {
      "cell_type": "code",
      "source": [
        "# size of subset we want \n",
        "number = 100"
      ],
      "metadata": {
        "id": "bGL1Cb9R8fLD"
      },
      "execution_count": null,
      "outputs": []
    },
    {
      "cell_type": "code",
      "source": [
        "df_subset = df.sample(number, random_state=42)"
      ],
      "metadata": {
        "id": "_7qzAZDi778j"
      },
      "execution_count": null,
      "outputs": []
    },
    {
      "cell_type": "markdown",
      "source": [
        "## Adjust format for export"
      ],
      "metadata": {
        "id": "5FJOlUvd1gHQ"
      }
    },
    {
      "cell_type": "markdown",
      "source": [
        "### Methods"
      ],
      "metadata": {
        "id": "IgSUylz2sAbY"
      }
    },
    {
      "cell_type": "code",
      "source": [
        "# function to count sentences and get summary statistics\n",
        "def count_sentences(arts):\n",
        "  sentence_counts=[]\n",
        "  for art in arts:\n",
        "    # split on full stop, not when number proceeding, eg. 30. November\n",
        "    # counting sentences\n",
        "    sentence_counts=sentence_counts+[len(re.split(\"(?<!\\d)\\.\", paragraph)) for paragraph in art]\n",
        "  return {'mean': statistics.mean(sentence_counts),\n",
        "          'max': max(sentence_counts),\n",
        "          'min': min(sentence_counts),\n",
        "          'mode': statistics.mode(sentence_counts)},sentence_counts"
      ],
      "metadata": {
        "id": "V1o4qe36uQmL"
      },
      "execution_count": 9,
      "outputs": []
    },
    {
      "cell_type": "code",
      "source": [
        "def count_words(arts):\n",
        "  word_counts=[]\n",
        "  for art in arts:\n",
        "    # counting words in paragraph\n",
        "    word_counts=word_counts+[len(paragraph.split()) for paragraph in art]\n",
        "  return {'mean': statistics.mean(word_counts),\n",
        "          'max': max(word_counts),\n",
        "          'min': min(word_counts),\n",
        "          'mode': statistics.mode(word_counts)},word_counts"
      ],
      "metadata": {
        "id": "iayXVXYT4Eyu"
      },
      "execution_count": 10,
      "outputs": []
    },
    {
      "cell_type": "code",
      "source": [
        "def reformat_article(art, min_words=3, max_words=125):\n",
        "  # remove genios styles \n",
        "  art = [re.sub(r'<.*?>', '', x) for x in art]\n",
        "\n",
        "  # remove new line characters and preceeding whitespaces\n",
        "  art = [x.strip() for x in art]\n",
        "\n",
        "  #remove empty paragraphs\n",
        "  art = [x for x in art if x.strip()]\n",
        "\n",
        "  #remove paragraphs that are too long\n",
        "  art = [x for x in art if len(x.split()) < max_words]\n",
        "\n",
        "  #remove paragraphs that are too short, ie. by default 3 or fewer words\n",
        "  art = [x for x in art if len(x.split()) >= min_words]  \n",
        "\n",
        "  return art"
      ],
      "metadata": {
        "id": "beTpoSVOZowg"
      },
      "execution_count": 11,
      "outputs": []
    },
    {
      "cell_type": "markdown",
      "source": [
        "### Length of paragraphs before cleaning\n"
      ],
      "metadata": {
        "id": "FyGZx5r1tgLt"
      }
    },
    {
      "cell_type": "markdown",
      "source": [
        "#### Using the manually selected dataset"
      ],
      "metadata": {
        "id": "HA72LodovRod"
      }
    },
    {
      "cell_type": "code",
      "source": [
        "summary,sentence_count = count_sentences(subset_dv[\"text\"])\n",
        "print(\"Sentence length before cleaning:\", summary)"
      ],
      "metadata": {
        "colab": {
          "base_uri": "https://localhost:8080/"
        },
        "id": "N_1jeoW_qd4K",
        "outputId": "d28d62f4-dac9-4afc-8d15-a8c89a6e6cb3"
      },
      "execution_count": 12,
      "outputs": [
        {
          "output_type": "stream",
          "name": "stdout",
          "text": [
            "Sentence length before cleaning: {'mean': 4.28808864265928, 'max': 22, 'min': 1, 'mode': 1}\n"
          ]
        }
      ]
    },
    {
      "cell_type": "code",
      "source": [
        "plt.bar(dict(Counter(sentence_count)).keys(),dict(Counter(sentence_count)).values());\n",
        "plt.xlabel('Number of Sentences')\n",
        "plt.ylabel('Count')\n",
        "plt.title('Distribution of Sentences in Paragraphs');"
      ],
      "metadata": {
        "colab": {
          "base_uri": "https://localhost:8080/",
          "height": 472
        },
        "id": "kHT4I20dtoJq",
        "outputId": "c9f166da-d261-4569-d584-c843e74ffadf"
      },
      "execution_count": 13,
      "outputs": [
        {
          "output_type": "display_data",
          "data": {
            "text/plain": [
              "<Figure size 640x480 with 1 Axes>"
            ],
            "image/png": "[encoded data removed]"
          },
          "metadata": {}
        }
      ]
    },
    {
      "cell_type": "markdown",
      "source": [
        "Observation:\n",
        "- most paragraphs are rather short\n",
        "- only few paragraphs exceed 15 sentences\n"
      ],
      "metadata": {
        "id": "TNrjANMXub0X"
      }
    },
    {
      "cell_type": "markdown",
      "source": [
        "#### Using the entire filtered data set"
      ],
      "metadata": {
        "id": "NT_t2SX_vXA8"
      }
    },
    {
      "cell_type": "code",
      "source": [
        "summary,sentence_count = count_sentences(df_filtered[\"text\"])\n",
        "print(\"Sentence length before cleaning:\", summary)"
      ],
      "metadata": {
        "colab": {
          "base_uri": "https://localhost:8080/"
        },
        "id": "_i0gSba6vZrV",
        "outputId": "187c845f-a60d-4496-aaee-f09cb7253d5e"
      },
      "execution_count": 14,
      "outputs": [
        {
          "output_type": "stream",
          "name": "stdout",
          "text": [
            "Sentence length before cleaning: {'mean': 2.2732662652409847, 'max': 277, 'min': 1, 'mode': 1}\n"
          ]
        }
      ]
    },
    {
      "cell_type": "code",
      "source": [
        "plt.bar(dict(Counter(sentence_count)).keys(),dict(Counter(sentence_count)).values());\n",
        "plt.xlabel('Number of Sentences')\n",
        "plt.ylabel('Count')\n",
        "plt.title('Distribution of Sentences in Paragraphs');"
      ],
      "metadata": {
        "colab": {
          "base_uri": "https://localhost:8080/",
          "height": 472
        },
        "id": "eCuzOhZ1vci-",
        "outputId": "335b041b-f6cb-4ccd-f32f-1caaa9008da1"
      },
      "execution_count": 15,
      "outputs": [
        {
          "output_type": "display_data",
          "data": {
            "text/plain": [
              "<Figure size 640x480 with 1 Axes>"
            ],
            "image/png": "[encoded data removed]"
          },
          "metadata": {}
        }
      ]
    },
    {
      "cell_type": "markdown",
      "source": [
        "Checking quantiles"
      ],
      "metadata": {
        "id": "9kjV6-bKyHlY"
      }
    },
    {
      "cell_type": "code",
      "source": [
        "pd.DataFrame(sentence_count).quantile([0.5,0.9,0.95,0.99])"
      ],
      "metadata": {
        "colab": {
          "base_uri": "https://localhost:8080/",
          "height": 175
        },
        "id": "FgDu2zl4xte-",
        "outputId": "a377cb48-fd67-463a-d8d0-cf882d5e6c85"
      },
      "execution_count": 16,
      "outputs": [
        {
          "output_type": "execute_result",
          "data": {
            "text/plain": [
              "         0\n",
              "0.50   1.0\n",
              "0.90   5.0\n",
              "0.95   6.0\n",
              "0.99  10.0"
            ],
            "text/html": [
              "\n",
              "  <div id=\"df-f1e5be6d-86d6-4b6f-b934-47b81a00548b\">\n",
              "    <div class=\"colab-df-container\">\n",
              "      <div>\n",
              "<style scoped>\n",
              "    .dataframe tbody tr th:only-of-type {\n",
              "        vertical-align: middle;\n",
              "    }\n",
              "\n",
              "    .dataframe tbody tr th {\n",
              "        vertical-align: top;\n",
              "    }\n",
              "\n",
              "    .dataframe thead th {\n",
              "        text-align: right;\n",
              "    }\n",
              "</style>\n",
              "<table border=\"1\" class=\"dataframe\">\n",
              "  <thead>\n",
              "    <tr style=\"text-align: right;\">\n",
              "      <th></th>\n",
              "      <th>0</th>\n",
              "    </tr>\n",
              "  </thead>\n",
              "  <tbody>\n",
              "    <tr>\n",
              "      <th>0.50</th>\n",
              "      <td>1.0</td>\n",
              "    </tr>\n",
              "    <tr>\n",
              "      <th>0.90</th>\n",
              "      <td>5.0</td>\n",
              "    </tr>\n",
              "    <tr>\n",
              "      <th>0.95</th>\n",
              "      <td>6.0</td>\n",
              "    </tr>\n",
              "    <tr>\n",
              "      <th>0.99</th>\n",
              "      <td>10.0</td>\n",
              "    </tr>\n",
              "  </tbody>\n",
              "</table>\n",
              "</div>\n",
              "      <button class=\"colab-df-convert\" onclick=\"convertToInteractive('df-f1e5be6d-86d6-4b6f-b934-47b81a00548b')\"\n",
              "              title=\"Convert this dataframe to an interactive table.\"\n",
              "              style=\"display:none;\">\n",
              "        \n",
              "  <svg xmlns=\"http://www.w3.org/2000/svg\" height=\"24px\"viewBox=\"0 0 24 24\"\n",
              "       width=\"24px\">\n",
              "    <path d=\"M0 0h24v24H0V0z\" fill=\"none\"/>\n",
              "    <path d=\"M18.56 5.44l.94 2.06.94-2.06 2.06-.94-2.06-.94-.94-2.06-.94 2.06-2.06.94zm-11 1L8.5 8.5l.94-2.06 2.06-.94-2.06-.94L8.5 2.5l-.94 2.06-2.06.94zm10 10l.94 2.06.94-2.06 2.06-.94-2.06-.94-.94-2.06-.94 2.06-2.06.94z\"/><path d=\"M17.41 7.96l-1.37-1.37c-.4-.4-.92-.59-1.43-.59-.52 0-1.04.2-1.43.59L10.3 9.45l-7.72 7.72c-.78.78-.78 2.05 0 2.83L4 21.41c.39.39.9.59 1.41.59.51 0 1.02-.2 1.41-.59l7.78-7.78 2.81-2.81c.8-.78.8-2.07 0-2.86zM5.41 20L4 18.59l7.72-7.72 1.47 1.35L5.41 20z\"/>\n",
              "  </svg>\n",
              "      </button>\n",
              "      \n",
              "  <style>\n",
              "    .colab-df-container {\n",
              "      display:flex;\n",
              "      flex-wrap:wrap;\n",
              "      gap: 12px;\n",
              "    }\n",
              "\n",
              "    .colab-df-convert {\n",
              "      background-color: #E8F0FE;\n",
              "      border: none;\n",
              "      border-radius: 50%;\n",
              "      cursor: pointer;\n",
              "      display: none;\n",
              "      fill: #1967D2;\n",
              "      height: 32px;\n",
              "      padding: 0 0 0 0;\n",
              "      width: 32px;\n",
              "    }\n",
              "\n",
              "    .colab-df-convert:hover {\n",
              "      background-color: #E2EBFA;\n",
              "      box-shadow: 0px 1px 2px rgba(60, 64, 67, 0.3), 0px 1px 3px 1px rgba(60, 64, 67, 0.15);\n",
              "      fill: #174EA6;\n",
              "    }\n",
              "\n",
              "    [theme=dark] .colab-df-convert {\n",
              "      background-color: #3B4455;\n",
              "      fill: #D2E3FC;\n",
              "    }\n",
              "\n",
              "    [theme=dark] .colab-df-convert:hover {\n",
              "      background-color: #434B5C;\n",
              "      box-shadow: 0px 1px 3px 1px rgba(0, 0, 0, 0.15);\n",
              "      filter: drop-shadow(0px 1px 2px rgba(0, 0, 0, 0.3));\n",
              "      fill: #FFFFFF;\n",
              "    }\n",
              "  </style>\n",
              "\n",
              "      <script>\n",
              "        const buttonEl =\n",
              "          document.querySelector('#df-f1e5be6d-86d6-4b6f-b934-47b81a00548b button.colab-df-convert');\n",
              "        buttonEl.style.display =\n",
              "          google.colab.kernel.accessAllowed ? 'block' : 'none';\n",
              "\n",
              "        async function convertToInteractive(key) {\n",
              "          const element = document.querySelector('#df-f1e5be6d-86d6-4b6f-b934-47b81a00548b');\n",
              "          const dataTable =\n",
              "            await google.colab.kernel.invokeFunction('convertToInteractive',\n",
              "                                                     [key], {});\n",
              "          if (!dataTable) return;\n",
              "\n",
              "          const docLinkHtml = 'Like what you see? Visit the ' +\n",
              "            '<a target=\"_blank\" href=https://colab.research.google.com/notebooks/data_table.ipynb>data table notebook</a>'\n",
              "            + ' to learn more about interactive tables.';\n",
              "          element.innerHTML = '';\n",
              "          dataTable['output_type'] = 'display_data';\n",
              "          await google.colab.output.renderOutput(dataTable, element);\n",
              "          const docLink = document.createElement('div');\n",
              "          docLink.innerHTML = docLinkHtml;\n",
              "          element.appendChild(docLink);\n",
              "        }\n",
              "      </script>\n",
              "    </div>\n",
              "  </div>\n",
              "  "
            ]
          },
          "metadata": {},
          "execution_count": 16
        }
      ]
    },
    {
      "cell_type": "markdown",
      "source": [
        "Observations:\n",
        "- max number fo sentences in paragraph is ~230 \n",
        "- 90% of all paragraphs have 5 or fewer sentences\n",
        "- 99% of paragraphs have 10 or fewer sentences"
      ],
      "metadata": {
        "id": "h7Sfqm5MwHPC"
      }
    },
    {
      "cell_type": "markdown",
      "source": [
        "Let's look at articles above the 95%- quantile"
      ],
      "metadata": {
        "id": "Y6ppFQ6zzFhT"
      }
    },
    {
      "cell_type": "code",
      "source": [
        "for art in df_filtered[\"text\"].iloc[:10]:\n",
        "  for paragraph in art:\n",
        "    # split on full stop, not when number proceeding, eg. 30. November\n",
        "    if len(re.split(\"(?<!\\d)\\.\", paragraph))>6:\n",
        "      print(paragraph)"
      ],
      "metadata": {
        "id": "ZugHzXwTzfyn"
      },
      "execution_count": null,
      "outputs": []
    },
    {
      "cell_type": "markdown",
      "source": [
        "Onservations:\n",
        "- long sentence paragraphs are either\n",
        "  - very short sentences, graphic language, sensational language --> relevant\n",
        "  - long sentences, descriptive --> too long\n",
        "--> use number of words instead"
      ],
      "metadata": {
        "id": "R5FHgoq93JiL"
      }
    },
    {
      "cell_type": "markdown",
      "source": [
        "### Number of words in articles"
      ],
      "metadata": {
        "id": "jBWJ4iX84TE7"
      }
    },
    {
      "cell_type": "markdown",
      "source": [
        "#### Using manually selected dataset\n"
      ],
      "metadata": {
        "id": "9lfV0p6a-Cll"
      }
    },
    {
      "cell_type": "code",
      "source": [
        "summary,word_count = count_words(subset_dv[\"text\"])\n",
        "print(\"Sentence length before cleaning:\", summary)"
      ],
      "metadata": {
        "colab": {
          "base_uri": "https://localhost:8080/"
        },
        "outputId": "01810228-953f-466e-96d1-59511a80ac95",
        "id": "uzc5nkZ4-NTi"
      },
      "execution_count": 18,
      "outputs": [
        {
          "output_type": "stream",
          "name": "stdout",
          "text": [
            "Sentence length before cleaning: {'mean': 51.35457063711911, 'max': 288, 'min': 0, 'mode': 1}\n"
          ]
        }
      ]
    },
    {
      "cell_type": "code",
      "source": [
        "plt.bar(dict(Counter(word_count)).keys(),dict(Counter(word_count)).values());\n",
        "plt.xlabel('Number of Words')\n",
        "plt.ylabel('Count')\n",
        "plt.title('Distribution of Words in Paragraphs');"
      ],
      "metadata": {
        "colab": {
          "base_uri": "https://localhost:8080/",
          "height": 472
        },
        "outputId": "095d4c04-1b89-408a-b8c2-eb5e1eeb461c",
        "id": "TzTRwtFi-NTk"
      },
      "execution_count": 19,
      "outputs": [
        {
          "output_type": "display_data",
          "data": {
            "text/plain": [
              "<Figure size 640x480 with 1 Axes>"
            ],
            "image/png": "[encoded data removed]"
          },
          "metadata": {}
        }
      ]
    },
    {
      "cell_type": "markdown",
      "source": [
        "#### Using entire filtered dataset"
      ],
      "metadata": {
        "id": "NKwnDs18-Ggk"
      }
    },
    {
      "cell_type": "code",
      "source": [
        "summary,word_count = count_words(df_filtered[\"text\"])\n",
        "print(\"Sentence length before cleaning:\", summary)"
      ],
      "metadata": {
        "colab": {
          "base_uri": "https://localhost:8080/"
        },
        "id": "zDx-wRNR4WR0",
        "outputId": "67c197f1-6b3a-4d8b-fbd5-1c8101a3ce6b"
      },
      "execution_count": 20,
      "outputs": [
        {
          "output_type": "stream",
          "name": "stdout",
          "text": [
            "Sentence length before cleaning: {'mean': 18.241860266617007, 'max': 3653, 'min': 0, 'mode': 1}\n"
          ]
        }
      ]
    },
    {
      "cell_type": "code",
      "source": [
        "plt.bar(dict(Counter(word_count)).keys(),dict(Counter(word_count)).values());\n",
        "plt.xlabel('Number of Words')\n",
        "plt.ylabel('Count')\n",
        "plt.ylim([0, 32000])\n",
        "plt.title('Distribution of Words in Paragraphs');"
      ],
      "metadata": {
        "colab": {
          "base_uri": "https://localhost:8080/",
          "height": 472
        },
        "id": "_rwYJfwj5g9D",
        "outputId": "9bdd7b44-beab-470b-deef-1d1d9b75a4f7"
      },
      "execution_count": 21,
      "outputs": [
        {
          "output_type": "display_data",
          "data": {
            "text/plain": [
              "<Figure size 640x480 with 1 Axes>"
            ],
            "image/png": "[encoded data removed]"
          },
          "metadata": {}
        }
      ]
    },
    {
      "cell_type": "markdown",
      "source": [
        "Checking quantiles"
      ],
      "metadata": {
        "id": "2mJuyKA868HZ"
      }
    },
    {
      "cell_type": "code",
      "source": [
        "pd.DataFrame(word_count).quantile([0.5,0.9,0.95,0.99])"
      ],
      "metadata": {
        "colab": {
          "base_uri": "https://localhost:8080/",
          "height": 175
        },
        "id": "AzdrBqJa66RV",
        "outputId": "03559464-10fa-4a56-ecfd-4562918acdc1"
      },
      "execution_count": 22,
      "outputs": [
        {
          "output_type": "execute_result",
          "data": {
            "text/plain": [
              "          0\n",
              "0.50    7.0\n",
              "0.90   53.0\n",
              "0.95   76.0\n",
              "0.99  127.0"
            ],
            "text/html": [
              "\n",
              "  <div id=\"df-d9f991c6-247c-4381-a86b-ec419b7897b6\">\n",
              "    <div class=\"colab-df-container\">\n",
              "      <div>\n",
              "<style scoped>\n",
              "    .dataframe tbody tr th:only-of-type {\n",
              "        vertical-align: middle;\n",
              "    }\n",
              "\n",
              "    .dataframe tbody tr th {\n",
              "        vertical-align: top;\n",
              "    }\n",
              "\n",
              "    .dataframe thead th {\n",
              "        text-align: right;\n",
              "    }\n",
              "</style>\n",
              "<table border=\"1\" class=\"dataframe\">\n",
              "  <thead>\n",
              "    <tr style=\"text-align: right;\">\n",
              "      <th></th>\n",
              "      <th>0</th>\n",
              "    </tr>\n",
              "  </thead>\n",
              "  <tbody>\n",
              "    <tr>\n",
              "      <th>0.50</th>\n",
              "      <td>7.0</td>\n",
              "    </tr>\n",
              "    <tr>\n",
              "      <th>0.90</th>\n",
              "      <td>53.0</td>\n",
              "    </tr>\n",
              "    <tr>\n",
              "      <th>0.95</th>\n",
              "      <td>76.0</td>\n",
              "    </tr>\n",
              "    <tr>\n",
              "      <th>0.99</th>\n",
              "      <td>127.0</td>\n",
              "    </tr>\n",
              "  </tbody>\n",
              "</table>\n",
              "</div>\n",
              "      <button class=\"colab-df-convert\" onclick=\"convertToInteractive('df-d9f991c6-247c-4381-a86b-ec419b7897b6')\"\n",
              "              title=\"Convert this dataframe to an interactive table.\"\n",
              "              style=\"display:none;\">\n",
              "        \n",
              "  <svg xmlns=\"http://www.w3.org/2000/svg\" height=\"24px\"viewBox=\"0 0 24 24\"\n",
              "       width=\"24px\">\n",
              "    <path d=\"M0 0h24v24H0V0z\" fill=\"none\"/>\n",
              "    <path d=\"M18.56 5.44l.94 2.06.94-2.06 2.06-.94-2.06-.94-.94-2.06-.94 2.06-2.06.94zm-11 1L8.5 8.5l.94-2.06 2.06-.94-2.06-.94L8.5 2.5l-.94 2.06-2.06.94zm10 10l.94 2.06.94-2.06 2.06-.94-2.06-.94-.94-2.06-.94 2.06-2.06.94z\"/><path d=\"M17.41 7.96l-1.37-1.37c-.4-.4-.92-.59-1.43-.59-.52 0-1.04.2-1.43.59L10.3 9.45l-7.72 7.72c-.78.78-.78 2.05 0 2.83L4 21.41c.39.39.9.59 1.41.59.51 0 1.02-.2 1.41-.59l7.78-7.78 2.81-2.81c.8-.78.8-2.07 0-2.86zM5.41 20L4 18.59l7.72-7.72 1.47 1.35L5.41 20z\"/>\n",
              "  </svg>\n",
              "      </button>\n",
              "      \n",
              "  <style>\n",
              "    .colab-df-container {\n",
              "      display:flex;\n",
              "      flex-wrap:wrap;\n",
              "      gap: 12px;\n",
              "    }\n",
              "\n",
              "    .colab-df-convert {\n",
              "      background-color: #E8F0FE;\n",
              "      border: none;\n",
              "      border-radius: 50%;\n",
              "      cursor: pointer;\n",
              "      display: none;\n",
              "      fill: #1967D2;\n",
              "      height: 32px;\n",
              "      padding: 0 0 0 0;\n",
              "      width: 32px;\n",
              "    }\n",
              "\n",
              "    .colab-df-convert:hover {\n",
              "      background-color: #E2EBFA;\n",
              "      box-shadow: 0px 1px 2px rgba(60, 64, 67, 0.3), 0px 1px 3px 1px rgba(60, 64, 67, 0.15);\n",
              "      fill: #174EA6;\n",
              "    }\n",
              "\n",
              "    [theme=dark] .colab-df-convert {\n",
              "      background-color: #3B4455;\n",
              "      fill: #D2E3FC;\n",
              "    }\n",
              "\n",
              "    [theme=dark] .colab-df-convert:hover {\n",
              "      background-color: #434B5C;\n",
              "      box-shadow: 0px 1px 3px 1px rgba(0, 0, 0, 0.15);\n",
              "      filter: drop-shadow(0px 1px 2px rgba(0, 0, 0, 0.3));\n",
              "      fill: #FFFFFF;\n",
              "    }\n",
              "  </style>\n",
              "\n",
              "      <script>\n",
              "        const buttonEl =\n",
              "          document.querySelector('#df-d9f991c6-247c-4381-a86b-ec419b7897b6 button.colab-df-convert');\n",
              "        buttonEl.style.display =\n",
              "          google.colab.kernel.accessAllowed ? 'block' : 'none';\n",
              "\n",
              "        async function convertToInteractive(key) {\n",
              "          const element = document.querySelector('#df-d9f991c6-247c-4381-a86b-ec419b7897b6');\n",
              "          const dataTable =\n",
              "            await google.colab.kernel.invokeFunction('convertToInteractive',\n",
              "                                                     [key], {});\n",
              "          if (!dataTable) return;\n",
              "\n",
              "          const docLinkHtml = 'Like what you see? Visit the ' +\n",
              "            '<a target=\"_blank\" href=https://colab.research.google.com/notebooks/data_table.ipynb>data table notebook</a>'\n",
              "            + ' to learn more about interactive tables.';\n",
              "          element.innerHTML = '';\n",
              "          dataTable['output_type'] = 'display_data';\n",
              "          await google.colab.output.renderOutput(dataTable, element);\n",
              "          const docLink = document.createElement('div');\n",
              "          docLink.innerHTML = docLinkHtml;\n",
              "          element.appendChild(docLink);\n",
              "        }\n",
              "      </script>\n",
              "    </div>\n",
              "  </div>\n",
              "  "
            ]
          },
          "metadata": {},
          "execution_count": 22
        }
      ]
    },
    {
      "cell_type": "markdown",
      "source": [
        "Observations:\n",
        "- most paragraphs contain less than 50 words\n",
        "- half of the paragraphs contain <=7 words\n"
      ],
      "metadata": {
        "id": "zC5PnZHw6-qH"
      }
    },
    {
      "cell_type": "markdown",
      "source": [
        "Let's look at the 95% quantile paragraphs:"
      ],
      "metadata": {
        "id": "ieyNkkGT7Mh2"
      }
    },
    {
      "cell_type": "code",
      "source": [
        "for art in df_filtered[\"text\"].iloc[:10]:\n",
        "  for paragraph in art:\n",
        "    # split on full stop, not when number proceeding, eg. 30. November\n",
        "    if len(paragraph.split())>75:\n",
        "      print(paragraph)"
      ],
      "metadata": {
        "id": "6Pt9OSlQ7L_l"
      },
      "execution_count": null,
      "outputs": []
    },
    {
      "cell_type": "markdown",
      "source": [
        "Let's look at the 99% quantile paragraphs:"
      ],
      "metadata": {
        "id": "tJZWhhO_71xE"
      }
    },
    {
      "cell_type": "code",
      "source": [
        "for art in df_filtered[\"text\"].iloc[:10]:\n",
        "  for paragraph in art:\n",
        "    # split on full stop, not when number proceeding, eg. 30. November\n",
        "    if len(paragraph.split())>127:\n",
        "      print(paragraph)"
      ],
      "metadata": {
        "id": "8ODtIHWu71xE"
      },
      "execution_count": null,
      "outputs": []
    },
    {
      "cell_type": "markdown",
      "source": [
        "Observations:\n",
        "- 75 words paragraphs are ususlly not too long\n",
        "- 127+ words are fairly long\n",
        "\n",
        "--> exclude paragraph if exceeds 125 words"
      ],
      "metadata": {
        "id": "FujYzACF7puj"
      }
    },
    {
      "cell_type": "markdown",
      "source": [
        "### Cleaning text:\n",
        "- remove newline characters\n",
        "- remove paragraphs if too long or short\n",
        "- remove genios styles \n",
        "- remove empty paragraphs"
      ],
      "metadata": {
        "id": "1IRqAQmlPjPX"
      }
    },
    {
      "cell_type": "markdown",
      "source": [
        "####Using manually created dataset"
      ],
      "metadata": {
        "id": "MVOiWjuP9kX3"
      }
    },
    {
      "cell_type": "code",
      "source": [
        "subset_dv_clean=subset_dv"
      ],
      "metadata": {
        "id": "zbfI1m7R894X"
      },
      "execution_count": 25,
      "outputs": []
    },
    {
      "cell_type": "code",
      "source": [
        "subset_dv_clean[\"text\"] = [ reformat_article(art) for art in subset_dv[\"text\"]]"
      ],
      "metadata": {
        "id": "nIkYs9S1XS-Q"
      },
      "execution_count": 26,
      "outputs": []
    },
    {
      "cell_type": "code",
      "source": [
        "summary,word_count = count_words(subset_dv_clean[\"text\"])\n",
        "print(\"Sentence length after cleaning:\", summary)"
      ],
      "metadata": {
        "colab": {
          "base_uri": "https://localhost:8080/"
        },
        "outputId": "d9e182ae-18e6-4b1b-9296-802ac0064fac",
        "id": "K0k0ANkD9JPs"
      },
      "execution_count": 27,
      "outputs": [
        {
          "output_type": "stream",
          "name": "stdout",
          "text": [
            "Sentence length after cleaning: {'mean': 52.41237113402062, 'max': 122, 'min': 3, 'mode': 3}\n"
          ]
        }
      ]
    },
    {
      "cell_type": "code",
      "source": [
        "plt.bar(dict(Counter(word_count)).keys(),dict(Counter(word_count)).values());\n",
        "plt.xlabel('Number of Words')\n",
        "plt.ylabel('Count')\n",
        "plt.title('Distribution of Words in Paragraphs');"
      ],
      "metadata": {
        "colab": {
          "base_uri": "https://localhost:8080/",
          "height": 472
        },
        "outputId": "a8384b24-1ae2-475e-d65b-91d1c20dcfe0",
        "id": "uPx7_CWv9JPt"
      },
      "execution_count": 28,
      "outputs": [
        {
          "output_type": "display_data",
          "data": {
            "text/plain": [
              "<Figure size 640x480 with 1 Axes>"
            ],
            "image/png": "[encoded data removed]"
          },
          "metadata": {}
        }
      ]
    },
    {
      "cell_type": "markdown",
      "source": [
        "### Explode by paragraphs"
      ],
      "metadata": {
        "id": "Aa-slP38P5KQ"
      }
    },
    {
      "cell_type": "code",
      "source": [
        "# Explode \"text\" column\n",
        "df_elinor_subset_dv = subset_dv_clean.explode(\"text\")\n",
        "# Create \"artikel_order\" column\n",
        "df_elinor_subset_dv[\"artikel_order\"] = df_elinor_subset_dv.groupby(\"artikel_id\").cumcount() + 1\n"
      ],
      "metadata": {
        "id": "h22XwUD9P25d"
      },
      "execution_count": 65,
      "outputs": []
    },
    {
      "cell_type": "code",
      "source": [
        "# remove \"empty\" articles, that wereremove in the previous step\n",
        "df_elinor_subset_dv=df_elinor_subset_dv[df_elinor_subset_dv['text'].notna()] "
      ],
      "metadata": {
        "id": "e2iF8SG1ENMk"
      },
      "execution_count": 66,
      "outputs": []
    },
    {
      "cell_type": "markdown",
      "source": [
        "### Inspect paragraphs by length"
      ],
      "metadata": {
        "id": "6Q9urAFbwJJ4"
      }
    },
    {
      "cell_type": "code",
      "source": [
        "# Get number of sentences\n",
        "df_elinor_subset_dv['num_sentences']=[len(re.split(\"(?<!\\d)\\.\", paragraph)) for paragraph in df_elinor_subset_dv['text']]\n",
        "\n",
        "# # # Create a bar chart\n",
        "plt.bar(df_elinor_subset_dv['num_sentences'].unique(), df_elinor_subset_dv['num_sentences'].value_counts())\n",
        "\n",
        "# # Set axis labels and title\n",
        "plt.xlabel('Number of Sentences')\n",
        "plt.ylabel('Count')\n",
        "plt.title('Distribution of Sentences in Paragraphs');\n"
      ],
      "metadata": {
        "id": "q_fUvZ9ZvkT0",
        "outputId": "8cef27d1-f7cd-47a7-ccab-68a220e9d5e7",
        "colab": {
          "base_uri": "https://localhost:8080/",
          "height": 472
        }
      },
      "execution_count": 78,
      "outputs": [
        {
          "output_type": "display_data",
          "data": {
            "text/plain": [
              "<Figure size 640x480 with 1 Axes>"
            ],
            "image/png": "[encoded data removed]"
          },
          "metadata": {}
        }
      ]
    },
    {
      "cell_type": "code",
      "source": [
        "# Get number of Words\n",
        "df_elinor_subset_dv['num_words']=[len(paragraph.split()) for paragraph in df_elinor_subset_dv['text']]\n",
        "\n",
        "# # # Create a bar chart\n",
        "plt.bar(df_elinor_subset_dv['num_words'].unique(), df_elinor_subset_dv['num_words'].value_counts())\n",
        "\n",
        "# # Set axis labels and title\n",
        "plt.xlabel('Number of Words')\n",
        "plt.ylabel('Count')\n",
        "plt.title('Distribution of Sentences in Article');"
      ],
      "metadata": {
        "id": "7JH8-KqMwIfK",
        "outputId": "03729aef-eab6-442f-9194-0cf25f2405a4",
        "colab": {
          "base_uri": "https://localhost:8080/",
          "height": 472
        }
      },
      "execution_count": 79,
      "outputs": [
        {
          "output_type": "display_data",
          "data": {
            "text/plain": [
              "<Figure size 640x480 with 1 Axes>"
            ],
            "image/png": "[encoded data removed]"
          },
          "metadata": {}
        }
      ]
    },
    {
      "cell_type": "markdown",
      "source": [
        "### Randomly select one paragraph per article"
      ],
      "metadata": {
        "id": "D_4vCxClhzl2"
      }
    },
    {
      "cell_type": "code",
      "source": [
        "# function to randomly select one row\n",
        "def random_select(group):\n",
        "    return group.sample(n=1)\n"
      ],
      "metadata": {
        "id": "JqUnwCeah4yK"
      },
      "execution_count": 82,
      "outputs": []
    },
    {
      "cell_type": "code",
      "source": [
        "# Apply function to randomly select one row per unique artikel_id\n",
        "df_elinor_subset_dv2 = df_elinor_subset_dv.groupby(\"artikel_id\").apply(random_select).reset_index(drop=True)\n"
      ],
      "metadata": {
        "id": "GIhnCjImh6wL"
      },
      "execution_count": 83,
      "outputs": []
    },
    {
      "cell_type": "code",
      "source": [
        "df_elinor_subset_dv"
      ],
      "metadata": {
        "id": "RyGnjV43ih1D"
      },
      "execution_count": null,
      "outputs": []
    },
    {
      "cell_type": "markdown",
      "source": [
        "## Export as csv"
      ],
      "metadata": {
        "id": "0Go0cc9U1kpE"
      }
    },
    {
      "cell_type": "code",
      "source": [
        "output_path = \"elinor\""
      ],
      "metadata": {
        "id": "ItHRtFVP9vl_"
      },
      "execution_count": 88,
      "outputs": []
    },
    {
      "cell_type": "code",
      "source": [
        "df_elinor_subset_dv.to_csv(output_path+\"/annotation_test_05_03.csv\", index=False, header = True,\n",
        "                  encoding = 'utf-8',\n",
        "                  sep=\"\\t\")"
      ],
      "metadata": {
        "id": "dJO8Splt9raZ"
      },
      "execution_count": 89,
      "outputs": []
    }
  ]
}