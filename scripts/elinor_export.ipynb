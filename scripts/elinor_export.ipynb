{
  "nbformat": 4,
  "nbformat_minor": 0,
  "metadata": {
    "colab": {
      "provenance": [],
      "toc_visible": true,
      "authorship_tag": "ABX9TyOtZbQck2lwHR7gJ5o2YFI0",
      "include_colab_link": true
    },
    "kernelspec": {
      "name": "python3",
      "display_name": "Python 3"
    },
    "language_info": {
      "name": "python"
    }
  },
  "cells": [
    {
      "cell_type": "markdown",
      "metadata": {
        "id": "view-in-github",
        "colab_type": "text"
      },
      "source": [
        "<a href=\"https://colab.research.google.com/github/blue-create/langlens/blob/main/scripts/elinor_export.ipynb\" target=\"_parent\"><img src=\"https://colab.research.google.com/assets/colab-badge.svg\" alt=\"Open In Colab\"/></a>"
      ]
    },
    {
      "cell_type": "markdown",
      "source": [
        "# Purpose\n",
        "\n",
        "This file shows the steps we took to sample and create the annotation dataset."
      ],
      "metadata": {
        "id": "Q1MHyZaI09-2"
      }
    },
    {
      "cell_type": "markdown",
      "source": [
        "## Connect with Google drive to access data \n",
        "\n",
        "In order to access the data, you first need to create a shortcut of the data folder to your own Gdrive. If you've been granted editing rights, you should be able to edit the content of the folder, i.e. add, move and delete data, create and rename folders, etc."
      ],
      "metadata": {
        "id": "QYjhPHYZ1MVO"
      }
    },
    {
      "cell_type": "code",
      "source": [
        "# connect with google drive\n",
        "from google.colab import drive\n",
        "drive.mount('/content/drive')"
      ],
      "metadata": {
        "colab": {
          "base_uri": "https://localhost:8080/"
        },
        "id": "3-gEE8t61TyI",
        "outputId": "acdbc81f-02e8-4730-e054-e5acb965c603"
      },
      "execution_count": 1,
      "outputs": [
        {
          "output_type": "stream",
          "name": "stdout",
          "text": [
            "Mounted at /content/drive\n"
          ]
        }
      ]
    },
    {
      "cell_type": "code",
      "source": [
        "# redirect the working directory of this script to the data folder\n",
        "%cd /content/drive/MyDrive/data/"
      ],
      "metadata": {
        "colab": {
          "base_uri": "https://localhost:8080/"
        },
        "id": "UG1MwJ4Y1U_h",
        "outputId": "4859afb5-d910-481a-9c76-a85dde32bc60"
      },
      "execution_count": 2,
      "outputs": [
        {
          "output_type": "stream",
          "name": "stdout",
          "text": [
            "/content/drive/MyDrive/data\n"
          ]
        }
      ]
    },
    {
      "cell_type": "markdown",
      "source": [
        "## Load data"
      ],
      "metadata": {
        "id": "Ej0F6zHR1Xz3"
      }
    },
    {
      "cell_type": "markdown",
      "source": [
        "### Method 1: get csv files "
      ],
      "metadata": {
        "id": "6Ny15n7AO8PV"
      }
    },
    {
      "cell_type": "code",
      "source": [
        "import tqdm as tqdm\n",
        "import os\n",
        "import pandas as pd\n",
        "\n",
        "folder_path = \"filtered2\""
      ],
      "metadata": {
        "id": "Pb-1q-dqzgQH"
      },
      "execution_count": 3,
      "outputs": []
    },
    {
      "cell_type": "code",
      "source": [
        "dfs = []\n",
        "\n",
        "# loop through files \n",
        "for filename in os.listdir(folder_path):\n",
        "    # if csv file, load and add to dfs  \n",
        "    if filename.endswith(\".csv\"):\n",
        "        file_path = os.path.join(folder_path, filename)\n",
        "        df = pd.read_csv(file_path)\n",
        "        dfs.append(df)\n",
        "\n",
        "# combine files in df\n",
        "df = pd.concat(dfs, ignore_index=True)"
      ],
      "metadata": {
        "id": "ktoRDGajzoqi"
      },
      "execution_count": null,
      "outputs": []
    },
    {
      "cell_type": "markdown",
      "source": [
        "### Method 2: get a csv file"
      ],
      "metadata": {
        "id": "pFNlGnG7PD23"
      }
    },
    {
      "cell_type": "code",
      "source": [
        "import tqdm as tqdm\n",
        "import os\n",
        "import pandas as pd\n",
        "\n",
        "df_subset = pd.read_csv('sample.csv')"
      ],
      "metadata": {
        "id": "RP4BKUzjPIF5"
      },
      "execution_count": 10,
      "outputs": []
    },
    {
      "cell_type": "markdown",
      "source": [
        "## Inspect data\n"
      ],
      "metadata": {
        "id": "LnID3c_t7ZUq"
      }
    },
    {
      "cell_type": "code",
      "source": [
        "print(df.shape)\n",
        "df.info()"
      ],
      "metadata": {
        "colab": {
          "base_uri": "https://localhost:8080/"
        },
        "id": "fgPmz-4T7aw6",
        "outputId": "f1ef590e-1fec-47b5-bc5c-43392f33d0d9"
      },
      "execution_count": 7,
      "outputs": [
        {
          "output_type": "stream",
          "name": "stdout",
          "text": [
            "(50, 9)\n",
            "<class 'pandas.core.frame.DataFrame'>\n",
            "RangeIndex: 50 entries, 0 to 49\n",
            "Data columns (total 9 columns):\n",
            " #   Column      Non-Null Count  Dtype \n",
            "---  ------      --------------  ----- \n",
            " 0   Unnamed: 0  50 non-null     int64 \n",
            " 1   artikel_id  50 non-null     object\n",
            " 2   name        50 non-null     object\n",
            " 3   jahrgang    50 non-null     int64 \n",
            " 4   datum       50 non-null     int64 \n",
            " 5   ressort     48 non-null     object\n",
            " 6   titel       50 non-null     object\n",
            " 7   untertitel  22 non-null     object\n",
            " 8   text        50 non-null     object\n",
            "dtypes: int64(3), object(6)\n",
            "memory usage: 3.6+ KB\n"
          ]
        }
      ]
    },
    {
      "cell_type": "code",
      "source": [
        "# remove first column \n",
        "df1 = df.drop(\"Unnamed: 0\", axis=1)"
      ],
      "metadata": {
        "id": "-tWQnYG3CG1c"
      },
      "execution_count": 8,
      "outputs": []
    },
    {
      "cell_type": "markdown",
      "source": [
        "## Create a random subset of the data "
      ],
      "metadata": {
        "id": "Ieb0Shf71cvu"
      }
    },
    {
      "cell_type": "code",
      "source": [
        "# size of subset we want \n",
        "number = 100"
      ],
      "metadata": {
        "id": "bGL1Cb9R8fLD"
      },
      "execution_count": null,
      "outputs": []
    },
    {
      "cell_type": "code",
      "source": [
        "perc = number/df1.shape[0]\n",
        "df_subset = df1.sample(frac=perc, random_state=42)"
      ],
      "metadata": {
        "id": "_7qzAZDi778j"
      },
      "execution_count": null,
      "outputs": []
    },
    {
      "cell_type": "code",
      "source": [
        "df_subset.info()"
      ],
      "metadata": {
        "colab": {
          "base_uri": "https://localhost:8080/"
        },
        "id": "GhbZJTRh8ScI",
        "outputId": "c3ef2bc4-3497-4647-9dba-09d1a6867872"
      },
      "execution_count": null,
      "outputs": [
        {
          "output_type": "stream",
          "name": "stdout",
          "text": [
            "<class 'pandas.core.frame.DataFrame'>\n",
            "Int64Index: 100 entries, 141433 to 1157830\n",
            "Data columns (total 8 columns):\n",
            " #   Column      Non-Null Count  Dtype  \n",
            "---  ------      --------------  -----  \n",
            " 0   artikel_id  100 non-null    object \n",
            " 1   name        100 non-null    object \n",
            " 2   jahrgang    100 non-null    object \n",
            " 3   datum       100 non-null    float64\n",
            " 4   ressort     89 non-null     object \n",
            " 5   titel       92 non-null     object \n",
            " 6   untertitel  37 non-null     object \n",
            " 7   text        100 non-null    object \n",
            "dtypes: float64(1), object(7)\n",
            "memory usage: 7.0+ KB\n"
          ]
        }
      ]
    },
    {
      "cell_type": "markdown",
      "source": [
        "## Adjust format for export"
      ],
      "metadata": {
        "id": "5FJOlUvd1gHQ"
      }
    },
    {
      "cell_type": "markdown",
      "source": [
        "### String fixes "
      ],
      "metadata": {
        "id": "1IRqAQmlPjPX"
      }
    },
    {
      "cell_type": "code",
      "source": [
        "# remove square brackets \n",
        "df_subset[\"text\"] = df_subset[\"text\"].apply(lambda x: x[1:-1] if (isinstance(x, str) and x.startswith(\"[\") and x.endswith(\"]\")) else x)\n",
        "# remove backward slashes\n",
        "df_subset['text'] = df_subset['text'].str.replace('\\\\', '', regex = False)\n"
      ],
      "metadata": {
        "id": "vvPEYNFg7-8X"
      },
      "execution_count": 11,
      "outputs": []
    },
    {
      "cell_type": "code",
      "source": [
        "# function to split strings to list\n",
        "def split_to_list(s):\n",
        "    return s.split(\"', '\")"
      ],
      "metadata": {
        "id": "2PYSBtqxE5nW"
      },
      "execution_count": 12,
      "outputs": []
    },
    {
      "cell_type": "code",
      "source": [
        "# apply function to whole column\n",
        "df_subset['text'] = df_subset['text'].apply(split_to_list)"
      ],
      "metadata": {
        "id": "D7LTol01E8ZV"
      },
      "execution_count": 13,
      "outputs": []
    },
    {
      "cell_type": "code",
      "source": [
        "# add new line to separate paragraphs \n",
        "df_subset['text'] = df_subset['text'].apply(lambda x: [char+'\\n' for char in x])"
      ],
      "metadata": {
        "id": "fzVFChcFLcfZ"
      },
      "execution_count": 14,
      "outputs": []
    },
    {
      "cell_type": "markdown",
      "source": [
        "### Split by paragraphs"
      ],
      "metadata": {
        "id": "Aa-slP38P5KQ"
      }
    },
    {
      "cell_type": "code",
      "source": [
        "# Explode \"text\" column\n",
        "df_elinor = df_subset.explode(\"text\")\n",
        "\n",
        "# Create \"artikel_order\" column\n",
        "df_elinor[\"artikel_order\"] = df_elinor.groupby(\"artikel_id\").cumcount() + 1\n"
      ],
      "metadata": {
        "id": "h22XwUD9P25d"
      },
      "execution_count": 21,
      "outputs": []
    },
    {
      "cell_type": "markdown",
      "source": [
        "## Export as csv"
      ],
      "metadata": {
        "id": "0Go0cc9U1kpE"
      }
    },
    {
      "cell_type": "code",
      "source": [
        "output_path = \"elinor\""
      ],
      "metadata": {
        "id": "ItHRtFVP9vl_"
      },
      "execution_count": 23,
      "outputs": []
    },
    {
      "cell_type": "code",
      "source": [
        "df_elinor.to_csv(output_path+\"/annotation_test2.csv\", index=False, sep=\"\\t\", header=True)"
      ],
      "metadata": {
        "id": "dJO8Splt9raZ"
      },
      "execution_count": 24,
      "outputs": []
    }
  ]
}