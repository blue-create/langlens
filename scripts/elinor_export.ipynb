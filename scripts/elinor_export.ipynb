{
  "nbformat": 4,
  "nbformat_minor": 0,
  "metadata": {
    "colab": {
      "provenance": [],
      "collapsed_sections": [
        "QYjhPHYZ1MVO",
        "Ieb0Shf71cvu",
        "7Kwdv6Uim224",
        "1IRqAQmlPjPX",
        "B0XvJlNRjzcu",
        "lGyzcy6unPdT"
      ]
    },
    "kernelspec": {
      "name": "python3",
      "display_name": "Python 3"
    },
    "language_info": {
      "name": "python"
    }
  },
  "cells": [
    {
      "cell_type": "markdown",
      "source": [
        "# Purpose\n",
        "\n",
        "This file shows the steps we took to sample and create the annotation dataset."
      ],
      "metadata": {
        "id": "Q1MHyZaI09-2"
      }
    },
    {
      "cell_type": "markdown",
      "source": [
        "## Connect with Google drive to access data \n",
        "\n",
        "In order to access the data, you first need to create a shortcut of the data folder to your own Gdrive. If you've been granted editing rights, you should be able to edit the content of the folder, i.e. add, move and delete data, create and rename folders, etc."
      ],
      "metadata": {
        "id": "QYjhPHYZ1MVO"
      }
    },
    {
      "cell_type": "code",
      "source": [
        "# connect with google drive\n",
        "from google.colab import drive\n",
        "drive.mount('/content/drive')"
      ],
      "metadata": {
        "colab": {
          "base_uri": "https://localhost:8080/"
        },
        "id": "3-gEE8t61TyI",
        "outputId": "26ce2d0e-e26f-4783-f1a2-b43649714a1d"
      },
      "execution_count": null,
      "outputs": [
        {
          "output_type": "stream",
          "name": "stdout",
          "text": [
            "Drive already mounted at /content/drive; to attempt to forcibly remount, call drive.mount(\"/content/drive\", force_remount=True).\n"
          ]
        }
      ]
    },
    {
      "cell_type": "code",
      "source": [
        "# redirect the working directory of this script to the data folder\n",
        "%cd /content/drive/MyDrive/Work/Frontline/data/\n",
        "#%cd /content/drive/MyDrive/data/"
      ],
      "metadata": {
        "colab": {
          "base_uri": "https://localhost:8080/"
        },
        "id": "UG1MwJ4Y1U_h",
        "outputId": "8082313c-412c-4caa-ef06-09194557f8e9"
      },
      "execution_count": null,
      "outputs": [
        {
          "output_type": "stream",
          "name": "stdout",
          "text": [
            "/content/drive/.shortcut-targets-by-id/1WfnZsqpG1r110J63sMbfS5TpsDOkveiV/data\n"
          ]
        }
      ]
    },
    {
      "cell_type": "markdown",
      "source": [
        "## Load data"
      ],
      "metadata": {
        "id": "Ej0F6zHR1Xz3"
      }
    },
    {
      "cell_type": "code",
      "source": [
        "import tqdm as tqdm\n",
        "from collections import Counter\n",
        "import os\n",
        "import pandas as pd\n",
        "import re \n",
        "from ast import literal_eval\n",
        "import statistics\n",
        "import matplotlib.pyplot as plt\n",
        "import re\n",
        "import pandas as pd\n",
        "\n",
        "folder_path = \"filtered_4_26\""
      ],
      "metadata": {
        "id": "Pb-1q-dqzgQH"
      },
      "execution_count": null,
      "outputs": []
    },
    {
      "cell_type": "markdown",
      "source": [
        "### Method 1: get csv files "
      ],
      "metadata": {
        "id": "6Ny15n7AO8PV"
      }
    },
    {
      "cell_type": "code",
      "source": [
        "\n",
        "dfs = []\n",
        "\n",
        "# loop through files \n",
        "for filename in os.listdir(folder_path):\n",
        "    # if csv file, load and add to dfs  \n",
        "    if filename.endswith(\".csv\"):\n",
        "        file_path = os.path.join(folder_path, filename)\n",
        "        # import csv with text as list object \n",
        "        df = pd.read_csv(file_path, index_col=0, converters={\"text\":literal_eval})\n",
        "        dfs.append(df)\n",
        "# combine files in df\n",
        "df_filtered = pd.concat(dfs, ignore_index=True)"
      ],
      "metadata": {
        "id": "ktoRDGajzoqi",
        "colab": {
          "base_uri": "https://localhost:8080/",
          "height": 293
        },
        "outputId": "8a950ee3-8423-402a-ab69-760754a2fbeb"
      },
      "execution_count": null,
      "outputs": [
        {
          "output_type": "error",
          "ename": "ParserError",
          "evalue": "ignored",
          "traceback": [
            "\u001b[0;31m---------------------------------------------------------------------------\u001b[0m",
            "\u001b[0;31mParserError\u001b[0m                               Traceback (most recent call last)",
            "\u001b[0;32m<ipython-input-202-799b72e45b2e>\u001b[0m in \u001b[0;36m<cell line: 4>\u001b[0;34m()\u001b[0m\n\u001b[1;32m      7\u001b[0m         \u001b[0mfile_path\u001b[0m \u001b[0;34m=\u001b[0m \u001b[0mos\u001b[0m\u001b[0;34m.\u001b[0m\u001b[0mpath\u001b[0m\u001b[0;34m.\u001b[0m\u001b[0mjoin\u001b[0m\u001b[0;34m(\u001b[0m\u001b[0mfolder_path\u001b[0m\u001b[0;34m,\u001b[0m \u001b[0mfilename\u001b[0m\u001b[0;34m)\u001b[0m\u001b[0;34m\u001b[0m\u001b[0;34m\u001b[0m\u001b[0m\n\u001b[1;32m      8\u001b[0m         \u001b[0;31m# import csv with text as list object\u001b[0m\u001b[0;34m\u001b[0m\u001b[0;34m\u001b[0m\u001b[0m\n\u001b[0;32m----> 9\u001b[0;31m         \u001b[0mdf\u001b[0m \u001b[0;34m=\u001b[0m \u001b[0mpd\u001b[0m\u001b[0;34m.\u001b[0m\u001b[0mread_csv\u001b[0m\u001b[0;34m(\u001b[0m\u001b[0mfile_path\u001b[0m\u001b[0;34m,\u001b[0m \u001b[0mindex_col\u001b[0m\u001b[0;34m=\u001b[0m\u001b[0;36m0\u001b[0m\u001b[0;34m,\u001b[0m \u001b[0mconverters\u001b[0m\u001b[0;34m=\u001b[0m\u001b[0;34m{\u001b[0m\u001b[0;34m\"text\"\u001b[0m\u001b[0;34m:\u001b[0m\u001b[0mliteral_eval\u001b[0m\u001b[0;34m}\u001b[0m\u001b[0;34m)\u001b[0m\u001b[0;34m\u001b[0m\u001b[0;34m\u001b[0m\u001b[0m\n\u001b[0m\u001b[1;32m     10\u001b[0m         \u001b[0mdfs\u001b[0m\u001b[0;34m.\u001b[0m\u001b[0mappend\u001b[0m\u001b[0;34m(\u001b[0m\u001b[0mdf\u001b[0m\u001b[0;34m)\u001b[0m\u001b[0;34m\u001b[0m\u001b[0;34m\u001b[0m\u001b[0m\n\u001b[1;32m     11\u001b[0m \u001b[0;31m# combine files in df\u001b[0m\u001b[0;34m\u001b[0m\u001b[0;34m\u001b[0m\u001b[0m\n",
            "\u001b[0;32m/usr/local/lib/python3.10/dist-packages/pandas/util/_decorators.py\u001b[0m in \u001b[0;36mwrapper\u001b[0;34m(*args, **kwargs)\u001b[0m\n\u001b[1;32m    209\u001b[0m                 \u001b[0;32melse\u001b[0m\u001b[0;34m:\u001b[0m\u001b[0;34m\u001b[0m\u001b[0;34m\u001b[0m\u001b[0m\n\u001b[1;32m    210\u001b[0m                     \u001b[0mkwargs\u001b[0m\u001b[0;34m[\u001b[0m\u001b[0mnew_arg_name\u001b[0m\u001b[0;34m]\u001b[0m \u001b[0;34m=\u001b[0m \u001b[0mnew_arg_value\u001b[0m\u001b[0;34m\u001b[0m\u001b[0;34m\u001b[0m\u001b[0m\n\u001b[0;32m--> 211\u001b[0;31m             \u001b[0;32mreturn\u001b[0m \u001b[0mfunc\u001b[0m\u001b[0;34m(\u001b[0m\u001b[0;34m*\u001b[0m\u001b[0margs\u001b[0m\u001b[0;34m,\u001b[0m \u001b[0;34m**\u001b[0m\u001b[0mkwargs\u001b[0m\u001b[0;34m)\u001b[0m\u001b[0;34m\u001b[0m\u001b[0;34m\u001b[0m\u001b[0m\n\u001b[0m\u001b[1;32m    212\u001b[0m \u001b[0;34m\u001b[0m\u001b[0m\n\u001b[1;32m    213\u001b[0m         \u001b[0;32mreturn\u001b[0m \u001b[0mcast\u001b[0m\u001b[0;34m(\u001b[0m\u001b[0mF\u001b[0m\u001b[0;34m,\u001b[0m \u001b[0mwrapper\u001b[0m\u001b[0;34m)\u001b[0m\u001b[0;34m\u001b[0m\u001b[0;34m\u001b[0m\u001b[0m\n",
            "\u001b[0;32m/usr/local/lib/python3.10/dist-packages/pandas/util/_decorators.py\u001b[0m in \u001b[0;36mwrapper\u001b[0;34m(*args, **kwargs)\u001b[0m\n\u001b[1;32m    329\u001b[0m                     \u001b[0mstacklevel\u001b[0m\u001b[0;34m=\u001b[0m\u001b[0mfind_stack_level\u001b[0m\u001b[0;34m(\u001b[0m\u001b[0;34m)\u001b[0m\u001b[0;34m,\u001b[0m\u001b[0;34m\u001b[0m\u001b[0;34m\u001b[0m\u001b[0m\n\u001b[1;32m    330\u001b[0m                 )\n\u001b[0;32m--> 331\u001b[0;31m             \u001b[0;32mreturn\u001b[0m \u001b[0mfunc\u001b[0m\u001b[0;34m(\u001b[0m\u001b[0;34m*\u001b[0m\u001b[0margs\u001b[0m\u001b[0;34m,\u001b[0m \u001b[0;34m**\u001b[0m\u001b[0mkwargs\u001b[0m\u001b[0;34m)\u001b[0m\u001b[0;34m\u001b[0m\u001b[0;34m\u001b[0m\u001b[0m\n\u001b[0m\u001b[1;32m    332\u001b[0m \u001b[0;34m\u001b[0m\u001b[0m\n\u001b[1;32m    333\u001b[0m         \u001b[0;31m# error: \"Callable[[VarArg(Any), KwArg(Any)], Any]\" has no\u001b[0m\u001b[0;34m\u001b[0m\u001b[0;34m\u001b[0m\u001b[0m\n",
            "\u001b[0;32m/usr/local/lib/python3.10/dist-packages/pandas/io/parsers/readers.py\u001b[0m in \u001b[0;36mread_csv\u001b[0;34m(filepath_or_buffer, sep, delimiter, header, names, index_col, usecols, squeeze, prefix, mangle_dupe_cols, dtype, engine, converters, true_values, false_values, skipinitialspace, skiprows, skipfooter, nrows, na_values, keep_default_na, na_filter, verbose, skip_blank_lines, parse_dates, infer_datetime_format, keep_date_col, date_parser, dayfirst, cache_dates, iterator, chunksize, compression, thousands, decimal, lineterminator, quotechar, quoting, doublequote, escapechar, comment, encoding, encoding_errors, dialect, error_bad_lines, warn_bad_lines, on_bad_lines, delim_whitespace, low_memory, memory_map, float_precision, storage_options)\u001b[0m\n\u001b[1;32m    948\u001b[0m     \u001b[0mkwds\u001b[0m\u001b[0;34m.\u001b[0m\u001b[0mupdate\u001b[0m\u001b[0;34m(\u001b[0m\u001b[0mkwds_defaults\u001b[0m\u001b[0;34m)\u001b[0m\u001b[0;34m\u001b[0m\u001b[0;34m\u001b[0m\u001b[0m\n\u001b[1;32m    949\u001b[0m \u001b[0;34m\u001b[0m\u001b[0m\n\u001b[0;32m--> 950\u001b[0;31m     \u001b[0;32mreturn\u001b[0m \u001b[0m_read\u001b[0m\u001b[0;34m(\u001b[0m\u001b[0mfilepath_or_buffer\u001b[0m\u001b[0;34m,\u001b[0m \u001b[0mkwds\u001b[0m\u001b[0;34m)\u001b[0m\u001b[0;34m\u001b[0m\u001b[0;34m\u001b[0m\u001b[0m\n\u001b[0m\u001b[1;32m    951\u001b[0m \u001b[0;34m\u001b[0m\u001b[0m\n\u001b[1;32m    952\u001b[0m \u001b[0;34m\u001b[0m\u001b[0m\n",
            "\u001b[0;32m/usr/local/lib/python3.10/dist-packages/pandas/io/parsers/readers.py\u001b[0m in \u001b[0;36m_read\u001b[0;34m(filepath_or_buffer, kwds)\u001b[0m\n\u001b[1;32m    609\u001b[0m \u001b[0;34m\u001b[0m\u001b[0m\n\u001b[1;32m    610\u001b[0m     \u001b[0;32mwith\u001b[0m \u001b[0mparser\u001b[0m\u001b[0;34m:\u001b[0m\u001b[0;34m\u001b[0m\u001b[0;34m\u001b[0m\u001b[0m\n\u001b[0;32m--> 611\u001b[0;31m         \u001b[0;32mreturn\u001b[0m \u001b[0mparser\u001b[0m\u001b[0;34m.\u001b[0m\u001b[0mread\u001b[0m\u001b[0;34m(\u001b[0m\u001b[0mnrows\u001b[0m\u001b[0;34m)\u001b[0m\u001b[0;34m\u001b[0m\u001b[0;34m\u001b[0m\u001b[0m\n\u001b[0m\u001b[1;32m    612\u001b[0m \u001b[0;34m\u001b[0m\u001b[0m\n\u001b[1;32m    613\u001b[0m \u001b[0;34m\u001b[0m\u001b[0m\n",
            "\u001b[0;32m/usr/local/lib/python3.10/dist-packages/pandas/io/parsers/readers.py\u001b[0m in \u001b[0;36mread\u001b[0;34m(self, nrows)\u001b[0m\n\u001b[1;32m   1776\u001b[0m                     \u001b[0mcolumns\u001b[0m\u001b[0;34m,\u001b[0m\u001b[0;34m\u001b[0m\u001b[0;34m\u001b[0m\u001b[0m\n\u001b[1;32m   1777\u001b[0m                     \u001b[0mcol_dict\u001b[0m\u001b[0;34m,\u001b[0m\u001b[0;34m\u001b[0m\u001b[0;34m\u001b[0m\u001b[0m\n\u001b[0;32m-> 1778\u001b[0;31m                 \u001b[0;34m)\u001b[0m \u001b[0;34m=\u001b[0m \u001b[0mself\u001b[0m\u001b[0;34m.\u001b[0m\u001b[0m_engine\u001b[0m\u001b[0;34m.\u001b[0m\u001b[0mread\u001b[0m\u001b[0;34m(\u001b[0m  \u001b[0;31m# type: ignore[attr-defined]\u001b[0m\u001b[0;34m\u001b[0m\u001b[0;34m\u001b[0m\u001b[0m\n\u001b[0m\u001b[1;32m   1779\u001b[0m                     \u001b[0mnrows\u001b[0m\u001b[0;34m\u001b[0m\u001b[0;34m\u001b[0m\u001b[0m\n\u001b[1;32m   1780\u001b[0m                 )\n",
            "\u001b[0;32m/usr/local/lib/python3.10/dist-packages/pandas/io/parsers/c_parser_wrapper.py\u001b[0m in \u001b[0;36mread\u001b[0;34m(self, nrows)\u001b[0m\n\u001b[1;32m    228\u001b[0m         \u001b[0;32mtry\u001b[0m\u001b[0;34m:\u001b[0m\u001b[0;34m\u001b[0m\u001b[0;34m\u001b[0m\u001b[0m\n\u001b[1;32m    229\u001b[0m             \u001b[0;32mif\u001b[0m \u001b[0mself\u001b[0m\u001b[0;34m.\u001b[0m\u001b[0mlow_memory\u001b[0m\u001b[0;34m:\u001b[0m\u001b[0;34m\u001b[0m\u001b[0;34m\u001b[0m\u001b[0m\n\u001b[0;32m--> 230\u001b[0;31m                 \u001b[0mchunks\u001b[0m \u001b[0;34m=\u001b[0m \u001b[0mself\u001b[0m\u001b[0;34m.\u001b[0m\u001b[0m_reader\u001b[0m\u001b[0;34m.\u001b[0m\u001b[0mread_low_memory\u001b[0m\u001b[0;34m(\u001b[0m\u001b[0mnrows\u001b[0m\u001b[0;34m)\u001b[0m\u001b[0;34m\u001b[0m\u001b[0;34m\u001b[0m\u001b[0m\n\u001b[0m\u001b[1;32m    231\u001b[0m                 \u001b[0;31m# destructive to chunks\u001b[0m\u001b[0;34m\u001b[0m\u001b[0;34m\u001b[0m\u001b[0m\n\u001b[1;32m    232\u001b[0m                 \u001b[0mdata\u001b[0m \u001b[0;34m=\u001b[0m \u001b[0m_concatenate_chunks\u001b[0m\u001b[0;34m(\u001b[0m\u001b[0mchunks\u001b[0m\u001b[0;34m)\u001b[0m\u001b[0;34m\u001b[0m\u001b[0;34m\u001b[0m\u001b[0m\n",
            "\u001b[0;32m/usr/local/lib/python3.10/dist-packages/pandas/_libs/parsers.pyx\u001b[0m in \u001b[0;36mpandas._libs.parsers.TextReader.read_low_memory\u001b[0;34m()\u001b[0m\n",
            "\u001b[0;32m/usr/local/lib/python3.10/dist-packages/pandas/_libs/parsers.pyx\u001b[0m in \u001b[0;36mpandas._libs.parsers.TextReader._read_rows\u001b[0;34m()\u001b[0m\n",
            "\u001b[0;32m/usr/local/lib/python3.10/dist-packages/pandas/_libs/parsers.pyx\u001b[0m in \u001b[0;36mpandas._libs.parsers.TextReader._tokenize_rows\u001b[0;34m()\u001b[0m\n",
            "\u001b[0;32m/usr/local/lib/python3.10/dist-packages/pandas/_libs/parsers.pyx\u001b[0m in \u001b[0;36mpandas._libs.parsers.raise_parser_error\u001b[0;34m()\u001b[0m\n",
            "\u001b[0;31mParserError\u001b[0m: Error tokenizing data. C error: Calling read(nbytes) on source failed. Try engine='python'."
          ]
        }
      ]
    },
    {
      "cell_type": "markdown",
      "source": [
        "#### Create a random subset of the data "
      ],
      "metadata": {
        "id": "Ieb0Shf71cvu"
      }
    },
    {
      "cell_type": "code",
      "source": [
        "# size of subset we want \n",
        "number = 1000"
      ],
      "metadata": {
        "id": "bGL1Cb9R8fLD"
      },
      "execution_count": null,
      "outputs": []
    },
    {
      "cell_type": "code",
      "source": [
        "df_sample = df_filtered.sample(number,)# random_state=42)"
      ],
      "metadata": {
        "id": "_7qzAZDi778j"
      },
      "execution_count": null,
      "outputs": []
    },
    {
      "cell_type": "markdown",
      "source": [
        "### Method 2: get a csv file"
      ],
      "metadata": {
        "id": "pFNlGnG7PD23"
      }
    },
    {
      "cell_type": "code",
      "source": [
        "df_sample_file = pd.read_csv('sample.csv', encoding='utf-8', index_col=0)"
      ],
      "metadata": {
        "id": "RP4BKUzjPIF5"
      },
      "execution_count": null,
      "outputs": []
    },
    {
      "cell_type": "markdown",
      "source": [
        "### Method 3: Manually selected dataset of relevant articles\n",
        "--> ensuring that the dataset only contains relevant articles, espscially for testing"
      ],
      "metadata": {
        "id": "17Rx0STiu1nu"
      }
    },
    {
      "cell_type": "code",
      "source": [
        "subset_dv=df_filtered.loc[(11483,14044,62494,49199,11047,14948,10565,31059,58890,20347,55396,56389,5528,18532,59435,8035,27119,12788,59992,21477,10331,26314,45356,61023,31865,48960,44587,17992,14763,60043,20540,4563,13213,6751,43374,41018,38770,24654,21936,29297,1869,33163,60220,61232,57613,48979,33785,51576,8300,7675),:]"
      ],
      "metadata": {
        "id": "bbKfHRI1u7ag"
      },
      "execution_count": null,
      "outputs": []
    },
    {
      "cell_type": "markdown",
      "source": [
        "### Select Data\n",
        "--> specify which data set of the three above methods should be used in the following analysis"
      ],
      "metadata": {
        "id": "VXVyMc5mkWGM"
      }
    },
    {
      "cell_type": "code",
      "source": [
        "# uncomment for full data set\n",
        "df_subset=df_filtered\n",
        "\n",
        "# uncomment for random data of 100 from full data set\n",
        "#df_subset=df_sample\n",
        "\n",
        "# uncomment for sample data set from csv file\n",
        "# df_subset= df_sample_file\n",
        "\n",
        "# uncomment for manually selected articles \n",
        "# df_subset = subset_dv"
      ],
      "metadata": {
        "id": "5-OJXUYwkhZ2"
      },
      "execution_count": null,
      "outputs": []
    },
    {
      "cell_type": "markdown",
      "source": [
        "## Adjust format for export"
      ],
      "metadata": {
        "id": "5FJOlUvd1gHQ"
      }
    },
    {
      "cell_type": "markdown",
      "source": [
        "### Methods"
      ],
      "metadata": {
        "id": "7Kwdv6Uim224"
      }
    },
    {
      "cell_type": "code",
      "source": [
        "def reformat_article(art, min_words=5, max_words=125):\n",
        "  # remove genios styles \n",
        "  art = [re.sub(r'<.*?>', '', x) for x in art]\n",
        "\n",
        "  # remove new line characters and preceeding whitespaces\n",
        "  art = [x.strip() for x in art]\n",
        "\n",
        "  #remove empty paragraphs\n",
        "  art = [x for x in art if x.strip()]\n",
        "\n",
        "  #remove paragraphs that are too long\n",
        "  art = [x for x in art if len(x.split()) < max_words]\n",
        "\n",
        "  #remove paragraphs that are too short, ie. by default 3 or fewer words\n",
        "  art = [x for x in art if len(x.split()) >= min_words]  \n",
        "\n",
        "  return art"
      ],
      "metadata": {
        "id": "beTpoSVOZowg"
      },
      "execution_count": null,
      "outputs": []
    },
    {
      "cell_type": "code",
      "source": [
        "def occurs(word, text):\n",
        "  \"\"\" function to check if a words occurs in a text\n",
        "  Parameters:\n",
        "    - word (str): word that is searched for\n",
        "    - text (str): text that is searched in \n",
        "  Returns:\n",
        "    - boolean: returns True if word occurs in text, False otherwise\n",
        "  \"\"\"\n",
        "  if len(re.findall(word,text))>0:\n",
        "    return True\n",
        "  else:\n",
        "    return False\n"
      ],
      "metadata": {
        "id": "P8xAVqhbYsQp"
      },
      "execution_count": null,
      "outputs": []
    },
    {
      "cell_type": "code",
      "source": [
        "def filter_title(title, to_exclude):\n",
        "  \"\"\" function to filter article by title\n",
        "  Parameters:\n",
        "    - title (str): title that is checked\n",
        "  Returns:\n",
        "    - boolean: returns True if either\n",
        "        - there is no title\n",
        "        - the title does not contain any of the words in the list to_exclude\n",
        "  \"\"\"\n",
        "  if type(title)!=str:\n",
        "    return True\n",
        "  title=title.strip()\n",
        "  for ex in to_exclude:\n",
        "    if ex.lower() == title.lower(): \n",
        "      return False\n",
        "  return True"
      ],
      "metadata": {
        "id": "EN5THognY36L"
      },
      "execution_count": null,
      "outputs": []
    },
    {
      "cell_type": "code",
      "source": [
        "def first_words_filter(text,to_exclude, number_of_words=3):\n",
        "  \"\"\" function to filter article by its first words\n",
        "  Parameters:\n",
        "    - text (str): title that is checked\n",
        "  Returns:\n",
        "    - boolean: returns True if the first n words do not contain any of the words in the list to_exclude\n",
        "  \"\"\"\n",
        "  if type(text)==list:\n",
        "    text=text[0]\n",
        "  # remove special characters\n",
        "  text=re.sub(\"[/\\-!@#$%^&*:.]\", \" \", text)\n",
        "  first_words=text.split()[:number_of_words]\n",
        "\n",
        "  # remove whitespace and convert to lower case\n",
        "  first_words=[word.strip().lower() for word in first_words]\n",
        "  for ex in to_exclude:\n",
        "    if ex.lower() in first_words: \n",
        "      return False\n",
        "  return True"
      ],
      "metadata": {
        "id": "vMhD4MlJvghU"
      },
      "execution_count": null,
      "outputs": []
    },
    {
      "cell_type": "code",
      "source": [
        "def regex_search(text, regex):\n",
        "  if len(re.findall(regex,text))>0:\n",
        "    return False\n",
        "  else:\n",
        "    return True\n"
      ],
      "metadata": {
        "id": "j9Pji8FsR68k"
      },
      "execution_count": null,
      "outputs": []
    },
    {
      "cell_type": "markdown",
      "source": [
        "## Cleaning text:\n",
        "- remove newline characters\n",
        "- remove paragraphs if too long or short\n",
        "- remove genios styles \n",
        "- remove empty paragraphs\n",
        "- remove duplicate articles"
      ],
      "metadata": {
        "id": "1IRqAQmlPjPX"
      }
    },
    {
      "cell_type": "code",
      "source": [
        "df_subset[\"text\"] = [ reformat_article(art) for art in df_subset[\"text\"]]\n",
        "df_subset.shape"
      ],
      "metadata": {
        "id": "uGaaq0t53tzy"
      },
      "execution_count": null,
      "outputs": []
    },
    {
      "cell_type": "code",
      "source": [
        "# remove \"empty\" articles, that wereremove in the previous step\n",
        "df_subset=df_subset[df_subset['text'].notna()] \n",
        "df_subset=df_subset[df_subset['text'].apply(len)!=0]\n",
        "df_subset.shape"
      ],
      "metadata": {
        "id": "pqYcwiaMgvuw"
      },
      "execution_count": null,
      "outputs": []
    },
    {
      "cell_type": "code",
      "source": [
        "df_subset=df_subset.drop_duplicates(\"text\", keep=\"first\")\n",
        "df_subset.shape"
      ],
      "metadata": {
        "id": "5ufZh7u0EOaX"
      },
      "execution_count": null,
      "outputs": []
    },
    {
      "cell_type": "code",
      "source": [
        "df_subset_clean=df_subset"
      ],
      "metadata": {
        "id": "fCcu3CNXtEbP"
      },
      "execution_count": null,
      "outputs": []
    },
    {
      "cell_type": "markdown",
      "source": [
        "## Filter by content: "
      ],
      "metadata": {
        "id": "hg0VDadS_J8r"
      }
    },
    {
      "cell_type": "markdown",
      "source": [
        "### Filter Articles by Title"
      ],
      "metadata": {
        "id": "B0XvJlNRjzcu"
      }
    },
    {
      "cell_type": "code",
      "source": [
        "exclude_titles=[\"Beratungsstellen\", \"Termine\",\"Hilfe\",\"Hier_finden_Sie_Hilfe_2sp\",\"was - wann - wo\",\"IN KÜRZE\",\"Kurz notiert :\",\"Dienstbereit - die Woche im Überblick\",\"Was - wann -wo\",\n",
        "                \"Beratung + Hilfe\", \"Beratung\", \"Nachrichten\",\"Hilfe bei häuslicher Gewalt\",\"Termine heute\",\"kurz & bündig\",\"tipps der redaktion\",\n",
        "]"
      ],
      "metadata": {
        "id": "aZom_rZoY6wZ"
      },
      "execution_count": null,
      "outputs": []
    },
    {
      "cell_type": "code",
      "source": [
        "# only keep articles with titles not in the exclude list\n",
        "df_subset_clean=df_subset_clean[df_subset_clean[\"titel\"].apply(filter_title,args=[exclude_titles])]\n",
        "df_subset_clean.shape"
      ],
      "metadata": {
        "id": "9zdmzlXGj1af"
      },
      "execution_count": null,
      "outputs": []
    },
    {
      "cell_type": "code",
      "source": [
        "#just for testing\n",
        "#df_subset_clean[~df_subset_clean[\"titel\"].apply(filter_title,args=[exclude_titles])]"
      ],
      "metadata": {
        "id": "FQnAAlY2GzBg"
      },
      "execution_count": null,
      "outputs": []
    },
    {
      "cell_type": "markdown",
      "source": [
        "### Filter by Text"
      ],
      "metadata": {
        "id": "lGyzcy6unPdT"
      }
    },
    {
      "cell_type": "code",
      "source": [
        "art_words_to_exclude=[# Notufe, Beratungen\n",
        "                        \"Bereitschaftsdienst\", \"Hotline\", \"Notruf\", \"Hilfetelefon\",\"behindertenfahrdienst\",\"Polizeiinspektion\", \n",
        "                        \"Feuerwehr\",\"rettungsdienst\", \"Notdienst\",\"Bereitschaftspraxis\",\"Öffnungszeiten\",\"Vergiftungen\",\n",
        "                        \"Ärztehaus\",\"Selbsthilfegruppe\",\"Leitstelle\",\"Tel\",\"Aids\",\"Ambulante\",\"ACE\", \n",
        "                        \"Club\",\"Interventionsstelle\",\"Frauenberatungsstelle\",\"Rufnummer\",\"Rufnummern\", \"apotheke\", \"hilfsangebot\",\"hilfsangebote\", \n",
        "                        \"opferhilfe\",\"Berufsbildungszentrum\",\"opferschutz\",\n",
        "                        # Kampagnen, Akitonen\n",
        "                        \"kampagne\", \"aktion\", \"ring\",\"initiative\",\n",
        "\n",
        "\n",
        "]"
      ],
      "metadata": {
        "id": "NLX7MQ6Fs1tg"
      },
      "execution_count": null,
      "outputs": []
    },
    {
      "cell_type": "code",
      "source": [
        "df_subset_clean=df_subset_clean[df_subset_clean[\"text\"].apply(first_words_filter,args=[art_words_to_exclude])]\n",
        "df_subset_clean.shape"
      ],
      "metadata": {
        "id": "I6--wvlqBpYz"
      },
      "execution_count": null,
      "outputs": []
    },
    {
      "cell_type": "markdown",
      "source": [
        "### Filter by Paragraph"
      ],
      "metadata": {
        "id": "Aa-slP38P5KQ"
      }
    },
    {
      "cell_type": "code",
      "source": [
        "# df_subset_clean_all=df_subset_clean\n",
        "# df_subset_clean=df_subset_clean.iloc[:10000,:]"
      ],
      "metadata": {
        "id": "ObiRim-6IcbS"
      },
      "execution_count": null,
      "outputs": []
    },
    {
      "cell_type": "code",
      "source": [
        "df_subset_clean=df_subset_clean_all"
      ],
      "metadata": {
        "id": "qwKuCEPTiWmz"
      },
      "execution_count": null,
      "outputs": []
    },
    {
      "cell_type": "code",
      "source": [
        "# temporaray: step is part of format_data\n",
        "df_exploded=df_exploded[df_exploded[\"name\"]!=\"Falter (APA)\"]\n",
        "df_exploded=df_exploded[df_exploded[\"name\"]!=\"Der Rheintaler\"]"
      ],
      "metadata": {
        "id": "6GiYNemizArv"
      },
      "execution_count": null,
      "outputs": []
    },
    {
      "cell_type": "code",
      "source": [
        "# Explode \"text\" column\n",
        "df_exploded= df_subset_clean.explode(\"text\")\n",
        "# Create \"artikel_order\" column\n",
        "df_exploded[\"artikel_order\"] = df_exploded.groupby(\"artikel_id\").cumcount() + 1\n",
        "df_exploded.shape"
      ],
      "metadata": {
        "id": "h22XwUD9P25d"
      },
      "execution_count": null,
      "outputs": []
    },
    {
      "cell_type": "code",
      "source": [
        "# remove duplicated paragraphs\n",
        "df_exploded=df_exploded.drop_duplicates(\"text\")\n",
        "df_exploded.shape"
      ],
      "metadata": {
        "id": "IFEFiMM1Tkq1"
      },
      "execution_count": null,
      "outputs": []
    },
    {
      "cell_type": "code",
      "source": [
        "# remove hotlines, etc, if keywords contained in the first 3 words\n",
        "df_exploded=df_exploded[df_exploded[\"text\"].apply(first_words_filter,3,args=[art_words_to_exclude])]\n",
        "df_exploded.shape"
      ],
      "metadata": {
        "id": "OrsJ50BxEH4W"
      },
      "execution_count": null,
      "outputs": []
    },
    {
      "cell_type": "code",
      "source": [
        "# remove paragraphs by keywords if container in the first 3 words\n",
        "par_words_to_exclude=[\"statistik\", \"kriminalstatistik\", \"landeskriminalamt\"]\n",
        "df_exploded=df_exploded[df_exploded[\"text\"].apply(first_words_filter, args=[par_words_to_exclude])]\n",
        "df_exploded.shape"
      ],
      "metadata": {
        "id": "scCTikgEI9Fd"
      },
      "execution_count": null,
      "outputs": []
    },
    {
      "cell_type": "code",
      "source": [
        "# phone numbers usually occur in paragraphs with hotlines/ help services\n",
        "phone_regex ='\\(?\\d{4,5}\\)?[/\\s]*\\d{1,5}\\s*\\d{1,5}'\n",
        "df_exploded=df_exploded[df_exploded[\"text\"].apply(regex_search, args=[phone_regex])]\n",
        "df_exploded.shape"
      ],
      "metadata": {
        "id": "9wS0zOJ4S5ws"
      },
      "execution_count": null,
      "outputs": []
    },
    {
      "cell_type": "code",
      "source": [
        "# times usually indicate opening hours/ events \n",
        "time_regex = '\\d{1,2}[:\\/.]\\d{1,2}[:\\/.]\\d{2,4}'\n",
        "df_exploded=df_exploded[df_exploded[\"text\"].apply(regex_search, args=[time_regex])]\n",
        "df_exploded.shape"
      ],
      "metadata": {
        "id": "y1lc-LO9WxE3"
      },
      "execution_count": null,
      "outputs": []
    },
    {
      "cell_type": "code",
      "source": [
        "# times usually indicate opening hours/ events \n",
        "weekday_regex = '(Mo|Di|Mi|Do|Fr|Sa|So)[-\\\\,s–\\ ./]+((Mo|Di|Mi|Do|Fr|Sa|So)[-–./ ]+)?\\d{1,2}'\n",
        "df_exploded=df_exploded[df_exploded[\"text\"].apply(regex_search, args=[weekday_regex])]\n",
        "df_exploded.shape"
      ],
      "metadata": {
        "id": "9ptetph1Xzab"
      },
      "execution_count": null,
      "outputs": []
    },
    {
      "cell_type": "code",
      "source": [
        "# exclude stats\n",
        "stats_regex=\"\\d*([\\.,]\\d*)?[ ](Prozent|%)\"\n",
        "df_exploded=df_exploded[df_exploded[\"text\"].apply(regex_search, args=[stats_regex])]\n",
        "df_exploded.shape"
      ],
      "metadata": {
        "id": "Rsj1W4qShVpi"
      },
      "execution_count": null,
      "outputs": []
    },
    {
      "cell_type": "code",
      "source": [
        "# exclude stats\n",
        "stats_regex2=\"\\d+( Fälle| Opfer| Frauen| Kinder)\"\n",
        "df_exploded=df_exploded[df_exploded[\"text\"].apply(regex_search, args=[stats_regex2])]\n",
        "df_exploded.shape"
      ],
      "metadata": {
        "id": "e_gZXdwBxQRg"
      },
      "execution_count": null,
      "outputs": []
    },
    {
      "cell_type": "code",
      "source": [
        "# street names usually indicate events/ locations/ opening hours\n",
        "street_regex=\"[A-z]+(str|straße|weg| Str|allee|gasse| Gasse|platz)[. ]+\\d+\"\n",
        "df_exploded=df_exploded[df_exploded[\"text\"].apply(regex_search, args=[street_regex])]\n",
        "df_exploded.shape"
      ],
      "metadata": {
        "id": "471OpPwijJ7Q"
      },
      "execution_count": null,
      "outputs": []
    },
    {
      "cell_type": "code",
      "source": [
        "# very short paragraphs usually are not part of the article\n",
        "df_exploded.loc[:,\"chars\"]=df_exploded[\"text\"].apply(len)\n",
        "df_exploded=df_exploded[df_exploded[\"chars\"]>60]\n",
        "df_exploded.shape"
      ],
      "metadata": {
        "id": "lkntG5OJraxM"
      },
      "execution_count": null,
      "outputs": []
    },
    {
      "cell_type": "code",
      "source": [
        "# hours usually indicate the pararaph is containing opening hours, movie schedules, etc\n",
        "hours_regex=\"(\\d{1,2}.\\d{2}, \\d{1})+\"\n",
        "df_exploded=df_exploded[df_exploded[\"text\"].apply(regex_search, args=[hours_regex])]\n",
        "df_exploded.shape"
      ],
      "metadata": {
        "id": "s4UOIw17lSn6"
      },
      "execution_count": null,
      "outputs": []
    },
    {
      "cell_type": "code",
      "source": [
        "# email addresses are usually in paragraphs with contact info\n",
        "email_regex=\"[A-Za-z0-9._%+-]+@[A-Za-z0-9.-]+\\.[A-Za-z]{2,}\"\n",
        "df_exploded=df_exploded[df_exploded[\"text\"].apply(regex_search, args=[email_regex])]\n",
        "df_exploded.shape"
      ],
      "metadata": {
        "id": "wGeRpdKwrVfG"
      },
      "execution_count": null,
      "outputs": []
    },
    {
      "cell_type": "code",
      "source": [
        "# links are usually in paragraphs with contact info\n",
        "link_regex=\"(www\\.)\\S+\\.\\S+\"\n",
        "df_exploded=df_exploded[df_exploded[\"text\"].apply(regex_search, args=[link_regex])]\n",
        "df_exploded.shape"
      ],
      "metadata": {
        "id": "Pt5smIpSsJss"
      },
      "execution_count": null,
      "outputs": []
    },
    {
      "cell_type": "code",
      "source": [
        "#exclude events\n",
        "df_exploded=df_exploded[df_exploded.ressort!=\"Termine\"]\n",
        "df_exploded.shape"
      ],
      "metadata": {
        "id": "X9m0K98swi9e"
      },
      "execution_count": null,
      "outputs": []
    },
    {
      "cell_type": "code",
      "source": [
        "#df_exploded.text.apply(occurs,args=[\"statistisch\"])#[df_exploded[\"chars\"]<100].sort_values(\"chars\",ascending=False)"
      ],
      "metadata": {
        "id": "lLnPx_31mq8K"
      },
      "execution_count": null,
      "outputs": []
    },
    {
      "cell_type": "markdown",
      "source": [
        "### Excluding annotated Paragraphs"
      ],
      "metadata": {
        "id": "eqPBOuY6mqUT"
      }
    },
    {
      "cell_type": "code",
      "source": [
        "import json"
      ],
      "metadata": {
        "id": "v8RN9f25GrIj"
      },
      "execution_count": null,
      "outputs": []
    },
    {
      "cell_type": "code",
      "execution_count": null,
      "metadata": {
        "id": "Ue5Z2rnAE_yQ"
      },
      "outputs": [],
      "source": [
        "#read json data\n",
        "json_data=json.load(open(\"annotated/annotations_05_18.json\",encoding='utf-8'))"
      ]
    },
    {
      "cell_type": "code",
      "execution_count": null,
      "metadata": {
        "id": "GC3Ir-qYDqHX"
      },
      "outputs": [],
      "source": [
        "#convert to dataframe\n",
        "data=pd.DataFrame(json_data[\"documents\"])"
      ]
    },
    {
      "cell_type": "code",
      "execution_count": null,
      "metadata": {
        "id": "dfHJHZTcGoUq"
      },
      "outputs": [],
      "source": [
        "#for now: filter out paragraphs that have not been annotated \n",
        "data=data[data[\"annotations\"].apply(len)>0]\n",
        "#reset index\n",
        "data=data.reset_index(drop=True)\n",
        "data.head()"
      ]
    },
    {
      "cell_type": "code",
      "source": [
        "data[\"artikel_id\"]=[entr[1].attributes_flat[\"artikel_id\"] for entr in data.iterrows()]\n",
        "data[\"artikel_order\"]=[entr[1].attributes_flat[\"artikel_order\"] for entr in data.iterrows()]\n",
        "data[\"name\"]=[entr[1].attributes_flat[\"name\"] for entr in data.iterrows()]"
      ],
      "metadata": {
        "id": "7urpm2X5H3Ln"
      },
      "execution_count": null,
      "outputs": []
    },
    {
      "cell_type": "code",
      "source": [
        "data[\"artikel_order\"]=data[\"artikel_order\"].astype(int)"
      ],
      "metadata": {
        "id": "vsxXW_hnLCH1"
      },
      "execution_count": null,
      "outputs": []
    },
    {
      "cell_type": "code",
      "source": [
        "data=data[[\"artikel_id\",\"name\",\"annotations\",\"artikel_order\"]]"
      ],
      "metadata": {
        "id": "1Tb7pT0ZN_3B"
      },
      "execution_count": null,
      "outputs": []
    },
    {
      "cell_type": "code",
      "source": [
        "df_exploded=pd.merge(data,df_exploded,left_on=[\"artikel_id\",\"artikel_order\",\"name\"],right_on=[\"artikel_id\",\"artikel_order\",\"name\"], how=\"right\")"
      ],
      "metadata": {
        "id": "PcfEXcb7Iyzu"
      },
      "execution_count": null,
      "outputs": []
    },
    {
      "cell_type": "code",
      "source": [
        "df_exploded"
      ],
      "metadata": {
        "colab": {
          "base_uri": "https://localhost:8080/",
          "height": 1000
        },
        "id": "jZ-bSAmlJf9G",
        "outputId": "999a1903-8e61-4563-eb6c-0e6f7de89dde"
      },
      "execution_count": null,
      "outputs": [
        {
          "output_type": "execute_result",
          "data": {
            "text/plain": [
              "                                           artikel_id  \\\n",
              "0            F3A4578D33A8603DF0573D3DE3CB2666_3080763   \n",
              "1            F3A4578D33A8603DF0573D3DE3CB2666_3080763   \n",
              "2            F3A4578D33A8603DF0573D3DE3CB2666_3080763   \n",
              "3            F3A4578D33A8603DF0573D3DE3CB2666_3080763   \n",
              "4                                        IRA-82182598   \n",
              "5                                    omp0000006023765   \n",
              "6                                    omp0000006023765   \n",
              "7      Poly_spon-00000000-0002-0001-0000-000160834454   \n",
              "8      Poly_spon-00000000-0002-0001-0000-000160834454   \n",
              "9      Poly_spon-00000000-0002-0001-0000-000160834454   \n",
              "10         MDS-A-A696462F-F0DB-42E7-BADD-1C5F35A3484E   \n",
              "11         MDS-A-A696462F-F0DB-42E7-BADD-1C5F35A3484E   \n",
              "12         MDS-A-A696462F-F0DB-42E7-BADD-1C5F35A3484E   \n",
              "13         MDS-A-A696462F-F0DB-42E7-BADD-1C5F35A3484E   \n",
              "14           F57BA4E387AB7BD2AC3236A2E77E9D23_4169977   \n",
              "15           F57BA4E387AB7BD2AC3236A2E77E9D23_4169977   \n",
              "16           F57BA4E387AB7BD2AC3236A2E77E9D23_4169977   \n",
              "17                                          160955503   \n",
              "18               b7b085ae-7398-11ec-8362-d4bfc9f3b438   \n",
              "19                   213F3C33661FE83ACFE3DCB5A66CCA5D   \n",
              "20           721580E0DCDD055C72CE05C3135E41D3_2876899   \n",
              "21           721580E0DCDD055C72CE05C3135E41D3_2876899   \n",
              "22           721580E0DCDD055C72CE05C3135E41D3_2876899   \n",
              "23           721580E0DCDD055C72CE05C3135E41D3_2876899   \n",
              "24                                 3150350945-BAMBERG   \n",
              "25                             doc7n1kcr6dc7r7dw028be   \n",
              "26                             doc7n1kcr6dc7r7dw028be   \n",
              "27                            doc790p0jc5u7l19vmf08zy   \n",
              "28         MDS-A-2BC16471-1C81-42EF-AAA0-581A6020026A   \n",
              "29  12B9135393FCEC24B595747C9032BD26-WOERTHER ANZE...   \n",
              "30  12B9135393FCEC24B595747C9032BD26-WOERTHER ANZE...   \n",
              "31  12B9135393FCEC24B595747C9032BD26-WOERTHER ANZE...   \n",
              "32                          PMGSPON-xPMG-SPOX-1289485   \n",
              "33       3C6C473EF5B9B0545F6F543C0CF7E98E-NEUWIEDLINZ   \n",
              "34     20221116004417688_11182416314784328-RAVENSBURG   \n",
              "35     20221116004417688_11182416314784328-RAVENSBURG   \n",
              "36     20221116004417688_11182416314784328-RAVENSBURG   \n",
              "37     20221116004417688_11182416314784328-RAVENSBURG   \n",
              "38     20221116004417688_11182416314784328-RAVENSBURG   \n",
              "39                                   asr0000023861910   \n",
              "40                                   asr0000023861910   \n",
              "41                                   asr0000023861910   \n",
              "42                             doc70he6cf95lsn62onc03   \n",
              "43                                        23-96144215   \n",
              "44                                        23-96144215   \n",
              "45            41c492c80a6c1b2c445c9e59a4a48630234df5f   \n",
              "46            41c492c80a6c1b2c445c9e59a4a48630234df5f   \n",
              "47            41c492c80a6c1b2c445c9e59a4a48630234df5f   \n",
              "48                            doc7furzh9aqok13q2xe51z   \n",
              "49                            doc7furzh9aqok13q2xe51z   \n",
              "50                            doc7furzh9aqok13q2xe51z   \n",
              "51                            doc7furzh9aqok13q2xe51z   \n",
              "52                            doc7furzh9aqok13q2xe51z   \n",
              "53                              243387010001565301600   \n",
              "54                              243387010001565301600   \n",
              "55                              243387010001565301600   \n",
              "56           49E9A9F87C714F261583EAE42E11F68C_3282847   \n",
              "\n",
              "                               name  \\\n",
              "0           Neue Ruhr/Rhein Zeitung   \n",
              "1           Neue Ruhr/Rhein Zeitung   \n",
              "2           Neue Ruhr/Rhein Zeitung   \n",
              "3           Neue Ruhr/Rhein Zeitung   \n",
              "4                    SÜDWEST PRESSE   \n",
              "5                   Münchner Merkur   \n",
              "6                   Münchner Merkur   \n",
              "7                      SPIEGEL Plus   \n",
              "8                      SPIEGEL Plus   \n",
              "9                      SPIEGEL Plus   \n",
              "10                  Berliner Kurier   \n",
              "11                  Berliner Kurier   \n",
              "12                  Berliner Kurier   \n",
              "13                  Berliner Kurier   \n",
              "14             Thüringer Allgemeine   \n",
              "15             Thüringer Allgemeine   \n",
              "16             Thüringer Allgemeine   \n",
              "17              Bergedorfer Zeitung   \n",
              "18                 Nordwest-Zeitung   \n",
              "19               Rhein-Lahn-Zeitung   \n",
              "20                       HarzKurier   \n",
              "21                       HarzKurier   \n",
              "22                       HarzKurier   \n",
              "23                       HarzKurier   \n",
              "24                  Fränkischer Tag   \n",
              "25                       Nordkurier   \n",
              "26                       Nordkurier   \n",
              "27       Thüringische Landeszeitung   \n",
              "28             Hamburger Morgenpost   \n",
              "29         Mittelbayerische Zeitung   \n",
              "30         Mittelbayerische Zeitung   \n",
              "31         Mittelbayerische Zeitung   \n",
              "32               DER SPIEGEL online   \n",
              "33                    Rhein-Zeitung   \n",
              "34              Schwäbische Zeitung   \n",
              "35              Schwäbische Zeitung   \n",
              "36              Schwäbische Zeitung   \n",
              "37              Schwäbische Zeitung   \n",
              "38              Schwäbische Zeitung   \n",
              "39                     Abendzeitung   \n",
              "40                     Abendzeitung   \n",
              "41                     Abendzeitung   \n",
              "42           Leipziger Volkszeitung   \n",
              "43              Barmstedter Zeitung   \n",
              "44              Barmstedter Zeitung   \n",
              "45                Neue Westfälische   \n",
              "46                Neue Westfälische   \n",
              "47                Neue Westfälische   \n",
              "48  Hildesheimer Allgemeine Zeitung   \n",
              "49  Hildesheimer Allgemeine Zeitung   \n",
              "50  Hildesheimer Allgemeine Zeitung   \n",
              "51  Hildesheimer Allgemeine Zeitung   \n",
              "52  Hildesheimer Allgemeine Zeitung   \n",
              "53                  Wormser Zeitung   \n",
              "54                  Wormser Zeitung   \n",
              "55                  Wormser Zeitung   \n",
              "56             Hamburger Abendblatt   \n",
              "\n",
              "                                          annotations  artikel_order  \\\n",
              "0   [{'str_start': None, 'str_stop': None, 'annota...              1   \n",
              "1   [{'str_start': None, 'str_stop': None, 'annota...              3   \n",
              "2   [{'str_start': None, 'str_stop': None, 'annota...              4   \n",
              "3   [{'str_start': None, 'str_stop': None, 'annota...              5   \n",
              "4   [{'str_start': None, 'str_stop': None, 'annota...              2   \n",
              "5   [{'str_start': None, 'str_stop': None, 'annota...              2   \n",
              "6   [{'str_start': None, 'str_stop': None, 'annota...              5   \n",
              "7   [{'str_start': None, 'str_stop': None, 'annota...              1   \n",
              "8   [{'str_start': None, 'str_stop': None, 'annota...              9   \n",
              "9   [{'str_start': None, 'str_stop': None, 'annota...             16   \n",
              "10  [{'str_start': 95, 'str_stop': 196, 'annotator...              2   \n",
              "11  [{'str_start': None, 'str_stop': None, 'annota...              3   \n",
              "12  [{'str_start': None, 'str_stop': None, 'annota...              4   \n",
              "13  [{'str_start': 113, 'str_stop': 277, 'annotato...              6   \n",
              "14  [{'str_start': None, 'str_stop': None, 'annota...              1   \n",
              "15  [{'str_start': None, 'str_stop': None, 'annota...              2   \n",
              "16  [{'str_start': None, 'str_stop': None, 'annota...              4   \n",
              "17  [{'str_start': None, 'str_stop': None, 'annota...              4   \n",
              "18  [{'str_start': None, 'str_stop': None, 'annota...              1   \n",
              "19  [{'str_start': None, 'str_stop': None, 'annota...              2   \n",
              "20  [{'str_start': None, 'str_stop': None, 'annota...              1   \n",
              "21  [{'str_start': None, 'str_stop': None, 'annota...              2   \n",
              "22  [{'str_start': None, 'str_stop': None, 'annota...              6   \n",
              "23  [{'str_start': None, 'str_stop': None, 'annota...              8   \n",
              "24  [{'str_start': None, 'str_stop': None, 'annota...              3   \n",
              "25  [{'str_start': None, 'str_stop': None, 'annota...              1   \n",
              "26  [{'str_start': None, 'str_stop': None, 'annota...              2   \n",
              "27  [{'str_start': None, 'str_stop': None, 'annota...              2   \n",
              "28  [{'str_start': None, 'str_stop': None, 'annota...              1   \n",
              "29  [{'str_start': None, 'str_stop': None, 'annota...              4   \n",
              "30  [{'str_start': None, 'str_stop': None, 'annota...              5   \n",
              "31  [{'str_start': None, 'str_stop': None, 'annota...              7   \n",
              "32  [{'str_start': None, 'str_stop': None, 'annota...              5   \n",
              "33  [{'str_start': None, 'str_stop': None, 'annota...              2   \n",
              "34  [{'str_start': None, 'str_stop': None, 'annota...              2   \n",
              "35  [{'str_start': None, 'str_stop': None, 'annota...              3   \n",
              "36  [{'str_start': None, 'str_stop': None, 'annota...              4   \n",
              "37  [{'str_start': None, 'str_stop': None, 'annota...              5   \n",
              "38  [{'str_start': None, 'str_stop': None, 'annota...              7   \n",
              "39  [{'str_start': None, 'str_stop': None, 'annota...              1   \n",
              "40  [{'str_start': None, 'str_stop': None, 'annota...              2   \n",
              "41  [{'str_start': None, 'str_stop': None, 'annota...              4   \n",
              "42  [{'str_start': None, 'str_stop': None, 'annota...              1   \n",
              "43  [{'str_start': None, 'str_stop': None, 'annota...              2   \n",
              "44  [{'str_start': None, 'str_stop': None, 'annota...              3   \n",
              "45  [{'str_start': None, 'str_stop': None, 'annota...              2   \n",
              "46  [{'str_start': None, 'str_stop': None, 'annota...              3   \n",
              "47  [{'str_start': None, 'str_stop': None, 'annota...              6   \n",
              "48  [{'str_start': None, 'str_stop': None, 'annota...              1   \n",
              "49  [{'str_start': None, 'str_stop': None, 'annota...              3   \n",
              "50  [{'str_start': None, 'str_stop': None, 'annota...              4   \n",
              "51  [{'str_start': None, 'str_stop': None, 'annota...              5   \n",
              "52  [{'str_start': None, 'str_stop': None, 'annota...              6   \n",
              "53  [{'str_start': None, 'str_stop': None, 'annota...              1   \n",
              "54  [{'str_start': None, 'str_stop': None, 'annota...              4   \n",
              "55  [{'str_start': None, 'str_stop': None, 'annota...              5   \n",
              "56  [{'str_start': None, 'str_stop': None, 'annota...              1   \n",
              "\n",
              "    jahrgang     datum                        ressort  \\\n",
              "0     2022.0  20220128                        Lokales   \n",
              "1     2022.0  20220128                        Lokales   \n",
              "2     2022.0  20220128                        Lokales   \n",
              "3     2022.0  20220128                        Lokales   \n",
              "4     2021.0  20210412                ULM und NEU-ULM   \n",
              "5     2020.0  20200615                      Lokalteil   \n",
              "6     2020.0  20200615                      Lokalteil   \n",
              "7     2018.0  20181116                            NaN   \n",
              "8     2018.0  20181116                            NaN   \n",
              "9     2018.0  20181116                            NaN   \n",
              "10    2019.0  20191128                         Berlin   \n",
              "11    2019.0  20191128                         Berlin   \n",
              "12    2019.0  20191128                         Berlin   \n",
              "13    2019.0  20191128                         Berlin   \n",
              "14    2022.0  20221125               Lokalnachrichten   \n",
              "15    2022.0  20221125               Lokalnachrichten   \n",
              "16    2022.0  20221125               Lokalnachrichten   \n",
              "17    2018.0  20181030                            NaN   \n",
              "18    2022.0  20220113                     Friesoythe   \n",
              "19    2020.0  20201114                          Sport   \n",
              "20    2021.0  20211125                         Region   \n",
              "21    2021.0  20211125                         Region   \n",
              "22    2021.0  20211125                         Region   \n",
              "23    2021.0  20211125                         Region   \n",
              "24    2018.0  20180731                        Lokales   \n",
              "25    2022.0  20221006       Neubrandenburger Zeitung   \n",
              "26    2022.0  20221006       Neubrandenburger Zeitung   \n",
              "27    2020.0  20200127                        Aktuell   \n",
              "28    2018.0  20180309                             PA   \n",
              "29    2019.0  20191227                     Regensburg   \n",
              "30    2019.0  20191227                     Regensburg   \n",
              "31    2019.0  20191227                     Regensburg   \n",
              "32    2019.0  20191001              Panorama / Justiz   \n",
              "33    2019.0  20191008                Lokal / Lokal-A   \n",
              "34    2022.0  20221116                        Lokales   \n",
              "35    2022.0  20221116                        Lokales   \n",
              "36    2022.0  20221116                        Lokales   \n",
              "37    2022.0  20221116                        Lokales   \n",
              "38    2022.0  20221116                        Lokales   \n",
              "39    2022.0  20220416                          Leute   \n",
              "40    2022.0  20220416                          Leute   \n",
              "41    2022.0  20220416                          Leute   \n",
              "42    2018.0  20180608  Sachsen und Mitteldeutschland   \n",
              "43    2018.0  20180315             Schleswig-Holstein   \n",
              "44    2018.0  20180315             Schleswig-Holstein   \n",
              "45    2018.0  20180704                 Bad Oeynhausen   \n",
              "46    2018.0  20180704                 Bad Oeynhausen   \n",
              "47    2018.0  20180704                 Bad Oeynhausen   \n",
              "48    2021.0  20210520                     Hildesheim   \n",
              "49    2021.0  20210520                     Hildesheim   \n",
              "50    2021.0  20210520                     Hildesheim   \n",
              "51    2021.0  20210520                     Hildesheim   \n",
              "52    2021.0  20210520                     Hildesheim   \n",
              "53    2019.0  20190809                        Lokales   \n",
              "54    2019.0  20190809                        Lokales   \n",
              "55    2019.0  20190809                        Lokales   \n",
              "56    2022.0  20220321                 Aus aller Welt   \n",
              "\n",
              "                                                titel  \\\n",
              "0                       Mann (25) schlägt Ex-Freundin   \n",
              "1                       Mann (25) schlägt Ex-Freundin   \n",
              "2                       Mann (25) schlägt Ex-Freundin   \n",
              "3                       Mann (25) schlägt Ex-Freundin   \n",
              "4    Mehr häusliche Gewalt im Corona-Jahr registriert   \n",
              "5        Diskrete und direkte Hilfe in Notsituationen   \n",
              "6        Diskrete und direkte Hilfe in Notsituationen   \n",
              "7                             \"Unvorstellbare Zahlen\"   \n",
              "8                             \"Unvorstellbare Zahlen\"   \n",
              "9                             \"Unvorstellbare Zahlen\"   \n",
              "10           Eifersuchtsdrama: Osteuropa-Expertin tot   \n",
              "11           Eifersuchtsdrama: Osteuropa-Expertin tot   \n",
              "12           Eifersuchtsdrama: Osteuropa-Expertin tot   \n",
              "13           Eifersuchtsdrama: Osteuropa-Expertin tot   \n",
              "14                     Todesdrohungen auf der Mailbox   \n",
              "15                     Todesdrohungen auf der Mailbox   \n",
              "16                     Todesdrohungen auf der Mailbox   \n",
              "17                             Platznot im Frauenhaus   \n",
              "18                            In Thüle fielen Schüsse   \n",
              "19  Zverev wehrt sich erneut gegen die Vorwürfe\\nT...   \n",
              "20  Gewalt gegen Frauen nimmt zu -  auch in der Re...   \n",
              "21  Gewalt gegen Frauen nimmt zu -  auch in der Re...   \n",
              "22  Gewalt gegen Frauen nimmt zu -  auch in der Re...   \n",
              "23  Gewalt gegen Frauen nimmt zu -  auch in der Re...   \n",
              "24                                  Ein teurer \"Spaß\"   \n",
              "25               Polizei ermittelt nach Messerangriff   \n",
              "26               Polizei ermittelt nach Messerangriff   \n",
              "27     123 Frauen von Ex-Partner oder Partner getötet   \n",
              "28                          Erstochen im Kinderzimmer   \n",
              "29  Wenn der\\n\\nEx zu einer Gefahr wird\\n\\naktuell...   \n",
              "30  Wenn der\\n\\nEx zu einer Gefahr wird\\n\\naktuell...   \n",
              "31  Wenn der\\n\\nEx zu einer Gefahr wird\\n\\naktuell...   \n",
              "32     Anschlag mit Paketbombe - Frau schwer verletzt   \n",
              "33  Verzicht und Scham: Kindheit im Frauenhaus\\nEi...   \n",
              "34             Würgeangriff: Opfer verweigert Aussage   \n",
              "35             Würgeangriff: Opfer verweigert Aussage   \n",
              "36             Würgeangriff: Opfer verweigert Aussage   \n",
              "37             Würgeangriff: Opfer verweigert Aussage   \n",
              "38             Würgeangriff: Opfer verweigert Aussage   \n",
              "39                       Missbrauch von beiden Seiten   \n",
              "40                       Missbrauch von beiden Seiten   \n",
              "41                       Missbrauch von beiden Seiten   \n",
              "42  Mutter mit mehr als drei Promille: Kinder in O...   \n",
              "43  17-Jährige erstochen -  Asylbewerber (18) muss...   \n",
              "44  17-Jährige erstochen -  Asylbewerber (18) muss...   \n",
              "45         Schwangere angeblich in den Bauch getreten   \n",
              "46         Schwangere angeblich in den Bauch getreten   \n",
              "47         Schwangere angeblich in den Bauch getreten   \n",
              "48          Frau sagt drei Stunden zu Gewalttaten aus   \n",
              "49          Frau sagt drei Stunden zu Gewalttaten aus   \n",
              "50          Frau sagt drei Stunden zu Gewalttaten aus   \n",
              "51          Frau sagt drei Stunden zu Gewalttaten aus   \n",
              "52          Frau sagt drei Stunden zu Gewalttaten aus   \n",
              "53                  Staatsanwaltschaft erhebt Anklage   \n",
              "54                  Staatsanwaltschaft erhebt Anklage   \n",
              "55                  Staatsanwaltschaft erhebt Anklage   \n",
              "56            Frau auf Autobahnmit Messer angegriffen   \n",
              "\n",
              "                                           untertitel  \\\n",
              "0   Amtsgericht hat einen Beziehungsstreit im März...   \n",
              "1   Amtsgericht hat einen Beziehungsstreit im März...   \n",
              "2   Amtsgericht hat einen Beziehungsstreit im März...   \n",
              "3   Amtsgericht hat einen Beziehungsstreit im März...   \n",
              "4                                                 NaN   \n",
              "5                                                 NaN   \n",
              "6                                                 NaN   \n",
              "7                                                 NaN   \n",
              "8                                                 NaN   \n",
              "9                                                 NaN   \n",
              "10  Ihr Freund soll sie mit mehreren Messerstichen...   \n",
              "11  Ihr Freund soll sie mit mehreren Messerstichen...   \n",
              "12  Ihr Freund soll sie mit mehreren Messerstichen...   \n",
              "13  Ihr Freund soll sie mit mehreren Messerstichen...   \n",
              "14  Die Wege zweier Frauen, die Gewalt erfahren ha...   \n",
              "15  Die Wege zweier Frauen, die Gewalt erfahren ha...   \n",
              "16  Die Wege zweier Frauen, die Gewalt erfahren ha...   \n",
              "17                                                NaN   \n",
              "18  Polizeieinsatz Streit zwischen Vater und Sohn ...   \n",
              "19                                                NaN   \n",
              "20  \" Corona wirkt wie ein Brennglas\" , sagt die M...   \n",
              "21  \" Corona wirkt wie ein Brennglas\" , sagt die M...   \n",
              "22  \" Corona wirkt wie ein Brennglas\" , sagt die M...   \n",
              "23  \" Corona wirkt wie ein Brennglas\" , sagt die M...   \n",
              "24  Prozess Weil er im Rausch einen Großeinsatz de...   \n",
              "25                                                NaN   \n",
              "26                                                NaN   \n",
              "27                                                NaN   \n",
              "28  Berlin 14-jähriges Mädchen stirbt vor den Auge...   \n",
              "29  Kriminalität Schwere Beziehungstaten beschäfti...   \n",
              "30  Kriminalität Schwere Beziehungstaten beschäfti...   \n",
              "31  Kriminalität Schwere Beziehungstaten beschäfti...   \n",
              "32                                                NaN   \n",
              "33                                                NaN   \n",
              "34  41-Jähriger aus Weingarten muss sich auch wege...   \n",
              "35  41-Jähriger aus Weingarten muss sich auch wege...   \n",
              "36  41-Jähriger aus Weingarten muss sich auch wege...   \n",
              "37  41-Jähriger aus Weingarten muss sich auch wege...   \n",
              "38  41-Jähriger aus Weingarten muss sich auch wege...   \n",
              "39                                                NaN   \n",
              "40                                                NaN   \n",
              "41                                                NaN   \n",
              "42                                                NaN   \n",
              "43                                                NaN   \n",
              "44                                                NaN   \n",
              "45  Gericht: Angeklagter streitet die Misshandlung...   \n",
              "46  Gericht: Angeklagter streitet die Misshandlung...   \n",
              "47  Gericht: Angeklagter streitet die Misshandlung...   \n",
              "48  Ihr Partner soll sie geschlagen, eingesperrt u...   \n",
              "49  Ihr Partner soll sie geschlagen, eingesperrt u...   \n",
              "50  Ihr Partner soll sie geschlagen, eingesperrt u...   \n",
              "51  Ihr Partner soll sie geschlagen, eingesperrt u...   \n",
              "52  Ihr Partner soll sie geschlagen, eingesperrt u...   \n",
              "53  Die Ermittlungen gegen Ahmet T. sind abgeschlo...   \n",
              "54  Die Ermittlungen gegen Ahmet T. sind abgeschlo...   \n",
              "55  Die Ermittlungen gegen Ahmet T. sind abgeschlo...   \n",
              "56                                                NaN   \n",
              "\n",
              "                                                 text  chars  num_sentences  \n",
              "0   Ein Mann (25) ist jetzt vom Schöffengericht am...    331              2  \n",
              "1   Als Zeugin trat die Ex-Lebensgefährtin des Syr...    581              5  \n",
              "2   Zunächst leugnete der Angeklagte, dass es über...    506              2  \n",
              "3   Das Schöffengericht hatte es in diesem Fall of...    717              6  \n",
              "4   \"Gewalt in der Familie ist weder Privatsache n...    510              2  \n",
              "5   Sylvia Braun, Geschäftsleiterin des Frauen- un...    485              2  \n",
              "6   Das Angebot ist nicht nur kostenfrei, sondern ...    454              3  \n",
              "7   Frau Giffey, jeden zweiten bis dritten Tag wir...    156              2  \n",
              "8   In Spanien gingen Frauen massenweise auf die S...    130              2  \n",
              "9   Das stimmt, und es wurde auch schon viel getan...    539              4  \n",
              "10  Berlin -  Sie war jung, hübsch und intelligent...    375              4  \n",
              "11  Gegen fünf Uhr morgens wurden Anwohner der Kam...    415              5  \n",
              "12  Zunächst hielten sich die Ermittler der Mordko...    440              5  \n",
              "13  Möglicherweise war ihr Job in Kiel auch der Gr...    279              2  \n",
              "14  Eichsfeld Sie ist erst Ende 20 und hat doch sc...    354              5  \n",
              "15  \" Für die Frauen ist das wichtig. Aber man mus...    234              3  \n",
              "16  Er misshandelt sie. Mit Würgemalen kommt sie i...    260              5  \n",
              "17  \"Wir könnten mit einiger Not noch zwei Plätze ...    242              2  \n",
              "18  Thüle /EDA - Ein Polizeieinsatz in Thüle war w...    565              7  \n",
              "19  Die heftigen Schlagzeilen rund um sein Privatl...    551              4  \n",
              "20  Osterode Ein Mord an einer Frau in Göttingen, ...    359              1  \n",
              "21  Und damit liegt die Region noch weit unter Zah...    310              3  \n",
              "22  Wenn die Situation zu Hause ausweglos ist und ...    609              6  \n",
              "23  Das Frauenhaus Osterode sei durchgängig voll b...    473              5  \n",
              "24  Die Version aller anderen  Beteiligten wich in...    735              8  \n",
              "25  Neubrandenburg. Nach einer Beziehungstat am Di...    590              6  \n",
              "26  Nach Informationen des Nordkurier hat sich der...    277              3  \n",
              "27  Die Grünen forderten die Bundesregierung auf, ...    305              3  \n",
              "28  berlin  - Eine 14 Jahre alte Jugendliche ist i...    478              7  \n",
              "29  Anfang Dezember erschütterte eine weitere Bezi...    574              6  \n",
              "30  Auch im Landkreis erschütterte ein möglicher F...    579              6  \n",
              "31  Weitere Bilder und Texte zum Jahresrückblick f...     76              1  \n",
              "32  Die Polizei habe eine Großfahndung mit Polizei...    173              2  \n",
              "33  Im Fall von Maria und Anna hat sich inzwischen...    759              5  \n",
              "34  Laut Anklage soll der 41-Jährige seine Frau in...    323              4  \n",
              "35  Am ersten Prozesstag vergangene Woche hat der ...    228              4  \n",
              "36  Die Aussage der Ehefrau vor Gericht im Rahmen ...    264              3  \n",
              "37  Wie eine Bekannte des Paares vor Gericht aussa...    559              6  \n",
              "38  Den Angeklagten beschrieb die Zeugin als freun...    664              8  \n",
              "39  Im Zivilprozesses zwischen Johnny Depp (58) un...    263              2  \n",
              "40  Heard habe durch ihr Verhalten Depp provoziert...    164              2  \n",
              "41  Per Video kam auch eine frühere Assistentin vo...    285              3  \n",
              "42  Die Polizei hat in Gotha zwei Kinder in die Ob...    590              6  \n",
              "43  Gestern bestätigte die Staatsanwaltschaft offi...    401              5  \n",
              "44  Bestätigt wurde auch, dass es der Bekannte der...    276              4  \n",
              "45  Laut Staatsanwaltschaft Bielefeld soll der Man...    299              3  \n",
              "46  Der Angeklagte stellte das ganz anders dar. \" ...    460              6  \n",
              "47  Das Gericht vertagte sich auf den 20. Juli, um...     71              2  \n",
              "48  Was sich zwischen ihr und ihrem Lebensgefährte...    377              2  \n",
              "49  Zunächst soll er die Frau, als die das zwei Mo...    564              5  \n",
              "50  Als die Frau sich trennen wollte, soll er sie ...    352              3  \n",
              "51  All das schildert die Zeugin im Detail. Über d...    322              4  \n",
              "52  Das tut sie. Und spricht von Todesangst. Manch...    225              4  \n",
              "53  WORMS. Die Ermittlungen gegen Ahmet T. sind ab...    449              7  \n",
              "54  Es muss nun sichergestellt werden, dass er die...    595              6  \n",
              "55  Bislang waren die Ermittler stets von einer Be...    627              6  \n",
              "56  Frankfurt/M. Eine Autofahrerin ist bei einer g...    440              6  "
            ],
            "text/html": [
              "\n",
              "  <div id=\"df-60ec5b5e-209d-4a63-93eb-b02dba8a851c\">\n",
              "    <div class=\"colab-df-container\">\n",
              "      <div>\n",
              "<style scoped>\n",
              "    .dataframe tbody tr th:only-of-type {\n",
              "        vertical-align: middle;\n",
              "    }\n",
              "\n",
              "    .dataframe tbody tr th {\n",
              "        vertical-align: top;\n",
              "    }\n",
              "\n",
              "    .dataframe thead th {\n",
              "        text-align: right;\n",
              "    }\n",
              "</style>\n",
              "<table border=\"1\" class=\"dataframe\">\n",
              "  <thead>\n",
              "    <tr style=\"text-align: right;\">\n",
              "      <th></th>\n",
              "      <th>artikel_id</th>\n",
              "      <th>name</th>\n",
              "      <th>annotations</th>\n",
              "      <th>artikel_order</th>\n",
              "      <th>jahrgang</th>\n",
              "      <th>datum</th>\n",
              "      <th>ressort</th>\n",
              "      <th>titel</th>\n",
              "      <th>untertitel</th>\n",
              "      <th>text</th>\n",
              "      <th>chars</th>\n",
              "      <th>num_sentences</th>\n",
              "    </tr>\n",
              "  </thead>\n",
              "  <tbody>\n",
              "    <tr>\n",
              "      <th>0</th>\n",
              "      <td>F3A4578D33A8603DF0573D3DE3CB2666_3080763</td>\n",
              "      <td>Neue Ruhr/Rhein Zeitung</td>\n",
              "      <td>[{'str_start': None, 'str_stop': None, 'annota...</td>\n",
              "      <td>1</td>\n",
              "      <td>2022.0</td>\n",
              "      <td>20220128</td>\n",
              "      <td>Lokales</td>\n",
              "      <td>Mann (25) schlägt Ex-Freundin</td>\n",
              "      <td>Amtsgericht hat einen Beziehungsstreit im März...</td>\n",
              "      <td>Ein Mann (25) ist jetzt vom Schöffengericht am...</td>\n",
              "      <td>331</td>\n",
              "      <td>2</td>\n",
              "    </tr>\n",
              "    <tr>\n",
              "      <th>1</th>\n",
              "      <td>F3A4578D33A8603DF0573D3DE3CB2666_3080763</td>\n",
              "      <td>Neue Ruhr/Rhein Zeitung</td>\n",
              "      <td>[{'str_start': None, 'str_stop': None, 'annota...</td>\n",
              "      <td>3</td>\n",
              "      <td>2022.0</td>\n",
              "      <td>20220128</td>\n",
              "      <td>Lokales</td>\n",
              "      <td>Mann (25) schlägt Ex-Freundin</td>\n",
              "      <td>Amtsgericht hat einen Beziehungsstreit im März...</td>\n",
              "      <td>Als Zeugin trat die Ex-Lebensgefährtin des Syr...</td>\n",
              "      <td>581</td>\n",
              "      <td>5</td>\n",
              "    </tr>\n",
              "    <tr>\n",
              "      <th>2</th>\n",
              "      <td>F3A4578D33A8603DF0573D3DE3CB2666_3080763</td>\n",
              "      <td>Neue Ruhr/Rhein Zeitung</td>\n",
              "      <td>[{'str_start': None, 'str_stop': None, 'annota...</td>\n",
              "      <td>4</td>\n",
              "      <td>2022.0</td>\n",
              "      <td>20220128</td>\n",
              "      <td>Lokales</td>\n",
              "      <td>Mann (25) schlägt Ex-Freundin</td>\n",
              "      <td>Amtsgericht hat einen Beziehungsstreit im März...</td>\n",
              "      <td>Zunächst leugnete der Angeklagte, dass es über...</td>\n",
              "      <td>506</td>\n",
              "      <td>2</td>\n",
              "    </tr>\n",
              "    <tr>\n",
              "      <th>3</th>\n",
              "      <td>F3A4578D33A8603DF0573D3DE3CB2666_3080763</td>\n",
              "      <td>Neue Ruhr/Rhein Zeitung</td>\n",
              "      <td>[{'str_start': None, 'str_stop': None, 'annota...</td>\n",
              "      <td>5</td>\n",
              "      <td>2022.0</td>\n",
              "      <td>20220128</td>\n",
              "      <td>Lokales</td>\n",
              "      <td>Mann (25) schlägt Ex-Freundin</td>\n",
              "      <td>Amtsgericht hat einen Beziehungsstreit im März...</td>\n",
              "      <td>Das Schöffengericht hatte es in diesem Fall of...</td>\n",
              "      <td>717</td>\n",
              "      <td>6</td>\n",
              "    </tr>\n",
              "    <tr>\n",
              "      <th>4</th>\n",
              "      <td>IRA-82182598</td>\n",
              "      <td>SÜDWEST PRESSE</td>\n",
              "      <td>[{'str_start': None, 'str_stop': None, 'annota...</td>\n",
              "      <td>2</td>\n",
              "      <td>2021.0</td>\n",
              "      <td>20210412</td>\n",
              "      <td>ULM und NEU-ULM</td>\n",
              "      <td>Mehr häusliche Gewalt im Corona-Jahr registriert</td>\n",
              "      <td>NaN</td>\n",
              "      <td>\"Gewalt in der Familie ist weder Privatsache n...</td>\n",
              "      <td>510</td>\n",
              "      <td>2</td>\n",
              "    </tr>\n",
              "    <tr>\n",
              "      <th>5</th>\n",
              "      <td>omp0000006023765</td>\n",
              "      <td>Münchner Merkur</td>\n",
              "      <td>[{'str_start': None, 'str_stop': None, 'annota...</td>\n",
              "      <td>2</td>\n",
              "      <td>2020.0</td>\n",
              "      <td>20200615</td>\n",
              "      <td>Lokalteil</td>\n",
              "      <td>Diskrete und direkte Hilfe in Notsituationen</td>\n",
              "      <td>NaN</td>\n",
              "      <td>Sylvia Braun, Geschäftsleiterin des Frauen- un...</td>\n",
              "      <td>485</td>\n",
              "      <td>2</td>\n",
              "    </tr>\n",
              "    <tr>\n",
              "      <th>6</th>\n",
              "      <td>omp0000006023765</td>\n",
              "      <td>Münchner Merkur</td>\n",
              "      <td>[{'str_start': None, 'str_stop': None, 'annota...</td>\n",
              "      <td>5</td>\n",
              "      <td>2020.0</td>\n",
              "      <td>20200615</td>\n",
              "      <td>Lokalteil</td>\n",
              "      <td>Diskrete und direkte Hilfe in Notsituationen</td>\n",
              "      <td>NaN</td>\n",
              "      <td>Das Angebot ist nicht nur kostenfrei, sondern ...</td>\n",
              "      <td>454</td>\n",
              "      <td>3</td>\n",
              "    </tr>\n",
              "    <tr>\n",
              "      <th>7</th>\n",
              "      <td>Poly_spon-00000000-0002-0001-0000-000160834454</td>\n",
              "      <td>SPIEGEL Plus</td>\n",
              "      <td>[{'str_start': None, 'str_stop': None, 'annota...</td>\n",
              "      <td>1</td>\n",
              "      <td>2018.0</td>\n",
              "      <td>20181116</td>\n",
              "      <td>NaN</td>\n",
              "      <td>\"Unvorstellbare Zahlen\"</td>\n",
              "      <td>NaN</td>\n",
              "      <td>Frau Giffey, jeden zweiten bis dritten Tag wir...</td>\n",
              "      <td>156</td>\n",
              "      <td>2</td>\n",
              "    </tr>\n",
              "    <tr>\n",
              "      <th>8</th>\n",
              "      <td>Poly_spon-00000000-0002-0001-0000-000160834454</td>\n",
              "      <td>SPIEGEL Plus</td>\n",
              "      <td>[{'str_start': None, 'str_stop': None, 'annota...</td>\n",
              "      <td>9</td>\n",
              "      <td>2018.0</td>\n",
              "      <td>20181116</td>\n",
              "      <td>NaN</td>\n",
              "      <td>\"Unvorstellbare Zahlen\"</td>\n",
              "      <td>NaN</td>\n",
              "      <td>In Spanien gingen Frauen massenweise auf die S...</td>\n",
              "      <td>130</td>\n",
              "      <td>2</td>\n",
              "    </tr>\n",
              "    <tr>\n",
              "      <th>9</th>\n",
              "      <td>Poly_spon-00000000-0002-0001-0000-000160834454</td>\n",
              "      <td>SPIEGEL Plus</td>\n",
              "      <td>[{'str_start': None, 'str_stop': None, 'annota...</td>\n",
              "      <td>16</td>\n",
              "      <td>2018.0</td>\n",
              "      <td>20181116</td>\n",
              "      <td>NaN</td>\n",
              "      <td>\"Unvorstellbare Zahlen\"</td>\n",
              "      <td>NaN</td>\n",
              "      <td>Das stimmt, und es wurde auch schon viel getan...</td>\n",
              "      <td>539</td>\n",
              "      <td>4</td>\n",
              "    </tr>\n",
              "    <tr>\n",
              "      <th>10</th>\n",
              "      <td>MDS-A-A696462F-F0DB-42E7-BADD-1C5F35A3484E</td>\n",
              "      <td>Berliner Kurier</td>\n",
              "      <td>[{'str_start': 95, 'str_stop': 196, 'annotator...</td>\n",
              "      <td>2</td>\n",
              "      <td>2019.0</td>\n",
              "      <td>20191128</td>\n",
              "      <td>Berlin</td>\n",
              "      <td>Eifersuchtsdrama: Osteuropa-Expertin tot</td>\n",
              "      <td>Ihr Freund soll sie mit mehreren Messerstichen...</td>\n",
              "      <td>Berlin -  Sie war jung, hübsch und intelligent...</td>\n",
              "      <td>375</td>\n",
              "      <td>4</td>\n",
              "    </tr>\n",
              "    <tr>\n",
              "      <th>11</th>\n",
              "      <td>MDS-A-A696462F-F0DB-42E7-BADD-1C5F35A3484E</td>\n",
              "      <td>Berliner Kurier</td>\n",
              "      <td>[{'str_start': None, 'str_stop': None, 'annota...</td>\n",
              "      <td>3</td>\n",
              "      <td>2019.0</td>\n",
              "      <td>20191128</td>\n",
              "      <td>Berlin</td>\n",
              "      <td>Eifersuchtsdrama: Osteuropa-Expertin tot</td>\n",
              "      <td>Ihr Freund soll sie mit mehreren Messerstichen...</td>\n",
              "      <td>Gegen fünf Uhr morgens wurden Anwohner der Kam...</td>\n",
              "      <td>415</td>\n",
              "      <td>5</td>\n",
              "    </tr>\n",
              "    <tr>\n",
              "      <th>12</th>\n",
              "      <td>MDS-A-A696462F-F0DB-42E7-BADD-1C5F35A3484E</td>\n",
              "      <td>Berliner Kurier</td>\n",
              "      <td>[{'str_start': None, 'str_stop': None, 'annota...</td>\n",
              "      <td>4</td>\n",
              "      <td>2019.0</td>\n",
              "      <td>20191128</td>\n",
              "      <td>Berlin</td>\n",
              "      <td>Eifersuchtsdrama: Osteuropa-Expertin tot</td>\n",
              "      <td>Ihr Freund soll sie mit mehreren Messerstichen...</td>\n",
              "      <td>Zunächst hielten sich die Ermittler der Mordko...</td>\n",
              "      <td>440</td>\n",
              "      <td>5</td>\n",
              "    </tr>\n",
              "    <tr>\n",
              "      <th>13</th>\n",
              "      <td>MDS-A-A696462F-F0DB-42E7-BADD-1C5F35A3484E</td>\n",
              "      <td>Berliner Kurier</td>\n",
              "      <td>[{'str_start': 113, 'str_stop': 277, 'annotato...</td>\n",
              "      <td>6</td>\n",
              "      <td>2019.0</td>\n",
              "      <td>20191128</td>\n",
              "      <td>Berlin</td>\n",
              "      <td>Eifersuchtsdrama: Osteuropa-Expertin tot</td>\n",
              "      <td>Ihr Freund soll sie mit mehreren Messerstichen...</td>\n",
              "      <td>Möglicherweise war ihr Job in Kiel auch der Gr...</td>\n",
              "      <td>279</td>\n",
              "      <td>2</td>\n",
              "    </tr>\n",
              "    <tr>\n",
              "      <th>14</th>\n",
              "      <td>F57BA4E387AB7BD2AC3236A2E77E9D23_4169977</td>\n",
              "      <td>Thüringer Allgemeine</td>\n",
              "      <td>[{'str_start': None, 'str_stop': None, 'annota...</td>\n",
              "      <td>1</td>\n",
              "      <td>2022.0</td>\n",
              "      <td>20221125</td>\n",
              "      <td>Lokalnachrichten</td>\n",
              "      <td>Todesdrohungen auf der Mailbox</td>\n",
              "      <td>Die Wege zweier Frauen, die Gewalt erfahren ha...</td>\n",
              "      <td>Eichsfeld Sie ist erst Ende 20 und hat doch sc...</td>\n",
              "      <td>354</td>\n",
              "      <td>5</td>\n",
              "    </tr>\n",
              "    <tr>\n",
              "      <th>15</th>\n",
              "      <td>F57BA4E387AB7BD2AC3236A2E77E9D23_4169977</td>\n",
              "      <td>Thüringer Allgemeine</td>\n",
              "      <td>[{'str_start': None, 'str_stop': None, 'annota...</td>\n",
              "      <td>2</td>\n",
              "      <td>2022.0</td>\n",
              "      <td>20221125</td>\n",
              "      <td>Lokalnachrichten</td>\n",
              "      <td>Todesdrohungen auf der Mailbox</td>\n",
              "      <td>Die Wege zweier Frauen, die Gewalt erfahren ha...</td>\n",
              "      <td>\" Für die Frauen ist das wichtig. Aber man mus...</td>\n",
              "      <td>234</td>\n",
              "      <td>3</td>\n",
              "    </tr>\n",
              "    <tr>\n",
              "      <th>16</th>\n",
              "      <td>F57BA4E387AB7BD2AC3236A2E77E9D23_4169977</td>\n",
              "      <td>Thüringer Allgemeine</td>\n",
              "      <td>[{'str_start': None, 'str_stop': None, 'annota...</td>\n",
              "      <td>4</td>\n",
              "      <td>2022.0</td>\n",
              "      <td>20221125</td>\n",
              "      <td>Lokalnachrichten</td>\n",
              "      <td>Todesdrohungen auf der Mailbox</td>\n",
              "      <td>Die Wege zweier Frauen, die Gewalt erfahren ha...</td>\n",
              "      <td>Er misshandelt sie. Mit Würgemalen kommt sie i...</td>\n",
              "      <td>260</td>\n",
              "      <td>5</td>\n",
              "    </tr>\n",
              "    <tr>\n",
              "      <th>17</th>\n",
              "      <td>160955503</td>\n",
              "      <td>Bergedorfer Zeitung</td>\n",
              "      <td>[{'str_start': None, 'str_stop': None, 'annota...</td>\n",
              "      <td>4</td>\n",
              "      <td>2018.0</td>\n",
              "      <td>20181030</td>\n",
              "      <td>NaN</td>\n",
              "      <td>Platznot im Frauenhaus</td>\n",
              "      <td>NaN</td>\n",
              "      <td>\"Wir könnten mit einiger Not noch zwei Plätze ...</td>\n",
              "      <td>242</td>\n",
              "      <td>2</td>\n",
              "    </tr>\n",
              "    <tr>\n",
              "      <th>18</th>\n",
              "      <td>b7b085ae-7398-11ec-8362-d4bfc9f3b438</td>\n",
              "      <td>Nordwest-Zeitung</td>\n",
              "      <td>[{'str_start': None, 'str_stop': None, 'annota...</td>\n",
              "      <td>1</td>\n",
              "      <td>2022.0</td>\n",
              "      <td>20220113</td>\n",
              "      <td>Friesoythe</td>\n",
              "      <td>In Thüle fielen Schüsse</td>\n",
              "      <td>Polizeieinsatz Streit zwischen Vater und Sohn ...</td>\n",
              "      <td>Thüle /EDA - Ein Polizeieinsatz in Thüle war w...</td>\n",
              "      <td>565</td>\n",
              "      <td>7</td>\n",
              "    </tr>\n",
              "    <tr>\n",
              "      <th>19</th>\n",
              "      <td>213F3C33661FE83ACFE3DCB5A66CCA5D</td>\n",
              "      <td>Rhein-Lahn-Zeitung</td>\n",
              "      <td>[{'str_start': None, 'str_stop': None, 'annota...</td>\n",
              "      <td>2</td>\n",
              "      <td>2020.0</td>\n",
              "      <td>20201114</td>\n",
              "      <td>Sport</td>\n",
              "      <td>Zverev wehrt sich erneut gegen die Vorwürfe\\nT...</td>\n",
              "      <td>NaN</td>\n",
              "      <td>Die heftigen Schlagzeilen rund um sein Privatl...</td>\n",
              "      <td>551</td>\n",
              "      <td>4</td>\n",
              "    </tr>\n",
              "    <tr>\n",
              "      <th>20</th>\n",
              "      <td>721580E0DCDD055C72CE05C3135E41D3_2876899</td>\n",
              "      <td>HarzKurier</td>\n",
              "      <td>[{'str_start': None, 'str_stop': None, 'annota...</td>\n",
              "      <td>1</td>\n",
              "      <td>2021.0</td>\n",
              "      <td>20211125</td>\n",
              "      <td>Region</td>\n",
              "      <td>Gewalt gegen Frauen nimmt zu -  auch in der Re...</td>\n",
              "      <td>\" Corona wirkt wie ein Brennglas\" , sagt die M...</td>\n",
              "      <td>Osterode Ein Mord an einer Frau in Göttingen, ...</td>\n",
              "      <td>359</td>\n",
              "      <td>1</td>\n",
              "    </tr>\n",
              "    <tr>\n",
              "      <th>21</th>\n",
              "      <td>721580E0DCDD055C72CE05C3135E41D3_2876899</td>\n",
              "      <td>HarzKurier</td>\n",
              "      <td>[{'str_start': None, 'str_stop': None, 'annota...</td>\n",
              "      <td>2</td>\n",
              "      <td>2021.0</td>\n",
              "      <td>20211125</td>\n",
              "      <td>Region</td>\n",
              "      <td>Gewalt gegen Frauen nimmt zu -  auch in der Re...</td>\n",
              "      <td>\" Corona wirkt wie ein Brennglas\" , sagt die M...</td>\n",
              "      <td>Und damit liegt die Region noch weit unter Zah...</td>\n",
              "      <td>310</td>\n",
              "      <td>3</td>\n",
              "    </tr>\n",
              "    <tr>\n",
              "      <th>22</th>\n",
              "      <td>721580E0DCDD055C72CE05C3135E41D3_2876899</td>\n",
              "      <td>HarzKurier</td>\n",
              "      <td>[{'str_start': None, 'str_stop': None, 'annota...</td>\n",
              "      <td>6</td>\n",
              "      <td>2021.0</td>\n",
              "      <td>20211125</td>\n",
              "      <td>Region</td>\n",
              "      <td>Gewalt gegen Frauen nimmt zu -  auch in der Re...</td>\n",
              "      <td>\" Corona wirkt wie ein Brennglas\" , sagt die M...</td>\n",
              "      <td>Wenn die Situation zu Hause ausweglos ist und ...</td>\n",
              "      <td>609</td>\n",
              "      <td>6</td>\n",
              "    </tr>\n",
              "    <tr>\n",
              "      <th>23</th>\n",
              "      <td>721580E0DCDD055C72CE05C3135E41D3_2876899</td>\n",
              "      <td>HarzKurier</td>\n",
              "      <td>[{'str_start': None, 'str_stop': None, 'annota...</td>\n",
              "      <td>8</td>\n",
              "      <td>2021.0</td>\n",
              "      <td>20211125</td>\n",
              "      <td>Region</td>\n",
              "      <td>Gewalt gegen Frauen nimmt zu -  auch in der Re...</td>\n",
              "      <td>\" Corona wirkt wie ein Brennglas\" , sagt die M...</td>\n",
              "      <td>Das Frauenhaus Osterode sei durchgängig voll b...</td>\n",
              "      <td>473</td>\n",
              "      <td>5</td>\n",
              "    </tr>\n",
              "    <tr>\n",
              "      <th>24</th>\n",
              "      <td>3150350945-BAMBERG</td>\n",
              "      <td>Fränkischer Tag</td>\n",
              "      <td>[{'str_start': None, 'str_stop': None, 'annota...</td>\n",
              "      <td>3</td>\n",
              "      <td>2018.0</td>\n",
              "      <td>20180731</td>\n",
              "      <td>Lokales</td>\n",
              "      <td>Ein teurer \"Spaß\"</td>\n",
              "      <td>Prozess Weil er im Rausch einen Großeinsatz de...</td>\n",
              "      <td>Die Version aller anderen  Beteiligten wich in...</td>\n",
              "      <td>735</td>\n",
              "      <td>8</td>\n",
              "    </tr>\n",
              "    <tr>\n",
              "      <th>25</th>\n",
              "      <td>doc7n1kcr6dc7r7dw028be</td>\n",
              "      <td>Nordkurier</td>\n",
              "      <td>[{'str_start': None, 'str_stop': None, 'annota...</td>\n",
              "      <td>1</td>\n",
              "      <td>2022.0</td>\n",
              "      <td>20221006</td>\n",
              "      <td>Neubrandenburger Zeitung</td>\n",
              "      <td>Polizei ermittelt nach Messerangriff</td>\n",
              "      <td>NaN</td>\n",
              "      <td>Neubrandenburg. Nach einer Beziehungstat am Di...</td>\n",
              "      <td>590</td>\n",
              "      <td>6</td>\n",
              "    </tr>\n",
              "    <tr>\n",
              "      <th>26</th>\n",
              "      <td>doc7n1kcr6dc7r7dw028be</td>\n",
              "      <td>Nordkurier</td>\n",
              "      <td>[{'str_start': None, 'str_stop': None, 'annota...</td>\n",
              "      <td>2</td>\n",
              "      <td>2022.0</td>\n",
              "      <td>20221006</td>\n",
              "      <td>Neubrandenburger Zeitung</td>\n",
              "      <td>Polizei ermittelt nach Messerangriff</td>\n",
              "      <td>NaN</td>\n",
              "      <td>Nach Informationen des Nordkurier hat sich der...</td>\n",
              "      <td>277</td>\n",
              "      <td>3</td>\n",
              "    </tr>\n",
              "    <tr>\n",
              "      <th>27</th>\n",
              "      <td>doc790p0jc5u7l19vmf08zy</td>\n",
              "      <td>Thüringische Landeszeitung</td>\n",
              "      <td>[{'str_start': None, 'str_stop': None, 'annota...</td>\n",
              "      <td>2</td>\n",
              "      <td>2020.0</td>\n",
              "      <td>20200127</td>\n",
              "      <td>Aktuell</td>\n",
              "      <td>123 Frauen von Ex-Partner oder Partner getötet</td>\n",
              "      <td>NaN</td>\n",
              "      <td>Die Grünen forderten die Bundesregierung auf, ...</td>\n",
              "      <td>305</td>\n",
              "      <td>3</td>\n",
              "    </tr>\n",
              "    <tr>\n",
              "      <th>28</th>\n",
              "      <td>MDS-A-2BC16471-1C81-42EF-AAA0-581A6020026A</td>\n",
              "      <td>Hamburger Morgenpost</td>\n",
              "      <td>[{'str_start': None, 'str_stop': None, 'annota...</td>\n",
              "      <td>1</td>\n",
              "      <td>2018.0</td>\n",
              "      <td>20180309</td>\n",
              "      <td>PA</td>\n",
              "      <td>Erstochen im Kinderzimmer</td>\n",
              "      <td>Berlin 14-jähriges Mädchen stirbt vor den Auge...</td>\n",
              "      <td>berlin  - Eine 14 Jahre alte Jugendliche ist i...</td>\n",
              "      <td>478</td>\n",
              "      <td>7</td>\n",
              "    </tr>\n",
              "    <tr>\n",
              "      <th>29</th>\n",
              "      <td>12B9135393FCEC24B595747C9032BD26-WOERTHER ANZE...</td>\n",
              "      <td>Mittelbayerische Zeitung</td>\n",
              "      <td>[{'str_start': None, 'str_stop': None, 'annota...</td>\n",
              "      <td>4</td>\n",
              "      <td>2019.0</td>\n",
              "      <td>20191227</td>\n",
              "      <td>Regensburg</td>\n",
              "      <td>Wenn der\\n\\nEx zu einer Gefahr wird\\n\\naktuell...</td>\n",
              "      <td>Kriminalität Schwere Beziehungstaten beschäfti...</td>\n",
              "      <td>Anfang Dezember erschütterte eine weitere Bezi...</td>\n",
              "      <td>574</td>\n",
              "      <td>6</td>\n",
              "    </tr>\n",
              "    <tr>\n",
              "      <th>30</th>\n",
              "      <td>12B9135393FCEC24B595747C9032BD26-WOERTHER ANZE...</td>\n",
              "      <td>Mittelbayerische Zeitung</td>\n",
              "      <td>[{'str_start': None, 'str_stop': None, 'annota...</td>\n",
              "      <td>5</td>\n",
              "      <td>2019.0</td>\n",
              "      <td>20191227</td>\n",
              "      <td>Regensburg</td>\n",
              "      <td>Wenn der\\n\\nEx zu einer Gefahr wird\\n\\naktuell...</td>\n",
              "      <td>Kriminalität Schwere Beziehungstaten beschäfti...</td>\n",
              "      <td>Auch im Landkreis erschütterte ein möglicher F...</td>\n",
              "      <td>579</td>\n",
              "      <td>6</td>\n",
              "    </tr>\n",
              "    <tr>\n",
              "      <th>31</th>\n",
              "      <td>12B9135393FCEC24B595747C9032BD26-WOERTHER ANZE...</td>\n",
              "      <td>Mittelbayerische Zeitung</td>\n",
              "      <td>[{'str_start': None, 'str_stop': None, 'annota...</td>\n",
              "      <td>7</td>\n",
              "      <td>2019.0</td>\n",
              "      <td>20191227</td>\n",
              "      <td>Regensburg</td>\n",
              "      <td>Wenn der\\n\\nEx zu einer Gefahr wird\\n\\naktuell...</td>\n",
              "      <td>Kriminalität Schwere Beziehungstaten beschäfti...</td>\n",
              "      <td>Weitere Bilder und Texte zum Jahresrückblick f...</td>\n",
              "      <td>76</td>\n",
              "      <td>1</td>\n",
              "    </tr>\n",
              "    <tr>\n",
              "      <th>32</th>\n",
              "      <td>PMGSPON-xPMG-SPOX-1289485</td>\n",
              "      <td>DER SPIEGEL online</td>\n",
              "      <td>[{'str_start': None, 'str_stop': None, 'annota...</td>\n",
              "      <td>5</td>\n",
              "      <td>2019.0</td>\n",
              "      <td>20191001</td>\n",
              "      <td>Panorama / Justiz</td>\n",
              "      <td>Anschlag mit Paketbombe - Frau schwer verletzt</td>\n",
              "      <td>NaN</td>\n",
              "      <td>Die Polizei habe eine Großfahndung mit Polizei...</td>\n",
              "      <td>173</td>\n",
              "      <td>2</td>\n",
              "    </tr>\n",
              "    <tr>\n",
              "      <th>33</th>\n",
              "      <td>3C6C473EF5B9B0545F6F543C0CF7E98E-NEUWIEDLINZ</td>\n",
              "      <td>Rhein-Zeitung</td>\n",
              "      <td>[{'str_start': None, 'str_stop': None, 'annota...</td>\n",
              "      <td>2</td>\n",
              "      <td>2019.0</td>\n",
              "      <td>20191008</td>\n",
              "      <td>Lokal / Lokal-A</td>\n",
              "      <td>Verzicht und Scham: Kindheit im Frauenhaus\\nEi...</td>\n",
              "      <td>NaN</td>\n",
              "      <td>Im Fall von Maria und Anna hat sich inzwischen...</td>\n",
              "      <td>759</td>\n",
              "      <td>5</td>\n",
              "    </tr>\n",
              "    <tr>\n",
              "      <th>34</th>\n",
              "      <td>20221116004417688_11182416314784328-RAVENSBURG</td>\n",
              "      <td>Schwäbische Zeitung</td>\n",
              "      <td>[{'str_start': None, 'str_stop': None, 'annota...</td>\n",
              "      <td>2</td>\n",
              "      <td>2022.0</td>\n",
              "      <td>20221116</td>\n",
              "      <td>Lokales</td>\n",
              "      <td>Würgeangriff: Opfer verweigert Aussage</td>\n",
              "      <td>41-Jähriger aus Weingarten muss sich auch wege...</td>\n",
              "      <td>Laut Anklage soll der 41-Jährige seine Frau in...</td>\n",
              "      <td>323</td>\n",
              "      <td>4</td>\n",
              "    </tr>\n",
              "    <tr>\n",
              "      <th>35</th>\n",
              "      <td>20221116004417688_11182416314784328-RAVENSBURG</td>\n",
              "      <td>Schwäbische Zeitung</td>\n",
              "      <td>[{'str_start': None, 'str_stop': None, 'annota...</td>\n",
              "      <td>3</td>\n",
              "      <td>2022.0</td>\n",
              "      <td>20221116</td>\n",
              "      <td>Lokales</td>\n",
              "      <td>Würgeangriff: Opfer verweigert Aussage</td>\n",
              "      <td>41-Jähriger aus Weingarten muss sich auch wege...</td>\n",
              "      <td>Am ersten Prozesstag vergangene Woche hat der ...</td>\n",
              "      <td>228</td>\n",
              "      <td>4</td>\n",
              "    </tr>\n",
              "    <tr>\n",
              "      <th>36</th>\n",
              "      <td>20221116004417688_11182416314784328-RAVENSBURG</td>\n",
              "      <td>Schwäbische Zeitung</td>\n",
              "      <td>[{'str_start': None, 'str_stop': None, 'annota...</td>\n",
              "      <td>4</td>\n",
              "      <td>2022.0</td>\n",
              "      <td>20221116</td>\n",
              "      <td>Lokales</td>\n",
              "      <td>Würgeangriff: Opfer verweigert Aussage</td>\n",
              "      <td>41-Jähriger aus Weingarten muss sich auch wege...</td>\n",
              "      <td>Die Aussage der Ehefrau vor Gericht im Rahmen ...</td>\n",
              "      <td>264</td>\n",
              "      <td>3</td>\n",
              "    </tr>\n",
              "    <tr>\n",
              "      <th>37</th>\n",
              "      <td>20221116004417688_11182416314784328-RAVENSBURG</td>\n",
              "      <td>Schwäbische Zeitung</td>\n",
              "      <td>[{'str_start': None, 'str_stop': None, 'annota...</td>\n",
              "      <td>5</td>\n",
              "      <td>2022.0</td>\n",
              "      <td>20221116</td>\n",
              "      <td>Lokales</td>\n",
              "      <td>Würgeangriff: Opfer verweigert Aussage</td>\n",
              "      <td>41-Jähriger aus Weingarten muss sich auch wege...</td>\n",
              "      <td>Wie eine Bekannte des Paares vor Gericht aussa...</td>\n",
              "      <td>559</td>\n",
              "      <td>6</td>\n",
              "    </tr>\n",
              "    <tr>\n",
              "      <th>38</th>\n",
              "      <td>20221116004417688_11182416314784328-RAVENSBURG</td>\n",
              "      <td>Schwäbische Zeitung</td>\n",
              "      <td>[{'str_start': None, 'str_stop': None, 'annota...</td>\n",
              "      <td>7</td>\n",
              "      <td>2022.0</td>\n",
              "      <td>20221116</td>\n",
              "      <td>Lokales</td>\n",
              "      <td>Würgeangriff: Opfer verweigert Aussage</td>\n",
              "      <td>41-Jähriger aus Weingarten muss sich auch wege...</td>\n",
              "      <td>Den Angeklagten beschrieb die Zeugin als freun...</td>\n",
              "      <td>664</td>\n",
              "      <td>8</td>\n",
              "    </tr>\n",
              "    <tr>\n",
              "      <th>39</th>\n",
              "      <td>asr0000023861910</td>\n",
              "      <td>Abendzeitung</td>\n",
              "      <td>[{'str_start': None, 'str_stop': None, 'annota...</td>\n",
              "      <td>1</td>\n",
              "      <td>2022.0</td>\n",
              "      <td>20220416</td>\n",
              "      <td>Leute</td>\n",
              "      <td>Missbrauch von beiden Seiten</td>\n",
              "      <td>NaN</td>\n",
              "      <td>Im Zivilprozesses zwischen Johnny Depp (58) un...</td>\n",
              "      <td>263</td>\n",
              "      <td>2</td>\n",
              "    </tr>\n",
              "    <tr>\n",
              "      <th>40</th>\n",
              "      <td>asr0000023861910</td>\n",
              "      <td>Abendzeitung</td>\n",
              "      <td>[{'str_start': None, 'str_stop': None, 'annota...</td>\n",
              "      <td>2</td>\n",
              "      <td>2022.0</td>\n",
              "      <td>20220416</td>\n",
              "      <td>Leute</td>\n",
              "      <td>Missbrauch von beiden Seiten</td>\n",
              "      <td>NaN</td>\n",
              "      <td>Heard habe durch ihr Verhalten Depp provoziert...</td>\n",
              "      <td>164</td>\n",
              "      <td>2</td>\n",
              "    </tr>\n",
              "    <tr>\n",
              "      <th>41</th>\n",
              "      <td>asr0000023861910</td>\n",
              "      <td>Abendzeitung</td>\n",
              "      <td>[{'str_start': None, 'str_stop': None, 'annota...</td>\n",
              "      <td>4</td>\n",
              "      <td>2022.0</td>\n",
              "      <td>20220416</td>\n",
              "      <td>Leute</td>\n",
              "      <td>Missbrauch von beiden Seiten</td>\n",
              "      <td>NaN</td>\n",
              "      <td>Per Video kam auch eine frühere Assistentin vo...</td>\n",
              "      <td>285</td>\n",
              "      <td>3</td>\n",
              "    </tr>\n",
              "    <tr>\n",
              "      <th>42</th>\n",
              "      <td>doc70he6cf95lsn62onc03</td>\n",
              "      <td>Leipziger Volkszeitung</td>\n",
              "      <td>[{'str_start': None, 'str_stop': None, 'annota...</td>\n",
              "      <td>1</td>\n",
              "      <td>2018.0</td>\n",
              "      <td>20180608</td>\n",
              "      <td>Sachsen und Mitteldeutschland</td>\n",
              "      <td>Mutter mit mehr als drei Promille: Kinder in O...</td>\n",
              "      <td>NaN</td>\n",
              "      <td>Die Polizei hat in Gotha zwei Kinder in die Ob...</td>\n",
              "      <td>590</td>\n",
              "      <td>6</td>\n",
              "    </tr>\n",
              "    <tr>\n",
              "      <th>43</th>\n",
              "      <td>23-96144215</td>\n",
              "      <td>Barmstedter Zeitung</td>\n",
              "      <td>[{'str_start': None, 'str_stop': None, 'annota...</td>\n",
              "      <td>2</td>\n",
              "      <td>2018.0</td>\n",
              "      <td>20180315</td>\n",
              "      <td>Schleswig-Holstein</td>\n",
              "      <td>17-Jährige erstochen -  Asylbewerber (18) muss...</td>\n",
              "      <td>NaN</td>\n",
              "      <td>Gestern bestätigte die Staatsanwaltschaft offi...</td>\n",
              "      <td>401</td>\n",
              "      <td>5</td>\n",
              "    </tr>\n",
              "    <tr>\n",
              "      <th>44</th>\n",
              "      <td>23-96144215</td>\n",
              "      <td>Barmstedter Zeitung</td>\n",
              "      <td>[{'str_start': None, 'str_stop': None, 'annota...</td>\n",
              "      <td>3</td>\n",
              "      <td>2018.0</td>\n",
              "      <td>20180315</td>\n",
              "      <td>Schleswig-Holstein</td>\n",
              "      <td>17-Jährige erstochen -  Asylbewerber (18) muss...</td>\n",
              "      <td>NaN</td>\n",
              "      <td>Bestätigt wurde auch, dass es der Bekannte der...</td>\n",
              "      <td>276</td>\n",
              "      <td>4</td>\n",
              "    </tr>\n",
              "    <tr>\n",
              "      <th>45</th>\n",
              "      <td>41c492c80a6c1b2c445c9e59a4a48630234df5f</td>\n",
              "      <td>Neue Westfälische</td>\n",
              "      <td>[{'str_start': None, 'str_stop': None, 'annota...</td>\n",
              "      <td>2</td>\n",
              "      <td>2018.0</td>\n",
              "      <td>20180704</td>\n",
              "      <td>Bad Oeynhausen</td>\n",
              "      <td>Schwangere angeblich in den Bauch getreten</td>\n",
              "      <td>Gericht: Angeklagter streitet die Misshandlung...</td>\n",
              "      <td>Laut Staatsanwaltschaft Bielefeld soll der Man...</td>\n",
              "      <td>299</td>\n",
              "      <td>3</td>\n",
              "    </tr>\n",
              "    <tr>\n",
              "      <th>46</th>\n",
              "      <td>41c492c80a6c1b2c445c9e59a4a48630234df5f</td>\n",
              "      <td>Neue Westfälische</td>\n",
              "      <td>[{'str_start': None, 'str_stop': None, 'annota...</td>\n",
              "      <td>3</td>\n",
              "      <td>2018.0</td>\n",
              "      <td>20180704</td>\n",
              "      <td>Bad Oeynhausen</td>\n",
              "      <td>Schwangere angeblich in den Bauch getreten</td>\n",
              "      <td>Gericht: Angeklagter streitet die Misshandlung...</td>\n",
              "      <td>Der Angeklagte stellte das ganz anders dar. \" ...</td>\n",
              "      <td>460</td>\n",
              "      <td>6</td>\n",
              "    </tr>\n",
              "    <tr>\n",
              "      <th>47</th>\n",
              "      <td>41c492c80a6c1b2c445c9e59a4a48630234df5f</td>\n",
              "      <td>Neue Westfälische</td>\n",
              "      <td>[{'str_start': None, 'str_stop': None, 'annota...</td>\n",
              "      <td>6</td>\n",
              "      <td>2018.0</td>\n",
              "      <td>20180704</td>\n",
              "      <td>Bad Oeynhausen</td>\n",
              "      <td>Schwangere angeblich in den Bauch getreten</td>\n",
              "      <td>Gericht: Angeklagter streitet die Misshandlung...</td>\n",
              "      <td>Das Gericht vertagte sich auf den 20. Juli, um...</td>\n",
              "      <td>71</td>\n",
              "      <td>2</td>\n",
              "    </tr>\n",
              "    <tr>\n",
              "      <th>48</th>\n",
              "      <td>doc7furzh9aqok13q2xe51z</td>\n",
              "      <td>Hildesheimer Allgemeine Zeitung</td>\n",
              "      <td>[{'str_start': None, 'str_stop': None, 'annota...</td>\n",
              "      <td>1</td>\n",
              "      <td>2021.0</td>\n",
              "      <td>20210520</td>\n",
              "      <td>Hildesheim</td>\n",
              "      <td>Frau sagt drei Stunden zu Gewalttaten aus</td>\n",
              "      <td>Ihr Partner soll sie geschlagen, eingesperrt u...</td>\n",
              "      <td>Was sich zwischen ihr und ihrem Lebensgefährte...</td>\n",
              "      <td>377</td>\n",
              "      <td>2</td>\n",
              "    </tr>\n",
              "    <tr>\n",
              "      <th>49</th>\n",
              "      <td>doc7furzh9aqok13q2xe51z</td>\n",
              "      <td>Hildesheimer Allgemeine Zeitung</td>\n",
              "      <td>[{'str_start': None, 'str_stop': None, 'annota...</td>\n",
              "      <td>3</td>\n",
              "      <td>2021.0</td>\n",
              "      <td>20210520</td>\n",
              "      <td>Hildesheim</td>\n",
              "      <td>Frau sagt drei Stunden zu Gewalttaten aus</td>\n",
              "      <td>Ihr Partner soll sie geschlagen, eingesperrt u...</td>\n",
              "      <td>Zunächst soll er die Frau, als die das zwei Mo...</td>\n",
              "      <td>564</td>\n",
              "      <td>5</td>\n",
              "    </tr>\n",
              "    <tr>\n",
              "      <th>50</th>\n",
              "      <td>doc7furzh9aqok13q2xe51z</td>\n",
              "      <td>Hildesheimer Allgemeine Zeitung</td>\n",
              "      <td>[{'str_start': None, 'str_stop': None, 'annota...</td>\n",
              "      <td>4</td>\n",
              "      <td>2021.0</td>\n",
              "      <td>20210520</td>\n",
              "      <td>Hildesheim</td>\n",
              "      <td>Frau sagt drei Stunden zu Gewalttaten aus</td>\n",
              "      <td>Ihr Partner soll sie geschlagen, eingesperrt u...</td>\n",
              "      <td>Als die Frau sich trennen wollte, soll er sie ...</td>\n",
              "      <td>352</td>\n",
              "      <td>3</td>\n",
              "    </tr>\n",
              "    <tr>\n",
              "      <th>51</th>\n",
              "      <td>doc7furzh9aqok13q2xe51z</td>\n",
              "      <td>Hildesheimer Allgemeine Zeitung</td>\n",
              "      <td>[{'str_start': None, 'str_stop': None, 'annota...</td>\n",
              "      <td>5</td>\n",
              "      <td>2021.0</td>\n",
              "      <td>20210520</td>\n",
              "      <td>Hildesheim</td>\n",
              "      <td>Frau sagt drei Stunden zu Gewalttaten aus</td>\n",
              "      <td>Ihr Partner soll sie geschlagen, eingesperrt u...</td>\n",
              "      <td>All das schildert die Zeugin im Detail. Über d...</td>\n",
              "      <td>322</td>\n",
              "      <td>4</td>\n",
              "    </tr>\n",
              "    <tr>\n",
              "      <th>52</th>\n",
              "      <td>doc7furzh9aqok13q2xe51z</td>\n",
              "      <td>Hildesheimer Allgemeine Zeitung</td>\n",
              "      <td>[{'str_start': None, 'str_stop': None, 'annota...</td>\n",
              "      <td>6</td>\n",
              "      <td>2021.0</td>\n",
              "      <td>20210520</td>\n",
              "      <td>Hildesheim</td>\n",
              "      <td>Frau sagt drei Stunden zu Gewalttaten aus</td>\n",
              "      <td>Ihr Partner soll sie geschlagen, eingesperrt u...</td>\n",
              "      <td>Das tut sie. Und spricht von Todesangst. Manch...</td>\n",
              "      <td>225</td>\n",
              "      <td>4</td>\n",
              "    </tr>\n",
              "    <tr>\n",
              "      <th>53</th>\n",
              "      <td>243387010001565301600</td>\n",
              "      <td>Wormser Zeitung</td>\n",
              "      <td>[{'str_start': None, 'str_stop': None, 'annota...</td>\n",
              "      <td>1</td>\n",
              "      <td>2019.0</td>\n",
              "      <td>20190809</td>\n",
              "      <td>Lokales</td>\n",
              "      <td>Staatsanwaltschaft erhebt Anklage</td>\n",
              "      <td>Die Ermittlungen gegen Ahmet T. sind abgeschlo...</td>\n",
              "      <td>WORMS. Die Ermittlungen gegen Ahmet T. sind ab...</td>\n",
              "      <td>449</td>\n",
              "      <td>7</td>\n",
              "    </tr>\n",
              "    <tr>\n",
              "      <th>54</th>\n",
              "      <td>243387010001565301600</td>\n",
              "      <td>Wormser Zeitung</td>\n",
              "      <td>[{'str_start': None, 'str_stop': None, 'annota...</td>\n",
              "      <td>4</td>\n",
              "      <td>2019.0</td>\n",
              "      <td>20190809</td>\n",
              "      <td>Lokales</td>\n",
              "      <td>Staatsanwaltschaft erhebt Anklage</td>\n",
              "      <td>Die Ermittlungen gegen Ahmet T. sind abgeschlo...</td>\n",
              "      <td>Es muss nun sichergestellt werden, dass er die...</td>\n",
              "      <td>595</td>\n",
              "      <td>6</td>\n",
              "    </tr>\n",
              "    <tr>\n",
              "      <th>55</th>\n",
              "      <td>243387010001565301600</td>\n",
              "      <td>Wormser Zeitung</td>\n",
              "      <td>[{'str_start': None, 'str_stop': None, 'annota...</td>\n",
              "      <td>5</td>\n",
              "      <td>2019.0</td>\n",
              "      <td>20190809</td>\n",
              "      <td>Lokales</td>\n",
              "      <td>Staatsanwaltschaft erhebt Anklage</td>\n",
              "      <td>Die Ermittlungen gegen Ahmet T. sind abgeschlo...</td>\n",
              "      <td>Bislang waren die Ermittler stets von einer Be...</td>\n",
              "      <td>627</td>\n",
              "      <td>6</td>\n",
              "    </tr>\n",
              "    <tr>\n",
              "      <th>56</th>\n",
              "      <td>49E9A9F87C714F261583EAE42E11F68C_3282847</td>\n",
              "      <td>Hamburger Abendblatt</td>\n",
              "      <td>[{'str_start': None, 'str_stop': None, 'annota...</td>\n",
              "      <td>1</td>\n",
              "      <td>2022.0</td>\n",
              "      <td>20220321</td>\n",
              "      <td>Aus aller Welt</td>\n",
              "      <td>Frau auf Autobahnmit Messer angegriffen</td>\n",
              "      <td>NaN</td>\n",
              "      <td>Frankfurt/M. Eine Autofahrerin ist bei einer g...</td>\n",
              "      <td>440</td>\n",
              "      <td>6</td>\n",
              "    </tr>\n",
              "  </tbody>\n",
              "</table>\n",
              "</div>\n",
              "      <button class=\"colab-df-convert\" onclick=\"convertToInteractive('df-60ec5b5e-209d-4a63-93eb-b02dba8a851c')\"\n",
              "              title=\"Convert this dataframe to an interactive table.\"\n",
              "              style=\"display:none;\">\n",
              "        \n",
              "  <svg xmlns=\"http://www.w3.org/2000/svg\" height=\"24px\"viewBox=\"0 0 24 24\"\n",
              "       width=\"24px\">\n",
              "    <path d=\"M0 0h24v24H0V0z\" fill=\"none\"/>\n",
              "    <path d=\"M18.56 5.44l.94 2.06.94-2.06 2.06-.94-2.06-.94-.94-2.06-.94 2.06-2.06.94zm-11 1L8.5 8.5l.94-2.06 2.06-.94-2.06-.94L8.5 2.5l-.94 2.06-2.06.94zm10 10l.94 2.06.94-2.06 2.06-.94-2.06-.94-.94-2.06-.94 2.06-2.06.94z\"/><path d=\"M17.41 7.96l-1.37-1.37c-.4-.4-.92-.59-1.43-.59-.52 0-1.04.2-1.43.59L10.3 9.45l-7.72 7.72c-.78.78-.78 2.05 0 2.83L4 21.41c.39.39.9.59 1.41.59.51 0 1.02-.2 1.41-.59l7.78-7.78 2.81-2.81c.8-.78.8-2.07 0-2.86zM5.41 20L4 18.59l7.72-7.72 1.47 1.35L5.41 20z\"/>\n",
              "  </svg>\n",
              "      </button>\n",
              "      \n",
              "  <style>\n",
              "    .colab-df-container {\n",
              "      display:flex;\n",
              "      flex-wrap:wrap;\n",
              "      gap: 12px;\n",
              "    }\n",
              "\n",
              "    .colab-df-convert {\n",
              "      background-color: #E8F0FE;\n",
              "      border: none;\n",
              "      border-radius: 50%;\n",
              "      cursor: pointer;\n",
              "      display: none;\n",
              "      fill: #1967D2;\n",
              "      height: 32px;\n",
              "      padding: 0 0 0 0;\n",
              "      width: 32px;\n",
              "    }\n",
              "\n",
              "    .colab-df-convert:hover {\n",
              "      background-color: #E2EBFA;\n",
              "      box-shadow: 0px 1px 2px rgba(60, 64, 67, 0.3), 0px 1px 3px 1px rgba(60, 64, 67, 0.15);\n",
              "      fill: #174EA6;\n",
              "    }\n",
              "\n",
              "    [theme=dark] .colab-df-convert {\n",
              "      background-color: #3B4455;\n",
              "      fill: #D2E3FC;\n",
              "    }\n",
              "\n",
              "    [theme=dark] .colab-df-convert:hover {\n",
              "      background-color: #434B5C;\n",
              "      box-shadow: 0px 1px 3px 1px rgba(0, 0, 0, 0.15);\n",
              "      filter: drop-shadow(0px 1px 2px rgba(0, 0, 0, 0.3));\n",
              "      fill: #FFFFFF;\n",
              "    }\n",
              "  </style>\n",
              "\n",
              "      <script>\n",
              "        const buttonEl =\n",
              "          document.querySelector('#df-60ec5b5e-209d-4a63-93eb-b02dba8a851c button.colab-df-convert');\n",
              "        buttonEl.style.display =\n",
              "          google.colab.kernel.accessAllowed ? 'block' : 'none';\n",
              "\n",
              "        async function convertToInteractive(key) {\n",
              "          const element = document.querySelector('#df-60ec5b5e-209d-4a63-93eb-b02dba8a851c');\n",
              "          const dataTable =\n",
              "            await google.colab.kernel.invokeFunction('convertToInteractive',\n",
              "                                                     [key], {});\n",
              "          if (!dataTable) return;\n",
              "\n",
              "          const docLinkHtml = 'Like what you see? Visit the ' +\n",
              "            '<a target=\"_blank\" href=https://colab.research.google.com/notebooks/data_table.ipynb>data table notebook</a>'\n",
              "            + ' to learn more about interactive tables.';\n",
              "          element.innerHTML = '';\n",
              "          dataTable['output_type'] = 'display_data';\n",
              "          await google.colab.output.renderOutput(dataTable, element);\n",
              "          const docLink = document.createElement('div');\n",
              "          docLink.innerHTML = docLinkHtml;\n",
              "          element.appendChild(docLink);\n",
              "        }\n",
              "      </script>\n",
              "    </div>\n",
              "  </div>\n",
              "  "
            ]
          },
          "metadata": {},
          "execution_count": 197
        }
      ]
    },
    {
      "cell_type": "markdown",
      "source": [
        "### Randomly select one paragraph per article"
      ],
      "metadata": {
        "id": "D_4vCxClhzl2"
      }
    },
    {
      "cell_type": "code",
      "source": [
        "df_subset_elinor1=df_exploded"
      ],
      "metadata": {
        "id": "3C_vKteF1NkG"
      },
      "execution_count": null,
      "outputs": []
    },
    {
      "cell_type": "code",
      "source": [
        "import nltk\n",
        "nltk.download('punkt')"
      ],
      "metadata": {
        "id": "yjOtzi_H58w4",
        "colab": {
          "base_uri": "https://localhost:8080/"
        },
        "outputId": "32b38d9c-f8ec-40ef-c1aa-460ea9ad70f0"
      },
      "execution_count": null,
      "outputs": [
        {
          "output_type": "stream",
          "name": "stderr",
          "text": [
            "[nltk_data] Downloading package punkt to /root/nltk_data...\n",
            "[nltk_data]   Package punkt is already up-to-date!\n"
          ]
        },
        {
          "output_type": "execute_result",
          "data": {
            "text/plain": [
              "True"
            ]
          },
          "metadata": {},
          "execution_count": 134
        }
      ]
    },
    {
      "cell_type": "code",
      "source": [
        "def count_sentences(text):\n",
        "    return len(nltk.sent_tokenize(text))"
      ],
      "metadata": {
        "id": "M2OMY9wc5-Gl"
      },
      "execution_count": null,
      "outputs": []
    },
    {
      "cell_type": "code",
      "source": [
        "df_subset_elinor1['num_sentences'] = df_subset_elinor1['text'].apply(count_sentences)"
      ],
      "metadata": {
        "id": "z2Pc_Efw6Aku"
      },
      "execution_count": null,
      "outputs": []
    },
    {
      "cell_type": "code",
      "source": [
        "# Define a function to randomly select one row from each group\n",
        "def select_random_row(group):\n",
        "    if group['num_sentences'].max() > 1:\n",
        "        return group[group['num_sentences'] > 1].sample(n=1)\n",
        "    else:\n",
        "        return group.head(1)"
      ],
      "metadata": {
        "id": "iI_MlT6Y9QFU"
      },
      "execution_count": null,
      "outputs": []
    },
    {
      "cell_type": "code",
      "source": [
        "# Apply the function to each group and combine the results\n",
        "random_rows = df_subset_elinor1.groupby('artikel_id').apply(select_random_row).reset_index(drop=True)"
      ],
      "metadata": {
        "id": "vzqDnnIR9b6T"
      },
      "execution_count": null,
      "outputs": []
    },
    {
      "cell_type": "code",
      "source": [
        "#artikel id & order are uniquely identifying\n",
        "random_rows.duplicated([\"artikel_id\",\"artikel_order\"]).sum()"
      ],
      "metadata": {
        "colab": {
          "base_uri": "https://localhost:8080/"
        },
        "id": "qZ6XNLhR1fvG",
        "outputId": "7fc9ee0b-90ff-4c59-d301-c8b0bd0b0e08"
      },
      "execution_count": null,
      "outputs": [
        {
          "output_type": "execute_result",
          "data": {
            "text/plain": [
              "0"
            ]
          },
          "metadata": {},
          "execution_count": 144
        }
      ]
    },
    {
      "cell_type": "code",
      "source": [
        "random_rows.shape"
      ],
      "metadata": {
        "colab": {
          "base_uri": "https://localhost:8080/"
        },
        "id": "fstir3fR2QXF",
        "outputId": "0d4f97e2-4f0a-4d63-e1df-fa0efd1f3211"
      },
      "execution_count": null,
      "outputs": [
        {
          "output_type": "execute_result",
          "data": {
            "text/plain": [
              "(27945, 11)"
            ]
          },
          "metadata": {},
          "execution_count": 147
        }
      ]
    },
    {
      "cell_type": "markdown",
      "source": [
        "## Export as csv"
      ],
      "metadata": {
        "id": "0Go0cc9U1kpE"
      }
    },
    {
      "cell_type": "code",
      "source": [
        "output_path = \"elinor\""
      ],
      "metadata": {
        "id": "ItHRtFVP9vl_"
      },
      "execution_count": null,
      "outputs": []
    },
    {
      "cell_type": "code",
      "source": [
        "random_rows.to_csv(output_path+\"/annotation_test_05_18.csv\", index=False, header = True,\n",
        "                  encoding = 'utf-8')"
      ],
      "metadata": {
        "id": "dJO8Splt9raZ"
      },
      "execution_count": null,
      "outputs": []
    }
  ]
}