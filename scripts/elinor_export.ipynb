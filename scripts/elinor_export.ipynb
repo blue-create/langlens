{
  "nbformat": 4,
  "nbformat_minor": 0,
  "metadata": {
    "colab": {
      "provenance": [],
      "toc_visible": true,
      "authorship_tag": "ABX9TyM1QtT+E8SL9yeRG7f0Tbgl",
      "include_colab_link": true
    },
    "kernelspec": {
      "name": "python3",
      "display_name": "Python 3"
    },
    "language_info": {
      "name": "python"
    }
  },
  "cells": [
    {
      "cell_type": "markdown",
      "metadata": {
        "id": "view-in-github",
        "colab_type": "text"
      },
      "source": [
        "<a href=\"https://colab.research.google.com/github/blue-create/langlens/blob/main/scripts/elinor_export.ipynb\" target=\"_parent\"><img src=\"https://colab.research.google.com/assets/colab-badge.svg\" alt=\"Open In Colab\"/></a>"
      ]
    },
    {
      "cell_type": "markdown",
      "source": [
        "# Purpose\n",
        "\n",
        "This file shows the steps we took to sample and create the annotation dataset."
      ],
      "metadata": {
        "id": "Q1MHyZaI09-2"
      }
    },
    {
      "cell_type": "markdown",
      "source": [
        "## Connect with Google drive to access data \n",
        "\n",
        "In order to access the data, you first need to create a shortcut of the data folder to your own Gdrive. If you've been granted editing rights, you should be able to edit the content of the folder, i.e. add, move and delete data, create and rename folders, etc."
      ],
      "metadata": {
        "id": "QYjhPHYZ1MVO"
      }
    },
    {
      "cell_type": "code",
      "source": [
        "# connect with google drive\n",
        "from google.colab import drive\n",
        "drive.mount('/content/drive')"
      ],
      "metadata": {
        "colab": {
          "base_uri": "https://localhost:8080/"
        },
        "id": "3-gEE8t61TyI",
        "outputId": "acdbc81f-02e8-4730-e054-e5acb965c603"
      },
      "execution_count": 1,
      "outputs": [
        {
          "output_type": "stream",
          "name": "stdout",
          "text": [
            "Mounted at /content/drive\n"
          ]
        }
      ]
    },
    {
      "cell_type": "code",
      "source": [
        "# redirect the working directory of this script to the data folder\n",
        "%cd /content/drive/MyDrive/data/"
      ],
      "metadata": {
        "colab": {
          "base_uri": "https://localhost:8080/"
        },
        "id": "UG1MwJ4Y1U_h",
        "outputId": "4859afb5-d910-481a-9c76-a85dde32bc60"
      },
      "execution_count": 2,
      "outputs": [
        {
          "output_type": "stream",
          "name": "stdout",
          "text": [
            "/content/drive/MyDrive/data\n"
          ]
        }
      ]
    },
    {
      "cell_type": "markdown",
      "source": [
        "## Load data"
      ],
      "metadata": {
        "id": "Ej0F6zHR1Xz3"
      }
    },
    {
      "cell_type": "markdown",
      "source": [
        "### Method 1: get csv files "
      ],
      "metadata": {
        "id": "6Ny15n7AO8PV"
      }
    },
    {
      "cell_type": "code",
      "source": [
        "import tqdm as tqdm\n",
        "import os\n",
        "import pandas as pd\n",
        "import re \n",
        "\n",
        "folder_path = \"filtered2\""
      ],
      "metadata": {
        "id": "Pb-1q-dqzgQH"
      },
      "execution_count": 56,
      "outputs": []
    },
    {
      "cell_type": "code",
      "source": [
        "dfs = []\n",
        "\n",
        "# loop through files \n",
        "for filename in os.listdir(folder_path):\n",
        "    # if csv file, load and add to dfs  \n",
        "    if filename.endswith(\".csv\"):\n",
        "        file_path = os.path.join(folder_path, filename)\n",
        "        df = pd.read_csv(file_path)\n",
        "        dfs.append(df)\n",
        "\n",
        "# combine files in df\n",
        "df = pd.concat(dfs, ignore_index=True)"
      ],
      "metadata": {
        "id": "ktoRDGajzoqi"
      },
      "execution_count": null,
      "outputs": []
    },
    {
      "cell_type": "markdown",
      "source": [
        "### Method 2: get a csv file"
      ],
      "metadata": {
        "id": "pFNlGnG7PD23"
      }
    },
    {
      "cell_type": "code",
      "source": [
        "import tqdm as tqdm\n",
        "import os\n",
        "import pandas as pd\n",
        "\n",
        "df_subset = pd.read_csv('sample.csv', encoding='utf-8')"
      ],
      "metadata": {
        "id": "RP4BKUzjPIF5"
      },
      "execution_count": 96,
      "outputs": []
    },
    {
      "cell_type": "markdown",
      "source": [
        "## Inspect data\n"
      ],
      "metadata": {
        "id": "LnID3c_t7ZUq"
      }
    },
    {
      "cell_type": "code",
      "source": [
        "df_subset.info()"
      ],
      "metadata": {
        "colab": {
          "base_uri": "https://localhost:8080/"
        },
        "id": "fgPmz-4T7aw6",
        "outputId": "39417999-e7ac-4dcb-a434-503e27e02f13"
      },
      "execution_count": 98,
      "outputs": [
        {
          "output_type": "stream",
          "name": "stdout",
          "text": [
            "<class 'pandas.core.frame.DataFrame'>\n",
            "RangeIndex: 50 entries, 0 to 49\n",
            "Data columns (total 9 columns):\n",
            " #   Column      Non-Null Count  Dtype \n",
            "---  ------      --------------  ----- \n",
            " 0   Unnamed: 0  50 non-null     int64 \n",
            " 1   artikel_id  50 non-null     object\n",
            " 2   name        50 non-null     object\n",
            " 3   jahrgang    50 non-null     int64 \n",
            " 4   datum       50 non-null     int64 \n",
            " 5   ressort     48 non-null     object\n",
            " 6   titel       50 non-null     object\n",
            " 7   untertitel  22 non-null     object\n",
            " 8   text        50 non-null     object\n",
            "dtypes: int64(3), object(6)\n",
            "memory usage: 3.6+ KB\n"
          ]
        }
      ]
    },
    {
      "cell_type": "code",
      "source": [
        "# remove first column \n",
        "df_subset1 = df_subset.drop(\"Unnamed: 0\", axis=1)"
      ],
      "metadata": {
        "id": "-tWQnYG3CG1c"
      },
      "execution_count": 99,
      "outputs": []
    },
    {
      "cell_type": "markdown",
      "source": [
        "## Create a random subset of the data "
      ],
      "metadata": {
        "id": "Ieb0Shf71cvu"
      }
    },
    {
      "cell_type": "code",
      "source": [
        "# size of subset we want \n",
        "number = 100"
      ],
      "metadata": {
        "id": "bGL1Cb9R8fLD"
      },
      "execution_count": null,
      "outputs": []
    },
    {
      "cell_type": "code",
      "source": [
        "perc = number/df1.shape[0]\n",
        "df_subset = df1.sample(frac=perc, random_state=42)"
      ],
      "metadata": {
        "id": "_7qzAZDi778j"
      },
      "execution_count": null,
      "outputs": []
    },
    {
      "cell_type": "code",
      "source": [
        "df_subset.info()"
      ],
      "metadata": {
        "colab": {
          "base_uri": "https://localhost:8080/"
        },
        "id": "GhbZJTRh8ScI",
        "outputId": "c3ef2bc4-3497-4647-9dba-09d1a6867872"
      },
      "execution_count": null,
      "outputs": [
        {
          "output_type": "stream",
          "name": "stdout",
          "text": [
            "<class 'pandas.core.frame.DataFrame'>\n",
            "Int64Index: 100 entries, 141433 to 1157830\n",
            "Data columns (total 8 columns):\n",
            " #   Column      Non-Null Count  Dtype  \n",
            "---  ------      --------------  -----  \n",
            " 0   artikel_id  100 non-null    object \n",
            " 1   name        100 non-null    object \n",
            " 2   jahrgang    100 non-null    object \n",
            " 3   datum       100 non-null    float64\n",
            " 4   ressort     89 non-null     object \n",
            " 5   titel       92 non-null     object \n",
            " 6   untertitel  37 non-null     object \n",
            " 7   text        100 non-null    object \n",
            "dtypes: float64(1), object(7)\n",
            "memory usage: 7.0+ KB\n"
          ]
        }
      ]
    },
    {
      "cell_type": "markdown",
      "source": [
        "## Adjust format for export"
      ],
      "metadata": {
        "id": "5FJOlUvd1gHQ"
      }
    },
    {
      "cell_type": "markdown",
      "source": [
        "### String fixes "
      ],
      "metadata": {
        "id": "1IRqAQmlPjPX"
      }
    },
    {
      "cell_type": "code",
      "source": [
        "# remove square brackets \n",
        "df_subset1[\"text\"] = df_subset1[\"text\"].apply(lambda x: x[1:-1] if (isinstance(x, str) and x.startswith(\"[\") and x.endswith(\"]\")) else x)\n",
        "# remove backward slashes\n",
        "df_subset1['text'] = df_subset1['text'].str.replace('\\\\', '', regex = False)\n",
        "# remove genios styles\n",
        "df_subset1[\"text\"] = df_subset1[\"text\"].apply(lambda x: re.sub(r'<.*?>', '', x))"
      ],
      "metadata": {
        "id": "vvPEYNFg7-8X"
      },
      "execution_count": 100,
      "outputs": []
    },
    {
      "cell_type": "code",
      "source": [
        "# function to split strings to list\n",
        "def split_to_list(s):\n",
        "    return s.split(\"', '\")"
      ],
      "metadata": {
        "id": "2PYSBtqxE5nW"
      },
      "execution_count": 101,
      "outputs": []
    },
    {
      "cell_type": "code",
      "source": [
        "# apply function to whole column\n",
        "df_subset1['text'] = df_subset1['text'].apply(split_to_list)"
      ],
      "metadata": {
        "id": "D7LTol01E8ZV"
      },
      "execution_count": 102,
      "outputs": []
    },
    {
      "cell_type": "code",
      "source": [
        "# add new line to separate paragraphs \n",
        "df_subset1['text'] = df_subset1['text'].apply(lambda x: [char+'\\n' for char in x])"
      ],
      "metadata": {
        "id": "fzVFChcFLcfZ"
      },
      "execution_count": 103,
      "outputs": []
    },
    {
      "cell_type": "markdown",
      "source": [
        "### Explode by paragraphs"
      ],
      "metadata": {
        "id": "Aa-slP38P5KQ"
      }
    },
    {
      "cell_type": "code",
      "source": [
        "# Explode \"text\" column\n",
        "df_elinor = df_subset1.explode(\"text\")\n",
        "\n",
        "# Filter out paragraphs with less than 5 words\n",
        "df_elinor1 = df_elinor[df_elinor[\"text\"].apply(lambda x: len(x.split()) >= 5)]\n",
        "\n",
        "# Create \"artikel_order\" column\n",
        "df_elinor1[\"artikel_order\"] = df_elinor1.groupby(\"artikel_id\").cumcount() + 1\n"
      ],
      "metadata": {
        "colab": {
          "base_uri": "https://localhost:8080/"
        },
        "id": "h22XwUD9P25d",
        "outputId": "c0a922d6-5ce2-4dda-e44d-2c43d48bc936"
      },
      "execution_count": 158,
      "outputs": [
        {
          "output_type": "stream",
          "name": "stderr",
          "text": [
            "<ipython-input-158-bed3ffa0ab5a>:8: SettingWithCopyWarning: \n",
            "A value is trying to be set on a copy of a slice from a DataFrame.\n",
            "Try using .loc[row_indexer,col_indexer] = value instead\n",
            "\n",
            "See the caveats in the documentation: https://pandas.pydata.org/pandas-docs/stable/user_guide/indexing.html#returning-a-view-versus-a-copy\n",
            "  df_elinor1[\"artikel_order\"] = df_elinor1.groupby(\"artikel_id\").cumcount() + 1\n"
          ]
        }
      ]
    },
    {
      "cell_type": "markdown",
      "source": [
        "### Get length of paragraphs"
      ],
      "metadata": {
        "id": "FyGZx5r1tgLt"
      }
    },
    {
      "cell_type": "code",
      "source": [
        "import statistics\n",
        "\n",
        "# function to count sentences and get summary statistics\n",
        "def count_sentences(paragraphs):\n",
        "    sentence_counts = [len(paragraph.split('.')) for paragraph in paragraphs]\n",
        "    return {'mean': statistics.mean(sentence_counts),\n",
        "            'max': max(sentence_counts),\n",
        "            'min': min(sentence_counts),\n",
        "            'mode': statistics.mode(sentence_counts)}"
      ],
      "metadata": {
        "id": "V1o4qe36uQmL"
      },
      "execution_count": 159,
      "outputs": []
    },
    {
      "cell_type": "code",
      "source": [
        "summary = count_sentences(df_elinor1['text'])\n",
        "print(\"Sentence length:\", summary)"
      ],
      "metadata": {
        "id": "7pzjdbKTuSpJ",
        "outputId": "40ef1f6b-536d-4d6a-9f81-1c7d3254c36f",
        "colab": {
          "base_uri": "https://localhost:8080/"
        }
      },
      "execution_count": 171,
      "outputs": [
        {
          "output_type": "stream",
          "name": "stdout",
          "text": [
            "Sentence length: {'mean': 5.352941176470588, 'max': 49, 'min': 1, 'mode': 4}\n"
          ]
        }
      ]
    },
    {
      "cell_type": "code",
      "source": [
        "import matplotlib.pyplot as plt\n",
        "\n",
        "# Get word length\n",
        "df_elinor1['num_sentences'] = df_elinor1['text'].apply(lambda x: len(x))\n",
        "\n",
        "# Create a bar chart\n",
        "plt.bar(df_elinor1['num_sentences'].unique(), df_elinor1['num_sentences'].value_counts())\n",
        "\n",
        "# Create a bar chart\n",
        "plt.bar(df_elinor1['num_sentences'].unique(), df_elinor1['num_sentences'].value_counts())\n",
        "\n",
        "# Set axis labels and title\n",
        "plt.xlabel('Number of Sentences')\n",
        "plt.ylabel('Count')\n",
        "plt.title('Distribution of Number of Words')\n",
        "\n",
        "# Show the plot\n",
        "plt.show()"
      ],
      "metadata": {
        "id": "q_fUvZ9ZvkT0",
        "outputId": "c1dbe00a-cfdc-4b61-f1c1-7077309621c7",
        "colab": {
          "base_uri": "https://localhost:8080/",
          "height": 596
        }
      },
      "execution_count": 173,
      "outputs": [
        {
          "output_type": "stream",
          "name": "stderr",
          "text": [
            "<ipython-input-173-9189162aad6e>:4: SettingWithCopyWarning: \n",
            "A value is trying to be set on a copy of a slice from a DataFrame.\n",
            "Try using .loc[row_indexer,col_indexer] = value instead\n",
            "\n",
            "See the caveats in the documentation: https://pandas.pydata.org/pandas-docs/stable/user_guide/indexing.html#returning-a-view-versus-a-copy\n",
            "  df_elinor1['num_sentences'] = df_elinor1['text'].apply(lambda x: len(x))\n"
          ]
        },
        {
          "output_type": "display_data",
          "data": {
            "text/plain": [
              "<Figure size 640x480 with 1 Axes>"
            ],
            "image/png": "[encoded data removed]"
          },
          "metadata": {}
        }
      ]
    },
    {
      "cell_type": "markdown",
      "source": [
        "### Inspect paragraphs by length"
      ],
      "metadata": {
        "id": "6Q9urAFbwJJ4"
      }
    },
    {
      "cell_type": "code",
      "source": [
        "df_elinor1['num_sentences'] = df_elinor1['text'].apply(lambda x: len(x))\n",
        "df_subset_length = df_elinor1[df_elinor1['num_sentences'] < 1000]\n"
      ],
      "metadata": {
        "id": "7JH8-KqMwIfK",
        "outputId": "27b5e3bd-8191-43fc-fe91-2e7479592c46",
        "colab": {
          "base_uri": "https://localhost:8080/"
        }
      },
      "execution_count": 177,
      "outputs": [
        {
          "output_type": "stream",
          "name": "stderr",
          "text": [
            "<ipython-input-177-87e1ef3145aa>:1: SettingWithCopyWarning: \n",
            "A value is trying to be set on a copy of a slice from a DataFrame.\n",
            "Try using .loc[row_indexer,col_indexer] = value instead\n",
            "\n",
            "See the caveats in the documentation: https://pandas.pydata.org/pandas-docs/stable/user_guide/indexing.html#returning-a-view-versus-a-copy\n",
            "  df_elinor1['num_sentences'] = df_elinor1['text'].apply(lambda x: len(x))\n"
          ]
        }
      ]
    },
    {
      "cell_type": "code",
      "source": [
        "for row in df_subset_length['text']:\n",
        "  print(row)"
      ],
      "metadata": {
        "id": "CBUzk-dLwU-n"
      },
      "execution_count": null,
      "outputs": []
    },
    {
      "cell_type": "markdown",
      "source": [
        "### Randomly select one paragraph per article"
      ],
      "metadata": {
        "id": "D_4vCxClhzl2"
      }
    },
    {
      "cell_type": "code",
      "source": [
        "# function to randomly select one row\n",
        "def random_select(group):\n",
        "    return group.sample(n=1, random_state=1)\n"
      ],
      "metadata": {
        "id": "JqUnwCeah4yK"
      },
      "execution_count": 183,
      "outputs": []
    },
    {
      "cell_type": "code",
      "source": [
        "# Apply function to randomly select one row per unique artikel_id\n",
        "df_elinor2 = df_elinor1.groupby(\"artikel_id\").apply(random_select).reset_index(drop=True)\n"
      ],
      "metadata": {
        "id": "GIhnCjImh6wL"
      },
      "execution_count": 184,
      "outputs": []
    },
    {
      "cell_type": "code",
      "source": [
        "len(df_elinor2)"
      ],
      "metadata": {
        "colab": {
          "base_uri": "https://localhost:8080/"
        },
        "id": "g2eojg8XiCZB",
        "outputId": "8870af3e-d7c5-491e-9990-aa4d3b1d2818"
      },
      "execution_count": 185,
      "outputs": [
        {
          "output_type": "execute_result",
          "data": {
            "text/plain": [
              "50"
            ]
          },
          "metadata": {},
          "execution_count": 185
        }
      ]
    },
    {
      "cell_type": "code",
      "source": [
        "df_elinor3 = df_elinor2[['text']]"
      ],
      "metadata": {
        "id": "RyGnjV43ih1D"
      },
      "execution_count": 108,
      "outputs": []
    },
    {
      "cell_type": "markdown",
      "source": [
        "## Export as csv"
      ],
      "metadata": {
        "id": "0Go0cc9U1kpE"
      }
    },
    {
      "cell_type": "code",
      "source": [
        "output_path = \"elinor\""
      ],
      "metadata": {
        "id": "ItHRtFVP9vl_"
      },
      "execution_count": 109,
      "outputs": []
    },
    {
      "cell_type": "code",
      "source": [
        "df_elinor3.to_csv(output_path+\"/annotation_test3.csv\", index=False, header = True,\n",
        "                  encoding = 'utf-8',\n",
        "                  sep=\"\\t\")"
      ],
      "metadata": {
        "id": "dJO8Splt9raZ"
      },
      "execution_count": 111,
      "outputs": []
    }
  ]
}