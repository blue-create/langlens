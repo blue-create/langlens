{
  "nbformat": 4,
  "nbformat_minor": 0,
  "metadata": {
    "colab": {
      "provenance": [],
      "collapsed_sections": [
        "QYjhPHYZ1MVO",
        "Ieb0Shf71cvu",
        "7Kwdv6Uim224",
        "1IRqAQmlPjPX",
        "B0XvJlNRjzcu",
        "lGyzcy6unPdT"
      ]
    },
    "kernelspec": {
      "name": "python3",
      "display_name": "Python 3"
    },
    "language_info": {
      "name": "python"
    }
  },
  "cells": [
    {
      "cell_type": "markdown",
      "source": [
        "# Purpose\n",
        "\n",
        "This file shows the steps we took to sample and create the annotation dataset."
      ],
      "metadata": {
        "id": "Q1MHyZaI09-2"
      }
    },
    {
      "cell_type": "markdown",
      "source": [
        "## Connect with Google drive to access data \n",
        "\n",
        "In order to access the data, you first need to create a shortcut of the data folder to your own Gdrive. If you've been granted editing rights, you should be able to edit the content of the folder, i.e. add, move and delete data, create and rename folders, etc."
      ],
      "metadata": {
        "id": "QYjhPHYZ1MVO"
      }
    },
    {
      "cell_type": "code",
      "source": [
        "# connect with google drive\n",
        "from google.colab import drive\n",
        "drive.mount('/content/drive')"
      ],
      "metadata": {
        "colab": {
          "base_uri": "https://localhost:8080/"
        },
        "id": "3-gEE8t61TyI",
        "outputId": "4f7e36c7-ebe6-49b0-9ae5-4fac4ae9d63f"
      },
      "execution_count": 74,
      "outputs": [
        {
          "output_type": "stream",
          "name": "stdout",
          "text": [
            "Drive already mounted at /content/drive; to attempt to forcibly remount, call drive.mount(\"/content/drive\", force_remount=True).\n"
          ]
        }
      ]
    },
    {
      "cell_type": "code",
      "source": [
        "# redirect the working directory of this script to the data folder\n",
        "%cd /content/drive/MyDrive/Work/Frontline/data/\n",
        "#%cd /content/drive/MyDrive/data/"
      ],
      "metadata": {
        "colab": {
          "base_uri": "https://localhost:8080/"
        },
        "id": "UG1MwJ4Y1U_h",
        "outputId": "7b8fdf8d-db3f-4ae0-a20f-cffc7c22eebe"
      },
      "execution_count": 75,
      "outputs": [
        {
          "output_type": "stream",
          "name": "stdout",
          "text": [
            "/content/drive/.shortcut-targets-by-id/1WfnZsqpG1r110J63sMbfS5TpsDOkveiV/data\n"
          ]
        }
      ]
    },
    {
      "cell_type": "markdown",
      "source": [
        "## Load data"
      ],
      "metadata": {
        "id": "Ej0F6zHR1Xz3"
      }
    },
    {
      "cell_type": "code",
      "source": [
        "import tqdm as tqdm\n",
        "from collections import Counter\n",
        "import os\n",
        "import pandas as pd\n",
        "import re \n",
        "from ast import literal_eval\n",
        "import statistics\n",
        "import matplotlib.pyplot as plt\n",
        "import re\n",
        "import pandas as pd\n",
        "\n",
        "folder_path = \"filtered_4_26\""
      ],
      "metadata": {
        "id": "Pb-1q-dqzgQH"
      },
      "execution_count": 76,
      "outputs": []
    },
    {
      "cell_type": "markdown",
      "source": [
        "### Method 1: get csv files "
      ],
      "metadata": {
        "id": "6Ny15n7AO8PV"
      }
    },
    {
      "cell_type": "code",
      "source": [
        "\n",
        "dfs = []\n",
        "\n",
        "# loop through files \n",
        "for filename in os.listdir(folder_path):\n",
        "    # if csv file, load and add to dfs  \n",
        "    if filename.endswith(\".csv\"):\n",
        "        file_path = os.path.join(folder_path, filename)\n",
        "        # import csv with text as list object \n",
        "        df = pd.read_csv(file_path, index_col=0, converters={\"text\":literal_eval})\n",
        "        dfs.append(df)\n",
        "# combine files in df\n",
        "df_filtered = pd.concat(dfs, ignore_index=True)"
      ],
      "metadata": {
        "id": "ktoRDGajzoqi"
      },
      "execution_count": 77,
      "outputs": []
    },
    {
      "cell_type": "markdown",
      "source": [
        "#### Create a random subset of the data "
      ],
      "metadata": {
        "id": "Ieb0Shf71cvu"
      }
    },
    {
      "cell_type": "code",
      "source": [
        "# size of subset we want \n",
        "number = 5000"
      ],
      "metadata": {
        "id": "bGL1Cb9R8fLD"
      },
      "execution_count": 78,
      "outputs": []
    },
    {
      "cell_type": "code",
      "source": [
        "df_sample = df_filtered.sample(number,)# random_state=42)"
      ],
      "metadata": {
        "id": "_7qzAZDi778j"
      },
      "execution_count": 79,
      "outputs": []
    },
    {
      "cell_type": "markdown",
      "source": [
        "### Method 2: get a csv file"
      ],
      "metadata": {
        "id": "pFNlGnG7PD23"
      }
    },
    {
      "cell_type": "code",
      "source": [
        "df_sample_file = pd.read_csv('sample.csv', encoding='utf-8', index_col=0)"
      ],
      "metadata": {
        "id": "RP4BKUzjPIF5"
      },
      "execution_count": 80,
      "outputs": []
    },
    {
      "cell_type": "markdown",
      "source": [
        "### Method 3: Manually selected dataset of relevant articles\n",
        "--> ensuring that the dataset only contains relevant articles, espscially for testing"
      ],
      "metadata": {
        "id": "17Rx0STiu1nu"
      }
    },
    {
      "cell_type": "code",
      "source": [
        "subset_dv=df_filtered.loc[(11483,14044,62494,49199,11047,14948,10565,31059,58890,20347,55396,56389,5528,18532,59435,8035,27119,12788,59992,21477,10331,26314,45356,61023,31865,48960,44587,17992,14763,60043,20540,4563,13213,6751,43374,41018,38770,24654,21936,29297,1869,33163,60220,61232,57613,48979,33785,51576,8300,7675),:]"
      ],
      "metadata": {
        "id": "bbKfHRI1u7ag"
      },
      "execution_count": 81,
      "outputs": []
    },
    {
      "cell_type": "markdown",
      "source": [
        "### Select Data\n",
        "--> specify which data set of the three above methods should be used in the following analysis"
      ],
      "metadata": {
        "id": "VXVyMc5mkWGM"
      }
    },
    {
      "cell_type": "code",
      "source": [
        "# uncomment for full data set\n",
        "df_subset=df_filtered\n",
        "\n",
        "# uncomment for random data of 100 from full data set\n",
        "#df_subset=df_sample\n",
        "\n",
        "# uncomment for sample data set from csv file\n",
        "# df_subset= df_sample_file\n",
        "\n",
        "# uncomment for manually selected articles \n",
        "# df_subset = subset_dv"
      ],
      "metadata": {
        "id": "5-OJXUYwkhZ2"
      },
      "execution_count": 82,
      "outputs": []
    },
    {
      "cell_type": "markdown",
      "source": [
        "## Adjust format for export"
      ],
      "metadata": {
        "id": "5FJOlUvd1gHQ"
      }
    },
    {
      "cell_type": "markdown",
      "source": [
        "### Methods"
      ],
      "metadata": {
        "id": "7Kwdv6Uim224"
      }
    },
    {
      "cell_type": "code",
      "source": [
        "def reformat_article(art, min_words=5, max_words=125):\n",
        "  # remove genios styles \n",
        "  art = [re.sub(r'<.*?>', '', x) for x in art]\n",
        "\n",
        "  # remove new line characters and preceeding whitespaces\n",
        "  art = [x.strip() for x in art]\n",
        "\n",
        "  #remove empty paragraphs\n",
        "  art = [x for x in art if x.strip()]\n",
        "\n",
        "  #remove paragraphs that are too long\n",
        "  art = [x for x in art if len(x.split()) < max_words]\n",
        "\n",
        "  #remove paragraphs that are too short, ie. by default 3 or fewer words\n",
        "  art = [x for x in art if len(x.split()) >= min_words]  \n",
        "\n",
        "  return art"
      ],
      "metadata": {
        "id": "beTpoSVOZowg"
      },
      "execution_count": 83,
      "outputs": []
    },
    {
      "cell_type": "code",
      "source": [
        "def occurs(text,word):\n",
        "  \"\"\" function to check if a words occurs in a text\n",
        "  Parameters:\n",
        "    - word (str): word that is searched for\n",
        "    - text (str): text that is searched in \n",
        "  Returns:\n",
        "    - boolean: returns True if word occurs in text, False otherwise\n",
        "  \"\"\"\n",
        "  if type(text)!=str:\n",
        "    return False\n",
        "  text=text.lower()\n",
        "  word=word.lower()\n",
        "  if len(re.findall(word,text))>0:\n",
        "    return True\n",
        "  else:\n",
        "    return False"
      ],
      "metadata": {
        "id": "P8xAVqhbYsQp"
      },
      "execution_count": 84,
      "outputs": []
    },
    {
      "cell_type": "code",
      "source": [
        "def filter_title(title, to_exclude):\n",
        "  \"\"\" function to filter article by title\n",
        "  Parameters:\n",
        "    - title (str): title that is checked\n",
        "  Returns:\n",
        "    - boolean: returns True if either\n",
        "        - there is no title\n",
        "        - the title does not contain any of the words in the list to_exclude\n",
        "  \"\"\"\n",
        "  if type(title)!=str:\n",
        "    return True\n",
        "  title=title.strip()\n",
        "  for ex in to_exclude:\n",
        "    if ex.lower() == title.lower(): \n",
        "      return False\n",
        "  return True"
      ],
      "metadata": {
        "id": "EN5THognY36L"
      },
      "execution_count": 85,
      "outputs": []
    },
    {
      "cell_type": "code",
      "source": [
        "def first_words_filter(text,to_exclude, number_of_words=3):\n",
        "  \"\"\" function to filter article by its first words\n",
        "  Parameters:\n",
        "    - text (str): title that is checked\n",
        "  Returns:\n",
        "    - boolean: returns True if the first n words do not contain any of the words in the list to_exclude\n",
        "  \"\"\"\n",
        "  if type(text)==list:\n",
        "    text=text[0]\n",
        "  # remove special characters\n",
        "  text=re.sub(\"[/\\-!@#$%^&*:.]\", \" \", text)\n",
        "  first_words=text.split()[:number_of_words]\n",
        "\n",
        "  # remove whitespace and convert to lower case\n",
        "  first_words=[word.strip().lower() for word in first_words]\n",
        "  for ex in to_exclude:\n",
        "    if ex.lower() in first_words: \n",
        "      return False\n",
        "  return True"
      ],
      "metadata": {
        "id": "vMhD4MlJvghU"
      },
      "execution_count": 86,
      "outputs": []
    },
    {
      "cell_type": "code",
      "source": [
        "def regex_search(text, regex):\n",
        "  if len(re.findall(regex,text))>0:\n",
        "    return False\n",
        "  else:\n",
        "    return True\n"
      ],
      "metadata": {
        "id": "j9Pji8FsR68k"
      },
      "execution_count": 87,
      "outputs": []
    },
    {
      "cell_type": "markdown",
      "source": [
        "## Cleaning text:\n",
        "- remove newline characters\n",
        "- remove paragraphs if too long or short\n",
        "- remove genios styles \n",
        "- remove empty paragraphs\n",
        "- remove duplicate articles"
      ],
      "metadata": {
        "id": "1IRqAQmlPjPX"
      }
    },
    {
      "cell_type": "code",
      "source": [
        "df_subset[\"text\"] = [ reformat_article(art) for art in df_subset[\"text\"]]\n",
        "df_subset.shape"
      ],
      "metadata": {
        "id": "uGaaq0t53tzy",
        "colab": {
          "base_uri": "https://localhost:8080/"
        },
        "outputId": "023254a1-f1da-42dc-fe15-71ee12d9b03e"
      },
      "execution_count": 88,
      "outputs": [
        {
          "output_type": "execute_result",
          "data": {
            "text/plain": [
              "(63359, 8)"
            ]
          },
          "metadata": {},
          "execution_count": 88
        }
      ]
    },
    {
      "cell_type": "code",
      "source": [
        "# remove \"empty\" articles, that wereremove in the previous step\n",
        "df_subset=df_subset[df_subset['text'].notna()] \n",
        "df_subset=df_subset[df_subset['text'].apply(len)!=0]\n",
        "df_subset.shape"
      ],
      "metadata": {
        "id": "pqYcwiaMgvuw",
        "colab": {
          "base_uri": "https://localhost:8080/"
        },
        "outputId": "4d1c54d8-6284-46eb-a7d2-a647b91a4fd1"
      },
      "execution_count": 89,
      "outputs": [
        {
          "output_type": "execute_result",
          "data": {
            "text/plain": [
              "(59658, 8)"
            ]
          },
          "metadata": {},
          "execution_count": 89
        }
      ]
    },
    {
      "cell_type": "code",
      "source": [
        "df_subset=df_subset.drop_duplicates(\"text\", keep=\"first\")\n",
        "df_subset.shape"
      ],
      "metadata": {
        "id": "5ufZh7u0EOaX",
        "colab": {
          "base_uri": "https://localhost:8080/"
        },
        "outputId": "d43a5bf9-8b03-43c1-af4f-01937ecc9ae7"
      },
      "execution_count": 90,
      "outputs": [
        {
          "output_type": "execute_result",
          "data": {
            "text/plain": [
              "(46288, 8)"
            ]
          },
          "metadata": {},
          "execution_count": 90
        }
      ]
    },
    {
      "cell_type": "code",
      "source": [
        "df_subset_clean=df_subset"
      ],
      "metadata": {
        "id": "fCcu3CNXtEbP"
      },
      "execution_count": 178,
      "outputs": []
    },
    {
      "cell_type": "markdown",
      "source": [
        "## Filter by content: "
      ],
      "metadata": {
        "id": "hg0VDadS_J8r"
      }
    },
    {
      "cell_type": "code",
      "source": [
        "# temporaray: step is part of format_data\n",
        "df_subset_clean=df_subset_clean[df_subset_clean[\"name\"]!=\"Falter (APA)\"]\n",
        "df_subset_clean=df_subset_clean[df_subset_clean[\"name\"]!=\"Der Rheintaler\"]"
      ],
      "metadata": {
        "id": "HAV1_48TMXfv"
      },
      "execution_count": 179,
      "outputs": []
    },
    {
      "cell_type": "markdown",
      "source": [
        "#### Duplicates: Filter out dupilcates across newspapers"
      ],
      "metadata": {
        "id": "ujzpcFALi9NO"
      }
    },
    {
      "cell_type": "code",
      "source": [
        "df_subset_clean.artikel_id=df_subset_clean.artikel_id.astype(str)"
      ],
      "metadata": {
        "id": "rWmZs8WjjVvG"
      },
      "execution_count": 186,
      "outputs": []
    },
    {
      "cell_type": "code",
      "source": [
        "#example of duplicates\n",
        "df_subset_clean[df_subset_clean.duplicated(keep=False, subset=[\"artikel_id\", \"titel\"])].sort_values(\"artikel_id\").head(4)"
      ],
      "metadata": {
        "colab": {
          "base_uri": "https://localhost:8080/",
          "height": 175
        },
        "id": "3SFlqj9Ki5be",
        "outputId": "de1b92b8-137b-4aa5-df9f-b17451e812eb"
      },
      "execution_count": 191,
      "outputs": [
        {
          "output_type": "execute_result",
          "data": {
            "text/plain": [
              "      artikel_id                 name  jahrgang     datum      ressort  \\\n",
              "52989   14054480  Münsterland Zeitung    2018.0  20180109  Nachrichten   \n",
              "11737   14054480     Ruhr Nachrichten    2018.0  20180109  Nachrichten   \n",
              "52990   14081543  Münsterland Zeitung    2018.0  20180126   Titelseite   \n",
              "11711   14081543     Ruhr Nachrichten    2018.0  20180126   Titelseite   \n",
              "\n",
              "                                      titel  \\\n",
              "52989  Soldat schweigt nach tödlichem Drama   \n",
              "11737  Soldat schweigt nach tödlichem Drama   \n",
              "52990        Neues Konzept für Frauenhäuser   \n",
              "11711        Neues Konzept für Frauenhäuser   \n",
              "\n",
              "                                              untertitel  \\\n",
              "52989                      Ex-Freundin im Streit erwürgt   \n",
              "11737                      Ex-Freundin im Streit erwürgt   \n",
              "52990  Düsseldorf. Die NRW-Landesregierung testet neu...   \n",
              "11711  Düsseldorf. Die NRW-Landesregierung testet neu...   \n",
              "\n",
              "                                                    text  \n",
              "52989  [Münster. Nach einem tödlichen Beziehungsdrama...  \n",
              "11737  [Nach einem tödlichen Beziehungsdrama hat am M...  \n",
              "52990  [Von Kirsten Bialdiga  Um den Bedarf an Plätze...  \n",
              "11711  [Um den Bedarf an Plätzen in Frauenhäusern lan...  "
            ],
            "text/html": [
              "\n",
              "  <div id=\"df-d3346458-7cff-4364-a672-992a283fd57d\">\n",
              "    <div class=\"colab-df-container\">\n",
              "      <div>\n",
              "<style scoped>\n",
              "    .dataframe tbody tr th:only-of-type {\n",
              "        vertical-align: middle;\n",
              "    }\n",
              "\n",
              "    .dataframe tbody tr th {\n",
              "        vertical-align: top;\n",
              "    }\n",
              "\n",
              "    .dataframe thead th {\n",
              "        text-align: right;\n",
              "    }\n",
              "</style>\n",
              "<table border=\"1\" class=\"dataframe\">\n",
              "  <thead>\n",
              "    <tr style=\"text-align: right;\">\n",
              "      <th></th>\n",
              "      <th>artikel_id</th>\n",
              "      <th>name</th>\n",
              "      <th>jahrgang</th>\n",
              "      <th>datum</th>\n",
              "      <th>ressort</th>\n",
              "      <th>titel</th>\n",
              "      <th>untertitel</th>\n",
              "      <th>text</th>\n",
              "    </tr>\n",
              "  </thead>\n",
              "  <tbody>\n",
              "    <tr>\n",
              "      <th>52989</th>\n",
              "      <td>14054480</td>\n",
              "      <td>Münsterland Zeitung</td>\n",
              "      <td>2018.0</td>\n",
              "      <td>20180109</td>\n",
              "      <td>Nachrichten</td>\n",
              "      <td>Soldat schweigt nach tödlichem Drama</td>\n",
              "      <td>Ex-Freundin im Streit erwürgt</td>\n",
              "      <td>[Münster. Nach einem tödlichen Beziehungsdrama...</td>\n",
              "    </tr>\n",
              "    <tr>\n",
              "      <th>11737</th>\n",
              "      <td>14054480</td>\n",
              "      <td>Ruhr Nachrichten</td>\n",
              "      <td>2018.0</td>\n",
              "      <td>20180109</td>\n",
              "      <td>Nachrichten</td>\n",
              "      <td>Soldat schweigt nach tödlichem Drama</td>\n",
              "      <td>Ex-Freundin im Streit erwürgt</td>\n",
              "      <td>[Nach einem tödlichen Beziehungsdrama hat am M...</td>\n",
              "    </tr>\n",
              "    <tr>\n",
              "      <th>52990</th>\n",
              "      <td>14081543</td>\n",
              "      <td>Münsterland Zeitung</td>\n",
              "      <td>2018.0</td>\n",
              "      <td>20180126</td>\n",
              "      <td>Titelseite</td>\n",
              "      <td>Neues Konzept für Frauenhäuser</td>\n",
              "      <td>Düsseldorf. Die NRW-Landesregierung testet neu...</td>\n",
              "      <td>[Von Kirsten Bialdiga  Um den Bedarf an Plätze...</td>\n",
              "    </tr>\n",
              "    <tr>\n",
              "      <th>11711</th>\n",
              "      <td>14081543</td>\n",
              "      <td>Ruhr Nachrichten</td>\n",
              "      <td>2018.0</td>\n",
              "      <td>20180126</td>\n",
              "      <td>Titelseite</td>\n",
              "      <td>Neues Konzept für Frauenhäuser</td>\n",
              "      <td>Düsseldorf. Die NRW-Landesregierung testet neu...</td>\n",
              "      <td>[Um den Bedarf an Plätzen in Frauenhäusern lan...</td>\n",
              "    </tr>\n",
              "  </tbody>\n",
              "</table>\n",
              "</div>\n",
              "      <button class=\"colab-df-convert\" onclick=\"convertToInteractive('df-d3346458-7cff-4364-a672-992a283fd57d')\"\n",
              "              title=\"Convert this dataframe to an interactive table.\"\n",
              "              style=\"display:none;\">\n",
              "        \n",
              "  <svg xmlns=\"http://www.w3.org/2000/svg\" height=\"24px\"viewBox=\"0 0 24 24\"\n",
              "       width=\"24px\">\n",
              "    <path d=\"M0 0h24v24H0V0z\" fill=\"none\"/>\n",
              "    <path d=\"M18.56 5.44l.94 2.06.94-2.06 2.06-.94-2.06-.94-.94-2.06-.94 2.06-2.06.94zm-11 1L8.5 8.5l.94-2.06 2.06-.94-2.06-.94L8.5 2.5l-.94 2.06-2.06.94zm10 10l.94 2.06.94-2.06 2.06-.94-2.06-.94-.94-2.06-.94 2.06-2.06.94z\"/><path d=\"M17.41 7.96l-1.37-1.37c-.4-.4-.92-.59-1.43-.59-.52 0-1.04.2-1.43.59L10.3 9.45l-7.72 7.72c-.78.78-.78 2.05 0 2.83L4 21.41c.39.39.9.59 1.41.59.51 0 1.02-.2 1.41-.59l7.78-7.78 2.81-2.81c.8-.78.8-2.07 0-2.86zM5.41 20L4 18.59l7.72-7.72 1.47 1.35L5.41 20z\"/>\n",
              "  </svg>\n",
              "      </button>\n",
              "      \n",
              "  <style>\n",
              "    .colab-df-container {\n",
              "      display:flex;\n",
              "      flex-wrap:wrap;\n",
              "      gap: 12px;\n",
              "    }\n",
              "\n",
              "    .colab-df-convert {\n",
              "      background-color: #E8F0FE;\n",
              "      border: none;\n",
              "      border-radius: 50%;\n",
              "      cursor: pointer;\n",
              "      display: none;\n",
              "      fill: #1967D2;\n",
              "      height: 32px;\n",
              "      padding: 0 0 0 0;\n",
              "      width: 32px;\n",
              "    }\n",
              "\n",
              "    .colab-df-convert:hover {\n",
              "      background-color: #E2EBFA;\n",
              "      box-shadow: 0px 1px 2px rgba(60, 64, 67, 0.3), 0px 1px 3px 1px rgba(60, 64, 67, 0.15);\n",
              "      fill: #174EA6;\n",
              "    }\n",
              "\n",
              "    [theme=dark] .colab-df-convert {\n",
              "      background-color: #3B4455;\n",
              "      fill: #D2E3FC;\n",
              "    }\n",
              "\n",
              "    [theme=dark] .colab-df-convert:hover {\n",
              "      background-color: #434B5C;\n",
              "      box-shadow: 0px 1px 3px 1px rgba(0, 0, 0, 0.15);\n",
              "      filter: drop-shadow(0px 1px 2px rgba(0, 0, 0, 0.3));\n",
              "      fill: #FFFFFF;\n",
              "    }\n",
              "  </style>\n",
              "\n",
              "      <script>\n",
              "        const buttonEl =\n",
              "          document.querySelector('#df-d3346458-7cff-4364-a672-992a283fd57d button.colab-df-convert');\n",
              "        buttonEl.style.display =\n",
              "          google.colab.kernel.accessAllowed ? 'block' : 'none';\n",
              "\n",
              "        async function convertToInteractive(key) {\n",
              "          const element = document.querySelector('#df-d3346458-7cff-4364-a672-992a283fd57d');\n",
              "          const dataTable =\n",
              "            await google.colab.kernel.invokeFunction('convertToInteractive',\n",
              "                                                     [key], {});\n",
              "          if (!dataTable) return;\n",
              "\n",
              "          const docLinkHtml = 'Like what you see? Visit the ' +\n",
              "            '<a target=\"_blank\" href=https://colab.research.google.com/notebooks/data_table.ipynb>data table notebook</a>'\n",
              "            + ' to learn more about interactive tables.';\n",
              "          element.innerHTML = '';\n",
              "          dataTable['output_type'] = 'display_data';\n",
              "          await google.colab.output.renderOutput(dataTable, element);\n",
              "          const docLink = document.createElement('div');\n",
              "          docLink.innerHTML = docLinkHtml;\n",
              "          element.appendChild(docLink);\n",
              "        }\n",
              "      </script>\n",
              "    </div>\n",
              "  </div>\n",
              "  "
            ]
          },
          "metadata": {},
          "execution_count": 191
        }
      ]
    },
    {
      "cell_type": "code",
      "source": [
        "df_subset_clean=df_subset_clean.drop_duplicates(keep=\"first\", subset=[\"artikel_id\"])\n",
        "df_subset_clean.shape"
      ],
      "metadata": {
        "colab": {
          "base_uri": "https://localhost:8080/"
        },
        "id": "85J8ru9xkNvt",
        "outputId": "1e6b97db-4f6d-4600-d13d-9a5c3473c8c0"
      },
      "execution_count": 198,
      "outputs": [
        {
          "output_type": "execute_result",
          "data": {
            "text/plain": [
              "(45734, 8)"
            ]
          },
          "metadata": {},
          "execution_count": 198
        }
      ]
    },
    {
      "cell_type": "markdown",
      "source": [
        "### Filter Articles by Title"
      ],
      "metadata": {
        "id": "B0XvJlNRjzcu"
      }
    },
    {
      "cell_type": "code",
      "source": [
        "exclude_titles=[\"Beratungsstellen\", \"Termine\",\"Hilfe\",\"Hier_finden_Sie_Hilfe_2sp\",\"was - wann - wo\",\"IN KÜRZE\",\"Kurz notiert :\",\"Dienstbereit - die Woche im Überblick\",\"Was - wann -wo\",\n",
        "                \"Beratung + Hilfe\", \"Beratung\", \"Nachrichten\",\"Hilfe bei häuslicher Gewalt\",\"Termine heute\",\"kurz & bündig\",\"tipps der redaktion\",\"WAS, WANN, WO\",\"service\",\"Hier gibt es Hilfe\",\"kurZNotiert\",\n",
        "                \"CORONA-NACHRICHTEN\",\"Kalenderblatt\"\n",
        "]"
      ],
      "metadata": {
        "id": "aZom_rZoY6wZ"
      },
      "execution_count": 199,
      "outputs": []
    },
    {
      "cell_type": "code",
      "source": [
        "# only keep articles with titles not in the exclude list (exact matches)\n",
        "df_subset_clean=df_subset_clean[df_subset_clean[\"titel\"].apply(filter_title,args=[exclude_titles])]\n",
        "df_subset_clean.shape"
      ],
      "metadata": {
        "id": "9zdmzlXGj1af",
        "colab": {
          "base_uri": "https://localhost:8080/"
        },
        "outputId": "78fae45f-7472-49e9-c5bf-60538bbfba73"
      },
      "execution_count": 200,
      "outputs": [
        {
          "output_type": "execute_result",
          "data": {
            "text/plain": [
              "(43536, 8)"
            ]
          },
          "metadata": {},
          "execution_count": 200
        }
      ]
    },
    {
      "cell_type": "code",
      "source": [
        "# filter based on keyword search\n",
        "df_subset_clean=df_subset_clean[~df_subset_clean.titel.apply(occurs, args=[\"beratungsstelle\"])]\n",
        "# articles usually contain contact info, funding, etc\n",
        "df_subset_clean=df_subset_clean[~df_subset_clean.titel.apply(occurs, args=[\"frauenhaus\"])]\n",
        "df_subset_clean=df_subset_clean[~df_subset_clean.titel.apply(occurs, args=[\"kampagne gegen\"])]\n",
        "df_subset_clean=df_subset_clean[~df_subset_clean.titel.apply(occurs, args=[\"aktion gegen\"])]\n",
        "df_subset_clean=df_subset_clean[~df_subset_clean.titel.apply(occurs, args=[\"statistik\"])]\n",
        "df_subset_clean=df_subset_clean[~df_subset_clean.titel.apply(occurs, args=[\"corona-krise\"])]\n",
        "df_subset_clean=df_subset_clean[~df_subset_clean.titel.apply(occurs, args=[\"fallzahlen\"])]\n",
        "df_subset_clean=df_subset_clean[~df_subset_clean.titel.apply(occurs, args=[\"corona-krise\"])]\n",
        "df_subset_clean=df_subset_clean[~df_subset_clean.titel.apply(occurs, args=[\"weißer ring\"])]\n",
        "df_subset_clean=df_subset_clean[~df_subset_clean.titel.apply(occurs, args=[\"Dienstbereit\"])]\n",
        "df_subset_clean.shape"
      ],
      "metadata": {
        "colab": {
          "base_uri": "https://localhost:8080/"
        },
        "id": "msaGyzKnUqHd",
        "outputId": "ec3c3af6-590c-4ec6-9ef6-6183ad367a76"
      },
      "execution_count": 201,
      "outputs": [
        {
          "output_type": "execute_result",
          "data": {
            "text/plain": [
              "(42107, 8)"
            ]
          },
          "metadata": {},
          "execution_count": 201
        }
      ]
    },
    {
      "cell_type": "markdown",
      "source": [
        "### Filter by Ressort"
      ],
      "metadata": {
        "id": "T0nJY77KKKUK"
      }
    },
    {
      "cell_type": "code",
      "source": [
        "#exclude certain type of articles\n",
        "df_subset_clean=df_subset_clean[df_subset_clean.ressort!=\"Termine\"]\n",
        "df_subset_clean=df_subset_clean[df_subset_clean.ressort!=\"TV\"]\n",
        "df_subset_clean=df_subset_clean[df_subset_clean.ressort!=\"tipps und termine\"]\n",
        "df_subset_clean=df_subset_clean[df_subset_clean.ressort!=\"Tipps und Termine\"]\n",
        "df_subset_clean=df_subset_clean[df_subset_clean.ressort!=\"Fernsehen\"]\n",
        "df_subset_clean=df_subset_clean[df_subset_clean.ressort!=\"Leserbriefe\"]\n",
        "df_subset_clean=df_subset_clean[df_subset_clean.ressort!=\"Gottesdienste\"]\n",
        "df_subset_clean=df_subset_clean[df_subset_clean.ressort!=\"Termine & Service\"]\n",
        "df_subset_clean=df_subset_clean[df_subset_clean.ressort!=\"SERVICE\"]\n",
        "df_subset_clean.shape"
      ],
      "metadata": {
        "colab": {
          "base_uri": "https://localhost:8080/"
        },
        "id": "J0oBrHFSKPUC",
        "outputId": "08fd0ca8-6cda-49e5-8d48-5e25c45ced6b"
      },
      "execution_count": 202,
      "outputs": [
        {
          "output_type": "execute_result",
          "data": {
            "text/plain": [
              "(41043, 8)"
            ]
          },
          "metadata": {},
          "execution_count": 202
        }
      ]
    },
    {
      "cell_type": "markdown",
      "source": [
        "### Filter by Subtitle"
      ],
      "metadata": {
        "id": "GpRXNDd-Rtuj"
      }
    },
    {
      "cell_type": "code",
      "source": [
        "df_subset_clean=df_subset_clean[df_subset_clean.untertitel!=\"TERMINE\"]\n",
        "df_subset_clean=df_subset_clean[df_subset_clean.untertitel!=\"Klatsch & Tratsch\"]\n",
        "df_subset_clean.shape"
      ],
      "metadata": {
        "colab": {
          "base_uri": "https://localhost:8080/"
        },
        "id": "lwrK4trwSUBy",
        "outputId": "28df6bf9-32d6-4d44-857c-91ffe0428be2"
      },
      "execution_count": 203,
      "outputs": [
        {
          "output_type": "execute_result",
          "data": {
            "text/plain": [
              "(41026, 8)"
            ]
          },
          "metadata": {},
          "execution_count": 203
        }
      ]
    },
    {
      "cell_type": "code",
      "source": [
        "#keyword serach to exclude articles about statistics, victim protection programs\n",
        "df_subset_clean=df_subset_clean[~df_subset_clean.untertitel.apply(occurs, args=[\"hotline\"])]\n",
        "df_subset_clean=df_subset_clean[~df_subset_clean.untertitel.apply(occurs, args=[\"beratungsstelle\"])]\n",
        "df_subset_clean=df_subset_clean[~df_subset_clean.untertitel.apply(occurs, args=[\"weißer ring\"])]\n",
        "df_subset_clean=df_subset_clean[~df_subset_clean.untertitel.apply(occurs, args=[\"Fernsehserie\"])]\n",
        "df_subset_clean=df_subset_clean[~df_subset_clean.untertitel.apply(occurs, args=[\"Hilfsangebote\"])]\n",
        "df_subset_clean=df_subset_clean[~df_subset_clean.untertitel.apply(occurs, args=[\"Kriminalitätsstatistik\"])]\n",
        "df_subset_clean=df_subset_clean[~df_subset_clean.untertitel.apply(occurs, args=[\"Kriminalstatistik\"])]\n",
        "\n",
        "df_subset_clean.shape"
      ],
      "metadata": {
        "colab": {
          "base_uri": "https://localhost:8080/"
        },
        "id": "pzSlK__lanmZ",
        "outputId": "21d52af2-34bd-4ab1-8757-6eed447c98f9"
      },
      "execution_count": 99,
      "outputs": [
        {
          "output_type": "execute_result",
          "data": {
            "text/plain": [
              "(40593, 8)"
            ]
          },
          "metadata": {},
          "execution_count": 99
        }
      ]
    },
    {
      "cell_type": "markdown",
      "source": [
        "### Filter by Text"
      ],
      "metadata": {
        "id": "lGyzcy6unPdT"
      }
    },
    {
      "cell_type": "code",
      "source": [
        "art_words_to_exclude=[# Notufe, Beratungen\n",
        "                        \"Bereitschaftsdienst\", \"Hotline\", \"Notruf\", \"Hilfetelefon\",\"behindertenfahrdienst\",\"Polizeiinspektion\", \n",
        "                        \"Feuerwehr\",\"rettungsdienst\", \"Notdienst\",\"Bereitschaftspraxis\",\"Öffnungszeiten\",\"Vergiftungen\",\n",
        "                        \"Ärztehaus\",\"Selbsthilfegruppe\",\"Leitstelle\",\"Tel\",\"Aids\",\"Ambulante\",\"ACE\", \n",
        "                        \"Club\",\"Interventionsstelle\",\"Frauenberatungsstelle\",\"Rufnummer\",\"Rufnummern\", \"apotheke\", \"hilfsangebot\",\"hilfsangebote\", \n",
        "                        \"opferhilfe\",\"Berufsbildungszentrum\",\"opferschutz\",\n",
        "                        # Kampagnen, Akitonen\n",
        "                        \"kampagne\", \"aktion\", \"ring\",\"initiative\",\n",
        "\n",
        "\n",
        "]"
      ],
      "metadata": {
        "id": "NLX7MQ6Fs1tg"
      },
      "execution_count": 204,
      "outputs": []
    },
    {
      "cell_type": "code",
      "source": [
        "# Filter out if keywords occur in the first 3 words of a text\n",
        "df_subset_clean=df_subset_clean[df_subset_clean[\"text\"].apply(first_words_filter,args=[art_words_to_exclude])]\n",
        "df_subset_clean.shape"
      ],
      "metadata": {
        "id": "I6--wvlqBpYz",
        "colab": {
          "base_uri": "https://localhost:8080/"
        },
        "outputId": "c993bb06-9244-46f6-b53b-f637a304929d"
      },
      "execution_count": 101,
      "outputs": [
        {
          "output_type": "execute_result",
          "data": {
            "text/plain": [
              "(31836, 8)"
            ]
          },
          "metadata": {},
          "execution_count": 101
        }
      ]
    },
    {
      "cell_type": "markdown",
      "source": [
        "### Filter by Paragraph"
      ],
      "metadata": {
        "id": "Aa-slP38P5KQ"
      }
    },
    {
      "cell_type": "code",
      "source": [
        "df_exploded=df_subset_clean"
      ],
      "metadata": {
        "id": "ObiRim-6IcbS"
      },
      "execution_count": 205,
      "outputs": []
    },
    {
      "cell_type": "code",
      "source": [
        "# Explode \"text\" column\n",
        "df_exploded= df_exploded.explode(\"text\")\n",
        "# Create \"artikel_order\" column\n",
        "df_exploded[\"artikel_order\"] = df_exploded.groupby(\"artikel_id\").cumcount() + 1\n",
        "df_exploded.shape"
      ],
      "metadata": {
        "id": "h22XwUD9P25d",
        "colab": {
          "base_uri": "https://localhost:8080/"
        },
        "outputId": "92e6afe3-efe7-428a-9570-9fa7d621dbf8"
      },
      "execution_count": 206,
      "outputs": [
        {
          "output_type": "execute_result",
          "data": {
            "text/plain": [
              "(658416, 9)"
            ]
          },
          "metadata": {},
          "execution_count": 206
        }
      ]
    },
    {
      "cell_type": "code",
      "source": [
        "# remove duplicated paragraphs\n",
        "df_exploded=df_exploded.drop_duplicates(\"text\")\n",
        "df_exploded.shape"
      ],
      "metadata": {
        "id": "IFEFiMM1Tkq1",
        "colab": {
          "base_uri": "https://localhost:8080/"
        },
        "outputId": "43000bcf-c20a-47ca-b1e9-f1ac73d26049"
      },
      "execution_count": 207,
      "outputs": [
        {
          "output_type": "execute_result",
          "data": {
            "text/plain": [
              "(251367, 9)"
            ]
          },
          "metadata": {},
          "execution_count": 207
        }
      ]
    },
    {
      "cell_type": "code",
      "source": [
        "# remove hotlines, etc, if keywords contained in the first 3 words\n",
        "df_exploded=df_exploded[df_exploded[\"text\"].apply(first_words_filter,3,args=[art_words_to_exclude])]\n",
        "df_exploded.shape"
      ],
      "metadata": {
        "id": "OrsJ50BxEH4W",
        "colab": {
          "base_uri": "https://localhost:8080/"
        },
        "outputId": "c6f5492d-c3bb-47ea-ba9b-ccb9eda73764"
      },
      "execution_count": 208,
      "outputs": [
        {
          "output_type": "execute_result",
          "data": {
            "text/plain": [
              "(238308, 9)"
            ]
          },
          "metadata": {},
          "execution_count": 208
        }
      ]
    },
    {
      "cell_type": "code",
      "source": [
        "# remove paragraphs by keywords if container in the first 3 words\n",
        "par_words_to_exclude=[\"statistik\", \"kriminalstatistik\", \"landeskriminalamt\"]\n",
        "df_exploded=df_exploded[df_exploded[\"text\"].apply(first_words_filter, args=[par_words_to_exclude])]\n",
        "df_exploded.shape"
      ],
      "metadata": {
        "id": "scCTikgEI9Fd",
        "colab": {
          "base_uri": "https://localhost:8080/"
        },
        "outputId": "779f67b2-561a-4d04-8f86-745dc7a93595"
      },
      "execution_count": 209,
      "outputs": [
        {
          "output_type": "execute_result",
          "data": {
            "text/plain": [
              "(238055, 9)"
            ]
          },
          "metadata": {},
          "execution_count": 209
        }
      ]
    },
    {
      "cell_type": "code",
      "source": [
        "# phone numbers usually occur in paragraphs with hotlines/ help services\n",
        "phone_regex ='\\(?\\d{4,5}\\)?[/\\s]*\\d{1,5}\\s*\\d{1,5}'\n",
        "df_exploded=df_exploded[df_exploded[\"text\"].apply(regex_search, args=[phone_regex])]\n",
        "df_exploded.shape"
      ],
      "metadata": {
        "id": "9wS0zOJ4S5ws",
        "colab": {
          "base_uri": "https://localhost:8080/"
        },
        "outputId": "706505bc-7ac3-4838-9b0e-9a78ec44632e"
      },
      "execution_count": 210,
      "outputs": [
        {
          "output_type": "execute_result",
          "data": {
            "text/plain": [
              "(209844, 9)"
            ]
          },
          "metadata": {},
          "execution_count": 210
        }
      ]
    },
    {
      "cell_type": "code",
      "source": [
        "# times usually indicate opening hours/ events \n",
        "time_regex = '\\d{1,2}[:\\/.]\\d{1,2}[:\\/.]\\d{2,4}'\n",
        "df_exploded=df_exploded[df_exploded[\"text\"].apply(regex_search, args=[time_regex])]\n",
        "df_exploded.shape"
      ],
      "metadata": {
        "id": "y1lc-LO9WxE3",
        "colab": {
          "base_uri": "https://localhost:8080/"
        },
        "outputId": "b16dee31-7cfa-4551-e724-469a89052056"
      },
      "execution_count": 211,
      "outputs": [
        {
          "output_type": "execute_result",
          "data": {
            "text/plain": [
              "(208456, 9)"
            ]
          },
          "metadata": {},
          "execution_count": 211
        }
      ]
    },
    {
      "cell_type": "code",
      "source": [
        "# times usually indicate opening hours/ events \n",
        "weekday_regex = '(Mo|Di|Mi|Do|Fr|Sa|So)[-\\\\,s–\\ ./]+((Mo|Di|Mi|Do|Fr|Sa|So)[-–./ ]+)?\\d{1,2}'\n",
        "df_exploded=df_exploded[df_exploded[\"text\"].apply(regex_search, args=[weekday_regex])]\n",
        "df_exploded.shape"
      ],
      "metadata": {
        "id": "9ptetph1Xzab",
        "colab": {
          "base_uri": "https://localhost:8080/"
        },
        "outputId": "12987c42-ff2a-4a10-c7b2-f8601f67dcff"
      },
      "execution_count": 212,
      "outputs": [
        {
          "output_type": "execute_result",
          "data": {
            "text/plain": [
              "(204902, 9)"
            ]
          },
          "metadata": {},
          "execution_count": 212
        }
      ]
    },
    {
      "cell_type": "code",
      "source": [
        "# exclude stats\n",
        "stats_regex=\"\\d*([\\.,]\\d*)?[ ](Prozent|%)\"\n",
        "df_exploded=df_exploded[df_exploded[\"text\"].apply(regex_search, args=[stats_regex])]\n",
        "df_exploded.shape"
      ],
      "metadata": {
        "id": "Rsj1W4qShVpi",
        "colab": {
          "base_uri": "https://localhost:8080/"
        },
        "outputId": "c713be05-c234-4059-a452-22c3c78efbb9"
      },
      "execution_count": 213,
      "outputs": [
        {
          "output_type": "execute_result",
          "data": {
            "text/plain": [
              "(196582, 9)"
            ]
          },
          "metadata": {},
          "execution_count": 213
        }
      ]
    },
    {
      "cell_type": "code",
      "source": [
        "# exclude stats\n",
        "stats_regex2=\"\\d+ (Fälle|Opfer|Frauen|Kinder|Personen|Betroffene)\"\n",
        "df_exploded=df_exploded[df_exploded[\"text\"].apply(regex_search, args=[stats_regex2])]\n",
        "df_exploded.shape"
      ],
      "metadata": {
        "id": "e_gZXdwBxQRg",
        "colab": {
          "base_uri": "https://localhost:8080/"
        },
        "outputId": "90490663-1899-42db-e212-b276247401f3"
      },
      "execution_count": 214,
      "outputs": [
        {
          "output_type": "execute_result",
          "data": {
            "text/plain": [
              "(191390, 9)"
            ]
          },
          "metadata": {},
          "execution_count": 214
        }
      ]
    },
    {
      "cell_type": "code",
      "source": [
        "# street names usually indicate events/ locations/ opening hours\n",
        "street_regex=\"[A-z]+(str|straße|weg| Str|allee|gasse| Gasse|platz)[. ]+\\d+\"\n",
        "df_exploded=df_exploded[df_exploded[\"text\"].apply(regex_search, args=[street_regex])]\n",
        "df_exploded.shape"
      ],
      "metadata": {
        "id": "471OpPwijJ7Q",
        "colab": {
          "base_uri": "https://localhost:8080/"
        },
        "outputId": "1b4ea5f7-de57-42ab-e0ae-54a8bf6e32c6"
      },
      "execution_count": 215,
      "outputs": [
        {
          "output_type": "execute_result",
          "data": {
            "text/plain": [
              "(184944, 9)"
            ]
          },
          "metadata": {},
          "execution_count": 215
        }
      ]
    },
    {
      "cell_type": "code",
      "source": [
        "# very short paragraphs usually are not part of the article\n",
        "df_exploded.loc[:,\"chars\"]=df_exploded[\"text\"].apply(len)\n",
        "df_exploded=df_exploded[df_exploded[\"chars\"]>60]\n",
        "df_exploded.shape"
      ],
      "metadata": {
        "id": "lkntG5OJraxM",
        "colab": {
          "base_uri": "https://localhost:8080/"
        },
        "outputId": "d8e567d1-8157-4d9a-fa1c-11adb1c22f13"
      },
      "execution_count": 216,
      "outputs": [
        {
          "output_type": "stream",
          "name": "stderr",
          "text": [
            "<ipython-input-216-1e2d6bb896ec>:2: SettingWithCopyWarning: \n",
            "A value is trying to be set on a copy of a slice from a DataFrame.\n",
            "Try using .loc[row_indexer,col_indexer] = value instead\n",
            "\n",
            "See the caveats in the documentation: https://pandas.pydata.org/pandas-docs/stable/user_guide/indexing.html#returning-a-view-versus-a-copy\n",
            "  df_exploded.loc[:,\"chars\"]=df_exploded[\"text\"].apply(len)\n"
          ]
        },
        {
          "output_type": "execute_result",
          "data": {
            "text/plain": [
              "(163366, 10)"
            ]
          },
          "metadata": {},
          "execution_count": 216
        }
      ]
    },
    {
      "cell_type": "code",
      "source": [
        "# hours usually indicate the pararaph is containing opening hours, movie schedules, etc\n",
        "hours_regex=\"(\\d{1,2}.\\d{2}, \\d{1})+\"\n",
        "df_exploded=df_exploded[df_exploded[\"text\"].apply(regex_search, args=[hours_regex])]\n",
        "df_exploded.shape"
      ],
      "metadata": {
        "id": "s4UOIw17lSn6",
        "colab": {
          "base_uri": "https://localhost:8080/"
        },
        "outputId": "0af44288-677f-4447-8757-9d69e1c25ca4"
      },
      "execution_count": 217,
      "outputs": [
        {
          "output_type": "execute_result",
          "data": {
            "text/plain": [
              "(162802, 10)"
            ]
          },
          "metadata": {},
          "execution_count": 217
        }
      ]
    },
    {
      "cell_type": "code",
      "source": [
        "# email addresses are usually in paragraphs with contact info\n",
        "email_regex=\"[A-Za-z0-9._%+-]+@[A-Za-z0-9.-]+\\.[A-Za-z]{2,}\"\n",
        "df_exploded=df_exploded[df_exploded[\"text\"].apply(regex_search, args=[email_regex])]\n",
        "df_exploded.shape"
      ],
      "metadata": {
        "id": "wGeRpdKwrVfG",
        "colab": {
          "base_uri": "https://localhost:8080/"
        },
        "outputId": "e8548d26-dde3-4c0a-9e27-2f99bb4b531c"
      },
      "execution_count": 218,
      "outputs": [
        {
          "output_type": "execute_result",
          "data": {
            "text/plain": [
              "(161895, 10)"
            ]
          },
          "metadata": {},
          "execution_count": 218
        }
      ]
    },
    {
      "cell_type": "code",
      "source": [
        "# links are usually in paragraphs with contact info\n",
        "link_regex=\"(www\\.)\\S+\\.\\S+\"\n",
        "df_exploded=df_exploded[df_exploded[\"text\"].apply(regex_search, args=[link_regex])]\n",
        "df_exploded.shape"
      ],
      "metadata": {
        "id": "Pt5smIpSsJss",
        "colab": {
          "base_uri": "https://localhost:8080/"
        },
        "outputId": "4fecffa7-112b-42a0-c640-dece7d2fd6fb"
      },
      "execution_count": 219,
      "outputs": [
        {
          "output_type": "execute_result",
          "data": {
            "text/plain": [
              "(160700, 10)"
            ]
          },
          "metadata": {},
          "execution_count": 219
        }
      ]
    },
    {
      "cell_type": "code",
      "source": [
        "df_exploded=df_exploded[~df_exploded[\"text\"].apply(occurs, args=[\"Stadtteiltreff\"])]\n",
        "df_exploded=df_exploded[~df_exploded[\"text\"].apply(occurs, args=[\"Plakataktion\"])]\n",
        "df_exploded=df_exploded[~df_exploded[\"text\"].apply(occurs, args=[\"One Billion Rising\"])]\n",
        "df_exploded=df_exploded[~df_exploded[\"text\"].apply(occurs, args=[\"Gewalt kommt nicht in die Tüte\"])]\n",
        "df_exploded=df_exploded[~df_exploded[\"text\"].apply(occurs, args=[\"opferschutzorganisation\"])]\n",
        "df_exploded=df_exploded[~df_exploded[\"text\"].apply(occurs, args=[\"Frauen helfen Frauen\"])]\n",
        "df_exploded.shape"
      ],
      "metadata": {
        "colab": {
          "base_uri": "https://localhost:8080/"
        },
        "id": "k8CDp1m6uji3",
        "outputId": "02d9e3bd-6d6e-4360-ee82-b2f520ba6d14"
      },
      "execution_count": 220,
      "outputs": [
        {
          "output_type": "execute_result",
          "data": {
            "text/plain": [
              "(159473, 10)"
            ]
          },
          "metadata": {},
          "execution_count": 220
        }
      ]
    },
    {
      "cell_type": "markdown",
      "source": [
        "### Excluding annotated Paragraphs"
      ],
      "metadata": {
        "id": "eqPBOuY6mqUT"
      }
    },
    {
      "cell_type": "code",
      "source": [
        "import json"
      ],
      "metadata": {
        "id": "v8RN9f25GrIj"
      },
      "execution_count": 118,
      "outputs": []
    },
    {
      "cell_type": "code",
      "execution_count": 119,
      "metadata": {
        "id": "Ue5Z2rnAE_yQ"
      },
      "outputs": [],
      "source": [
        "#read json data\n",
        "json_data=json.load(open(\"annotated/annotations_05_18.json\",encoding='utf-8'))"
      ]
    },
    {
      "cell_type": "code",
      "execution_count": 120,
      "metadata": {
        "id": "GC3Ir-qYDqHX"
      },
      "outputs": [],
      "source": [
        "#convert to dataframe\n",
        "data=pd.DataFrame(json_data[\"documents\"])"
      ]
    },
    {
      "cell_type": "code",
      "execution_count": 121,
      "metadata": {
        "id": "dfHJHZTcGoUq",
        "colab": {
          "base_uri": "https://localhost:8080/",
          "height": 206
        },
        "outputId": "1ff1acd4-5dc2-4bd9-82a1-ea520db090da"
      },
      "outputs": [
        {
          "output_type": "execute_result",
          "data": {
            "text/plain": [
              "                                     id  \\\n",
              "0  4572dea4-6a08-4f1e-b312-5821112bb5f5   \n",
              "1  0bcada32-8dc5-41cf-b83b-67d2e742bada   \n",
              "2  a30791b9-522e-45c1-8b33-79d4165282af   \n",
              "3  043e3909-bcdd-4c6b-a54f-f947d46ad18e   \n",
              "4  08cef91c-6d73-472c-8349-07a5b72009d1   \n",
              "\n",
              "                                                text  \\\n",
              "0  Ein Mann (25) ist jetzt vom Schöffengericht am...   \n",
              "1  Als Zeugin trat die Ex-Lebensgefährtin des Syr...   \n",
              "2  Zunächst leugnete der Angeklagte, dass es über...   \n",
              "3  Das Schöffengericht hatte es in diesem Fall of...   \n",
              "4  \"Gewalt in der Familie ist weder Privatsache n...   \n",
              "\n",
              "                                         annotations  \\\n",
              "0  [{'str_start': None, 'str_stop': None, 'annota...   \n",
              "1  [{'str_start': None, 'str_stop': None, 'annota...   \n",
              "2  [{'str_start': None, 'str_stop': None, 'annota...   \n",
              "3  [{'str_start': None, 'str_stop': None, 'annota...   \n",
              "4  [{'str_start': None, 'str_stop': None, 'annota...   \n",
              "\n",
              "                                     attributes_flat  \n",
              "0  {'artikel_id': 'F3A4578D33A8603DF0573D3DE3CB26...  \n",
              "1  {'artikel_id': 'F3A4578D33A8603DF0573D3DE3CB26...  \n",
              "2  {'artikel_id': 'F3A4578D33A8603DF0573D3DE3CB26...  \n",
              "3  {'artikel_id': 'F3A4578D33A8603DF0573D3DE3CB26...  \n",
              "4  {'artikel_id': 'IRA-82182598', 'name': 'SÜDWES...  "
            ],
            "text/html": [
              "\n",
              "  <div id=\"df-875b9440-4ee4-4324-b9a2-c3ac4103cb6d\">\n",
              "    <div class=\"colab-df-container\">\n",
              "      <div>\n",
              "<style scoped>\n",
              "    .dataframe tbody tr th:only-of-type {\n",
              "        vertical-align: middle;\n",
              "    }\n",
              "\n",
              "    .dataframe tbody tr th {\n",
              "        vertical-align: top;\n",
              "    }\n",
              "\n",
              "    .dataframe thead th {\n",
              "        text-align: right;\n",
              "    }\n",
              "</style>\n",
              "<table border=\"1\" class=\"dataframe\">\n",
              "  <thead>\n",
              "    <tr style=\"text-align: right;\">\n",
              "      <th></th>\n",
              "      <th>id</th>\n",
              "      <th>text</th>\n",
              "      <th>annotations</th>\n",
              "      <th>attributes_flat</th>\n",
              "    </tr>\n",
              "  </thead>\n",
              "  <tbody>\n",
              "    <tr>\n",
              "      <th>0</th>\n",
              "      <td>4572dea4-6a08-4f1e-b312-5821112bb5f5</td>\n",
              "      <td>Ein Mann (25) ist jetzt vom Schöffengericht am...</td>\n",
              "      <td>[{'str_start': None, 'str_stop': None, 'annota...</td>\n",
              "      <td>{'artikel_id': 'F3A4578D33A8603DF0573D3DE3CB26...</td>\n",
              "    </tr>\n",
              "    <tr>\n",
              "      <th>1</th>\n",
              "      <td>0bcada32-8dc5-41cf-b83b-67d2e742bada</td>\n",
              "      <td>Als Zeugin trat die Ex-Lebensgefährtin des Syr...</td>\n",
              "      <td>[{'str_start': None, 'str_stop': None, 'annota...</td>\n",
              "      <td>{'artikel_id': 'F3A4578D33A8603DF0573D3DE3CB26...</td>\n",
              "    </tr>\n",
              "    <tr>\n",
              "      <th>2</th>\n",
              "      <td>a30791b9-522e-45c1-8b33-79d4165282af</td>\n",
              "      <td>Zunächst leugnete der Angeklagte, dass es über...</td>\n",
              "      <td>[{'str_start': None, 'str_stop': None, 'annota...</td>\n",
              "      <td>{'artikel_id': 'F3A4578D33A8603DF0573D3DE3CB26...</td>\n",
              "    </tr>\n",
              "    <tr>\n",
              "      <th>3</th>\n",
              "      <td>043e3909-bcdd-4c6b-a54f-f947d46ad18e</td>\n",
              "      <td>Das Schöffengericht hatte es in diesem Fall of...</td>\n",
              "      <td>[{'str_start': None, 'str_stop': None, 'annota...</td>\n",
              "      <td>{'artikel_id': 'F3A4578D33A8603DF0573D3DE3CB26...</td>\n",
              "    </tr>\n",
              "    <tr>\n",
              "      <th>4</th>\n",
              "      <td>08cef91c-6d73-472c-8349-07a5b72009d1</td>\n",
              "      <td>\"Gewalt in der Familie ist weder Privatsache n...</td>\n",
              "      <td>[{'str_start': None, 'str_stop': None, 'annota...</td>\n",
              "      <td>{'artikel_id': 'IRA-82182598', 'name': 'SÜDWES...</td>\n",
              "    </tr>\n",
              "  </tbody>\n",
              "</table>\n",
              "</div>\n",
              "      <button class=\"colab-df-convert\" onclick=\"convertToInteractive('df-875b9440-4ee4-4324-b9a2-c3ac4103cb6d')\"\n",
              "              title=\"Convert this dataframe to an interactive table.\"\n",
              "              style=\"display:none;\">\n",
              "        \n",
              "  <svg xmlns=\"http://www.w3.org/2000/svg\" height=\"24px\"viewBox=\"0 0 24 24\"\n",
              "       width=\"24px\">\n",
              "    <path d=\"M0 0h24v24H0V0z\" fill=\"none\"/>\n",
              "    <path d=\"M18.56 5.44l.94 2.06.94-2.06 2.06-.94-2.06-.94-.94-2.06-.94 2.06-2.06.94zm-11 1L8.5 8.5l.94-2.06 2.06-.94-2.06-.94L8.5 2.5l-.94 2.06-2.06.94zm10 10l.94 2.06.94-2.06 2.06-.94-2.06-.94-.94-2.06-.94 2.06-2.06.94z\"/><path d=\"M17.41 7.96l-1.37-1.37c-.4-.4-.92-.59-1.43-.59-.52 0-1.04.2-1.43.59L10.3 9.45l-7.72 7.72c-.78.78-.78 2.05 0 2.83L4 21.41c.39.39.9.59 1.41.59.51 0 1.02-.2 1.41-.59l7.78-7.78 2.81-2.81c.8-.78.8-2.07 0-2.86zM5.41 20L4 18.59l7.72-7.72 1.47 1.35L5.41 20z\"/>\n",
              "  </svg>\n",
              "      </button>\n",
              "      \n",
              "  <style>\n",
              "    .colab-df-container {\n",
              "      display:flex;\n",
              "      flex-wrap:wrap;\n",
              "      gap: 12px;\n",
              "    }\n",
              "\n",
              "    .colab-df-convert {\n",
              "      background-color: #E8F0FE;\n",
              "      border: none;\n",
              "      border-radius: 50%;\n",
              "      cursor: pointer;\n",
              "      display: none;\n",
              "      fill: #1967D2;\n",
              "      height: 32px;\n",
              "      padding: 0 0 0 0;\n",
              "      width: 32px;\n",
              "    }\n",
              "\n",
              "    .colab-df-convert:hover {\n",
              "      background-color: #E2EBFA;\n",
              "      box-shadow: 0px 1px 2px rgba(60, 64, 67, 0.3), 0px 1px 3px 1px rgba(60, 64, 67, 0.15);\n",
              "      fill: #174EA6;\n",
              "    }\n",
              "\n",
              "    [theme=dark] .colab-df-convert {\n",
              "      background-color: #3B4455;\n",
              "      fill: #D2E3FC;\n",
              "    }\n",
              "\n",
              "    [theme=dark] .colab-df-convert:hover {\n",
              "      background-color: #434B5C;\n",
              "      box-shadow: 0px 1px 3px 1px rgba(0, 0, 0, 0.15);\n",
              "      filter: drop-shadow(0px 1px 2px rgba(0, 0, 0, 0.3));\n",
              "      fill: #FFFFFF;\n",
              "    }\n",
              "  </style>\n",
              "\n",
              "      <script>\n",
              "        const buttonEl =\n",
              "          document.querySelector('#df-875b9440-4ee4-4324-b9a2-c3ac4103cb6d button.colab-df-convert');\n",
              "        buttonEl.style.display =\n",
              "          google.colab.kernel.accessAllowed ? 'block' : 'none';\n",
              "\n",
              "        async function convertToInteractive(key) {\n",
              "          const element = document.querySelector('#df-875b9440-4ee4-4324-b9a2-c3ac4103cb6d');\n",
              "          const dataTable =\n",
              "            await google.colab.kernel.invokeFunction('convertToInteractive',\n",
              "                                                     [key], {});\n",
              "          if (!dataTable) return;\n",
              "\n",
              "          const docLinkHtml = 'Like what you see? Visit the ' +\n",
              "            '<a target=\"_blank\" href=https://colab.research.google.com/notebooks/data_table.ipynb>data table notebook</a>'\n",
              "            + ' to learn more about interactive tables.';\n",
              "          element.innerHTML = '';\n",
              "          dataTable['output_type'] = 'display_data';\n",
              "          await google.colab.output.renderOutput(dataTable, element);\n",
              "          const docLink = document.createElement('div');\n",
              "          docLink.innerHTML = docLinkHtml;\n",
              "          element.appendChild(docLink);\n",
              "        }\n",
              "      </script>\n",
              "    </div>\n",
              "  </div>\n",
              "  "
            ]
          },
          "metadata": {},
          "execution_count": 121
        }
      ],
      "source": [
        "#for now: filter out paragraphs that have not been annotated \n",
        "data=data[data[\"annotations\"].apply(len)>0]\n",
        "#reset index\n",
        "data=data.reset_index(drop=True)\n",
        "data.head()"
      ]
    },
    {
      "cell_type": "code",
      "source": [
        "data[\"artikel_id\"]=[entr[1].attributes_flat[\"artikel_id\"] for entr in data.iterrows()]\n",
        "data[\"artikel_order\"]=[entr[1].attributes_flat[\"artikel_order\"] for entr in data.iterrows()]\n",
        "data[\"name\"]=[entr[1].attributes_flat[\"name\"] for entr in data.iterrows()]"
      ],
      "metadata": {
        "id": "7urpm2X5H3Ln"
      },
      "execution_count": null,
      "outputs": []
    },
    {
      "cell_type": "code",
      "source": [
        "data[\"artikel_order\"]=data[\"artikel_order\"].astype(int)"
      ],
      "metadata": {
        "id": "vsxXW_hnLCH1"
      },
      "execution_count": 123,
      "outputs": []
    },
    {
      "cell_type": "code",
      "source": [
        "data=data[[\"artikel_id\",\"name\",\"annotations\",\"artikel_order\"]]"
      ],
      "metadata": {
        "id": "1Tb7pT0ZN_3B"
      },
      "execution_count": 124,
      "outputs": []
    },
    {
      "cell_type": "code",
      "source": [
        "df_merged=pd.merge(data,df_exploded,left_on=[\"artikel_id\",\"artikel_order\",\"name\"],right_on=[\"artikel_id\",\"artikel_order\",\"name\"], how=\"right\")"
      ],
      "metadata": {
        "id": "PcfEXcb7Iyzu"
      },
      "execution_count": 222,
      "outputs": []
    },
    {
      "cell_type": "code",
      "source": [
        "# remove paragraphs that already have annotations\n",
        "df_exploded=df_merged[df_merged.annotations.isna()]"
      ],
      "metadata": {
        "id": "hsjzAMdSQhtj"
      },
      "execution_count": 223,
      "outputs": []
    },
    {
      "cell_type": "markdown",
      "source": [
        "### Randomly select one paragraph per article"
      ],
      "metadata": {
        "id": "D_4vCxClhzl2"
      }
    },
    {
      "cell_type": "code",
      "source": [
        "df_subset_elinor1=df_exploded"
      ],
      "metadata": {
        "id": "3C_vKteF1NkG"
      },
      "execution_count": 225,
      "outputs": []
    },
    {
      "cell_type": "code",
      "source": [
        "import nltk\n",
        "nltk.download('punkt')"
      ],
      "metadata": {
        "id": "yjOtzi_H58w4",
        "colab": {
          "base_uri": "https://localhost:8080/"
        },
        "outputId": "ad2735d0-cea6-44b8-caa5-1fd77c778ec4"
      },
      "execution_count": 128,
      "outputs": [
        {
          "output_type": "stream",
          "name": "stderr",
          "text": [
            "[nltk_data] Downloading package punkt to /root/nltk_data...\n",
            "[nltk_data]   Package punkt is already up-to-date!\n"
          ]
        },
        {
          "output_type": "execute_result",
          "data": {
            "text/plain": [
              "True"
            ]
          },
          "metadata": {},
          "execution_count": 128
        }
      ]
    },
    {
      "cell_type": "code",
      "source": [
        "def count_sentences(text):\n",
        "    return len(nltk.sent_tokenize(text))"
      ],
      "metadata": {
        "id": "M2OMY9wc5-Gl"
      },
      "execution_count": 226,
      "outputs": []
    },
    {
      "cell_type": "code",
      "source": [
        "df_subset_elinor1['num_sentences'] = df_subset_elinor1['text'].apply(count_sentences)"
      ],
      "metadata": {
        "id": "z2Pc_Efw6Aku",
        "colab": {
          "base_uri": "https://localhost:8080/"
        },
        "outputId": "33443adb-dfc1-4d3d-878e-120f89473aee"
      },
      "execution_count": 227,
      "outputs": [
        {
          "output_type": "stream",
          "name": "stderr",
          "text": [
            "<ipython-input-227-229108de2b5b>:1: SettingWithCopyWarning: \n",
            "A value is trying to be set on a copy of a slice from a DataFrame.\n",
            "Try using .loc[row_indexer,col_indexer] = value instead\n",
            "\n",
            "See the caveats in the documentation: https://pandas.pydata.org/pandas-docs/stable/user_guide/indexing.html#returning-a-view-versus-a-copy\n",
            "  df_subset_elinor1['num_sentences'] = df_subset_elinor1['text'].apply(count_sentences)\n"
          ]
        }
      ]
    },
    {
      "cell_type": "code",
      "source": [
        "# Define a function to randomly select one row from each group\n",
        "def select_random_row(group):\n",
        "    if group['num_sentences'].max() > 1:\n",
        "        return group[group['num_sentences'] > 1].sample(n=1)\n",
        "    else:\n",
        "        return group.head(1)"
      ],
      "metadata": {
        "id": "iI_MlT6Y9QFU"
      },
      "execution_count": 228,
      "outputs": []
    },
    {
      "cell_type": "code",
      "source": [
        "# Apply the function to each group and combine the results\n",
        "random_rows = df_subset_elinor1.groupby('artikel_id').apply(select_random_row).reset_index(drop=True)"
      ],
      "metadata": {
        "id": "vzqDnnIR9b6T"
      },
      "execution_count": 229,
      "outputs": []
    },
    {
      "cell_type": "markdown",
      "source": [
        "## Export as csv"
      ],
      "metadata": {
        "id": "0Go0cc9U1kpE"
      }
    },
    {
      "cell_type": "code",
      "source": [
        "output_path = \"elinor\""
      ],
      "metadata": {
        "id": "ItHRtFVP9vl_"
      },
      "execution_count": 133,
      "outputs": []
    },
    {
      "cell_type": "markdown",
      "source": [
        "#### Export Files in chunks of 2000 paragraphs"
      ],
      "metadata": {
        "id": "3gt7eEhvoOWm"
      }
    },
    {
      "cell_type": "code",
      "source": [
        "batches=round(random_rows.shape[0]/2000+0.5)"
      ],
      "metadata": {
        "id": "1mgrHxRxfn-U"
      },
      "execution_count": 236,
      "outputs": []
    },
    {
      "cell_type": "code",
      "source": [
        "for i in range(1,batches+1):\n",
        "  chunk=random_rows.iloc[((i-1)*2000):(i*2000),:]\n",
        "  chunk.to_csv(output_path+f\"/annotation_test_05_22_part{i}.csv\", index=False, header = True,encoding = 'utf-8')"
      ],
      "metadata": {
        "id": "XcienU_5nNpu"
      },
      "execution_count": 251,
      "outputs": []
    },
    {
      "cell_type": "markdown",
      "source": [
        "#### Export as one File"
      ],
      "metadata": {
        "id": "bYnDvCA-ozo_"
      }
    },
    {
      "cell_type": "code",
      "source": [
        "#random_rows.to_csv(output_path+\"/annotation_test_05_18.csv\", index=False, header = True,encoding = 'utf-8')"
      ],
      "metadata": {
        "id": "dJO8Splt9raZ"
      },
      "execution_count": 134,
      "outputs": []
    }
  ]
}