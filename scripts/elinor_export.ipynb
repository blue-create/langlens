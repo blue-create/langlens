{
  "nbformat": 4,
  "nbformat_minor": 0,
  "metadata": {
    "colab": {
      "provenance": [],
      "collapsed_sections": [
        "QYjhPHYZ1MVO",
        "Ieb0Shf71cvu",
        "7Kwdv6Uim224",
        "1IRqAQmlPjPX",
        "B0XvJlNRjzcu",
        "lGyzcy6unPdT"
      ]
    },
    "kernelspec": {
      "name": "python3",
      "display_name": "Python 3"
    },
    "language_info": {
      "name": "python"
    }
  },
  "cells": [
    {
      "cell_type": "markdown",
      "source": [
        "# Purpose\n",
        "\n",
        "This file shows the steps we took to sample and create the annotation dataset."
      ],
      "metadata": {
        "id": "Q1MHyZaI09-2"
      }
    },
    {
      "cell_type": "markdown",
      "source": [
        "## Connect with Google drive to access data \n",
        "\n",
        "In order to access the data, you first need to create a shortcut of the data folder to your own Gdrive. If you've been granted editing rights, you should be able to edit the content of the folder, i.e. add, move and delete data, create and rename folders, etc."
      ],
      "metadata": {
        "id": "QYjhPHYZ1MVO"
      }
    },
    {
      "cell_type": "code",
      "source": [
        "# connect with google drive\n",
        "from google.colab import drive\n",
        "drive.mount('/content/drive')"
      ],
      "metadata": {
        "colab": {
          "base_uri": "https://localhost:8080/"
        },
        "id": "3-gEE8t61TyI",
        "outputId": "4f7e36c7-ebe6-49b0-9ae5-4fac4ae9d63f"
      },
      "execution_count": 74,
      "outputs": [
        {
          "output_type": "stream",
          "name": "stdout",
          "text": [
            "Drive already mounted at /content/drive; to attempt to forcibly remount, call drive.mount(\"/content/drive\", force_remount=True).\n"
          ]
        }
      ]
    },
    {
      "cell_type": "code",
      "source": [
        "# redirect the working directory of this script to the data folder\n",
        "%cd /content/drive/MyDrive/Work/Frontline/data/\n",
        "#%cd /content/drive/MyDrive/data/"
      ],
      "metadata": {
        "colab": {
          "base_uri": "https://localhost:8080/"
        },
        "id": "UG1MwJ4Y1U_h",
        "outputId": "7b8fdf8d-db3f-4ae0-a20f-cffc7c22eebe"
      },
      "execution_count": 75,
      "outputs": [
        {
          "output_type": "stream",
          "name": "stdout",
          "text": [
            "/content/drive/.shortcut-targets-by-id/1WfnZsqpG1r110J63sMbfS5TpsDOkveiV/data\n"
          ]
        }
      ]
    },
    {
      "cell_type": "markdown",
      "source": [
        "## Load data"
      ],
      "metadata": {
        "id": "Ej0F6zHR1Xz3"
      }
    },
    {
      "cell_type": "code",
      "source": [
        "import tqdm as tqdm\n",
        "from collections import Counter\n",
        "import os\n",
        "import pandas as pd\n",
        "import re \n",
        "from ast import literal_eval\n",
        "import statistics\n",
        "import matplotlib.pyplot as plt\n",
        "import re\n",
        "import pandas as pd\n",
        "\n",
        "folder_path = \"filtered_4_26\""
      ],
      "metadata": {
        "id": "Pb-1q-dqzgQH"
      },
      "execution_count": 76,
      "outputs": []
    },
    {
      "cell_type": "markdown",
      "source": [
        "### Method 1: get csv files "
      ],
      "metadata": {
        "id": "6Ny15n7AO8PV"
      }
    },
    {
      "cell_type": "code",
      "source": [
        "\n",
        "dfs = []\n",
        "\n",
        "# loop through files \n",
        "for filename in os.listdir(folder_path):\n",
        "    # if csv file, load and add to dfs  \n",
        "    if filename.endswith(\".csv\"):\n",
        "        file_path = os.path.join(folder_path, filename)\n",
        "        # import csv with text as list object \n",
        "        df = pd.read_csv(file_path, index_col=0, converters={\"text\":literal_eval})\n",
        "        dfs.append(df)\n",
        "# combine files in df\n",
        "df_filtered = pd.concat(dfs, ignore_index=True)"
      ],
      "metadata": {
        "id": "ktoRDGajzoqi"
      },
      "execution_count": 77,
      "outputs": []
    },
    {
      "cell_type": "markdown",
      "source": [
        "#### Create a random subset of the data "
      ],
      "metadata": {
        "id": "Ieb0Shf71cvu"
      }
    },
    {
      "cell_type": "code",
      "source": [
        "# size of subset we want \n",
        "number = 5000"
      ],
      "metadata": {
        "id": "bGL1Cb9R8fLD"
      },
      "execution_count": 78,
      "outputs": []
    },
    {
      "cell_type": "code",
      "source": [
        "df_sample = df_filtered.sample(number,)# random_state=42)"
      ],
      "metadata": {
        "id": "_7qzAZDi778j"
      },
      "execution_count": 79,
      "outputs": []
    },
    {
      "cell_type": "markdown",
      "source": [
        "### Method 2: get a csv file"
      ],
      "metadata": {
        "id": "pFNlGnG7PD23"
      }
    },
    {
      "cell_type": "code",
      "source": [
        "df_sample_file = pd.read_csv('sample.csv', encoding='utf-8', index_col=0)"
      ],
      "metadata": {
        "id": "RP4BKUzjPIF5"
      },
      "execution_count": 80,
      "outputs": []
    },
    {
      "cell_type": "markdown",
      "source": [
        "### Method 3: Manually selected dataset of relevant articles\n",
        "--> ensuring that the dataset only contains relevant articles, espscially for testing"
      ],
      "metadata": {
        "id": "17Rx0STiu1nu"
      }
    },
    {
      "cell_type": "code",
      "source": [
        "subset_dv=df_filtered.loc[(11483,14044,62494,49199,11047,14948,10565,31059,58890,20347,55396,56389,5528,18532,59435,8035,27119,12788,59992,21477,10331,26314,45356,61023,31865,48960,44587,17992,14763,60043,20540,4563,13213,6751,43374,41018,38770,24654,21936,29297,1869,33163,60220,61232,57613,48979,33785,51576,8300,7675),:]"
      ],
      "metadata": {
        "id": "bbKfHRI1u7ag"
      },
      "execution_count": 81,
      "outputs": []
    },
    {
      "cell_type": "markdown",
      "source": [
        "### Select Data\n",
        "--> specify which data set of the three above methods should be used in the following analysis"
      ],
      "metadata": {
        "id": "VXVyMc5mkWGM"
      }
    },
    {
      "cell_type": "code",
      "source": [
        "# uncomment for full data set\n",
        "df_subset=df_filtered\n",
        "\n",
        "# uncomment for random data of 100 from full data set\n",
        "#df_subset=df_sample\n",
        "\n",
        "# uncomment for sample data set from csv file\n",
        "# df_subset= df_sample_file\n",
        "\n",
        "# uncomment for manually selected articles \n",
        "# df_subset = subset_dv"
      ],
      "metadata": {
        "id": "5-OJXUYwkhZ2"
      },
      "execution_count": 82,
      "outputs": []
    },
    {
      "cell_type": "markdown",
      "source": [
        "## Adjust format for export"
      ],
      "metadata": {
        "id": "5FJOlUvd1gHQ"
      }
    },
    {
      "cell_type": "markdown",
      "source": [
        "### Methods"
      ],
      "metadata": {
        "id": "7Kwdv6Uim224"
      }
    },
    {
      "cell_type": "code",
      "source": [
        "def reformat_article(art, min_words=5, max_words=125):\n",
        "  # remove genios styles \n",
        "  art = [re.sub(r'<.*?>', '', x) for x in art]\n",
        "\n",
        "  # remove new line characters and preceeding whitespaces\n",
        "  art = [x.strip() for x in art]\n",
        "\n",
        "  #remove empty paragraphs\n",
        "  art = [x for x in art if x.strip()]\n",
        "\n",
        "  #remove paragraphs that are too long\n",
        "  art = [x for x in art if len(x.split()) < max_words]\n",
        "\n",
        "  #remove paragraphs that are too short, ie. by default 3 or fewer words\n",
        "  art = [x for x in art if len(x.split()) >= min_words]  \n",
        "\n",
        "  return art"
      ],
      "metadata": {
        "id": "beTpoSVOZowg"
      },
      "execution_count": 83,
      "outputs": []
    },
    {
      "cell_type": "code",
      "source": [
        "def occurs(text,word):\n",
        "  \"\"\" function to check if a words occurs in a text\n",
        "  Parameters:\n",
        "    - word (str): word that is searched for\n",
        "    - text (str): text that is searched in \n",
        "  Returns:\n",
        "    - boolean: returns True if word occurs in text, False otherwise\n",
        "  \"\"\"\n",
        "  if type(text)!=str:\n",
        "    return False\n",
        "  text=text.lower()\n",
        "  word=word.lower()\n",
        "  if len(re.findall(word,text))>0:\n",
        "    return True\n",
        "  else:\n",
        "    return False"
      ],
      "metadata": {
        "id": "P8xAVqhbYsQp"
      },
      "execution_count": 84,
      "outputs": []
    },
    {
      "cell_type": "code",
      "source": [
        "def filter_title(title, to_exclude):\n",
        "  \"\"\" function to filter article by title\n",
        "  Parameters:\n",
        "    - title (str): title that is checked\n",
        "  Returns:\n",
        "    - boolean: returns True if either\n",
        "        - there is no title\n",
        "        - the title does not contain any of the words in the list to_exclude\n",
        "  \"\"\"\n",
        "  if type(title)!=str:\n",
        "    return True\n",
        "  title=title.strip()\n",
        "  for ex in to_exclude:\n",
        "    if ex.lower() == title.lower(): \n",
        "      return False\n",
        "  return True"
      ],
      "metadata": {
        "id": "EN5THognY36L"
      },
      "execution_count": 85,
      "outputs": []
    },
    {
      "cell_type": "code",
      "source": [
        "def first_words_filter(text,to_exclude, number_of_words=3):\n",
        "  \"\"\" function to filter article by its first words\n",
        "  Parameters:\n",
        "    - text (str): title that is checked\n",
        "  Returns:\n",
        "    - boolean: returns True if the first n words do not contain any of the words in the list to_exclude\n",
        "  \"\"\"\n",
        "  if type(text)==list:\n",
        "    text=text[0]\n",
        "  # remove special characters\n",
        "  text=re.sub(\"[/\\-!@#$%^&*:.]\", \" \", text)\n",
        "  first_words=text.split()[:number_of_words]\n",
        "\n",
        "  # remove whitespace and convert to lower case\n",
        "  first_words=[word.strip().lower() for word in first_words]\n",
        "  for ex in to_exclude:\n",
        "    if ex.lower() in first_words: \n",
        "      return False\n",
        "  return True"
      ],
      "metadata": {
        "id": "vMhD4MlJvghU"
      },
      "execution_count": 86,
      "outputs": []
    },
    {
      "cell_type": "code",
      "source": [
        "def regex_search(text, regex):\n",
        "  if len(re.findall(regex,text))>0:\n",
        "    return False\n",
        "  else:\n",
        "    return True\n"
      ],
      "metadata": {
        "id": "j9Pji8FsR68k"
      },
      "execution_count": 87,
      "outputs": []
    },
    {
      "cell_type": "markdown",
      "source": [
        "## Cleaning text:\n",
        "- remove newline characters\n",
        "- remove paragraphs if too long or short\n",
        "- remove genios styles \n",
        "- remove empty paragraphs\n",
        "- remove duplicate articles"
      ],
      "metadata": {
        "id": "1IRqAQmlPjPX"
      }
    },
    {
      "cell_type": "code",
      "source": [
        "df_subset[\"text\"] = [ reformat_article(art) for art in df_subset[\"text\"]]\n",
        "df_subset.shape"
      ],
      "metadata": {
        "id": "uGaaq0t53tzy",
        "colab": {
          "base_uri": "https://localhost:8080/"
        },
        "outputId": "023254a1-f1da-42dc-fe15-71ee12d9b03e"
      },
      "execution_count": 88,
      "outputs": [
        {
          "output_type": "execute_result",
          "data": {
            "text/plain": [
              "(63359, 8)"
            ]
          },
          "metadata": {},
          "execution_count": 88
        }
      ]
    },
    {
      "cell_type": "code",
      "source": [
        "# remove \"empty\" articles, that wereremove in the previous step\n",
        "df_subset=df_subset[df_subset['text'].notna()] \n",
        "df_subset=df_subset[df_subset['text'].apply(len)!=0]\n",
        "df_subset.shape"
      ],
      "metadata": {
        "id": "pqYcwiaMgvuw",
        "colab": {
          "base_uri": "https://localhost:8080/"
        },
        "outputId": "4d1c54d8-6284-46eb-a7d2-a647b91a4fd1"
      },
      "execution_count": 89,
      "outputs": [
        {
          "output_type": "execute_result",
          "data": {
            "text/plain": [
              "(59658, 8)"
            ]
          },
          "metadata": {},
          "execution_count": 89
        }
      ]
    },
    {
      "cell_type": "code",
      "source": [
        "df_subset=df_subset.drop_duplicates(\"text\", keep=\"first\")\n",
        "df_subset.shape"
      ],
      "metadata": {
        "id": "5ufZh7u0EOaX",
        "colab": {
          "base_uri": "https://localhost:8080/"
        },
        "outputId": "d43a5bf9-8b03-43c1-af4f-01937ecc9ae7"
      },
      "execution_count": 90,
      "outputs": [
        {
          "output_type": "execute_result",
          "data": {
            "text/plain": [
              "(46288, 8)"
            ]
          },
          "metadata": {},
          "execution_count": 90
        }
      ]
    },
    {
      "cell_type": "code",
      "source": [
        "df_subset_clean=df_subset"
      ],
      "metadata": {
        "id": "fCcu3CNXtEbP"
      },
      "execution_count": 91,
      "outputs": []
    },
    {
      "cell_type": "markdown",
      "source": [
        "## Filter by content: "
      ],
      "metadata": {
        "id": "hg0VDadS_J8r"
      }
    },
    {
      "cell_type": "code",
      "source": [
        "# temporaray: step is part of format_data\n",
        "df_subset_clean=df_subset_clean[df_subset_clean[\"name\"]!=\"Falter (APA)\"]\n",
        "df_subset_clean=df_subset_clean[df_subset_clean[\"name\"]!=\"Der Rheintaler\"]"
      ],
      "metadata": {
        "id": "HAV1_48TMXfv"
      },
      "execution_count": 92,
      "outputs": []
    },
    {
      "cell_type": "markdown",
      "source": [
        "### Filter Articles by Title"
      ],
      "metadata": {
        "id": "B0XvJlNRjzcu"
      }
    },
    {
      "cell_type": "code",
      "source": [
        "exclude_titles=[\"Beratungsstellen\", \"Termine\",\"Hilfe\",\"Hier_finden_Sie_Hilfe_2sp\",\"was - wann - wo\",\"IN KÜRZE\",\"Kurz notiert :\",\"Dienstbereit - die Woche im Überblick\",\"Was - wann -wo\",\n",
        "                \"Beratung + Hilfe\", \"Beratung\", \"Nachrichten\",\"Hilfe bei häuslicher Gewalt\",\"Termine heute\",\"kurz & bündig\",\"tipps der redaktion\",\"WAS, WANN, WO\",\"service\",\"Hier gibt es Hilfe\",\"kurZNotiert\",\n",
        "                \"CORONA-NACHRICHTEN\",\"Kalenderblatt\"\n",
        "]"
      ],
      "metadata": {
        "id": "aZom_rZoY6wZ"
      },
      "execution_count": 93,
      "outputs": []
    },
    {
      "cell_type": "code",
      "source": [
        "# only keep articles with titles not in the exclude list (exact matches)\n",
        "df_subset_clean=df_subset_clean[df_subset_clean[\"titel\"].apply(filter_title,args=[exclude_titles])]\n",
        "df_subset_clean.shape"
      ],
      "metadata": {
        "id": "9zdmzlXGj1af",
        "colab": {
          "base_uri": "https://localhost:8080/"
        },
        "outputId": "f974f82b-3a26-4621-b267-4aa69965f954"
      },
      "execution_count": 94,
      "outputs": [
        {
          "output_type": "execute_result",
          "data": {
            "text/plain": [
              "(43817, 8)"
            ]
          },
          "metadata": {},
          "execution_count": 94
        }
      ]
    },
    {
      "cell_type": "code",
      "source": [
        "# filter based on keyword search\n",
        "df_subset_clean=df_subset_clean[~df_subset_clean.titel.apply(occurs, args=[\"beratungsstelle\"])]\n",
        "# articles usually contain contact info, funding, etc\n",
        "df_subset_clean=df_subset_clean[~df_subset_clean.titel.apply(occurs, args=[\"frauenhaus\"])]\n",
        "df_subset_clean=df_subset_clean[~df_subset_clean.titel.apply(occurs, args=[\"kampagne gegen\"])]\n",
        "df_subset_clean=df_subset_clean[~df_subset_clean.titel.apply(occurs, args=[\"aktion gegen\"])]\n",
        "df_subset_clean=df_subset_clean[~df_subset_clean.titel.apply(occurs, args=[\"statistik\"])]\n",
        "df_subset_clean=df_subset_clean[~df_subset_clean.titel.apply(occurs, args=[\"corona-krise\"])]\n",
        "df_subset_clean=df_subset_clean[~df_subset_clean.titel.apply(occurs, args=[\"fallzahlen\"])]\n",
        "df_subset_clean=df_subset_clean[~df_subset_clean.titel.apply(occurs, args=[\"corona-krise\"])]\n",
        "df_subset_clean=df_subset_clean[~df_subset_clean.titel.apply(occurs, args=[\"weißer ring\"])]\n",
        "df_subset_clean=df_subset_clean[~df_subset_clean.titel.apply(occurs, args=[\"Dienstbereit\"])]\n",
        "df_subset_clean.shape"
      ],
      "metadata": {
        "colab": {
          "base_uri": "https://localhost:8080/"
        },
        "id": "msaGyzKnUqHd",
        "outputId": "f1c3124c-e83d-40c9-84fb-85b10e3910d0"
      },
      "execution_count": 95,
      "outputs": [
        {
          "output_type": "execute_result",
          "data": {
            "text/plain": [
              "(42383, 8)"
            ]
          },
          "metadata": {},
          "execution_count": 95
        }
      ]
    },
    {
      "cell_type": "markdown",
      "source": [
        "### Filter by Ressort"
      ],
      "metadata": {
        "id": "T0nJY77KKKUK"
      }
    },
    {
      "cell_type": "code",
      "source": [
        "#exclude certain type of articles\n",
        "df_subset_clean=df_subset_clean[df_subset_clean.ressort!=\"Termine\"]\n",
        "df_subset_clean=df_subset_clean[df_subset_clean.ressort!=\"TV\"]\n",
        "df_subset_clean=df_subset_clean[df_subset_clean.ressort!=\"tipps und termine\"]\n",
        "df_subset_clean=df_subset_clean[df_subset_clean.ressort!=\"Tipps und Termine\"]\n",
        "df_subset_clean=df_subset_clean[df_subset_clean.ressort!=\"Fernsehen\"]\n",
        "df_subset_clean=df_subset_clean[df_subset_clean.ressort!=\"Leserbriefe\"]\n",
        "df_subset_clean=df_subset_clean[df_subset_clean.ressort!=\"Gottesdienste\"]\n",
        "df_subset_clean=df_subset_clean[df_subset_clean.ressort!=\"Termine & Service\"]\n",
        "df_subset_clean=df_subset_clean[df_subset_clean.ressort!=\"SERVICE\"]\n",
        "df_subset_clean.shape"
      ],
      "metadata": {
        "colab": {
          "base_uri": "https://localhost:8080/"
        },
        "id": "J0oBrHFSKPUC",
        "outputId": "88e226fe-8a78-4694-9abc-689e1ea18880"
      },
      "execution_count": 97,
      "outputs": [
        {
          "output_type": "execute_result",
          "data": {
            "text/plain": [
              "(41319, 8)"
            ]
          },
          "metadata": {},
          "execution_count": 97
        }
      ]
    },
    {
      "cell_type": "markdown",
      "source": [
        "### Filter by Subtitle"
      ],
      "metadata": {
        "id": "GpRXNDd-Rtuj"
      }
    },
    {
      "cell_type": "code",
      "source": [
        "df_subset_clean=df_subset_clean[df_subset_clean.untertitel!=\"TERMINE\"]\n",
        "df_subset_clean=df_subset_clean[df_subset_clean.untertitel!=\"Klatsch & Tratsch\"]\n",
        "df_subset_clean.shape"
      ],
      "metadata": {
        "colab": {
          "base_uri": "https://localhost:8080/"
        },
        "id": "lwrK4trwSUBy",
        "outputId": "89d92ef9-6849-4c58-d405-bdca894c4497"
      },
      "execution_count": 98,
      "outputs": [
        {
          "output_type": "execute_result",
          "data": {
            "text/plain": [
              "(41302, 8)"
            ]
          },
          "metadata": {},
          "execution_count": 98
        }
      ]
    },
    {
      "cell_type": "code",
      "source": [
        "#keyword serach to exclude articles about statistics, victim protection programs\n",
        "df_subset_clean=df_subset_clean[~df_subset_clean.untertitel.apply(occurs, args=[\"hotline\"])]\n",
        "df_subset_clean=df_subset_clean[~df_subset_clean.untertitel.apply(occurs, args=[\"beratungsstelle\"])]\n",
        "df_subset_clean=df_subset_clean[~df_subset_clean.untertitel.apply(occurs, args=[\"weißer ring\"])]\n",
        "df_subset_clean=df_subset_clean[~df_subset_clean.untertitel.apply(occurs, args=[\"Fernsehserie\"])]\n",
        "df_subset_clean=df_subset_clean[~df_subset_clean.untertitel.apply(occurs, args=[\"Hilfsangebote\"])]\n",
        "df_subset_clean=df_subset_clean[~df_subset_clean.untertitel.apply(occurs, args=[\"Kriminalitätsstatistik\"])]\n",
        "df_subset_clean=df_subset_clean[~df_subset_clean.untertitel.apply(occurs, args=[\"Kriminalstatistik\"])]\n",
        "\n",
        "df_subset_clean.shape"
      ],
      "metadata": {
        "colab": {
          "base_uri": "https://localhost:8080/"
        },
        "id": "pzSlK__lanmZ",
        "outputId": "21d52af2-34bd-4ab1-8757-6eed447c98f9"
      },
      "execution_count": 99,
      "outputs": [
        {
          "output_type": "execute_result",
          "data": {
            "text/plain": [
              "(40593, 8)"
            ]
          },
          "metadata": {},
          "execution_count": 99
        }
      ]
    },
    {
      "cell_type": "markdown",
      "source": [
        "### Filter by Text"
      ],
      "metadata": {
        "id": "lGyzcy6unPdT"
      }
    },
    {
      "cell_type": "code",
      "source": [
        "art_words_to_exclude=[# Notufe, Beratungen\n",
        "                        \"Bereitschaftsdienst\", \"Hotline\", \"Notruf\", \"Hilfetelefon\",\"behindertenfahrdienst\",\"Polizeiinspektion\", \n",
        "                        \"Feuerwehr\",\"rettungsdienst\", \"Notdienst\",\"Bereitschaftspraxis\",\"Öffnungszeiten\",\"Vergiftungen\",\n",
        "                        \"Ärztehaus\",\"Selbsthilfegruppe\",\"Leitstelle\",\"Tel\",\"Aids\",\"Ambulante\",\"ACE\", \n",
        "                        \"Club\",\"Interventionsstelle\",\"Frauenberatungsstelle\",\"Rufnummer\",\"Rufnummern\", \"apotheke\", \"hilfsangebot\",\"hilfsangebote\", \n",
        "                        \"opferhilfe\",\"Berufsbildungszentrum\",\"opferschutz\",\n",
        "                        # Kampagnen, Akitonen\n",
        "                        \"kampagne\", \"aktion\", \"ring\",\"initiative\",\n",
        "\n",
        "\n",
        "]"
      ],
      "metadata": {
        "id": "NLX7MQ6Fs1tg"
      },
      "execution_count": 100,
      "outputs": []
    },
    {
      "cell_type": "code",
      "source": [
        "df_subset_clean=df_subset_clean[df_subset_clean[\"text\"].apply(first_words_filter,args=[art_words_to_exclude])]\n",
        "df_subset_clean.shape"
      ],
      "metadata": {
        "id": "I6--wvlqBpYz",
        "colab": {
          "base_uri": "https://localhost:8080/"
        },
        "outputId": "c993bb06-9244-46f6-b53b-f637a304929d"
      },
      "execution_count": 101,
      "outputs": [
        {
          "output_type": "execute_result",
          "data": {
            "text/plain": [
              "(31836, 8)"
            ]
          },
          "metadata": {},
          "execution_count": 101
        }
      ]
    },
    {
      "cell_type": "markdown",
      "source": [
        "### Filter by Paragraph"
      ],
      "metadata": {
        "id": "Aa-slP38P5KQ"
      }
    },
    {
      "cell_type": "code",
      "source": [
        "df_exploded=df_subset_clean.sample(5000)"
      ],
      "metadata": {
        "id": "ObiRim-6IcbS"
      },
      "execution_count": 102,
      "outputs": []
    },
    {
      "cell_type": "code",
      "source": [
        "# Explode \"text\" column\n",
        "df_exploded= df_exploded.explode(\"text\")\n",
        "# Create \"artikel_order\" column\n",
        "df_exploded[\"artikel_order\"] = df_exploded.groupby(\"artikel_id\").cumcount() + 1\n",
        "df_exploded.shape"
      ],
      "metadata": {
        "id": "h22XwUD9P25d",
        "colab": {
          "base_uri": "https://localhost:8080/"
        },
        "outputId": "c39b1ea3-4e61-4aa7-e2b0-f958b4f406b6"
      },
      "execution_count": 103,
      "outputs": [
        {
          "output_type": "execute_result",
          "data": {
            "text/plain": [
              "(65975, 9)"
            ]
          },
          "metadata": {},
          "execution_count": 103
        }
      ]
    },
    {
      "cell_type": "code",
      "source": [
        "# remove duplicated paragraphs\n",
        "df_exploded=df_exploded.drop_duplicates(\"text\")\n",
        "df_exploded.shape"
      ],
      "metadata": {
        "id": "IFEFiMM1Tkq1",
        "colab": {
          "base_uri": "https://localhost:8080/"
        },
        "outputId": "37ffd12e-d637-45a6-fc22-589ded91f42a"
      },
      "execution_count": 104,
      "outputs": [
        {
          "output_type": "execute_result",
          "data": {
            "text/plain": [
              "(42214, 9)"
            ]
          },
          "metadata": {},
          "execution_count": 104
        }
      ]
    },
    {
      "cell_type": "code",
      "source": [
        "# remove hotlines, etc, if keywords contained in the first 3 words\n",
        "df_exploded=df_exploded[df_exploded[\"text\"].apply(first_words_filter,3,args=[art_words_to_exclude])]\n",
        "df_exploded.shape"
      ],
      "metadata": {
        "id": "OrsJ50BxEH4W",
        "colab": {
          "base_uri": "https://localhost:8080/"
        },
        "outputId": "90e6b230-32ab-464f-db06-51e1b82761a1"
      },
      "execution_count": 105,
      "outputs": [
        {
          "output_type": "execute_result",
          "data": {
            "text/plain": [
              "(40945, 9)"
            ]
          },
          "metadata": {},
          "execution_count": 105
        }
      ]
    },
    {
      "cell_type": "code",
      "source": [
        "# remove paragraphs by keywords if container in the first 3 words\n",
        "par_words_to_exclude=[\"statistik\", \"kriminalstatistik\", \"landeskriminalamt\"]\n",
        "df_exploded=df_exploded[df_exploded[\"text\"].apply(first_words_filter, args=[par_words_to_exclude])]\n",
        "df_exploded.shape"
      ],
      "metadata": {
        "id": "scCTikgEI9Fd",
        "colab": {
          "base_uri": "https://localhost:8080/"
        },
        "outputId": "68cc5709-a589-4893-ea84-cbaeb78f49e0"
      },
      "execution_count": 106,
      "outputs": [
        {
          "output_type": "execute_result",
          "data": {
            "text/plain": [
              "(40908, 9)"
            ]
          },
          "metadata": {},
          "execution_count": 106
        }
      ]
    },
    {
      "cell_type": "code",
      "source": [
        "# phone numbers usually occur in paragraphs with hotlines/ help services\n",
        "phone_regex ='\\(?\\d{4,5}\\)?[/\\s]*\\d{1,5}\\s*\\d{1,5}'\n",
        "df_exploded=df_exploded[df_exploded[\"text\"].apply(regex_search, args=[phone_regex])]\n",
        "df_exploded.shape"
      ],
      "metadata": {
        "id": "9wS0zOJ4S5ws",
        "colab": {
          "base_uri": "https://localhost:8080/"
        },
        "outputId": "ff9d64fb-4c22-44c4-9d15-284e797f0ff6"
      },
      "execution_count": 107,
      "outputs": [
        {
          "output_type": "execute_result",
          "data": {
            "text/plain": [
              "(36305, 9)"
            ]
          },
          "metadata": {},
          "execution_count": 107
        }
      ]
    },
    {
      "cell_type": "code",
      "source": [
        "# times usually indicate opening hours/ events \n",
        "time_regex = '\\d{1,2}[:\\/.]\\d{1,2}[:\\/.]\\d{2,4}'\n",
        "df_exploded=df_exploded[df_exploded[\"text\"].apply(regex_search, args=[time_regex])]\n",
        "df_exploded.shape"
      ],
      "metadata": {
        "id": "y1lc-LO9WxE3",
        "colab": {
          "base_uri": "https://localhost:8080/"
        },
        "outputId": "c646a45d-ebc5-4dc6-b07d-33e62134795b"
      },
      "execution_count": 108,
      "outputs": [
        {
          "output_type": "execute_result",
          "data": {
            "text/plain": [
              "(35924, 9)"
            ]
          },
          "metadata": {},
          "execution_count": 108
        }
      ]
    },
    {
      "cell_type": "code",
      "source": [
        "# times usually indicate opening hours/ events \n",
        "weekday_regex = '(Mo|Di|Mi|Do|Fr|Sa|So)[-\\\\,s–\\ ./]+((Mo|Di|Mi|Do|Fr|Sa|So)[-–./ ]+)?\\d{1,2}'\n",
        "df_exploded=df_exploded[df_exploded[\"text\"].apply(regex_search, args=[weekday_regex])]\n",
        "df_exploded.shape"
      ],
      "metadata": {
        "id": "9ptetph1Xzab",
        "colab": {
          "base_uri": "https://localhost:8080/"
        },
        "outputId": "7dd6ea5b-27b3-44f1-f4cf-b02d8deff267"
      },
      "execution_count": 109,
      "outputs": [
        {
          "output_type": "execute_result",
          "data": {
            "text/plain": [
              "(35446, 9)"
            ]
          },
          "metadata": {},
          "execution_count": 109
        }
      ]
    },
    {
      "cell_type": "code",
      "source": [
        "# exclude stats\n",
        "stats_regex=\"\\d*([\\.,]\\d*)?[ ](Prozent|%)\"\n",
        "df_exploded=df_exploded[df_exploded[\"text\"].apply(regex_search, args=[stats_regex])]\n",
        "df_exploded.shape"
      ],
      "metadata": {
        "id": "Rsj1W4qShVpi",
        "colab": {
          "base_uri": "https://localhost:8080/"
        },
        "outputId": "df1f7efe-2bb6-4b6b-ae31-6d51d0b5b574"
      },
      "execution_count": 110,
      "outputs": [
        {
          "output_type": "execute_result",
          "data": {
            "text/plain": [
              "(34080, 9)"
            ]
          },
          "metadata": {},
          "execution_count": 110
        }
      ]
    },
    {
      "cell_type": "code",
      "source": [
        "# exclude stats\n",
        "stats_regex2=\"\\d+ (Fälle|Opfer|Frauen|Kinder|Personen|Betroffene)\"\n",
        "df_exploded=df_exploded[df_exploded[\"text\"].apply(regex_search, args=[stats_regex2])]\n",
        "df_exploded.shape"
      ],
      "metadata": {
        "id": "e_gZXdwBxQRg",
        "colab": {
          "base_uri": "https://localhost:8080/"
        },
        "outputId": "28e70a1e-c47a-4613-db02-3c8b635f8d8a"
      },
      "execution_count": 111,
      "outputs": [
        {
          "output_type": "execute_result",
          "data": {
            "text/plain": [
              "(33205, 9)"
            ]
          },
          "metadata": {},
          "execution_count": 111
        }
      ]
    },
    {
      "cell_type": "code",
      "source": [
        "# street names usually indicate events/ locations/ opening hours\n",
        "street_regex=\"[A-z]+(str|straße|weg| Str|allee|gasse| Gasse|platz)[. ]+\\d+\"\n",
        "df_exploded=df_exploded[df_exploded[\"text\"].apply(regex_search, args=[street_regex])]\n",
        "df_exploded.shape"
      ],
      "metadata": {
        "id": "471OpPwijJ7Q",
        "colab": {
          "base_uri": "https://localhost:8080/"
        },
        "outputId": "a2621478-4148-4dd5-d413-f14d9482529f"
      },
      "execution_count": 112,
      "outputs": [
        {
          "output_type": "execute_result",
          "data": {
            "text/plain": [
              "(32090, 9)"
            ]
          },
          "metadata": {},
          "execution_count": 112
        }
      ]
    },
    {
      "cell_type": "code",
      "source": [
        "# very short paragraphs usually are not part of the article\n",
        "df_exploded.loc[:,\"chars\"]=df_exploded[\"text\"].apply(len)\n",
        "df_exploded=df_exploded[df_exploded[\"chars\"]>60]\n",
        "df_exploded.shape"
      ],
      "metadata": {
        "id": "lkntG5OJraxM",
        "colab": {
          "base_uri": "https://localhost:8080/"
        },
        "outputId": "db939e4a-5ce7-4986-bef2-8912012b0920"
      },
      "execution_count": 113,
      "outputs": [
        {
          "output_type": "stream",
          "name": "stderr",
          "text": [
            "<ipython-input-113-1e2d6bb896ec>:2: SettingWithCopyWarning: \n",
            "A value is trying to be set on a copy of a slice from a DataFrame.\n",
            "Try using .loc[row_indexer,col_indexer] = value instead\n",
            "\n",
            "See the caveats in the documentation: https://pandas.pydata.org/pandas-docs/stable/user_guide/indexing.html#returning-a-view-versus-a-copy\n",
            "  df_exploded.loc[:,\"chars\"]=df_exploded[\"text\"].apply(len)\n"
          ]
        },
        {
          "output_type": "execute_result",
          "data": {
            "text/plain": [
              "(28238, 10)"
            ]
          },
          "metadata": {},
          "execution_count": 113
        }
      ]
    },
    {
      "cell_type": "code",
      "source": [
        "# hours usually indicate the pararaph is containing opening hours, movie schedules, etc\n",
        "hours_regex=\"(\\d{1,2}.\\d{2}, \\d{1})+\"\n",
        "df_exploded=df_exploded[df_exploded[\"text\"].apply(regex_search, args=[hours_regex])]\n",
        "df_exploded.shape"
      ],
      "metadata": {
        "id": "s4UOIw17lSn6",
        "colab": {
          "base_uri": "https://localhost:8080/"
        },
        "outputId": "2d99c092-e7dd-455d-f51f-64571eced1f2"
      },
      "execution_count": 114,
      "outputs": [
        {
          "output_type": "execute_result",
          "data": {
            "text/plain": [
              "(28152, 10)"
            ]
          },
          "metadata": {},
          "execution_count": 114
        }
      ]
    },
    {
      "cell_type": "code",
      "source": [
        "# email addresses are usually in paragraphs with contact info\n",
        "email_regex=\"[A-Za-z0-9._%+-]+@[A-Za-z0-9.-]+\\.[A-Za-z]{2,}\"\n",
        "df_exploded=df_exploded[df_exploded[\"text\"].apply(regex_search, args=[email_regex])]\n",
        "df_exploded.shape"
      ],
      "metadata": {
        "id": "wGeRpdKwrVfG",
        "colab": {
          "base_uri": "https://localhost:8080/"
        },
        "outputId": "5bd3022e-3a98-495b-f6ab-9e82672cbfbb"
      },
      "execution_count": 115,
      "outputs": [
        {
          "output_type": "execute_result",
          "data": {
            "text/plain": [
              "(27982, 10)"
            ]
          },
          "metadata": {},
          "execution_count": 115
        }
      ]
    },
    {
      "cell_type": "code",
      "source": [
        "# links are usually in paragraphs with contact info\n",
        "link_regex=\"(www\\.)\\S+\\.\\S+\"\n",
        "df_exploded=df_exploded[df_exploded[\"text\"].apply(regex_search, args=[link_regex])]\n",
        "df_exploded.shape"
      ],
      "metadata": {
        "id": "Pt5smIpSsJss",
        "colab": {
          "base_uri": "https://localhost:8080/"
        },
        "outputId": "6e257448-1d2f-49ae-86e0-ac881b19d293"
      },
      "execution_count": 116,
      "outputs": [
        {
          "output_type": "execute_result",
          "data": {
            "text/plain": [
              "(27786, 10)"
            ]
          },
          "metadata": {},
          "execution_count": 116
        }
      ]
    },
    {
      "cell_type": "code",
      "source": [
        "df_exploded=df_exploded[~df_exploded[\"text\"].apply(occurs, args=[\"Stadtteiltreff\"])]\n",
        "df_exploded=df_exploded[~df_exploded[\"text\"].apply(occurs, args=[\"Plakataktion\"])]\n",
        "df_exploded=df_exploded[~df_exploded[\"text\"].apply(occurs, args=[\"One Billion Rising\"])]\n",
        "df_exploded=df_exploded[~df_exploded[\"text\"].apply(occurs, args=[\"Gewalt kommt nicht in die Tüte\"])]\n",
        "df_exploded=df_exploded[~df_exploded[\"text\"].apply(occurs, args=[\"opferschutzorganisation\"])]\n",
        "df_exploded=df_exploded[~df_exploded[\"text\"].apply(occurs, args=[\"Frauen helfen Frauen\"])]\n",
        "df_exploded.shape"
      ],
      "metadata": {
        "colab": {
          "base_uri": "https://localhost:8080/"
        },
        "id": "k8CDp1m6uji3",
        "outputId": "b04bfd0d-d398-400b-d89e-891bcf2b8025"
      },
      "execution_count": 117,
      "outputs": [
        {
          "output_type": "execute_result",
          "data": {
            "text/plain": [
              "(27582, 10)"
            ]
          },
          "metadata": {},
          "execution_count": 117
        }
      ]
    },
    {
      "cell_type": "markdown",
      "source": [
        "### Excluding annotated Paragraphs"
      ],
      "metadata": {
        "id": "eqPBOuY6mqUT"
      }
    },
    {
      "cell_type": "code",
      "source": [
        "import json"
      ],
      "metadata": {
        "id": "v8RN9f25GrIj"
      },
      "execution_count": 118,
      "outputs": []
    },
    {
      "cell_type": "code",
      "execution_count": 119,
      "metadata": {
        "id": "Ue5Z2rnAE_yQ"
      },
      "outputs": [],
      "source": [
        "#read json data\n",
        "json_data=json.load(open(\"annotated/annotations_05_18.json\",encoding='utf-8'))"
      ]
    },
    {
      "cell_type": "code",
      "execution_count": 120,
      "metadata": {
        "id": "GC3Ir-qYDqHX"
      },
      "outputs": [],
      "source": [
        "#convert to dataframe\n",
        "data=pd.DataFrame(json_data[\"documents\"])"
      ]
    },
    {
      "cell_type": "code",
      "execution_count": 121,
      "metadata": {
        "id": "dfHJHZTcGoUq",
        "colab": {
          "base_uri": "https://localhost:8080/",
          "height": 206
        },
        "outputId": "1ff1acd4-5dc2-4bd9-82a1-ea520db090da"
      },
      "outputs": [
        {
          "output_type": "execute_result",
          "data": {
            "text/plain": [
              "                                     id  \\\n",
              "0  4572dea4-6a08-4f1e-b312-5821112bb5f5   \n",
              "1  0bcada32-8dc5-41cf-b83b-67d2e742bada   \n",
              "2  a30791b9-522e-45c1-8b33-79d4165282af   \n",
              "3  043e3909-bcdd-4c6b-a54f-f947d46ad18e   \n",
              "4  08cef91c-6d73-472c-8349-07a5b72009d1   \n",
              "\n",
              "                                                text  \\\n",
              "0  Ein Mann (25) ist jetzt vom Schöffengericht am...   \n",
              "1  Als Zeugin trat die Ex-Lebensgefährtin des Syr...   \n",
              "2  Zunächst leugnete der Angeklagte, dass es über...   \n",
              "3  Das Schöffengericht hatte es in diesem Fall of...   \n",
              "4  \"Gewalt in der Familie ist weder Privatsache n...   \n",
              "\n",
              "                                         annotations  \\\n",
              "0  [{'str_start': None, 'str_stop': None, 'annota...   \n",
              "1  [{'str_start': None, 'str_stop': None, 'annota...   \n",
              "2  [{'str_start': None, 'str_stop': None, 'annota...   \n",
              "3  [{'str_start': None, 'str_stop': None, 'annota...   \n",
              "4  [{'str_start': None, 'str_stop': None, 'annota...   \n",
              "\n",
              "                                     attributes_flat  \n",
              "0  {'artikel_id': 'F3A4578D33A8603DF0573D3DE3CB26...  \n",
              "1  {'artikel_id': 'F3A4578D33A8603DF0573D3DE3CB26...  \n",
              "2  {'artikel_id': 'F3A4578D33A8603DF0573D3DE3CB26...  \n",
              "3  {'artikel_id': 'F3A4578D33A8603DF0573D3DE3CB26...  \n",
              "4  {'artikel_id': 'IRA-82182598', 'name': 'SÜDWES...  "
            ],
            "text/html": [
              "\n",
              "  <div id=\"df-875b9440-4ee4-4324-b9a2-c3ac4103cb6d\">\n",
              "    <div class=\"colab-df-container\">\n",
              "      <div>\n",
              "<style scoped>\n",
              "    .dataframe tbody tr th:only-of-type {\n",
              "        vertical-align: middle;\n",
              "    }\n",
              "\n",
              "    .dataframe tbody tr th {\n",
              "        vertical-align: top;\n",
              "    }\n",
              "\n",
              "    .dataframe thead th {\n",
              "        text-align: right;\n",
              "    }\n",
              "</style>\n",
              "<table border=\"1\" class=\"dataframe\">\n",
              "  <thead>\n",
              "    <tr style=\"text-align: right;\">\n",
              "      <th></th>\n",
              "      <th>id</th>\n",
              "      <th>text</th>\n",
              "      <th>annotations</th>\n",
              "      <th>attributes_flat</th>\n",
              "    </tr>\n",
              "  </thead>\n",
              "  <tbody>\n",
              "    <tr>\n",
              "      <th>0</th>\n",
              "      <td>4572dea4-6a08-4f1e-b312-5821112bb5f5</td>\n",
              "      <td>Ein Mann (25) ist jetzt vom Schöffengericht am...</td>\n",
              "      <td>[{'str_start': None, 'str_stop': None, 'annota...</td>\n",
              "      <td>{'artikel_id': 'F3A4578D33A8603DF0573D3DE3CB26...</td>\n",
              "    </tr>\n",
              "    <tr>\n",
              "      <th>1</th>\n",
              "      <td>0bcada32-8dc5-41cf-b83b-67d2e742bada</td>\n",
              "      <td>Als Zeugin trat die Ex-Lebensgefährtin des Syr...</td>\n",
              "      <td>[{'str_start': None, 'str_stop': None, 'annota...</td>\n",
              "      <td>{'artikel_id': 'F3A4578D33A8603DF0573D3DE3CB26...</td>\n",
              "    </tr>\n",
              "    <tr>\n",
              "      <th>2</th>\n",
              "      <td>a30791b9-522e-45c1-8b33-79d4165282af</td>\n",
              "      <td>Zunächst leugnete der Angeklagte, dass es über...</td>\n",
              "      <td>[{'str_start': None, 'str_stop': None, 'annota...</td>\n",
              "      <td>{'artikel_id': 'F3A4578D33A8603DF0573D3DE3CB26...</td>\n",
              "    </tr>\n",
              "    <tr>\n",
              "      <th>3</th>\n",
              "      <td>043e3909-bcdd-4c6b-a54f-f947d46ad18e</td>\n",
              "      <td>Das Schöffengericht hatte es in diesem Fall of...</td>\n",
              "      <td>[{'str_start': None, 'str_stop': None, 'annota...</td>\n",
              "      <td>{'artikel_id': 'F3A4578D33A8603DF0573D3DE3CB26...</td>\n",
              "    </tr>\n",
              "    <tr>\n",
              "      <th>4</th>\n",
              "      <td>08cef91c-6d73-472c-8349-07a5b72009d1</td>\n",
              "      <td>\"Gewalt in der Familie ist weder Privatsache n...</td>\n",
              "      <td>[{'str_start': None, 'str_stop': None, 'annota...</td>\n",
              "      <td>{'artikel_id': 'IRA-82182598', 'name': 'SÜDWES...</td>\n",
              "    </tr>\n",
              "  </tbody>\n",
              "</table>\n",
              "</div>\n",
              "      <button class=\"colab-df-convert\" onclick=\"convertToInteractive('df-875b9440-4ee4-4324-b9a2-c3ac4103cb6d')\"\n",
              "              title=\"Convert this dataframe to an interactive table.\"\n",
              "              style=\"display:none;\">\n",
              "        \n",
              "  <svg xmlns=\"http://www.w3.org/2000/svg\" height=\"24px\"viewBox=\"0 0 24 24\"\n",
              "       width=\"24px\">\n",
              "    <path d=\"M0 0h24v24H0V0z\" fill=\"none\"/>\n",
              "    <path d=\"M18.56 5.44l.94 2.06.94-2.06 2.06-.94-2.06-.94-.94-2.06-.94 2.06-2.06.94zm-11 1L8.5 8.5l.94-2.06 2.06-.94-2.06-.94L8.5 2.5l-.94 2.06-2.06.94zm10 10l.94 2.06.94-2.06 2.06-.94-2.06-.94-.94-2.06-.94 2.06-2.06.94z\"/><path d=\"M17.41 7.96l-1.37-1.37c-.4-.4-.92-.59-1.43-.59-.52 0-1.04.2-1.43.59L10.3 9.45l-7.72 7.72c-.78.78-.78 2.05 0 2.83L4 21.41c.39.39.9.59 1.41.59.51 0 1.02-.2 1.41-.59l7.78-7.78 2.81-2.81c.8-.78.8-2.07 0-2.86zM5.41 20L4 18.59l7.72-7.72 1.47 1.35L5.41 20z\"/>\n",
              "  </svg>\n",
              "      </button>\n",
              "      \n",
              "  <style>\n",
              "    .colab-df-container {\n",
              "      display:flex;\n",
              "      flex-wrap:wrap;\n",
              "      gap: 12px;\n",
              "    }\n",
              "\n",
              "    .colab-df-convert {\n",
              "      background-color: #E8F0FE;\n",
              "      border: none;\n",
              "      border-radius: 50%;\n",
              "      cursor: pointer;\n",
              "      display: none;\n",
              "      fill: #1967D2;\n",
              "      height: 32px;\n",
              "      padding: 0 0 0 0;\n",
              "      width: 32px;\n",
              "    }\n",
              "\n",
              "    .colab-df-convert:hover {\n",
              "      background-color: #E2EBFA;\n",
              "      box-shadow: 0px 1px 2px rgba(60, 64, 67, 0.3), 0px 1px 3px 1px rgba(60, 64, 67, 0.15);\n",
              "      fill: #174EA6;\n",
              "    }\n",
              "\n",
              "    [theme=dark] .colab-df-convert {\n",
              "      background-color: #3B4455;\n",
              "      fill: #D2E3FC;\n",
              "    }\n",
              "\n",
              "    [theme=dark] .colab-df-convert:hover {\n",
              "      background-color: #434B5C;\n",
              "      box-shadow: 0px 1px 3px 1px rgba(0, 0, 0, 0.15);\n",
              "      filter: drop-shadow(0px 1px 2px rgba(0, 0, 0, 0.3));\n",
              "      fill: #FFFFFF;\n",
              "    }\n",
              "  </style>\n",
              "\n",
              "      <script>\n",
              "        const buttonEl =\n",
              "          document.querySelector('#df-875b9440-4ee4-4324-b9a2-c3ac4103cb6d button.colab-df-convert');\n",
              "        buttonEl.style.display =\n",
              "          google.colab.kernel.accessAllowed ? 'block' : 'none';\n",
              "\n",
              "        async function convertToInteractive(key) {\n",
              "          const element = document.querySelector('#df-875b9440-4ee4-4324-b9a2-c3ac4103cb6d');\n",
              "          const dataTable =\n",
              "            await google.colab.kernel.invokeFunction('convertToInteractive',\n",
              "                                                     [key], {});\n",
              "          if (!dataTable) return;\n",
              "\n",
              "          const docLinkHtml = 'Like what you see? Visit the ' +\n",
              "            '<a target=\"_blank\" href=https://colab.research.google.com/notebooks/data_table.ipynb>data table notebook</a>'\n",
              "            + ' to learn more about interactive tables.';\n",
              "          element.innerHTML = '';\n",
              "          dataTable['output_type'] = 'display_data';\n",
              "          await google.colab.output.renderOutput(dataTable, element);\n",
              "          const docLink = document.createElement('div');\n",
              "          docLink.innerHTML = docLinkHtml;\n",
              "          element.appendChild(docLink);\n",
              "        }\n",
              "      </script>\n",
              "    </div>\n",
              "  </div>\n",
              "  "
            ]
          },
          "metadata": {},
          "execution_count": 121
        }
      ],
      "source": [
        "#for now: filter out paragraphs that have not been annotated \n",
        "data=data[data[\"annotations\"].apply(len)>0]\n",
        "#reset index\n",
        "data=data.reset_index(drop=True)\n",
        "data.head()"
      ]
    },
    {
      "cell_type": "code",
      "source": [
        "data[\"artikel_id\"]=[entr[1].attributes_flat[\"artikel_id\"] for entr in data.iterrows()]\n",
        "data[\"artikel_order\"]=[entr[1].attributes_flat[\"artikel_order\"] for entr in data.iterrows()]\n",
        "data[\"name\"]=[entr[1].attributes_flat[\"name\"] for entr in data.iterrows()]"
      ],
      "metadata": {
        "id": "7urpm2X5H3Ln"
      },
      "execution_count": 122,
      "outputs": []
    },
    {
      "cell_type": "code",
      "source": [
        "data[\"artikel_order\"]=data[\"artikel_order\"].astype(int)"
      ],
      "metadata": {
        "id": "vsxXW_hnLCH1"
      },
      "execution_count": 123,
      "outputs": []
    },
    {
      "cell_type": "code",
      "source": [
        "data=data[[\"artikel_id\",\"name\",\"annotations\",\"artikel_order\"]]"
      ],
      "metadata": {
        "id": "1Tb7pT0ZN_3B"
      },
      "execution_count": 124,
      "outputs": []
    },
    {
      "cell_type": "code",
      "source": [
        "df_merged=pd.merge(data,df_exploded,left_on=[\"artikel_id\",\"artikel_order\",\"name\"],right_on=[\"artikel_id\",\"artikel_order\",\"name\"], how=\"right\")"
      ],
      "metadata": {
        "id": "PcfEXcb7Iyzu"
      },
      "execution_count": 125,
      "outputs": []
    },
    {
      "cell_type": "code",
      "source": [
        "# remove paragraphs that already have annotations\n",
        "df_exploded=df_merged[df_merged.annotations.isna()]"
      ],
      "metadata": {
        "id": "hsjzAMdSQhtj"
      },
      "execution_count": 126,
      "outputs": []
    },
    {
      "cell_type": "markdown",
      "source": [
        "### Randomly select one paragraph per article"
      ],
      "metadata": {
        "id": "D_4vCxClhzl2"
      }
    },
    {
      "cell_type": "code",
      "source": [
        "df_subset_elinor1=df_exploded"
      ],
      "metadata": {
        "id": "3C_vKteF1NkG"
      },
      "execution_count": 127,
      "outputs": []
    },
    {
      "cell_type": "code",
      "source": [
        "import nltk\n",
        "nltk.download('punkt')"
      ],
      "metadata": {
        "id": "yjOtzi_H58w4",
        "colab": {
          "base_uri": "https://localhost:8080/"
        },
        "outputId": "ad2735d0-cea6-44b8-caa5-1fd77c778ec4"
      },
      "execution_count": 128,
      "outputs": [
        {
          "output_type": "stream",
          "name": "stderr",
          "text": [
            "[nltk_data] Downloading package punkt to /root/nltk_data...\n",
            "[nltk_data]   Package punkt is already up-to-date!\n"
          ]
        },
        {
          "output_type": "execute_result",
          "data": {
            "text/plain": [
              "True"
            ]
          },
          "metadata": {},
          "execution_count": 128
        }
      ]
    },
    {
      "cell_type": "code",
      "source": [
        "def count_sentences(text):\n",
        "    return len(nltk.sent_tokenize(text))"
      ],
      "metadata": {
        "id": "M2OMY9wc5-Gl"
      },
      "execution_count": 129,
      "outputs": []
    },
    {
      "cell_type": "code",
      "source": [
        "df_subset_elinor1['num_sentences'] = df_subset_elinor1['text'].apply(count_sentences)"
      ],
      "metadata": {
        "id": "z2Pc_Efw6Aku",
        "colab": {
          "base_uri": "https://localhost:8080/"
        },
        "outputId": "525cbecc-b8d4-419d-96a1-0a046ff27d26"
      },
      "execution_count": 130,
      "outputs": [
        {
          "output_type": "stream",
          "name": "stderr",
          "text": [
            "<ipython-input-130-229108de2b5b>:1: SettingWithCopyWarning: \n",
            "A value is trying to be set on a copy of a slice from a DataFrame.\n",
            "Try using .loc[row_indexer,col_indexer] = value instead\n",
            "\n",
            "See the caveats in the documentation: https://pandas.pydata.org/pandas-docs/stable/user_guide/indexing.html#returning-a-view-versus-a-copy\n",
            "  df_subset_elinor1['num_sentences'] = df_subset_elinor1['text'].apply(count_sentences)\n"
          ]
        }
      ]
    },
    {
      "cell_type": "code",
      "source": [
        "# Define a function to randomly select one row from each group\n",
        "def select_random_row(group):\n",
        "    if group['num_sentences'].max() > 1:\n",
        "        return group[group['num_sentences'] > 1].sample(n=1)\n",
        "    else:\n",
        "        return group.head(1)"
      ],
      "metadata": {
        "id": "iI_MlT6Y9QFU"
      },
      "execution_count": 131,
      "outputs": []
    },
    {
      "cell_type": "code",
      "source": [
        "# Apply the function to each group and combine the results\n",
        "random_rows = df_subset_elinor1.groupby('artikel_id').apply(select_random_row).reset_index(drop=True)"
      ],
      "metadata": {
        "id": "vzqDnnIR9b6T"
      },
      "execution_count": 132,
      "outputs": []
    },
    {
      "cell_type": "markdown",
      "source": [
        "## Export as csv"
      ],
      "metadata": {
        "id": "0Go0cc9U1kpE"
      }
    },
    {
      "cell_type": "code",
      "source": [
        "output_path = \"elinor\""
      ],
      "metadata": {
        "id": "ItHRtFVP9vl_"
      },
      "execution_count": 133,
      "outputs": []
    },
    {
      "cell_type": "code",
      "source": [
        "#random_rows.to_csv(output_path+\"/annotation_test_05_18.csv\", index=False, header = True,encoding = 'utf-8')"
      ],
      "metadata": {
        "id": "dJO8Splt9raZ"
      },
      "execution_count": 134,
      "outputs": []
    }
  ]
}