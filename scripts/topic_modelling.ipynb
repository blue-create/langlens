{
  "nbformat": 4,
  "nbformat_minor": 0,
  "metadata": {
    "colab": {
      "provenance": [],
      "collapsed_sections": [
        "do5VAushVvBB"
      ],
      "machine_shape": "hm",
      "include_colab_link": true
    },
    "kernelspec": {
      "name": "python3",
      "display_name": "Python 3"
    },
    "language_info": {
      "name": "python"
    },
    "gpuClass": "standard"
  },
  "cells": [
    {
      "cell_type": "markdown",
      "metadata": {
        "id": "view-in-github",
        "colab_type": "text"
      },
      "source": [
        "<a href=\"https://colab.research.google.com/github/blue-create/langlens/blob/main/scripts/topic_modelling.ipynb\" target=\"_parent\"><img src=\"https://colab.research.google.com/assets/colab-badge.svg\" alt=\"Open In Colab\"/></a>"
      ]
    },
    {
      "cell_type": "markdown",
      "source": [
        "#### Imports"
      ],
      "metadata": {
        "id": "CYallZU4Vmiz"
      }
    },
    {
      "cell_type": "code",
      "source": [
        "import json\n",
        "import nltk\n",
        "from nltk.collocations import *\n",
        "import datetime as dt\n",
        "import locale\n",
        "import spacy\n",
        "from tqdm import tqdm\n",
        "import pprint\n",
        "import pandas as pd\n",
        "from ast import literal_eval\n",
        "import os\n",
        "import gensim\n",
        "import gensim.corpora as corpora\n",
        "from pprint import pprint\n",
        "from tqdm import tqdm \n"
      ],
      "metadata": {
        "id": "XVDupKhjVzJw"
      },
      "execution_count": 1,
      "outputs": []
    },
    {
      "cell_type": "code",
      "source": [
        "!python -m spacy download de_core_news_lg"
      ],
      "metadata": {
        "id": "pxxX3cKAWJsY"
      },
      "execution_count": null,
      "outputs": []
    },
    {
      "cell_type": "markdown",
      "source": [
        "#### Read Data"
      ],
      "metadata": {
        "id": "Vwr8p0YQVpe4"
      }
    },
    {
      "cell_type": "code",
      "source": [
        "# connect with google drive\n",
        "from google.colab import drive\n",
        "drive.mount('/content/drive')"
      ],
      "metadata": {
        "colab": {
          "base_uri": "https://localhost:8080/"
        },
        "id": "Sq-tfVoNV9Vn",
        "outputId": "5dec6239-7edc-41e8-d0a0-fead6efdf63b"
      },
      "execution_count": 3,
      "outputs": [
        {
          "output_type": "stream",
          "name": "stdout",
          "text": [
            "Mounted at /content/drive\n"
          ]
        }
      ]
    },
    {
      "cell_type": "code",
      "source": [
        "#change cwd\n",
        "#%cd drive/MyDrive/Work/Frontline/data\n",
        "%cd /content/drive/MyDrive/data/"
      ],
      "metadata": {
        "id": "JZo05nte48yW",
        "outputId": "ff69b459-10a1-4435-cbea-d8ca82cf5f02",
        "colab": {
          "base_uri": "https://localhost:8080/"
        }
      },
      "execution_count": 4,
      "outputs": [
        {
          "output_type": "stream",
          "name": "stdout",
          "text": [
            "/content/drive/MyDrive/data\n"
          ]
        }
      ]
    },
    {
      "cell_type": "code",
      "source": [
        "# paths\n",
        "FILTERED_PATH=\"filtered_4_26\""
      ],
      "metadata": {
        "id": "bI87iJZopQK8"
      },
      "execution_count": 5,
      "outputs": []
    },
    {
      "cell_type": "code",
      "source": [
        "dfs = []\n",
        "\n",
        "# loop through files \n",
        "for filename in tqdm(os.listdir(FILTERED_PATH)):\n",
        "    # if csv file, load and add to dfs  \n",
        "    if filename.endswith(\".csv\"):\n",
        "        file_path = os.path.join(FILTERED_PATH, filename)\n",
        "        df = pd.read_csv(file_path, index_col=0, converters={\"text\":literal_eval})\n",
        "        dfs.append(df)\n",
        "\n",
        "# combine files in df\n",
        "df = pd.concat(dfs, ignore_index=True)"
      ],
      "metadata": {
        "id": "R0Bims7CWA4H",
        "outputId": "6baef41b-a744-4789-ae48-bf9e78f9bfd7",
        "colab": {
          "base_uri": "https://localhost:8080/"
        }
      },
      "execution_count": 6,
      "outputs": [
        {
          "output_type": "stream",
          "name": "stderr",
          "text": [
            "100%|██████████| 207/207 [00:17<00:00, 11.68it/s]\n"
          ]
        }
      ]
    },
    {
      "cell_type": "markdown",
      "source": [
        "### Topic Modelling\n"
      ],
      "metadata": {
        "id": "gnp6TO19XUOC"
      }
    },
    {
      "cell_type": "markdown",
      "source": [
        "#### Prepare Data\n"
      ],
      "metadata": {
        "id": "x5W-YSNIWWeT"
      }
    },
    {
      "cell_type": "code",
      "source": [
        "# custom module\n",
        "import preprocessing"
      ],
      "metadata": {
        "id": "AWIDwI00zTLF"
      },
      "execution_count": 7,
      "outputs": []
    },
    {
      "cell_type": "code",
      "execution_count": 8,
      "metadata": {
        "id": "a91da867"
      },
      "outputs": [],
      "source": [
        "# Load model\n",
        "spacy_mod = spacy.load(\"de_core_news_lg\", disable=['ner', 'parser', 'tagger'])"
      ]
    },
    {
      "cell_type": "code",
      "source": [
        "# read custom stopwords\n",
        "\n",
        "# open list of custom stopwords\n",
        "custom_stop_words= open(\"custom_stopwords.txt\").read().split()\n",
        "\n",
        "# add custom stopwords to model\n",
        "for word in custom_stop_words:\n",
        "  spacy_mod.Defaults.stop_words.add(word)"
      ],
      "metadata": {
        "id": "JB_UeUu-t269"
      },
      "execution_count": 9,
      "outputs": []
    },
    {
      "cell_type": "code",
      "source": [
        "smaller_df=df.iloc[:10000,:]"
      ],
      "metadata": {
        "id": "WUHR2Qu4KB-y"
      },
      "execution_count": 18,
      "outputs": []
    },
    {
      "cell_type": "code",
      "execution_count": 10,
      "metadata": {
        "colab": {
          "base_uri": "https://localhost:8080/"
        },
        "id": "IZhcGtp_VdhH",
        "outputId": "85350dbe-69c0-4de3-9c66-b6272eb691e3"
      },
      "outputs": [
        {
          "output_type": "stream",
          "name": "stderr",
          "text": [
            "63359it [39:45, 26.57it/s]\n"
          ]
        }
      ],
      "source": [
        "# convert corpus to language object\n",
        "spacy_lang = []\n",
        "for i, doc in tqdm(df.iterrows()): \n",
        "  spacy_lang.append(spacy_mod(\"\".join(doc['text'])))"
      ]
    },
    {
      "cell_type": "code",
      "source": [
        "# preprocess: remove stopwords\n",
        "spacy_cleaned = []\n",
        "for doc in tqdm(spacy_lang): \n",
        "    spacy_cleaned.append(preprocessing.preprocess(doc, remove_ent=True))"
      ],
      "metadata": {
        "colab": {
          "base_uri": "https://localhost:8080/"
        },
        "id": "VSbsu2D3XJDI",
        "outputId": "fbff0655-a9a2-4d78-d58f-64ccd8b7f68b"
      },
      "execution_count": 11,
      "outputs": [
        {
          "output_type": "stream",
          "name": "stderr",
          "text": [
            "100%|██████████| 63359/63359 [00:40<00:00, 1550.59it/s]\n"
          ]
        }
      ]
    },
    {
      "cell_type": "markdown",
      "source": [
        "#### Topic Analysis"
      ],
      "metadata": {
        "id": "mPPO8L1BXgDR"
      }
    },
    {
      "cell_type": "code",
      "source": [
        "# Create Dictionary\n",
        "id2word = corpora.Dictionary(spacy_cleaned)\n",
        "\n",
        "# Create Corpus\n",
        "texts = spacy_cleaned\n",
        "\n",
        "# Term Document Frequency\n",
        "corpus = [id2word.doc2bow(text) for text in texts]"
      ],
      "metadata": {
        "id": "YimmnX9DXj05"
      },
      "execution_count": 12,
      "outputs": []
    },
    {
      "cell_type": "code",
      "source": [
        "# number of topics\n",
        "num_topics = 5\n",
        "# Build LDA model\n",
        "lda_model = gensim.models.LdaMulticore(corpus=corpus,id2word=id2word, num_topics=num_topics)\n",
        "# Print the key words for each topic\n",
        "pprint(lda_model.print_topics())\n",
        "doc_lda = lda_model[corpus]"
      ],
      "metadata": {
        "colab": {
          "base_uri": "https://localhost:8080/"
        },
        "id": "H_QskpU6XzBa",
        "outputId": "a3ccbde0-c12a-42d4-8907-581b0e3d465f"
      },
      "execution_count": 13,
      "outputs": [
        {
          "output_type": "stream",
          "name": "stdout",
          "text": [
            "[(0,\n",
            "  '0.138*\"telefon\" + 0.017*\"beratung\" + 0.016*\"infos\" + 0.016*\"kontakt\" + '\n",
            "  '0.014*\"menschen\" + 0.013*\"montag\" + 0.010*\"monat\" + 0.010*\"treffen\" + '\n",
            "  '0.010*\"donnerstag\" + 0.010*\"freitag\"'),\n",
            " (1,\n",
            "  '0.008*\"kinder\" + 0.006*\"frauen\" + 0.005*\"gewalt\" + 0.005*\"menschen\" + '\n",
            "  '0.005*\"b\" + 0.004*\"häuslicher\" + 0.003*\"eltern\" + 0.003*\"telefon\" + '\n",
            "  '0.003*\"euro\" + 0.003*\"i\"'),\n",
            " (2,\n",
            "  '0.008*\"polizei\" + 0.008*\"frau\" + 0.007*\"mann\" + 0.006*\"gewalt\" + '\n",
            "  '0.005*\"frauen\" + 0.004*\"menschen\" + 0.004*\"opfer\" + 0.003*\"täter\" + '\n",
            "  '0.003*\"kinder\" + 0.003*\"leben\"'),\n",
            " (3,\n",
            "  '0.023*\"telefon\" + 0.018*\"style\" + 0.017*\"straße\" + 0.016*\"gewalt\" + '\n",
            "  '0.016*\"do\" + 0.012*\"bereitschaftsdienst\" + 0.012*\"frauen\" + 0.012*\"mi\" + '\n",
            "  '0.011*\"häuslicher\" + 0.011*\"beratung\"'),\n",
            " (4,\n",
            "  '0.024*\"gewalt\" + 0.023*\"frauen\" + 0.006*\"style\" + 0.006*\"häuslicher\" + '\n",
            "  '0.006*\"kinder\" + 0.006*\"prozent\" + 0.005*\"häusliche\" + 0.004*\"opfer\" + '\n",
            "  '0.004*\"menschen\" + 0.004*\"polizei\"')]\n"
          ]
        }
      ]
    },
    {
      "cell_type": "code",
      "source": [
        "## VISUALiZATION NOT WORKING ##\n",
        "\n",
        "# import pyLDAvis\n",
        "# import pyLDAvis.gensim\n",
        "# import pickle \n",
        "# pyLDAvis.enable_notebook()\n",
        "# pyLDAvis.gensim.prepare(lda_model, corpus, id2word)"
      ],
      "metadata": {
        "id": "SJhc4baCakud"
      },
      "execution_count": null,
      "outputs": []
    },
    {
      "cell_type": "markdown",
      "source": [
        "END OF CODE"
      ],
      "metadata": {
        "id": "_gpYl56fBjCO"
      }
    }
  ]
}