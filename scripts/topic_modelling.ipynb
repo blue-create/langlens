{
  "nbformat": 4,
  "nbformat_minor": 0,
  "metadata": {
    "colab": {
      "provenance": [],
      "collapsed_sections": [
        "do5VAushVvBB"
      ],
      "authorship_tag": "ABX9TyNTTQqPuTeMApOiKPtoqy4x"
    },
    "kernelspec": {
      "name": "python3",
      "display_name": "Python 3"
    },
    "language_info": {
      "name": "python"
    }
  },
  "cells": [
    {
      "cell_type": "markdown",
      "source": [
        "#### Imports"
      ],
      "metadata": {
        "id": "CYallZU4Vmiz"
      }
    },
    {
      "cell_type": "code",
      "source": [
        "import json\n",
        "import nltk\n",
        "from nltk.collocations import *\n",
        "import datetime as dt\n",
        "import locale\n",
        "import spacy\n",
        "from tqdm import tqdm\n",
        "import pprint\n",
        "import pandas as pd\n",
        "from ast import literal_eval\n",
        "import os\n",
        "import gensim\n",
        "import gensim.corpora as corpora\n",
        "from pprint import pprint\n"
      ],
      "metadata": {
        "id": "XVDupKhjVzJw"
      },
      "execution_count": 34,
      "outputs": []
    },
    {
      "cell_type": "code",
      "source": [
        "#!python -m spacy download de_core_news_lg"
      ],
      "metadata": {
        "id": "pxxX3cKAWJsY"
      },
      "execution_count": 10,
      "outputs": []
    },
    {
      "cell_type": "markdown",
      "source": [
        "#### Read Data"
      ],
      "metadata": {
        "id": "Vwr8p0YQVpe4"
      }
    },
    {
      "cell_type": "code",
      "source": [
        "# connect with google drive\n",
        "from google.colab import drive\n",
        "drive.mount('/content/drive')"
      ],
      "metadata": {
        "colab": {
          "base_uri": "https://localhost:8080/"
        },
        "id": "Sq-tfVoNV9Vn",
        "outputId": "07e8b5ad-d56a-40ad-bfde-516895bcd3cc"
      },
      "execution_count": 22,
      "outputs": [
        {
          "output_type": "stream",
          "name": "stdout",
          "text": [
            "Drive already mounted at /content/drive; to attempt to forcibly remount, call drive.mount(\"/content/drive\", force_remount=True).\n"
          ]
        }
      ]
    },
    {
      "cell_type": "code",
      "source": [
        "#change cwd\n",
        "%cd drive/MyDrive/Work/Frontline/data"
      ],
      "metadata": {
        "id": "JZo05nte48yW"
      },
      "execution_count": null,
      "outputs": []
    },
    {
      "cell_type": "code",
      "source": [
        "# paths\n",
        "FILTERED_PATH=\"filtered_4_26\""
      ],
      "metadata": {
        "id": "bI87iJZopQK8"
      },
      "execution_count": 20,
      "outputs": []
    },
    {
      "cell_type": "code",
      "source": [
        "dfs = []\n",
        "\n",
        "# loop through files \n",
        "for filename in os.listdir(FILTERED_PATH):\n",
        "    # if csv file, load and add to dfs  \n",
        "    if filename.endswith(\".csv\"):\n",
        "        file_path = os.path.join(FILTERED_PATH, filename)\n",
        "        df = pd.read_csv(file_path, index_col=0, converters={\"text\":literal_eval})\n",
        "        dfs.append(df)\n",
        "\n",
        "# combine files in df\n",
        "df = pd.concat(dfs, ignore_index=True)"
      ],
      "metadata": {
        "id": "R0Bims7CWA4H"
      },
      "execution_count": 40,
      "outputs": []
    },
    {
      "cell_type": "markdown",
      "source": [
        "### Topic Modelling\n"
      ],
      "metadata": {
        "id": "gnp6TO19XUOC"
      }
    },
    {
      "cell_type": "markdown",
      "source": [
        "#### Prepare Data\n"
      ],
      "metadata": {
        "id": "x5W-YSNIWWeT"
      }
    },
    {
      "cell_type": "code",
      "source": [
        "# custom module\n",
        "import preprocessing"
      ],
      "metadata": {
        "id": "AWIDwI00zTLF"
      },
      "execution_count": 41,
      "outputs": []
    },
    {
      "cell_type": "code",
      "execution_count": 42,
      "metadata": {
        "id": "a91da867"
      },
      "outputs": [],
      "source": [
        "# Load model\n",
        "spacy_mod = spacy.load(\"de_core_news_lg\", disable=['ner', 'parser', 'tagger'])"
      ]
    },
    {
      "cell_type": "code",
      "source": [
        "# read custom stopwords\n",
        "\n",
        "# open list of custom stopwords\n",
        "custom_stop_words= open(\"custom_stopwords.txt\").read().split()\n",
        "\n",
        "# add custom stopwords to model\n",
        "for word in custom_stop_words:\n",
        "  spacy_mod.Defaults.stop_words.add(word)"
      ],
      "metadata": {
        "id": "JB_UeUu-t269"
      },
      "execution_count": 43,
      "outputs": []
    },
    {
      "cell_type": "code",
      "source": [
        "smaller_df=df.iloc[:10000,:]"
      ],
      "metadata": {
        "id": "WUHR2Qu4KB-y"
      },
      "execution_count": 45,
      "outputs": []
    },
    {
      "cell_type": "code",
      "execution_count": 46,
      "metadata": {
        "colab": {
          "base_uri": "https://localhost:8080/"
        },
        "id": "IZhcGtp_VdhH",
        "outputId": "80af5de7-191d-47f8-de92-4cf1d034bf68"
      },
      "outputs": [
        {
          "output_type": "stream",
          "name": "stderr",
          "text": [
            "10000it [05:41, 29.29it/s]\n"
          ]
        }
      ],
      "source": [
        "# convert corpus to language object\n",
        "spacy_lang = []\n",
        "for i, doc in tqdm(smaller_df.iterrows()): \n",
        "  spacy_lang.append(spacy_mod(\"\".join(doc['text'])))"
      ]
    },
    {
      "cell_type": "code",
      "source": [
        "# preprocess: remove stopwords\n",
        "spacy_cleaned = []\n",
        "for doc in tqdm(spacy_lang): \n",
        "    spacy_cleaned.append(preprocessing.preprocess(doc, remove_ent=True))"
      ],
      "metadata": {
        "colab": {
          "base_uri": "https://localhost:8080/"
        },
        "id": "VSbsu2D3XJDI",
        "outputId": "11a7b77c-1251-4d67-fb8c-a3ce75eb8a7d"
      },
      "execution_count": 47,
      "outputs": [
        {
          "output_type": "stream",
          "name": "stderr",
          "text": [
            "100%|██████████| 10000/10000 [00:05<00:00, 1721.74it/s]\n"
          ]
        }
      ]
    },
    {
      "cell_type": "markdown",
      "source": [
        "#### Topic Analysis"
      ],
      "metadata": {
        "id": "mPPO8L1BXgDR"
      }
    },
    {
      "cell_type": "code",
      "source": [
        "# Create Dictionary\n",
        "id2word = corpora.Dictionary(spacy_cleaned)\n",
        "\n",
        "# Create Corpus\n",
        "texts = spacy_cleaned\n",
        "\n",
        "# Term Document Frequency\n",
        "corpus = [id2word.doc2bow(text) for text in texts]"
      ],
      "metadata": {
        "id": "YimmnX9DXj05"
      },
      "execution_count": 48,
      "outputs": []
    },
    {
      "cell_type": "code",
      "source": [
        "# number of topics\n",
        "num_topics = 5\n",
        "# Build LDA model\n",
        "lda_model = gensim.models.LdaMulticore(corpus=corpus,id2word=id2word, num_topics=num_topics)\n",
        "# Print the key words for each topic\n",
        "pprint(lda_model.print_topics())\n",
        "doc_lda = lda_model[corpus]"
      ],
      "metadata": {
        "colab": {
          "base_uri": "https://localhost:8080/"
        },
        "id": "H_QskpU6XzBa",
        "outputId": "be05e9da-210e-4e94-95b7-b36381ac6c77"
      },
      "execution_count": 49,
      "outputs": [
        {
          "output_type": "stream",
          "name": "stderr",
          "text": [
            "WARNING:gensim.models.ldamulticore:too few updates, training might not converge; consider increasing the number of passes or iterations to improve accuracy\n"
          ]
        },
        {
          "output_type": "stream",
          "name": "stdout",
          "text": [
            "[(0,\n",
            "  '0.033*\"telefon\" + 0.012*\"gewalt\" + 0.011*\"bereitschaftsdienst\" + '\n",
            "  '0.009*\"frauen\" + 0.005*\"häuslicher\" + 0.005*\"menschen\" + 0.004*\"beratung\" + '\n",
            "  '0.004*\"prozent\" + 0.004*\"kinder\" + 0.003*\"sa\"'),\n",
            " (1,\n",
            "  '0.018*\"telefon\" + 0.006*\"polizei\" + 0.005*\"gewalt\" + 0.005*\"menschen\" + '\n",
            "  '0.005*\"frauen\" + 0.005*\"frau\" + 0.004*\"mann\" + 0.004*\"beratung\" + '\n",
            "  '0.003*\"leben\" + 0.003*\"kinder\"'),\n",
            " (2,\n",
            "  '0.053*\"bereitschaftsdienst\" + 0.033*\"do\" + 0.030*\"mi\" + 0.026*\"telefon\" + '\n",
            "  '0.026*\"gewalt\" + 0.021*\"häuslicher\" + 0.018*\"jugendtelefon\" + '\n",
            "  '0.018*\"entstörungsdienst\" + 0.017*\"interventionsstelle\" + 0.017*\"kummer\"'),\n",
            " (3,\n",
            "  '0.016*\"gewalt\" + 0.013*\"frauen\" + 0.007*\"polizei\" + 0.006*\"frau\" + '\n",
            "  '0.005*\"kinder\" + 0.005*\"opfer\" + 0.005*\"prozent\" + 0.005*\"häuslicher\" + '\n",
            "  '0.005*\"menschen\" + 0.004*\"mann\"'),\n",
            " (4,\n",
            "  '0.066*\"telefon\" + 0.016*\"bereitschaftsdienst\" + 0.011*\"mi\" + '\n",
            "  '0.008*\"beratung\" + 0.007*\"gewalt\" + 0.006*\"montag\" + 0.006*\"jugendtelefon\" '\n",
            "  '+ 0.006*\"sprechstunde\" + 0.005*\"freitag\" + 0.005*\"entstörungsdienst\"')]\n"
          ]
        }
      ]
    },
    {
      "cell_type": "code",
      "source": [
        "## VISUALiZATION NOT WORKING ##\n",
        "\n",
        "# import pyLDAvis\n",
        "# import pyLDAvis.gensim\n",
        "# import pickle \n",
        "# pyLDAvis.enable_notebook()\n",
        "# pyLDAvis.gensim.prepare(lda_model, corpus, id2word)"
      ],
      "metadata": {
        "id": "SJhc4baCakud"
      },
      "execution_count": 50,
      "outputs": []
    },
    {
      "cell_type": "markdown",
      "source": [
        "END OF CODE"
      ],
      "metadata": {
        "id": "_gpYl56fBjCO"
      }
    }
  ]
}